{
 "cells": [
  {
   "cell_type": "markdown",
   "metadata": {},
   "source": [
    "# 精排模型之LR\n",
    "逻辑回归模型(Logistic regression，LR)，又称对数几率模型。"
   ]
  },
  {
   "cell_type": "code",
   "execution_count": 7,
   "metadata": {},
   "outputs": [],
   "source": [
    "from math import exp\n",
    "import numpy as np\n",
    "import pandas as pd\n",
    "from sklearn.datasets import load_iris\n",
    "from sklearn.model_selection import train_test_split\n",
    "\n",
    "\n",
    "%matplotlib inline"
   ]
  },
  {
   "cell_type": "code",
   "execution_count": 8,
   "metadata": {},
   "outputs": [
    {
     "name": "stdout",
     "output_type": "stream",
     "text": [
      "Result:  0.018138089171351037\n",
      "LR_model(learning rate = 0.01, max_iter = 200)\n",
      "30\n"
     ]
    }
   ],
   "source": [
    "class LR_Classifer:\n",
    "    def __init__(self, max_iter=200, learning_rate=0.01):\n",
    "        self.max_iter = max_iter\n",
    "        self.learning_rate = learning_rate\n",
    "\n",
    "    def sigmoid(self, x):\n",
    "        return 1/(1 + exp(-x))\n",
    "\n",
    "    def dat_matrix(self, X):\n",
    "        data_mat = []\n",
    "        for d in X:\n",
    "            data_mat.append([1.0, *d])  # 追加数据到指定的列表当中\n",
    "\n",
    "        return data_mat\n",
    "\n",
    "    def fit(self, X, y):\n",
    "        data_mat = []\n",
    "        data_mat = self.dat_matrix(X)\n",
    "        # print(data_mat)\n",
    "        # print(len(data_mat[0]))\n",
    "        self.weights = np.zeros((len(data_mat[0]), 1), dtype=np.float32)\n",
    "        # print(self.weights)\n",
    "        for iter_ in range(self.max_iter):\n",
    "            for i in range(len(X)):\n",
    "                result = self.sigmoid(np.dot(data_mat[i], self.weights))\n",
    "\n",
    "                error = y[i] - result\n",
    "\n",
    "                self.weights += self.learning_rate * \\\n",
    "                    error * np.transpose([data_mat[i]])\n",
    "        print(\"Result: \", result)\n",
    "        print(\"LR_model(learning rate = {}, max_iter = {})\".format(\n",
    "            self.learning_rate, self.max_iter))\n",
    "\n",
    "    def score(self, X_test, y_test):\n",
    "\n",
    "        right = 0\n",
    "        X_test = self.dat_matrix(X_test)\n",
    "        print(len(X_test))\n",
    "        for x, y in zip(X_test, y_test):\n",
    "            result = np.dot(x, self.weights)\n",
    "            # print(result)\n",
    "            if (result > 0 and y == 1) or (result < 0 and y == 0):\n",
    "                right += 1\n",
    "\n",
    "        return right/len(X_test)\n",
    "# data\n",
    "\n",
    "\n",
    "def create_data():\n",
    "    iris = load_iris()\n",
    "    df = pd.DataFrame(iris.data, columns=iris.feature_names)\n",
    "    df['label'] = iris.target\n",
    "    df.columns = ['sepal length', 'sepal width',\n",
    "                  'petal length', 'petal width', 'label']\n",
    "    data = np.array(df.iloc[:100, [0, 1, -1]])\n",
    "    # print(data)\n",
    "    return data[:, :2], data[:, -1]\n",
    "\n",
    "\n",
    "if __name__ == \"__main__\":\n",
    "    X, y = create_data()\n",
    "    X_train, X_test, y_train, y_test = train_test_split(X, y, test_size=0.3)\n",
    "    lr_clf = LR_Classifer()\n",
    "    lr_clf.fit(X_train, y_train)\n",
    "    lr_clf.score(X_test, y_test)\n",
    "    lr_clf.weights"
   ]
  },
  {
   "cell_type": "markdown",
   "metadata": {},
   "source": [
    "## 参考\n",
    "[LR逻辑回归模型的原理、公式推导、Python实现和应用](https://zhuanlan.zhihu.com/p/151036015)"
   ]
  }
 ],
 "metadata": {
  "kernelspec": {
   "display_name": "Python 3",
   "language": "python",
   "name": "python3"
  },
  "language_info": {
   "codemirror_mode": {
    "name": "ipython",
    "version": 3
   },
   "file_extension": ".py",
   "mimetype": "text/x-python",
   "name": "python",
   "nbconvert_exporter": "python",
   "pygments_lexer": "ipython3",
   "version": "3.8.5"
  }
 },
 "nbformat": 4,
 "nbformat_minor": 4
}
