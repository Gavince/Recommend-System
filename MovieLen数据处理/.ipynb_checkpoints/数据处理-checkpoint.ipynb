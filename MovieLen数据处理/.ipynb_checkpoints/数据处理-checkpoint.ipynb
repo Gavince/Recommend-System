{
 "cells": [
  {
   "cell_type": "code",
   "execution_count": 58,
   "metadata": {},
   "outputs": [],
   "source": [
    "import pandas as pd\n",
    "import numpy as np\n",
    "import matplotlib.pyplot as plt\n",
    "import datetime\n",
    "import os \n"
   ]
  },
  {
   "cell_type": "markdown",
   "metadata": {},
   "source": [
    "# MovieLens数据处理"
   ]
  },
  {
   "cell_type": "markdown",
   "metadata": {},
   "source": [
    "## 数据读取"
   ]
  },
  {
   "cell_type": "code",
   "execution_count": 59,
   "metadata": {},
   "outputs": [
    {
     "name": "stdout",
     "output_type": "stream",
     "text": [
      "\u001b[01;34m.\u001b[00m\n",
      "├── \u001b[01;34mdata\u001b[00m\n",
      "│   ├── movies.dat\n",
      "│   ├── ratings.dat\n",
      "│   ├── README\n",
      "│   └── users.dat\n",
      "├── \u001b[01;34mimgs\u001b[00m\n",
      "└── 数据处理.ipynb\n",
      "\n",
      "2 directories, 5 files\n"
     ]
    }
   ],
   "source": [
    "!tree "
   ]
  },
  {
   "cell_type": "code",
   "execution_count": 60,
   "metadata": {},
   "outputs": [
    {
     "data": {
      "text/html": [
       "<div>\n",
       "<style scoped>\n",
       "    .dataframe tbody tr th:only-of-type {\n",
       "        vertical-align: middle;\n",
       "    }\n",
       "\n",
       "    .dataframe tbody tr th {\n",
       "        vertical-align: top;\n",
       "    }\n",
       "\n",
       "    .dataframe thead th {\n",
       "        text-align: right;\n",
       "    }\n",
       "</style>\n",
       "<table border=\"1\" class=\"dataframe\">\n",
       "  <thead>\n",
       "    <tr style=\"text-align: right;\">\n",
       "      <th></th>\n",
       "      <th>movie_id</th>\n",
       "      <th>title</th>\n",
       "      <th>genres</th>\n",
       "    </tr>\n",
       "  </thead>\n",
       "  <tbody>\n",
       "    <tr>\n",
       "      <th>0</th>\n",
       "      <td>1</td>\n",
       "      <td>Toy Story (1995)</td>\n",
       "      <td>Animation|Children's|Comedy</td>\n",
       "    </tr>\n",
       "    <tr>\n",
       "      <th>1</th>\n",
       "      <td>2</td>\n",
       "      <td>Jumanji (1995)</td>\n",
       "      <td>Adventure|Children's|Fantasy</td>\n",
       "    </tr>\n",
       "    <tr>\n",
       "      <th>2</th>\n",
       "      <td>3</td>\n",
       "      <td>Grumpier Old Men (1995)</td>\n",
       "      <td>Comedy|Romance</td>\n",
       "    </tr>\n",
       "    <tr>\n",
       "      <th>3</th>\n",
       "      <td>4</td>\n",
       "      <td>Waiting to Exhale (1995)</td>\n",
       "      <td>Comedy|Drama</td>\n",
       "    </tr>\n",
       "    <tr>\n",
       "      <th>4</th>\n",
       "      <td>5</td>\n",
       "      <td>Father of the Bride Part II (1995)</td>\n",
       "      <td>Comedy</td>\n",
       "    </tr>\n",
       "  </tbody>\n",
       "</table>\n",
       "</div>"
      ],
      "text/plain": [
       "   movie_id                               title                        genres\n",
       "0         1                    Toy Story (1995)   Animation|Children's|Comedy\n",
       "1         2                      Jumanji (1995)  Adventure|Children's|Fantasy\n",
       "2         3             Grumpier Old Men (1995)                Comedy|Romance\n",
       "3         4            Waiting to Exhale (1995)                  Comedy|Drama\n",
       "4         5  Father of the Bride Part II (1995)                        Comedy"
      ]
     },
     "execution_count": 60,
     "metadata": {},
     "output_type": "execute_result"
    }
   ],
   "source": [
    "movies = pd.read_table(\"./data/movies.dat\", sep=\"::\", engine=\"python\"\n",
    "                       , header=None\n",
    "                       , names=[\"movie_id\", \"title\", \"genres\"]\n",
    "                      )\n",
    "movies.head()"
   ]
  },
  {
   "cell_type": "code",
   "execution_count": 61,
   "metadata": {},
   "outputs": [
    {
     "name": "stdout",
     "output_type": "stream",
     "text": [
      "<class 'pandas.core.frame.DataFrame'>\n",
      "RangeIndex: 3883 entries, 0 to 3882\n",
      "Data columns (total 3 columns):\n",
      " #   Column    Non-Null Count  Dtype \n",
      "---  ------    --------------  ----- \n",
      " 0   movie_id  3883 non-null   int64 \n",
      " 1   title     3883 non-null   object\n",
      " 2   genres    3883 non-null   object\n",
      "dtypes: int64(1), object(2)\n",
      "memory usage: 91.1+ KB\n"
     ]
    }
   ],
   "source": [
    "# 有三千多部电影\n",
    "movies.info()"
   ]
  },
  {
   "cell_type": "code",
   "execution_count": 62,
   "metadata": {},
   "outputs": [
    {
     "data": {
      "text/html": [
       "<div>\n",
       "<style scoped>\n",
       "    .dataframe tbody tr th:only-of-type {\n",
       "        vertical-align: middle;\n",
       "    }\n",
       "\n",
       "    .dataframe tbody tr th {\n",
       "        vertical-align: top;\n",
       "    }\n",
       "\n",
       "    .dataframe thead th {\n",
       "        text-align: right;\n",
       "    }\n",
       "</style>\n",
       "<table border=\"1\" class=\"dataframe\">\n",
       "  <thead>\n",
       "    <tr style=\"text-align: right;\">\n",
       "      <th></th>\n",
       "      <th>user_id</th>\n",
       "      <th>gender</th>\n",
       "      <th>age</th>\n",
       "      <th>occupation</th>\n",
       "      <th>zip</th>\n",
       "    </tr>\n",
       "  </thead>\n",
       "  <tbody>\n",
       "    <tr>\n",
       "      <th>0</th>\n",
       "      <td>1</td>\n",
       "      <td>F</td>\n",
       "      <td>1</td>\n",
       "      <td>10</td>\n",
       "      <td>48067</td>\n",
       "    </tr>\n",
       "    <tr>\n",
       "      <th>1</th>\n",
       "      <td>2</td>\n",
       "      <td>M</td>\n",
       "      <td>56</td>\n",
       "      <td>16</td>\n",
       "      <td>70072</td>\n",
       "    </tr>\n",
       "    <tr>\n",
       "      <th>2</th>\n",
       "      <td>3</td>\n",
       "      <td>M</td>\n",
       "      <td>25</td>\n",
       "      <td>15</td>\n",
       "      <td>55117</td>\n",
       "    </tr>\n",
       "    <tr>\n",
       "      <th>3</th>\n",
       "      <td>4</td>\n",
       "      <td>M</td>\n",
       "      <td>45</td>\n",
       "      <td>7</td>\n",
       "      <td>02460</td>\n",
       "    </tr>\n",
       "    <tr>\n",
       "      <th>4</th>\n",
       "      <td>5</td>\n",
       "      <td>M</td>\n",
       "      <td>25</td>\n",
       "      <td>20</td>\n",
       "      <td>55455</td>\n",
       "    </tr>\n",
       "  </tbody>\n",
       "</table>\n",
       "</div>"
      ],
      "text/plain": [
       "   user_id gender  age  occupation    zip\n",
       "0        1      F    1          10  48067\n",
       "1        2      M   56          16  70072\n",
       "2        3      M   25          15  55117\n",
       "3        4      M   45           7  02460\n",
       "4        5      M   25          20  55455"
      ]
     },
     "execution_count": 62,
     "metadata": {},
     "output_type": "execute_result"
    }
   ],
   "source": [
    "users = pd.read_table(\"./data/users.dat\", sep=\"::\", engine=\"python\"\n",
    "                      , header=None\n",
    "                      , names=[\"user_id\", \"gender\", \"age\", \"occupation\", \"zip\"]\n",
    "                     )\n",
    "users.head()"
   ]
  },
  {
   "cell_type": "code",
   "execution_count": 63,
   "metadata": {},
   "outputs": [
    {
     "name": "stdout",
     "output_type": "stream",
     "text": [
      "<class 'pandas.core.frame.DataFrame'>\n",
      "RangeIndex: 6040 entries, 0 to 6039\n",
      "Data columns (total 5 columns):\n",
      " #   Column      Non-Null Count  Dtype \n",
      "---  ------      --------------  ----- \n",
      " 0   user_id     6040 non-null   int64 \n",
      " 1   gender      6040 non-null   object\n",
      " 2   age         6040 non-null   int64 \n",
      " 3   occupation  6040 non-null   int64 \n",
      " 4   zip         6040 non-null   object\n",
      "dtypes: int64(3), object(2)\n",
      "memory usage: 236.1+ KB\n"
     ]
    }
   ],
   "source": [
    "# 共有六千多用户\n",
    "users.info()"
   ]
  },
  {
   "cell_type": "code",
   "execution_count": 64,
   "metadata": {},
   "outputs": [
    {
     "data": {
      "text/html": [
       "<div>\n",
       "<style scoped>\n",
       "    .dataframe tbody tr th:only-of-type {\n",
       "        vertical-align: middle;\n",
       "    }\n",
       "\n",
       "    .dataframe tbody tr th {\n",
       "        vertical-align: top;\n",
       "    }\n",
       "\n",
       "    .dataframe thead th {\n",
       "        text-align: right;\n",
       "    }\n",
       "</style>\n",
       "<table border=\"1\" class=\"dataframe\">\n",
       "  <thead>\n",
       "    <tr style=\"text-align: right;\">\n",
       "      <th></th>\n",
       "      <th>user_id</th>\n",
       "      <th>movie_id</th>\n",
       "      <th>rating</th>\n",
       "      <th>timestamp</th>\n",
       "    </tr>\n",
       "  </thead>\n",
       "  <tbody>\n",
       "    <tr>\n",
       "      <th>0</th>\n",
       "      <td>1</td>\n",
       "      <td>1193</td>\n",
       "      <td>5</td>\n",
       "      <td>978300760</td>\n",
       "    </tr>\n",
       "    <tr>\n",
       "      <th>1</th>\n",
       "      <td>1</td>\n",
       "      <td>661</td>\n",
       "      <td>3</td>\n",
       "      <td>978302109</td>\n",
       "    </tr>\n",
       "    <tr>\n",
       "      <th>2</th>\n",
       "      <td>1</td>\n",
       "      <td>914</td>\n",
       "      <td>3</td>\n",
       "      <td>978301968</td>\n",
       "    </tr>\n",
       "    <tr>\n",
       "      <th>3</th>\n",
       "      <td>1</td>\n",
       "      <td>3408</td>\n",
       "      <td>4</td>\n",
       "      <td>978300275</td>\n",
       "    </tr>\n",
       "    <tr>\n",
       "      <th>4</th>\n",
       "      <td>1</td>\n",
       "      <td>2355</td>\n",
       "      <td>5</td>\n",
       "      <td>978824291</td>\n",
       "    </tr>\n",
       "  </tbody>\n",
       "</table>\n",
       "</div>"
      ],
      "text/plain": [
       "   user_id  movie_id  rating  timestamp\n",
       "0        1      1193       5  978300760\n",
       "1        1       661       3  978302109\n",
       "2        1       914       3  978301968\n",
       "3        1      3408       4  978300275\n",
       "4        1      2355       5  978824291"
      ]
     },
     "execution_count": 64,
     "metadata": {},
     "output_type": "execute_result"
    }
   ],
   "source": [
    "ratings = pd.read_table(\"./data/ratings.dat\", sep=\"::\", engine=\"python\"\n",
    "                        , header=None\n",
    "                        , names=[\"user_id\", \"movie_id\", \"rating\", \"timestamp\"]\n",
    "                       )\n",
    "ratings.head()"
   ]
  },
  {
   "cell_type": "code",
   "execution_count": 161,
   "metadata": {},
   "outputs": [
    {
     "name": "stdout",
     "output_type": "stream",
     "text": [
      "<class 'pandas.core.frame.DataFrame'>\n",
      "RangeIndex: 1000209 entries, 0 to 1000208\n",
      "Data columns (total 4 columns):\n",
      " #   Column     Non-Null Count    Dtype\n",
      "---  ------     --------------    -----\n",
      " 0   user_id    1000209 non-null  int64\n",
      " 1   movie_id   1000209 non-null  int64\n",
      " 2   rating     1000209 non-null  int64\n",
      " 3   timestamp  1000209 non-null  int64\n",
      "dtypes: int64(4)\n",
      "memory usage: 30.5 MB\n"
     ]
    }
   ],
   "source": [
    "# 一百万的评分记录日志\n",
    "ratings.info()"
   ]
  },
  {
   "cell_type": "code",
   "execution_count": 217,
   "metadata": {},
   "outputs": [
    {
     "data": {
      "text/html": [
       "<div>\n",
       "<style scoped>\n",
       "    .dataframe tbody tr th:only-of-type {\n",
       "        vertical-align: middle;\n",
       "    }\n",
       "\n",
       "    .dataframe tbody tr th {\n",
       "        vertical-align: top;\n",
       "    }\n",
       "\n",
       "    .dataframe thead th {\n",
       "        text-align: right;\n",
       "    }\n",
       "</style>\n",
       "<table border=\"1\" class=\"dataframe\">\n",
       "  <thead>\n",
       "    <tr style=\"text-align: right;\">\n",
       "      <th></th>\n",
       "      <th>user_id</th>\n",
       "      <th>movie_id</th>\n",
       "      <th>rating</th>\n",
       "      <th>timestamp</th>\n",
       "      <th>gender</th>\n",
       "      <th>age</th>\n",
       "      <th>occupation</th>\n",
       "      <th>zip</th>\n",
       "      <th>title</th>\n",
       "      <th>genres</th>\n",
       "    </tr>\n",
       "  </thead>\n",
       "  <tbody>\n",
       "    <tr>\n",
       "      <th>0</th>\n",
       "      <td>1</td>\n",
       "      <td>1193</td>\n",
       "      <td>5</td>\n",
       "      <td>978300760</td>\n",
       "      <td>F</td>\n",
       "      <td>1</td>\n",
       "      <td>10</td>\n",
       "      <td>48067</td>\n",
       "      <td>One Flew Over the Cuckoo's Nest (1975)</td>\n",
       "      <td>Drama</td>\n",
       "    </tr>\n",
       "    <tr>\n",
       "      <th>1</th>\n",
       "      <td>2</td>\n",
       "      <td>1193</td>\n",
       "      <td>5</td>\n",
       "      <td>978298413</td>\n",
       "      <td>M</td>\n",
       "      <td>56</td>\n",
       "      <td>16</td>\n",
       "      <td>70072</td>\n",
       "      <td>One Flew Over the Cuckoo's Nest (1975)</td>\n",
       "      <td>Drama</td>\n",
       "    </tr>\n",
       "    <tr>\n",
       "      <th>2</th>\n",
       "      <td>12</td>\n",
       "      <td>1193</td>\n",
       "      <td>4</td>\n",
       "      <td>978220179</td>\n",
       "      <td>M</td>\n",
       "      <td>25</td>\n",
       "      <td>12</td>\n",
       "      <td>32793</td>\n",
       "      <td>One Flew Over the Cuckoo's Nest (1975)</td>\n",
       "      <td>Drama</td>\n",
       "    </tr>\n",
       "    <tr>\n",
       "      <th>3</th>\n",
       "      <td>15</td>\n",
       "      <td>1193</td>\n",
       "      <td>4</td>\n",
       "      <td>978199279</td>\n",
       "      <td>M</td>\n",
       "      <td>25</td>\n",
       "      <td>7</td>\n",
       "      <td>22903</td>\n",
       "      <td>One Flew Over the Cuckoo's Nest (1975)</td>\n",
       "      <td>Drama</td>\n",
       "    </tr>\n",
       "    <tr>\n",
       "      <th>4</th>\n",
       "      <td>17</td>\n",
       "      <td>1193</td>\n",
       "      <td>5</td>\n",
       "      <td>978158471</td>\n",
       "      <td>M</td>\n",
       "      <td>50</td>\n",
       "      <td>1</td>\n",
       "      <td>95350</td>\n",
       "      <td>One Flew Over the Cuckoo's Nest (1975)</td>\n",
       "      <td>Drama</td>\n",
       "    </tr>\n",
       "  </tbody>\n",
       "</table>\n",
       "</div>"
      ],
      "text/plain": [
       "   user_id  movie_id  rating  timestamp gender  age  occupation    zip  \\\n",
       "0        1      1193       5  978300760      F    1          10  48067   \n",
       "1        2      1193       5  978298413      M   56          16  70072   \n",
       "2       12      1193       4  978220179      M   25          12  32793   \n",
       "3       15      1193       4  978199279      M   25           7  22903   \n",
       "4       17      1193       5  978158471      M   50           1  95350   \n",
       "\n",
       "                                    title genres  \n",
       "0  One Flew Over the Cuckoo's Nest (1975)  Drama  \n",
       "1  One Flew Over the Cuckoo's Nest (1975)  Drama  \n",
       "2  One Flew Over the Cuckoo's Nest (1975)  Drama  \n",
       "3  One Flew Over the Cuckoo's Nest (1975)  Drama  \n",
       "4  One Flew Over the Cuckoo's Nest (1975)  Drama  "
      ]
     },
     "execution_count": 217,
     "metadata": {},
     "output_type": "execute_result"
    }
   ],
   "source": [
    "# 合并所有数据\n",
    "all_data = pd.merge(pd.merge(ratings, users), movies, on=\"movie_id\")\n",
    "all_data.head()"
   ]
  },
  {
   "cell_type": "code",
   "execution_count": 218,
   "metadata": {},
   "outputs": [
    {
     "data": {
      "text/html": [
       "<div>\n",
       "<style scoped>\n",
       "    .dataframe tbody tr th:only-of-type {\n",
       "        vertical-align: middle;\n",
       "    }\n",
       "\n",
       "    .dataframe tbody tr th {\n",
       "        vertical-align: top;\n",
       "    }\n",
       "\n",
       "    .dataframe thead th {\n",
       "        text-align: right;\n",
       "    }\n",
       "</style>\n",
       "<table border=\"1\" class=\"dataframe\">\n",
       "  <thead>\n",
       "    <tr style=\"text-align: right;\">\n",
       "      <th></th>\n",
       "      <th>user_id</th>\n",
       "      <th>movie_id</th>\n",
       "      <th>rating</th>\n",
       "      <th>timestamp</th>\n",
       "      <th>gender</th>\n",
       "      <th>age</th>\n",
       "      <th>occupation</th>\n",
       "      <th>zip</th>\n",
       "      <th>title</th>\n",
       "      <th>genres</th>\n",
       "    </tr>\n",
       "  </thead>\n",
       "  <tbody>\n",
       "    <tr>\n",
       "      <th>34073</th>\n",
       "      <td>1</td>\n",
       "      <td>3186</td>\n",
       "      <td>4</td>\n",
       "      <td>978300019</td>\n",
       "      <td>F</td>\n",
       "      <td>1</td>\n",
       "      <td>10</td>\n",
       "      <td>48067</td>\n",
       "      <td>Girl, Interrupted (1999)</td>\n",
       "      <td>Drama</td>\n",
       "    </tr>\n",
       "    <tr>\n",
       "      <th>23270</th>\n",
       "      <td>1</td>\n",
       "      <td>1270</td>\n",
       "      <td>5</td>\n",
       "      <td>978300055</td>\n",
       "      <td>F</td>\n",
       "      <td>1</td>\n",
       "      <td>10</td>\n",
       "      <td>48067</td>\n",
       "      <td>Back to the Future (1985)</td>\n",
       "      <td>Comedy|Sci-Fi</td>\n",
       "    </tr>\n",
       "    <tr>\n",
       "      <th>31152</th>\n",
       "      <td>1</td>\n",
       "      <td>1721</td>\n",
       "      <td>4</td>\n",
       "      <td>978300055</td>\n",
       "      <td>F</td>\n",
       "      <td>1</td>\n",
       "      <td>10</td>\n",
       "      <td>48067</td>\n",
       "      <td>Titanic (1997)</td>\n",
       "      <td>Drama|Romance</td>\n",
       "    </tr>\n",
       "    <tr>\n",
       "      <th>37339</th>\n",
       "      <td>1</td>\n",
       "      <td>1022</td>\n",
       "      <td>5</td>\n",
       "      <td>978300055</td>\n",
       "      <td>F</td>\n",
       "      <td>1</td>\n",
       "      <td>10</td>\n",
       "      <td>48067</td>\n",
       "      <td>Cinderella (1950)</td>\n",
       "      <td>Animation|Children's|Musical</td>\n",
       "    </tr>\n",
       "    <tr>\n",
       "      <th>28157</th>\n",
       "      <td>1</td>\n",
       "      <td>2340</td>\n",
       "      <td>3</td>\n",
       "      <td>978300103</td>\n",
       "      <td>F</td>\n",
       "      <td>1</td>\n",
       "      <td>10</td>\n",
       "      <td>48067</td>\n",
       "      <td>Meet Joe Black (1998)</td>\n",
       "      <td>Romance</td>\n",
       "    </tr>\n",
       "  </tbody>\n",
       "</table>\n",
       "</div>"
      ],
      "text/plain": [
       "       user_id  movie_id  rating  timestamp gender  age  occupation    zip  \\\n",
       "34073        1      3186       4  978300019      F    1          10  48067   \n",
       "23270        1      1270       5  978300055      F    1          10  48067   \n",
       "31152        1      1721       4  978300055      F    1          10  48067   \n",
       "37339        1      1022       5  978300055      F    1          10  48067   \n",
       "28157        1      2340       3  978300103      F    1          10  48067   \n",
       "\n",
       "                           title                        genres  \n",
       "34073   Girl, Interrupted (1999)                         Drama  \n",
       "23270  Back to the Future (1985)                 Comedy|Sci-Fi  \n",
       "31152             Titanic (1997)                 Drama|Romance  \n",
       "37339          Cinderella (1950)  Animation|Children's|Musical  \n",
       "28157      Meet Joe Black (1998)                       Romance  "
      ]
     },
     "execution_count": 218,
     "metadata": {},
     "output_type": "execute_result"
    }
   ],
   "source": [
    "# 每一位用户的点击，按照时间顺序排列\n",
    "all_data = all_data.sort_values(by=[\"user_id\", \"timestamp\"])\n",
    "all_data.head()"
   ]
  },
  {
   "cell_type": "code",
   "execution_count": 219,
   "metadata": {},
   "outputs": [],
   "source": [
    "# 各个字段的可能的取值\n",
    "def get_feat_nunique(df):\n",
    "\n",
    "    feat_nunique = {}\n",
    "    for name in df.columns:\n",
    "        try:\n",
    "            feat_nunique[name] = df[name].nunique()\n",
    "        except:\n",
    "            print(name + \"不支持统计！\")\n",
    "    \n",
    "    return pd.DataFrame(feat_nunique, index=[\"nunique\"])  "
   ]
  },
  {
   "cell_type": "code",
   "execution_count": 220,
   "metadata": {},
   "outputs": [
    {
     "data": {
      "text/html": [
       "<div>\n",
       "<style scoped>\n",
       "    .dataframe tbody tr th:only-of-type {\n",
       "        vertical-align: middle;\n",
       "    }\n",
       "\n",
       "    .dataframe tbody tr th {\n",
       "        vertical-align: top;\n",
       "    }\n",
       "\n",
       "    .dataframe thead th {\n",
       "        text-align: right;\n",
       "    }\n",
       "</style>\n",
       "<table border=\"1\" class=\"dataframe\">\n",
       "  <thead>\n",
       "    <tr style=\"text-align: right;\">\n",
       "      <th></th>\n",
       "      <th>user_id</th>\n",
       "      <th>movie_id</th>\n",
       "      <th>rating</th>\n",
       "      <th>timestamp</th>\n",
       "      <th>gender</th>\n",
       "      <th>age</th>\n",
       "      <th>occupation</th>\n",
       "      <th>zip</th>\n",
       "      <th>title</th>\n",
       "      <th>genres</th>\n",
       "    </tr>\n",
       "  </thead>\n",
       "  <tbody>\n",
       "    <tr>\n",
       "      <th>nunique</th>\n",
       "      <td>6040</td>\n",
       "      <td>3706</td>\n",
       "      <td>5</td>\n",
       "      <td>458455</td>\n",
       "      <td>2</td>\n",
       "      <td>7</td>\n",
       "      <td>21</td>\n",
       "      <td>3439</td>\n",
       "      <td>3706</td>\n",
       "      <td>301</td>\n",
       "    </tr>\n",
       "  </tbody>\n",
       "</table>\n",
       "</div>"
      ],
      "text/plain": [
       "         user_id  movie_id  rating  timestamp  gender  age  occupation   zip  \\\n",
       "nunique     6040      3706       5     458455       2    7          21  3439   \n",
       "\n",
       "         title  genres  \n",
       "nunique   3706     301  "
      ]
     },
     "execution_count": 220,
     "metadata": {},
     "output_type": "execute_result"
    }
   ],
   "source": [
    "get_feat_nunique(all_data).head()"
   ]
  },
  {
   "cell_type": "code",
   "execution_count": 236,
   "metadata": {},
   "outputs": [],
   "source": [
    "## 离散数据：LabEncoder, 连续数据：MinMaxScalar\n",
    "from sklearn.preprocessing import LabelEncoder\n",
    "from sklearn.preprocessing import MinMaxScaler\n",
    "from random import sample"
   ]
  },
  {
   "cell_type": "code",
   "execution_count": 222,
   "metadata": {},
   "outputs": [],
   "source": [
    "# 连续\n",
    "dense_feats = [\"timestamp\"]\n",
    "MMS = MinMaxScaler()\n",
    "for name in dense_feats:\n",
    "    all_data[name] = MMS.fit_transform(all_data[[name]])"
   ]
  },
  {
   "cell_type": "code",
   "execution_count": 223,
   "metadata": {},
   "outputs": [
    {
     "name": "stderr",
     "output_type": "stream",
     "text": [
      "/home/gavin/anaconda3/lib/python3.8/site-packages/sklearn/utils/validation.py:63: DataConversionWarning: A column-vector y was passed when a 1d array was expected. Please change the shape of y to (n_samples, ), for example using ravel().\n",
      "  return f(*args, **kwargs)\n"
     ]
    }
   ],
   "source": [
    "# 离散\n",
    "spase_feats = [\"user_id\", \"movie_id\", \"gender\", \"age\", \"occupation\", \"zip\"]\n",
    "LE = LabelEncoder()\n",
    "for name in spase_feats:\n",
    "    all_data[name] = LE.fit_transform(all_data[[name]])"
   ]
  },
  {
   "cell_type": "code",
   "execution_count": 225,
   "metadata": {},
   "outputs": [],
   "source": [
    "# 获取用户历史观看视频\n",
    "def get_user_hist_beavior(df):\n",
    "    \"\"\"\n",
    "    df: 用户数据\n",
    "    \"\"\"\n",
    "    \n",
    "    user_hist_data = pd.DataFrame(df.groupby(\"user_id\")[\"movie_id\"].agg({list})[\"list\"].map(lambda x: x[-50:])).reset_index()\n",
    "    user_hist_data[\"hist_len\"] = user_hist_data[\"list\"].map(lambda x: len(x))\n",
    "    user_hist_data[\"seq_length\"] = user_hist_data[\"hist_len\"].map(lambda x: x)\n",
    "    user_hist_data.rename(columns = {\"list\": \"hist_movie_id\"}, inplace = True)\n",
    "    df = df.merge(user_hist_data, how=\"left\", on=\"user_id\")\n",
    "    \n",
    "    return df"
   ]
  },
  {
   "cell_type": "code",
   "execution_count": 226,
   "metadata": {},
   "outputs": [
    {
     "data": {
      "text/html": [
       "<div>\n",
       "<style scoped>\n",
       "    .dataframe tbody tr th:only-of-type {\n",
       "        vertical-align: middle;\n",
       "    }\n",
       "\n",
       "    .dataframe tbody tr th {\n",
       "        vertical-align: top;\n",
       "    }\n",
       "\n",
       "    .dataframe thead th {\n",
       "        text-align: right;\n",
       "    }\n",
       "</style>\n",
       "<table border=\"1\" class=\"dataframe\">\n",
       "  <thead>\n",
       "    <tr style=\"text-align: right;\">\n",
       "      <th></th>\n",
       "      <th>user_id</th>\n",
       "      <th>movie_id</th>\n",
       "      <th>rating</th>\n",
       "      <th>timestamp</th>\n",
       "      <th>gender</th>\n",
       "      <th>age</th>\n",
       "      <th>occupation</th>\n",
       "      <th>zip</th>\n",
       "      <th>title</th>\n",
       "      <th>genres</th>\n",
       "      <th>hist_movie_id</th>\n",
       "      <th>hist_len</th>\n",
       "      <th>seq_length</th>\n",
       "    </tr>\n",
       "  </thead>\n",
       "  <tbody>\n",
       "    <tr>\n",
       "      <th>0</th>\n",
       "      <td>0</td>\n",
       "      <td>2969</td>\n",
       "      <td>4</td>\n",
       "      <td>0.240623</td>\n",
       "      <td>0</td>\n",
       "      <td>0</td>\n",
       "      <td>10</td>\n",
       "      <td>1588</td>\n",
       "      <td>Girl, Interrupted (1999)</td>\n",
       "      <td>Drama</td>\n",
       "      <td>[957, 2147, 1658, 3177, 2599, 1117, 1104, 689,...</td>\n",
       "      <td>50</td>\n",
       "      <td>50</td>\n",
       "    </tr>\n",
       "    <tr>\n",
       "      <th>1</th>\n",
       "      <td>0</td>\n",
       "      <td>1178</td>\n",
       "      <td>5</td>\n",
       "      <td>0.240624</td>\n",
       "      <td>0</td>\n",
       "      <td>0</td>\n",
       "      <td>10</td>\n",
       "      <td>1588</td>\n",
       "      <td>Back to the Future (1985)</td>\n",
       "      <td>Comedy|Sci-Fi</td>\n",
       "      <td>[957, 2147, 1658, 3177, 2599, 1117, 1104, 689,...</td>\n",
       "      <td>50</td>\n",
       "      <td>50</td>\n",
       "    </tr>\n",
       "    <tr>\n",
       "      <th>2</th>\n",
       "      <td>0</td>\n",
       "      <td>1574</td>\n",
       "      <td>4</td>\n",
       "      <td>0.240624</td>\n",
       "      <td>0</td>\n",
       "      <td>0</td>\n",
       "      <td>10</td>\n",
       "      <td>1588</td>\n",
       "      <td>Titanic (1997)</td>\n",
       "      <td>Drama|Romance</td>\n",
       "      <td>[957, 2147, 1658, 3177, 2599, 1117, 1104, 689,...</td>\n",
       "      <td>50</td>\n",
       "      <td>50</td>\n",
       "    </tr>\n",
       "    <tr>\n",
       "      <th>3</th>\n",
       "      <td>0</td>\n",
       "      <td>957</td>\n",
       "      <td>5</td>\n",
       "      <td>0.240624</td>\n",
       "      <td>0</td>\n",
       "      <td>0</td>\n",
       "      <td>10</td>\n",
       "      <td>1588</td>\n",
       "      <td>Cinderella (1950)</td>\n",
       "      <td>Animation|Children's|Musical</td>\n",
       "      <td>[957, 2147, 1658, 3177, 2599, 1117, 1104, 689,...</td>\n",
       "      <td>50</td>\n",
       "      <td>50</td>\n",
       "    </tr>\n",
       "    <tr>\n",
       "      <th>4</th>\n",
       "      <td>0</td>\n",
       "      <td>2147</td>\n",
       "      <td>3</td>\n",
       "      <td>0.240624</td>\n",
       "      <td>0</td>\n",
       "      <td>0</td>\n",
       "      <td>10</td>\n",
       "      <td>1588</td>\n",
       "      <td>Meet Joe Black (1998)</td>\n",
       "      <td>Romance</td>\n",
       "      <td>[957, 2147, 1658, 3177, 2599, 1117, 1104, 689,...</td>\n",
       "      <td>50</td>\n",
       "      <td>50</td>\n",
       "    </tr>\n",
       "  </tbody>\n",
       "</table>\n",
       "</div>"
      ],
      "text/plain": [
       "   user_id  movie_id  rating  timestamp  gender  age  occupation   zip  \\\n",
       "0        0      2969       4   0.240623       0    0          10  1588   \n",
       "1        0      1178       5   0.240624       0    0          10  1588   \n",
       "2        0      1574       4   0.240624       0    0          10  1588   \n",
       "3        0       957       5   0.240624       0    0          10  1588   \n",
       "4        0      2147       3   0.240624       0    0          10  1588   \n",
       "\n",
       "                       title                        genres  \\\n",
       "0   Girl, Interrupted (1999)                         Drama   \n",
       "1  Back to the Future (1985)                 Comedy|Sci-Fi   \n",
       "2             Titanic (1997)                 Drama|Romance   \n",
       "3          Cinderella (1950)  Animation|Children's|Musical   \n",
       "4      Meet Joe Black (1998)                       Romance   \n",
       "\n",
       "                                       hist_movie_id  hist_len  seq_length  \n",
       "0  [957, 2147, 1658, 3177, 2599, 1117, 1104, 689,...        50          50  \n",
       "1  [957, 2147, 1658, 3177, 2599, 1117, 1104, 689,...        50          50  \n",
       "2  [957, 2147, 1658, 3177, 2599, 1117, 1104, 689,...        50          50  \n",
       "3  [957, 2147, 1658, 3177, 2599, 1117, 1104, 689,...        50          50  \n",
       "4  [957, 2147, 1658, 3177, 2599, 1117, 1104, 689,...        50          50  "
      ]
     },
     "execution_count": 226,
     "metadata": {},
     "output_type": "execute_result"
    }
   ],
   "source": [
    "all_data = get_user_hist_beavior(df=all_data)\n",
    "all_data.head()"
   ]
  },
  {
   "cell_type": "code",
   "execution_count": 239,
   "metadata": {},
   "outputs": [],
   "source": [
    "def get_neg_click(data_df, neg_num = 0):\n",
    "    \"\"\"\n",
    "    负采样, 1:1 正负样本采样\n",
    "    data_df: 数据集\n",
    "    neg_num: 负样本个数\n",
    "    \"\"\"\n",
    "    \n",
    "    movies_np = data_df[\"hist_movie_id\"].values\n",
    "    movies_list =[]\n",
    "    for movie in movies_np:\n",
    "        movies_list.extend(movie)\n",
    "    \n",
    "    # 去重\n",
    "    movies_set = set(movies_list)\n",
    "    neg_movies_list = []\n",
    "    \n",
    "    for movies in movies_np:\n",
    "        hist_movies = set(movie)\n",
    "        #　用户未点击的样本作为负样本\n",
    "        neg_movies_set = movies_set - hist_movies\n",
    "        # 采样指定个数的负样本（保证和用户序列长度相同）\n",
    "        neg_movies = sample(neg_movies_set, neg_num)\n",
    "        neg_movies_list.append(list(neg_movies))\n",
    "    \n",
    "    return pd.Series(neg_movies_list)"
   ]
  },
  {
   "cell_type": "code",
   "execution_count": 240,
   "metadata": {},
   "outputs": [
    {
     "data": {
      "text/html": [
       "<div>\n",
       "<style scoped>\n",
       "    .dataframe tbody tr th:only-of-type {\n",
       "        vertical-align: middle;\n",
       "    }\n",
       "\n",
       "    .dataframe tbody tr th {\n",
       "        vertical-align: top;\n",
       "    }\n",
       "\n",
       "    .dataframe thead th {\n",
       "        text-align: right;\n",
       "    }\n",
       "</style>\n",
       "<table border=\"1\" class=\"dataframe\">\n",
       "  <thead>\n",
       "    <tr style=\"text-align: right;\">\n",
       "      <th></th>\n",
       "      <th>user_id</th>\n",
       "      <th>movie_id</th>\n",
       "      <th>rating</th>\n",
       "      <th>timestamp</th>\n",
       "      <th>gender</th>\n",
       "      <th>age</th>\n",
       "      <th>occupation</th>\n",
       "      <th>zip</th>\n",
       "      <th>title</th>\n",
       "      <th>genres</th>\n",
       "      <th>hist_movie_id</th>\n",
       "      <th>hist_len</th>\n",
       "      <th>seq_length</th>\n",
       "      <th>neg_hist_movie_id</th>\n",
       "    </tr>\n",
       "  </thead>\n",
       "  <tbody>\n",
       "    <tr>\n",
       "      <th>0</th>\n",
       "      <td>0</td>\n",
       "      <td>2969</td>\n",
       "      <td>4</td>\n",
       "      <td>0.240623</td>\n",
       "      <td>0</td>\n",
       "      <td>0</td>\n",
       "      <td>10</td>\n",
       "      <td>1588</td>\n",
       "      <td>Girl, Interrupted (1999)</td>\n",
       "      <td>Drama</td>\n",
       "      <td>[957, 2147, 1658, 3177, 2599, 1117, 1104, 689,...</td>\n",
       "      <td>50</td>\n",
       "      <td>50</td>\n",
       "      <td>[2488, 944, 604, 511, 377, 958, 1915, 392, 129...</td>\n",
       "    </tr>\n",
       "    <tr>\n",
       "      <th>1</th>\n",
       "      <td>0</td>\n",
       "      <td>1178</td>\n",
       "      <td>5</td>\n",
       "      <td>0.240624</td>\n",
       "      <td>0</td>\n",
       "      <td>0</td>\n",
       "      <td>10</td>\n",
       "      <td>1588</td>\n",
       "      <td>Back to the Future (1985)</td>\n",
       "      <td>Comedy|Sci-Fi</td>\n",
       "      <td>[957, 2147, 1658, 3177, 2599, 1117, 1104, 689,...</td>\n",
       "      <td>50</td>\n",
       "      <td>50</td>\n",
       "      <td>[2033, 1225, 3411, 3636, 783, 958, 1815, 2391,...</td>\n",
       "    </tr>\n",
       "    <tr>\n",
       "      <th>2</th>\n",
       "      <td>0</td>\n",
       "      <td>1574</td>\n",
       "      <td>4</td>\n",
       "      <td>0.240624</td>\n",
       "      <td>0</td>\n",
       "      <td>0</td>\n",
       "      <td>10</td>\n",
       "      <td>1588</td>\n",
       "      <td>Titanic (1997)</td>\n",
       "      <td>Drama|Romance</td>\n",
       "      <td>[957, 2147, 1658, 3177, 2599, 1117, 1104, 689,...</td>\n",
       "      <td>50</td>\n",
       "      <td>50</td>\n",
       "      <td>[303, 202, 2362, 598, 838, 3573, 2328, 367, 26...</td>\n",
       "    </tr>\n",
       "    <tr>\n",
       "      <th>3</th>\n",
       "      <td>0</td>\n",
       "      <td>957</td>\n",
       "      <td>5</td>\n",
       "      <td>0.240624</td>\n",
       "      <td>0</td>\n",
       "      <td>0</td>\n",
       "      <td>10</td>\n",
       "      <td>1588</td>\n",
       "      <td>Cinderella (1950)</td>\n",
       "      <td>Animation|Children's|Musical</td>\n",
       "      <td>[957, 2147, 1658, 3177, 2599, 1117, 1104, 689,...</td>\n",
       "      <td>50</td>\n",
       "      <td>50</td>\n",
       "      <td>[1395, 1811, 146, 955, 1760, 1165, 1171, 9, 89...</td>\n",
       "    </tr>\n",
       "    <tr>\n",
       "      <th>4</th>\n",
       "      <td>0</td>\n",
       "      <td>2147</td>\n",
       "      <td>3</td>\n",
       "      <td>0.240624</td>\n",
       "      <td>0</td>\n",
       "      <td>0</td>\n",
       "      <td>10</td>\n",
       "      <td>1588</td>\n",
       "      <td>Meet Joe Black (1998)</td>\n",
       "      <td>Romance</td>\n",
       "      <td>[957, 2147, 1658, 3177, 2599, 1117, 1104, 689,...</td>\n",
       "      <td>50</td>\n",
       "      <td>50</td>\n",
       "      <td>[1, 730, 1668, 348, 1141, 2798, 976, 724, 1540...</td>\n",
       "    </tr>\n",
       "  </tbody>\n",
       "</table>\n",
       "</div>"
      ],
      "text/plain": [
       "   user_id  movie_id  rating  timestamp  gender  age  occupation   zip  \\\n",
       "0        0      2969       4   0.240623       0    0          10  1588   \n",
       "1        0      1178       5   0.240624       0    0          10  1588   \n",
       "2        0      1574       4   0.240624       0    0          10  1588   \n",
       "3        0       957       5   0.240624       0    0          10  1588   \n",
       "4        0      2147       3   0.240624       0    0          10  1588   \n",
       "\n",
       "                       title                        genres  \\\n",
       "0   Girl, Interrupted (1999)                         Drama   \n",
       "1  Back to the Future (1985)                 Comedy|Sci-Fi   \n",
       "2             Titanic (1997)                 Drama|Romance   \n",
       "3          Cinderella (1950)  Animation|Children's|Musical   \n",
       "4      Meet Joe Black (1998)                       Romance   \n",
       "\n",
       "                                       hist_movie_id  hist_len  seq_length  \\\n",
       "0  [957, 2147, 1658, 3177, 2599, 1117, 1104, 689,...        50          50   \n",
       "1  [957, 2147, 1658, 3177, 2599, 1117, 1104, 689,...        50          50   \n",
       "2  [957, 2147, 1658, 3177, 2599, 1117, 1104, 689,...        50          50   \n",
       "3  [957, 2147, 1658, 3177, 2599, 1117, 1104, 689,...        50          50   \n",
       "4  [957, 2147, 1658, 3177, 2599, 1117, 1104, 689,...        50          50   \n",
       "\n",
       "                                   neg_hist_movie_id  \n",
       "0  [2488, 944, 604, 511, 377, 958, 1915, 392, 129...  \n",
       "1  [2033, 1225, 3411, 3636, 783, 958, 1815, 2391,...  \n",
       "2  [303, 202, 2362, 598, 838, 3573, 2328, 367, 26...  \n",
       "3  [1395, 1811, 146, 955, 1760, 1165, 1171, 9, 89...  \n",
       "4  [1, 730, 1668, 348, 1141, 2798, 976, 724, 1540...  "
      ]
     },
     "execution_count": 240,
     "metadata": {},
     "output_type": "execute_result"
    }
   ],
   "source": [
    "all_data[\"neg_hist_movie_id\"] = get_neg_click(data_df=all_data, neg_num=50)\n",
    "all_data.head()"
   ]
  },
  {
   "cell_type": "code",
   "execution_count": 227,
   "metadata": {},
   "outputs": [],
   "source": [
    "from deepctr_torch.inputs import SparseFeat, VarLenSparseFeat, DenseFeat\n",
    "from deepctr_torch.inputs import get_feature_names\n",
    "from deepctr_torch.models import DIEN"
   ]
  },
  {
   "cell_type": "code",
   "execution_count": 268,
   "metadata": {},
   "outputs": [],
   "source": [
    "## 编码信息\n",
    "# 编码\n",
    "def get_feats_columns_info(df, spase_columns, dense_columns, behavior_feat, his_behavior_fea, embed_dim=8, max_len=50):\n",
    "    \"\"\"\n",
    "    获取特征编码信息\n",
    "    df: 数据集\n",
    "    spase_columns: 稀疏特征, list\n",
    "    dense_columns： 稠密特征, list\n",
    "    behavior_feat： 候选物品\n",
    "    embed_dim： embedding维度\n",
    "    maxlen: 序列最大长度\n",
    "    \"\"\"\n",
    "    \n",
    "    behavior_feature_list = behavior_feat\n",
    "    feature_columns = []\n",
    "    \n",
    "    # SpaseFeat\n",
    "    for feat_name in spase_columns:\n",
    "        feature_columns.append(SparseFeat(feat_name, max(df[feat_name]) + 1, embedding_dim=8))\n",
    "\n",
    "    # DenseFeat\n",
    "    for name in dense_columns:\n",
    "        feature_columns.append(DenseFeat(name = name, dimension = 1))\n",
    "\n",
    "    # VarLenSpaseFeat\n",
    "    # 用户历史记录\n",
    "    for hist_name in behavior_feature_list:\n",
    "        feature_columns.append(VarLenSparseFeat(SparseFeat(\"hist_\" + hist_name\n",
    "                                                           , vocabulary_size = max(df[hist_name]) + 1\n",
    "                                                           , embedding_dim = embed_dim\n",
    "                                                           , embedding_name = hist_name\n",
    "                                                          )\n",
    "                                                , maxlen = max_len\n",
    "                                                , length_name = \"seq_length\")\n",
    "                              )\n",
    "        # 负采样\n",
    "        feature_columns.append(VarLenSparseFeat(SparseFeat(\"neg_hist_\" + hist_name\n",
    "                                                           , vocabulary_size = max(df[hist_name]) + 1\n",
    "                                                           , embedding_dim = embed_dim\n",
    "                                                           , embedding_name = hist_name\n",
    "                                                          )\n",
    "                                                , maxlen = max_len\n",
    "                                                , length_name = \"seq_length\")\n",
    "                              )\n",
    "    # 写入数值信息\n",
    "    x = {}\n",
    "    for name in get_feature_names(feature_columns):\n",
    "        \n",
    "        if name in his_behavior_fea:\n",
    "            # 每一位用户的行为序列编码\n",
    "            his_list = [l for l in df[name]]\n",
    "            x[name] = pad_sequences(his_list, maxlen=max_len, padding='post')      # 二维数组\n",
    "        else:\n",
    "            x[name] = df[name].values\n",
    "\n",
    "    \n",
    "    return feature_columns, x"
   ]
  },
  {
   "cell_type": "code",
   "execution_count": 269,
   "metadata": {},
   "outputs": [
    {
     "name": "stdout",
     "output_type": "stream",
     "text": [
      "hist_movie_id\n",
      "neg_hist_movie_id\n"
     ]
    },
    {
     "data": {
      "text/plain": [
       "[SparseFeat(name='user_id', vocabulary_size=6040, embedding_dim=8, use_hash=False, dtype='int32', embedding_name='user_id', group_name='default_group'),\n",
       " SparseFeat(name='movie_id', vocabulary_size=3706, embedding_dim=8, use_hash=False, dtype='int32', embedding_name='movie_id', group_name='default_group'),\n",
       " SparseFeat(name='gender', vocabulary_size=2, embedding_dim=8, use_hash=False, dtype='int32', embedding_name='gender', group_name='default_group'),\n",
       " SparseFeat(name='age', vocabulary_size=7, embedding_dim=8, use_hash=False, dtype='int32', embedding_name='age', group_name='default_group'),\n",
       " SparseFeat(name='occupation', vocabulary_size=21, embedding_dim=8, use_hash=False, dtype='int32', embedding_name='occupation', group_name='default_group'),\n",
       " SparseFeat(name='zip', vocabulary_size=3439, embedding_dim=8, use_hash=False, dtype='int32', embedding_name='zip', group_name='default_group'),\n",
       " DenseFeat(name='timestamp', dimension=1, dtype='float32'),\n",
       " DenseFeat(name='hist_len', dimension=1, dtype='float32'),\n",
       " VarLenSparseFeat(sparsefeat=SparseFeat(name='hist_movie_id', vocabulary_size=3706, embedding_dim=8, use_hash=False, dtype='int32', embedding_name='movie_id', group_name='default_group'), maxlen=50, combiner='mean', length_name='seq_length'),\n",
       " VarLenSparseFeat(sparsefeat=SparseFeat(name='neg_hist_movie_id', vocabulary_size=3706, embedding_dim=8, use_hash=False, dtype='int32', embedding_name='movie_id', group_name='default_group'), maxlen=50, combiner='mean', length_name='seq_length')]"
      ]
     },
     "execution_count": 269,
     "metadata": {},
     "output_type": "execute_result"
    }
   ],
   "source": [
    "feature_columns, X = get_feats_columns_info(all_data\n",
    "                                            , spase_columns=spase_feats\n",
    "                                            , dense_columns=dense_feats+[\"hist_len\"]\n",
    "                                            , behavior_feat=[\"movie_id\"]\n",
    "                                            , his_behavior_fea=[\"hist_movie_id\", \"neg_hist_movie_id\"]\n",
    "                                        )\n",
    "feature_columns"
   ]
  },
  {
   "cell_type": "code",
   "execution_count": 271,
   "metadata": {},
   "outputs": [
    {
     "data": {
      "text/plain": [
       "{'user_id': array([   0,    0,    0, ..., 6039, 6039, 6039]),\n",
       " 'movie_id': array([2969, 1178, 1574, ..., 1741,  155, 1131]),\n",
       " 'gender': array([0, 0, 0, ..., 1, 1, 1]),\n",
       " 'age': array([0, 0, 0, ..., 2, 2, 2]),\n",
       " 'occupation': array([10, 10, 10, ...,  6,  6,  6]),\n",
       " 'zip': array([1588, 1588, 1588, ...,  466,  466,  466]),\n",
       " 'timestamp': array([0.24062316, 0.24062356, 0.24062356, ..., 0.4540416 , 0.45404184,\n",
       "        0.46363028]),\n",
       " 'hist_len': array([50, 50, 50, ..., 50, 50, 50]),\n",
       " 'hist_movie_id': array([[ 957, 2147, 1658, ..., 1439, 1727,   47],\n",
       "        [ 957, 2147, 1658, ..., 1439, 1727,   47],\n",
       "        [ 957, 2147, 1658, ..., 1439, 1727,   47],\n",
       "        ...,\n",
       "        [3313, 1132, 2711, ..., 1741,  155, 1131],\n",
       "        [3313, 1132, 2711, ..., 1741,  155, 1131],\n",
       "        [3313, 1132, 2711, ..., 1741,  155, 1131]], dtype=int32),\n",
       " 'seq_length': array([50, 50, 50, ..., 50, 50, 50]),\n",
       " 'neg_hist_movie_id': array([[2488,  944,  604, ..., 2983, 3385,  555],\n",
       "        [2033, 1225, 3411, ..., 2442, 2413,  689],\n",
       "        [ 303,  202, 2362, ...,  870, 1932,  405],\n",
       "        ...,\n",
       "        [1658, 2563, 1738, ...,  896,  736,  941],\n",
       "        [ 421,  523, 2267, ...,   69, 1639, 2429],\n",
       "        [  67,   60,  485, ...,  412, 2950, 2995]], dtype=int32)}"
      ]
     },
     "execution_count": 271,
     "metadata": {},
     "output_type": "execute_result"
    }
   ],
   "source": [
    "X"
   ]
  },
  {
   "cell_type": "code",
   "execution_count": 216,
   "metadata": {},
   "outputs": [
    {
     "data": {
      "text/plain": [
       "['user_id',\n",
       " 'movie_id',\n",
       " 'gender',\n",
       " 'age',\n",
       " 'occupation',\n",
       " 'zip',\n",
       " 'timestamp',\n",
       " 'hist_len',\n",
       " 'hist_movie_id',\n",
       " 'seq_length',\n",
       " 'neg_hist_movie_id']"
      ]
     },
     "execution_count": 216,
     "metadata": {},
     "output_type": "execute_result"
    }
   ],
   "source": [
    "get_feature_names(feature_columns)"
   ]
  },
  {
   "cell_type": "code",
   "execution_count": 276,
   "metadata": {},
   "outputs": [],
   "source": [
    "y = all_data[\"rating\"].values"
   ]
  },
  {
   "cell_type": "markdown",
   "metadata": {},
   "source": [
    "### 模型训练和评估"
   ]
  },
  {
   "cell_type": "code",
   "execution_count": 284,
   "metadata": {},
   "outputs": [],
   "source": [
    "import torch"
   ]
  },
  {
   "cell_type": "code",
   "execution_count": 287,
   "metadata": {},
   "outputs": [
    {
     "data": {
      "text/plain": [
       "DIEN(\n",
       "  (embedding_dict): ModuleDict(\n",
       "    (user_id): Embedding(6040, 8)\n",
       "    (movie_id): Embedding(3706, 8)\n",
       "    (gender): Embedding(2, 8)\n",
       "    (age): Embedding(7, 8)\n",
       "    (occupation): Embedding(21, 8)\n",
       "    (zip): Embedding(3439, 8)\n",
       "  )\n",
       "  (linear_model): Linear(\n",
       "    (embedding_dict): ModuleDict()\n",
       "  )\n",
       "  (out): PredictionLayer()\n",
       "  (interest_extractor): InterestExtractor(\n",
       "    (gru): GRU(8, 8, batch_first=True)\n",
       "    (auxiliary_net): DNN(\n",
       "      (dropout): Dropout(p=0, inplace=False)\n",
       "      (linears): ModuleList(\n",
       "        (0): Linear(in_features=16, out_features=100, bias=True)\n",
       "        (1): Linear(in_features=100, out_features=50, bias=True)\n",
       "        (2): Linear(in_features=50, out_features=1, bias=True)\n",
       "      )\n",
       "      (activation_layers): ModuleList(\n",
       "        (0): Sigmoid()\n",
       "        (1): Sigmoid()\n",
       "        (2): Sigmoid()\n",
       "      )\n",
       "    )\n",
       "  )\n",
       "  (interest_evolution): InterestEvolving(\n",
       "    (attention): AttentionSequencePoolingLayer(\n",
       "      (local_att): LocalActivationUnit(\n",
       "        (dnn): DNN(\n",
       "          (dropout): Dropout(p=0, inplace=False)\n",
       "          (linears): ModuleList(\n",
       "            (0): Linear(in_features=32, out_features=64, bias=True)\n",
       "            (1): Linear(in_features=64, out_features=16, bias=True)\n",
       "          )\n",
       "          (activation_layers): ModuleList(\n",
       "            (0): ReLU(inplace=True)\n",
       "            (1): ReLU(inplace=True)\n",
       "          )\n",
       "        )\n",
       "        (dense): Linear(in_features=16, out_features=1, bias=True)\n",
       "      )\n",
       "    )\n",
       "    (interest_evolution): DynamicGRU(\n",
       "      (rnn): AUGRUCell()\n",
       "    )\n",
       "  )\n",
       "  (dnn): DNN(\n",
       "    (dropout): Dropout(p=0.6, inplace=False)\n",
       "    (linears): ModuleList(\n",
       "      (0): Linear(in_features=58, out_features=4, bias=True)\n",
       "      (1): Linear(in_features=4, out_features=4, bias=True)\n",
       "      (2): Linear(in_features=4, out_features=4, bias=True)\n",
       "    )\n",
       "    (activation_layers): ModuleList(\n",
       "      (0): ReLU(inplace=True)\n",
       "      (1): ReLU(inplace=True)\n",
       "      (2): ReLU(inplace=True)\n",
       "    )\n",
       "  )\n",
       "  (linear): Linear(in_features=4, out_features=1, bias=False)\n",
       ")"
      ]
     },
     "execution_count": 287,
     "metadata": {},
     "output_type": "execute_result"
    }
   ],
   "source": [
    "device = 'cpu'\n",
    "use_cuda = False\n",
    "if use_cuda and torch.cuda.is_available():\n",
    "    print('cuda ready...')\n",
    "    device = 'cuda:0'\n",
    "\n",
    "model = DIEN(dnn_feature_columns=feature_columns, history_feature_list=[\"movie_id\"]\n",
    "             , use_negsampling=True\n",
    "             , dnn_hidden_units=[4, 4, 4]\n",
    "             , gru_type = \"AUGRU\"\n",
    "             , dnn_dropout = 0.6\n",
    "             , device=device\n",
    "             , task = \"regression\"\n",
    "            )\n",
    "model"
   ]
  },
  {
   "cell_type": "code",
   "execution_count": 288,
   "metadata": {},
   "outputs": [
    {
     "name": "stdout",
     "output_type": "stream",
     "text": [
      "cpu\n",
      "Train on 800167 samples, validate on 200042 samples, 3126 steps per epoch\n"
     ]
    },
    {
     "name": "stderr",
     "output_type": "stream",
     "text": [
      "3126it [10:53,  4.78it/s]\n"
     ]
    },
    {
     "name": "stdout",
     "output_type": "stream",
     "text": [
      "Epoch 1/10\n",
      "694s - loss:  4.6329 - acc:  0.0511 - val_acc:  0.0540\n"
     ]
    },
    {
     "name": "stderr",
     "output_type": "stream",
     "text": [
      "3126it [10:15,  5.08it/s]\n",
      "1it [00:00,  5.24it/s]"
     ]
    },
    {
     "name": "stdout",
     "output_type": "stream",
     "text": [
      "Epoch 2/10\n",
      "649s - loss:  0.9940 - acc:  0.0567 - val_acc:  0.0540\n"
     ]
    },
    {
     "name": "stderr",
     "output_type": "stream",
     "text": [
      "3126it [12:55,  4.03it/s]\n",
      "0it [00:00, ?it/s]"
     ]
    },
    {
     "name": "stdout",
     "output_type": "stream",
     "text": [
      "Epoch 3/10\n",
      "808s - loss:  0.8835 - acc:  0.0567 - val_acc:  0.0540\n"
     ]
    },
    {
     "name": "stderr",
     "output_type": "stream",
     "text": [
      "3126it [10:15,  5.08it/s]\n",
      "0it [00:00, ?it/s]"
     ]
    },
    {
     "name": "stdout",
     "output_type": "stream",
     "text": [
      "Epoch 4/10\n",
      "649s - loss:  0.8433 - acc:  0.0567 - val_acc:  0.0540\n"
     ]
    },
    {
     "name": "stderr",
     "output_type": "stream",
     "text": [
      "3126it [10:18,  5.06it/s]\n",
      "1it [00:00,  5.09it/s]"
     ]
    },
    {
     "name": "stdout",
     "output_type": "stream",
     "text": [
      "Epoch 5/10\n",
      "651s - loss:  0.8315 - acc:  0.0567 - val_acc:  0.0540\n"
     ]
    },
    {
     "name": "stderr",
     "output_type": "stream",
     "text": [
      "3126it [10:16,  5.07it/s]\n",
      "0it [00:00, ?it/s]"
     ]
    },
    {
     "name": "stdout",
     "output_type": "stream",
     "text": [
      "Epoch 6/10\n",
      "650s - loss:  0.8299 - acc:  0.0567 - val_acc:  0.0540\n"
     ]
    },
    {
     "name": "stderr",
     "output_type": "stream",
     "text": [
      "3126it [10:18,  5.06it/s]\n",
      "1it [00:00,  5.17it/s]"
     ]
    },
    {
     "name": "stdout",
     "output_type": "stream",
     "text": [
      "Epoch 7/10\n",
      "651s - loss:  0.8287 - acc:  0.0567 - val_acc:  0.0540\n"
     ]
    },
    {
     "name": "stderr",
     "output_type": "stream",
     "text": [
      "1161it [03:57,  4.88it/s]\n"
     ]
    },
    {
     "ename": "KeyboardInterrupt",
     "evalue": "",
     "output_type": "error",
     "traceback": [
      "\u001b[0;31m---------------------------------------------------------------------------\u001b[0m",
      "\u001b[0;31mKeyboardInterrupt\u001b[0m                         Traceback (most recent call last)",
      "\u001b[0;32m<ipython-input-288-c3db6ada740d>\u001b[0m in \u001b[0;36m<module>\u001b[0;34m\u001b[0m\n\u001b[1;32m      4\u001b[0m              )\n\u001b[1;32m      5\u001b[0m \u001b[0;34m\u001b[0m\u001b[0m\n\u001b[0;32m----> 6\u001b[0;31m history = model.fit(X, y\n\u001b[0m\u001b[1;32m      7\u001b[0m                     \u001b[0;34m,\u001b[0m \u001b[0mbatch_size\u001b[0m\u001b[0;34m=\u001b[0m\u001b[0;36m256\u001b[0m\u001b[0;34m\u001b[0m\u001b[0;34m\u001b[0m\u001b[0m\n\u001b[1;32m      8\u001b[0m                     \u001b[0;34m,\u001b[0m \u001b[0mepochs\u001b[0m\u001b[0;34m=\u001b[0m\u001b[0;36m10\u001b[0m\u001b[0;34m\u001b[0m\u001b[0;34m\u001b[0m\u001b[0m\n",
      "\u001b[0;32m~/anaconda3/lib/python3.8/site-packages/deepctr_torch/models/basemodel.py\u001b[0m in \u001b[0;36mfit\u001b[0;34m(self, x, y, batch_size, epochs, verbose, initial_epoch, validation_split, validation_data, shuffle, callbacks)\u001b[0m\n\u001b[1;32m    249\u001b[0m                         \u001b[0mloss_epoch\u001b[0m \u001b[0;34m+=\u001b[0m \u001b[0mloss\u001b[0m\u001b[0;34m.\u001b[0m\u001b[0mitem\u001b[0m\u001b[0;34m(\u001b[0m\u001b[0;34m)\u001b[0m\u001b[0;34m\u001b[0m\u001b[0;34m\u001b[0m\u001b[0m\n\u001b[1;32m    250\u001b[0m                         \u001b[0mtotal_loss_epoch\u001b[0m \u001b[0;34m+=\u001b[0m \u001b[0mtotal_loss\u001b[0m\u001b[0;34m.\u001b[0m\u001b[0mitem\u001b[0m\u001b[0;34m(\u001b[0m\u001b[0;34m)\u001b[0m\u001b[0;34m\u001b[0m\u001b[0;34m\u001b[0m\u001b[0m\n\u001b[0;32m--> 251\u001b[0;31m                         \u001b[0mtotal_loss\u001b[0m\u001b[0;34m.\u001b[0m\u001b[0mbackward\u001b[0m\u001b[0;34m(\u001b[0m\u001b[0;34m)\u001b[0m\u001b[0;34m\u001b[0m\u001b[0;34m\u001b[0m\u001b[0m\n\u001b[0m\u001b[1;32m    252\u001b[0m                         \u001b[0moptim\u001b[0m\u001b[0;34m.\u001b[0m\u001b[0mstep\u001b[0m\u001b[0;34m(\u001b[0m\u001b[0;34m)\u001b[0m\u001b[0;34m\u001b[0m\u001b[0;34m\u001b[0m\u001b[0m\n\u001b[1;32m    253\u001b[0m \u001b[0;34m\u001b[0m\u001b[0m\n",
      "\u001b[0;32m~/anaconda3/lib/python3.8/site-packages/torch/tensor.py\u001b[0m in \u001b[0;36mbackward\u001b[0;34m(self, gradient, retain_graph, create_graph)\u001b[0m\n\u001b[1;32m    219\u001b[0m                 \u001b[0mretain_graph\u001b[0m\u001b[0;34m=\u001b[0m\u001b[0mretain_graph\u001b[0m\u001b[0;34m,\u001b[0m\u001b[0;34m\u001b[0m\u001b[0;34m\u001b[0m\u001b[0m\n\u001b[1;32m    220\u001b[0m                 create_graph=create_graph)\n\u001b[0;32m--> 221\u001b[0;31m         \u001b[0mtorch\u001b[0m\u001b[0;34m.\u001b[0m\u001b[0mautograd\u001b[0m\u001b[0;34m.\u001b[0m\u001b[0mbackward\u001b[0m\u001b[0;34m(\u001b[0m\u001b[0mself\u001b[0m\u001b[0;34m,\u001b[0m \u001b[0mgradient\u001b[0m\u001b[0;34m,\u001b[0m \u001b[0mretain_graph\u001b[0m\u001b[0;34m,\u001b[0m \u001b[0mcreate_graph\u001b[0m\u001b[0;34m)\u001b[0m\u001b[0;34m\u001b[0m\u001b[0;34m\u001b[0m\u001b[0m\n\u001b[0m\u001b[1;32m    222\u001b[0m \u001b[0;34m\u001b[0m\u001b[0m\n\u001b[1;32m    223\u001b[0m     \u001b[0;32mdef\u001b[0m \u001b[0mregister_hook\u001b[0m\u001b[0;34m(\u001b[0m\u001b[0mself\u001b[0m\u001b[0;34m,\u001b[0m \u001b[0mhook\u001b[0m\u001b[0;34m)\u001b[0m\u001b[0;34m:\u001b[0m\u001b[0;34m\u001b[0m\u001b[0;34m\u001b[0m\u001b[0m\n",
      "\u001b[0;32m~/anaconda3/lib/python3.8/site-packages/torch/autograd/__init__.py\u001b[0m in \u001b[0;36mbackward\u001b[0;34m(tensors, grad_tensors, retain_graph, create_graph, grad_variables)\u001b[0m\n\u001b[1;32m    128\u001b[0m         \u001b[0mretain_graph\u001b[0m \u001b[0;34m=\u001b[0m \u001b[0mcreate_graph\u001b[0m\u001b[0;34m\u001b[0m\u001b[0;34m\u001b[0m\u001b[0m\n\u001b[1;32m    129\u001b[0m \u001b[0;34m\u001b[0m\u001b[0m\n\u001b[0;32m--> 130\u001b[0;31m     Variable._execution_engine.run_backward(\n\u001b[0m\u001b[1;32m    131\u001b[0m         \u001b[0mtensors\u001b[0m\u001b[0;34m,\u001b[0m \u001b[0mgrad_tensors_\u001b[0m\u001b[0;34m,\u001b[0m \u001b[0mretain_graph\u001b[0m\u001b[0;34m,\u001b[0m \u001b[0mcreate_graph\u001b[0m\u001b[0;34m,\u001b[0m\u001b[0;34m\u001b[0m\u001b[0;34m\u001b[0m\u001b[0m\n\u001b[1;32m    132\u001b[0m         allow_unreachable=True)  # allow_unreachable flag\n",
      "\u001b[0;31mKeyboardInterrupt\u001b[0m: "
     ]
    }
   ],
   "source": [
    "model.compile(optimizer=\"adam\"\n",
    "              , loss=\"mse\"\n",
    "              , metrics=[\"mae\", \"acc\"]\n",
    "             )\n",
    "\n",
    "history = model.fit(X, y\n",
    "                    , batch_size=256\n",
    "                    , epochs=10\n",
    "                    , shuffle=False\n",
    "                    , verbose=1\n",
    "                    , validation_split=0.2\n",
    "                   )"
   ]
  },
  {
   "cell_type": "code",
   "execution_count": null,
   "metadata": {},
   "outputs": [],
   "source": [
    "def plot_metric(dfhistory, metric, ax):\n",
    "    \"\"\"绘制评估曲线\"\"\"\n",
    "\n",
    "    train_metrics = dfhistory[metric]\n",
    "    val_metrics = dfhistory['val_' + metric]\n",
    "    epochs = range(1, len(train_metrics) + 1)\n",
    "    ax.plot(epochs, train_metrics, 'bo--')\n",
    "    ax.plot(epochs, val_metrics, 'ro-')\n",
    "    ax.set_title('Training and validation '+ metric, fontsize=15)\n",
    "    ax.set_xlabel(\"Epochs\", fontsize=14)\n",
    "    ax.set_ylabel(metric, fontsize=14)\n",
    "    ax.legend([\"train_\" + metric, 'val_' + metric], fontsize=12)\n",
    "    ax.grid()"
   ]
  },
  {
   "cell_type": "code",
   "execution_count": 27,
   "metadata": {},
   "outputs": [
    {
     "data": {
      "image/png": "[encoded data removed]",
      "text/plain": [
       "<Figure size 1296x360 with 2 Axes>"
      ]
     },
     "metadata": {
      "needs_background": "light"
     },
     "output_type": "display_data"
    }
   ],
   "source": [
    "# 观察损失和准确率的变化\n",
    "dfhistory = history.history\n",
    "fig, (ax1, ax2) = plt.subplots(1, 2, figsize=(18, 5))\n",
    "plot_metric(dfhistory,\"binary_crossentropy\", ax1)\n",
    "plot_metric(dfhistory,\"auc\", ax2)"
   ]
  }
 ],
 "metadata": {
  "kernelspec": {
   "display_name": "Python 3",
   "language": "python",
   "name": "python3"
  },
  "language_info": {
   "codemirror_mode": {
    "name": "ipython",
    "version": 3
   },
   "file_extension": ".py",
   "mimetype": "text/x-python",
   "name": "python",
   "nbconvert_exporter": "python",
   "pygments_lexer": "ipython3",
   "version": "3.8.5"
  }
 },
 "nbformat": 4,
 "nbformat_minor": 4
}
