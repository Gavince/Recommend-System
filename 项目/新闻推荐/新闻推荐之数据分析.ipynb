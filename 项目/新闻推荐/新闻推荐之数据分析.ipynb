{
 "cells": [
  {
   "cell_type": "markdown",
   "metadata": {},
   "source": [
    "# 数据分析\n",
    "**目的**：数据分析的价值主要在于熟悉了解整个数据集的基本情况包括每个文件里有哪些数据，具体的文件中的每个字段表示什么实际含义，以及数据集中特征之间的相关性，在推荐场景下主要就是分析用户本身的基本属性，文章基本属性，以及用户和文章交互的一些分布，这些都有利于后面的召回策略的选择，以及特征工程。"
   ]
  },
  {
   "cell_type": "code",
   "execution_count": 1,
   "metadata": {},
   "outputs": [],
   "source": [
    "%matplotlib inline\n",
    "import pandas as pd\n",
    "import numpy as np\n",
    "import datetime\n",
    "\n",
    "import matplotlib.pyplot as plt\n",
    "import seaborn as sns\n",
    "plt.rc('font', family='Times New Roman', size=13)\n",
    "\n",
    "import os,gc,re,warnings,sys\n",
    "warnings.filterwarnings(\"ignore\")\n",
    "\n",
    "DATA_PATH = \"./data/\""
   ]
  },
  {
   "cell_type": "markdown",
   "metadata": {},
   "source": [
    "## 读取数据"
   ]
  },
  {
   "cell_type": "code",
   "execution_count": 2,
   "metadata": {},
   "outputs": [
    {
     "data": {
      "text/html": [
       "<div>\n",
       "<style scoped>\n",
       "    .dataframe tbody tr th:only-of-type {\n",
       "        vertical-align: middle;\n",
       "    }\n",
       "\n",
       "    .dataframe tbody tr th {\n",
       "        vertical-align: top;\n",
       "    }\n",
       "\n",
       "    .dataframe thead th {\n",
       "        text-align: right;\n",
       "    }\n",
       "</style>\n",
       "<table border=\"1\" class=\"dataframe\">\n",
       "  <thead>\n",
       "    <tr style=\"text-align: right;\">\n",
       "      <th></th>\n",
       "      <th>user_id</th>\n",
       "      <th>click_article_id</th>\n",
       "      <th>click_timestamp</th>\n",
       "      <th>click_environment</th>\n",
       "      <th>click_deviceGroup</th>\n",
       "      <th>click_os</th>\n",
       "      <th>click_country</th>\n",
       "      <th>click_region</th>\n",
       "      <th>click_referrer_type</th>\n",
       "    </tr>\n",
       "  </thead>\n",
       "  <tbody>\n",
       "    <tr>\n",
       "      <th>0</th>\n",
       "      <td>199999</td>\n",
       "      <td>160417</td>\n",
       "      <td>1507029570190</td>\n",
       "      <td>4</td>\n",
       "      <td>1</td>\n",
       "      <td>17</td>\n",
       "      <td>1</td>\n",
       "      <td>13</td>\n",
       "      <td>1</td>\n",
       "    </tr>\n",
       "    <tr>\n",
       "      <th>1</th>\n",
       "      <td>199999</td>\n",
       "      <td>5408</td>\n",
       "      <td>1507029571478</td>\n",
       "      <td>4</td>\n",
       "      <td>1</td>\n",
       "      <td>17</td>\n",
       "      <td>1</td>\n",
       "      <td>13</td>\n",
       "      <td>1</td>\n",
       "    </tr>\n",
       "    <tr>\n",
       "      <th>2</th>\n",
       "      <td>199999</td>\n",
       "      <td>50823</td>\n",
       "      <td>1507029601478</td>\n",
       "      <td>4</td>\n",
       "      <td>1</td>\n",
       "      <td>17</td>\n",
       "      <td>1</td>\n",
       "      <td>13</td>\n",
       "      <td>1</td>\n",
       "    </tr>\n",
       "    <tr>\n",
       "      <th>3</th>\n",
       "      <td>199998</td>\n",
       "      <td>157770</td>\n",
       "      <td>1507029532200</td>\n",
       "      <td>4</td>\n",
       "      <td>1</td>\n",
       "      <td>17</td>\n",
       "      <td>1</td>\n",
       "      <td>25</td>\n",
       "      <td>5</td>\n",
       "    </tr>\n",
       "    <tr>\n",
       "      <th>4</th>\n",
       "      <td>199998</td>\n",
       "      <td>96613</td>\n",
       "      <td>1507029671831</td>\n",
       "      <td>4</td>\n",
       "      <td>1</td>\n",
       "      <td>17</td>\n",
       "      <td>1</td>\n",
       "      <td>25</td>\n",
       "      <td>5</td>\n",
       "    </tr>\n",
       "  </tbody>\n",
       "</table>\n",
       "</div>"
      ],
      "text/plain": [
       "   user_id  click_article_id  click_timestamp  click_environment  \\\n",
       "0   199999            160417    1507029570190                  4   \n",
       "1   199999              5408    1507029571478                  4   \n",
       "2   199999             50823    1507029601478                  4   \n",
       "3   199998            157770    1507029532200                  4   \n",
       "4   199998             96613    1507029671831                  4   \n",
       "\n",
       "   click_deviceGroup  click_os  click_country  click_region  \\\n",
       "0                  1        17              1            13   \n",
       "1                  1        17              1            13   \n",
       "2                  1        17              1            13   \n",
       "3                  1        17              1            25   \n",
       "4                  1        17              1            25   \n",
       "\n",
       "   click_referrer_type  \n",
       "0                    1  \n",
       "1                    1  \n",
       "2                    1  \n",
       "3                    5  \n",
       "4                    5  "
      ]
     },
     "execution_count": 2,
     "metadata": {},
     "output_type": "execute_result"
    }
   ],
   "source": [
    "#training\n",
    "trn_click = pd.read_csv(DATA_PATH + \"train_click_log.csv\")\n",
    "trn_click.head()"
   ]
  },
  {
   "cell_type": "code",
   "execution_count": 3,
   "metadata": {},
   "outputs": [
    {
     "name": "stdout",
     "output_type": "stream",
     "text": [
      "<class 'pandas.core.frame.DataFrame'>\n",
      "RangeIndex: 1112623 entries, 0 to 1112622\n",
      "Data columns (total 9 columns):\n",
      " #   Column               Non-Null Count    Dtype\n",
      "---  ------               --------------    -----\n",
      " 0   user_id              1112623 non-null  int64\n",
      " 1   click_article_id     1112623 non-null  int64\n",
      " 2   click_timestamp      1112623 non-null  int64\n",
      " 3   click_environment    1112623 non-null  int64\n",
      " 4   click_deviceGroup    1112623 non-null  int64\n",
      " 5   click_os             1112623 non-null  int64\n",
      " 6   click_country        1112623 non-null  int64\n",
      " 7   click_region         1112623 non-null  int64\n",
      " 8   click_referrer_type  1112623 non-null  int64\n",
      "dtypes: int64(9)\n",
      "memory usage: 76.4 MB\n"
     ]
    }
   ],
   "source": [
    "trn_click.info()"
   ]
  },
  {
   "cell_type": "code",
   "execution_count": 4,
   "metadata": {},
   "outputs": [
    {
     "data": {
      "text/html": [
       "<div>\n",
       "<style scoped>\n",
       "    .dataframe tbody tr th:only-of-type {\n",
       "        vertical-align: middle;\n",
       "    }\n",
       "\n",
       "    .dataframe tbody tr th {\n",
       "        vertical-align: top;\n",
       "    }\n",
       "\n",
       "    .dataframe thead th {\n",
       "        text-align: right;\n",
       "    }\n",
       "</style>\n",
       "<table border=\"1\" class=\"dataframe\">\n",
       "  <thead>\n",
       "    <tr style=\"text-align: right;\">\n",
       "      <th></th>\n",
       "      <th>article_id</th>\n",
       "      <th>category_id</th>\n",
       "      <th>created_at_ts</th>\n",
       "      <th>words_count</th>\n",
       "    </tr>\n",
       "  </thead>\n",
       "  <tbody>\n",
       "    <tr>\n",
       "      <th>0</th>\n",
       "      <td>0</td>\n",
       "      <td>0</td>\n",
       "      <td>1513144419000</td>\n",
       "      <td>168</td>\n",
       "    </tr>\n",
       "    <tr>\n",
       "      <th>1</th>\n",
       "      <td>1</td>\n",
       "      <td>1</td>\n",
       "      <td>1405341936000</td>\n",
       "      <td>189</td>\n",
       "    </tr>\n",
       "    <tr>\n",
       "      <th>2</th>\n",
       "      <td>2</td>\n",
       "      <td>1</td>\n",
       "      <td>1408667706000</td>\n",
       "      <td>250</td>\n",
       "    </tr>\n",
       "    <tr>\n",
       "      <th>3</th>\n",
       "      <td>3</td>\n",
       "      <td>1</td>\n",
       "      <td>1408468313000</td>\n",
       "      <td>230</td>\n",
       "    </tr>\n",
       "    <tr>\n",
       "      <th>4</th>\n",
       "      <td>4</td>\n",
       "      <td>1</td>\n",
       "      <td>1407071171000</td>\n",
       "      <td>162</td>\n",
       "    </tr>\n",
       "  </tbody>\n",
       "</table>\n",
       "</div>"
      ],
      "text/plain": [
       "   article_id  category_id  created_at_ts  words_count\n",
       "0           0            0  1513144419000          168\n",
       "1           1            1  1405341936000          189\n",
       "2           2            1  1408667706000          250\n",
       "3           3            1  1408468313000          230\n",
       "4           4            1  1407071171000          162"
      ]
     },
     "execution_count": 4,
     "metadata": {},
     "output_type": "execute_result"
    }
   ],
   "source": [
    "# 此处读取的文章信息中，其对应的文章ID与训练集中的应相同\n",
    "item_df = pd.read_csv(DATA_PATH + \"articles.csv\")\n",
    "item_df.head()"
   ]
  },
  {
   "cell_type": "code",
   "execution_count": 5,
   "metadata": {},
   "outputs": [
    {
     "name": "stdout",
     "output_type": "stream",
     "text": [
      "<class 'pandas.core.frame.DataFrame'>\n",
      "RangeIndex: 364047 entries, 0 to 364046\n",
      "Data columns (total 4 columns):\n",
      " #   Column         Non-Null Count   Dtype\n",
      "---  ------         --------------   -----\n",
      " 0   article_id     364047 non-null  int64\n",
      " 1   category_id    364047 non-null  int64\n",
      " 2   created_at_ts  364047 non-null  int64\n",
      " 3   words_count    364047 non-null  int64\n",
      "dtypes: int64(4)\n",
      "memory usage: 11.1 MB\n"
     ]
    }
   ],
   "source": [
    "item_df.info()"
   ]
  },
  {
   "cell_type": "code",
   "execution_count": 6,
   "metadata": {},
   "outputs": [
    {
     "data": {
      "text/html": [
       "<div>\n",
       "<style scoped>\n",
       "    .dataframe tbody tr th:only-of-type {\n",
       "        vertical-align: middle;\n",
       "    }\n",
       "\n",
       "    .dataframe tbody tr th {\n",
       "        vertical-align: top;\n",
       "    }\n",
       "\n",
       "    .dataframe thead th {\n",
       "        text-align: right;\n",
       "    }\n",
       "</style>\n",
       "<table border=\"1\" class=\"dataframe\">\n",
       "  <thead>\n",
       "    <tr style=\"text-align: right;\">\n",
       "      <th></th>\n",
       "      <th>article_id</th>\n",
       "      <th>emb_0</th>\n",
       "      <th>emb_1</th>\n",
       "      <th>emb_2</th>\n",
       "      <th>emb_3</th>\n",
       "      <th>emb_4</th>\n",
       "      <th>emb_5</th>\n",
       "      <th>emb_6</th>\n",
       "      <th>emb_7</th>\n",
       "      <th>emb_8</th>\n",
       "      <th>...</th>\n",
       "      <th>emb_240</th>\n",
       "      <th>emb_241</th>\n",
       "      <th>emb_242</th>\n",
       "      <th>emb_243</th>\n",
       "      <th>emb_244</th>\n",
       "      <th>emb_245</th>\n",
       "      <th>emb_246</th>\n",
       "      <th>emb_247</th>\n",
       "      <th>emb_248</th>\n",
       "      <th>emb_249</th>\n",
       "    </tr>\n",
       "  </thead>\n",
       "  <tbody>\n",
       "    <tr>\n",
       "      <th>0</th>\n",
       "      <td>0</td>\n",
       "      <td>-0.161183</td>\n",
       "      <td>-0.957233</td>\n",
       "      <td>-0.137944</td>\n",
       "      <td>0.050855</td>\n",
       "      <td>0.830055</td>\n",
       "      <td>0.901365</td>\n",
       "      <td>-0.335148</td>\n",
       "      <td>-0.559561</td>\n",
       "      <td>-0.500603</td>\n",
       "      <td>...</td>\n",
       "      <td>0.321248</td>\n",
       "      <td>0.313999</td>\n",
       "      <td>0.636412</td>\n",
       "      <td>0.169179</td>\n",
       "      <td>0.540524</td>\n",
       "      <td>-0.813182</td>\n",
       "      <td>0.286870</td>\n",
       "      <td>-0.231686</td>\n",
       "      <td>0.597416</td>\n",
       "      <td>0.409623</td>\n",
       "    </tr>\n",
       "    <tr>\n",
       "      <th>1</th>\n",
       "      <td>1</td>\n",
       "      <td>-0.523216</td>\n",
       "      <td>-0.974058</td>\n",
       "      <td>0.738608</td>\n",
       "      <td>0.155234</td>\n",
       "      <td>0.626294</td>\n",
       "      <td>0.485297</td>\n",
       "      <td>-0.715657</td>\n",
       "      <td>-0.897996</td>\n",
       "      <td>-0.359747</td>\n",
       "      <td>...</td>\n",
       "      <td>-0.487843</td>\n",
       "      <td>0.823124</td>\n",
       "      <td>0.412688</td>\n",
       "      <td>-0.338654</td>\n",
       "      <td>0.320786</td>\n",
       "      <td>0.588643</td>\n",
       "      <td>-0.594137</td>\n",
       "      <td>0.182828</td>\n",
       "      <td>0.397090</td>\n",
       "      <td>-0.834364</td>\n",
       "    </tr>\n",
       "    <tr>\n",
       "      <th>2</th>\n",
       "      <td>2</td>\n",
       "      <td>-0.619619</td>\n",
       "      <td>-0.972960</td>\n",
       "      <td>-0.207360</td>\n",
       "      <td>-0.128861</td>\n",
       "      <td>0.044748</td>\n",
       "      <td>-0.387535</td>\n",
       "      <td>-0.730477</td>\n",
       "      <td>-0.066126</td>\n",
       "      <td>-0.754899</td>\n",
       "      <td>...</td>\n",
       "      <td>0.454756</td>\n",
       "      <td>0.473184</td>\n",
       "      <td>0.377866</td>\n",
       "      <td>-0.863887</td>\n",
       "      <td>-0.383365</td>\n",
       "      <td>0.137721</td>\n",
       "      <td>-0.810877</td>\n",
       "      <td>-0.447580</td>\n",
       "      <td>0.805932</td>\n",
       "      <td>-0.285284</td>\n",
       "    </tr>\n",
       "    <tr>\n",
       "      <th>3</th>\n",
       "      <td>3</td>\n",
       "      <td>-0.740843</td>\n",
       "      <td>-0.975749</td>\n",
       "      <td>0.391698</td>\n",
       "      <td>0.641738</td>\n",
       "      <td>-0.268645</td>\n",
       "      <td>0.191745</td>\n",
       "      <td>-0.825593</td>\n",
       "      <td>-0.710591</td>\n",
       "      <td>-0.040099</td>\n",
       "      <td>...</td>\n",
       "      <td>0.271535</td>\n",
       "      <td>0.036040</td>\n",
       "      <td>0.480029</td>\n",
       "      <td>-0.763173</td>\n",
       "      <td>0.022627</td>\n",
       "      <td>0.565165</td>\n",
       "      <td>-0.910286</td>\n",
       "      <td>-0.537838</td>\n",
       "      <td>0.243541</td>\n",
       "      <td>-0.885329</td>\n",
       "    </tr>\n",
       "    <tr>\n",
       "      <th>4</th>\n",
       "      <td>4</td>\n",
       "      <td>-0.279052</td>\n",
       "      <td>-0.972315</td>\n",
       "      <td>0.685374</td>\n",
       "      <td>0.113056</td>\n",
       "      <td>0.238315</td>\n",
       "      <td>0.271913</td>\n",
       "      <td>-0.568816</td>\n",
       "      <td>0.341194</td>\n",
       "      <td>-0.600554</td>\n",
       "      <td>...</td>\n",
       "      <td>0.238286</td>\n",
       "      <td>0.809268</td>\n",
       "      <td>0.427521</td>\n",
       "      <td>-0.615932</td>\n",
       "      <td>-0.503697</td>\n",
       "      <td>0.614450</td>\n",
       "      <td>-0.917760</td>\n",
       "      <td>-0.424061</td>\n",
       "      <td>0.185484</td>\n",
       "      <td>-0.580292</td>\n",
       "    </tr>\n",
       "  </tbody>\n",
       "</table>\n",
       "<p>5 rows × 251 columns</p>\n",
       "</div>"
      ],
      "text/plain": [
       "   article_id     emb_0     emb_1     emb_2     emb_3     emb_4     emb_5  \\\n",
       "0           0 -0.161183 -0.957233 -0.137944  0.050855  0.830055  0.901365   \n",
       "1           1 -0.523216 -0.974058  0.738608  0.155234  0.626294  0.485297   \n",
       "2           2 -0.619619 -0.972960 -0.207360 -0.128861  0.044748 -0.387535   \n",
       "3           3 -0.740843 -0.975749  0.391698  0.641738 -0.268645  0.191745   \n",
       "4           4 -0.279052 -0.972315  0.685374  0.113056  0.238315  0.271913   \n",
       "\n",
       "      emb_6     emb_7     emb_8  ...   emb_240   emb_241   emb_242   emb_243  \\\n",
       "0 -0.335148 -0.559561 -0.500603  ...  0.321248  0.313999  0.636412  0.169179   \n",
       "1 -0.715657 -0.897996 -0.359747  ... -0.487843  0.823124  0.412688 -0.338654   \n",
       "2 -0.730477 -0.066126 -0.754899  ...  0.454756  0.473184  0.377866 -0.863887   \n",
       "3 -0.825593 -0.710591 -0.040099  ...  0.271535  0.036040  0.480029 -0.763173   \n",
       "4 -0.568816  0.341194 -0.600554  ...  0.238286  0.809268  0.427521 -0.615932   \n",
       "\n",
       "    emb_244   emb_245   emb_246   emb_247   emb_248   emb_249  \n",
       "0  0.540524 -0.813182  0.286870 -0.231686  0.597416  0.409623  \n",
       "1  0.320786  0.588643 -0.594137  0.182828  0.397090 -0.834364  \n",
       "2 -0.383365  0.137721 -0.810877 -0.447580  0.805932 -0.285284  \n",
       "3  0.022627  0.565165 -0.910286 -0.537838  0.243541 -0.885329  \n",
       "4 -0.503697  0.614450 -0.917760 -0.424061  0.185484 -0.580292  \n",
       "\n",
       "[5 rows x 251 columns]"
      ]
     },
     "execution_count": 6,
     "metadata": {},
     "output_type": "execute_result"
    }
   ],
   "source": [
    "item_emb_df = pd.read_csv(DATA_PATH + \"articles_emb.csv\")\n",
    "item_emb_df.head()"
   ]
  },
  {
   "cell_type": "code",
   "execution_count": 7,
   "metadata": {},
   "outputs": [
    {
     "data": {
      "text/html": [
       "<div>\n",
       "<style scoped>\n",
       "    .dataframe tbody tr th:only-of-type {\n",
       "        vertical-align: middle;\n",
       "    }\n",
       "\n",
       "    .dataframe tbody tr th {\n",
       "        vertical-align: top;\n",
       "    }\n",
       "\n",
       "    .dataframe thead th {\n",
       "        text-align: right;\n",
       "    }\n",
       "</style>\n",
       "<table border=\"1\" class=\"dataframe\">\n",
       "  <thead>\n",
       "    <tr style=\"text-align: right;\">\n",
       "      <th></th>\n",
       "      <th>user_id</th>\n",
       "      <th>click_article_id</th>\n",
       "      <th>click_timestamp</th>\n",
       "      <th>click_environment</th>\n",
       "      <th>click_deviceGroup</th>\n",
       "      <th>click_os</th>\n",
       "      <th>click_country</th>\n",
       "      <th>click_region</th>\n",
       "      <th>click_referrer_type</th>\n",
       "    </tr>\n",
       "  </thead>\n",
       "  <tbody>\n",
       "    <tr>\n",
       "      <th>0</th>\n",
       "      <td>249999</td>\n",
       "      <td>160974</td>\n",
       "      <td>1506959142820</td>\n",
       "      <td>4</td>\n",
       "      <td>1</td>\n",
       "      <td>17</td>\n",
       "      <td>1</td>\n",
       "      <td>13</td>\n",
       "      <td>2</td>\n",
       "    </tr>\n",
       "    <tr>\n",
       "      <th>1</th>\n",
       "      <td>249999</td>\n",
       "      <td>160417</td>\n",
       "      <td>1506959172820</td>\n",
       "      <td>4</td>\n",
       "      <td>1</td>\n",
       "      <td>17</td>\n",
       "      <td>1</td>\n",
       "      <td>13</td>\n",
       "      <td>2</td>\n",
       "    </tr>\n",
       "    <tr>\n",
       "      <th>2</th>\n",
       "      <td>249998</td>\n",
       "      <td>160974</td>\n",
       "      <td>1506959056066</td>\n",
       "      <td>4</td>\n",
       "      <td>1</td>\n",
       "      <td>12</td>\n",
       "      <td>1</td>\n",
       "      <td>13</td>\n",
       "      <td>2</td>\n",
       "    </tr>\n",
       "    <tr>\n",
       "      <th>3</th>\n",
       "      <td>249998</td>\n",
       "      <td>202557</td>\n",
       "      <td>1506959086066</td>\n",
       "      <td>4</td>\n",
       "      <td>1</td>\n",
       "      <td>12</td>\n",
       "      <td>1</td>\n",
       "      <td>13</td>\n",
       "      <td>2</td>\n",
       "    </tr>\n",
       "    <tr>\n",
       "      <th>4</th>\n",
       "      <td>249997</td>\n",
       "      <td>183665</td>\n",
       "      <td>1506959088613</td>\n",
       "      <td>4</td>\n",
       "      <td>1</td>\n",
       "      <td>17</td>\n",
       "      <td>1</td>\n",
       "      <td>15</td>\n",
       "      <td>5</td>\n",
       "    </tr>\n",
       "  </tbody>\n",
       "</table>\n",
       "</div>"
      ],
      "text/plain": [
       "   user_id  click_article_id  click_timestamp  click_environment  \\\n",
       "0   249999            160974    1506959142820                  4   \n",
       "1   249999            160417    1506959172820                  4   \n",
       "2   249998            160974    1506959056066                  4   \n",
       "3   249998            202557    1506959086066                  4   \n",
       "4   249997            183665    1506959088613                  4   \n",
       "\n",
       "   click_deviceGroup  click_os  click_country  click_region  \\\n",
       "0                  1        17              1            13   \n",
       "1                  1        17              1            13   \n",
       "2                  1        12              1            13   \n",
       "3                  1        12              1            13   \n",
       "4                  1        17              1            15   \n",
       "\n",
       "   click_referrer_type  \n",
       "0                    2  \n",
       "1                    2  \n",
       "2                    2  \n",
       "3                    2  \n",
       "4                    5  "
      ]
     },
     "execution_count": 7,
     "metadata": {},
     "output_type": "execute_result"
    }
   ],
   "source": [
    "# testing\n",
    "tst_click = pd.read_csv(DATA_PATH + \"testA_click_log.csv\")\n",
    "tst_click.head()"
   ]
  },
  {
   "cell_type": "code",
   "execution_count": 8,
   "metadata": {},
   "outputs": [
    {
     "name": "stdout",
     "output_type": "stream",
     "text": [
      "<class 'pandas.core.frame.DataFrame'>\n",
      "RangeIndex: 518010 entries, 0 to 518009\n",
      "Data columns (total 9 columns):\n",
      " #   Column               Non-Null Count   Dtype\n",
      "---  ------               --------------   -----\n",
      " 0   user_id              518010 non-null  int64\n",
      " 1   click_article_id     518010 non-null  int64\n",
      " 2   click_timestamp      518010 non-null  int64\n",
      " 3   click_environment    518010 non-null  int64\n",
      " 4   click_deviceGroup    518010 non-null  int64\n",
      " 5   click_os             518010 non-null  int64\n",
      " 6   click_country        518010 non-null  int64\n",
      " 7   click_region         518010 non-null  int64\n",
      " 8   click_referrer_type  518010 non-null  int64\n",
      "dtypes: int64(9)\n",
      "memory usage: 35.6 MB\n"
     ]
    }
   ],
   "source": [
    "tst_click.info()"
   ]
  },
  {
   "cell_type": "markdown",
   "metadata": {},
   "source": [
    "## 数据预处理"
   ]
  },
  {
   "cell_type": "code",
   "execution_count": 9,
   "metadata": {},
   "outputs": [],
   "source": [
    "# 修改对应特征名称\n",
    "item_df.rename(columns={\"article_id\":\"click_article_id\"}, inplace=True)"
   ]
  },
  {
   "cell_type": "code",
   "execution_count": 10,
   "metadata": {},
   "outputs": [],
   "source": [
    "# 对每一位用户按照时间序列进行rank, 时间越靠前级别越高\n",
    "trn_click[\"rank\"] = trn_click.groupby(\"user_id\")[\"click_timestamp\"].rank(ascending=False).astype(int)\n",
    "tst_click[\"rank\"] = tst_click.groupby(\"user_id\")[\"click_timestamp\"].rank(ascending=False).astype(int)"
   ]
  },
  {
   "cell_type": "code",
   "execution_count": 11,
   "metadata": {},
   "outputs": [],
   "source": [
    "# 统计每一个用户所点击的文章数目\n",
    "trn_click[\"click_cnts\"] = trn_click.groupby(\"user_id\")[\"click_timestamp\"].transform(\"count\")\n",
    "tst_click[\"click_cnts\"] = tst_click.groupby(\"user_id\")[\"click_timestamp\"].transform(\"count\")"
   ]
  },
  {
   "cell_type": "code",
   "execution_count": 12,
   "metadata": {},
   "outputs": [
    {
     "data": {
      "text/html": [
       "<div>\n",
       "<style scoped>\n",
       "    .dataframe tbody tr th:only-of-type {\n",
       "        vertical-align: middle;\n",
       "    }\n",
       "\n",
       "    .dataframe tbody tr th {\n",
       "        vertical-align: top;\n",
       "    }\n",
       "\n",
       "    .dataframe thead th {\n",
       "        text-align: right;\n",
       "    }\n",
       "</style>\n",
       "<table border=\"1\" class=\"dataframe\">\n",
       "  <thead>\n",
       "    <tr style=\"text-align: right;\">\n",
       "      <th></th>\n",
       "      <th>user_id</th>\n",
       "      <th>click_article_id</th>\n",
       "      <th>click_timestamp</th>\n",
       "      <th>click_environment</th>\n",
       "      <th>click_deviceGroup</th>\n",
       "      <th>click_os</th>\n",
       "      <th>click_country</th>\n",
       "      <th>click_region</th>\n",
       "      <th>click_referrer_type</th>\n",
       "      <th>rank</th>\n",
       "      <th>click_cnts</th>\n",
       "    </tr>\n",
       "  </thead>\n",
       "  <tbody>\n",
       "    <tr>\n",
       "      <th>0</th>\n",
       "      <td>199999</td>\n",
       "      <td>160417</td>\n",
       "      <td>1507029570190</td>\n",
       "      <td>4</td>\n",
       "      <td>1</td>\n",
       "      <td>17</td>\n",
       "      <td>1</td>\n",
       "      <td>13</td>\n",
       "      <td>1</td>\n",
       "      <td>11</td>\n",
       "      <td>11</td>\n",
       "    </tr>\n",
       "    <tr>\n",
       "      <th>1</th>\n",
       "      <td>199999</td>\n",
       "      <td>5408</td>\n",
       "      <td>1507029571478</td>\n",
       "      <td>4</td>\n",
       "      <td>1</td>\n",
       "      <td>17</td>\n",
       "      <td>1</td>\n",
       "      <td>13</td>\n",
       "      <td>1</td>\n",
       "      <td>10</td>\n",
       "      <td>11</td>\n",
       "    </tr>\n",
       "    <tr>\n",
       "      <th>2</th>\n",
       "      <td>199999</td>\n",
       "      <td>50823</td>\n",
       "      <td>1507029601478</td>\n",
       "      <td>4</td>\n",
       "      <td>1</td>\n",
       "      <td>17</td>\n",
       "      <td>1</td>\n",
       "      <td>13</td>\n",
       "      <td>1</td>\n",
       "      <td>9</td>\n",
       "      <td>11</td>\n",
       "    </tr>\n",
       "    <tr>\n",
       "      <th>3</th>\n",
       "      <td>199998</td>\n",
       "      <td>157770</td>\n",
       "      <td>1507029532200</td>\n",
       "      <td>4</td>\n",
       "      <td>1</td>\n",
       "      <td>17</td>\n",
       "      <td>1</td>\n",
       "      <td>25</td>\n",
       "      <td>5</td>\n",
       "      <td>40</td>\n",
       "      <td>40</td>\n",
       "    </tr>\n",
       "    <tr>\n",
       "      <th>4</th>\n",
       "      <td>199998</td>\n",
       "      <td>96613</td>\n",
       "      <td>1507029671831</td>\n",
       "      <td>4</td>\n",
       "      <td>1</td>\n",
       "      <td>17</td>\n",
       "      <td>1</td>\n",
       "      <td>25</td>\n",
       "      <td>5</td>\n",
       "      <td>39</td>\n",
       "      <td>40</td>\n",
       "    </tr>\n",
       "  </tbody>\n",
       "</table>\n",
       "</div>"
      ],
      "text/plain": [
       "   user_id  click_article_id  click_timestamp  click_environment  \\\n",
       "0   199999            160417    1507029570190                  4   \n",
       "1   199999              5408    1507029571478                  4   \n",
       "2   199999             50823    1507029601478                  4   \n",
       "3   199998            157770    1507029532200                  4   \n",
       "4   199998             96613    1507029671831                  4   \n",
       "\n",
       "   click_deviceGroup  click_os  click_country  click_region  \\\n",
       "0                  1        17              1            13   \n",
       "1                  1        17              1            13   \n",
       "2                  1        17              1            13   \n",
       "3                  1        17              1            25   \n",
       "4                  1        17              1            25   \n",
       "\n",
       "   click_referrer_type  rank  click_cnts  \n",
       "0                    1    11          11  \n",
       "1                    1    10          11  \n",
       "2                    1     9          11  \n",
       "3                    5    40          40  \n",
       "4                    5    39          40  "
      ]
     },
     "execution_count": 12,
     "metadata": {},
     "output_type": "execute_result"
    }
   ],
   "source": [
    "trn_click.head()"
   ]
  },
  {
   "cell_type": "markdown",
   "metadata": {},
   "source": [
    "## 数据浏览\n",
    "1. user_id: 用户的唯一标识\n",
    "2. click_article_id: 用户点击的文章唯一标识\n",
    "3. click_timestamp: 用户点击文章时的时间戳\n",
    "4. click_environment: 用户点击文章的环境\n",
    "5. click_deviceGroup: 用户点击文章的设备组\n",
    "6. click_os: 用户点击文章时的操作系统\n",
    "7. click_country: 用户点击文章时的所在的国家\n",
    "8. click_region: 用户点击文章时所在的区域\n",
    "9. click_referrer_type: 用户点击文章时，文章的来源"
   ]
  },
  {
   "cell_type": "code",
   "execution_count": 13,
   "metadata": {},
   "outputs": [
    {
     "data": {
      "text/html": [
       "<div>\n",
       "<style scoped>\n",
       "    .dataframe tbody tr th:only-of-type {\n",
       "        vertical-align: middle;\n",
       "    }\n",
       "\n",
       "    .dataframe tbody tr th {\n",
       "        vertical-align: top;\n",
       "    }\n",
       "\n",
       "    .dataframe thead th {\n",
       "        text-align: right;\n",
       "    }\n",
       "</style>\n",
       "<table border=\"1\" class=\"dataframe\">\n",
       "  <thead>\n",
       "    <tr style=\"text-align: right;\">\n",
       "      <th></th>\n",
       "      <th>user_id</th>\n",
       "      <th>click_article_id</th>\n",
       "      <th>click_timestamp</th>\n",
       "      <th>click_environment</th>\n",
       "      <th>click_deviceGroup</th>\n",
       "      <th>click_os</th>\n",
       "      <th>click_country</th>\n",
       "      <th>click_region</th>\n",
       "      <th>click_referrer_type</th>\n",
       "      <th>rank</th>\n",
       "      <th>click_cnts</th>\n",
       "      <th>category_id</th>\n",
       "      <th>created_at_ts</th>\n",
       "      <th>words_count</th>\n",
       "    </tr>\n",
       "  </thead>\n",
       "  <tbody>\n",
       "    <tr>\n",
       "      <th>0</th>\n",
       "      <td>199999</td>\n",
       "      <td>160417</td>\n",
       "      <td>1507029570190</td>\n",
       "      <td>4</td>\n",
       "      <td>1</td>\n",
       "      <td>17</td>\n",
       "      <td>1</td>\n",
       "      <td>13</td>\n",
       "      <td>1</td>\n",
       "      <td>11</td>\n",
       "      <td>11</td>\n",
       "      <td>281</td>\n",
       "      <td>1506942089000</td>\n",
       "      <td>173</td>\n",
       "    </tr>\n",
       "    <tr>\n",
       "      <th>1</th>\n",
       "      <td>199999</td>\n",
       "      <td>5408</td>\n",
       "      <td>1507029571478</td>\n",
       "      <td>4</td>\n",
       "      <td>1</td>\n",
       "      <td>17</td>\n",
       "      <td>1</td>\n",
       "      <td>13</td>\n",
       "      <td>1</td>\n",
       "      <td>10</td>\n",
       "      <td>11</td>\n",
       "      <td>4</td>\n",
       "      <td>1506994257000</td>\n",
       "      <td>118</td>\n",
       "    </tr>\n",
       "    <tr>\n",
       "      <th>2</th>\n",
       "      <td>199999</td>\n",
       "      <td>50823</td>\n",
       "      <td>1507029601478</td>\n",
       "      <td>4</td>\n",
       "      <td>1</td>\n",
       "      <td>17</td>\n",
       "      <td>1</td>\n",
       "      <td>13</td>\n",
       "      <td>1</td>\n",
       "      <td>9</td>\n",
       "      <td>11</td>\n",
       "      <td>99</td>\n",
       "      <td>1507013614000</td>\n",
       "      <td>213</td>\n",
       "    </tr>\n",
       "    <tr>\n",
       "      <th>3</th>\n",
       "      <td>199998</td>\n",
       "      <td>157770</td>\n",
       "      <td>1507029532200</td>\n",
       "      <td>4</td>\n",
       "      <td>1</td>\n",
       "      <td>17</td>\n",
       "      <td>1</td>\n",
       "      <td>25</td>\n",
       "      <td>5</td>\n",
       "      <td>40</td>\n",
       "      <td>40</td>\n",
       "      <td>281</td>\n",
       "      <td>1506983935000</td>\n",
       "      <td>201</td>\n",
       "    </tr>\n",
       "    <tr>\n",
       "      <th>4</th>\n",
       "      <td>199998</td>\n",
       "      <td>96613</td>\n",
       "      <td>1507029671831</td>\n",
       "      <td>4</td>\n",
       "      <td>1</td>\n",
       "      <td>17</td>\n",
       "      <td>1</td>\n",
       "      <td>25</td>\n",
       "      <td>5</td>\n",
       "      <td>39</td>\n",
       "      <td>40</td>\n",
       "      <td>209</td>\n",
       "      <td>1506938444000</td>\n",
       "      <td>185</td>\n",
       "    </tr>\n",
       "  </tbody>\n",
       "</table>\n",
       "</div>"
      ],
      "text/plain": [
       "   user_id  click_article_id  click_timestamp  click_environment  \\\n",
       "0   199999            160417    1507029570190                  4   \n",
       "1   199999              5408    1507029571478                  4   \n",
       "2   199999             50823    1507029601478                  4   \n",
       "3   199998            157770    1507029532200                  4   \n",
       "4   199998             96613    1507029671831                  4   \n",
       "\n",
       "   click_deviceGroup  click_os  click_country  click_region  \\\n",
       "0                  1        17              1            13   \n",
       "1                  1        17              1            13   \n",
       "2                  1        17              1            13   \n",
       "3                  1        17              1            25   \n",
       "4                  1        17              1            25   \n",
       "\n",
       "   click_referrer_type  rank  click_cnts  category_id  created_at_ts  \\\n",
       "0                    1    11          11          281  1506942089000   \n",
       "1                    1    10          11            4  1506994257000   \n",
       "2                    1     9          11           99  1507013614000   \n",
       "3                    5    40          40          281  1506983935000   \n",
       "4                    5    39          40          209  1506938444000   \n",
       "\n",
       "   words_count  \n",
       "0          173  \n",
       "1          118  \n",
       "2          213  \n",
       "3          201  \n",
       "4          185  "
      ]
     },
     "execution_count": 13,
     "metadata": {},
     "output_type": "execute_result"
    }
   ],
   "source": [
    "#　训练集(合并文章属性特征)\n",
    "trn_click = trn_click.merge(item_df, how=\"left\", on=[\"click_article_id\"])\n",
    "trn_click.head()"
   ]
  },
  {
   "cell_type": "code",
   "execution_count": 14,
   "metadata": {},
   "outputs": [
    {
     "name": "stdout",
     "output_type": "stream",
     "text": [
      "<class 'pandas.core.frame.DataFrame'>\n",
      "Int64Index: 1112623 entries, 0 to 1112622\n",
      "Data columns (total 14 columns):\n",
      " #   Column               Non-Null Count    Dtype\n",
      "---  ------               --------------    -----\n",
      " 0   user_id              1112623 non-null  int64\n",
      " 1   click_article_id     1112623 non-null  int64\n",
      " 2   click_timestamp      1112623 non-null  int64\n",
      " 3   click_environment    1112623 non-null  int64\n",
      " 4   click_deviceGroup    1112623 non-null  int64\n",
      " 5   click_os             1112623 non-null  int64\n",
      " 6   click_country        1112623 non-null  int64\n",
      " 7   click_region         1112623 non-null  int64\n",
      " 8   click_referrer_type  1112623 non-null  int64\n",
      " 9   rank                 1112623 non-null  int64\n",
      " 10  click_cnts           1112623 non-null  int64\n",
      " 11  category_id          1112623 non-null  int64\n",
      " 12  created_at_ts        1112623 non-null  int64\n",
      " 13  words_count          1112623 non-null  int64\n",
      "dtypes: int64(14)\n",
      "memory usage: 127.3 MB\n"
     ]
    }
   ],
   "source": [
    "trn_click.info()"
   ]
  },
  {
   "cell_type": "code",
   "execution_count": 15,
   "metadata": {},
   "outputs": [
    {
     "data": {
      "text/html": [
       "<div>\n",
       "<style scoped>\n",
       "    .dataframe tbody tr th:only-of-type {\n",
       "        vertical-align: middle;\n",
       "    }\n",
       "\n",
       "    .dataframe tbody tr th {\n",
       "        vertical-align: top;\n",
       "    }\n",
       "\n",
       "    .dataframe thead th {\n",
       "        text-align: right;\n",
       "    }\n",
       "</style>\n",
       "<table border=\"1\" class=\"dataframe\">\n",
       "  <thead>\n",
       "    <tr style=\"text-align: right;\">\n",
       "      <th></th>\n",
       "      <th>count</th>\n",
       "      <th>mean</th>\n",
       "      <th>std</th>\n",
       "      <th>min</th>\n",
       "      <th>25%</th>\n",
       "      <th>50%</th>\n",
       "      <th>75%</th>\n",
       "      <th>max</th>\n",
       "    </tr>\n",
       "  </thead>\n",
       "  <tbody>\n",
       "    <tr>\n",
       "      <th>user_id</th>\n",
       "      <td>1112623.0</td>\n",
       "      <td>1.221198e+05</td>\n",
       "      <td>5.540349e+04</td>\n",
       "      <td>0.000000e+00</td>\n",
       "      <td>7.934700e+04</td>\n",
       "      <td>1.309670e+05</td>\n",
       "      <td>1.704010e+05</td>\n",
       "      <td>1.999990e+05</td>\n",
       "    </tr>\n",
       "    <tr>\n",
       "      <th>click_article_id</th>\n",
       "      <td>1112623.0</td>\n",
       "      <td>1.951541e+05</td>\n",
       "      <td>9.292286e+04</td>\n",
       "      <td>3.000000e+00</td>\n",
       "      <td>1.239090e+05</td>\n",
       "      <td>2.038900e+05</td>\n",
       "      <td>2.777120e+05</td>\n",
       "      <td>3.640460e+05</td>\n",
       "    </tr>\n",
       "    <tr>\n",
       "      <th>click_timestamp</th>\n",
       "      <td>1112623.0</td>\n",
       "      <td>1.507588e+12</td>\n",
       "      <td>3.363466e+08</td>\n",
       "      <td>1.507030e+12</td>\n",
       "      <td>1.507297e+12</td>\n",
       "      <td>1.507596e+12</td>\n",
       "      <td>1.507841e+12</td>\n",
       "      <td>1.510603e+12</td>\n",
       "    </tr>\n",
       "    <tr>\n",
       "      <th>click_environment</th>\n",
       "      <td>1112623.0</td>\n",
       "      <td>3.947786e+00</td>\n",
       "      <td>3.276715e-01</td>\n",
       "      <td>1.000000e+00</td>\n",
       "      <td>4.000000e+00</td>\n",
       "      <td>4.000000e+00</td>\n",
       "      <td>4.000000e+00</td>\n",
       "      <td>4.000000e+00</td>\n",
       "    </tr>\n",
       "    <tr>\n",
       "      <th>click_deviceGroup</th>\n",
       "      <td>1112623.0</td>\n",
       "      <td>1.815981e+00</td>\n",
       "      <td>1.035170e+00</td>\n",
       "      <td>1.000000e+00</td>\n",
       "      <td>1.000000e+00</td>\n",
       "      <td>1.000000e+00</td>\n",
       "      <td>3.000000e+00</td>\n",
       "      <td>5.000000e+00</td>\n",
       "    </tr>\n",
       "    <tr>\n",
       "      <th>click_os</th>\n",
       "      <td>1112623.0</td>\n",
       "      <td>1.301976e+01</td>\n",
       "      <td>6.967844e+00</td>\n",
       "      <td>2.000000e+00</td>\n",
       "      <td>2.000000e+00</td>\n",
       "      <td>1.700000e+01</td>\n",
       "      <td>1.700000e+01</td>\n",
       "      <td>2.000000e+01</td>\n",
       "    </tr>\n",
       "    <tr>\n",
       "      <th>click_country</th>\n",
       "      <td>1112623.0</td>\n",
       "      <td>1.310776e+00</td>\n",
       "      <td>1.618264e+00</td>\n",
       "      <td>1.000000e+00</td>\n",
       "      <td>1.000000e+00</td>\n",
       "      <td>1.000000e+00</td>\n",
       "      <td>1.000000e+00</td>\n",
       "      <td>1.100000e+01</td>\n",
       "    </tr>\n",
       "    <tr>\n",
       "      <th>click_region</th>\n",
       "      <td>1112623.0</td>\n",
       "      <td>1.813587e+01</td>\n",
       "      <td>7.105832e+00</td>\n",
       "      <td>1.000000e+00</td>\n",
       "      <td>1.300000e+01</td>\n",
       "      <td>2.100000e+01</td>\n",
       "      <td>2.500000e+01</td>\n",
       "      <td>2.800000e+01</td>\n",
       "    </tr>\n",
       "    <tr>\n",
       "      <th>click_referrer_type</th>\n",
       "      <td>1112623.0</td>\n",
       "      <td>1.910063e+00</td>\n",
       "      <td>1.220012e+00</td>\n",
       "      <td>1.000000e+00</td>\n",
       "      <td>1.000000e+00</td>\n",
       "      <td>2.000000e+00</td>\n",
       "      <td>2.000000e+00</td>\n",
       "      <td>7.000000e+00</td>\n",
       "    </tr>\n",
       "    <tr>\n",
       "      <th>rank</th>\n",
       "      <td>1112623.0</td>\n",
       "      <td>7.118518e+00</td>\n",
       "      <td>1.016095e+01</td>\n",
       "      <td>1.000000e+00</td>\n",
       "      <td>2.000000e+00</td>\n",
       "      <td>4.000000e+00</td>\n",
       "      <td>8.000000e+00</td>\n",
       "      <td>2.410000e+02</td>\n",
       "    </tr>\n",
       "    <tr>\n",
       "      <th>click_cnts</th>\n",
       "      <td>1112623.0</td>\n",
       "      <td>1.323704e+01</td>\n",
       "      <td>1.631503e+01</td>\n",
       "      <td>2.000000e+00</td>\n",
       "      <td>4.000000e+00</td>\n",
       "      <td>8.000000e+00</td>\n",
       "      <td>1.600000e+01</td>\n",
       "      <td>2.410000e+02</td>\n",
       "    </tr>\n",
       "    <tr>\n",
       "      <th>category_id</th>\n",
       "      <td>1112623.0</td>\n",
       "      <td>3.056176e+02</td>\n",
       "      <td>1.155791e+02</td>\n",
       "      <td>1.000000e+00</td>\n",
       "      <td>2.500000e+02</td>\n",
       "      <td>3.280000e+02</td>\n",
       "      <td>4.100000e+02</td>\n",
       "      <td>4.600000e+02</td>\n",
       "    </tr>\n",
       "    <tr>\n",
       "      <th>created_at_ts</th>\n",
       "      <td>1112623.0</td>\n",
       "      <td>1.506598e+12</td>\n",
       "      <td>8.343066e+09</td>\n",
       "      <td>1.166573e+12</td>\n",
       "      <td>1.507220e+12</td>\n",
       "      <td>1.507553e+12</td>\n",
       "      <td>1.507756e+12</td>\n",
       "      <td>1.510666e+12</td>\n",
       "    </tr>\n",
       "    <tr>\n",
       "      <th>words_count</th>\n",
       "      <td>1112623.0</td>\n",
       "      <td>2.011981e+02</td>\n",
       "      <td>5.223881e+01</td>\n",
       "      <td>0.000000e+00</td>\n",
       "      <td>1.700000e+02</td>\n",
       "      <td>1.970000e+02</td>\n",
       "      <td>2.280000e+02</td>\n",
       "      <td>6.690000e+03</td>\n",
       "    </tr>\n",
       "  </tbody>\n",
       "</table>\n",
       "</div>"
      ],
      "text/plain": [
       "                         count          mean           std           min  \\\n",
       "user_id              1112623.0  1.221198e+05  5.540349e+04  0.000000e+00   \n",
       "click_article_id     1112623.0  1.951541e+05  9.292286e+04  3.000000e+00   \n",
       "click_timestamp      1112623.0  1.507588e+12  3.363466e+08  1.507030e+12   \n",
       "click_environment    1112623.0  3.947786e+00  3.276715e-01  1.000000e+00   \n",
       "click_deviceGroup    1112623.0  1.815981e+00  1.035170e+00  1.000000e+00   \n",
       "click_os             1112623.0  1.301976e+01  6.967844e+00  2.000000e+00   \n",
       "click_country        1112623.0  1.310776e+00  1.618264e+00  1.000000e+00   \n",
       "click_region         1112623.0  1.813587e+01  7.105832e+00  1.000000e+00   \n",
       "click_referrer_type  1112623.0  1.910063e+00  1.220012e+00  1.000000e+00   \n",
       "rank                 1112623.0  7.118518e+00  1.016095e+01  1.000000e+00   \n",
       "click_cnts           1112623.0  1.323704e+01  1.631503e+01  2.000000e+00   \n",
       "category_id          1112623.0  3.056176e+02  1.155791e+02  1.000000e+00   \n",
       "created_at_ts        1112623.0  1.506598e+12  8.343066e+09  1.166573e+12   \n",
       "words_count          1112623.0  2.011981e+02  5.223881e+01  0.000000e+00   \n",
       "\n",
       "                              25%           50%           75%           max  \n",
       "user_id              7.934700e+04  1.309670e+05  1.704010e+05  1.999990e+05  \n",
       "click_article_id     1.239090e+05  2.038900e+05  2.777120e+05  3.640460e+05  \n",
       "click_timestamp      1.507297e+12  1.507596e+12  1.507841e+12  1.510603e+12  \n",
       "click_environment    4.000000e+00  4.000000e+00  4.000000e+00  4.000000e+00  \n",
       "click_deviceGroup    1.000000e+00  1.000000e+00  3.000000e+00  5.000000e+00  \n",
       "click_os             2.000000e+00  1.700000e+01  1.700000e+01  2.000000e+01  \n",
       "click_country        1.000000e+00  1.000000e+00  1.000000e+00  1.100000e+01  \n",
       "click_region         1.300000e+01  2.100000e+01  2.500000e+01  2.800000e+01  \n",
       "click_referrer_type  1.000000e+00  2.000000e+00  2.000000e+00  7.000000e+00  \n",
       "rank                 2.000000e+00  4.000000e+00  8.000000e+00  2.410000e+02  \n",
       "click_cnts           4.000000e+00  8.000000e+00  1.600000e+01  2.410000e+02  \n",
       "category_id          2.500000e+02  3.280000e+02  4.100000e+02  4.600000e+02  \n",
       "created_at_ts        1.507220e+12  1.507553e+12  1.507756e+12  1.510666e+12  \n",
       "words_count          1.700000e+02  1.970000e+02  2.280000e+02  6.690000e+03  "
      ]
     },
     "execution_count": 15,
     "metadata": {},
     "output_type": "execute_result"
    }
   ],
   "source": [
    "trn_click.describe().T"
   ]
  },
  {
   "cell_type": "code",
   "execution_count": 16,
   "metadata": {},
   "outputs": [
    {
     "data": {
      "text/plain": [
       "200000"
      ]
     },
     "execution_count": 16,
     "metadata": {},
     "output_type": "execute_result"
    }
   ],
   "source": [
    "# 用户数目\n",
    "trn_click[\"user_id\"].nunique()"
   ]
  },
  {
   "cell_type": "code",
   "execution_count": 17,
   "metadata": {},
   "outputs": [
    {
     "data": {
      "text/plain": [
       "2"
      ]
     },
     "execution_count": 17,
     "metadata": {},
     "output_type": "execute_result"
    }
   ],
   "source": [
    "# 每一位用户至少阅读两篇文章\n",
    "trn_click.groupby(\"user_id\")[\"click_timestamp\"].count().min()"
   ]
  },
  {
   "cell_type": "code",
   "execution_count": 18,
   "metadata": {},
   "outputs": [
    {
     "data": {
      "image/png": "[encoded data removed]",
      "text/plain": [
       "<Figure size 864x1440 with 10 Axes>"
      ]
     },
     "metadata": {
      "needs_background": "light"
     },
     "output_type": "display_data"
    }
   ],
   "source": [
    "plt.figure(figsize=(12, 20))\n",
    "i = 1\n",
    "\n",
    "for col in ['click_article_id', 'click_timestamp', 'click_environment', 'click_deviceGroup', 'click_os', 'click_country', \n",
    "            'click_region', 'click_referrer_type', 'rank', 'click_cnts']:\n",
    "    plot_envs = plt.subplot(5, 2, i)\n",
    "    plt_env = plt.subplot(5, 2, i)\n",
    "    i += 1\n",
    "    v = trn_click[col].value_counts(normalize=True).reset_index()[:10]\n",
    "    fig = sns.barplot(x=v[\"index\"], y=v[col])\n",
    "    for f in fig.get_xticklabels():\n",
    "        f.set_rotation(90)\n",
    "    plt.title(col)\n",
    "    \n",
    "plt.tight_layout()\n",
    "plt.savefig(\"imgs/数据分布情况.png\")"
   ]
  },
  {
   "cell_type": "markdown",
   "metadata": {},
   "source": [
    "## 测试集用户日志"
   ]
  },
  {
   "cell_type": "code",
   "execution_count": 19,
   "metadata": {},
   "outputs": [
    {
     "data": {
      "text/html": [
       "<div>\n",
       "<style scoped>\n",
       "    .dataframe tbody tr th:only-of-type {\n",
       "        vertical-align: middle;\n",
       "    }\n",
       "\n",
       "    .dataframe tbody tr th {\n",
       "        vertical-align: top;\n",
       "    }\n",
       "\n",
       "    .dataframe thead th {\n",
       "        text-align: right;\n",
       "    }\n",
       "</style>\n",
       "<table border=\"1\" class=\"dataframe\">\n",
       "  <thead>\n",
       "    <tr style=\"text-align: right;\">\n",
       "      <th></th>\n",
       "      <th>user_id</th>\n",
       "      <th>click_article_id</th>\n",
       "      <th>click_timestamp</th>\n",
       "      <th>click_environment</th>\n",
       "      <th>click_deviceGroup</th>\n",
       "      <th>click_os</th>\n",
       "      <th>click_country</th>\n",
       "      <th>click_region</th>\n",
       "      <th>click_referrer_type</th>\n",
       "      <th>rank</th>\n",
       "      <th>click_cnts</th>\n",
       "      <th>category_id</th>\n",
       "      <th>created_at_ts</th>\n",
       "      <th>words_count</th>\n",
       "    </tr>\n",
       "  </thead>\n",
       "  <tbody>\n",
       "    <tr>\n",
       "      <th>0</th>\n",
       "      <td>249999</td>\n",
       "      <td>160974</td>\n",
       "      <td>1506959142820</td>\n",
       "      <td>4</td>\n",
       "      <td>1</td>\n",
       "      <td>17</td>\n",
       "      <td>1</td>\n",
       "      <td>13</td>\n",
       "      <td>2</td>\n",
       "      <td>19</td>\n",
       "      <td>19</td>\n",
       "      <td>281</td>\n",
       "      <td>1506912747000</td>\n",
       "      <td>259</td>\n",
       "    </tr>\n",
       "    <tr>\n",
       "      <th>1</th>\n",
       "      <td>249999</td>\n",
       "      <td>160417</td>\n",
       "      <td>1506959172820</td>\n",
       "      <td>4</td>\n",
       "      <td>1</td>\n",
       "      <td>17</td>\n",
       "      <td>1</td>\n",
       "      <td>13</td>\n",
       "      <td>2</td>\n",
       "      <td>18</td>\n",
       "      <td>19</td>\n",
       "      <td>281</td>\n",
       "      <td>1506942089000</td>\n",
       "      <td>173</td>\n",
       "    </tr>\n",
       "    <tr>\n",
       "      <th>2</th>\n",
       "      <td>249998</td>\n",
       "      <td>160974</td>\n",
       "      <td>1506959056066</td>\n",
       "      <td>4</td>\n",
       "      <td>1</td>\n",
       "      <td>12</td>\n",
       "      <td>1</td>\n",
       "      <td>13</td>\n",
       "      <td>2</td>\n",
       "      <td>5</td>\n",
       "      <td>5</td>\n",
       "      <td>281</td>\n",
       "      <td>1506912747000</td>\n",
       "      <td>259</td>\n",
       "    </tr>\n",
       "    <tr>\n",
       "      <th>3</th>\n",
       "      <td>249998</td>\n",
       "      <td>202557</td>\n",
       "      <td>1506959086066</td>\n",
       "      <td>4</td>\n",
       "      <td>1</td>\n",
       "      <td>12</td>\n",
       "      <td>1</td>\n",
       "      <td>13</td>\n",
       "      <td>2</td>\n",
       "      <td>4</td>\n",
       "      <td>5</td>\n",
       "      <td>327</td>\n",
       "      <td>1506938401000</td>\n",
       "      <td>219</td>\n",
       "    </tr>\n",
       "    <tr>\n",
       "      <th>4</th>\n",
       "      <td>249997</td>\n",
       "      <td>183665</td>\n",
       "      <td>1506959088613</td>\n",
       "      <td>4</td>\n",
       "      <td>1</td>\n",
       "      <td>17</td>\n",
       "      <td>1</td>\n",
       "      <td>15</td>\n",
       "      <td>5</td>\n",
       "      <td>7</td>\n",
       "      <td>7</td>\n",
       "      <td>301</td>\n",
       "      <td>1500895686000</td>\n",
       "      <td>256</td>\n",
       "    </tr>\n",
       "  </tbody>\n",
       "</table>\n",
       "</div>"
      ],
      "text/plain": [
       "   user_id  click_article_id  click_timestamp  click_environment  \\\n",
       "0   249999            160974    1506959142820                  4   \n",
       "1   249999            160417    1506959172820                  4   \n",
       "2   249998            160974    1506959056066                  4   \n",
       "3   249998            202557    1506959086066                  4   \n",
       "4   249997            183665    1506959088613                  4   \n",
       "\n",
       "   click_deviceGroup  click_os  click_country  click_region  \\\n",
       "0                  1        17              1            13   \n",
       "1                  1        17              1            13   \n",
       "2                  1        12              1            13   \n",
       "3                  1        12              1            13   \n",
       "4                  1        17              1            15   \n",
       "\n",
       "   click_referrer_type  rank  click_cnts  category_id  created_at_ts  \\\n",
       "0                    2    19          19          281  1506912747000   \n",
       "1                    2    18          19          281  1506942089000   \n",
       "2                    2     5           5          281  1506912747000   \n",
       "3                    2     4           5          327  1506938401000   \n",
       "4                    5     7           7          301  1500895686000   \n",
       "\n",
       "   words_count  \n",
       "0          259  \n",
       "1          173  \n",
       "2          259  \n",
       "3          219  \n",
       "4          256  "
      ]
     },
     "execution_count": 19,
     "metadata": {},
     "output_type": "execute_result"
    }
   ],
   "source": [
    "# 测试与训练的中用户ID没有重复\n",
    "tst_click = tst_click.merge(item_df, how='left', on=['click_article_id'])\n",
    "tst_click.head()"
   ]
  },
  {
   "cell_type": "code",
   "execution_count": 20,
   "metadata": {},
   "outputs": [
    {
     "name": "stdout",
     "output_type": "stream",
     "text": [
      "<class 'pandas.core.frame.DataFrame'>\n",
      "Int64Index: 518010 entries, 0 to 518009\n",
      "Data columns (total 14 columns):\n",
      " #   Column               Non-Null Count   Dtype\n",
      "---  ------               --------------   -----\n",
      " 0   user_id              518010 non-null  int64\n",
      " 1   click_article_id     518010 non-null  int64\n",
      " 2   click_timestamp      518010 non-null  int64\n",
      " 3   click_environment    518010 non-null  int64\n",
      " 4   click_deviceGroup    518010 non-null  int64\n",
      " 5   click_os             518010 non-null  int64\n",
      " 6   click_country        518010 non-null  int64\n",
      " 7   click_region         518010 non-null  int64\n",
      " 8   click_referrer_type  518010 non-null  int64\n",
      " 9   rank                 518010 non-null  int64\n",
      " 10  click_cnts           518010 non-null  int64\n",
      " 11  category_id          518010 non-null  int64\n",
      " 12  created_at_ts        518010 non-null  int64\n",
      " 13  words_count          518010 non-null  int64\n",
      "dtypes: int64(14)\n",
      "memory usage: 59.3 MB\n"
     ]
    }
   ],
   "source": [
    "tst_click.info()"
   ]
  },
  {
   "cell_type": "code",
   "execution_count": 21,
   "metadata": {},
   "outputs": [
    {
     "data": {
      "text/html": [
       "<div>\n",
       "<style scoped>\n",
       "    .dataframe tbody tr th:only-of-type {\n",
       "        vertical-align: middle;\n",
       "    }\n",
       "\n",
       "    .dataframe tbody tr th {\n",
       "        vertical-align: top;\n",
       "    }\n",
       "\n",
       "    .dataframe thead th {\n",
       "        text-align: right;\n",
       "    }\n",
       "</style>\n",
       "<table border=\"1\" class=\"dataframe\">\n",
       "  <thead>\n",
       "    <tr style=\"text-align: right;\">\n",
       "      <th></th>\n",
       "      <th>count</th>\n",
       "      <th>mean</th>\n",
       "      <th>std</th>\n",
       "      <th>min</th>\n",
       "      <th>25%</th>\n",
       "      <th>50%</th>\n",
       "      <th>75%</th>\n",
       "      <th>max</th>\n",
       "    </tr>\n",
       "  </thead>\n",
       "  <tbody>\n",
       "    <tr>\n",
       "      <th>user_id</th>\n",
       "      <td>518010.0</td>\n",
       "      <td>2.273424e+05</td>\n",
       "      <td>1.461391e+04</td>\n",
       "      <td>2.000000e+05</td>\n",
       "      <td>2.149260e+05</td>\n",
       "      <td>2.291090e+05</td>\n",
       "      <td>2.401820e+05</td>\n",
       "      <td>2.499990e+05</td>\n",
       "    </tr>\n",
       "    <tr>\n",
       "      <th>click_article_id</th>\n",
       "      <td>518010.0</td>\n",
       "      <td>1.938038e+05</td>\n",
       "      <td>8.827939e+04</td>\n",
       "      <td>1.370000e+02</td>\n",
       "      <td>1.285510e+05</td>\n",
       "      <td>1.991970e+05</td>\n",
       "      <td>2.721430e+05</td>\n",
       "      <td>3.640430e+05</td>\n",
       "    </tr>\n",
       "    <tr>\n",
       "      <th>click_timestamp</th>\n",
       "      <td>518010.0</td>\n",
       "      <td>1.507387e+12</td>\n",
       "      <td>3.706127e+08</td>\n",
       "      <td>1.506959e+12</td>\n",
       "      <td>1.507026e+12</td>\n",
       "      <td>1.507308e+12</td>\n",
       "      <td>1.507666e+12</td>\n",
       "      <td>1.508832e+12</td>\n",
       "    </tr>\n",
       "    <tr>\n",
       "      <th>click_environment</th>\n",
       "      <td>518010.0</td>\n",
       "      <td>3.947300e+00</td>\n",
       "      <td>3.239161e-01</td>\n",
       "      <td>1.000000e+00</td>\n",
       "      <td>4.000000e+00</td>\n",
       "      <td>4.000000e+00</td>\n",
       "      <td>4.000000e+00</td>\n",
       "      <td>4.000000e+00</td>\n",
       "    </tr>\n",
       "    <tr>\n",
       "      <th>click_deviceGroup</th>\n",
       "      <td>518010.0</td>\n",
       "      <td>1.738285e+00</td>\n",
       "      <td>1.020858e+00</td>\n",
       "      <td>1.000000e+00</td>\n",
       "      <td>1.000000e+00</td>\n",
       "      <td>1.000000e+00</td>\n",
       "      <td>3.000000e+00</td>\n",
       "      <td>5.000000e+00</td>\n",
       "    </tr>\n",
       "    <tr>\n",
       "      <th>click_os</th>\n",
       "      <td>518010.0</td>\n",
       "      <td>1.362847e+01</td>\n",
       "      <td>6.625564e+00</td>\n",
       "      <td>2.000000e+00</td>\n",
       "      <td>1.200000e+01</td>\n",
       "      <td>1.700000e+01</td>\n",
       "      <td>1.700000e+01</td>\n",
       "      <td>2.000000e+01</td>\n",
       "    </tr>\n",
       "    <tr>\n",
       "      <th>click_country</th>\n",
       "      <td>518010.0</td>\n",
       "      <td>1.348209e+00</td>\n",
       "      <td>1.703524e+00</td>\n",
       "      <td>1.000000e+00</td>\n",
       "      <td>1.000000e+00</td>\n",
       "      <td>1.000000e+00</td>\n",
       "      <td>1.000000e+00</td>\n",
       "      <td>1.100000e+01</td>\n",
       "    </tr>\n",
       "    <tr>\n",
       "      <th>click_region</th>\n",
       "      <td>518010.0</td>\n",
       "      <td>1.825025e+01</td>\n",
       "      <td>7.060798e+00</td>\n",
       "      <td>1.000000e+00</td>\n",
       "      <td>1.300000e+01</td>\n",
       "      <td>2.100000e+01</td>\n",
       "      <td>2.500000e+01</td>\n",
       "      <td>2.800000e+01</td>\n",
       "    </tr>\n",
       "    <tr>\n",
       "      <th>click_referrer_type</th>\n",
       "      <td>518010.0</td>\n",
       "      <td>1.819614e+00</td>\n",
       "      <td>1.082657e+00</td>\n",
       "      <td>1.000000e+00</td>\n",
       "      <td>1.000000e+00</td>\n",
       "      <td>2.000000e+00</td>\n",
       "      <td>2.000000e+00</td>\n",
       "      <td>7.000000e+00</td>\n",
       "    </tr>\n",
       "    <tr>\n",
       "      <th>rank</th>\n",
       "      <td>518010.0</td>\n",
       "      <td>1.552179e+01</td>\n",
       "      <td>3.395770e+01</td>\n",
       "      <td>1.000000e+00</td>\n",
       "      <td>4.000000e+00</td>\n",
       "      <td>8.000000e+00</td>\n",
       "      <td>1.800000e+01</td>\n",
       "      <td>9.380000e+02</td>\n",
       "    </tr>\n",
       "    <tr>\n",
       "      <th>click_cnts</th>\n",
       "      <td>518010.0</td>\n",
       "      <td>3.004359e+01</td>\n",
       "      <td>5.686802e+01</td>\n",
       "      <td>1.000000e+00</td>\n",
       "      <td>1.000000e+01</td>\n",
       "      <td>1.900000e+01</td>\n",
       "      <td>3.500000e+01</td>\n",
       "      <td>9.380000e+02</td>\n",
       "    </tr>\n",
       "    <tr>\n",
       "      <th>category_id</th>\n",
       "      <td>518010.0</td>\n",
       "      <td>3.053250e+02</td>\n",
       "      <td>1.104115e+02</td>\n",
       "      <td>1.000000e+00</td>\n",
       "      <td>2.520000e+02</td>\n",
       "      <td>3.230000e+02</td>\n",
       "      <td>3.990000e+02</td>\n",
       "      <td>4.600000e+02</td>\n",
       "    </tr>\n",
       "    <tr>\n",
       "      <th>created_at_ts</th>\n",
       "      <td>518010.0</td>\n",
       "      <td>1.506883e+12</td>\n",
       "      <td>5.816668e+09</td>\n",
       "      <td>1.265812e+12</td>\n",
       "      <td>1.506970e+12</td>\n",
       "      <td>1.507249e+12</td>\n",
       "      <td>1.507630e+12</td>\n",
       "      <td>1.509949e+12</td>\n",
       "    </tr>\n",
       "    <tr>\n",
       "      <th>words_count</th>\n",
       "      <td>518010.0</td>\n",
       "      <td>2.109663e+02</td>\n",
       "      <td>8.304006e+01</td>\n",
       "      <td>0.000000e+00</td>\n",
       "      <td>1.760000e+02</td>\n",
       "      <td>1.990000e+02</td>\n",
       "      <td>2.320000e+02</td>\n",
       "      <td>3.082000e+03</td>\n",
       "    </tr>\n",
       "  </tbody>\n",
       "</table>\n",
       "</div>"
      ],
      "text/plain": [
       "                        count          mean           std           min  \\\n",
       "user_id              518010.0  2.273424e+05  1.461391e+04  2.000000e+05   \n",
       "click_article_id     518010.0  1.938038e+05  8.827939e+04  1.370000e+02   \n",
       "click_timestamp      518010.0  1.507387e+12  3.706127e+08  1.506959e+12   \n",
       "click_environment    518010.0  3.947300e+00  3.239161e-01  1.000000e+00   \n",
       "click_deviceGroup    518010.0  1.738285e+00  1.020858e+00  1.000000e+00   \n",
       "click_os             518010.0  1.362847e+01  6.625564e+00  2.000000e+00   \n",
       "click_country        518010.0  1.348209e+00  1.703524e+00  1.000000e+00   \n",
       "click_region         518010.0  1.825025e+01  7.060798e+00  1.000000e+00   \n",
       "click_referrer_type  518010.0  1.819614e+00  1.082657e+00  1.000000e+00   \n",
       "rank                 518010.0  1.552179e+01  3.395770e+01  1.000000e+00   \n",
       "click_cnts           518010.0  3.004359e+01  5.686802e+01  1.000000e+00   \n",
       "category_id          518010.0  3.053250e+02  1.104115e+02  1.000000e+00   \n",
       "created_at_ts        518010.0  1.506883e+12  5.816668e+09  1.265812e+12   \n",
       "words_count          518010.0  2.109663e+02  8.304006e+01  0.000000e+00   \n",
       "\n",
       "                              25%           50%           75%           max  \n",
       "user_id              2.149260e+05  2.291090e+05  2.401820e+05  2.499990e+05  \n",
       "click_article_id     1.285510e+05  1.991970e+05  2.721430e+05  3.640430e+05  \n",
       "click_timestamp      1.507026e+12  1.507308e+12  1.507666e+12  1.508832e+12  \n",
       "click_environment    4.000000e+00  4.000000e+00  4.000000e+00  4.000000e+00  \n",
       "click_deviceGroup    1.000000e+00  1.000000e+00  3.000000e+00  5.000000e+00  \n",
       "click_os             1.200000e+01  1.700000e+01  1.700000e+01  2.000000e+01  \n",
       "click_country        1.000000e+00  1.000000e+00  1.000000e+00  1.100000e+01  \n",
       "click_region         1.300000e+01  2.100000e+01  2.500000e+01  2.800000e+01  \n",
       "click_referrer_type  1.000000e+00  2.000000e+00  2.000000e+00  7.000000e+00  \n",
       "rank                 4.000000e+00  8.000000e+00  1.800000e+01  9.380000e+02  \n",
       "click_cnts           1.000000e+01  1.900000e+01  3.500000e+01  9.380000e+02  \n",
       "category_id          2.520000e+02  3.230000e+02  3.990000e+02  4.600000e+02  \n",
       "created_at_ts        1.506970e+12  1.507249e+12  1.507630e+12  1.509949e+12  \n",
       "words_count          1.760000e+02  1.990000e+02  2.320000e+02  3.082000e+03  "
      ]
     },
     "execution_count": 21,
     "metadata": {},
     "output_type": "execute_result"
    }
   ],
   "source": [
    "tst_click.describe().T"
   ]
  },
  {
   "cell_type": "code",
   "execution_count": 22,
   "metadata": {},
   "outputs": [
    {
     "data": {
      "text/plain": [
       "50000"
      ]
     },
     "execution_count": 22,
     "metadata": {},
     "output_type": "execute_result"
    }
   ],
   "source": [
    "# 五万测试用户\n",
    "tst_click.user_id.nunique()"
   ]
  },
  {
   "cell_type": "code",
   "execution_count": 23,
   "metadata": {},
   "outputs": [
    {
     "data": {
      "text/plain": [
       "0"
      ]
     },
     "execution_count": 23,
     "metadata": {},
     "output_type": "execute_result"
    }
   ],
   "source": [
    "# 测试否有重复用户\n",
    "tst_click.user_id.isin(trn_click.user_id).sum()"
   ]
  },
  {
   "cell_type": "code",
   "execution_count": 24,
   "metadata": {},
   "outputs": [
    {
     "data": {
      "text/plain": [
       "1"
      ]
     },
     "execution_count": 24,
     "metadata": {},
     "output_type": "execute_result"
    }
   ],
   "source": [
    "tst_click.groupby('user_id')['click_article_id'].count().min()"
   ]
  },
  {
   "cell_type": "markdown",
   "metadata": {},
   "source": [
    "## 新闻文章信息数据表"
   ]
  },
  {
   "cell_type": "code",
   "execution_count": 25,
   "metadata": {},
   "outputs": [
    {
     "name": "stdout",
     "output_type": "stream",
     "text": [
      "<class 'pandas.core.frame.DataFrame'>\n",
      "RangeIndex: 364047 entries, 0 to 364046\n",
      "Data columns (total 4 columns):\n",
      " #   Column            Non-Null Count   Dtype\n",
      "---  ------            --------------   -----\n",
      " 0   click_article_id  364047 non-null  int64\n",
      " 1   category_id       364047 non-null  int64\n",
      " 2   created_at_ts     364047 non-null  int64\n",
      " 3   words_count       364047 non-null  int64\n",
      "dtypes: int64(4)\n",
      "memory usage: 11.1 MB\n"
     ]
    }
   ],
   "source": [
    "item_df.info()"
   ]
  },
  {
   "cell_type": "code",
   "execution_count": 26,
   "metadata": {},
   "outputs": [
    {
     "data": {
      "text/html": [
       "<div>\n",
       "<style scoped>\n",
       "    .dataframe tbody tr th:only-of-type {\n",
       "        vertical-align: middle;\n",
       "    }\n",
       "\n",
       "    .dataframe tbody tr th {\n",
       "        vertical-align: top;\n",
       "    }\n",
       "\n",
       "    .dataframe thead th {\n",
       "        text-align: right;\n",
       "    }\n",
       "</style>\n",
       "<table border=\"1\" class=\"dataframe\">\n",
       "  <thead>\n",
       "    <tr style=\"text-align: right;\">\n",
       "      <th></th>\n",
       "      <th>click_article_id</th>\n",
       "      <th>category_id</th>\n",
       "      <th>created_at_ts</th>\n",
       "      <th>words_count</th>\n",
       "    </tr>\n",
       "  </thead>\n",
       "  <tbody>\n",
       "    <tr>\n",
       "      <th>0</th>\n",
       "      <td>0</td>\n",
       "      <td>0</td>\n",
       "      <td>1513144419000</td>\n",
       "      <td>168</td>\n",
       "    </tr>\n",
       "    <tr>\n",
       "      <th>1</th>\n",
       "      <td>1</td>\n",
       "      <td>1</td>\n",
       "      <td>1405341936000</td>\n",
       "      <td>189</td>\n",
       "    </tr>\n",
       "    <tr>\n",
       "      <th>2</th>\n",
       "      <td>2</td>\n",
       "      <td>1</td>\n",
       "      <td>1408667706000</td>\n",
       "      <td>250</td>\n",
       "    </tr>\n",
       "    <tr>\n",
       "      <th>3</th>\n",
       "      <td>3</td>\n",
       "      <td>1</td>\n",
       "      <td>1408468313000</td>\n",
       "      <td>230</td>\n",
       "    </tr>\n",
       "    <tr>\n",
       "      <th>4</th>\n",
       "      <td>4</td>\n",
       "      <td>1</td>\n",
       "      <td>1407071171000</td>\n",
       "      <td>162</td>\n",
       "    </tr>\n",
       "    <tr>\n",
       "      <th>364042</th>\n",
       "      <td>364042</td>\n",
       "      <td>460</td>\n",
       "      <td>1434034118000</td>\n",
       "      <td>144</td>\n",
       "    </tr>\n",
       "    <tr>\n",
       "      <th>364043</th>\n",
       "      <td>364043</td>\n",
       "      <td>460</td>\n",
       "      <td>1434148472000</td>\n",
       "      <td>463</td>\n",
       "    </tr>\n",
       "    <tr>\n",
       "      <th>364044</th>\n",
       "      <td>364044</td>\n",
       "      <td>460</td>\n",
       "      <td>1457974279000</td>\n",
       "      <td>177</td>\n",
       "    </tr>\n",
       "    <tr>\n",
       "      <th>364045</th>\n",
       "      <td>364045</td>\n",
       "      <td>460</td>\n",
       "      <td>1515964737000</td>\n",
       "      <td>126</td>\n",
       "    </tr>\n",
       "    <tr>\n",
       "      <th>364046</th>\n",
       "      <td>364046</td>\n",
       "      <td>460</td>\n",
       "      <td>1505811330000</td>\n",
       "      <td>479</td>\n",
       "    </tr>\n",
       "  </tbody>\n",
       "</table>\n",
       "</div>"
      ],
      "text/plain": [
       "        click_article_id  category_id  created_at_ts  words_count\n",
       "0                      0            0  1513144419000          168\n",
       "1                      1            1  1405341936000          189\n",
       "2                      2            1  1408667706000          250\n",
       "3                      3            1  1408468313000          230\n",
       "4                      4            1  1407071171000          162\n",
       "364042            364042          460  1434034118000          144\n",
       "364043            364043          460  1434148472000          463\n",
       "364044            364044          460  1457974279000          177\n",
       "364045            364045          460  1515964737000          126\n",
       "364046            364046          460  1505811330000          479"
      ]
     },
     "execution_count": 26,
     "metadata": {},
     "output_type": "execute_result"
    }
   ],
   "source": [
    "item_df.head().append(item_df.tail())"
   ]
  },
  {
   "cell_type": "code",
   "execution_count": 27,
   "metadata": {},
   "outputs": [
    {
     "data": {
      "text/plain": [
       "(array([644.,  34.,  21.,  16.,  12.,  13.,   7.,  10.,   8.,   7.,   7.,\n",
       "          9.,   5.,   8.,   7.,   9.,   7.,  12.,  10.,  20.]),\n",
       " array([1.0000e+00, 1.7520e+02, 3.4940e+02, 5.2360e+02, 6.9780e+02,\n",
       "        8.7200e+02, 1.0462e+03, 1.2204e+03, 1.3946e+03, 1.5688e+03,\n",
       "        1.7430e+03, 1.9172e+03, 2.0914e+03, 2.2656e+03, 2.4398e+03,\n",
       "        2.6140e+03, 2.7882e+03, 2.9624e+03, 3.1366e+03, 3.3108e+03,\n",
       "        3.4850e+03]),\n",
       " <BarContainer object of 20 artists>)"
      ]
     },
     "execution_count": 27,
     "metadata": {},
     "output_type": "execute_result"
    },
    {
     "data": {
      "image/png": "[encoded data removed]",
      "text/plain": [
       "<Figure size 432x288 with 1 Axes>"
      ]
     },
     "metadata": {
      "needs_background": "light"
     },
     "output_type": "display_data"
    }
   ],
   "source": [
    "value = item_df[\"words_count\"].value_counts()\n",
    "plt.hist(value.values, bins=20)"
   ]
  },
  {
   "cell_type": "markdown",
   "metadata": {},
   "source": [
    "### 知识点\n",
    "频数分布直方图条与条之间无间隔，而条形统计图有。\n",
    "1）条形统计图中，横轴上的数据是孤立的，是一个具体的数据。\n",
    "\n",
    "    而直方图中，横轴上的数据是连续的，是一个范围。\n",
    "\n",
    "2）条形统计图是用条形的高度表示频数的大小。\n",
    "\n",
    "    而直方图是用长方形的面积表示频数，长方形的面积越大，就表示这组数据的频数越大；只有当长方形的宽都相等时，才可以用长方形的高表示频数的大小。\n",
    "\n",
    "（3）条形统计图中，各个数据之间是相对独立的，各个条形之间是有空隙的。\n",
    "\n",
    "    而在直方图中，各长方形对应的是一个范围，由于每两个相邻范围之间不重叠、不遗漏，因此在直方图中，长方形之间没有空隙"
   ]
  },
  {
   "cell_type": "code",
   "execution_count": 28,
   "metadata": {},
   "outputs": [
    {
     "name": "stdout",
     "output_type": "stream",
     "text": [
      "461\n"
     ]
    },
    {
     "data": {
      "text/plain": [
       "<AxesSubplot:>"
      ]
     },
     "execution_count": 28,
     "metadata": {},
     "output_type": "execute_result"
    },
    {
     "data": {
      "image/png": "[encoded data removed]",
      "text/plain": [
       "<Figure size 432x288 with 1 Axes>"
      ]
     },
     "metadata": {
      "needs_background": "light"
     },
     "output_type": "display_data"
    }
   ],
   "source": [
    "#　文章的分类主题更加倾向于id靠后的数据\n",
    "print(item_df['category_id'].nunique())     # 461个文章主题\n",
    "item_df['category_id'].hist()"
   ]
  },
  {
   "cell_type": "code",
   "execution_count": 29,
   "metadata": {},
   "outputs": [
    {
     "data": {
      "text/plain": [
       "<AxesSubplot:xlabel='category_id', ylabel='Density'>"
      ]
     },
     "execution_count": 29,
     "metadata": {},
     "output_type": "execute_result"
    },
    {
     "data": {
      "image/png": "[encoded data removed]",
      "text/plain": [
       "<Figure size 432x288 with 1 Axes>"
      ]
     },
     "metadata": {
      "needs_background": "light"
     },
     "output_type": "display_data"
    }
   ],
   "source": [
    "# 连续性随机变量可以绘制其概括密度曲线\n",
    "sns.kdeplot(item_df['category_id'], shade=True)"
   ]
  },
  {
   "cell_type": "code",
   "execution_count": 30,
   "metadata": {},
   "outputs": [
    {
     "data": {
      "text/plain": [
       "(364047, 4)"
      ]
     },
     "execution_count": 30,
     "metadata": {},
     "output_type": "execute_result"
    }
   ],
   "source": [
    "# 文章数目\n",
    "item_df.shape  "
   ]
  },
  {
   "cell_type": "markdown",
   "metadata": {},
   "source": [
    "## 用户是否重复点击"
   ]
  },
  {
   "cell_type": "code",
   "execution_count": 31,
   "metadata": {},
   "outputs": [
    {
     "data": {
      "text/html": [
       "<div>\n",
       "<style scoped>\n",
       "    .dataframe tbody tr th:only-of-type {\n",
       "        vertical-align: middle;\n",
       "    }\n",
       "\n",
       "    .dataframe tbody tr th {\n",
       "        vertical-align: top;\n",
       "    }\n",
       "\n",
       "    .dataframe thead th {\n",
       "        text-align: right;\n",
       "    }\n",
       "</style>\n",
       "<table border=\"1\" class=\"dataframe\">\n",
       "  <thead>\n",
       "    <tr style=\"text-align: right;\">\n",
       "      <th></th>\n",
       "      <th>user_id</th>\n",
       "      <th>click_article_id</th>\n",
       "      <th>click_timestamp</th>\n",
       "      <th>click_environment</th>\n",
       "      <th>click_deviceGroup</th>\n",
       "      <th>click_os</th>\n",
       "      <th>click_country</th>\n",
       "      <th>click_region</th>\n",
       "      <th>click_referrer_type</th>\n",
       "      <th>rank</th>\n",
       "      <th>click_cnts</th>\n",
       "      <th>category_id</th>\n",
       "      <th>created_at_ts</th>\n",
       "      <th>words_count</th>\n",
       "    </tr>\n",
       "  </thead>\n",
       "  <tbody>\n",
       "    <tr>\n",
       "      <th>0</th>\n",
       "      <td>199999</td>\n",
       "      <td>160417</td>\n",
       "      <td>1507029570190</td>\n",
       "      <td>4</td>\n",
       "      <td>1</td>\n",
       "      <td>17</td>\n",
       "      <td>1</td>\n",
       "      <td>13</td>\n",
       "      <td>1</td>\n",
       "      <td>11</td>\n",
       "      <td>11</td>\n",
       "      <td>281</td>\n",
       "      <td>1506942089000</td>\n",
       "      <td>173</td>\n",
       "    </tr>\n",
       "    <tr>\n",
       "      <th>1</th>\n",
       "      <td>199999</td>\n",
       "      <td>5408</td>\n",
       "      <td>1507029571478</td>\n",
       "      <td>4</td>\n",
       "      <td>1</td>\n",
       "      <td>17</td>\n",
       "      <td>1</td>\n",
       "      <td>13</td>\n",
       "      <td>1</td>\n",
       "      <td>10</td>\n",
       "      <td>11</td>\n",
       "      <td>4</td>\n",
       "      <td>1506994257000</td>\n",
       "      <td>118</td>\n",
       "    </tr>\n",
       "    <tr>\n",
       "      <th>2</th>\n",
       "      <td>199999</td>\n",
       "      <td>50823</td>\n",
       "      <td>1507029601478</td>\n",
       "      <td>4</td>\n",
       "      <td>1</td>\n",
       "      <td>17</td>\n",
       "      <td>1</td>\n",
       "      <td>13</td>\n",
       "      <td>1</td>\n",
       "      <td>9</td>\n",
       "      <td>11</td>\n",
       "      <td>99</td>\n",
       "      <td>1507013614000</td>\n",
       "      <td>213</td>\n",
       "    </tr>\n",
       "    <tr>\n",
       "      <th>3</th>\n",
       "      <td>199998</td>\n",
       "      <td>157770</td>\n",
       "      <td>1507029532200</td>\n",
       "      <td>4</td>\n",
       "      <td>1</td>\n",
       "      <td>17</td>\n",
       "      <td>1</td>\n",
       "      <td>25</td>\n",
       "      <td>5</td>\n",
       "      <td>40</td>\n",
       "      <td>40</td>\n",
       "      <td>281</td>\n",
       "      <td>1506983935000</td>\n",
       "      <td>201</td>\n",
       "    </tr>\n",
       "    <tr>\n",
       "      <th>4</th>\n",
       "      <td>199998</td>\n",
       "      <td>96613</td>\n",
       "      <td>1507029671831</td>\n",
       "      <td>4</td>\n",
       "      <td>1</td>\n",
       "      <td>17</td>\n",
       "      <td>1</td>\n",
       "      <td>25</td>\n",
       "      <td>5</td>\n",
       "      <td>39</td>\n",
       "      <td>40</td>\n",
       "      <td>209</td>\n",
       "      <td>1506938444000</td>\n",
       "      <td>185</td>\n",
       "    </tr>\n",
       "  </tbody>\n",
       "</table>\n",
       "</div>"
      ],
      "text/plain": [
       "   user_id  click_article_id  click_timestamp  click_environment  \\\n",
       "0   199999            160417    1507029570190                  4   \n",
       "1   199999              5408    1507029571478                  4   \n",
       "2   199999             50823    1507029601478                  4   \n",
       "3   199998            157770    1507029532200                  4   \n",
       "4   199998             96613    1507029671831                  4   \n",
       "\n",
       "   click_deviceGroup  click_os  click_country  click_region  \\\n",
       "0                  1        17              1            13   \n",
       "1                  1        17              1            13   \n",
       "2                  1        17              1            13   \n",
       "3                  1        17              1            25   \n",
       "4                  1        17              1            25   \n",
       "\n",
       "   click_referrer_type  rank  click_cnts  category_id  created_at_ts  \\\n",
       "0                    1    11          11          281  1506942089000   \n",
       "1                    1    10          11            4  1506994257000   \n",
       "2                    1     9          11           99  1507013614000   \n",
       "3                    5    40          40          281  1506983935000   \n",
       "4                    5    39          40          209  1506938444000   \n",
       "\n",
       "   words_count  \n",
       "0          173  \n",
       "1          118  \n",
       "2          213  \n",
       "3          201  \n",
       "4          185  "
      ]
     },
     "execution_count": 31,
     "metadata": {},
     "output_type": "execute_result"
    }
   ],
   "source": [
    "# 全量数据\n",
    "user_click_df = trn_click.append(tst_click)\n",
    "user_click_df = user_click_df.reset_index(drop=True)\n",
    "user_click_df.head()"
   ]
  },
  {
   "cell_type": "code",
   "execution_count": 32,
   "metadata": {},
   "outputs": [],
   "source": [
    "dub_cnts = user_click_df.groupby([\"user_id\", \"click_article_id\"])[\"click_timestamp\"].agg([\"count\"])\n",
    "dub_cnts = dub_cnts.reset_index()"
   ]
  },
  {
   "cell_type": "code",
   "execution_count": 33,
   "metadata": {},
   "outputs": [
    {
     "data": {
      "text/html": [
       "<div>\n",
       "<style scoped>\n",
       "    .dataframe tbody tr th:only-of-type {\n",
       "        vertical-align: middle;\n",
       "    }\n",
       "\n",
       "    .dataframe tbody tr th {\n",
       "        vertical-align: top;\n",
       "    }\n",
       "\n",
       "    .dataframe thead th {\n",
       "        text-align: right;\n",
       "    }\n",
       "</style>\n",
       "<table border=\"1\" class=\"dataframe\">\n",
       "  <thead>\n",
       "    <tr style=\"text-align: right;\">\n",
       "      <th></th>\n",
       "      <th>user_id</th>\n",
       "      <th>click_article_id</th>\n",
       "      <th>count</th>\n",
       "    </tr>\n",
       "  </thead>\n",
       "  <tbody>\n",
       "    <tr>\n",
       "      <th>311242</th>\n",
       "      <td>86295</td>\n",
       "      <td>74254</td>\n",
       "      <td>10</td>\n",
       "    </tr>\n",
       "    <tr>\n",
       "      <th>311243</th>\n",
       "      <td>86295</td>\n",
       "      <td>76268</td>\n",
       "      <td>10</td>\n",
       "    </tr>\n",
       "    <tr>\n",
       "      <th>393761</th>\n",
       "      <td>103237</td>\n",
       "      <td>205948</td>\n",
       "      <td>10</td>\n",
       "    </tr>\n",
       "    <tr>\n",
       "      <th>393763</th>\n",
       "      <td>103237</td>\n",
       "      <td>235689</td>\n",
       "      <td>10</td>\n",
       "    </tr>\n",
       "    <tr>\n",
       "      <th>576902</th>\n",
       "      <td>134850</td>\n",
       "      <td>69463</td>\n",
       "      <td>13</td>\n",
       "    </tr>\n",
       "  </tbody>\n",
       "</table>\n",
       "</div>"
      ],
      "text/plain": [
       "        user_id  click_article_id  count\n",
       "311242    86295             74254     10\n",
       "311243    86295             76268     10\n",
       "393761   103237            205948     10\n",
       "393763   103237            235689     10\n",
       "576902   134850             69463     13"
      ]
     },
     "execution_count": 33,
     "metadata": {},
     "output_type": "execute_result"
    }
   ],
   "source": [
    "# 用户重复点击次数超过七次的数据\n",
    "dub_cnts[dub_cnts[\"count\"]>7]"
   ]
  },
  {
   "cell_type": "code",
   "execution_count": 34,
   "metadata": {},
   "outputs": [
    {
     "data": {
      "text/plain": [
       "array([ 1,  2,  4,  3,  6,  5, 10,  7, 13])"
      ]
     },
     "execution_count": 34,
     "metadata": {},
     "output_type": "execute_result"
    }
   ],
   "source": [
    "dub_cnts[\"count\"].unique()"
   ]
  },
  {
   "cell_type": "code",
   "execution_count": 35,
   "metadata": {},
   "outputs": [
    {
     "data": {
      "text/plain": [
       "1     9.924795e-01\n",
       "2     7.183625e-03\n",
       "3     2.608631e-04\n",
       "4     4.759824e-05\n",
       "5     1.607213e-05\n",
       "6     7.417907e-06\n",
       "10    2.472636e-06\n",
       "7     1.854477e-06\n",
       "13    6.181589e-07\n",
       "Name: count, dtype: float64"
      ]
     },
     "execution_count": 35,
     "metadata": {},
     "output_type": "execute_result"
    }
   ],
   "source": [
    "# 约99.2%的用户不会进行重复广告点击\n",
    "dub_cnts[\"count\"].value_counts(normalize=True)"
   ]
  },
  {
   "cell_type": "markdown",
   "metadata": {},
   "source": [
    "## 用户点击情况变化分析"
   ]
  },
  {
   "cell_type": "code",
   "execution_count": 37,
   "metadata": {},
   "outputs": [],
   "source": [
    "def plot_envs(df, cols, r, c):\n",
    "    plt.figure()\n",
    "    plt.figure(figsize=(10, 5))\n",
    "    i = 1\n",
    "    for col in cols:\n",
    "        plt.subplot(r, c, i)\n",
    "        i += 1\n",
    "        v = df[col].value_counts().reset_index()\n",
    "        v.rename(columns={\"index\":\"classes\"}, inplace=True)\n",
    "        fig = sns.barplot(x=v['classes'], y=v[col])\n",
    "        for item in fig.get_xticklabels():\n",
    "            item.set_rotation(90)\n",
    "        plt.title(col)\n",
    "    plt.tight_layout()\n",
    "    plt.show()"
   ]
  },
  {
   "cell_type": "code",
   "execution_count": 38,
   "metadata": {},
   "outputs": [
    {
     "data": {
      "text/plain": [
       "<Figure size 432x288 with 0 Axes>"
      ]
     },
     "metadata": {},
     "output_type": "display_data"
    },
    {
     "data": {
      "image/png": "[encoded data removed]",
      "text/plain": [
       "<Figure size 720x360 with 6 Axes>"
      ]
     },
     "metadata": {
      "needs_background": "light"
     },
     "output_type": "display_data"
    },
    {
     "data": {
      "text/plain": [
       "<Figure size 432x288 with 0 Axes>"
      ]
     },
     "metadata": {},
     "output_type": "display_data"
    },
    {
     "data": {
      "image/png": "[encoded data removed]",
      "text/plain": [
       "<Figure size 720x360 with 6 Axes>"
      ]
     },
     "metadata": {
      "needs_background": "light"
     },
     "output_type": "display_data"
    },
    {
     "data": {
      "text/plain": [
       "<Figure size 432x288 with 0 Axes>"
      ]
     },
     "metadata": {},
     "output_type": "display_data"
    },
    {
     "data": {
      "image/png": "[encoded data removed]",
      "text/plain": [
       "<Figure size 720x360 with 6 Axes>"
      ]
     },
     "metadata": {
      "needs_background": "light"
     },
     "output_type": "display_data"
    },
    {
     "data": {
      "text/plain": [
       "<Figure size 432x288 with 0 Axes>"
      ]
     },
     "metadata": {},
     "output_type": "display_data"
    },
    {
     "data": {
      "image/png": "[encoded data removed]",
      "text/plain": [
       "<Figure size 720x360 with 6 Axes>"
      ]
     },
     "metadata": {
      "needs_background": "light"
     },
     "output_type": "display_data"
    },
    {
     "data": {
      "text/plain": [
       "<Figure size 432x288 with 0 Axes>"
      ]
     },
     "metadata": {},
     "output_type": "display_data"
    },
    {
     "data": {
      "image/png": "[encoded data removed]",
      "text/plain": [
       "<Figure size 720x360 with 6 Axes>"
      ]
     },
     "metadata": {
      "needs_background": "light"
     },
     "output_type": "display_data"
    },
    {
     "data": {
      "text/plain": [
       "<Figure size 432x288 with 0 Axes>"
      ]
     },
     "metadata": {},
     "output_type": "display_data"
    },
    {
     "data": {
      "image/png": "[encoded data removed]",
      "text/plain": [
       "<Figure size 720x360 with 6 Axes>"
      ]
     },
     "metadata": {
      "needs_background": "light"
     },
     "output_type": "display_data"
    },
    {
     "data": {
      "text/plain": [
       "<Figure size 432x288 with 0 Axes>"
      ]
     },
     "metadata": {},
     "output_type": "display_data"
    },
    {
     "data": {
      "image/png": "[encoded data removed]",
      "text/plain": [
       "<Figure size 720x360 with 6 Axes>"
      ]
     },
     "metadata": {
      "needs_background": "light"
     },
     "output_type": "display_data"
    },
    {
     "data": {
      "text/plain": [
       "<Figure size 432x288 with 0 Axes>"
      ]
     },
     "metadata": {},
     "output_type": "display_data"
    },
    {
     "data": {
      "image/png": "[encoded data removed]",
      "text/plain": [
       "<Figure size 720x360 with 6 Axes>"
      ]
     },
     "metadata": {
      "needs_background": "light"
     },
     "output_type": "display_data"
    },
    {
     "data": {
      "text/plain": [
       "<Figure size 432x288 with 0 Axes>"
      ]
     },
     "metadata": {},
     "output_type": "display_data"
    },
    {
     "data": {
      "image/png": "[encoded data removed]",
      "text/plain": [
       "<Figure size 720x360 with 6 Axes>"
      ]
     },
     "metadata": {
      "needs_background": "light"
     },
     "output_type": "display_data"
    },
    {
     "data": {
      "text/plain": [
       "<Figure size 432x288 with 0 Axes>"
      ]
     },
     "metadata": {},
     "output_type": "display_data"
    },
    {
     "data": {
      "image/png": "[encoded data removed]",
      "text/plain": [
       "<Figure size 720x360 with 6 Axes>"
      ]
     },
     "metadata": {
      "needs_background": "light"
     },
     "output_type": "display_data"
    }
   ],
   "source": [
    "# 分析用户点击环境变化是否明显，这里随机采样10个用户分析这些用户的点击环境分布\n",
    "sample_user_ids = np.random.choice(tst_click['user_id'].unique(), size=10, replace=False)\n",
    "sample_users = user_click_df[user_click_df['user_id'].isin(sample_user_ids)]\n",
    "\n",
    "# 用户点击环境\n",
    "cols = ['click_environment','click_deviceGroup', 'click_os', 'click_country', 'click_region','click_referrer_type']\n",
    "\n",
    "for _, user_df in sample_users.groupby('user_id'):\n",
    "    plot_envs(user_df, cols, 2, 3)"
   ]
  },
  {
   "cell_type": "markdown",
   "metadata": {},
   "source": [
    "## 用户点击的文章数目情况\n",
    "目的：查看用户的点击情况，分析活跃用户和不活跃用户"
   ]
  },
  {
   "cell_type": "code",
   "execution_count": 39,
   "metadata": {},
   "outputs": [
    {
     "data": {
      "text/plain": [
       "[<matplotlib.lines.Line2D at 0x7fabfae7b8e0>]"
      ]
     },
     "execution_count": 39,
     "metadata": {},
     "output_type": "execute_result"
    },
    {
     "data": {
      "image/png": "[encoded data removed]",
      "text/plain": [
       "<Figure size 432x288 with 1 Axes>"
      ]
     },
     "metadata": {
      "needs_background": "light"
     },
     "output_type": "display_data"
    }
   ],
   "source": [
    "user_click_item_count = user_click_df.groupby(\"user_id\")[\"click_article_id\"].count()\n",
    "plt.plot(sorted(user_click_item_count, reverse=True))"
   ]
  },
  {
   "cell_type": "markdown",
   "metadata": {},
   "source": [
    "### 活跃用户"
   ]
  },
  {
   "cell_type": "code",
   "execution_count": 40,
   "metadata": {},
   "outputs": [
    {
     "data": {
      "text/plain": [
       "[<matplotlib.lines.Line2D at 0x7fabfac9a820>]"
      ]
     },
     "execution_count": 40,
     "metadata": {},
     "output_type": "execute_result"
    },
    {
     "data": {
      "image/png": "[encoded data removed]",
      "text/plain": [
       "<Figure size 432x288 with 1 Axes>"
      ]
     },
     "metadata": {
      "needs_background": "light"
     },
     "output_type": "display_data"
    }
   ],
   "source": [
    "plt.plot(sorted(user_click_item_count, reverse=True)[:50])"
   ]
  },
  {
   "cell_type": "markdown",
   "metadata": {},
   "source": [
    "结论：点击次数排前50的用户的点击次数都在100次以上。思路：<font color=\"red\">我们可以定义点击次数大于等于100次的用户为活跃用户</font>，这是一种简单的处理思路， 判断用户活跃度，更加全面的是再结合上点击时间，后面我们会基于点击次数和点击时间两个方面来判断用户活跃度。"
   ]
  },
  {
   "cell_type": "markdown",
   "metadata": {},
   "source": [
    "### 不活跃用户"
   ]
  },
  {
   "cell_type": "code",
   "execution_count": 41,
   "metadata": {},
   "outputs": [
    {
     "data": {
      "text/plain": [
       "[<matplotlib.lines.Line2D at 0x7fabfeeaf100>]"
      ]
     },
     "execution_count": 41,
     "metadata": {},
     "output_type": "execute_result"
    },
    {
     "data": {
      "image/png": "[encoded data removed]",
      "text/plain": [
       "<Figure size 432x288 with 1 Axes>"
      ]
     },
     "metadata": {
      "needs_background": "light"
     },
     "output_type": "display_data"
    }
   ],
   "source": [
    "plt.plot(sorted(user_click_item_count, reverse=True)[25000:50000])"
   ]
  },
  {
   "cell_type": "markdown",
   "metadata": {},
   "source": [
    "结论：文章点击次数小于等于2的用户居多。"
   ]
  },
  {
   "cell_type": "markdown",
   "metadata": {},
   "source": [
    "## 新闻点击次数分析\n",
    "目的：统计每一篇新闻所阅读的用户数目,查看用户点击最大文章的点击数目"
   ]
  },
  {
   "cell_type": "code",
   "execution_count": 42,
   "metadata": {},
   "outputs": [
    {
     "data": {
      "text/plain": [
       "[<matplotlib.lines.Line2D at 0x7fabfaddb4f0>]"
      ]
     },
     "execution_count": 42,
     "metadata": {},
     "output_type": "execute_result"
    },
    {
     "data": {
      "image/png": "[encoded data removed]",
      "text/plain": [
       "<Figure size 432x288 with 1 Axes>"
      ]
     },
     "metadata": {
      "needs_background": "light"
     },
     "output_type": "display_data"
    }
   ],
   "source": [
    "article_cnts = sorted(user_click_df.groupby(\"click_article_id\")[\"user_id\"].count(), reverse=True)\n",
    "plt.plot(article_cnts)"
   ]
  },
  {
   "cell_type": "code",
   "execution_count": 43,
   "metadata": {},
   "outputs": [
    {
     "data": {
      "text/plain": [
       "[<matplotlib.lines.Line2D at 0x7fabfacd8940>]"
      ]
     },
     "execution_count": 43,
     "metadata": {},
     "output_type": "execute_result"
    },
    {
     "data": {
      "image/png": "[encoded data removed]",
      "text/plain": [
       "<Figure size 432x288 with 1 Axes>"
      ]
     },
     "metadata": {
      "needs_background": "light"
     },
     "output_type": "display_data"
    }
   ],
   "source": [
    "plt.plot(article_cnts[:100])"
   ]
  },
  {
   "cell_type": "markdown",
   "metadata": {},
   "source": [
    "结论：点击次数最多的前100篇新闻，点击次数都是大于1000"
   ]
  },
  {
   "cell_type": "markdown",
   "metadata": {},
   "source": [
    "### 热门新闻"
   ]
  },
  {
   "cell_type": "code",
   "execution_count": 44,
   "metadata": {},
   "outputs": [
    {
     "data": {
      "text/plain": [
       "[<matplotlib.lines.Line2D at 0x7fabface2a60>]"
      ]
     },
     "execution_count": 44,
     "metadata": {},
     "output_type": "execute_result"
    },
    {
     "data": {
      "image/png": "[encoded data removed]",
      "text/plain": [
       "<Figure size 432x288 with 1 Axes>"
      ]
     },
     "metadata": {
      "needs_background": "light"
     },
     "output_type": "display_data"
    }
   ],
   "source": [
    "# 热门新闻可以在多路召回过程中进行候选推荐\n",
    "plt.plot(article_cnts[:20])"
   ]
  },
  {
   "cell_type": "markdown",
   "metadata": {},
   "source": [
    "### 冷门新闻"
   ]
  },
  {
   "cell_type": "code",
   "execution_count": 45,
   "metadata": {},
   "outputs": [
    {
     "data": {
      "text/plain": [
       "[<matplotlib.lines.Line2D at 0x7fabfaea9070>]"
      ]
     },
     "execution_count": 45,
     "metadata": {},
     "output_type": "execute_result"
    },
    {
     "data": {
      "image/png": "[encoded data removed]",
      "text/plain": [
       "<Figure size 432x288 with 1 Axes>"
      ]
     },
     "metadata": {
      "needs_background": "light"
     },
     "output_type": "display_data"
    }
   ],
   "source": [
    "# 大多数新闻被用户极少读到，特别是\n",
    "plt.plot(article_cnts[3500:])"
   ]
  },
  {
   "cell_type": "code",
   "execution_count": 46,
   "metadata": {},
   "outputs": [
    {
     "data": {
      "text/plain": [
       "<AxesSubplot:ylabel='Density'>"
      ]
     },
     "execution_count": 46,
     "metadata": {},
     "output_type": "execute_result"
    },
    {
     "data": {
      "image/png": "[encoded data removed]",
      "text/plain": [
       "<Figure size 432x288 with 1 Axes>"
      ]
     },
     "metadata": {
      "needs_background": "light"
     },
     "output_type": "display_data"
    }
   ],
   "source": [
    "# 新闻点击情况呈现偏态分布\n",
    "sns.kdeplot(article_cnts, shade=True)"
   ]
  },
  {
   "cell_type": "markdown",
   "metadata": {},
   "source": [
    "## 新闻共现频率"
   ]
  },
  {
   "cell_type": "code",
   "execution_count": 47,
   "metadata": {},
   "outputs": [],
   "source": [
    "tmp = user_click_df.sort_values(\"click_timestamp\")\n",
    "tmp[\"next_item\"] = tmp.groupby(\"user_id\")[\"click_article_id\"].transform(lambda x:x.shift(-1))"
   ]
  },
  {
   "cell_type": "code",
   "execution_count": 48,
   "metadata": {},
   "outputs": [
    {
     "data": {
      "text/html": [
       "<div>\n",
       "<style scoped>\n",
       "    .dataframe tbody tr th:only-of-type {\n",
       "        vertical-align: middle;\n",
       "    }\n",
       "\n",
       "    .dataframe tbody tr th {\n",
       "        vertical-align: top;\n",
       "    }\n",
       "\n",
       "    .dataframe thead th {\n",
       "        text-align: right;\n",
       "    }\n",
       "</style>\n",
       "<table border=\"1\" class=\"dataframe\">\n",
       "  <thead>\n",
       "    <tr style=\"text-align: right;\">\n",
       "      <th></th>\n",
       "      <th>count</th>\n",
       "      <th>mean</th>\n",
       "      <th>std</th>\n",
       "      <th>min</th>\n",
       "      <th>25%</th>\n",
       "      <th>50%</th>\n",
       "      <th>75%</th>\n",
       "      <th>max</th>\n",
       "    </tr>\n",
       "  </thead>\n",
       "  <tbody>\n",
       "    <tr>\n",
       "      <th>click_article_id</th>\n",
       "      <td>433597.0</td>\n",
       "      <td>187340.537462</td>\n",
       "      <td>95745.859867</td>\n",
       "      <td>69.0</td>\n",
       "      <td>108856.0</td>\n",
       "      <td>198659.0</td>\n",
       "      <td>272145.0</td>\n",
       "      <td>364046.0</td>\n",
       "    </tr>\n",
       "    <tr>\n",
       "      <th>next_item</th>\n",
       "      <td>433597.0</td>\n",
       "      <td>188408.262237</td>\n",
       "      <td>96211.486060</td>\n",
       "      <td>3.0</td>\n",
       "      <td>107253.0</td>\n",
       "      <td>202289.0</td>\n",
       "      <td>272428.0</td>\n",
       "      <td>364043.0</td>\n",
       "    </tr>\n",
       "    <tr>\n",
       "      <th>count</th>\n",
       "      <td>433597.0</td>\n",
       "      <td>3.184139</td>\n",
       "      <td>18.851753</td>\n",
       "      <td>1.0</td>\n",
       "      <td>1.0</td>\n",
       "      <td>1.0</td>\n",
       "      <td>2.0</td>\n",
       "      <td>2202.0</td>\n",
       "    </tr>\n",
       "  </tbody>\n",
       "</table>\n",
       "</div>"
      ],
      "text/plain": [
       "                     count           mean           std   min       25%  \\\n",
       "click_article_id  433597.0  187340.537462  95745.859867  69.0  108856.0   \n",
       "next_item         433597.0  188408.262237  96211.486060   3.0  107253.0   \n",
       "count             433597.0       3.184139     18.851753   1.0       1.0   \n",
       "\n",
       "                       50%       75%       max  \n",
       "click_article_id  198659.0  272145.0  364046.0  \n",
       "next_item         202289.0  272428.0  364043.0  \n",
       "count                  1.0       2.0    2202.0  "
      ]
     },
     "execution_count": 48,
     "metadata": {},
     "output_type": "execute_result"
    }
   ],
   "source": [
    "union_tmp = tmp.groupby([\"click_article_id\", \"next_item\"]\n",
    "                       )[\"click_timestamp\"].agg([\"count\"]\n",
    "                                               ).reset_index().sort_values(\"count\", ascending=False)\n",
    "union_tmp.describe().T"
   ]
  },
  {
   "cell_type": "code",
   "execution_count": 49,
   "metadata": {},
   "outputs": [
    {
     "data": {
      "text/plain": [
       "<matplotlib.collections.PathCollection at 0x7fabfed17e50>"
      ]
     },
     "execution_count": 49,
     "metadata": {},
     "output_type": "execute_result"
    },
    {
     "data": {
      "image/png": "[encoded data removed]",
      "text/plain": [
       "<Figure size 432x288 with 1 Axes>"
      ]
     },
     "metadata": {
      "needs_background": "light"
     },
     "output_type": "display_data"
    }
   ],
   "source": [
    "# 从中可以看出大多数文章都具有共现性\n",
    "plt.scatter(x=union_tmp.click_article_id, y=union_tmp[\"count\"], c=\"r\", alpha=0.6)"
   ]
  },
  {
   "cell_type": "code",
   "execution_count": 50,
   "metadata": {},
   "outputs": [
    {
     "data": {
      "text/plain": [
       "[<matplotlib.lines.Line2D at 0x7fabfacf40d0>]"
      ]
     },
     "execution_count": 50,
     "metadata": {},
     "output_type": "execute_result"
    },
    {
     "data": {
      "image/png": "[encoded data removed]",
      "text/plain": [
       "<Figure size 432x288 with 1 Axes>"
      ]
     },
     "metadata": {
      "needs_background": "light"
     },
     "output_type": "display_data"
    }
   ],
   "source": [
    "# 至少有70000对数据出现了至少一次共现的情况\n",
    "plt.plot(union_tmp[\"count\"].values[40000:])"
   ]
  },
  {
   "cell_type": "markdown",
   "metadata": {},
   "source": [
    "## 新闻文章信息"
   ]
  },
  {
   "cell_type": "code",
   "execution_count": 51,
   "metadata": {},
   "outputs": [
    {
     "data": {
      "text/plain": [
       "[<matplotlib.lines.Line2D at 0x7fabfaea0310>]"
      ]
     },
     "execution_count": 51,
     "metadata": {},
     "output_type": "execute_result"
    },
    {
     "data": {
      "image/png": "[encoded data removed]",
      "text/plain": [
       "<Figure size 432x288 with 1 Axes>"
      ]
     },
     "metadata": {
      "needs_background": "light"
     },
     "output_type": "display_data"
    }
   ],
   "source": [
    "# 前100个热门文章类型的出现较为频繁\n",
    "plt.plot(user_click_df[\"category_id\"].value_counts().values[:100])"
   ]
  },
  {
   "cell_type": "code",
   "execution_count": 52,
   "metadata": {},
   "outputs": [
    {
     "data": {
      "text/plain": [
       "[<matplotlib.lines.Line2D at 0x7fab9891b040>]"
      ]
     },
     "execution_count": 52,
     "metadata": {},
     "output_type": "execute_result"
    },
    {
     "data": {
      "image/png": "[encoded data removed]",
      "text/plain": [
       "<Figure size 432x288 with 1 Axes>"
      ]
     },
     "metadata": {
      "needs_background": "light"
     },
     "output_type": "display_data"
    }
   ],
   "source": [
    "# 冷门文章类型的数目较少\n",
    "plt.plot(user_click_df[\"category_id\"].value_counts().values[150:])"
   ]
  },
  {
   "cell_type": "code",
   "execution_count": 53,
   "metadata": {},
   "outputs": [
    {
     "data": {
      "text/plain": [
       "[<matplotlib.lines.Line2D at 0x7fab988da910>]"
      ]
     },
     "execution_count": 53,
     "metadata": {},
     "output_type": "execute_result"
    },
    {
     "data": {
      "image/png": "[encoded data removed]",
      "text/plain": [
       "<Figure size 432x288 with 1 Axes>"
      ]
     },
     "metadata": {
      "needs_background": "light"
     },
     "output_type": "display_data"
    }
   ],
   "source": [
    "plt.plot(user_click_df['words_count'].values)"
   ]
  },
  {
   "cell_type": "code",
   "execution_count": 54,
   "metadata": {},
   "outputs": [
    {
     "data": {
      "text/plain": [
       "(array([1.615704e+06, 7.795000e+03, 6.977000e+03, 8.800000e+01,\n",
       "        5.000000e+01, 6.000000e+00, 0.000000e+00, 0.000000e+00,\n",
       "        5.000000e+00, 5.000000e+00, 0.000000e+00, 2.000000e+00,\n",
       "        0.000000e+00, 0.000000e+00, 0.000000e+00, 0.000000e+00,\n",
       "        0.000000e+00, 0.000000e+00, 0.000000e+00, 1.000000e+00]),\n",
       " array([   0. ,  334.5,  669. , 1003.5, 1338. , 1672.5, 2007. , 2341.5,\n",
       "        2676. , 3010.5, 3345. , 3679.5, 4014. , 4348.5, 4683. , 5017.5,\n",
       "        5352. , 5686.5, 6021. , 6355.5, 6690. ]),\n",
       " <BarContainer object of 20 artists>)"
      ]
     },
     "execution_count": 54,
     "metadata": {},
     "output_type": "execute_result"
    },
    {
     "data": {
      "image/png": "[encoded data removed]",
      "text/plain": [
       "<Figure size 432x288 with 1 Axes>"
      ]
     },
     "metadata": {
      "needs_background": "light"
     },
     "output_type": "display_data"
    }
   ],
   "source": [
    "# 大多数文章的字数篇幅都在600子之内\n",
    "plt.hist(user_click_df['words_count'].values, bins=20)"
   ]
  },
  {
   "cell_type": "markdown",
   "metadata": {},
   "source": [
    "## 用户点击新闻类型的偏好\n",
    "目的：查看用户所观看的文章类型，找出共性，且此特征可以用于度量用户的兴趣是否广泛"
   ]
  },
  {
   "cell_type": "code",
   "execution_count": 55,
   "metadata": {},
   "outputs": [
    {
     "data": {
      "text/plain": [
       "[<matplotlib.lines.Line2D at 0x7fab9875ed90>]"
      ]
     },
     "execution_count": 55,
     "metadata": {},
     "output_type": "execute_result"
    },
    {
     "data": {
      "image/png": "[encoded data removed]",
      "text/plain": [
       "<Figure size 432x288 with 1 Axes>"
      ]
     },
     "metadata": {
      "needs_background": "light"
     },
     "output_type": "display_data"
    }
   ],
   "source": [
    "plt.plot(sorted(user_click_df.groupby(\"user_id\")[\"category_id\"].nunique(), reverse=True))"
   ]
  },
  {
   "cell_type": "code",
   "execution_count": 56,
   "metadata": {},
   "outputs": [
    {
     "data": {
      "text/plain": [
       "<AxesSubplot:xlabel='category_id', ylabel='Density'>"
      ]
     },
     "execution_count": 56,
     "metadata": {},
     "output_type": "execute_result"
    },
    {
     "data": {
      "image/png": "[encoded data removed]",
      "text/plain": [
       "<Figure size 432x288 with 1 Axes>"
      ]
     },
     "metadata": {
      "needs_background": "light"
     },
     "output_type": "display_data"
    }
   ],
   "source": [
    "# 大多数人更加聚焦与少数类别\n",
    "sns.kdeplot(user_click_df.groupby(\"user_id\")[\"category_id\"].nunique(), shade=True)"
   ]
  },
  {
   "cell_type": "markdown",
   "metadata": {},
   "source": [
    "## 用户查看文章的长度分布\n",
    "目的：通过统计不同用户点击新闻的平均字数，这个可以反映用户是对长文更感兴趣还是对短文更感兴趣。"
   ]
  },
  {
   "cell_type": "code",
   "execution_count": 57,
   "metadata": {},
   "outputs": [
    {
     "data": {
      "text/plain": [
       "[<matplotlib.lines.Line2D at 0x7fabfae0be50>]"
      ]
     },
     "execution_count": 57,
     "metadata": {},
     "output_type": "execute_result"
    },
    {
     "data": {
      "image/png": "[encoded data removed]",
      "text/plain": [
       "<Figure size 432x288 with 1 Axes>"
      ]
     },
     "metadata": {
      "needs_background": "light"
     },
     "output_type": "display_data"
    }
   ],
   "source": [
    "plt.plot(sorted(user_click_df.groupby('user_id')['words_count'].mean(), reverse=True))"
   ]
  },
  {
   "cell_type": "code",
   "execution_count": 58,
   "metadata": {},
   "outputs": [
    {
     "data": {
      "text/plain": [
       "[<matplotlib.lines.Line2D at 0x7fabfd976af0>]"
      ]
     },
     "execution_count": 58,
     "metadata": {},
     "output_type": "execute_result"
    },
    {
     "data": {
      "image/png": "[encoded data removed]",
      "text/plain": [
       "<Figure size 432x288 with 1 Axes>"
      ]
     },
     "metadata": {
      "needs_background": "light"
     },
     "output_type": "display_data"
    }
   ],
   "source": [
    "#挑出大多数人的区间仔细看看\n",
    "plt.plot(sorted(user_click_df.groupby('user_id')['words_count'].mean(), reverse=True)[1000:45000])"
   ]
  },
  {
   "cell_type": "markdown",
   "metadata": {},
   "source": [
    "### 知识点:箱线图\n",
    "![](./imgs/Boxplot_vs_PDF.svg)"
   ]
  },
  {
   "cell_type": "code",
   "execution_count": 59,
   "metadata": {},
   "outputs": [
    {
     "data": {
      "text/plain": [
       "<AxesSubplot:>"
      ]
     },
     "execution_count": 59,
     "metadata": {},
     "output_type": "execute_result"
    },
    {
     "data": {
      "image/png": "[encoded data removed]",
      "text/plain": [
       "<Figure size 432x288 with 1 Axes>"
      ]
     },
     "metadata": {
      "needs_background": "light"
     },
     "output_type": "display_data"
    }
   ],
   "source": [
    "sns.boxplot(sorted(user_click_df.groupby('user_id')['words_count'].mean(), reverse=True)[1000:45000], orient=\"v\")"
   ]
  },
  {
   "cell_type": "markdown",
   "metadata": {},
   "source": [
    "## 用户点击新闻的时间分析"
   ]
  },
  {
   "cell_type": "code",
   "execution_count": 60,
   "metadata": {},
   "outputs": [],
   "source": [
    "#为了更好的可视化，这里把时间进行归一化操作\n",
    "from sklearn.preprocessing import MinMaxScaler\n",
    "mm = MinMaxScaler()\n",
    "user_click_df['click_timestamp'] = mm.fit_transform(user_click_df[['click_timestamp']])\n",
    "user_click_df['created_at_ts'] = mm.fit_transform(user_click_df[['created_at_ts']])\n",
    "\n",
    "# 按照时间序列进行排序\n",
    "user_click_df = user_click_df.sort_values('click_timestamp')"
   ]
  },
  {
   "cell_type": "code",
   "execution_count": 61,
   "metadata": {},
   "outputs": [
    {
     "data": {
      "text/html": [
       "<div>\n",
       "<style scoped>\n",
       "    .dataframe tbody tr th:only-of-type {\n",
       "        vertical-align: middle;\n",
       "    }\n",
       "\n",
       "    .dataframe tbody tr th {\n",
       "        vertical-align: top;\n",
       "    }\n",
       "\n",
       "    .dataframe thead th {\n",
       "        text-align: right;\n",
       "    }\n",
       "</style>\n",
       "<table border=\"1\" class=\"dataframe\">\n",
       "  <thead>\n",
       "    <tr style=\"text-align: right;\">\n",
       "      <th></th>\n",
       "      <th>user_id</th>\n",
       "      <th>click_article_id</th>\n",
       "      <th>click_timestamp</th>\n",
       "      <th>click_environment</th>\n",
       "      <th>click_deviceGroup</th>\n",
       "      <th>click_os</th>\n",
       "      <th>click_country</th>\n",
       "      <th>click_region</th>\n",
       "      <th>click_referrer_type</th>\n",
       "      <th>rank</th>\n",
       "      <th>click_cnts</th>\n",
       "      <th>category_id</th>\n",
       "      <th>created_at_ts</th>\n",
       "      <th>words_count</th>\n",
       "    </tr>\n",
       "  </thead>\n",
       "  <tbody>\n",
       "    <tr>\n",
       "      <th>1112641</th>\n",
       "      <td>249990</td>\n",
       "      <td>162300</td>\n",
       "      <td>0.000000</td>\n",
       "      <td>4</td>\n",
       "      <td>3</td>\n",
       "      <td>20</td>\n",
       "      <td>1</td>\n",
       "      <td>25</td>\n",
       "      <td>2</td>\n",
       "      <td>5</td>\n",
       "      <td>5</td>\n",
       "      <td>281</td>\n",
       "      <td>0.989186</td>\n",
       "      <td>193</td>\n",
       "    </tr>\n",
       "    <tr>\n",
       "      <th>1112625</th>\n",
       "      <td>249998</td>\n",
       "      <td>160974</td>\n",
       "      <td>0.000002</td>\n",
       "      <td>4</td>\n",
       "      <td>1</td>\n",
       "      <td>12</td>\n",
       "      <td>1</td>\n",
       "      <td>13</td>\n",
       "      <td>2</td>\n",
       "      <td>5</td>\n",
       "      <td>5</td>\n",
       "      <td>281</td>\n",
       "      <td>0.989092</td>\n",
       "      <td>259</td>\n",
       "    </tr>\n",
       "    <tr>\n",
       "      <th>1112653</th>\n",
       "      <td>249985</td>\n",
       "      <td>160974</td>\n",
       "      <td>0.000003</td>\n",
       "      <td>4</td>\n",
       "      <td>1</td>\n",
       "      <td>17</td>\n",
       "      <td>1</td>\n",
       "      <td>8</td>\n",
       "      <td>2</td>\n",
       "      <td>8</td>\n",
       "      <td>8</td>\n",
       "      <td>281</td>\n",
       "      <td>0.989092</td>\n",
       "      <td>259</td>\n",
       "    </tr>\n",
       "    <tr>\n",
       "      <th>1112673</th>\n",
       "      <td>249979</td>\n",
       "      <td>162300</td>\n",
       "      <td>0.000004</td>\n",
       "      <td>4</td>\n",
       "      <td>1</td>\n",
       "      <td>17</td>\n",
       "      <td>1</td>\n",
       "      <td>25</td>\n",
       "      <td>2</td>\n",
       "      <td>2</td>\n",
       "      <td>2</td>\n",
       "      <td>281</td>\n",
       "      <td>0.989186</td>\n",
       "      <td>193</td>\n",
       "    </tr>\n",
       "    <tr>\n",
       "      <th>1112648</th>\n",
       "      <td>249988</td>\n",
       "      <td>160974</td>\n",
       "      <td>0.000004</td>\n",
       "      <td>4</td>\n",
       "      <td>1</td>\n",
       "      <td>17</td>\n",
       "      <td>1</td>\n",
       "      <td>21</td>\n",
       "      <td>2</td>\n",
       "      <td>17</td>\n",
       "      <td>17</td>\n",
       "      <td>281</td>\n",
       "      <td>0.989092</td>\n",
       "      <td>259</td>\n",
       "    </tr>\n",
       "    <tr>\n",
       "      <th>...</th>\n",
       "      <td>...</td>\n",
       "      <td>...</td>\n",
       "      <td>...</td>\n",
       "      <td>...</td>\n",
       "      <td>...</td>\n",
       "      <td>...</td>\n",
       "      <td>...</td>\n",
       "      <td>...</td>\n",
       "      <td>...</td>\n",
       "      <td>...</td>\n",
       "      <td>...</td>\n",
       "      <td>...</td>\n",
       "      <td>...</td>\n",
       "      <td>...</td>\n",
       "    </tr>\n",
       "    <tr>\n",
       "      <th>705656</th>\n",
       "      <td>121158</td>\n",
       "      <td>224148</td>\n",
       "      <td>0.779105</td>\n",
       "      <td>4</td>\n",
       "      <td>1</td>\n",
       "      <td>17</td>\n",
       "      <td>1</td>\n",
       "      <td>13</td>\n",
       "      <td>2</td>\n",
       "      <td>1</td>\n",
       "      <td>54</td>\n",
       "      <td>354</td>\n",
       "      <td>0.997195</td>\n",
       "      <td>212</td>\n",
       "    </tr>\n",
       "    <tr>\n",
       "      <th>925954</th>\n",
       "      <td>70254</td>\n",
       "      <td>207672</td>\n",
       "      <td>0.860177</td>\n",
       "      <td>4</td>\n",
       "      <td>1</td>\n",
       "      <td>17</td>\n",
       "      <td>1</td>\n",
       "      <td>20</td>\n",
       "      <td>2</td>\n",
       "      <td>2</td>\n",
       "      <td>14</td>\n",
       "      <td>331</td>\n",
       "      <td>0.998288</td>\n",
       "      <td>242</td>\n",
       "    </tr>\n",
       "    <tr>\n",
       "      <th>925955</th>\n",
       "      <td>70254</td>\n",
       "      <td>96333</td>\n",
       "      <td>0.860185</td>\n",
       "      <td>4</td>\n",
       "      <td>1</td>\n",
       "      <td>17</td>\n",
       "      <td>1</td>\n",
       "      <td>20</td>\n",
       "      <td>2</td>\n",
       "      <td>1</td>\n",
       "      <td>14</td>\n",
       "      <td>209</td>\n",
       "      <td>0.998272</td>\n",
       "      <td>299</td>\n",
       "    </tr>\n",
       "    <tr>\n",
       "      <th>1091177</th>\n",
       "      <td>2465</td>\n",
       "      <td>203538</td>\n",
       "      <td>0.999992</td>\n",
       "      <td>4</td>\n",
       "      <td>1</td>\n",
       "      <td>17</td>\n",
       "      <td>1</td>\n",
       "      <td>2</td>\n",
       "      <td>2</td>\n",
       "      <td>2</td>\n",
       "      <td>8</td>\n",
       "      <td>327</td>\n",
       "      <td>0.999741</td>\n",
       "      <td>275</td>\n",
       "    </tr>\n",
       "    <tr>\n",
       "      <th>1091178</th>\n",
       "      <td>2465</td>\n",
       "      <td>145309</td>\n",
       "      <td>1.000000</td>\n",
       "      <td>4</td>\n",
       "      <td>1</td>\n",
       "      <td>17</td>\n",
       "      <td>1</td>\n",
       "      <td>2</td>\n",
       "      <td>2</td>\n",
       "      <td>1</td>\n",
       "      <td>8</td>\n",
       "      <td>269</td>\n",
       "      <td>1.000000</td>\n",
       "      <td>216</td>\n",
       "    </tr>\n",
       "  </tbody>\n",
       "</table>\n",
       "<p>1630633 rows × 14 columns</p>\n",
       "</div>"
      ],
      "text/plain": [
       "         user_id  click_article_id  click_timestamp  click_environment  \\\n",
       "1112641   249990            162300         0.000000                  4   \n",
       "1112625   249998            160974         0.000002                  4   \n",
       "1112653   249985            160974         0.000003                  4   \n",
       "1112673   249979            162300         0.000004                  4   \n",
       "1112648   249988            160974         0.000004                  4   \n",
       "...          ...               ...              ...                ...   \n",
       "705656    121158            224148         0.779105                  4   \n",
       "925954     70254            207672         0.860177                  4   \n",
       "925955     70254             96333         0.860185                  4   \n",
       "1091177     2465            203538         0.999992                  4   \n",
       "1091178     2465            145309         1.000000                  4   \n",
       "\n",
       "         click_deviceGroup  click_os  click_country  click_region  \\\n",
       "1112641                  3        20              1            25   \n",
       "1112625                  1        12              1            13   \n",
       "1112653                  1        17              1             8   \n",
       "1112673                  1        17              1            25   \n",
       "1112648                  1        17              1            21   \n",
       "...                    ...       ...            ...           ...   \n",
       "705656                   1        17              1            13   \n",
       "925954                   1        17              1            20   \n",
       "925955                   1        17              1            20   \n",
       "1091177                  1        17              1             2   \n",
       "1091178                  1        17              1             2   \n",
       "\n",
       "         click_referrer_type  rank  click_cnts  category_id  created_at_ts  \\\n",
       "1112641                    2     5           5          281       0.989186   \n",
       "1112625                    2     5           5          281       0.989092   \n",
       "1112653                    2     8           8          281       0.989092   \n",
       "1112673                    2     2           2          281       0.989186   \n",
       "1112648                    2    17          17          281       0.989092   \n",
       "...                      ...   ...         ...          ...            ...   \n",
       "705656                     2     1          54          354       0.997195   \n",
       "925954                     2     2          14          331       0.998288   \n",
       "925955                     2     1          14          209       0.998272   \n",
       "1091177                    2     2           8          327       0.999741   \n",
       "1091178                    2     1           8          269       1.000000   \n",
       "\n",
       "         words_count  \n",
       "1112641          193  \n",
       "1112625          259  \n",
       "1112653          259  \n",
       "1112673          193  \n",
       "1112648          259  \n",
       "...              ...  \n",
       "705656           212  \n",
       "925954           242  \n",
       "925955           299  \n",
       "1091177          275  \n",
       "1091178          216  \n",
       "\n",
       "[1630633 rows x 14 columns]"
      ]
     },
     "execution_count": 61,
     "metadata": {},
     "output_type": "execute_result"
    }
   ],
   "source": [
    "user_click_df"
   ]
  },
  {
   "cell_type": "code",
   "execution_count": 71,
   "metadata": {},
   "outputs": [],
   "source": [
    "# 每一位用户的平均点击时差均值\n",
    "def mean_diff_time_fun(df, col):\n",
    "    \"\"\"计算时间差的均值\"\"\"\n",
    "    df = pd.DataFrame(df, columns={col})\n",
    "    df[\"time_shift1\"] = df[col].shift(1).fillna(0)\n",
    "    df[\"diff_time\"] = abs(df[col]-df[\"time_shift1\"])  # 做时间差\n",
    "    \n",
    "    return df[\"diff_time\"].mean()\n",
    "\n",
    "mean_diff_click_time = user_click_df.groupby(\"user_id\")[\"created_at_ts\", \"click_timestamp\"].apply(lambda x: mean_diff_time_fun(x, \"click_timestamp\"))"
   ]
  },
  {
   "cell_type": "code",
   "execution_count": 72,
   "metadata": {},
   "outputs": [
    {
     "data": {
      "text/plain": [
       "[<matplotlib.lines.Line2D at 0x7faba98fe730>]"
      ]
     },
     "execution_count": 72,
     "metadata": {},
     "output_type": "execute_result"
    },
    {
     "data": {
      "image/png": "[encoded data removed]",
      "text/plain": [
       "<Figure size 432x288 with 1 Axes>"
      ]
     },
     "metadata": {
      "needs_background": "light"
     },
     "output_type": "display_data"
    }
   ],
   "source": [
    "plt.plot(sorted(mean_diff_click_time.values, reverse=True))"
   ]
  },
  {
   "cell_type": "markdown",
   "metadata": {},
   "source": [
    "结论：不同用户点击新闻所产生的时间差具有一定的差异性，可以将用户的时间差作为新闻点击的依据。"
   ]
  },
  {
   "cell_type": "code",
   "execution_count": 75,
   "metadata": {},
   "outputs": [],
   "source": [
    "# 前后点击文章的创建时间差的平均值\n",
    "mean_diff_created_time = user_click_df.groupby('user_id')['click_timestamp', 'created_at_ts'].apply(lambda x: mean_diff_time_fun(x, 'created_at_ts'))"
   ]
  },
  {
   "cell_type": "code",
   "execution_count": 76,
   "metadata": {},
   "outputs": [
    {
     "data": {
      "text/plain": [
       "[<matplotlib.lines.Line2D at 0x7faba92b5610>]"
      ]
     },
     "execution_count": 76,
     "metadata": {},
     "output_type": "execute_result"
    },
    {
     "data": {
      "image/png": "[encoded data removed]",
      "text/plain": [
       "<Figure size 432x288 with 1 Axes>"
      ]
     },
     "metadata": {
      "needs_background": "light"
     },
     "output_type": "display_data"
    }
   ],
   "source": [
    "plt.plot(sorted(mean_diff_created_time.values, reverse=True))"
   ]
  },
  {
   "cell_type": "markdown",
   "metadata": {},
   "source": [
    "## Word2Vec"
   ]
  },
  {
   "cell_type": "code",
   "execution_count": 78,
   "metadata": {},
   "outputs": [],
   "source": [
    "from gensim.models import Word2Vec\n",
    "import logging, pickle"
   ]
  },
  {
   "cell_type": "code",
   "execution_count": 106,
   "metadata": {},
   "outputs": [],
   "source": [
    "# 需要注意这里模型只迭代了一次\n",
    "def trian_item_word2vec(click_df, embed_size=16, save_name='item_w2v_emb.pkl', split_char=' '):\n",
    "    click_df = click_df.sort_values('click_timestamp')\n",
    "    # 只有转换成字符串才可以进行训练\n",
    "    click_df['click_article_id'] = click_df['click_article_id'].astype(str)\n",
    "    # 转换成句子的形式\n",
    "    docs = click_df.groupby(['user_id'])['click_article_id'].apply(lambda x: list(x)).reset_index()\n",
    "    docs = docs['click_article_id'].values.tolist()\n",
    "\n",
    "    # 为了方便查看训练的进度，这里设定一个log信息\n",
    "    logging.basicConfig(format='%(asctime)s:%(levelname)s:%(message)s', level=logging.INFO)\n",
    "\n",
    "    # 这里的参数对训练得到的向量影响也很大,默认负采样为5\n",
    "    w2v = Word2Vec(docs, size=16, sg=1, window=5, seed=2020, workers=24, min_count=1, iter=10)\n",
    "    \n",
    "    # 保存成字典的形式\n",
    "    item_w2v_emb_dict = {k: w2v[k] for k in click_df['click_article_id']}\n",
    "    \n",
    "    return item_w2v_emb_dict"
   ]
  },
  {
   "cell_type": "code",
   "execution_count": 149,
   "metadata": {
    "collapsed": true,
    "jupyter": {
     "outputs_hidden": true
    }
   },
   "outputs": [
    {
     "name": "stderr",
     "output_type": "stream",
     "text": [
      "2020-12-11 09:57:57,700:INFO:collecting all words and their counts\n",
      "2020-12-11 09:57:57,702:INFO:PROGRESS: at sentence #0, processed 0 words, keeping 0 word types\n",
      "2020-12-11 09:57:57,716:INFO:PROGRESS: at sentence #10000, processed 25727 words, keeping 3473 word types\n",
      "2020-12-11 09:57:57,731:INFO:PROGRESS: at sentence #20000, processed 53883 words, keeping 5811 word types\n",
      "2020-12-11 09:57:57,747:INFO:PROGRESS: at sentence #30000, processed 84881 words, keeping 7676 word types\n",
      "2020-12-11 09:57:57,764:INFO:PROGRESS: at sentence #40000, processed 118390 words, keeping 9297 word types\n",
      "2020-12-11 09:57:57,782:INFO:PROGRESS: at sentence #50000, processed 154179 words, keeping 10844 word types\n",
      "2020-12-11 09:57:57,800:INFO:PROGRESS: at sentence #60000, processed 192350 words, keeping 12357 word types\n",
      "2020-12-11 09:57:57,819:INFO:PROGRESS: at sentence #70000, processed 233685 words, keeping 13473 word types\n",
      "2020-12-11 09:57:57,840:INFO:PROGRESS: at sentence #80000, processed 281335 words, keeping 14939 word types\n",
      "2020-12-11 09:57:57,861:INFO:PROGRESS: at sentence #90000, processed 329973 words, keeping 16420 word types\n",
      "2020-12-11 09:57:57,885:INFO:PROGRESS: at sentence #100000, processed 379428 words, keeping 17904 word types\n",
      "2020-12-11 09:57:57,909:INFO:PROGRESS: at sentence #110000, processed 431464 words, keeping 18928 word types\n",
      "2020-12-11 09:57:57,937:INFO:PROGRESS: at sentence #120000, processed 489655 words, keeping 20157 word types\n",
      "2020-12-11 09:57:57,966:INFO:PROGRESS: at sentence #130000, processed 550375 words, keeping 21588 word types\n",
      "2020-12-11 09:57:57,996:INFO:PROGRESS: at sentence #140000, processed 613031 words, keeping 22923 word types\n",
      "2020-12-11 09:57:58,027:INFO:PROGRESS: at sentence #150000, processed 678645 words, keeping 24209 word types\n",
      "2020-12-11 09:57:58,060:INFO:PROGRESS: at sentence #160000, processed 749559 words, keeping 25743 word types\n",
      "2020-12-11 09:57:58,106:INFO:PROGRESS: at sentence #170000, processed 831064 words, keeping 27232 word types\n",
      "2020-12-11 09:57:58,144:INFO:PROGRESS: at sentence #180000, processed 914233 words, keeping 28612 word types\n",
      "2020-12-11 09:57:58,181:INFO:PROGRESS: at sentence #190000, processed 1004976 words, keeping 29699 word types\n",
      "2020-12-11 09:57:58,225:INFO:PROGRESS: at sentence #200000, processed 1112623 words, keeping 31116 word types\n",
      "2020-12-11 09:57:58,260:INFO:PROGRESS: at sentence #210000, processed 1200577 words, keeping 31798 word types\n",
      "2020-12-11 09:57:58,295:INFO:PROGRESS: at sentence #220000, processed 1285942 words, keeping 32381 word types\n",
      "2020-12-11 09:57:58,333:INFO:PROGRESS: at sentence #230000, processed 1380836 words, keeping 33131 word types\n",
      "2020-12-11 09:57:58,383:INFO:PROGRESS: at sentence #240000, processed 1498710 words, keeping 34213 word types\n",
      "2020-12-11 09:57:58,437:INFO:collected 35380 word types from a corpus of 1630633 raw words and 250000 sentences\n",
      "2020-12-11 09:57:58,438:INFO:Loading a fresh vocabulary\n",
      "2020-12-11 09:57:58,549:INFO:effective_min_count=1 retains 35380 unique words (100% of original 35380, drops 0)\n",
      "2020-12-11 09:57:58,550:INFO:effective_min_count=1 leaves 1630633 word corpus (100% of original 1630633, drops 0)\n",
      "2020-12-11 09:57:58,705:INFO:deleting the raw counts dictionary of 35380 items\n",
      "2020-12-11 09:57:58,707:INFO:sample=0.001 downsamples 73 most-common words\n",
      "2020-12-11 09:57:58,708:INFO:downsampling leaves estimated 1452855 word corpus (89.1% of prior 1630633)\n",
      "2020-12-11 09:57:58,806:INFO:estimated required memory for 35380 words and 16 dimensions: 22218640 bytes\n",
      "2020-12-11 09:57:58,807:INFO:resetting layer weights\n",
      "2020-12-11 09:58:09,777:INFO:training model with 24 workers on 35380 vocabulary and 16 features, using sg=1 hs=0 sample=0.001 negative=5 window=5\n",
      "2020-12-11 09:58:10,842:INFO:EPOCH 1 - PROGRESS: at 55.20% examples, 524358 words/s, in_qsize 47, out_qsize 0\n",
      "2020-12-11 09:58:11,595:INFO:worker thread finished; awaiting finish of 23 more threads\n",
      "2020-12-11 09:58:11,605:INFO:worker thread finished; awaiting finish of 22 more threads\n",
      "2020-12-11 09:58:11,624:INFO:worker thread finished; awaiting finish of 21 more threads\n",
      "2020-12-11 09:58:11,684:INFO:worker thread finished; awaiting finish of 20 more threads\n",
      "2020-12-11 09:58:11,693:INFO:worker thread finished; awaiting finish of 19 more threads\n",
      "2020-12-11 09:58:11,696:INFO:worker thread finished; awaiting finish of 18 more threads\n",
      "2020-12-11 09:58:11,699:INFO:worker thread finished; awaiting finish of 17 more threads\n",
      "2020-12-11 09:58:11,702:INFO:worker thread finished; awaiting finish of 16 more threads\n",
      "2020-12-11 09:58:11,704:INFO:worker thread finished; awaiting finish of 15 more threads\n",
      "2020-12-11 09:58:11,706:INFO:worker thread finished; awaiting finish of 14 more threads\n",
      "2020-12-11 09:58:11,714:INFO:worker thread finished; awaiting finish of 13 more threads\n",
      "2020-12-11 09:58:11,718:INFO:worker thread finished; awaiting finish of 12 more threads\n",
      "2020-12-11 09:58:11,724:INFO:worker thread finished; awaiting finish of 11 more threads\n",
      "2020-12-11 09:58:11,727:INFO:worker thread finished; awaiting finish of 10 more threads\n",
      "2020-12-11 09:58:11,729:INFO:worker thread finished; awaiting finish of 9 more threads\n",
      "2020-12-11 09:58:11,743:INFO:worker thread finished; awaiting finish of 8 more threads\n",
      "2020-12-11 09:58:11,748:INFO:worker thread finished; awaiting finish of 7 more threads\n",
      "2020-12-11 09:58:11,765:INFO:worker thread finished; awaiting finish of 6 more threads\n",
      "2020-12-11 09:58:11,776:INFO:worker thread finished; awaiting finish of 5 more threads\n",
      "2020-12-11 09:58:11,789:INFO:worker thread finished; awaiting finish of 4 more threads\n",
      "2020-12-11 09:58:11,799:INFO:worker thread finished; awaiting finish of 3 more threads\n",
      "2020-12-11 09:58:11,810:INFO:worker thread finished; awaiting finish of 2 more threads\n",
      "2020-12-11 09:58:11,814:INFO:worker thread finished; awaiting finish of 1 more threads\n",
      "2020-12-11 09:58:11,816:INFO:worker thread finished; awaiting finish of 0 more threads\n",
      "2020-12-11 09:58:11,817:INFO:EPOCH - 1 : training on 1630633 raw words (1452753 effective words) took 2.0s, 725901 effective words/s\n",
      "2020-12-11 09:58:12,846:INFO:EPOCH 2 - PROGRESS: at 57.60% examples, 567546 words/s, in_qsize 47, out_qsize 0\n",
      "2020-12-11 09:58:13,620:INFO:worker thread finished; awaiting finish of 23 more threads\n",
      "2020-12-11 09:58:13,625:INFO:worker thread finished; awaiting finish of 22 more threads\n",
      "2020-12-11 09:58:13,635:INFO:worker thread finished; awaiting finish of 21 more threads\n",
      "2020-12-11 09:58:13,644:INFO:worker thread finished; awaiting finish of 20 more threads\n",
      "2020-12-11 09:58:13,649:INFO:worker thread finished; awaiting finish of 19 more threads\n",
      "2020-12-11 09:58:13,652:INFO:worker thread finished; awaiting finish of 18 more threads\n",
      "2020-12-11 09:58:13,662:INFO:worker thread finished; awaiting finish of 17 more threads\n",
      "2020-12-11 09:58:13,693:INFO:worker thread finished; awaiting finish of 16 more threads\n",
      "2020-12-11 09:58:13,698:INFO:worker thread finished; awaiting finish of 15 more threads\n",
      "2020-12-11 09:58:13,709:INFO:worker thread finished; awaiting finish of 14 more threads\n",
      "2020-12-11 09:58:13,713:INFO:worker thread finished; awaiting finish of 13 more threads\n",
      "2020-12-11 09:58:13,714:INFO:worker thread finished; awaiting finish of 12 more threads\n",
      "2020-12-11 09:58:13,716:INFO:worker thread finished; awaiting finish of 11 more threads\n",
      "2020-12-11 09:58:13,719:INFO:worker thread finished; awaiting finish of 10 more threads\n",
      "2020-12-11 09:58:13,720:INFO:worker thread finished; awaiting finish of 9 more threads\n",
      "2020-12-11 09:58:13,737:INFO:worker thread finished; awaiting finish of 8 more threads\n",
      "2020-12-11 09:58:13,739:INFO:worker thread finished; awaiting finish of 7 more threads\n",
      "2020-12-11 09:58:13,741:INFO:worker thread finished; awaiting finish of 6 more threads\n",
      "2020-12-11 09:58:13,746:INFO:worker thread finished; awaiting finish of 5 more threads\n",
      "2020-12-11 09:58:13,751:INFO:worker thread finished; awaiting finish of 4 more threads\n",
      "2020-12-11 09:58:13,754:INFO:worker thread finished; awaiting finish of 3 more threads\n",
      "2020-12-11 09:58:13,763:INFO:worker thread finished; awaiting finish of 2 more threads\n",
      "2020-12-11 09:58:13,767:INFO:worker thread finished; awaiting finish of 1 more threads\n",
      "2020-12-11 09:58:13,779:INFO:worker thread finished; awaiting finish of 0 more threads\n",
      "2020-12-11 09:58:13,780:INFO:EPOCH - 2 : training on 1630633 raw words (1452444 effective words) took 1.9s, 747112 effective words/s\n",
      "2020-12-11 09:58:14,796:INFO:EPOCH 3 - PROGRESS: at 64.01% examples, 671035 words/s, in_qsize 47, out_qsize 1\n",
      "2020-12-11 09:58:15,389:INFO:worker thread finished; awaiting finish of 23 more threads\n",
      "2020-12-11 09:58:15,394:INFO:worker thread finished; awaiting finish of 22 more threads\n",
      "2020-12-11 09:58:15,403:INFO:worker thread finished; awaiting finish of 21 more threads\n",
      "2020-12-11 09:58:15,404:INFO:worker thread finished; awaiting finish of 20 more threads\n",
      "2020-12-11 09:58:15,407:INFO:worker thread finished; awaiting finish of 19 more threads\n",
      "2020-12-11 09:58:15,437:INFO:worker thread finished; awaiting finish of 18 more threads\n",
      "2020-12-11 09:58:15,459:INFO:worker thread finished; awaiting finish of 17 more threads\n",
      "2020-12-11 09:58:15,486:INFO:worker thread finished; awaiting finish of 16 more threads\n",
      "2020-12-11 09:58:15,497:INFO:worker thread finished; awaiting finish of 15 more threads\n",
      "2020-12-11 09:58:15,499:INFO:worker thread finished; awaiting finish of 14 more threads\n",
      "2020-12-11 09:58:15,500:INFO:worker thread finished; awaiting finish of 13 more threads\n",
      "2020-12-11 09:58:15,501:INFO:worker thread finished; awaiting finish of 12 more threads\n",
      "2020-12-11 09:58:15,503:INFO:worker thread finished; awaiting finish of 11 more threads\n",
      "2020-12-11 09:58:15,503:INFO:worker thread finished; awaiting finish of 10 more threads\n",
      "2020-12-11 09:58:15,511:INFO:worker thread finished; awaiting finish of 9 more threads\n",
      "2020-12-11 09:58:15,512:INFO:worker thread finished; awaiting finish of 8 more threads\n",
      "2020-12-11 09:58:15,525:INFO:worker thread finished; awaiting finish of 7 more threads\n",
      "2020-12-11 09:58:15,538:INFO:worker thread finished; awaiting finish of 6 more threads\n",
      "2020-12-11 09:58:15,557:INFO:worker thread finished; awaiting finish of 5 more threads\n",
      "2020-12-11 09:58:15,575:INFO:worker thread finished; awaiting finish of 4 more threads\n",
      "2020-12-11 09:58:15,581:INFO:worker thread finished; awaiting finish of 3 more threads\n",
      "2020-12-11 09:58:15,582:INFO:worker thread finished; awaiting finish of 2 more threads\n",
      "2020-12-11 09:58:15,583:INFO:worker thread finished; awaiting finish of 1 more threads\n",
      "2020-12-11 09:58:15,590:INFO:worker thread finished; awaiting finish of 0 more threads\n",
      "2020-12-11 09:58:15,591:INFO:EPOCH - 3 : training on 1630633 raw words (1453210 effective words) took 1.8s, 809072 effective words/s\n",
      "2020-12-11 09:58:16,613:INFO:EPOCH 4 - PROGRESS: at 63.45% examples, 657195 words/s, in_qsize 47, out_qsize 0\n",
      "2020-12-11 09:58:17,345:INFO:worker thread finished; awaiting finish of 23 more threads\n",
      "2020-12-11 09:58:17,360:INFO:worker thread finished; awaiting finish of 22 more threads\n",
      "2020-12-11 09:58:17,368:INFO:worker thread finished; awaiting finish of 21 more threads\n",
      "2020-12-11 09:58:17,380:INFO:worker thread finished; awaiting finish of 20 more threads\n",
      "2020-12-11 09:58:17,394:INFO:worker thread finished; awaiting finish of 19 more threads\n",
      "2020-12-11 09:58:17,398:INFO:worker thread finished; awaiting finish of 18 more threads\n",
      "2020-12-11 09:58:17,400:INFO:worker thread finished; awaiting finish of 17 more threads\n",
      "2020-12-11 09:58:17,404:INFO:worker thread finished; awaiting finish of 16 more threads\n",
      "2020-12-11 09:58:17,409:INFO:worker thread finished; awaiting finish of 15 more threads\n",
      "2020-12-11 09:58:17,416:INFO:worker thread finished; awaiting finish of 14 more threads\n",
      "2020-12-11 09:58:17,420:INFO:worker thread finished; awaiting finish of 13 more threads\n",
      "2020-12-11 09:58:17,436:INFO:worker thread finished; awaiting finish of 12 more threads\n",
      "2020-12-11 09:58:17,446:INFO:worker thread finished; awaiting finish of 11 more threads\n",
      "2020-12-11 09:58:17,448:INFO:worker thread finished; awaiting finish of 10 more threads\n",
      "2020-12-11 09:58:17,471:INFO:worker thread finished; awaiting finish of 9 more threads\n",
      "2020-12-11 09:58:17,473:INFO:worker thread finished; awaiting finish of 8 more threads\n",
      "2020-12-11 09:58:17,474:INFO:worker thread finished; awaiting finish of 7 more threads\n",
      "2020-12-11 09:58:17,478:INFO:worker thread finished; awaiting finish of 6 more threads\n",
      "2020-12-11 09:58:17,485:INFO:worker thread finished; awaiting finish of 5 more threads\n",
      "2020-12-11 09:58:17,488:INFO:worker thread finished; awaiting finish of 4 more threads\n",
      "2020-12-11 09:58:17,489:INFO:worker thread finished; awaiting finish of 3 more threads\n",
      "2020-12-11 09:58:17,492:INFO:worker thread finished; awaiting finish of 2 more threads\n",
      "2020-12-11 09:58:17,498:INFO:worker thread finished; awaiting finish of 1 more threads\n",
      "2020-12-11 09:58:17,502:INFO:worker thread finished; awaiting finish of 0 more threads\n",
      "2020-12-11 09:58:17,503:INFO:EPOCH - 4 : training on 1630633 raw words (1452870 effective words) took 1.9s, 765507 effective words/s\n",
      "2020-12-11 09:58:18,533:INFO:EPOCH 5 - PROGRESS: at 69.47% examples, 759051 words/s, in_qsize 47, out_qsize 0\n",
      "2020-12-11 09:58:19,126:INFO:worker thread finished; awaiting finish of 23 more threads\n",
      "2020-12-11 09:58:19,129:INFO:worker thread finished; awaiting finish of 22 more threads\n",
      "2020-12-11 09:58:19,133:INFO:worker thread finished; awaiting finish of 21 more threads\n",
      "2020-12-11 09:58:19,138:INFO:worker thread finished; awaiting finish of 20 more threads\n",
      "2020-12-11 09:58:19,205:INFO:worker thread finished; awaiting finish of 19 more threads\n",
      "2020-12-11 09:58:19,210:INFO:worker thread finished; awaiting finish of 18 more threads\n",
      "2020-12-11 09:58:19,216:INFO:worker thread finished; awaiting finish of 17 more threads\n",
      "2020-12-11 09:58:19,229:INFO:worker thread finished; awaiting finish of 16 more threads\n",
      "2020-12-11 09:58:19,234:INFO:worker thread finished; awaiting finish of 15 more threads\n",
      "2020-12-11 09:58:19,245:INFO:worker thread finished; awaiting finish of 14 more threads\n",
      "2020-12-11 09:58:19,252:INFO:worker thread finished; awaiting finish of 13 more threads\n",
      "2020-12-11 09:58:19,256:INFO:worker thread finished; awaiting finish of 12 more threads\n",
      "2020-12-11 09:58:19,267:INFO:worker thread finished; awaiting finish of 11 more threads\n",
      "2020-12-11 09:58:19,270:INFO:worker thread finished; awaiting finish of 10 more threads\n",
      "2020-12-11 09:58:19,282:INFO:worker thread finished; awaiting finish of 9 more threads\n",
      "2020-12-11 09:58:19,283:INFO:worker thread finished; awaiting finish of 8 more threads\n",
      "2020-12-11 09:58:19,292:INFO:worker thread finished; awaiting finish of 7 more threads\n",
      "2020-12-11 09:58:19,302:INFO:worker thread finished; awaiting finish of 6 more threads\n",
      "2020-12-11 09:58:19,309:INFO:worker thread finished; awaiting finish of 5 more threads\n",
      "2020-12-11 09:58:19,322:INFO:worker thread finished; awaiting finish of 4 more threads\n",
      "2020-12-11 09:58:19,325:INFO:worker thread finished; awaiting finish of 3 more threads\n",
      "2020-12-11 09:58:19,328:INFO:worker thread finished; awaiting finish of 2 more threads\n",
      "2020-12-11 09:58:19,332:INFO:worker thread finished; awaiting finish of 1 more threads\n",
      "2020-12-11 09:58:19,337:INFO:worker thread finished; awaiting finish of 0 more threads\n",
      "2020-12-11 09:58:19,338:INFO:EPOCH - 5 : training on 1630633 raw words (1452515 effective words) took 1.8s, 797172 effective words/s\n",
      "2020-12-11 09:58:20,368:INFO:EPOCH 6 - PROGRESS: at 57.02% examples, 563473 words/s, in_qsize 47, out_qsize 0\n",
      "2020-12-11 09:58:21,154:INFO:worker thread finished; awaiting finish of 23 more threads\n",
      "2020-12-11 09:58:21,158:INFO:worker thread finished; awaiting finish of 22 more threads\n",
      "2020-12-11 09:58:21,174:INFO:worker thread finished; awaiting finish of 21 more threads\n",
      "2020-12-11 09:58:21,175:INFO:worker thread finished; awaiting finish of 20 more threads\n",
      "2020-12-11 09:58:21,178:INFO:worker thread finished; awaiting finish of 19 more threads\n",
      "2020-12-11 09:58:21,218:INFO:worker thread finished; awaiting finish of 18 more threads\n",
      "2020-12-11 09:58:21,222:INFO:worker thread finished; awaiting finish of 17 more threads\n",
      "2020-12-11 09:58:21,245:INFO:worker thread finished; awaiting finish of 16 more threads\n",
      "2020-12-11 09:58:21,255:INFO:worker thread finished; awaiting finish of 15 more threads\n",
      "2020-12-11 09:58:21,260:INFO:worker thread finished; awaiting finish of 14 more threads\n",
      "2020-12-11 09:58:21,268:INFO:worker thread finished; awaiting finish of 13 more threads\n",
      "2020-12-11 09:58:21,284:INFO:worker thread finished; awaiting finish of 12 more threads\n",
      "2020-12-11 09:58:21,296:INFO:worker thread finished; awaiting finish of 11 more threads\n",
      "2020-12-11 09:58:21,302:INFO:worker thread finished; awaiting finish of 10 more threads\n",
      "2020-12-11 09:58:21,321:INFO:worker thread finished; awaiting finish of 9 more threads\n",
      "2020-12-11 09:58:21,328:INFO:worker thread finished; awaiting finish of 8 more threads\n",
      "2020-12-11 09:58:21,333:INFO:worker thread finished; awaiting finish of 7 more threads\n",
      "2020-12-11 09:58:21,334:INFO:worker thread finished; awaiting finish of 6 more threads\n",
      "2020-12-11 09:58:21,338:INFO:worker thread finished; awaiting finish of 5 more threads\n",
      "2020-12-11 09:58:21,345:INFO:worker thread finished; awaiting finish of 4 more threads\n",
      "2020-12-11 09:58:21,354:INFO:worker thread finished; awaiting finish of 3 more threads\n",
      "2020-12-11 09:58:21,355:INFO:worker thread finished; awaiting finish of 2 more threads\n",
      "2020-12-11 09:58:21,358:INFO:worker thread finished; awaiting finish of 1 more threads\n",
      "2020-12-11 09:58:21,362:INFO:worker thread finished; awaiting finish of 0 more threads\n",
      "2020-12-11 09:58:21,363:INFO:EPOCH - 6 : training on 1630633 raw words (1452938 effective words) took 2.0s, 727607 effective words/s\n",
      "2020-12-11 09:58:22,388:INFO:EPOCH 7 - PROGRESS: at 66.52% examples, 714105 words/s, in_qsize 43, out_qsize 4\n",
      "2020-12-11 09:58:22,880:INFO:worker thread finished; awaiting finish of 23 more threads\n",
      "2020-12-11 09:58:22,890:INFO:worker thread finished; awaiting finish of 22 more threads\n",
      "2020-12-11 09:58:22,893:INFO:worker thread finished; awaiting finish of 21 more threads\n",
      "2020-12-11 09:58:22,905:INFO:worker thread finished; awaiting finish of 20 more threads\n",
      "2020-12-11 09:58:22,907:INFO:worker thread finished; awaiting finish of 19 more threads\n",
      "2020-12-11 09:58:22,908:INFO:worker thread finished; awaiting finish of 18 more threads\n",
      "2020-12-11 09:58:22,911:INFO:worker thread finished; awaiting finish of 17 more threads\n",
      "2020-12-11 09:58:22,915:INFO:worker thread finished; awaiting finish of 16 more threads\n",
      "2020-12-11 09:58:22,918:INFO:worker thread finished; awaiting finish of 15 more threads\n",
      "2020-12-11 09:58:22,965:INFO:worker thread finished; awaiting finish of 14 more threads\n",
      "2020-12-11 09:58:22,978:INFO:worker thread finished; awaiting finish of 13 more threads\n",
      "2020-12-11 09:58:22,979:INFO:worker thread finished; awaiting finish of 12 more threads\n",
      "2020-12-11 09:58:22,980:INFO:worker thread finished; awaiting finish of 11 more threads\n",
      "2020-12-11 09:58:22,984:INFO:worker thread finished; awaiting finish of 10 more threads\n",
      "2020-12-11 09:58:22,988:INFO:worker thread finished; awaiting finish of 9 more threads\n",
      "2020-12-11 09:58:22,990:INFO:worker thread finished; awaiting finish of 8 more threads\n",
      "2020-12-11 09:58:22,995:INFO:worker thread finished; awaiting finish of 7 more threads\n",
      "2020-12-11 09:58:22,998:INFO:worker thread finished; awaiting finish of 6 more threads\n",
      "2020-12-11 09:58:23,003:INFO:worker thread finished; awaiting finish of 5 more threads\n",
      "2020-12-11 09:58:23,004:INFO:worker thread finished; awaiting finish of 4 more threads\n",
      "2020-12-11 09:58:23,005:INFO:worker thread finished; awaiting finish of 3 more threads\n",
      "2020-12-11 09:58:23,010:INFO:worker thread finished; awaiting finish of 2 more threads\n",
      "2020-12-11 09:58:23,024:INFO:worker thread finished; awaiting finish of 1 more threads\n",
      "2020-12-11 09:58:23,025:INFO:worker thread finished; awaiting finish of 0 more threads\n",
      "2020-12-11 09:58:23,026:INFO:EPOCH - 7 : training on 1630633 raw words (1452788 effective words) took 1.6s, 884328 effective words/s\n",
      "2020-12-11 09:58:24,063:INFO:EPOCH 8 - PROGRESS: at 67.47% examples, 723577 words/s, in_qsize 48, out_qsize 0\n",
      "2020-12-11 09:58:24,619:INFO:worker thread finished; awaiting finish of 23 more threads\n",
      "2020-12-11 09:58:24,627:INFO:worker thread finished; awaiting finish of 22 more threads\n",
      "2020-12-11 09:58:24,637:INFO:worker thread finished; awaiting finish of 21 more threads\n",
      "2020-12-11 09:58:24,643:INFO:worker thread finished; awaiting finish of 20 more threads\n",
      "2020-12-11 09:58:24,655:INFO:worker thread finished; awaiting finish of 19 more threads\n",
      "2020-12-11 09:58:24,660:INFO:worker thread finished; awaiting finish of 18 more threads\n",
      "2020-12-11 09:58:24,683:INFO:worker thread finished; awaiting finish of 17 more threads\n",
      "2020-12-11 09:58:24,687:INFO:worker thread finished; awaiting finish of 16 more threads\n",
      "2020-12-11 09:58:24,695:INFO:worker thread finished; awaiting finish of 15 more threads\n",
      "2020-12-11 09:58:24,697:INFO:worker thread finished; awaiting finish of 14 more threads\n",
      "2020-12-11 09:58:24,710:INFO:worker thread finished; awaiting finish of 13 more threads\n",
      "2020-12-11 09:58:24,718:INFO:worker thread finished; awaiting finish of 12 more threads\n",
      "2020-12-11 09:58:24,719:INFO:worker thread finished; awaiting finish of 11 more threads\n",
      "2020-12-11 09:58:24,723:INFO:worker thread finished; awaiting finish of 10 more threads\n",
      "2020-12-11 09:58:24,741:INFO:worker thread finished; awaiting finish of 9 more threads\n",
      "2020-12-11 09:58:24,743:INFO:worker thread finished; awaiting finish of 8 more threads\n",
      "2020-12-11 09:58:24,744:INFO:worker thread finished; awaiting finish of 7 more threads\n",
      "2020-12-11 09:58:24,746:INFO:worker thread finished; awaiting finish of 6 more threads\n",
      "2020-12-11 09:58:24,752:INFO:worker thread finished; awaiting finish of 5 more threads\n",
      "2020-12-11 09:58:24,761:INFO:worker thread finished; awaiting finish of 4 more threads\n",
      "2020-12-11 09:58:24,762:INFO:worker thread finished; awaiting finish of 3 more threads\n",
      "2020-12-11 09:58:24,769:INFO:worker thread finished; awaiting finish of 2 more threads\n",
      "2020-12-11 09:58:24,770:INFO:worker thread finished; awaiting finish of 1 more threads\n",
      "2020-12-11 09:58:24,781:INFO:worker thread finished; awaiting finish of 0 more threads\n",
      "2020-12-11 09:58:24,781:INFO:EPOCH - 8 : training on 1630633 raw words (1453154 effective words) took 1.7s, 837857 effective words/s\n",
      "2020-12-11 09:58:25,857:INFO:EPOCH 9 - PROGRESS: at 70.43% examples, 745052 words/s, in_qsize 45, out_qsize 2\n",
      "2020-12-11 09:58:26,316:INFO:worker thread finished; awaiting finish of 23 more threads\n",
      "2020-12-11 09:58:26,328:INFO:worker thread finished; awaiting finish of 22 more threads\n",
      "2020-12-11 09:58:26,331:INFO:worker thread finished; awaiting finish of 21 more threads\n",
      "2020-12-11 09:58:26,334:INFO:worker thread finished; awaiting finish of 20 more threads\n",
      "2020-12-11 09:58:26,351:INFO:worker thread finished; awaiting finish of 19 more threads\n",
      "2020-12-11 09:58:26,373:INFO:worker thread finished; awaiting finish of 18 more threads\n",
      "2020-12-11 09:58:26,382:INFO:worker thread finished; awaiting finish of 17 more threads\n",
      "2020-12-11 09:58:26,383:INFO:worker thread finished; awaiting finish of 16 more threads\n",
      "2020-12-11 09:58:26,389:INFO:worker thread finished; awaiting finish of 15 more threads\n",
      "2020-12-11 09:58:26,390:INFO:worker thread finished; awaiting finish of 14 more threads\n",
      "2020-12-11 09:58:26,391:INFO:worker thread finished; awaiting finish of 13 more threads\n",
      "2020-12-11 09:58:26,403:INFO:worker thread finished; awaiting finish of 12 more threads\n",
      "2020-12-11 09:58:26,408:INFO:worker thread finished; awaiting finish of 11 more threads\n",
      "2020-12-11 09:58:26,409:INFO:worker thread finished; awaiting finish of 10 more threads\n",
      "2020-12-11 09:58:26,421:INFO:worker thread finished; awaiting finish of 9 more threads\n",
      "2020-12-11 09:58:26,422:INFO:worker thread finished; awaiting finish of 8 more threads\n",
      "2020-12-11 09:58:26,423:INFO:worker thread finished; awaiting finish of 7 more threads\n",
      "2020-12-11 09:58:26,424:INFO:worker thread finished; awaiting finish of 6 more threads\n",
      "2020-12-11 09:58:26,424:INFO:worker thread finished; awaiting finish of 5 more threads\n",
      "2020-12-11 09:58:26,429:INFO:worker thread finished; awaiting finish of 4 more threads\n",
      "2020-12-11 09:58:26,442:INFO:worker thread finished; awaiting finish of 3 more threads\n",
      "2020-12-11 09:58:26,444:INFO:worker thread finished; awaiting finish of 2 more threads\n",
      "2020-12-11 09:58:26,459:INFO:worker thread finished; awaiting finish of 1 more threads\n",
      "2020-12-11 09:58:26,463:INFO:worker thread finished; awaiting finish of 0 more threads\n",
      "2020-12-11 09:58:26,464:INFO:EPOCH - 9 : training on 1630633 raw words (1453211 effective words) took 1.7s, 870649 effective words/s\n",
      "2020-12-11 09:58:27,496:INFO:EPOCH 10 - PROGRESS: at 65.49% examples, 687110 words/s, in_qsize 47, out_qsize 0\n",
      "2020-12-11 09:58:28,023:INFO:worker thread finished; awaiting finish of 23 more threads\n",
      "2020-12-11 09:58:28,024:INFO:worker thread finished; awaiting finish of 22 more threads\n",
      "2020-12-11 09:58:28,028:INFO:worker thread finished; awaiting finish of 21 more threads\n",
      "2020-12-11 09:58:28,038:INFO:worker thread finished; awaiting finish of 20 more threads\n",
      "2020-12-11 09:58:28,052:INFO:worker thread finished; awaiting finish of 19 more threads\n",
      "2020-12-11 09:58:28,059:INFO:worker thread finished; awaiting finish of 18 more threads\n",
      "2020-12-11 09:58:28,073:INFO:worker thread finished; awaiting finish of 17 more threads\n",
      "2020-12-11 09:58:28,081:INFO:worker thread finished; awaiting finish of 16 more threads\n",
      "2020-12-11 09:58:28,086:INFO:worker thread finished; awaiting finish of 15 more threads\n",
      "2020-12-11 09:58:28,101:INFO:worker thread finished; awaiting finish of 14 more threads\n",
      "2020-12-11 09:58:28,107:INFO:worker thread finished; awaiting finish of 13 more threads\n",
      "2020-12-11 09:58:28,114:INFO:worker thread finished; awaiting finish of 12 more threads\n",
      "2020-12-11 09:58:28,125:INFO:worker thread finished; awaiting finish of 11 more threads\n",
      "2020-12-11 09:58:28,127:INFO:worker thread finished; awaiting finish of 10 more threads\n",
      "2020-12-11 09:58:28,130:INFO:worker thread finished; awaiting finish of 9 more threads\n",
      "2020-12-11 09:58:28,131:INFO:worker thread finished; awaiting finish of 8 more threads\n",
      "2020-12-11 09:58:28,142:INFO:worker thread finished; awaiting finish of 7 more threads\n",
      "2020-12-11 09:58:28,145:INFO:worker thread finished; awaiting finish of 6 more threads\n",
      "2020-12-11 09:58:28,148:INFO:worker thread finished; awaiting finish of 5 more threads\n",
      "2020-12-11 09:58:28,152:INFO:worker thread finished; awaiting finish of 4 more threads\n",
      "2020-12-11 09:58:28,154:INFO:worker thread finished; awaiting finish of 3 more threads\n",
      "2020-12-11 09:58:28,155:INFO:worker thread finished; awaiting finish of 2 more threads\n",
      "2020-12-11 09:58:28,156:INFO:worker thread finished; awaiting finish of 1 more threads\n",
      "2020-12-11 09:58:28,158:INFO:worker thread finished; awaiting finish of 0 more threads\n",
      "2020-12-11 09:58:28,158:INFO:EPOCH - 10 : training on 1630633 raw words (1452739 effective words) took 1.7s, 865029 effective words/s\n",
      "2020-12-11 09:58:28,159:INFO:training on a 16306330 raw words (14528622 effective words) took 18.4s, 790481 effective words/s\n"
     ]
    }
   ],
   "source": [
    "# 得到词向量\n",
    "item_w2v_emb_dict = trian_item_word2vec(user_click_df)"
   ]
  },
  {
   "cell_type": "code",
   "execution_count": 150,
   "metadata": {},
   "outputs": [
    {
     "data": {
      "text/html": [
       "<div>\n",
       "<style scoped>\n",
       "    .dataframe tbody tr th:only-of-type {\n",
       "        vertical-align: middle;\n",
       "    }\n",
       "\n",
       "    .dataframe tbody tr th {\n",
       "        vertical-align: top;\n",
       "    }\n",
       "\n",
       "    .dataframe thead th {\n",
       "        text-align: right;\n",
       "    }\n",
       "</style>\n",
       "<table border=\"1\" class=\"dataframe\">\n",
       "  <thead>\n",
       "    <tr style=\"text-align: right;\">\n",
       "      <th></th>\n",
       "      <th>user_id</th>\n",
       "      <th>click_article_id</th>\n",
       "      <th>click_timestamp</th>\n",
       "      <th>click_environment</th>\n",
       "      <th>click_deviceGroup</th>\n",
       "      <th>click_os</th>\n",
       "      <th>click_country</th>\n",
       "      <th>click_region</th>\n",
       "      <th>click_referrer_type</th>\n",
       "      <th>rank</th>\n",
       "      <th>click_cnts</th>\n",
       "      <th>category_id</th>\n",
       "      <th>created_at_ts</th>\n",
       "      <th>words_count</th>\n",
       "    </tr>\n",
       "  </thead>\n",
       "  <tbody>\n",
       "    <tr>\n",
       "      <th>1148940</th>\n",
       "      <td>235880</td>\n",
       "      <td>160974</td>\n",
       "      <td>0.003187</td>\n",
       "      <td>4</td>\n",
       "      <td>1</td>\n",
       "      <td>17</td>\n",
       "      <td>1</td>\n",
       "      <td>13</td>\n",
       "      <td>2</td>\n",
       "      <td>16</td>\n",
       "      <td>16</td>\n",
       "      <td>281</td>\n",
       "      <td>0.989092</td>\n",
       "      <td>259</td>\n",
       "    </tr>\n",
       "    <tr>\n",
       "      <th>1148941</th>\n",
       "      <td>235880</td>\n",
       "      <td>272660</td>\n",
       "      <td>0.003389</td>\n",
       "      <td>4</td>\n",
       "      <td>1</td>\n",
       "      <td>17</td>\n",
       "      <td>1</td>\n",
       "      <td>13</td>\n",
       "      <td>2</td>\n",
       "      <td>15</td>\n",
       "      <td>16</td>\n",
       "      <td>399</td>\n",
       "      <td>0.989007</td>\n",
       "      <td>246</td>\n",
       "    </tr>\n",
       "    <tr>\n",
       "      <th>1148942</th>\n",
       "      <td>235880</td>\n",
       "      <td>59758</td>\n",
       "      <td>0.003397</td>\n",
       "      <td>4</td>\n",
       "      <td>1</td>\n",
       "      <td>17</td>\n",
       "      <td>1</td>\n",
       "      <td>13</td>\n",
       "      <td>2</td>\n",
       "      <td>14</td>\n",
       "      <td>16</td>\n",
       "      <td>123</td>\n",
       "      <td>0.988958</td>\n",
       "      <td>213</td>\n",
       "    </tr>\n",
       "    <tr>\n",
       "      <th>1186261</th>\n",
       "      <td>222588</td>\n",
       "      <td>272143</td>\n",
       "      <td>0.006116</td>\n",
       "      <td>4</td>\n",
       "      <td>1</td>\n",
       "      <td>17</td>\n",
       "      <td>1</td>\n",
       "      <td>7</td>\n",
       "      <td>1</td>\n",
       "      <td>31</td>\n",
       "      <td>31</td>\n",
       "      <td>399</td>\n",
       "      <td>0.989235</td>\n",
       "      <td>184</td>\n",
       "    </tr>\n",
       "    <tr>\n",
       "      <th>1186262</th>\n",
       "      <td>222588</td>\n",
       "      <td>160417</td>\n",
       "      <td>0.006124</td>\n",
       "      <td>4</td>\n",
       "      <td>1</td>\n",
       "      <td>17</td>\n",
       "      <td>1</td>\n",
       "      <td>7</td>\n",
       "      <td>1</td>\n",
       "      <td>30</td>\n",
       "      <td>31</td>\n",
       "      <td>281</td>\n",
       "      <td>0.989178</td>\n",
       "      <td>173</td>\n",
       "    </tr>\n",
       "  </tbody>\n",
       "</table>\n",
       "</div>"
      ],
      "text/plain": [
       "         user_id  click_article_id  click_timestamp  click_environment  \\\n",
       "1148940   235880            160974         0.003187                  4   \n",
       "1148941   235880            272660         0.003389                  4   \n",
       "1148942   235880             59758         0.003397                  4   \n",
       "1186261   222588            272143         0.006116                  4   \n",
       "1186262   222588            160417         0.006124                  4   \n",
       "\n",
       "         click_deviceGroup  click_os  click_country  click_region  \\\n",
       "1148940                  1        17              1            13   \n",
       "1148941                  1        17              1            13   \n",
       "1148942                  1        17              1            13   \n",
       "1186261                  1        17              1             7   \n",
       "1186262                  1        17              1             7   \n",
       "\n",
       "         click_referrer_type  rank  click_cnts  category_id  created_at_ts  \\\n",
       "1148940                    2    16          16          281       0.989092   \n",
       "1148941                    2    15          16          399       0.989007   \n",
       "1148942                    2    14          16          123       0.988958   \n",
       "1186261                    1    31          31          399       0.989235   \n",
       "1186262                    1    30          31          281       0.989178   \n",
       "\n",
       "         words_count  \n",
       "1148940          259  \n",
       "1148941          246  \n",
       "1148942          213  \n",
       "1186261          184  \n",
       "1186262          173  "
      ]
     },
     "execution_count": 150,
     "metadata": {},
     "output_type": "execute_result"
    }
   ],
   "source": [
    "# 随机选择15个用户，查看这些用户前后查看文章的相似性\n",
    "sub_user_ids = np.random.choice(user_click_merge.user_id.unique(), size=15, replace=False)\n",
    "sub_user_info = user_click_df[user_click_df['user_id'].isin(sub_user_ids)]\n",
    "\n",
    "sub_user_info.head()"
   ]
  },
  {
   "cell_type": "code",
   "execution_count": 151,
   "metadata": {},
   "outputs": [],
   "source": [
    "def get_item_sim_list(df):\n",
    "    \"\"\"产生文章相似度\"\"\"\n",
    "    \n",
    "    sim_list = []\n",
    "    item_list = df['click_article_id'].values\n",
    "    for i in range(0, len(item_list)-1):\n",
    "        emb1 = item_w2v_emb_dict[str(item_list[i])] # 需要注意的是word2vec训练时候使用的是str类型的数据\n",
    "        emb2 = item_w2v_emb_dict[str(item_list[i+1])]\n",
    "        sim_list.append(np.dot(emb1,emb2)/(np.linalg.norm(emb1)*(np.linalg.norm(emb2))))  # 余弦相似度\n",
    "    sim_list.append(0)\n",
    "    return sim_list"
   ]
  },
  {
   "cell_type": "code",
   "execution_count": 152,
   "metadata": {},
   "outputs": [
    {
     "data": {
      "image/png": "[encoded data removed]",
      "text/plain": [
       "<Figure size 1008x432 with 1 Axes>"
      ]
     },
     "metadata": {
      "needs_background": "light"
     },
     "output_type": "display_data"
    }
   ],
   "source": [
    "# 同一用户的文章大多相似\n",
    "plt.figure(figsize=(14, 6))\n",
    "for _, user_df in sub_user_info.groupby('user_id'):\n",
    "    item_sim_list = get_item_sim_list(user_df)\n",
    "    plt.plot(item_sim_list)"
   ]
  },
  {
   "cell_type": "markdown",
   "metadata": {},
   "source": [
    "## 总结\n",
    "\n",
    "通过数据分析的过程， 我们目前可以得到以下几点重要的信息， 这个对于我们进行后面的特征制作和分析非常有帮助：\n",
    "1. 训练集和测试集的用户id没有重复，也就是测试集里面的用户模型是没有见过的\n",
    "2. 训练集中用户最少的点击文章数是2， 而测试集里面用户最少的点击文章数是1\n",
    "3. 用户对于文章存在重复点击的情况， 但这个都存在于训练集里面\n",
    "4. 同一用户的点击环境存在不唯一的情况，后面做这部分特征的时候可以采用统计特征\n",
    "5. 用户点击文章的次数有很大的区分度，后面可以根据这个制作衡量用户活跃度的特征\n",
    "6. 文章被用户点击的次数也有很大的区分度，后面可以根据这个制作衡量文章热度的特征\n",
    "7. 用户看的新闻，相关性是比较强的，所以往往我们判断用户是否对某篇文章感兴趣的时候， 在很大程度上会和他历史点击过的文章有关\n",
    "8. 用户点击的文章字数有比较大的区别， 这个可以反映用户对于文章字数的区别\n",
    "9. 用户点击过的文章主题也有很大的区别， 这个可以反映用户的主题偏好\n",
    "10.不同用户点击文章的时间差也会有所区别， 这个可以反映用户对于文章时效性的偏好\n",
    "\n",
    "所以根据上面的一些分析，可以更好的帮助我们后面做好特征工程， 充分挖掘数据的隐含信息。"
   ]
  }
 ],
 "metadata": {
  "kernelspec": {
   "display_name": "Python 3",
   "language": "python",
   "name": "python3"
  },
  "language_info": {
   "codemirror_mode": {
    "name": "ipython",
    "version": 3
   },
   "file_extension": ".py",
   "mimetype": "text/x-python",
   "name": "python",
   "nbconvert_exporter": "python",
   "pygments_lexer": "ipython3",
   "version": "3.8.5"
  },
  "toc-autonumbering": false,
  "toc-showmarkdowntxt": true
 },
 "nbformat": 4,
 "nbformat_minor": 4
}
