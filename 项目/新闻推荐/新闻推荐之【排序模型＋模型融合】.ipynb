{
 "cells": [
  {
   "cell_type": "markdown",
   "metadata": {},
   "source": [
    "## 排序模型 "
   ]
  },
  {
   "cell_type": "code",
   "execution_count": 1,
   "metadata": {},
   "outputs": [],
   "source": [
    "import numpy as np\n",
    "import pandas as pd\n",
    "import pickle\n",
    "from tqdm import tqdm\n",
    "import gc, os\n",
    "import time\n",
    "from datetime import datetime\n",
    "import lightgbm as lgb\n",
    "from sklearn.preprocessing import MinMaxScaler\n",
    "import warnings\n",
    "warnings.filterwarnings('ignore')"
   ]
  },
  {
   "cell_type": "markdown",
   "metadata": {},
   "source": [
    "## 读取特征"
   ]
  },
  {
   "cell_type": "code",
   "execution_count": 2,
   "metadata": {},
   "outputs": [],
   "source": [
    "data_path = './data/'\n",
    "save_path = './data/'\n",
    "offline = False"
   ]
  },
  {
   "cell_type": "code",
   "execution_count": 3,
   "metadata": {},
   "outputs": [],
   "source": [
    "# 重新读取数据的时候，发现click_article_id是一个浮点数，所以将其转换成int类型\n",
    "trn_user_item_feats_df = pd.read_csv(save_path + 'trn_user_item_feats_df.csv')\n",
    "trn_user_item_feats_df['click_article_id'] = trn_user_item_feats_df['click_article_id'].astype(int)\n",
    "\n",
    "if offline:\n",
    "    val_user_item_feats_df = pd.read_csv(save_path + 'val_user_item_feats_df.csv')\n",
    "    val_user_item_feats_df['click_article_id'] = val_user_item_feats_df['click_article_id'].astype(int)\n",
    "else:\n",
    "    val_user_item_feats_df = None\n",
    "    \n",
    "tst_user_item_feats_df = pd.read_csv(save_path + 'tst_user_item_feats_df.csv')\n",
    "tst_user_item_feats_df['click_article_id'] = tst_user_item_feats_df['click_article_id'].astype(int)\n",
    "\n",
    "# 做特征的时候为了方便，给测试集也打上了一个无效的标签，这里直接删掉就行\n",
    "del tst_user_item_feats_df['label']\n",
    "    "
   ]
  },
  {
   "cell_type": "markdown",
   "metadata": {},
   "source": [
    "## 评估"
   ]
  },
  {
   "cell_type": "markdown",
   "metadata": {},
   "source": [
    "## LGB排序模型"
   ]
  },
  {
   "cell_type": "code",
   "execution_count": 5,
   "metadata": {},
   "outputs": [],
   "source": [
    "# rank数据\n",
    "trn_user_item_feats_df_rank_model = trn_user_item_feats_df.copy()\n",
    "\n",
    "if offline:\n",
    "    val_user_item_feats_df_rank_model = val_user_item_feats_df.copy()\n",
    "\n",
    "tst_user_item_feats_df_rank_model = tst_user_item_feats_df.copy()"
   ]
  },
  {
   "cell_type": "code",
   "execution_count": 16,
   "metadata": {},
   "outputs": [
    {
     "data": {
      "text/html": [
       "<div>\n",
       "<style scoped>\n",
       "    .dataframe tbody tr th:only-of-type {\n",
       "        vertical-align: middle;\n",
       "    }\n",
       "\n",
       "    .dataframe tbody tr th {\n",
       "        vertical-align: top;\n",
       "    }\n",
       "\n",
       "    .dataframe thead th {\n",
       "        text-align: right;\n",
       "    }\n",
       "</style>\n",
       "<table border=\"1\" class=\"dataframe\">\n",
       "  <thead>\n",
       "    <tr style=\"text-align: right;\">\n",
       "      <th></th>\n",
       "      <th>user_id</th>\n",
       "      <th>click_article_id</th>\n",
       "      <th>sim0</th>\n",
       "      <th>time_diff0</th>\n",
       "      <th>word_diff0</th>\n",
       "      <th>sim_max</th>\n",
       "      <th>sim_min</th>\n",
       "      <th>sim_sum</th>\n",
       "      <th>sim_mean</th>\n",
       "      <th>score</th>\n",
       "      <th>...</th>\n",
       "      <th>click_country</th>\n",
       "      <th>click_region</th>\n",
       "      <th>click_referrer_type</th>\n",
       "      <th>user_time_hob1</th>\n",
       "      <th>user_time_hob2</th>\n",
       "      <th>word_hbo</th>\n",
       "      <th>category_id</th>\n",
       "      <th>created_at_ts</th>\n",
       "      <th>words_count</th>\n",
       "      <th>is_cat_hab</th>\n",
       "    </tr>\n",
       "  </thead>\n",
       "  <tbody>\n",
       "    <tr>\n",
       "      <th>0</th>\n",
       "      <td>0</td>\n",
       "      <td>157600</td>\n",
       "      <td>0.274769</td>\n",
       "      <td>400632000</td>\n",
       "      <td>53</td>\n",
       "      <td>0.274769</td>\n",
       "      <td>0.274769</td>\n",
       "      <td>0.274769</td>\n",
       "      <td>0.274769</td>\n",
       "      <td>0.990154</td>\n",
       "      <td>...</td>\n",
       "      <td>1</td>\n",
       "      <td>25</td>\n",
       "      <td>2</td>\n",
       "      <td>0.343715</td>\n",
       "      <td>0.992865</td>\n",
       "      <td>266.0</td>\n",
       "      <td>281</td>\n",
       "      <td>1507784459000</td>\n",
       "      <td>215</td>\n",
       "      <td>0</td>\n",
       "    </tr>\n",
       "    <tr>\n",
       "      <th>6946</th>\n",
       "      <td>1</td>\n",
       "      <td>207614</td>\n",
       "      <td>0.406684</td>\n",
       "      <td>22032876000</td>\n",
       "      <td>11</td>\n",
       "      <td>0.406684</td>\n",
       "      <td>0.406684</td>\n",
       "      <td>0.406684</td>\n",
       "      <td>0.406684</td>\n",
       "      <td>0.994893</td>\n",
       "      <td>...</td>\n",
       "      <td>1</td>\n",
       "      <td>25</td>\n",
       "      <td>6</td>\n",
       "      <td>0.343618</td>\n",
       "      <td>0.992721</td>\n",
       "      <td>169.0</td>\n",
       "      <td>331</td>\n",
       "      <td>1486147033000</td>\n",
       "      <td>187</td>\n",
       "      <td>0</td>\n",
       "    </tr>\n",
       "    <tr>\n",
       "      <th>8100</th>\n",
       "      <td>2</td>\n",
       "      <td>96187</td>\n",
       "      <td>-0.058501</td>\n",
       "      <td>5478593000</td>\n",
       "      <td>7</td>\n",
       "      <td>-0.058501</td>\n",
       "      <td>-0.058501</td>\n",
       "      <td>-0.058501</td>\n",
       "      <td>-0.058501</td>\n",
       "      <td>inf</td>\n",
       "      <td>...</td>\n",
       "      <td>1</td>\n",
       "      <td>25</td>\n",
       "      <td>2</td>\n",
       "      <td>0.343651</td>\n",
       "      <td>0.992020</td>\n",
       "      <td>210.0</td>\n",
       "      <td>209</td>\n",
       "      <td>1502698578000</td>\n",
       "      <td>212</td>\n",
       "      <td>0</td>\n",
       "    </tr>\n",
       "    <tr>\n",
       "      <th>18094</th>\n",
       "      <td>3</td>\n",
       "      <td>289080</td>\n",
       "      <td>0.223033</td>\n",
       "      <td>347360000</td>\n",
       "      <td>69</td>\n",
       "      <td>0.223033</td>\n",
       "      <td>0.223033</td>\n",
       "      <td>0.223033</td>\n",
       "      <td>0.223033</td>\n",
       "      <td>inf</td>\n",
       "      <td>...</td>\n",
       "      <td>1</td>\n",
       "      <td>25</td>\n",
       "      <td>2</td>\n",
       "      <td>0.343629</td>\n",
       "      <td>0.992774</td>\n",
       "      <td>196.5</td>\n",
       "      <td>418</td>\n",
       "      <td>1507834959000</td>\n",
       "      <td>257</td>\n",
       "      <td>0</td>\n",
       "    </tr>\n",
       "    <tr>\n",
       "      <th>26673</th>\n",
       "      <td>4</td>\n",
       "      <td>59733</td>\n",
       "      <td>0.204887</td>\n",
       "      <td>9930599000</td>\n",
       "      <td>20</td>\n",
       "      <td>0.204887</td>\n",
       "      <td>0.204887</td>\n",
       "      <td>0.204887</td>\n",
       "      <td>0.204887</td>\n",
       "      <td>inf</td>\n",
       "      <td>...</td>\n",
       "      <td>1</td>\n",
       "      <td>16</td>\n",
       "      <td>1</td>\n",
       "      <td>0.343702</td>\n",
       "      <td>0.992688</td>\n",
       "      <td>220.0</td>\n",
       "      <td>122</td>\n",
       "      <td>1498216785000</td>\n",
       "      <td>285</td>\n",
       "      <td>0</td>\n",
       "    </tr>\n",
       "  </tbody>\n",
       "</table>\n",
       "<p>5 rows × 28 columns</p>\n",
       "</div>"
      ],
      "text/plain": [
       "       user_id  click_article_id      sim0   time_diff0  word_diff0   sim_max  \\\n",
       "0            0            157600  0.274769    400632000          53  0.274769   \n",
       "6946         1            207614  0.406684  22032876000          11  0.406684   \n",
       "8100         2             96187 -0.058501   5478593000           7 -0.058501   \n",
       "18094        3            289080  0.223033    347360000          69  0.223033   \n",
       "26673        4             59733  0.204887   9930599000          20  0.204887   \n",
       "\n",
       "        sim_min   sim_sum  sim_mean     score  ...  click_country  \\\n",
       "0      0.274769  0.274769  0.274769  0.990154  ...              1   \n",
       "6946   0.406684  0.406684  0.406684  0.994893  ...              1   \n",
       "8100  -0.058501 -0.058501 -0.058501       inf  ...              1   \n",
       "18094  0.223033  0.223033  0.223033       inf  ...              1   \n",
       "26673  0.204887  0.204887  0.204887       inf  ...              1   \n",
       "\n",
       "       click_region  click_referrer_type  user_time_hob1  user_time_hob2  \\\n",
       "0                25                    2        0.343715        0.992865   \n",
       "6946             25                    6        0.343618        0.992721   \n",
       "8100             25                    2        0.343651        0.992020   \n",
       "18094            25                    2        0.343629        0.992774   \n",
       "26673            16                    1        0.343702        0.992688   \n",
       "\n",
       "       word_hbo  category_id  created_at_ts  words_count  is_cat_hab  \n",
       "0         266.0          281  1507784459000          215           0  \n",
       "6946      169.0          331  1486147033000          187           0  \n",
       "8100      210.0          209  1502698578000          212           0  \n",
       "18094     196.5          418  1507834959000          257           0  \n",
       "26673     220.0          122  1498216785000          285           0  \n",
       "\n",
       "[5 rows x 28 columns]"
      ]
     },
     "execution_count": 16,
     "metadata": {},
     "output_type": "execute_result"
    }
   ],
   "source": [
    "trn_user_item_feats_df_rank_model.head()"
   ]
  },
  {
   "cell_type": "code",
   "execution_count": 19,
   "metadata": {},
   "outputs": [],
   "source": [
    "# 定义特征列\n",
    "lgb_cols = ['sim0', 'time_diff0', 'word_diff0','sim_max', 'sim_min', 'sim_sum', \n",
    "            'sim_mean', 'score','click_size', 'time_diff_mean', 'active_level',\n",
    "            'click_environment','click_deviceGroup', 'click_os', 'click_country', \n",
    "            'click_region','click_referrer_type', 'user_time_hob1', 'user_time_hob2',\n",
    "            'word_hbo', 'category_id', 'created_at_ts','words_count']"
   ]
  },
  {
   "cell_type": "code",
   "execution_count": 20,
   "metadata": {},
   "outputs": [],
   "source": [
    "# 先排序\n",
    "trn_user_item_feats_df_rank_model.sort_values(by=\"user_id\", inplace=True)\n",
    "# 排序模型独有，优化只在所在空间内\n",
    "g_train = trn_user_item_feats_df_rank_model.groupby([\"user_id\"], as_index=False).count()[\"label\"].values\n",
    "\n",
    "if offline:\n",
    "    val_user_item_feats_df_rank_model.sort_values(by=\"user_id\", inplace=True)\n",
    "    g_val = val_user_item_feats_df_rank_model.groupby([\"user_id\"], as_index=False).count()[\"label\"].values"
   ]
  },
  {
   "cell_type": "code",
   "execution_count": 23,
   "metadata": {},
   "outputs": [],
   "source": [
    "# 模型定义\n",
    "lgb_rank = lgb.LGBMRanker(n_jobs=16)"
   ]
  },
  {
   "cell_type": "code",
   "execution_count": 24,
   "metadata": {},
   "outputs": [
    {
     "data": {
      "text/plain": [
       "LGBMRanker(n_jobs=16)"
      ]
     },
     "execution_count": 24,
     "metadata": {},
     "output_type": "execute_result"
    }
   ],
   "source": [
    "lgb_rank.fit(trn_user_item_feats_df_rank_model[lgb_cols], trn_user_item_feats_df_rank_model[\"label\"], group=g_train)"
   ]
  },
  {
   "cell_type": "code",
   "execution_count": 27,
   "metadata": {},
   "outputs": [],
   "source": [
    "lgb_rank.predict(tst_user_item_feats_df_rank_model[lgb_cols])"
   ]
  },
  {
   "cell_type": "code",
   "execution_count": null,
   "metadata": {},
   "outputs": [],
   "source": []
  }
 ],
 "metadata": {
  "kernelspec": {
   "display_name": "Python 3",
   "language": "python",
   "name": "python3"
  },
  "language_info": {
   "codemirror_mode": {
    "name": "ipython",
    "version": 3
   },
   "file_extension": ".py",
   "mimetype": "text/x-python",
   "name": "python",
   "nbconvert_exporter": "python",
   "pygments_lexer": "ipython3",
   "version": "3.8.5"
  }
 },
 "nbformat": 4,
 "nbformat_minor": 4
}
