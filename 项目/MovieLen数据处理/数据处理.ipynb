{
 "cells": [
  {
   "cell_type": "code",
   "execution_count": 1,
   "metadata": {},
   "outputs": [],
   "source": [
    "import pandas as pd\n",
    "import numpy as np\n",
    "import matplotlib.pyplot as plt\n",
    "import datetime\n",
    "import os \n"
   ]
  },
  {
   "cell_type": "markdown",
   "metadata": {},
   "source": [
    "# MovieLens数据处理"
   ]
  },
  {
   "cell_type": "markdown",
   "metadata": {},
   "source": [
    "## 数据读取"
   ]
  },
  {
   "cell_type": "code",
   "execution_count": 2,
   "metadata": {},
   "outputs": [
    {
     "name": "stdout",
     "output_type": "stream",
     "text": [
      "\u001b[01;34m.\u001b[00m\n",
      "├── \u001b[01;34mdata\u001b[00m\n",
      "│   ├── movies.dat\n",
      "│   ├── ratings.dat\n",
      "│   ├── README\n",
      "│   └── users.dat\n",
      "├── \u001b[01;34mimgs\u001b[00m\n",
      "└── 数据处理.ipynb\n",
      "\n",
      "2 directories, 5 files\n"
     ]
    }
   ],
   "source": [
    "!tree "
   ]
  },
  {
   "cell_type": "code",
   "execution_count": 3,
   "metadata": {},
   "outputs": [
    {
     "data": {
      "text/html": [
       "<div>\n",
       "<style scoped>\n",
       "    .dataframe tbody tr th:only-of-type {\n",
       "        vertical-align: middle;\n",
       "    }\n",
       "\n",
       "    .dataframe tbody tr th {\n",
       "        vertical-align: top;\n",
       "    }\n",
       "\n",
       "    .dataframe thead th {\n",
       "        text-align: right;\n",
       "    }\n",
       "</style>\n",
       "<table border=\"1\" class=\"dataframe\">\n",
       "  <thead>\n",
       "    <tr style=\"text-align: right;\">\n",
       "      <th></th>\n",
       "      <th>movie_id</th>\n",
       "      <th>title</th>\n",
       "      <th>genres</th>\n",
       "    </tr>\n",
       "  </thead>\n",
       "  <tbody>\n",
       "    <tr>\n",
       "      <th>0</th>\n",
       "      <td>1</td>\n",
       "      <td>Toy Story (1995)</td>\n",
       "      <td>Animation|Children's|Comedy</td>\n",
       "    </tr>\n",
       "    <tr>\n",
       "      <th>1</th>\n",
       "      <td>2</td>\n",
       "      <td>Jumanji (1995)</td>\n",
       "      <td>Adventure|Children's|Fantasy</td>\n",
       "    </tr>\n",
       "    <tr>\n",
       "      <th>2</th>\n",
       "      <td>3</td>\n",
       "      <td>Grumpier Old Men (1995)</td>\n",
       "      <td>Comedy|Romance</td>\n",
       "    </tr>\n",
       "    <tr>\n",
       "      <th>3</th>\n",
       "      <td>4</td>\n",
       "      <td>Waiting to Exhale (1995)</td>\n",
       "      <td>Comedy|Drama</td>\n",
       "    </tr>\n",
       "    <tr>\n",
       "      <th>4</th>\n",
       "      <td>5</td>\n",
       "      <td>Father of the Bride Part II (1995)</td>\n",
       "      <td>Comedy</td>\n",
       "    </tr>\n",
       "  </tbody>\n",
       "</table>\n",
       "</div>"
      ],
      "text/plain": [
       "   movie_id                               title                        genres\n",
       "0         1                    Toy Story (1995)   Animation|Children's|Comedy\n",
       "1         2                      Jumanji (1995)  Adventure|Children's|Fantasy\n",
       "2         3             Grumpier Old Men (1995)                Comedy|Romance\n",
       "3         4            Waiting to Exhale (1995)                  Comedy|Drama\n",
       "4         5  Father of the Bride Part II (1995)                        Comedy"
      ]
     },
     "execution_count": 3,
     "metadata": {},
     "output_type": "execute_result"
    }
   ],
   "source": [
    "movies = pd.read_table(\"./data/movies.dat\", sep=\"::\", engine=\"python\"\n",
    "                       , header=None\n",
    "                       , names=[\"movie_id\", \"title\", \"genres\"]\n",
    "                      )\n",
    "movies.head()"
   ]
  },
  {
   "cell_type": "code",
   "execution_count": 4,
   "metadata": {},
   "outputs": [
    {
     "name": "stdout",
     "output_type": "stream",
     "text": [
      "<class 'pandas.core.frame.DataFrame'>\n",
      "RangeIndex: 3883 entries, 0 to 3882\n",
      "Data columns (total 3 columns):\n",
      " #   Column    Non-Null Count  Dtype \n",
      "---  ------    --------------  ----- \n",
      " 0   movie_id  3883 non-null   int64 \n",
      " 1   title     3883 non-null   object\n",
      " 2   genres    3883 non-null   object\n",
      "dtypes: int64(1), object(2)\n",
      "memory usage: 91.1+ KB\n"
     ]
    }
   ],
   "source": [
    "# 有三千多部电影\n",
    "movies.info()"
   ]
  },
  {
   "cell_type": "code",
   "execution_count": 5,
   "metadata": {},
   "outputs": [
    {
     "data": {
      "text/html": [
       "<div>\n",
       "<style scoped>\n",
       "    .dataframe tbody tr th:only-of-type {\n",
       "        vertical-align: middle;\n",
       "    }\n",
       "\n",
       "    .dataframe tbody tr th {\n",
       "        vertical-align: top;\n",
       "    }\n",
       "\n",
       "    .dataframe thead th {\n",
       "        text-align: right;\n",
       "    }\n",
       "</style>\n",
       "<table border=\"1\" class=\"dataframe\">\n",
       "  <thead>\n",
       "    <tr style=\"text-align: right;\">\n",
       "      <th></th>\n",
       "      <th>user_id</th>\n",
       "      <th>gender</th>\n",
       "      <th>age</th>\n",
       "      <th>occupation</th>\n",
       "      <th>zip</th>\n",
       "    </tr>\n",
       "  </thead>\n",
       "  <tbody>\n",
       "    <tr>\n",
       "      <th>0</th>\n",
       "      <td>1</td>\n",
       "      <td>F</td>\n",
       "      <td>1</td>\n",
       "      <td>10</td>\n",
       "      <td>48067</td>\n",
       "    </tr>\n",
       "    <tr>\n",
       "      <th>1</th>\n",
       "      <td>2</td>\n",
       "      <td>M</td>\n",
       "      <td>56</td>\n",
       "      <td>16</td>\n",
       "      <td>70072</td>\n",
       "    </tr>\n",
       "    <tr>\n",
       "      <th>2</th>\n",
       "      <td>3</td>\n",
       "      <td>M</td>\n",
       "      <td>25</td>\n",
       "      <td>15</td>\n",
       "      <td>55117</td>\n",
       "    </tr>\n",
       "    <tr>\n",
       "      <th>3</th>\n",
       "      <td>4</td>\n",
       "      <td>M</td>\n",
       "      <td>45</td>\n",
       "      <td>7</td>\n",
       "      <td>02460</td>\n",
       "    </tr>\n",
       "    <tr>\n",
       "      <th>4</th>\n",
       "      <td>5</td>\n",
       "      <td>M</td>\n",
       "      <td>25</td>\n",
       "      <td>20</td>\n",
       "      <td>55455</td>\n",
       "    </tr>\n",
       "  </tbody>\n",
       "</table>\n",
       "</div>"
      ],
      "text/plain": [
       "   user_id gender  age  occupation    zip\n",
       "0        1      F    1          10  48067\n",
       "1        2      M   56          16  70072\n",
       "2        3      M   25          15  55117\n",
       "3        4      M   45           7  02460\n",
       "4        5      M   25          20  55455"
      ]
     },
     "execution_count": 5,
     "metadata": {},
     "output_type": "execute_result"
    }
   ],
   "source": [
    "users = pd.read_table(\"./data/users.dat\", sep=\"::\", engine=\"python\"\n",
    "                      , header=None\n",
    "                      , names=[\"user_id\", \"gender\", \"age\", \"occupation\", \"zip\"]\n",
    "                     )\n",
    "users.head()"
   ]
  },
  {
   "cell_type": "code",
   "execution_count": 6,
   "metadata": {},
   "outputs": [
    {
     "name": "stdout",
     "output_type": "stream",
     "text": [
      "<class 'pandas.core.frame.DataFrame'>\n",
      "RangeIndex: 6040 entries, 0 to 6039\n",
      "Data columns (total 5 columns):\n",
      " #   Column      Non-Null Count  Dtype \n",
      "---  ------      --------------  ----- \n",
      " 0   user_id     6040 non-null   int64 \n",
      " 1   gender      6040 non-null   object\n",
      " 2   age         6040 non-null   int64 \n",
      " 3   occupation  6040 non-null   int64 \n",
      " 4   zip         6040 non-null   object\n",
      "dtypes: int64(3), object(2)\n",
      "memory usage: 236.1+ KB\n"
     ]
    }
   ],
   "source": [
    "# 共有六千多用户\n",
    "users.info()"
   ]
  },
  {
   "cell_type": "code",
   "execution_count": 7,
   "metadata": {},
   "outputs": [
    {
     "data": {
      "text/html": [
       "<div>\n",
       "<style scoped>\n",
       "    .dataframe tbody tr th:only-of-type {\n",
       "        vertical-align: middle;\n",
       "    }\n",
       "\n",
       "    .dataframe tbody tr th {\n",
       "        vertical-align: top;\n",
       "    }\n",
       "\n",
       "    .dataframe thead th {\n",
       "        text-align: right;\n",
       "    }\n",
       "</style>\n",
       "<table border=\"1\" class=\"dataframe\">\n",
       "  <thead>\n",
       "    <tr style=\"text-align: right;\">\n",
       "      <th></th>\n",
       "      <th>user_id</th>\n",
       "      <th>movie_id</th>\n",
       "      <th>rating</th>\n",
       "      <th>timestamp</th>\n",
       "    </tr>\n",
       "  </thead>\n",
       "  <tbody>\n",
       "    <tr>\n",
       "      <th>0</th>\n",
       "      <td>1</td>\n",
       "      <td>1193</td>\n",
       "      <td>5</td>\n",
       "      <td>978300760</td>\n",
       "    </tr>\n",
       "    <tr>\n",
       "      <th>1</th>\n",
       "      <td>1</td>\n",
       "      <td>661</td>\n",
       "      <td>3</td>\n",
       "      <td>978302109</td>\n",
       "    </tr>\n",
       "    <tr>\n",
       "      <th>2</th>\n",
       "      <td>1</td>\n",
       "      <td>914</td>\n",
       "      <td>3</td>\n",
       "      <td>978301968</td>\n",
       "    </tr>\n",
       "    <tr>\n",
       "      <th>3</th>\n",
       "      <td>1</td>\n",
       "      <td>3408</td>\n",
       "      <td>4</td>\n",
       "      <td>978300275</td>\n",
       "    </tr>\n",
       "    <tr>\n",
       "      <th>4</th>\n",
       "      <td>1</td>\n",
       "      <td>2355</td>\n",
       "      <td>5</td>\n",
       "      <td>978824291</td>\n",
       "    </tr>\n",
       "  </tbody>\n",
       "</table>\n",
       "</div>"
      ],
      "text/plain": [
       "   user_id  movie_id  rating  timestamp\n",
       "0        1      1193       5  978300760\n",
       "1        1       661       3  978302109\n",
       "2        1       914       3  978301968\n",
       "3        1      3408       4  978300275\n",
       "4        1      2355       5  978824291"
      ]
     },
     "execution_count": 7,
     "metadata": {},
     "output_type": "execute_result"
    }
   ],
   "source": [
    "ratings = pd.read_table(\"./data/ratings.dat\", sep=\"::\", engine=\"python\"\n",
    "                        , header=None\n",
    "                        , names=[\"user_id\", \"movie_id\", \"rating\", \"timestamp\"]\n",
    "                       )\n",
    "ratings.head()"
   ]
  },
  {
   "cell_type": "code",
   "execution_count": 8,
   "metadata": {},
   "outputs": [
    {
     "name": "stdout",
     "output_type": "stream",
     "text": [
      "<class 'pandas.core.frame.DataFrame'>\n",
      "RangeIndex: 1000209 entries, 0 to 1000208\n",
      "Data columns (total 4 columns):\n",
      " #   Column     Non-Null Count    Dtype\n",
      "---  ------     --------------    -----\n",
      " 0   user_id    1000209 non-null  int64\n",
      " 1   movie_id   1000209 non-null  int64\n",
      " 2   rating     1000209 non-null  int64\n",
      " 3   timestamp  1000209 non-null  int64\n",
      "dtypes: int64(4)\n",
      "memory usage: 30.5 MB\n"
     ]
    }
   ],
   "source": [
    "# 一百万的评分记录日志\n",
    "ratings.info()"
   ]
  },
  {
   "cell_type": "code",
   "execution_count": 9,
   "metadata": {},
   "outputs": [
    {
     "data": {
      "text/html": [
       "<div>\n",
       "<style scoped>\n",
       "    .dataframe tbody tr th:only-of-type {\n",
       "        vertical-align: middle;\n",
       "    }\n",
       "\n",
       "    .dataframe tbody tr th {\n",
       "        vertical-align: top;\n",
       "    }\n",
       "\n",
       "    .dataframe thead th {\n",
       "        text-align: right;\n",
       "    }\n",
       "</style>\n",
       "<table border=\"1\" class=\"dataframe\">\n",
       "  <thead>\n",
       "    <tr style=\"text-align: right;\">\n",
       "      <th></th>\n",
       "      <th>user_id</th>\n",
       "      <th>movie_id</th>\n",
       "      <th>rating</th>\n",
       "      <th>timestamp</th>\n",
       "      <th>gender</th>\n",
       "      <th>age</th>\n",
       "      <th>occupation</th>\n",
       "      <th>zip</th>\n",
       "      <th>title</th>\n",
       "      <th>genres</th>\n",
       "    </tr>\n",
       "  </thead>\n",
       "  <tbody>\n",
       "    <tr>\n",
       "      <th>0</th>\n",
       "      <td>1</td>\n",
       "      <td>1193</td>\n",
       "      <td>5</td>\n",
       "      <td>978300760</td>\n",
       "      <td>F</td>\n",
       "      <td>1</td>\n",
       "      <td>10</td>\n",
       "      <td>48067</td>\n",
       "      <td>One Flew Over the Cuckoo's Nest (1975)</td>\n",
       "      <td>Drama</td>\n",
       "    </tr>\n",
       "    <tr>\n",
       "      <th>1</th>\n",
       "      <td>2</td>\n",
       "      <td>1193</td>\n",
       "      <td>5</td>\n",
       "      <td>978298413</td>\n",
       "      <td>M</td>\n",
       "      <td>56</td>\n",
       "      <td>16</td>\n",
       "      <td>70072</td>\n",
       "      <td>One Flew Over the Cuckoo's Nest (1975)</td>\n",
       "      <td>Drama</td>\n",
       "    </tr>\n",
       "    <tr>\n",
       "      <th>2</th>\n",
       "      <td>12</td>\n",
       "      <td>1193</td>\n",
       "      <td>4</td>\n",
       "      <td>978220179</td>\n",
       "      <td>M</td>\n",
       "      <td>25</td>\n",
       "      <td>12</td>\n",
       "      <td>32793</td>\n",
       "      <td>One Flew Over the Cuckoo's Nest (1975)</td>\n",
       "      <td>Drama</td>\n",
       "    </tr>\n",
       "    <tr>\n",
       "      <th>3</th>\n",
       "      <td>15</td>\n",
       "      <td>1193</td>\n",
       "      <td>4</td>\n",
       "      <td>978199279</td>\n",
       "      <td>M</td>\n",
       "      <td>25</td>\n",
       "      <td>7</td>\n",
       "      <td>22903</td>\n",
       "      <td>One Flew Over the Cuckoo's Nest (1975)</td>\n",
       "      <td>Drama</td>\n",
       "    </tr>\n",
       "    <tr>\n",
       "      <th>4</th>\n",
       "      <td>17</td>\n",
       "      <td>1193</td>\n",
       "      <td>5</td>\n",
       "      <td>978158471</td>\n",
       "      <td>M</td>\n",
       "      <td>50</td>\n",
       "      <td>1</td>\n",
       "      <td>95350</td>\n",
       "      <td>One Flew Over the Cuckoo's Nest (1975)</td>\n",
       "      <td>Drama</td>\n",
       "    </tr>\n",
       "  </tbody>\n",
       "</table>\n",
       "</div>"
      ],
      "text/plain": [
       "   user_id  movie_id  rating  timestamp gender  age  occupation    zip  \\\n",
       "0        1      1193       5  978300760      F    1          10  48067   \n",
       "1        2      1193       5  978298413      M   56          16  70072   \n",
       "2       12      1193       4  978220179      M   25          12  32793   \n",
       "3       15      1193       4  978199279      M   25           7  22903   \n",
       "4       17      1193       5  978158471      M   50           1  95350   \n",
       "\n",
       "                                    title genres  \n",
       "0  One Flew Over the Cuckoo's Nest (1975)  Drama  \n",
       "1  One Flew Over the Cuckoo's Nest (1975)  Drama  \n",
       "2  One Flew Over the Cuckoo's Nest (1975)  Drama  \n",
       "3  One Flew Over the Cuckoo's Nest (1975)  Drama  \n",
       "4  One Flew Over the Cuckoo's Nest (1975)  Drama  "
      ]
     },
     "execution_count": 9,
     "metadata": {},
     "output_type": "execute_result"
    }
   ],
   "source": [
    "# 合并所有数据\n",
    "all_data = pd.merge(pd.merge(ratings, users), movies, on=\"movie_id\")\n",
    "all_data.head()"
   ]
  },
  {
   "cell_type": "code",
   "execution_count": 10,
   "metadata": {},
   "outputs": [
    {
     "data": {
      "text/html": [
       "<div>\n",
       "<style scoped>\n",
       "    .dataframe tbody tr th:only-of-type {\n",
       "        vertical-align: middle;\n",
       "    }\n",
       "\n",
       "    .dataframe tbody tr th {\n",
       "        vertical-align: top;\n",
       "    }\n",
       "\n",
       "    .dataframe thead th {\n",
       "        text-align: right;\n",
       "    }\n",
       "</style>\n",
       "<table border=\"1\" class=\"dataframe\">\n",
       "  <thead>\n",
       "    <tr style=\"text-align: right;\">\n",
       "      <th></th>\n",
       "      <th>user_id</th>\n",
       "      <th>movie_id</th>\n",
       "      <th>rating</th>\n",
       "      <th>timestamp</th>\n",
       "      <th>gender</th>\n",
       "      <th>age</th>\n",
       "      <th>occupation</th>\n",
       "      <th>zip</th>\n",
       "      <th>title</th>\n",
       "      <th>genres</th>\n",
       "    </tr>\n",
       "  </thead>\n",
       "  <tbody>\n",
       "    <tr>\n",
       "      <th>34073</th>\n",
       "      <td>1</td>\n",
       "      <td>3186</td>\n",
       "      <td>4</td>\n",
       "      <td>978300019</td>\n",
       "      <td>F</td>\n",
       "      <td>1</td>\n",
       "      <td>10</td>\n",
       "      <td>48067</td>\n",
       "      <td>Girl, Interrupted (1999)</td>\n",
       "      <td>Drama</td>\n",
       "    </tr>\n",
       "    <tr>\n",
       "      <th>23270</th>\n",
       "      <td>1</td>\n",
       "      <td>1270</td>\n",
       "      <td>5</td>\n",
       "      <td>978300055</td>\n",
       "      <td>F</td>\n",
       "      <td>1</td>\n",
       "      <td>10</td>\n",
       "      <td>48067</td>\n",
       "      <td>Back to the Future (1985)</td>\n",
       "      <td>Comedy|Sci-Fi</td>\n",
       "    </tr>\n",
       "    <tr>\n",
       "      <th>31152</th>\n",
       "      <td>1</td>\n",
       "      <td>1721</td>\n",
       "      <td>4</td>\n",
       "      <td>978300055</td>\n",
       "      <td>F</td>\n",
       "      <td>1</td>\n",
       "      <td>10</td>\n",
       "      <td>48067</td>\n",
       "      <td>Titanic (1997)</td>\n",
       "      <td>Drama|Romance</td>\n",
       "    </tr>\n",
       "    <tr>\n",
       "      <th>37339</th>\n",
       "      <td>1</td>\n",
       "      <td>1022</td>\n",
       "      <td>5</td>\n",
       "      <td>978300055</td>\n",
       "      <td>F</td>\n",
       "      <td>1</td>\n",
       "      <td>10</td>\n",
       "      <td>48067</td>\n",
       "      <td>Cinderella (1950)</td>\n",
       "      <td>Animation|Children's|Musical</td>\n",
       "    </tr>\n",
       "    <tr>\n",
       "      <th>28157</th>\n",
       "      <td>1</td>\n",
       "      <td>2340</td>\n",
       "      <td>3</td>\n",
       "      <td>978300103</td>\n",
       "      <td>F</td>\n",
       "      <td>1</td>\n",
       "      <td>10</td>\n",
       "      <td>48067</td>\n",
       "      <td>Meet Joe Black (1998)</td>\n",
       "      <td>Romance</td>\n",
       "    </tr>\n",
       "  </tbody>\n",
       "</table>\n",
       "</div>"
      ],
      "text/plain": [
       "       user_id  movie_id  rating  timestamp gender  age  occupation    zip  \\\n",
       "34073        1      3186       4  978300019      F    1          10  48067   \n",
       "23270        1      1270       5  978300055      F    1          10  48067   \n",
       "31152        1      1721       4  978300055      F    1          10  48067   \n",
       "37339        1      1022       5  978300055      F    1          10  48067   \n",
       "28157        1      2340       3  978300103      F    1          10  48067   \n",
       "\n",
       "                           title                        genres  \n",
       "34073   Girl, Interrupted (1999)                         Drama  \n",
       "23270  Back to the Future (1985)                 Comedy|Sci-Fi  \n",
       "31152             Titanic (1997)                 Drama|Romance  \n",
       "37339          Cinderella (1950)  Animation|Children's|Musical  \n",
       "28157      Meet Joe Black (1998)                       Romance  "
      ]
     },
     "execution_count": 10,
     "metadata": {},
     "output_type": "execute_result"
    }
   ],
   "source": [
    "# 每一位用户的点击，按照时间顺序排列\n",
    "all_data = all_data.sort_values(by=[\"user_id\", \"timestamp\"])\n",
    "all_data.head()"
   ]
  },
  {
   "cell_type": "code",
   "execution_count": 11,
   "metadata": {},
   "outputs": [],
   "source": [
    "# 各个字段的可能的取值\n",
    "\n",
    "def get_feat_nunique(df):\n",
    "\n",
    "    feat_nunique = {}\n",
    "    for name in df.columns:\n",
    "        try:\n",
    "            feat_nunique[name] = df[name].nunique()\n",
    "        except:\n",
    "            print(name + \"不支持统计！\")\n",
    "    \n",
    "    return pd.DataFrame(feat_nunique, index=[\"nunique\"])  "
   ]
  },
  {
   "cell_type": "code",
   "execution_count": 12,
   "metadata": {},
   "outputs": [
    {
     "data": {
      "text/html": [
       "<div>\n",
       "<style scoped>\n",
       "    .dataframe tbody tr th:only-of-type {\n",
       "        vertical-align: middle;\n",
       "    }\n",
       "\n",
       "    .dataframe tbody tr th {\n",
       "        vertical-align: top;\n",
       "    }\n",
       "\n",
       "    .dataframe thead th {\n",
       "        text-align: right;\n",
       "    }\n",
       "</style>\n",
       "<table border=\"1\" class=\"dataframe\">\n",
       "  <thead>\n",
       "    <tr style=\"text-align: right;\">\n",
       "      <th></th>\n",
       "      <th>user_id</th>\n",
       "      <th>movie_id</th>\n",
       "      <th>rating</th>\n",
       "      <th>timestamp</th>\n",
       "      <th>gender</th>\n",
       "      <th>age</th>\n",
       "      <th>occupation</th>\n",
       "      <th>zip</th>\n",
       "      <th>title</th>\n",
       "      <th>genres</th>\n",
       "    </tr>\n",
       "  </thead>\n",
       "  <tbody>\n",
       "    <tr>\n",
       "      <th>nunique</th>\n",
       "      <td>6040</td>\n",
       "      <td>3706</td>\n",
       "      <td>5</td>\n",
       "      <td>458455</td>\n",
       "      <td>2</td>\n",
       "      <td>7</td>\n",
       "      <td>21</td>\n",
       "      <td>3439</td>\n",
       "      <td>3706</td>\n",
       "      <td>301</td>\n",
       "    </tr>\n",
       "  </tbody>\n",
       "</table>\n",
       "</div>"
      ],
      "text/plain": [
       "         user_id  movie_id  rating  timestamp  gender  age  occupation   zip  \\\n",
       "nunique     6040      3706       5     458455       2    7          21  3439   \n",
       "\n",
       "         title  genres  \n",
       "nunique   3706     301  "
      ]
     },
     "execution_count": 12,
     "metadata": {},
     "output_type": "execute_result"
    }
   ],
   "source": [
    "get_feat_nunique(all_data).head()"
   ]
  },
  {
   "cell_type": "code",
   "execution_count": 13,
   "metadata": {},
   "outputs": [
    {
     "name": "stderr",
     "output_type": "stream",
     "text": [
      "/home/gavin/anaconda3/lib/python3.8/site-packages/sklearn/utils/validation.py:63: DataConversionWarning: A column-vector y was passed when a 1d array was expected. Please change the shape of y to (n_samples, ), for example using ravel().\n",
      "  return f(*args, **kwargs)\n"
     ]
    }
   ],
   "source": [
    "# 离散数据：LabEncoder, 连续数据：MinMaxScalar\n",
    "\n",
    "from sklearn.preprocessing import LabelEncoder\n",
    "from sklearn.preprocessing import MinMaxScaler\n",
    "from random import sample\n",
    "\n",
    "# 连续\n",
    "dense_feats = [\"timestamp\"]\n",
    "MMS = MinMaxScaler()\n",
    "for name in dense_feats:\n",
    "    all_data[name] = MMS.fit_transform(all_data[[name]])\n",
    "\n",
    "# 离散\n",
    "spase_feats = [\"user_id\", \"movie_id\", \"gender\", \"age\", \"occupation\", \"zip\"]\n",
    "LE = LabelEncoder()\n",
    "for name in spase_feats:\n",
    "    all_data[name] = LE.fit_transform(all_data[[name]])"
   ]
  },
  {
   "cell_type": "code",
   "execution_count": 14,
   "metadata": {},
   "outputs": [],
   "source": [
    "# 获取用户历史观看视频\n",
    "\n",
    "def get_user_hist_beavior(df):\n",
    "    \"\"\"\n",
    "    df: 用户数据\n",
    "    \"\"\"\n",
    "    \n",
    "    user_hist_data = pd.DataFrame(df.groupby(\"user_id\")[\"movie_id\"].agg({list})[\"list\"].map(lambda x: x[-50:])).reset_index()\n",
    "    user_hist_data[\"hist_len\"] = user_hist_data[\"list\"].map(lambda x: len(x))\n",
    "    user_hist_data[\"seq_length\"] = user_hist_data[\"hist_len\"].map(lambda x: x)\n",
    "    user_hist_data.rename(columns = {\"list\": \"hist_movie_id\"}, inplace = True)\n",
    "    df = df.merge(user_hist_data, how=\"left\", on=\"user_id\")\n",
    "    \n",
    "    return df"
   ]
  },
  {
   "cell_type": "code",
   "execution_count": 15,
   "metadata": {},
   "outputs": [
    {
     "data": {
      "text/html": [
       "<div>\n",
       "<style scoped>\n",
       "    .dataframe tbody tr th:only-of-type {\n",
       "        vertical-align: middle;\n",
       "    }\n",
       "\n",
       "    .dataframe tbody tr th {\n",
       "        vertical-align: top;\n",
       "    }\n",
       "\n",
       "    .dataframe thead th {\n",
       "        text-align: right;\n",
       "    }\n",
       "</style>\n",
       "<table border=\"1\" class=\"dataframe\">\n",
       "  <thead>\n",
       "    <tr style=\"text-align: right;\">\n",
       "      <th></th>\n",
       "      <th>user_id</th>\n",
       "      <th>movie_id</th>\n",
       "      <th>rating</th>\n",
       "      <th>timestamp</th>\n",
       "      <th>gender</th>\n",
       "      <th>age</th>\n",
       "      <th>occupation</th>\n",
       "      <th>zip</th>\n",
       "      <th>title</th>\n",
       "      <th>genres</th>\n",
       "      <th>hist_movie_id</th>\n",
       "      <th>hist_len</th>\n",
       "      <th>seq_length</th>\n",
       "    </tr>\n",
       "  </thead>\n",
       "  <tbody>\n",
       "    <tr>\n",
       "      <th>0</th>\n",
       "      <td>0</td>\n",
       "      <td>2969</td>\n",
       "      <td>4</td>\n",
       "      <td>0.240623</td>\n",
       "      <td>0</td>\n",
       "      <td>0</td>\n",
       "      <td>10</td>\n",
       "      <td>1588</td>\n",
       "      <td>Girl, Interrupted (1999)</td>\n",
       "      <td>Drama</td>\n",
       "      <td>[957, 2147, 1658, 3177, 2599, 1117, 1104, 689,...</td>\n",
       "      <td>50</td>\n",
       "      <td>50</td>\n",
       "    </tr>\n",
       "    <tr>\n",
       "      <th>1</th>\n",
       "      <td>0</td>\n",
       "      <td>1178</td>\n",
       "      <td>5</td>\n",
       "      <td>0.240624</td>\n",
       "      <td>0</td>\n",
       "      <td>0</td>\n",
       "      <td>10</td>\n",
       "      <td>1588</td>\n",
       "      <td>Back to the Future (1985)</td>\n",
       "      <td>Comedy|Sci-Fi</td>\n",
       "      <td>[957, 2147, 1658, 3177, 2599, 1117, 1104, 689,...</td>\n",
       "      <td>50</td>\n",
       "      <td>50</td>\n",
       "    </tr>\n",
       "    <tr>\n",
       "      <th>2</th>\n",
       "      <td>0</td>\n",
       "      <td>1574</td>\n",
       "      <td>4</td>\n",
       "      <td>0.240624</td>\n",
       "      <td>0</td>\n",
       "      <td>0</td>\n",
       "      <td>10</td>\n",
       "      <td>1588</td>\n",
       "      <td>Titanic (1997)</td>\n",
       "      <td>Drama|Romance</td>\n",
       "      <td>[957, 2147, 1658, 3177, 2599, 1117, 1104, 689,...</td>\n",
       "      <td>50</td>\n",
       "      <td>50</td>\n",
       "    </tr>\n",
       "    <tr>\n",
       "      <th>3</th>\n",
       "      <td>0</td>\n",
       "      <td>957</td>\n",
       "      <td>5</td>\n",
       "      <td>0.240624</td>\n",
       "      <td>0</td>\n",
       "      <td>0</td>\n",
       "      <td>10</td>\n",
       "      <td>1588</td>\n",
       "      <td>Cinderella (1950)</td>\n",
       "      <td>Animation|Children's|Musical</td>\n",
       "      <td>[957, 2147, 1658, 3177, 2599, 1117, 1104, 689,...</td>\n",
       "      <td>50</td>\n",
       "      <td>50</td>\n",
       "    </tr>\n",
       "    <tr>\n",
       "      <th>4</th>\n",
       "      <td>0</td>\n",
       "      <td>2147</td>\n",
       "      <td>3</td>\n",
       "      <td>0.240624</td>\n",
       "      <td>0</td>\n",
       "      <td>0</td>\n",
       "      <td>10</td>\n",
       "      <td>1588</td>\n",
       "      <td>Meet Joe Black (1998)</td>\n",
       "      <td>Romance</td>\n",
       "      <td>[957, 2147, 1658, 3177, 2599, 1117, 1104, 689,...</td>\n",
       "      <td>50</td>\n",
       "      <td>50</td>\n",
       "    </tr>\n",
       "  </tbody>\n",
       "</table>\n",
       "</div>"
      ],
      "text/plain": [
       "   user_id  movie_id  rating  timestamp  gender  age  occupation   zip  \\\n",
       "0        0      2969       4   0.240623       0    0          10  1588   \n",
       "1        0      1178       5   0.240624       0    0          10  1588   \n",
       "2        0      1574       4   0.240624       0    0          10  1588   \n",
       "3        0       957       5   0.240624       0    0          10  1588   \n",
       "4        0      2147       3   0.240624       0    0          10  1588   \n",
       "\n",
       "                       title                        genres  \\\n",
       "0   Girl, Interrupted (1999)                         Drama   \n",
       "1  Back to the Future (1985)                 Comedy|Sci-Fi   \n",
       "2             Titanic (1997)                 Drama|Romance   \n",
       "3          Cinderella (1950)  Animation|Children's|Musical   \n",
       "4      Meet Joe Black (1998)                       Romance   \n",
       "\n",
       "                                       hist_movie_id  hist_len  seq_length  \n",
       "0  [957, 2147, 1658, 3177, 2599, 1117, 1104, 689,...        50          50  \n",
       "1  [957, 2147, 1658, 3177, 2599, 1117, 1104, 689,...        50          50  \n",
       "2  [957, 2147, 1658, 3177, 2599, 1117, 1104, 689,...        50          50  \n",
       "3  [957, 2147, 1658, 3177, 2599, 1117, 1104, 689,...        50          50  \n",
       "4  [957, 2147, 1658, 3177, 2599, 1117, 1104, 689,...        50          50  "
      ]
     },
     "execution_count": 15,
     "metadata": {},
     "output_type": "execute_result"
    }
   ],
   "source": [
    "all_data = get_user_hist_beavior(df=all_data)\n",
    "all_data.head()"
   ]
  },
  {
   "cell_type": "code",
   "execution_count": 16,
   "metadata": {},
   "outputs": [],
   "source": [
    "def get_neg_click(data_df, neg_num = 0):\n",
    "    \"\"\"\n",
    "    负采样, 1:1 正负样本采样\n",
    "    data_df: 数据集\n",
    "    neg_num: 负样本个数\n",
    "    \"\"\"\n",
    "    \n",
    "    movies_np = data_df[\"hist_movie_id\"].values\n",
    "    movies_list =[]\n",
    "    for movie in movies_np:\n",
    "        movies_list.extend(movie)\n",
    "    \n",
    "    # 去重\n",
    "    movies_set = set(movies_list)\n",
    "    neg_movies_list = []\n",
    "    \n",
    "    for movies in movies_np:\n",
    "        hist_movies = set(movie)\n",
    "        #　用户未点击的样本作为负样本\n",
    "        neg_movies_set = movies_set - hist_movies\n",
    "        # 采样指定个数的负样本（保证和用户序列长度相同）\n",
    "        neg_movies = sample(neg_movies_set, neg_num)\n",
    "        neg_movies_list.append(list(neg_movies))\n",
    "    \n",
    "    return pd.Series(neg_movies_list)"
   ]
  },
  {
   "cell_type": "code",
   "execution_count": 17,
   "metadata": {},
   "outputs": [
    {
     "data": {
      "text/html": [
       "<div>\n",
       "<style scoped>\n",
       "    .dataframe tbody tr th:only-of-type {\n",
       "        vertical-align: middle;\n",
       "    }\n",
       "\n",
       "    .dataframe tbody tr th {\n",
       "        vertical-align: top;\n",
       "    }\n",
       "\n",
       "    .dataframe thead th {\n",
       "        text-align: right;\n",
       "    }\n",
       "</style>\n",
       "<table border=\"1\" class=\"dataframe\">\n",
       "  <thead>\n",
       "    <tr style=\"text-align: right;\">\n",
       "      <th></th>\n",
       "      <th>user_id</th>\n",
       "      <th>movie_id</th>\n",
       "      <th>rating</th>\n",
       "      <th>timestamp</th>\n",
       "      <th>gender</th>\n",
       "      <th>age</th>\n",
       "      <th>occupation</th>\n",
       "      <th>zip</th>\n",
       "      <th>title</th>\n",
       "      <th>genres</th>\n",
       "      <th>hist_movie_id</th>\n",
       "      <th>hist_len</th>\n",
       "      <th>seq_length</th>\n",
       "      <th>neg_hist_movie_id</th>\n",
       "    </tr>\n",
       "  </thead>\n",
       "  <tbody>\n",
       "    <tr>\n",
       "      <th>0</th>\n",
       "      <td>0</td>\n",
       "      <td>2969</td>\n",
       "      <td>4</td>\n",
       "      <td>0.240623</td>\n",
       "      <td>0</td>\n",
       "      <td>0</td>\n",
       "      <td>10</td>\n",
       "      <td>1588</td>\n",
       "      <td>Girl, Interrupted (1999)</td>\n",
       "      <td>Drama</td>\n",
       "      <td>[957, 2147, 1658, 3177, 2599, 1117, 1104, 689,...</td>\n",
       "      <td>50</td>\n",
       "      <td>50</td>\n",
       "      <td>[650, 863, 3083, 3505, 3277, 3670, 2569, 1755,...</td>\n",
       "    </tr>\n",
       "    <tr>\n",
       "      <th>1</th>\n",
       "      <td>0</td>\n",
       "      <td>1178</td>\n",
       "      <td>5</td>\n",
       "      <td>0.240624</td>\n",
       "      <td>0</td>\n",
       "      <td>0</td>\n",
       "      <td>10</td>\n",
       "      <td>1588</td>\n",
       "      <td>Back to the Future (1985)</td>\n",
       "      <td>Comedy|Sci-Fi</td>\n",
       "      <td>[957, 2147, 1658, 3177, 2599, 1117, 1104, 689,...</td>\n",
       "      <td>50</td>\n",
       "      <td>50</td>\n",
       "      <td>[2651, 2857, 1638, 1140, 2756, 2138, 3620, 304...</td>\n",
       "    </tr>\n",
       "    <tr>\n",
       "      <th>2</th>\n",
       "      <td>0</td>\n",
       "      <td>1574</td>\n",
       "      <td>4</td>\n",
       "      <td>0.240624</td>\n",
       "      <td>0</td>\n",
       "      <td>0</td>\n",
       "      <td>10</td>\n",
       "      <td>1588</td>\n",
       "      <td>Titanic (1997)</td>\n",
       "      <td>Drama|Romance</td>\n",
       "      <td>[957, 2147, 1658, 3177, 2599, 1117, 1104, 689,...</td>\n",
       "      <td>50</td>\n",
       "      <td>50</td>\n",
       "      <td>[2020, 60, 2863, 116, 3031, 861, 2100, 1091, 3...</td>\n",
       "    </tr>\n",
       "    <tr>\n",
       "      <th>3</th>\n",
       "      <td>0</td>\n",
       "      <td>957</td>\n",
       "      <td>5</td>\n",
       "      <td>0.240624</td>\n",
       "      <td>0</td>\n",
       "      <td>0</td>\n",
       "      <td>10</td>\n",
       "      <td>1588</td>\n",
       "      <td>Cinderella (1950)</td>\n",
       "      <td>Animation|Children's|Musical</td>\n",
       "      <td>[957, 2147, 1658, 3177, 2599, 1117, 1104, 689,...</td>\n",
       "      <td>50</td>\n",
       "      <td>50</td>\n",
       "      <td>[2957, 2932, 1028, 1177, 2555, 1032, 1976, 312...</td>\n",
       "    </tr>\n",
       "    <tr>\n",
       "      <th>4</th>\n",
       "      <td>0</td>\n",
       "      <td>2147</td>\n",
       "      <td>3</td>\n",
       "      <td>0.240624</td>\n",
       "      <td>0</td>\n",
       "      <td>0</td>\n",
       "      <td>10</td>\n",
       "      <td>1588</td>\n",
       "      <td>Meet Joe Black (1998)</td>\n",
       "      <td>Romance</td>\n",
       "      <td>[957, 2147, 1658, 3177, 2599, 1117, 1104, 689,...</td>\n",
       "      <td>50</td>\n",
       "      <td>50</td>\n",
       "      <td>[804, 715, 948, 2487, 3624, 330, 528, 657, 845...</td>\n",
       "    </tr>\n",
       "  </tbody>\n",
       "</table>\n",
       "</div>"
      ],
      "text/plain": [
       "   user_id  movie_id  rating  timestamp  gender  age  occupation   zip  \\\n",
       "0        0      2969       4   0.240623       0    0          10  1588   \n",
       "1        0      1178       5   0.240624       0    0          10  1588   \n",
       "2        0      1574       4   0.240624       0    0          10  1588   \n",
       "3        0       957       5   0.240624       0    0          10  1588   \n",
       "4        0      2147       3   0.240624       0    0          10  1588   \n",
       "\n",
       "                       title                        genres  \\\n",
       "0   Girl, Interrupted (1999)                         Drama   \n",
       "1  Back to the Future (1985)                 Comedy|Sci-Fi   \n",
       "2             Titanic (1997)                 Drama|Romance   \n",
       "3          Cinderella (1950)  Animation|Children's|Musical   \n",
       "4      Meet Joe Black (1998)                       Romance   \n",
       "\n",
       "                                       hist_movie_id  hist_len  seq_length  \\\n",
       "0  [957, 2147, 1658, 3177, 2599, 1117, 1104, 689,...        50          50   \n",
       "1  [957, 2147, 1658, 3177, 2599, 1117, 1104, 689,...        50          50   \n",
       "2  [957, 2147, 1658, 3177, 2599, 1117, 1104, 689,...        50          50   \n",
       "3  [957, 2147, 1658, 3177, 2599, 1117, 1104, 689,...        50          50   \n",
       "4  [957, 2147, 1658, 3177, 2599, 1117, 1104, 689,...        50          50   \n",
       "\n",
       "                                   neg_hist_movie_id  \n",
       "0  [650, 863, 3083, 3505, 3277, 3670, 2569, 1755,...  \n",
       "1  [2651, 2857, 1638, 1140, 2756, 2138, 3620, 304...  \n",
       "2  [2020, 60, 2863, 116, 3031, 861, 2100, 1091, 3...  \n",
       "3  [2957, 2932, 1028, 1177, 2555, 1032, 1976, 312...  \n",
       "4  [804, 715, 948, 2487, 3624, 330, 528, 657, 845...  "
      ]
     },
     "execution_count": 17,
     "metadata": {},
     "output_type": "execute_result"
    }
   ],
   "source": [
    "all_data[\"neg_hist_movie_id\"] = get_neg_click(data_df=all_data, neg_num=50)\n",
    "all_data.head()"
   ]
  },
  {
   "cell_type": "code",
   "execution_count": 18,
   "metadata": {},
   "outputs": [
    {
     "data": {
      "text/html": [
       "<div>\n",
       "<style scoped>\n",
       "    .dataframe tbody tr th:only-of-type {\n",
       "        vertical-align: middle;\n",
       "    }\n",
       "\n",
       "    .dataframe tbody tr th {\n",
       "        vertical-align: top;\n",
       "    }\n",
       "\n",
       "    .dataframe thead th {\n",
       "        text-align: right;\n",
       "    }\n",
       "</style>\n",
       "<table border=\"1\" class=\"dataframe\">\n",
       "  <thead>\n",
       "    <tr style=\"text-align: right;\">\n",
       "      <th></th>\n",
       "      <th>user_id</th>\n",
       "      <th>movie_id</th>\n",
       "      <th>rating</th>\n",
       "      <th>timestamp</th>\n",
       "      <th>gender</th>\n",
       "      <th>age</th>\n",
       "      <th>occupation</th>\n",
       "      <th>zip</th>\n",
       "      <th>title</th>\n",
       "      <th>genres</th>\n",
       "      <th>hist_movie_id</th>\n",
       "      <th>hist_len</th>\n",
       "      <th>seq_length</th>\n",
       "      <th>neg_hist_movie_id</th>\n",
       "      <th>label</th>\n",
       "    </tr>\n",
       "  </thead>\n",
       "  <tbody>\n",
       "    <tr>\n",
       "      <th>0</th>\n",
       "      <td>0</td>\n",
       "      <td>2969</td>\n",
       "      <td>4</td>\n",
       "      <td>0.240623</td>\n",
       "      <td>0</td>\n",
       "      <td>0</td>\n",
       "      <td>10</td>\n",
       "      <td>1588</td>\n",
       "      <td>Girl, Interrupted (1999)</td>\n",
       "      <td>Drama</td>\n",
       "      <td>[957, 2147, 1658, 3177, 2599, 1117, 1104, 689,...</td>\n",
       "      <td>50</td>\n",
       "      <td>50</td>\n",
       "      <td>[650, 863, 3083, 3505, 3277, 3670, 2569, 1755,...</td>\n",
       "      <td>1</td>\n",
       "    </tr>\n",
       "    <tr>\n",
       "      <th>1</th>\n",
       "      <td>0</td>\n",
       "      <td>1178</td>\n",
       "      <td>5</td>\n",
       "      <td>0.240624</td>\n",
       "      <td>0</td>\n",
       "      <td>0</td>\n",
       "      <td>10</td>\n",
       "      <td>1588</td>\n",
       "      <td>Back to the Future (1985)</td>\n",
       "      <td>Comedy|Sci-Fi</td>\n",
       "      <td>[957, 2147, 1658, 3177, 2599, 1117, 1104, 689,...</td>\n",
       "      <td>50</td>\n",
       "      <td>50</td>\n",
       "      <td>[2651, 2857, 1638, 1140, 2756, 2138, 3620, 304...</td>\n",
       "      <td>1</td>\n",
       "    </tr>\n",
       "    <tr>\n",
       "      <th>2</th>\n",
       "      <td>0</td>\n",
       "      <td>1574</td>\n",
       "      <td>4</td>\n",
       "      <td>0.240624</td>\n",
       "      <td>0</td>\n",
       "      <td>0</td>\n",
       "      <td>10</td>\n",
       "      <td>1588</td>\n",
       "      <td>Titanic (1997)</td>\n",
       "      <td>Drama|Romance</td>\n",
       "      <td>[957, 2147, 1658, 3177, 2599, 1117, 1104, 689,...</td>\n",
       "      <td>50</td>\n",
       "      <td>50</td>\n",
       "      <td>[2020, 60, 2863, 116, 3031, 861, 2100, 1091, 3...</td>\n",
       "      <td>1</td>\n",
       "    </tr>\n",
       "    <tr>\n",
       "      <th>3</th>\n",
       "      <td>0</td>\n",
       "      <td>957</td>\n",
       "      <td>5</td>\n",
       "      <td>0.240624</td>\n",
       "      <td>0</td>\n",
       "      <td>0</td>\n",
       "      <td>10</td>\n",
       "      <td>1588</td>\n",
       "      <td>Cinderella (1950)</td>\n",
       "      <td>Animation|Children's|Musical</td>\n",
       "      <td>[957, 2147, 1658, 3177, 2599, 1117, 1104, 689,...</td>\n",
       "      <td>50</td>\n",
       "      <td>50</td>\n",
       "      <td>[2957, 2932, 1028, 1177, 2555, 1032, 1976, 312...</td>\n",
       "      <td>1</td>\n",
       "    </tr>\n",
       "    <tr>\n",
       "      <th>4</th>\n",
       "      <td>0</td>\n",
       "      <td>2147</td>\n",
       "      <td>3</td>\n",
       "      <td>0.240624</td>\n",
       "      <td>0</td>\n",
       "      <td>0</td>\n",
       "      <td>10</td>\n",
       "      <td>1588</td>\n",
       "      <td>Meet Joe Black (1998)</td>\n",
       "      <td>Romance</td>\n",
       "      <td>[957, 2147, 1658, 3177, 2599, 1117, 1104, 689,...</td>\n",
       "      <td>50</td>\n",
       "      <td>50</td>\n",
       "      <td>[804, 715, 948, 2487, 3624, 330, 528, 657, 845...</td>\n",
       "      <td>0</td>\n",
       "    </tr>\n",
       "  </tbody>\n",
       "</table>\n",
       "</div>"
      ],
      "text/plain": [
       "   user_id  movie_id  rating  timestamp  gender  age  occupation   zip  \\\n",
       "0        0      2969       4   0.240623       0    0          10  1588   \n",
       "1        0      1178       5   0.240624       0    0          10  1588   \n",
       "2        0      1574       4   0.240624       0    0          10  1588   \n",
       "3        0       957       5   0.240624       0    0          10  1588   \n",
       "4        0      2147       3   0.240624       0    0          10  1588   \n",
       "\n",
       "                       title                        genres  \\\n",
       "0   Girl, Interrupted (1999)                         Drama   \n",
       "1  Back to the Future (1985)                 Comedy|Sci-Fi   \n",
       "2             Titanic (1997)                 Drama|Romance   \n",
       "3          Cinderella (1950)  Animation|Children's|Musical   \n",
       "4      Meet Joe Black (1998)                       Romance   \n",
       "\n",
       "                                       hist_movie_id  hist_len  seq_length  \\\n",
       "0  [957, 2147, 1658, 3177, 2599, 1117, 1104, 689,...        50          50   \n",
       "1  [957, 2147, 1658, 3177, 2599, 1117, 1104, 689,...        50          50   \n",
       "2  [957, 2147, 1658, 3177, 2599, 1117, 1104, 689,...        50          50   \n",
       "3  [957, 2147, 1658, 3177, 2599, 1117, 1104, 689,...        50          50   \n",
       "4  [957, 2147, 1658, 3177, 2599, 1117, 1104, 689,...        50          50   \n",
       "\n",
       "                                   neg_hist_movie_id  label  \n",
       "0  [650, 863, 3083, 3505, 3277, 3670, 2569, 1755,...      1  \n",
       "1  [2651, 2857, 1638, 1140, 2756, 2138, 3620, 304...      1  \n",
       "2  [2020, 60, 2863, 116, 3031, 861, 2100, 1091, 3...      1  \n",
       "3  [2957, 2932, 1028, 1177, 2555, 1032, 1976, 312...      1  \n",
       "4  [804, 715, 948, 2487, 3624, 330, 528, 657, 845...      0  "
      ]
     },
     "execution_count": 18,
     "metadata": {},
     "output_type": "execute_result"
    }
   ],
   "source": [
    "# label构建\n",
    "all_data[\"label\"] = all_data[\"rating\"].map(lambda x: 1 if x > 3 else 0)\n",
    "all_data.head()"
   ]
  },
  {
   "cell_type": "code",
   "execution_count": 22,
   "metadata": {},
   "outputs": [],
   "source": [
    "from deepctr_torch.inputs import SparseFeat, VarLenSparseFeat, DenseFeat\n",
    "from deepctr_torch.inputs import get_feature_names\n",
    "from deepctr_torch.models import DIEN\n",
    "from tensorflow.keras.preprocessing.sequence import pad_sequences"
   ]
  },
  {
   "cell_type": "code",
   "execution_count": 33,
   "metadata": {},
   "outputs": [],
   "source": [
    "## 编码信息\n",
    "# 编码\n",
    "def get_feats_columns_info(df, spase_columns, dense_columns, behavior_feat, his_behavior_fea, embed_dim=8, max_len=50, DIEN=False):\n",
    "    \"\"\"\n",
    "    获取特征编码信息\n",
    "    df: 数据集\n",
    "    spase_columns: 稀疏特征, list\n",
    "    dense_columns： 稠密特征, list\n",
    "    behavior_feat： 候选物品\n",
    "    embed_dim： embedding维度\n",
    "    maxlen: 序列最大长度\n",
    "    \"\"\"\n",
    "    \n",
    "    behavior_feature_list = behavior_feat\n",
    "    feature_columns = []\n",
    "    \n",
    "    # SpaseFeat\n",
    "    for feat_name in spase_columns:\n",
    "        feature_columns.append(SparseFeat(feat_name, max(df[feat_name]) + 1, embedding_dim=8))\n",
    "\n",
    "    # DenseFeat\n",
    "    for name in dense_columns:\n",
    "        feature_columns.append(DenseFeat(name = name, dimension = 1))\n",
    "\n",
    "    # VarLenSpaseFeat\n",
    "    # 用户历史记录\n",
    "    for hist_name in behavior_feature_list:\n",
    "        feature_columns.append(VarLenSparseFeat(SparseFeat(\"hist_\" + hist_name\n",
    "                                                           , vocabulary_size = max(df[hist_name]) + 1\n",
    "                                                           , embedding_dim = embed_dim\n",
    "                                                           , embedding_name = hist_name\n",
    "                                                          )\n",
    "                                                , maxlen = max_len\n",
    "                                                , length_name = \"seq_length\")\n",
    "                              )\n",
    "        if DIEN:\n",
    "            # 负采样\n",
    "            feature_columns.append(VarLenSparseFeat(SparseFeat(\"neg_hist_\" + hist_name\n",
    "                                                               , vocabulary_size = max(df[hist_name]) + 1\n",
    "                                                               , embedding_dim = embed_dim\n",
    "                                                               , embedding_name = hist_name\n",
    "                                                              )\n",
    "                                                    , maxlen = max_len\n",
    "                                                    , length_name = \"seq_length\")\n",
    "                                  )\n",
    "    # 写入数值信息\n",
    "    x = {}\n",
    "    for name in get_feature_names(feature_columns):\n",
    "        \n",
    "        if name in his_behavior_fea:\n",
    "            # 每一位用户的行为序列编码\n",
    "            his_list = [l for l in df[name]]\n",
    "            x[name] = pad_sequences(his_list, maxlen=max_len, padding='post')      # 二维数组\n",
    "        else:\n",
    "            x[name] = df[name].values\n",
    "\n",
    "    \n",
    "    return feature_columns, x"
   ]
  },
  {
   "cell_type": "code",
   "execution_count": 34,
   "metadata": {},
   "outputs": [
    {
     "data": {
      "text/plain": [
       "[SparseFeat(name='user_id', vocabulary_size=6040, embedding_dim=8, use_hash=False, dtype='int32', embedding_name='user_id', group_name='default_group'),\n",
       " SparseFeat(name='movie_id', vocabulary_size=3706, embedding_dim=8, use_hash=False, dtype='int32', embedding_name='movie_id', group_name='default_group'),\n",
       " SparseFeat(name='gender', vocabulary_size=2, embedding_dim=8, use_hash=False, dtype='int32', embedding_name='gender', group_name='default_group'),\n",
       " SparseFeat(name='age', vocabulary_size=7, embedding_dim=8, use_hash=False, dtype='int32', embedding_name='age', group_name='default_group'),\n",
       " SparseFeat(name='occupation', vocabulary_size=21, embedding_dim=8, use_hash=False, dtype='int32', embedding_name='occupation', group_name='default_group'),\n",
       " SparseFeat(name='zip', vocabulary_size=3439, embedding_dim=8, use_hash=False, dtype='int32', embedding_name='zip', group_name='default_group'),\n",
       " DenseFeat(name='timestamp', dimension=1, dtype='float32'),\n",
       " DenseFeat(name='hist_len', dimension=1, dtype='float32'),\n",
       " VarLenSparseFeat(sparsefeat=SparseFeat(name='hist_movie_id', vocabulary_size=3706, embedding_dim=8, use_hash=False, dtype='int32', embedding_name='movie_id', group_name='default_group'), maxlen=50, combiner='mean', length_name='seq_length'),\n",
       " VarLenSparseFeat(sparsefeat=SparseFeat(name='neg_hist_movie_id', vocabulary_size=3706, embedding_dim=8, use_hash=False, dtype='int32', embedding_name='movie_id', group_name='default_group'), maxlen=50, combiner='mean', length_name='seq_length')]"
      ]
     },
     "execution_count": 34,
     "metadata": {},
     "output_type": "execute_result"
    }
   ],
   "source": [
    "feature_columns, X = get_feats_columns_info(all_data\n",
    "                                            , spase_columns=spase_feats\n",
    "                                            , dense_columns=dense_feats+[\"hist_len\"]\n",
    "                                            , behavior_feat=[\"movie_id\"]\n",
    "                                            , his_behavior_fea=[\"hist_movie_id\", \"neg_hist_movie_id\"]\n",
    "                                        )\n",
    "feature_columns"
   ]
  },
  {
   "cell_type": "code",
   "execution_count": 35,
   "metadata": {},
   "outputs": [
    {
     "data": {
      "text/plain": [
       "{'user_id': array([   0,    0,    0, ..., 6039, 6039, 6039]),\n",
       " 'movie_id': array([2969, 1178, 1574, ..., 1741,  155, 1131]),\n",
       " 'gender': array([0, 0, 0, ..., 1, 1, 1]),\n",
       " 'age': array([0, 0, 0, ..., 2, 2, 2]),\n",
       " 'occupation': array([10, 10, 10, ...,  6,  6,  6]),\n",
       " 'zip': array([1588, 1588, 1588, ...,  466,  466,  466]),\n",
       " 'timestamp': array([0.24062316, 0.24062356, 0.24062356, ..., 0.4540416 , 0.45404184,\n",
       "        0.46363028]),\n",
       " 'hist_len': array([50, 50, 50, ..., 50, 50, 50]),\n",
       " 'hist_movie_id': array([[ 957, 2147, 1658, ..., 1439, 1727,   47],\n",
       "        [ 957, 2147, 1658, ..., 1439, 1727,   47],\n",
       "        [ 957, 2147, 1658, ..., 1439, 1727,   47],\n",
       "        ...,\n",
       "        [3313, 1132, 2711, ..., 1741,  155, 1131],\n",
       "        [3313, 1132, 2711, ..., 1741,  155, 1131],\n",
       "        [3313, 1132, 2711, ..., 1741,  155, 1131]], dtype=int32),\n",
       " 'seq_length': array([50, 50, 50, ..., 50, 50, 50]),\n",
       " 'neg_hist_movie_id': array([[ 650,  863, 3083, ..., 1717, 2857, 1205],\n",
       "        [2651, 2857, 1638, ...,  661, 2724,  208],\n",
       "        [2020,   60, 2863, ..., 1615,  244, 1070],\n",
       "        ...,\n",
       "        [1367,  884, 2096, ..., 1771,  346, 1082],\n",
       "        [1438, 2819,  141, ..., 3095, 2023, 3090],\n",
       "        [2969, 2329,  307, ..., 1628, 1954,  590]], dtype=int32)}"
      ]
     },
     "execution_count": 35,
     "metadata": {},
     "output_type": "execute_result"
    }
   ],
   "source": [
    "X"
   ]
  },
  {
   "cell_type": "code",
   "execution_count": 26,
   "metadata": {},
   "outputs": [
    {
     "data": {
      "text/plain": [
       "['user_id',\n",
       " 'movie_id',\n",
       " 'gender',\n",
       " 'age',\n",
       " 'occupation',\n",
       " 'zip',\n",
       " 'timestamp',\n",
       " 'hist_len',\n",
       " 'hist_movie_id',\n",
       " 'seq_length']"
      ]
     },
     "execution_count": 26,
     "metadata": {},
     "output_type": "execute_result"
    }
   ],
   "source": [
    "get_feature_names(feature_columns)"
   ]
  },
  {
   "cell_type": "code",
   "execution_count": 40,
   "metadata": {},
   "outputs": [],
   "source": [
    "y = all_data[\"label\"].values"
   ]
  },
  {
   "cell_type": "markdown",
   "metadata": {},
   "source": [
    "### 模型训练和评估"
   ]
  },
  {
   "cell_type": "code",
   "execution_count": 28,
   "metadata": {},
   "outputs": [],
   "source": [
    "import torch\n",
    "from deepctr_torch.models import DIN"
   ]
  },
  {
   "cell_type": "code",
   "execution_count": 29,
   "metadata": {},
   "outputs": [
    {
     "name": "stderr",
     "output_type": "stream",
     "text": [
      "/home/gavin/anaconda3/lib/python3.8/site-packages/torch/cuda/__init__.py:52: UserWarning: CUDA initialization: CUDA unknown error - this may be due to an incorrectly set up environment, e.g. changing env variable CUDA_VISIBLE_DEVICES after program start. Setting the available devices to be zero. (Triggered internally at  /pytorch/c10/cuda/CUDAFunctions.cpp:100.)\n",
      "  return torch._C._cuda_getDeviceCount() > 0\n"
     ]
    },
    {
     "data": {
      "text/plain": [
       "DIN(\n",
       "  (embedding_dict): ModuleDict(\n",
       "    (user_id): Embedding(6040, 8)\n",
       "    (movie_id): Embedding(3706, 8)\n",
       "    (gender): Embedding(2, 8)\n",
       "    (age): Embedding(7, 8)\n",
       "    (occupation): Embedding(21, 8)\n",
       "    (zip): Embedding(3439, 8)\n",
       "  )\n",
       "  (linear_model): Linear(\n",
       "    (embedding_dict): ModuleDict()\n",
       "  )\n",
       "  (out): PredictionLayer()\n",
       "  (attention): AttentionSequencePoolingLayer(\n",
       "    (local_att): LocalActivationUnit(\n",
       "      (dnn): DNN(\n",
       "        (dropout): Dropout(p=0, inplace=False)\n",
       "        (linears): ModuleList(\n",
       "          (0): Linear(in_features=32, out_features=64, bias=True)\n",
       "          (1): Linear(in_features=64, out_features=16, bias=True)\n",
       "        )\n",
       "        (activation_layers): ModuleList(\n",
       "          (0): Dice(\n",
       "            (bn): BatchNorm1d(64, eps=1e-08, momentum=0.1, affine=True, track_running_stats=True)\n",
       "            (sigmoid): Sigmoid()\n",
       "          )\n",
       "          (1): Dice(\n",
       "            (bn): BatchNorm1d(16, eps=1e-08, momentum=0.1, affine=True, track_running_stats=True)\n",
       "            (sigmoid): Sigmoid()\n",
       "          )\n",
       "        )\n",
       "      )\n",
       "      (dense): Linear(in_features=16, out_features=1, bias=True)\n",
       "    )\n",
       "  )\n",
       "  (dnn): DNN(\n",
       "    (dropout): Dropout(p=0, inplace=False)\n",
       "    (linears): ModuleList(\n",
       "      (0): Linear(in_features=58, out_features=256, bias=True)\n",
       "      (1): Linear(in_features=256, out_features=128, bias=True)\n",
       "    )\n",
       "    (activation_layers): ModuleList(\n",
       "      (0): ReLU(inplace=True)\n",
       "      (1): ReLU(inplace=True)\n",
       "    )\n",
       "  )\n",
       "  (dnn_linear): Linear(in_features=128, out_features=1, bias=False)\n",
       ")"
      ]
     },
     "execution_count": 29,
     "metadata": {},
     "output_type": "execute_result"
    }
   ],
   "source": [
    "device = 'cpu'\n",
    "use_cuda = True\n",
    "if use_cuda and torch.cuda.is_available():\n",
    "    print('cuda ready...')\n",
    "    device = 'cuda:0'\n",
    "\n",
    "model = DIN(dnn_feature_columns=feature_columns, history_feature_list=[\"movie_id\"], task=\"binary\")\n",
    "# model = DIEN(dnn_feature_columns=feature_columns, history_feature_list=[\"movie_id\"]\n",
    "#              , use_negsampling=True\n",
    "#              , dnn_hidden_units=[4, 4, 4]\n",
    "#              , gru_type = \"AUGRU\"\n",
    "#              , dnn_dropout = 0.6\n",
    "#              , device=device\n",
    "#              , task = \"regression\"\n",
    "#             )\n",
    "model"
   ]
  },
  {
   "cell_type": "code",
   "execution_count": 30,
   "metadata": {},
   "outputs": [
    {
     "name": "stderr",
     "output_type": "stream",
     "text": [
      "0it [00:00, ?it/s]"
     ]
    },
    {
     "name": "stdout",
     "output_type": "stream",
     "text": [
      "cpu\n",
      "Train on 800167 samples, validate on 200042 samples, 782 steps per epoch\n"
     ]
    },
    {
     "name": "stderr",
     "output_type": "stream",
     "text": [
      "782it [05:38,  2.31it/s]\n",
      "0it [00:00, ?it/s]"
     ]
    },
    {
     "name": "stdout",
     "output_type": "stream",
     "text": [
      "Epoch 1/10\n",
      "352s - loss:  0.6290 - binary_crossentropy:  0.6290 - auc:  0.7019 - val_binary_crossentropy:  0.6308 - val_auc:  0.7110\n"
     ]
    },
    {
     "name": "stderr",
     "output_type": "stream",
     "text": [
      "782it [04:31,  2.88it/s]\n",
      "0it [00:00, ?it/s]"
     ]
    },
    {
     "name": "stdout",
     "output_type": "stream",
     "text": [
      "Epoch 2/10\n",
      "287s - loss:  0.5744 - binary_crossentropy:  0.5744 - auc:  0.7581 - val_binary_crossentropy:  0.6006 - val_auc:  0.7220\n"
     ]
    },
    {
     "name": "stderr",
     "output_type": "stream",
     "text": [
      "782it [04:27,  2.93it/s]\n",
      "0it [00:00, ?it/s]"
     ]
    },
    {
     "name": "stdout",
     "output_type": "stream",
     "text": [
      "Epoch 3/10\n",
      "282s - loss:  0.5610 - binary_crossentropy:  0.5610 - auc:  0.7732 - val_binary_crossentropy:  0.6036 - val_auc:  0.7224\n"
     ]
    },
    {
     "name": "stderr",
     "output_type": "stream",
     "text": [
      "782it [04:36,  2.82it/s]\n",
      "0it [00:00, ?it/s]"
     ]
    },
    {
     "name": "stdout",
     "output_type": "stream",
     "text": [
      "Epoch 4/10\n",
      "291s - loss:  0.5495 - binary_crossentropy:  0.5495 - auc:  0.7805 - val_binary_crossentropy:  0.6090 - val_auc:  0.7225\n"
     ]
    },
    {
     "name": "stderr",
     "output_type": "stream",
     "text": [
      "782it [04:38,  2.80it/s]\n",
      "0it [00:00, ?it/s]"
     ]
    },
    {
     "name": "stdout",
     "output_type": "stream",
     "text": [
      "Epoch 5/10\n",
      "295s - loss:  0.5449 - binary_crossentropy:  0.5449 - auc:  0.7830 - val_binary_crossentropy:  0.6053 - val_auc:  0.7231\n"
     ]
    },
    {
     "name": "stderr",
     "output_type": "stream",
     "text": [
      "782it [04:42,  2.77it/s]\n",
      "0it [00:00, ?it/s]"
     ]
    },
    {
     "name": "stdout",
     "output_type": "stream",
     "text": [
      "Epoch 6/10\n",
      "297s - loss:  0.5430 - binary_crossentropy:  0.5430 - auc:  0.7844 - val_binary_crossentropy:  0.5983 - val_auc:  0.7226\n"
     ]
    },
    {
     "name": "stderr",
     "output_type": "stream",
     "text": [
      "782it [04:31,  2.88it/s]\n",
      "0it [00:00, ?it/s]"
     ]
    },
    {
     "name": "stdout",
     "output_type": "stream",
     "text": [
      "Epoch 7/10\n",
      "286s - loss:  0.5395 - binary_crossentropy:  0.5395 - auc:  0.7854 - val_binary_crossentropy:  0.6005 - val_auc:  0.7216\n"
     ]
    },
    {
     "name": "stderr",
     "output_type": "stream",
     "text": [
      "782it [04:27,  2.93it/s]\n",
      "0it [00:00, ?it/s]"
     ]
    },
    {
     "name": "stdout",
     "output_type": "stream",
     "text": [
      "Epoch 8/10\n",
      "282s - loss:  0.5356 - binary_crossentropy:  0.5356 - auc:  0.7862 - val_binary_crossentropy:  0.5992 - val_auc:  0.7218\n"
     ]
    },
    {
     "name": "stderr",
     "output_type": "stream",
     "text": [
      "782it [04:32,  2.87it/s]\n",
      "0it [00:00, ?it/s]"
     ]
    },
    {
     "name": "stdout",
     "output_type": "stream",
     "text": [
      "Epoch 9/10\n",
      "288s - loss:  0.5357 - binary_crossentropy:  0.5357 - auc:  0.7869 - val_binary_crossentropy:  0.6058 - val_auc:  0.7222\n"
     ]
    },
    {
     "name": "stderr",
     "output_type": "stream",
     "text": [
      "782it [04:45,  2.74it/s]\n"
     ]
    },
    {
     "name": "stdout",
     "output_type": "stream",
     "text": [
      "Epoch 10/10\n",
      "301s - loss:  0.5339 - binary_crossentropy:  0.5339 - auc:  0.7878 - val_binary_crossentropy:  0.6042 - val_auc:  0.7223\n"
     ]
    }
   ],
   "source": [
    "model.compile(optimizer=\"adam\"\n",
    "              , loss=\"binary_crossentropy\"\n",
    "              , metrics=[\"binary_crossentropy\", \"auc\"]\n",
    "             )\n",
    "\n",
    "history = model.fit(X, y\n",
    "                    , batch_size=1024\n",
    "                    , epochs=10\n",
    "                    , shuffle=False\n",
    "                    , verbose=1\n",
    "                    , validation_split=0.2\n",
    "                   )"
   ]
  },
  {
   "cell_type": "code",
   "execution_count": 31,
   "metadata": {},
   "outputs": [],
   "source": [
    "def plot_metric(dfhistory, metric, ax):\n",
    "    \"\"\"绘制评估曲线\"\"\"\n",
    "\n",
    "    train_metrics = dfhistory[metric]\n",
    "    val_metrics = dfhistory['val_' + metric]\n",
    "    epochs = range(1, len(train_metrics) + 1)\n",
    "    ax.plot(epochs, train_metrics, 'bo--')\n",
    "    ax.plot(epochs, val_metrics, 'ro-')\n",
    "    ax.set_title('Training and validation '+ metric, fontsize=15)\n",
    "    ax.set_xlabel(\"Epochs\", fontsize=14)\n",
    "    ax.set_ylabel(metric, fontsize=14)\n",
    "    ax.legend([\"train_\" + metric, 'val_' + metric], fontsize=12)\n",
    "    ax.grid()"
   ]
  },
  {
   "cell_type": "code",
   "execution_count": 32,
   "metadata": {},
   "outputs": [
    {
     "data": {
      "image/png": "[encoded data removed]",
      "text/plain": [
       "<Figure size 1296x360 with 2 Axes>"
      ]
     },
     "metadata": {
      "needs_background": "light"
     },
     "output_type": "display_data"
    }
   ],
   "source": [
    "# 观察损失和准确率的变化\n",
    "dfhistory = history.history\n",
    "fig, (ax1, ax2) = plt.subplots(1, 2, figsize=(18, 5))\n",
    "plot_metric(dfhistory,\"binary_crossentropy\", ax1)\n",
    "plot_metric(dfhistory,\"auc\", ax2)"
   ]
  },
  {
   "cell_type": "code",
   "execution_count": null,
   "metadata": {},
   "outputs": [],
   "source": []
  },
  {
   "cell_type": "code",
   "execution_count": 41,
   "metadata": {},
   "outputs": [
    {
     "data": {
      "text/plain": [
       "DIEN(\n",
       "  (embedding_dict): ModuleDict(\n",
       "    (user_id): Embedding(6040, 8)\n",
       "    (movie_id): Embedding(3706, 8)\n",
       "    (gender): Embedding(2, 8)\n",
       "    (age): Embedding(7, 8)\n",
       "    (occupation): Embedding(21, 8)\n",
       "    (zip): Embedding(3439, 8)\n",
       "  )\n",
       "  (linear_model): Linear(\n",
       "    (embedding_dict): ModuleDict()\n",
       "  )\n",
       "  (out): PredictionLayer()\n",
       "  (interest_extractor): InterestExtractor(\n",
       "    (gru): GRU(8, 8, batch_first=True)\n",
       "    (auxiliary_net): DNN(\n",
       "      (dropout): Dropout(p=0, inplace=False)\n",
       "      (linears): ModuleList(\n",
       "        (0): Linear(in_features=16, out_features=100, bias=True)\n",
       "        (1): Linear(in_features=100, out_features=50, bias=True)\n",
       "        (2): Linear(in_features=50, out_features=1, bias=True)\n",
       "      )\n",
       "      (activation_layers): ModuleList(\n",
       "        (0): Sigmoid()\n",
       "        (1): Sigmoid()\n",
       "        (2): Sigmoid()\n",
       "      )\n",
       "    )\n",
       "  )\n",
       "  (interest_evolution): InterestEvolving(\n",
       "    (attention): AttentionSequencePoolingLayer(\n",
       "      (local_att): LocalActivationUnit(\n",
       "        (dnn): DNN(\n",
       "          (dropout): Dropout(p=0, inplace=False)\n",
       "          (linears): ModuleList(\n",
       "            (0): Linear(in_features=32, out_features=64, bias=True)\n",
       "            (1): Linear(in_features=64, out_features=16, bias=True)\n",
       "          )\n",
       "          (activation_layers): ModuleList(\n",
       "            (0): ReLU(inplace=True)\n",
       "            (1): ReLU(inplace=True)\n",
       "          )\n",
       "        )\n",
       "        (dense): Linear(in_features=16, out_features=1, bias=True)\n",
       "      )\n",
       "    )\n",
       "    (interest_evolution): DynamicGRU(\n",
       "      (rnn): AUGRUCell()\n",
       "    )\n",
       "  )\n",
       "  (dnn): DNN(\n",
       "    (dropout): Dropout(p=0.6, inplace=False)\n",
       "    (linears): ModuleList(\n",
       "      (0): Linear(in_features=58, out_features=4, bias=True)\n",
       "      (1): Linear(in_features=4, out_features=4, bias=True)\n",
       "      (2): Linear(in_features=4, out_features=4, bias=True)\n",
       "    )\n",
       "    (activation_layers): ModuleList(\n",
       "      (0): ReLU(inplace=True)\n",
       "      (1): ReLU(inplace=True)\n",
       "      (2): ReLU(inplace=True)\n",
       "    )\n",
       "  )\n",
       "  (linear): Linear(in_features=4, out_features=1, bias=False)\n",
       ")"
      ]
     },
     "execution_count": 41,
     "metadata": {},
     "output_type": "execute_result"
    }
   ],
   "source": [
    "device = 'cpu'\n",
    "use_cuda = True\n",
    "if use_cuda and torch.cuda.is_available():\n",
    "    print('cuda ready...')\n",
    "    device = 'cuda:0'\n",
    "\n",
    "# model = DIN(dnn_feature_columns=feature_columns, history_feature_list=[\"movie_id\"], task=\"binary\")\n",
    "model = DIEN(dnn_feature_columns=feature_columns, history_feature_list=[\"movie_id\"]\n",
    "             , use_negsampling=True\n",
    "             , dnn_hidden_units=[4, 4, 4]\n",
    "             , gru_type = \"AUGRU\"\n",
    "             , dnn_dropout = 0.6\n",
    "             , device=device\n",
    "             , task = \"binary\"\n",
    "            )\n",
    "model"
   ]
  },
  {
   "cell_type": "code",
   "execution_count": 42,
   "metadata": {},
   "outputs": [
    {
     "name": "stderr",
     "output_type": "stream",
     "text": [
      "0it [00:00, ?it/s]"
     ]
    },
    {
     "name": "stdout",
     "output_type": "stream",
     "text": [
      "cpu\n",
      "Train on 800167 samples, validate on 200042 samples, 1563 steps per epoch\n"
     ]
    },
    {
     "name": "stderr",
     "output_type": "stream",
     "text": [
      "1563it [09:48,  2.66it/s]\n",
      "0it [00:00, ?it/s]"
     ]
    },
    {
     "name": "stdout",
     "output_type": "stream",
     "text": [
      "Epoch 1/10\n",
      "619s - loss:  0.6836 - binary_crossentropy:  0.6824 - auc:  0.5109 - val_binary_crossentropy:  0.6662 - val_auc:  0.6920\n"
     ]
    },
    {
     "name": "stderr",
     "output_type": "stream",
     "text": [
      "1563it [09:24,  2.77it/s]\n",
      "0it [00:00, ?it/s]"
     ]
    },
    {
     "name": "stdout",
     "output_type": "stream",
     "text": [
      "Epoch 2/10\n",
      "593s - loss:  0.6209 - binary_crossentropy:  0.6198 - auc:  0.7177 - val_binary_crossentropy:  0.6127 - val_auc:  0.7101\n"
     ]
    },
    {
     "name": "stderr",
     "output_type": "stream",
     "text": [
      "1563it [09:17,  2.80it/s]\n",
      "0it [00:00, ?it/s]"
     ]
    },
    {
     "name": "stdout",
     "output_type": "stream",
     "text": [
      "Epoch 3/10\n",
      "586s - loss:  0.5750 - binary_crossentropy:  0.5739 - auc:  0.7461 - val_binary_crossentropy:  0.6079 - val_auc:  0.7127\n"
     ]
    },
    {
     "name": "stderr",
     "output_type": "stream",
     "text": [
      "1563it [09:15,  2.81it/s]\n",
      "0it [00:00, ?it/s]"
     ]
    },
    {
     "name": "stdout",
     "output_type": "stream",
     "text": [
      "Epoch 4/10\n",
      "583s - loss:  0.5547 - binary_crossentropy:  0.5536 - auc:  0.7597 - val_binary_crossentropy:  0.6071 - val_auc:  0.7154\n"
     ]
    },
    {
     "name": "stderr",
     "output_type": "stream",
     "text": [
      "1563it [09:15,  2.81it/s]\n",
      "0it [00:00, ?it/s]"
     ]
    },
    {
     "name": "stdout",
     "output_type": "stream",
     "text": [
      "Epoch 5/10\n",
      "584s - loss:  0.5465 - binary_crossentropy:  0.5454 - auc:  0.7662 - val_binary_crossentropy:  0.6049 - val_auc:  0.7163\n"
     ]
    },
    {
     "name": "stderr",
     "output_type": "stream",
     "text": [
      "1563it [09:18,  2.80it/s]\n",
      "0it [00:00, ?it/s]"
     ]
    },
    {
     "name": "stdout",
     "output_type": "stream",
     "text": [
      "Epoch 6/10\n",
      "586s - loss:  0.5435 - binary_crossentropy:  0.5423 - auc:  0.7691 - val_binary_crossentropy:  0.6096 - val_auc:  0.7181\n"
     ]
    },
    {
     "name": "stderr",
     "output_type": "stream",
     "text": [
      "1563it [09:15,  2.81it/s]\n",
      "0it [00:00, ?it/s]"
     ]
    },
    {
     "name": "stdout",
     "output_type": "stream",
     "text": [
      "Epoch 7/10\n",
      "583s - loss:  0.5428 - binary_crossentropy:  0.5417 - auc:  0.7709 - val_binary_crossentropy:  0.6039 - val_auc:  0.7184\n"
     ]
    },
    {
     "name": "stderr",
     "output_type": "stream",
     "text": [
      "1563it [09:15,  2.81it/s]\n",
      "0it [00:00, ?it/s]"
     ]
    },
    {
     "name": "stdout",
     "output_type": "stream",
     "text": [
      "Epoch 8/10\n",
      "584s - loss:  0.5423 - binary_crossentropy:  0.5412 - auc:  0.7721 - val_binary_crossentropy:  0.6030 - val_auc:  0.7184\n"
     ]
    },
    {
     "name": "stderr",
     "output_type": "stream",
     "text": [
      "1563it [09:16,  2.81it/s]\n",
      "0it [00:00, ?it/s]"
     ]
    },
    {
     "name": "stdout",
     "output_type": "stream",
     "text": [
      "Epoch 9/10\n",
      "584s - loss:  0.5424 - binary_crossentropy:  0.5414 - auc:  0.7727 - val_binary_crossentropy:  0.6055 - val_auc:  0.7179\n"
     ]
    },
    {
     "name": "stderr",
     "output_type": "stream",
     "text": [
      "1563it [09:19,  2.79it/s]\n"
     ]
    },
    {
     "name": "stdout",
     "output_type": "stream",
     "text": [
      "Epoch 10/10\n",
      "587s - loss:  0.5410 - binary_crossentropy:  0.5400 - auc:  0.7732 - val_binary_crossentropy:  0.6044 - val_auc:  0.7181\n"
     ]
    }
   ],
   "source": [
    "model.compile(optimizer=\"adam\"\n",
    "              , loss=\"binary_crossentropy\"\n",
    "              , metrics=[\"binary_crossentropy\", \"auc\"]\n",
    "             )\n",
    "\n",
    "history = model.fit(X, y\n",
    "                    , batch_size=512\n",
    "                    , epochs=10\n",
    "                    , shuffle=False\n",
    "                    , verbose=1\n",
    "                    , validation_split=0.2\n",
    "                   )"
   ]
  },
  {
   "cell_type": "code",
   "execution_count": 43,
   "metadata": {},
   "outputs": [],
   "source": [
    "def plot_metric(dfhistory, metric, ax):\n",
    "    \"\"\"绘制评估曲线\"\"\"\n",
    "\n",
    "    train_metrics = dfhistory[metric]\n",
    "    val_metrics = dfhistory['val_' + metric]\n",
    "    epochs = range(1, len(train_metrics) + 1)\n",
    "    ax.plot(epochs, train_metrics, 'bo--')\n",
    "    ax.plot(epochs, val_metrics, 'ro-')\n",
    "    ax.set_title('Training and validation '+ metric, fontsize=15)\n",
    "    ax.set_xlabel(\"Epochs\", fontsize=14)\n",
    "    ax.set_ylabel(metric, fontsize=14)\n",
    "    ax.legend([\"train_\" + metric, 'val_' + metric], fontsize=12)\n",
    "    ax.grid()"
   ]
  },
  {
   "cell_type": "code",
   "execution_count": 44,
   "metadata": {},
   "outputs": [
    {
     "data": {
      "image/png": "[encoded data removed]",
      "text/plain": [
       "<Figure size 1296x360 with 2 Axes>"
      ]
     },
     "metadata": {
      "needs_background": "light"
     },
     "output_type": "display_data"
    }
   ],
   "source": [
    "# 观察损失和准确率的变化\n",
    "dfhistory = history.history\n",
    "fig, (ax1, ax2) = plt.subplots(1, 2, figsize=(18, 5))\n",
    "plot_metric(dfhistory,\"binary_crossentropy\", ax1)\n",
    "plot_metric(dfhistory,\"auc\", ax2)"
   ]
  },
  {
   "cell_type": "code",
   "execution_count": null,
   "metadata": {},
   "outputs": [],
   "source": []
  },
  {
   "cell_type": "code",
   "execution_count": null,
   "metadata": {},
   "outputs": [],
   "source": []
  }
 ],
 "metadata": {
  "kernelspec": {
   "display_name": "Python 3",
   "language": "python",
   "name": "python3"
  },
  "language_info": {
   "codemirror_mode": {
    "name": "ipython",
    "version": 3
   },
   "file_extension": ".py",
   "mimetype": "text/x-python",
   "name": "python",
   "nbconvert_exporter": "python",
   "pygments_lexer": "ipython3",
   "version": "3.8.5"
  }
 },
 "nbformat": 4,
 "nbformat_minor": 4
}
