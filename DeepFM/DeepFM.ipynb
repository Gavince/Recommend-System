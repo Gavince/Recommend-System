{
 "cells": [
  {
   "cell_type": "code",
   "execution_count": 28,
   "metadata": {},
   "outputs": [],
   "source": [
    "import torch\n",
    "import torch.nn as nn\n",
    "import torch.nn.functional as F\n",
    "from torchsummary import summary"
   ]
  },
  {
   "cell_type": "markdown",
   "metadata": {},
   "source": [
    "# 推荐系统之DeepFM\n",
    "问题导向：\n",
    "1. FM部分的数据怎么输入？  \n",
    "2. Linear、FM和DNN的三部分如何结合？  \n",
    "3. EMbedding中的权值怎么共享？"
   ]
  },
  {
   "cell_type": "markdown",
   "metadata": {},
   "source": [
    "## DeepFM网络\n",
    "<font color = \"blue\">**数据输入说明**</font> ：  \n",
    "一阶：原始输入特征X  \n",
    "二阶：Embedding向量两两交叉  \n",
    "高阶：concat（稠密特征（归一化）, 稀疏特征（Embedding化））  \n",
    "<font color = \"blue\">**图示**</font> ：  \n",
    "![](./imgs/DeepFM.png)  \n",
    "<font color = \"blue\">**联合训练**</font> ：  \n",
    "$$\n",
    "y = sigmoid(y_{FM} + y_{DNN})\n",
    "$$"
   ]
  },
  {
   "cell_type": "code",
   "execution_count": 29,
   "metadata": {},
   "outputs": [],
   "source": [
    "class BaseModel:\n",
    "    pass\n",
    "\n",
    "class DeepFM(BaseModel):\n",
    "    \"\"\"Instantiates the DeepFM Network architecture.\n",
    "\n",
    "    :param linear_feature_columns: An iterable containing all the features used by linear part of the model.\n",
    "    :param dnn_feature_columns: An iterable containing all the features used by deep part of the model.\n",
    "    :param use_fm: bool,use FM part or not\n",
    "    :param dnn_hidden_units: list,list of positive integer or empty list, the layer number and units in each layer of DNN\n",
    "    :param l2_reg_linear: float. L2 regularizer strength applied to linear part\n",
    "    :param l2_reg_embedding: float. L2 regularizer strength applied to embedding vector\n",
    "    :param l2_reg_dnn: float. L2 regularizer strength applied to DNN\n",
    "    :param init_std: float,to use as the initialize std of embedding vector\n",
    "    :param seed: integer ,to use as random seed.\n",
    "    :param dnn_dropout: float in [0,1), the probability we will drop out a given DNN coordinate.\n",
    "    :param dnn_activation: Activation function to use in DNN\n",
    "    :param dnn_use_bn: bool. Whether use BatchNormalization before activation or not in DNN\n",
    "    :param task: str, ``\"binary\"`` for  binary logloss or  ``\"regression\"`` for regression loss\n",
    "    :param device: str, ``\"cpu\"`` or ``\"cuda:0\"``\n",
    "    :return: A PyTorch model instance.\n",
    "    \n",
    "    \"\"\"\n",
    "\n",
    "    def __init__(self,\n",
    "                 linear_feature_columns, dnn_feature_columns, use_fm=True,\n",
    "                 dnn_hidden_units=(256, 128),\n",
    "                 l2_reg_linear=0.00001, l2_reg_embedding=0.00001, l2_reg_dnn=0, init_std=0.0001, seed=1024,\n",
    "                 dnn_dropout=0,\n",
    "                 dnn_activation='relu', dnn_use_bn=False, task='binary', device='cpu'):\n",
    "\n",
    "        super(DeepFM, self).__init__(linear_feature_columns, dnn_feature_columns, l2_reg_linear=l2_reg_linear,\n",
    "                                     l2_reg_embedding=l2_reg_embedding, init_std=init_std, seed=seed, task=task,\n",
    "                                     device=device)\n",
    "\n",
    "        self.use_fm = use_fm\n",
    "        self.use_dnn = len(dnn_feature_columns) > 0 and len(\n",
    "            dnn_hidden_units) > 0\n",
    "        if use_fm:\n",
    "            self.fm = FM()\n",
    "\n",
    "        if self.use_dnn:\n",
    "            self.dnn = DNN(self.compute_input_dim(dnn_feature_columns), dnn_hidden_units,\n",
    "                           activation=dnn_activation, l2_reg=l2_reg_dnn, dropout_rate=dnn_dropout, use_bn=dnn_use_bn,\n",
    "                           init_std=init_std, device=device)\n",
    "            self.dnn_linear = nn.Linear(\n",
    "                dnn_hidden_units[-1], 1, bias=False).to(device)\n",
    "\n",
    "            self.add_regularization_weight(\n",
    "                filter(lambda x: 'weight' in x[0] and 'bn' not in x[0], self.dnn.named_parameters()), l2_reg_dnn)\n",
    "            self.add_regularization_weight(self.dnn_linear.weight, l2_reg_dnn)\n",
    "        self.to(device)\n",
    "\n",
    "    def forward(self, X):\n",
    "\n",
    "        sparse_embedding_list, dense_value_list = self.input_from_feature_columns(X, self.dnn_feature_columns,\n",
    "        \n",
    "                                                                                  self.embedding_dict)\n",
    "        # 1.线性层\n",
    "        logit = self.linear_model(X)\n",
    "        \n",
    "        # 2.FM层\n",
    "        if self.use_fm and len(sparse_embedding_list) > 0:\n",
    "            # sparse_embedding_list -->(F, B, 1, 4)\n",
    "            fm_input = torch.cat(sparse_embedding_list, dim=1) #（B, F, E）\n",
    "            logit += self.fm(fm_input)\n",
    "        \n",
    "        # 3.Deep层(concat(稀疏特征(Embedding),稠密特征))\n",
    "        if self.use_dnn:\n",
    "            dnn_input = combined_dnn_input(\n",
    "                sparse_embedding_list, dense_value_list)\n",
    "            dnn_output = self.dnn(dnn_input)\n",
    "            dnn_logit = self.dnn_linear(dnn_output)\n",
    "            logit += dnn_logit\n",
    "\n",
    "        y_pred = self.out(logit)\n",
    "\n",
    "        return y_pred"
   ]
  },
  {
   "cell_type": "markdown",
   "metadata": {},
   "source": [
    "## FM Part(二阶特征)\n",
    "### 源代码\n",
    " \n",
    "模型结构：  \n",
    "![](./imgs/FM.png)  "
   ]
  },
  {
   "cell_type": "code",
   "execution_count": 30,
   "metadata": {},
   "outputs": [],
   "source": [
    "class FM(nn.Module):\n",
    "    \n",
    "    \"\"\"Factorization Machine models pairwise (order-2) feature interactions\n",
    "     without linear term and bias.\n",
    "      Input shape\n",
    "        - 3D tensor with shape: ``(batch_size,field_size,embedding_size)``.\n",
    "      Output shape\n",
    "        - 2D tensor with shape: ``(batch_size, 1)``.\n",
    "      References\n",
    "        - [Factorization Machines](https://www.csie.ntu.edu.tw/~b97053/paper/Rendle2010FM.pdf)\n",
    "    \"\"\"\n",
    "\n",
    "    def __init__(self):\n",
    "        super(FM, self).__init__()\n",
    "\n",
    "    def forward(self, inputs):\n",
    "        fm_input = inputs # (B, F, E)\n",
    "\n",
    "        square_of_sum = torch.pow(torch.sum(fm_input, dim=1, keepdim=True), 2)  #　B * 1 * K\n",
    "        sum_of_square = torch.sum(fm_input * fm_input, dim=1, keepdim=True)  # B * 1 * K\n",
    "        cross_term = square_of_sum - sum_of_square\n",
    "        cross_term = 0.5 * torch.sum(cross_term, dim=2, keepdim=False) # B * 1\n",
    "\n",
    "        return cross_term"
   ]
  },
  {
   "cell_type": "code",
   "execution_count": 4,
   "metadata": {},
   "outputs": [
    {
     "data": {
      "text/plain": [
       "torch.Size([32, 1])"
      ]
     },
     "execution_count": 4,
     "metadata": {},
     "output_type": "execute_result"
    }
   ],
   "source": [
    "# 实例化\n",
    "fm = FM()\n",
    "input_ = torch.rand((32, 26, 4))\n",
    "fm(input_).shape"
   ]
  },
  {
   "cell_type": "markdown",
   "metadata": {},
   "source": [
    "### 交叉相关计算\n",
    "交叉项计算公式：  \n",
    "$$\n",
    "交叉项：1/2*\\sum_{i=1}^{k}((\\sum_{i=1}^n{v_{ik}*x_{i}})^2 - \\sum_{i=1}^{n}{v_{ik}^2*x_{i}^2})\\tag{1}\\\\ \n",
    "$$\n",
    "$$\n",
    "inter1 := 1/2*\\sum_{i=1}^{k}((\\sum_{i=1}^n{v_{ik}*x_{i}})^2)\\tag{2}\\\\\n",
    "$$\n",
    "$$\n",
    "inter2 := 1/2*\\sum_{i=1}^{k}(\\sum_{i=1}^{n}{v_{ik}^2*x_{i}^2})\\tag{3}\n",
    "$$  \n",
    "\n",
    "FM原始的方法中只计算不为零的特征向量的隐权重向量向量，因此在特征稀疏的情况下，FM的求解会更加高效，而在DeepFM中交叉项为稀疏特征向量的Embedding向量(concat所有稀疏特征向量的embedding向量)两两交叉，实值为１, 例如：$x_i = 1, Ei.shape＝（1, k）$，因此，最终计算只涉及Embedding向量的计算：  \n",
    "![](./imgs/cal.png)"
   ]
  },
  {
   "cell_type": "code",
   "execution_count": 5,
   "metadata": {},
   "outputs": [
    {
     "data": {
      "text/plain": [
       "torch.Size([32, 26, 4])"
      ]
     },
     "execution_count": 5,
     "metadata": {},
     "output_type": "execute_result"
    }
   ],
   "source": [
    "# B*F*E (Ｆ:n_filed, E:embed_dims)\n",
    "input_.shape"
   ]
  },
  {
   "cell_type": "code",
   "execution_count": 6,
   "metadata": {},
   "outputs": [
    {
     "data": {
      "text/plain": [
       "torch.Size([32, 1, 4])"
      ]
     },
     "execution_count": 6,
     "metadata": {},
     "output_type": "execute_result"
    }
   ],
   "source": [
    "# inter1\n",
    "# B*1*K\n",
    "inter1 = 0.5*torch.pow(torch.sum(input_, dim=1, keepdim=True), 2)\n",
    "inter1.size()"
   ]
  },
  {
   "cell_type": "code",
   "execution_count": 7,
   "metadata": {},
   "outputs": [
    {
     "data": {
      "text/plain": [
       "torch.Size([32, 1, 4])"
      ]
     },
     "execution_count": 7,
     "metadata": {},
     "output_type": "execute_result"
    }
   ],
   "source": [
    "# inter2\n",
    "# B*1*K\n",
    "inter2 = 0.5*torch.sum(input_*input_, dim=1, keepdim=True)\n",
    "inter2.size()"
   ]
  },
  {
   "cell_type": "code",
   "execution_count": 8,
   "metadata": {},
   "outputs": [
    {
     "data": {
      "text/plain": [
       "torch.Size([32, 1])"
      ]
     },
     "execution_count": 8,
     "metadata": {},
     "output_type": "execute_result"
    }
   ],
   "source": [
    "# sum of cross\n",
    "# B*1\n",
    "torch.sum((inter1 - inter2), dim = 2, keepdim=False).size()"
   ]
  },
  {
   "cell_type": "markdown",
   "metadata": {},
   "source": [
    "## Linear层的探索(一阶特征)\n",
    "### 线性层\n",
    "<font color=\"red\">注意</font>：一阶部分针对Embedding的处理"
   ]
  },
  {
   "cell_type": "code",
   "execution_count": 9,
   "metadata": {},
   "outputs": [],
   "source": [
    "class Linear(nn.Module):\n",
    "    def __init__(self, feature_columns, feature_index, init_std=0.0001, device='cpu'):\n",
    "        super(Linear, self).__init__()\n",
    "        self.feature_index = feature_index\n",
    "        self.device = device\n",
    "        self.sparse_feature_columns = list(\n",
    "            filter(lambda x: isinstance(x, SparseFeat), feature_columns)) if len(feature_columns) else []\n",
    "        self.dense_feature_columns = list(\n",
    "            filter(lambda x: isinstance(x, DenseFeat), feature_columns)) if len(feature_columns) else []\n",
    "\n",
    "        self.varlen_sparse_feature_columns = list(\n",
    "            filter(lambda x: isinstance(x, VarLenSparseFeat), feature_columns)) if len(feature_columns) else []\n",
    "\n",
    "        self.embedding_dict = create_embedding_matrix(feature_columns, init_std, linear=True, sparse=False,\n",
    "                                                      device=device)\n",
    "\n",
    "        #         nn.ModuleDict(\n",
    "        #             {feat.embedding_name: nn.Embedding(feat.dimension, 1, sparse=True) for feat in\n",
    "        #              self.sparse_feature_columns}\n",
    "        #         )\n",
    "        # .to(\"cuda:1\")\n",
    "        for tensor in self.embedding_dict.values():\n",
    "            nn.init.normal_(tensor.weight, mean=0, std=init_std)\n",
    "\n",
    "        if len(self.dense_feature_columns) > 0:\n",
    "            self.weight = nn.Parameter(torch.Tensor(sum(fc.dimension for fc in self.dense_feature_columns), 1).to(\n",
    "                device))\n",
    "            torch.nn.init.normal_(self.weight, mean=0, std=init_std)\n",
    "\n",
    "    def forward(self, X, sparse_feat_refine_weight=None):\n",
    "\n",
    "        sparse_embedding_list = [self.embedding_dict[feat.embedding_name](\n",
    "            X[:, self.feature_index[feat.name][0]:self.feature_index[feat.name][1]].long()) for\n",
    "            feat in self.sparse_feature_columns]\n",
    "\n",
    "        dense_value_list = [X[:, self.feature_index[feat.name][0]:self.feature_index[feat.name][1]] for feat in\n",
    "                            self.dense_feature_columns]\n",
    "\n",
    "        varlen_embedding_list = get_varlen_pooling_list(self.embedding_dict, X, self.feature_index,\n",
    "                                                        self.varlen_sparse_feature_columns, self.device)\n",
    "\n",
    "        sparse_embedding_list += varlen_embedding_list\n",
    "\n",
    "        linear_logit = torch.zeros([X.shape[0], 1]).to(sparse_embedding_list[0].device)\n",
    "        \n",
    "        if len(sparse_embedding_list) > 0:\n",
    "            sparse_embedding_cat = torch.cat(sparse_embedding_list, dim=-1)\n",
    "            if sparse_feat_refine_weight is not None:  # 稀疏特征定义权重\n",
    "                # w_{x,i}=m_{x,i} * w_i (in IFM and DIFM)\n",
    "                sparse_embedding_cat = sparse_embedding_cat * sparse_feat_refine_weight.unsqueeze(1)\n",
    "            sparse_feat_logit = torch.sum(sparse_embedding_cat, dim=-1, keepdim=False)  # 稀疏的Embedding向量简单拼接没有独立权重\n",
    "            linear_logit += sparse_feat_logit\n",
    "            \n",
    "        if len(dense_value_list) > 0:\n",
    "            dense_value_logit = torch.cat(\n",
    "                dense_value_list, dim=-1).matmul(self.weight)  # 稠密特征有独立权重\n",
    "            linear_logit += dense_value_logit\n",
    "\n",
    "        return linear_logit"
   ]
  },
  {
   "cell_type": "markdown",
   "metadata": {},
   "source": [
    "### linear_sparse_logit\n"
   ]
  },
  {
   "cell_type": "code",
   "execution_count": 10,
   "metadata": {},
   "outputs": [],
   "source": [
    "# sparse_embedding_list\n",
    "C = [torch.rand((32, 1, 4)) for i in range(26)]"
   ]
  },
  {
   "cell_type": "code",
   "execution_count": 11,
   "metadata": {},
   "outputs": [
    {
     "data": {
      "text/plain": [
       "torch.Size([32, 1, 104])"
      ]
     },
     "execution_count": 11,
     "metadata": {},
     "output_type": "execute_result"
    }
   ],
   "source": [
    "cat_vector = torch.cat(C, dim=-1)\n",
    "cat_vector.size()"
   ]
  },
  {
   "cell_type": "code",
   "execution_count": 13,
   "metadata": {},
   "outputs": [
    {
     "data": {
      "text/plain": [
       "torch.Size([32, 1])"
      ]
     },
     "execution_count": 13,
     "metadata": {},
     "output_type": "execute_result"
    }
   ],
   "source": [
    "logit = torch.sum(cat_vector, dim=-1, keepdim=False)\n",
    "logit.size()"
   ]
  },
  {
   "cell_type": "markdown",
   "metadata": {},
   "source": [
    "### linear_dense_logit \n"
   ]
  },
  {
   "cell_type": "code",
   "execution_count": 38,
   "metadata": {},
   "outputs": [],
   "source": [
    "# dense_value_list\n",
    "weight = torch.rand(26, 1)\n",
    "C = [torch.rand((32, 1)) for i in range(26)]"
   ]
  },
  {
   "cell_type": "code",
   "execution_count": 17,
   "metadata": {},
   "outputs": [
    {
     "data": {
      "text/plain": [
       "torch.Size([32, 26])"
      ]
     },
     "execution_count": 17,
     "metadata": {},
     "output_type": "execute_result"
    }
   ],
   "source": [
    "# 拼接\n",
    "dense_vector = torch.cat(C, dim=-1)\n",
    "dense_vector.size()"
   ]
  },
  {
   "cell_type": "code",
   "execution_count": 18,
   "metadata": {},
   "outputs": [
    {
     "data": {
      "text/plain": [
       "torch.Size([32, 1])"
      ]
     },
     "execution_count": 18,
     "metadata": {},
     "output_type": "execute_result"
    }
   ],
   "source": [
    "# 加权求和\n",
    "torch.matmul(dense_vector, weight).size()"
   ]
  },
  {
   "cell_type": "markdown",
   "metadata": {},
   "source": [
    "## FM实战练习"
   ]
  },
  {
   "cell_type": "code",
   "execution_count": 19,
   "metadata": {},
   "outputs": [],
   "source": [
    "import pandas as pd\n",
    "import numpy as np\n",
    "import matplotlib.pyplot as plt\n",
    "from deepctr_torch.inputs import SparseFeat, DenseFeat, get_feature_names\n",
    "from deepctr_torch.models import DeepFM\n",
    "from sklearn.preprocessing import LabelEncoder, MinMaxScaler\n",
    "import warnings\n",
    "from matplotlib import rcParams\n",
    "from torch.utils.tensorboard import SummaryWriter\n",
    "\n",
    "warnings.filterwarnings(\"ignore\")\n",
    "config = {\n",
    "    \"font.family\":'Times New Roman',  # 设置字体类型\n",
    "}\n",
    "\n",
    "rcParams.update(config)\n",
    "\n",
    "Embed_dims = 4"
   ]
  },
  {
   "cell_type": "markdown",
   "metadata": {},
   "source": [
    "### 数据预处理"
   ]
  },
  {
   "cell_type": "code",
   "execution_count": 20,
   "metadata": {},
   "outputs": [],
   "source": [
    "train_data = pd.read_csv(\"../PNN模型/data/process/train_set.csv\")\n",
    "val_data = pd.read_csv(\"../PNN模型/data/process/val_set.csv\")\n",
    "test_data = pd.read_csv(\"../PNN模型/data/process/test_data.csv\")\n",
    "all_data = pd.concat([train_data, val_data], axis=0)"
   ]
  },
  {
   "cell_type": "code",
   "execution_count": 21,
   "metadata": {},
   "outputs": [],
   "source": [
    "# 编码信息\n",
    "feature_names = all_data.columns.values.tolist()\n",
    "sparse_feats = [c for c in feature_names if c[0] == \"C\"]\n",
    "dense_feats = [c for c in feature_names if c[0] == \"I\"]"
   ]
  },
  {
   "cell_type": "code",
   "execution_count": 22,
   "metadata": {},
   "outputs": [],
   "source": [
    "# LabelEncoder\n",
    "lb = LabelEncoder()\n",
    "for feat in sparse_feats:\n",
    "    all_data[feat] = lb.fit_transform(all_data[feat])"
   ]
  },
  {
   "cell_type": "code",
   "execution_count": 23,
   "metadata": {},
   "outputs": [],
   "source": [
    "fixlen_feature_colunms = [SparseFeat(feat, all_data[feat].nunique(), embedding_dim=Embed_dims) for feat in sparse_feats\n",
    "                         ] + [DenseFeat(feat, dimension=1) for feat in dense_feats]\n",
    "\n",
    "linear_feature_columns = fixlen_feature_colunms\n",
    "dnn_feature_columns = fixlen_feature_colunms\n",
    "all_feature_names = get_feature_names(linear_feature_columns + dnn_feature_columns)"
   ]
  },
  {
   "cell_type": "code",
   "execution_count": 24,
   "metadata": {},
   "outputs": [],
   "source": [
    "# 划分数据\n",
    "train_data = all_data[:len(train_data)] \n",
    "val_data  = all_data[len(train_data):]\n",
    "\n",
    "#　制作有标签的数据\n",
    "# 注意数据类型为ndarray\n",
    "train_x, train_y = train_data.iloc[:, :-1], train_data.iloc[:, -1].values\n",
    "val_x, val_y = val_data.iloc[:, :-1], val_data.iloc[:, -1].values\n",
    "\n",
    "train_model_input = {name:train_x[name].values for name in all_feature_names}\n",
    "val_model_input = {name:val_x[name].values for name in all_feature_names}"
   ]
  },
  {
   "cell_type": "markdown",
   "metadata": {},
   "source": [
    "### 模型训练"
   ]
  },
  {
   "cell_type": "code",
   "execution_count": 25,
   "metadata": {},
   "outputs": [
    {
     "name": "stderr",
     "output_type": "stream",
     "text": [
      "1it [00:00,  8.52it/s]"
     ]
    },
    {
     "name": "stdout",
     "output_type": "stream",
     "text": [
      "cpu\n",
      "Train on 1279 samples, validate on 320 samples, 5 steps per epoch\n"
     ]
    },
    {
     "name": "stderr",
     "output_type": "stream",
     "text": [
      "5it [00:00, 10.36it/s]\n",
      "2it [00:00, 16.71it/s]"
     ]
    },
    {
     "name": "stdout",
     "output_type": "stream",
     "text": [
      "Epoch 1/10\n",
      "0s - loss:  0.5786 - binary_crossentropy:  0.5786 - auc:  0.5676 - val_binary_crossentropy:  0.5180 - val_auc:  0.5940\n"
     ]
    },
    {
     "name": "stderr",
     "output_type": "stream",
     "text": [
      "5it [00:00, 16.40it/s]\n",
      "2it [00:00, 19.20it/s]"
     ]
    },
    {
     "name": "stdout",
     "output_type": "stream",
     "text": [
      "Epoch 2/10\n",
      "0s - loss:  0.4507 - binary_crossentropy:  0.4507 - auc:  0.9045 - val_binary_crossentropy:  0.5053 - val_auc:  0.6382\n"
     ]
    },
    {
     "name": "stderr",
     "output_type": "stream",
     "text": [
      "5it [00:00, 17.64it/s]\n",
      "2it [00:00, 16.76it/s]"
     ]
    },
    {
     "name": "stdout",
     "output_type": "stream",
     "text": [
      "Epoch 3/10\n",
      "0s - loss:  0.3373 - binary_crossentropy:  0.3373 - auc:  0.9618 - val_binary_crossentropy:  0.5064 - val_auc:  0.6503\n"
     ]
    },
    {
     "name": "stderr",
     "output_type": "stream",
     "text": [
      "5it [00:00, 17.02it/s]\n",
      "2it [00:00, 16.82it/s]"
     ]
    },
    {
     "name": "stdout",
     "output_type": "stream",
     "text": [
      "Epoch 4/10\n",
      "0s - loss:  0.2108 - binary_crossentropy:  0.2108 - auc:  0.9888 - val_binary_crossentropy:  0.5523 - val_auc:  0.6275\n"
     ]
    },
    {
     "name": "stderr",
     "output_type": "stream",
     "text": [
      "5it [00:00, 17.90it/s]\n",
      "2it [00:00, 17.58it/s]"
     ]
    },
    {
     "name": "stdout",
     "output_type": "stream",
     "text": [
      "Epoch 5/10\n",
      "0s - loss:  0.1249 - binary_crossentropy:  0.1249 - auc:  0.9971 - val_binary_crossentropy:  0.6120 - val_auc:  0.6120\n"
     ]
    },
    {
     "name": "stderr",
     "output_type": "stream",
     "text": [
      "5it [00:00, 17.70it/s]\n",
      "2it [00:00, 16.82it/s]"
     ]
    },
    {
     "name": "stdout",
     "output_type": "stream",
     "text": [
      "Epoch 6/10\n",
      "0s - loss:  0.0805 - binary_crossentropy:  0.0805 - auc:  0.9988 - val_binary_crossentropy:  0.6563 - val_auc:  0.6050\n"
     ]
    },
    {
     "name": "stderr",
     "output_type": "stream",
     "text": [
      "5it [00:00, 17.19it/s]\n",
      "2it [00:00, 18.41it/s]"
     ]
    },
    {
     "name": "stdout",
     "output_type": "stream",
     "text": [
      "Epoch 7/10\n",
      "0s - loss:  0.0554 - binary_crossentropy:  0.0554 - auc:  0.9996 - val_binary_crossentropy:  0.7168 - val_auc:  0.6006\n"
     ]
    },
    {
     "name": "stderr",
     "output_type": "stream",
     "text": [
      "5it [00:00, 18.23it/s]\n",
      "2it [00:00, 18.45it/s]"
     ]
    },
    {
     "name": "stdout",
     "output_type": "stream",
     "text": [
      "Epoch 8/10\n",
      "0s - loss:  0.0402 - binary_crossentropy:  0.0402 - auc:  0.9997 - val_binary_crossentropy:  0.7384 - val_auc:  0.5986\n"
     ]
    },
    {
     "name": "stderr",
     "output_type": "stream",
     "text": [
      "5it [00:00, 18.25it/s]\n",
      "2it [00:00, 16.38it/s]"
     ]
    },
    {
     "name": "stdout",
     "output_type": "stream",
     "text": [
      "Epoch 9/10\n",
      "0s - loss:  0.0300 - binary_crossentropy:  0.0300 - auc:  0.9999 - val_binary_crossentropy:  0.7711 - val_auc:  0.5950\n"
     ]
    },
    {
     "name": "stderr",
     "output_type": "stream",
     "text": [
      "5it [00:00, 16.92it/s]"
     ]
    },
    {
     "name": "stdout",
     "output_type": "stream",
     "text": [
      "Epoch 10/10\n",
      "0s - loss:  0.0236 - binary_crossentropy:  0.0236 - auc:  1.0000 - val_binary_crossentropy:  0.8136 - val_auc:  0.5927\n"
     ]
    },
    {
     "name": "stderr",
     "output_type": "stream",
     "text": [
      "\n"
     ]
    }
   ],
   "source": [
    "device = 'cpu'\n",
    "use_cuda = False\n",
    "if use_cuda and torch.cuda.is_available():\n",
    "    print('cuda ready...')\n",
    "    device = 'cuda:0'\n",
    "    \n",
    "model = DeepFM(linear_feature_columns = linear_feature_columns\n",
    "               , dnn_feature_columns = dnn_feature_columns\n",
    "               , task = \"binary\"\n",
    "               , device = device\n",
    "              )\n",
    "\n",
    "model.compile(optimizer = \"adagrad\"\n",
    "              , loss = \"binary_crossentropy\"\n",
    "              , metrics = [\"binary_crossentropy\", \"auc\"]\n",
    "             )\n",
    "\n",
    "history = model.fit(x = train_model_input\n",
    "                    , y = train_y \n",
    "                    , batch_size = None\n",
    "                    , epochs = 10\n",
    "                    , validation_data = (val_model_input, val_y)\n",
    "         )"
   ]
  },
  {
   "cell_type": "markdown",
   "metadata": {},
   "source": [
    "### 模型评估\n",
    "说明：数据量较小，模型复杂，出现严重过拟合现象。"
   ]
  },
  {
   "cell_type": "code",
   "execution_count": 26,
   "metadata": {},
   "outputs": [],
   "source": [
    "def plot_metric(dfhistory, metric, ax):\n",
    "    \"\"\"绘制评估曲线\"\"\"\n",
    "\n",
    "    train_metrics = dfhistory[metric]\n",
    "    val_metrics = dfhistory['val_' + metric]\n",
    "    epochs = range(1, len(train_metrics) + 1)\n",
    "    ax.plot(epochs, train_metrics, 'bo--')\n",
    "    ax.plot(epochs, val_metrics, 'ro-')\n",
    "    ax.set_title('Training and validation '+ metric, fontsize=15)\n",
    "    ax.set_xlabel(\"Epochs\", fontsize=14)\n",
    "    ax.set_ylabel(metric, fontsize=14)\n",
    "    ax.legend([\"train_\" + metric, 'val_' + metric], fontsize=12)\n",
    "    ax.grid()"
   ]
  },
  {
   "cell_type": "code",
   "execution_count": 27,
   "metadata": {},
   "outputs": [
    {
     "data": {
      "image/png": "[encoded data removed]",
      "text/plain": [
       "<Figure size 1296x360 with 2 Axes>"
      ]
     },
     "metadata": {
      "needs_background": "light"
     },
     "output_type": "display_data"
    }
   ],
   "source": [
    "# 观察损失和准确率的变化\n",
    "dfhistory = history.history\n",
    "fig, (ax1, ax2) = plt.subplots(1, 2, figsize=(18, 5))\n",
    "plot_metric(dfhistory,\"binary_crossentropy\", ax1)\n",
    "plot_metric(dfhistory,\"auc\", ax2)"
   ]
  },
  {
   "cell_type": "markdown",
   "metadata": {},
   "source": [
    "## DeepFM的优点"
   ]
  },
  {
   "cell_type": "markdown",
   "metadata": {},
   "source": [
    "优点： \n",
    "1) 它不需要任何预训练;  \n",
    "2) 它学习高阶和低阶特征交互;   \n",
    "3) 它介绍了一种特征嵌入的共享策略，以避免进行特征工程.  "
   ]
  },
  {
   "cell_type": "markdown",
   "metadata": {},
   "source": [
    "## 参考"
   ]
  },
  {
   "cell_type": "markdown",
   "metadata": {},
   "source": [
    "[deepFM in pytorch](https://blog.csdn.net/w55100/article/details/90295932#t5)  \n",
    "[DeepFM算法](https://www.jianshu.com/p/d199312eda64)  \n",
    "[DeepFM算法解析](https://blog.csdn.net/zhongqiqianga/article/details/103714616)  \n",
    "[DeepFM论文详解](http://mp.weixin.qq.com/s?src=11&timestamp=1618726188&ver=3015&signature=4SGPT4d2qjcYcSAmPq-l66VeTG1HFnhoLRzHMmFUwX9QE67aheKVc265FPqIZ9fdoATd21afjDgGROUwvdOiqjwDYJj427aS*KKrAa9JMNoAQCnMlXbdmqQHVz*MstzI&new=1)  "
   ]
  }
 ],
 "metadata": {
  "kernelspec": {
   "display_name": "Python 3",
   "language": "python",
   "name": "python3"
  },
  "language_info": {
   "codemirror_mode": {
    "name": "ipython",
    "version": 3
   },
   "file_extension": ".py",
   "mimetype": "text/x-python",
   "name": "python",
   "nbconvert_exporter": "python",
   "pygments_lexer": "ipython3",
   "version": "3.8.5"
  },
  "toc-autonumbering": true
 },
 "nbformat": 4,
 "nbformat_minor": 4
}
