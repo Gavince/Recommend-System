{
 "cells": [
  {
   "cell_type": "code",
   "execution_count": 48,
   "metadata": {},
   "outputs": [],
   "source": [
    "import torch\n",
    "from torch import nn\n",
    "from torchsummary import summary"
   ]
  },
  {
   "cell_type": "markdown",
   "metadata": {},
   "source": [
    "# AutoRec模型"
   ]
  },
  {
   "cell_type": "markdown",
   "metadata": {},
   "source": [
    "## 网络模型\n",
    "![](./imgs/model.png)"
   ]
  },
  {
   "cell_type": "code",
   "execution_count": 49,
   "metadata": {},
   "outputs": [],
   "source": [
    "class AutoRec(nn.Module):\n",
    "    \"\"\"\n",
    "    基于物品的AutoRec模型\n",
    "    \"\"\"\n",
    "    \n",
    "    def __init__(self, num_items, hidden_units, lambd):\n",
    "        super(AutoRec, self).__init__()\n",
    "        self._num_items = num_items\n",
    "        self._hidden_units = hidden_units\n",
    "        self._lambda_value = lambd\n",
    "\n",
    "        # 定义编码器结构\n",
    "        self._encoder = nn.Sequential(\n",
    "            nn.Linear(self._num_items, self._hidden_units),\n",
    "            nn.Sigmoid()\n",
    "        )\n",
    "        # 定义解码器结构\n",
    "        self._decoder = nn.Sequential(\n",
    "            nn.Linear(self._hidden_units, self._num_items)\n",
    "        )\n",
    "\n",
    "    def forward(self, input):\n",
    "        return self._decoder(self._encoder(input))"
   ]
  },
  {
   "cell_type": "code",
   "execution_count": 50,
   "metadata": {},
   "outputs": [
    {
     "name": "stdout",
     "output_type": "stream",
     "text": [
      "----------------------------------------------------------------\n",
      "        Layer (type)               Output Shape         Param #\n",
      "================================================================\n",
      "            Linear-1              [1, 10000, 7]             707\n",
      "           Sigmoid-2              [1, 10000, 7]               0\n",
      "            Linear-3            [1, 10000, 100]             800\n",
      "================================================================\n",
      "Total params: 1,507\n",
      "Trainable params: 1,507\n",
      "Non-trainable params: 0\n",
      "----------------------------------------------------------------\n",
      "Input size (MB): 3.81\n",
      "Forward/backward pass size (MB): 8.70\n",
      "Params size (MB): 0.01\n",
      "Estimated Total Size (MB): 12.52\n",
      "----------------------------------------------------------------\n"
     ]
    }
   ],
   "source": [
    "model = AutoRec(num_items=100, hidden_units=7, lambd=1)\n",
    "# input_size: items(物品数量)*users(用户数量)\n",
    "summary(model, input_size=(10000, 100), batch_size=1, device=\"cpu\")"
   ]
  },
  {
   "cell_type": "markdown",
   "metadata": {},
   "source": [
    "## L2损失（防止过拟合）"
   ]
  },
  {
   "cell_type": "code",
   "execution_count": 51,
   "metadata": {},
   "outputs": [],
   "source": [
    "def loss(self, res, input, mask, optimizer):\n",
    "    cost = 0\n",
    "    temp = 0\n",
    "\n",
    "    cost += ((res - input) * mask).pow(2).sum()\n",
    "    rmse = cost\n",
    "\n",
    "    for i in optimizer.param_groups:\n",
    "        # 找到权重矩阵V和W，并且计算平方和，用于约束项。\n",
    "        for j in i['params']:\n",
    "            if j.data.dim() == 2:\n",
    "                temp += torch.t(j.data).pow(2).sum()\n",
    "\n",
    "    cost += temp * self._config['lambda'] * 0.5\n",
    "    return cost, rmse"
   ]
  },
  {
   "cell_type": "markdown",
   "metadata": {},
   "source": [
    "## 评估"
   ]
  },
  {
   "cell_type": "code",
   "execution_count": 52,
   "metadata": {},
   "outputs": [],
   "source": [
    "def recommend_user(self, r_u, N):\n",
    "    \"\"\"\n",
    "    :param r_u: 单个用户对所有物品的评分向量\n",
    "    :param N: 推荐的商品个数\n",
    "    \"\"\"\n",
    "    \n",
    "    # 得到用户对所有物品的评分\n",
    "    predict = self.forward(torch.from_numpy(r_u).float())\n",
    "    predict = predict.detach().numpy()\n",
    "    indexs = np.argsort(-predict)[:N]\n",
    "    return indexs\n",
    "\n",
    "def recommend_item(self, user, test_r, N):\n",
    "    \"\"\"\n",
    "    :param r_u: 所有用户对物品i的评分向量\n",
    "    :param N: 推荐的商品个数\n",
    "    \"\"\"\n",
    "    \n",
    "    # 保存给user的推荐列表\n",
    "    recommends = np.array([])\n",
    "\n",
    "    for i in range(test_r.shape[1]):\n",
    "        predict = self.forward(test_r[:, i])\n",
    "        recommends.append(predict[user])\n",
    "\n",
    "    # 按照逆序对推荐列表排序，得到最大的N个值的索引\n",
    "    indexs = np.argsot(-recommends)[:N]\n",
    "    # 按照用户对物品i的评分降序排序吗，推荐前N个物品给到用户\n",
    "    return recommends[indexs]"
   ]
  },
  {
   "cell_type": "markdown",
   "metadata": {},
   "source": [
    "# 总结"
   ]
  },
  {
   "cell_type": "markdown",
   "metadata": {},
   "source": [
    "1）相比于I-AutoRec来讲，U-AutoRec的优势在于只需要一次计算就能得到一个用户对所有物品的评分，方便推荐排序。\n",
    "\n",
    "2）优化后的模型有一定的泛化能力，但是由于模型结构比较简单，存在一定的表达能力不足的情况"
   ]
  },
  {
   "cell_type": "markdown",
   "metadata": {},
   "source": [
    "# 参考"
   ]
  },
  {
   "cell_type": "markdown",
   "metadata": {},
   "source": [
    "[NetWork](https://github.com/HeartbreakSurvivor/RsAlgorithms/blob/main/AutoRec/network.py)"
   ]
  }
 ],
 "metadata": {
  "kernelspec": {
   "display_name": "Python 3",
   "language": "python",
   "name": "python3"
  },
  "language_info": {
   "codemirror_mode": {
    "name": "ipython",
    "version": 3
   },
   "file_extension": ".py",
   "mimetype": "text/x-python",
   "name": "python",
   "nbconvert_exporter": "python",
   "pygments_lexer": "ipython3",
   "version": "3.8.5"
  }
 },
 "nbformat": 4,
 "nbformat_minor": 4
}
