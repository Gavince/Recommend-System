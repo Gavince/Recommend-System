{
 "cells": [
  {
   "cell_type": "markdown",
   "metadata": {},
   "source": [
    "# Neural CF\n",
    "Neural CF模型是从传统的协同过滤方法(MF)的基础上进行的改进， 把MF里面用户向量和物品向量的点积操作换成了多层的神经网络， 使得两个向量可以做更充分的交叉， 得到更多有价值的特征组合信息， 另外一个就是神经网络的激活函数可以引入更多的非线性， 让模型的表达能力更强。  \n",
    "![](./imgs/model.png)"
   ]
  },
  {
   "cell_type": "code",
   "execution_count": 5,
   "metadata": {},
   "outputs": [],
   "source": [
    "import torch\n",
    "import torch.nn as nn\n",
    "import torch.nn.functional as F \n",
    "from torchkeras import summary, Model"
   ]
  },
  {
   "cell_type": "markdown",
   "metadata": {},
   "source": [
    "![](./imgs/fusion.png)"
   ]
  },
  {
   "cell_type": "code",
   "execution_count": 6,
   "metadata": {},
   "outputs": [],
   "source": [
    "class NeuralMF(nn.Module):\n",
    "    \n",
    "    def __init__(self, num_users, num_items, mf_dim, layers):\n",
    "        super(NeuralMF, self).__init__()\n",
    "        \n",
    "        self.MF_Embedding_User = nn.Embedding(num_embeddings=num_users, embedding_dim=mf_dim)\n",
    "        self.MF_Embedding_Item = nn.Embedding(num_embeddings=num_items, embedding_dim=mf_dim)\n",
    "        \n",
    "        self.MLP_Embedding_User = nn.Embedding(num_embeddings=num_users, embedding_dim=layers[0] // 2)\n",
    "        self.MLP_Embedding_Item = nn.Embedding(num_embeddings=num_items, embedding_dim=layers[0] // 2)\n",
    "        \n",
    "        # 全连接网络\n",
    "        self.dnn_network = nn.ModuleList([nn.Linear(layer[0], layer[1]) for layer in list(zip(layers[:-1], layers[1:]))])\n",
    "        self.linear = nn.Linear(layers[-1], mf_dim)\n",
    "        \n",
    "        # 合并之后\n",
    "        self.linear2 = nn.Linear(2*mf_dim, 1)\n",
    "        self.sigmoid = nn.Sigmoid()\n",
    "    \n",
    "    def forward(self, inputs):\n",
    "        # 这个inputs是一个批次的数据， 所以后面的操作切记写成inputs[0], [1]这种， 这是针对某个样本了， 我们都是对列进行的操作\n",
    "        \n",
    "        # 先把输入转成long类型\n",
    "        inputs = inputs.long()\n",
    "        \n",
    "        # MF模型的计算 用户和物品的embedding\n",
    "        MF_Embedding_User = self.MF_Embedding_User(inputs[:, 0])  # 这里踩了个坑， 千万不要写成[0]， 我们这里是第一列\n",
    "        MF_Embedding_Item = self.MF_Embedding_Item(inputs[:, 1])\n",
    "        # 两个向量点积过一个全连接\n",
    "        mf_vec = torch.mul(MF_Embedding_User, MF_Embedding_Item)\n",
    "        \n",
    "        # MLP 模型的计算\n",
    "        MLP_Embedding_User = self.MLP_Embedding_User(inputs[:, 0])  \n",
    "        MLP_Embedding_Item = self.MLP_Embedding_Item(inputs[:, 1])\n",
    "        # 两个隐向量堆叠起来\n",
    "        x = torch.cat([MF_Embedding_User, MF_Embedding_Item], dim=-1)\n",
    "        # l全连接网络\n",
    "        for linear in self.dnn_network:\n",
    "            x = linear(x)\n",
    "            x = F.relu(x)\n",
    "        mlp_vec = self.linear(x)\n",
    "        \n",
    "        # 合并两个\n",
    "        #mf_vector = Lambda(lambda x: x * alpha)(mf_vector)\n",
    "        #mlp_vector = Lambda(lambda x : x * (1-alpha))(mlp_vector)\n",
    "        vector = torch.cat([mf_vec, mlp_vec], dim=-1)\n",
    "        \n",
    "        # liner\n",
    "        linear = self.linear2(vector)\n",
    "        output = self.sigmoid(linear)\n",
    "        \n",
    "        return output"
   ]
  },
  {
   "cell_type": "code",
   "execution_count": 7,
   "metadata": {},
   "outputs": [
    {
     "name": "stdout",
     "output_type": "stream",
     "text": [
      "----------------------------------------------------------------\n",
      "        Layer (type)               Output Shape         Param #\n",
      "================================================================\n",
      "         Embedding-1                   [-1, 10]              10\n",
      "         Embedding-2                   [-1, 10]              10\n",
      "         Embedding-3                   [-1, 10]              10\n",
      "         Embedding-4                   [-1, 10]              10\n",
      "            Linear-5                   [-1, 64]           1,344\n",
      "            Linear-6                   [-1, 32]           2,080\n",
      "            Linear-7                   [-1, 16]             528\n",
      "            Linear-8                   [-1, 10]             170\n",
      "            Linear-9                    [-1, 1]              21\n",
      "          Sigmoid-10                    [-1, 1]               0\n",
      "================================================================\n",
      "Total params: 4,183\n",
      "Trainable params: 4,183\n",
      "Non-trainable params: 0\n",
      "----------------------------------------------------------------\n",
      "Input size (MB): 0.000008\n",
      "Forward/backward pass size (MB): 0.001251\n",
      "Params size (MB): 0.015957\n",
      "Estimated Total Size (MB): 0.017216\n",
      "----------------------------------------------------------------\n"
     ]
    }
   ],
   "source": [
    "# 看一下这个网络\n",
    "model = NeuralMF(1, 1, 10, [20, 64, 32, 16])\n",
    "summary(model, input_shape=(2,))"
   ]
  },
  {
   "cell_type": "markdown",
   "metadata": {},
   "source": [
    "# 参考"
   ]
  },
  {
   "cell_type": "markdown",
   "metadata": {},
   "source": [
    "[AI上推荐 之 NeuralCF与PNN模型(改变特征交叉方式）](https://blog.csdn.net/wuzhongqiang/article/details/108985457)"
   ]
  }
 ],
 "metadata": {
  "kernelspec": {
   "display_name": "Python 3",
   "language": "python",
   "name": "python3"
  },
  "language_info": {
   "codemirror_mode": {
    "name": "ipython",
    "version": 3
   },
   "file_extension": ".py",
   "mimetype": "text/x-python",
   "name": "python",
   "nbconvert_exporter": "python",
   "pygments_lexer": "ipython3",
   "version": "3.8.5"
  }
 },
 "nbformat": 4,
 "nbformat_minor": 4
}
