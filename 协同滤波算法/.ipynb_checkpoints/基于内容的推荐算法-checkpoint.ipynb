{
 "cells": [
  {
   "cell_type": "markdown",
   "metadata": {},
   "source": [
    "## 基于内容的推荐算法"
   ]
  },
  {
   "cell_type": "markdown",
   "metadata": {},
   "source": [
    "目标：  \n",
    "        基于内容的推荐方法是非常直接的，它以物品的内容描述信息为依据来做出的推荐，本质上是基于对物品和用户自身的特征或属性的直接分析和计算。\n",
    "例如，假设已知电影A是一部喜剧，而恰巧我们得知某个用户喜欢看喜剧电影，那么我们基于这样的已知信息，就可以将电影A推荐给该用户。  \n",
    "算法原理：  \n",
    "TF-IDF**自然语言处理领域中计算文档中词或短语的权值的方法**，是**词频**（Term Frequency，TF）和逆转文档频率（Inverse Document Frequency，IDF）的乘积。TF指的是某一个给定的词语在该文件中出现的次数。这个数字通常会被正规化，以防止它偏向长的文件（同一个词语在长文件里可能会比短文件有更高的词频，而不管该词语重要与否）。IDF是一个词语普遍重要性的度量，某一特定词语的IDF，可以由总文件数目除以包含该词语之文件的数目，再将得到的商取对数得到。"
   ]
  },
  {
   "cell_type": "code",
   "execution_count": 201,
   "metadata": {},
   "outputs": [],
   "source": [
    "import numpy as np\n",
    "import pandas as pd\n",
    "import collections\n",
    "from functools import reduce"
   ]
  },
  {
   "cell_type": "markdown",
   "metadata": {},
   "source": [
    "### 数据集构建"
   ]
  },
  {
   "cell_type": "code",
   "execution_count": 38,
   "metadata": {},
   "outputs": [],
   "source": [
    "df = pd.read_csv(\"data/tags.csv\", usecols=range(3))\n",
    "movies = pd.read_csv(\"data/movies.csv\", index_col=\"movieId\")"
   ]
  },
  {
   "cell_type": "code",
   "execution_count": 39,
   "metadata": {},
   "outputs": [
    {
     "data": {
      "text/html": [
       "<div>\n",
       "<style scoped>\n",
       "    .dataframe tbody tr th:only-of-type {\n",
       "        vertical-align: middle;\n",
       "    }\n",
       "\n",
       "    .dataframe tbody tr th {\n",
       "        vertical-align: top;\n",
       "    }\n",
       "\n",
       "    .dataframe thead th {\n",
       "        text-align: right;\n",
       "    }\n",
       "</style>\n",
       "<table border=\"1\" class=\"dataframe\">\n",
       "  <thead>\n",
       "    <tr style=\"text-align: right;\">\n",
       "      <th></th>\n",
       "      <th>list</th>\n",
       "    </tr>\n",
       "    <tr>\n",
       "      <th>movieId</th>\n",
       "      <th></th>\n",
       "    </tr>\n",
       "  </thead>\n",
       "  <tbody>\n",
       "    <tr>\n",
       "      <th>1</th>\n",
       "      <td>[pixar, pixar, fun]</td>\n",
       "    </tr>\n",
       "    <tr>\n",
       "      <th>2</th>\n",
       "      <td>[fantasy, magic board game, Robin Williams, game]</td>\n",
       "    </tr>\n",
       "    <tr>\n",
       "      <th>3</th>\n",
       "      <td>[moldy, old]</td>\n",
       "    </tr>\n",
       "  </tbody>\n",
       "</table>\n",
       "</div>"
      ],
      "text/plain": [
       "                                                      list\n",
       "movieId                                                   \n",
       "1                                      [pixar, pixar, fun]\n",
       "2        [fantasy, magic board game, Robin Williams, game]\n",
       "3                                             [moldy, old]"
      ]
     },
     "execution_count": 39,
     "metadata": {},
     "output_type": "execute_result"
    }
   ],
   "source": [
    "# 每一部电影的标签信息\n",
    "tags = df.groupby(by=\"movieId\")[\"tag\"].agg([list])\n",
    "tags[:3]"
   ]
  },
  {
   "cell_type": "code",
   "execution_count": 40,
   "metadata": {},
   "outputs": [],
   "source": [
    "# genres划分\n",
    "movies[\"genres\"] = movies[\"genres\"].apply(lambda x: x.split(\"|\"))"
   ]
  },
  {
   "cell_type": "code",
   "execution_count": 41,
   "metadata": {},
   "outputs": [
    {
     "data": {
      "text/html": [
       "<div>\n",
       "<style scoped>\n",
       "    .dataframe tbody tr th:only-of-type {\n",
       "        vertical-align: middle;\n",
       "    }\n",
       "\n",
       "    .dataframe tbody tr th {\n",
       "        vertical-align: top;\n",
       "    }\n",
       "\n",
       "    .dataframe thead th {\n",
       "        text-align: right;\n",
       "    }\n",
       "</style>\n",
       "<table border=\"1\" class=\"dataframe\">\n",
       "  <thead>\n",
       "    <tr style=\"text-align: right;\">\n",
       "      <th></th>\n",
       "      <th>title</th>\n",
       "      <th>genres</th>\n",
       "    </tr>\n",
       "    <tr>\n",
       "      <th>movieId</th>\n",
       "      <th></th>\n",
       "      <th></th>\n",
       "    </tr>\n",
       "  </thead>\n",
       "  <tbody>\n",
       "    <tr>\n",
       "      <th>1</th>\n",
       "      <td>Toy Story (1995)</td>\n",
       "      <td>[Adventure, Animation, Children, Comedy, Fantasy]</td>\n",
       "    </tr>\n",
       "    <tr>\n",
       "      <th>2</th>\n",
       "      <td>Jumanji (1995)</td>\n",
       "      <td>[Adventure, Children, Fantasy]</td>\n",
       "    </tr>\n",
       "    <tr>\n",
       "      <th>3</th>\n",
       "      <td>Grumpier Old Men (1995)</td>\n",
       "      <td>[Comedy, Romance]</td>\n",
       "    </tr>\n",
       "  </tbody>\n",
       "</table>\n",
       "</div>"
      ],
      "text/plain": [
       "                           title  \\\n",
       "movieId                            \n",
       "1               Toy Story (1995)   \n",
       "2                 Jumanji (1995)   \n",
       "3        Grumpier Old Men (1995)   \n",
       "\n",
       "                                                    genres  \n",
       "movieId                                                     \n",
       "1        [Adventure, Animation, Children, Comedy, Fantasy]  \n",
       "2                           [Adventure, Children, Fantasy]  \n",
       "3                                        [Comedy, Romance]  "
      ]
     },
     "execution_count": 41,
     "metadata": {},
     "output_type": "execute_result"
    }
   ],
   "source": [
    "movies.head(3)"
   ]
  },
  {
   "cell_type": "code",
   "execution_count": 51,
   "metadata": {},
   "outputs": [
    {
     "data": {
      "text/html": [
       "<div>\n",
       "<style scoped>\n",
       "    .dataframe tbody tr th:only-of-type {\n",
       "        vertical-align: middle;\n",
       "    }\n",
       "\n",
       "    .dataframe tbody tr th {\n",
       "        vertical-align: top;\n",
       "    }\n",
       "\n",
       "    .dataframe thead th {\n",
       "        text-align: right;\n",
       "    }\n",
       "</style>\n",
       "<table border=\"1\" class=\"dataframe\">\n",
       "  <thead>\n",
       "    <tr style=\"text-align: right;\">\n",
       "      <th></th>\n",
       "      <th>title</th>\n",
       "      <th>genres</th>\n",
       "      <th>list</th>\n",
       "    </tr>\n",
       "    <tr>\n",
       "      <th>movieId</th>\n",
       "      <th></th>\n",
       "      <th></th>\n",
       "      <th></th>\n",
       "    </tr>\n",
       "  </thead>\n",
       "  <tbody>\n",
       "    <tr>\n",
       "      <th>1</th>\n",
       "      <td>Toy Story (1995)</td>\n",
       "      <td>[Adventure, Animation, Children, Comedy, Fantasy]</td>\n",
       "      <td>[pixar, pixar, fun]</td>\n",
       "    </tr>\n",
       "    <tr>\n",
       "      <th>2</th>\n",
       "      <td>Jumanji (1995)</td>\n",
       "      <td>[Adventure, Children, Fantasy]</td>\n",
       "      <td>[fantasy, magic board game, Robin Williams, game]</td>\n",
       "    </tr>\n",
       "    <tr>\n",
       "      <th>3</th>\n",
       "      <td>Grumpier Old Men (1995)</td>\n",
       "      <td>[Comedy, Romance]</td>\n",
       "      <td>[moldy, old]</td>\n",
       "    </tr>\n",
       "    <tr>\n",
       "      <th>4</th>\n",
       "      <td>Waiting to Exhale (1995)</td>\n",
       "      <td>[Comedy, Drama, Romance]</td>\n",
       "      <td>NaN</td>\n",
       "    </tr>\n",
       "    <tr>\n",
       "      <th>5</th>\n",
       "      <td>Father of the Bride Part II (1995)</td>\n",
       "      <td>[Comedy]</td>\n",
       "      <td>[pregnancy, remake]</td>\n",
       "    </tr>\n",
       "  </tbody>\n",
       "</table>\n",
       "</div>"
      ],
      "text/plain": [
       "                                      title  \\\n",
       "movieId                                       \n",
       "1                          Toy Story (1995)   \n",
       "2                            Jumanji (1995)   \n",
       "3                   Grumpier Old Men (1995)   \n",
       "4                  Waiting to Exhale (1995)   \n",
       "5        Father of the Bride Part II (1995)   \n",
       "\n",
       "                                                    genres  \\\n",
       "movieId                                                      \n",
       "1        [Adventure, Animation, Children, Comedy, Fantasy]   \n",
       "2                           [Adventure, Children, Fantasy]   \n",
       "3                                        [Comedy, Romance]   \n",
       "4                                 [Comedy, Drama, Romance]   \n",
       "5                                                 [Comedy]   \n",
       "\n",
       "                                                      list  \n",
       "movieId                                                     \n",
       "1                                      [pixar, pixar, fun]  \n",
       "2        [fantasy, magic board game, Robin Williams, game]  \n",
       "3                                             [moldy, old]  \n",
       "4                                                      NaN  \n",
       "5                                      [pregnancy, remake]  "
      ]
     },
     "execution_count": 51,
     "metadata": {},
     "output_type": "execute_result"
    }
   ],
   "source": [
    "# 给电影打上新的标签\n",
    "movies_index = set(movies.index)&set(tags.index)\n",
    "new_tags = tags.loc[list(movies_index)]\n",
    "ret = movies.join(new_tags)\n",
    "ret.head()"
   ]
  },
  {
   "cell_type": "code",
   "execution_count": 52,
   "metadata": {},
   "outputs": [
    {
     "data": {
      "text/html": [
       "<div>\n",
       "<style scoped>\n",
       "    .dataframe tbody tr th:only-of-type {\n",
       "        vertical-align: middle;\n",
       "    }\n",
       "\n",
       "    .dataframe tbody tr th {\n",
       "        vertical-align: top;\n",
       "    }\n",
       "\n",
       "    .dataframe thead th {\n",
       "        text-align: right;\n",
       "    }\n",
       "</style>\n",
       "<table border=\"1\" class=\"dataframe\">\n",
       "  <thead>\n",
       "    <tr style=\"text-align: right;\">\n",
       "      <th></th>\n",
       "      <th>movieId</th>\n",
       "      <th>title</th>\n",
       "      <th>genres</th>\n",
       "      <th>tags</th>\n",
       "    </tr>\n",
       "  </thead>\n",
       "  <tbody>\n",
       "    <tr>\n",
       "      <th>0</th>\n",
       "      <td>1</td>\n",
       "      <td>Toy Story (1995)</td>\n",
       "      <td>[Adventure, Animation, Children, Comedy, Fantasy]</td>\n",
       "      <td>[Adventure, Animation, Children, Comedy, Fanta...</td>\n",
       "    </tr>\n",
       "    <tr>\n",
       "      <th>1</th>\n",
       "      <td>2</td>\n",
       "      <td>Jumanji (1995)</td>\n",
       "      <td>[Adventure, Children, Fantasy]</td>\n",
       "      <td>[Adventure, Children, Fantasy, fantasy, magic ...</td>\n",
       "    </tr>\n",
       "    <tr>\n",
       "      <th>2</th>\n",
       "      <td>3</td>\n",
       "      <td>Grumpier Old Men (1995)</td>\n",
       "      <td>[Comedy, Romance]</td>\n",
       "      <td>[Comedy, Romance, moldy, old]</td>\n",
       "    </tr>\n",
       "    <tr>\n",
       "      <th>3</th>\n",
       "      <td>4</td>\n",
       "      <td>Waiting to Exhale (1995)</td>\n",
       "      <td>[Comedy, Drama, Romance]</td>\n",
       "      <td>[]</td>\n",
       "    </tr>\n",
       "    <tr>\n",
       "      <th>4</th>\n",
       "      <td>5</td>\n",
       "      <td>Father of the Bride Part II (1995)</td>\n",
       "      <td>[Comedy]</td>\n",
       "      <td>[Comedy, pregnancy, remake]</td>\n",
       "    </tr>\n",
       "  </tbody>\n",
       "</table>\n",
       "</div>"
      ],
      "text/plain": [
       "   movieId                               title  \\\n",
       "0        1                    Toy Story (1995)   \n",
       "1        2                      Jumanji (1995)   \n",
       "2        3             Grumpier Old Men (1995)   \n",
       "3        4            Waiting to Exhale (1995)   \n",
       "4        5  Father of the Bride Part II (1995)   \n",
       "\n",
       "                                              genres  \\\n",
       "0  [Adventure, Animation, Children, Comedy, Fantasy]   \n",
       "1                     [Adventure, Children, Fantasy]   \n",
       "2                                  [Comedy, Romance]   \n",
       "3                           [Comedy, Drama, Romance]   \n",
       "4                                           [Comedy]   \n",
       "\n",
       "                                                tags  \n",
       "0  [Adventure, Animation, Children, Comedy, Fanta...  \n",
       "1  [Adventure, Children, Fantasy, fantasy, magic ...  \n",
       "2                      [Comedy, Romance, moldy, old]  \n",
       "3                                                 []  \n",
       "4                        [Comedy, pregnancy, remake]  "
      ]
     },
     "execution_count": 52,
     "metadata": {},
     "output_type": "execute_result"
    }
   ],
   "source": [
    "# 标签的合并，如果没有具体的标签数据则置为空列表\n",
    "movies_dataset = pd.DataFrame(map(\n",
    "    lambda x:(x[0], x[1], x[2], x[2]+x[3]) if x[3] is not np.nan \n",
    "                                  else(x[0], x[1], x[2], []), ret.itertuples()), columns=[\"movieId\", \"title\", \"genres\",\"tags\"])\n",
    "movies_dataset.head()"
   ]
  },
  {
   "cell_type": "code",
   "execution_count": 53,
   "metadata": {},
   "outputs": [
    {
     "data": {
      "text/html": [
       "<div>\n",
       "<style scoped>\n",
       "    .dataframe tbody tr th:only-of-type {\n",
       "        vertical-align: middle;\n",
       "    }\n",
       "\n",
       "    .dataframe tbody tr th {\n",
       "        vertical-align: top;\n",
       "    }\n",
       "\n",
       "    .dataframe thead th {\n",
       "        text-align: right;\n",
       "    }\n",
       "</style>\n",
       "<table border=\"1\" class=\"dataframe\">\n",
       "  <thead>\n",
       "    <tr style=\"text-align: right;\">\n",
       "      <th></th>\n",
       "      <th>title</th>\n",
       "      <th>genres</th>\n",
       "      <th>tags</th>\n",
       "    </tr>\n",
       "    <tr>\n",
       "      <th>movieId</th>\n",
       "      <th></th>\n",
       "      <th></th>\n",
       "      <th></th>\n",
       "    </tr>\n",
       "  </thead>\n",
       "  <tbody>\n",
       "    <tr>\n",
       "      <th>1</th>\n",
       "      <td>Toy Story (1995)</td>\n",
       "      <td>[Adventure, Animation, Children, Comedy, Fantasy]</td>\n",
       "      <td>[Adventure, Animation, Children, Comedy, Fanta...</td>\n",
       "    </tr>\n",
       "    <tr>\n",
       "      <th>2</th>\n",
       "      <td>Jumanji (1995)</td>\n",
       "      <td>[Adventure, Children, Fantasy]</td>\n",
       "      <td>[Adventure, Children, Fantasy, fantasy, magic ...</td>\n",
       "    </tr>\n",
       "    <tr>\n",
       "      <th>3</th>\n",
       "      <td>Grumpier Old Men (1995)</td>\n",
       "      <td>[Comedy, Romance]</td>\n",
       "      <td>[Comedy, Romance, moldy, old]</td>\n",
       "    </tr>\n",
       "    <tr>\n",
       "      <th>4</th>\n",
       "      <td>Waiting to Exhale (1995)</td>\n",
       "      <td>[Comedy, Drama, Romance]</td>\n",
       "      <td>[]</td>\n",
       "    </tr>\n",
       "    <tr>\n",
       "      <th>5</th>\n",
       "      <td>Father of the Bride Part II (1995)</td>\n",
       "      <td>[Comedy]</td>\n",
       "      <td>[Comedy, pregnancy, remake]</td>\n",
       "    </tr>\n",
       "  </tbody>\n",
       "</table>\n",
       "</div>"
      ],
      "text/plain": [
       "                                      title  \\\n",
       "movieId                                       \n",
       "1                          Toy Story (1995)   \n",
       "2                            Jumanji (1995)   \n",
       "3                   Grumpier Old Men (1995)   \n",
       "4                  Waiting to Exhale (1995)   \n",
       "5        Father of the Bride Part II (1995)   \n",
       "\n",
       "                                                    genres  \\\n",
       "movieId                                                      \n",
       "1        [Adventure, Animation, Children, Comedy, Fantasy]   \n",
       "2                           [Adventure, Children, Fantasy]   \n",
       "3                                        [Comedy, Romance]   \n",
       "4                                 [Comedy, Drama, Romance]   \n",
       "5                                                 [Comedy]   \n",
       "\n",
       "                                                      tags  \n",
       "movieId                                                     \n",
       "1        [Adventure, Animation, Children, Comedy, Fanta...  \n",
       "2        [Adventure, Children, Fantasy, fantasy, magic ...  \n",
       "3                            [Comedy, Romance, moldy, old]  \n",
       "4                                                       []  \n",
       "5                              [Comedy, pregnancy, remake]  "
      ]
     },
     "execution_count": 53,
     "metadata": {},
     "output_type": "execute_result"
    }
   ],
   "source": [
    "movies_dataset.set_index(\"movieId\", inplace=True)\n",
    "movies_dataset.head()"
   ]
  },
  {
   "cell_type": "markdown",
   "metadata": {},
   "source": [
    "## 物品画像"
   ]
  },
  {
   "cell_type": "markdown",
   "metadata": {},
   "source": [
    "### TF-IDF提取关键词,构建电影画像"
   ]
  },
  {
   "cell_type": "code",
   "execution_count": 62,
   "metadata": {},
   "outputs": [],
   "source": [
    "from gensim.models import TfidfModel\n",
    "from gensim.corpora import Dictionary\n",
    "from pprint import pprint"
   ]
  },
  {
   "cell_type": "code",
   "execution_count": 63,
   "metadata": {},
   "outputs": [
    {
     "data": {
      "text/plain": [
       "array([list(['Adventure', 'Animation', 'Children', 'Comedy', 'Fantasy', 'pixar', 'pixar', 'fun']),\n",
       "       list(['Adventure', 'Children', 'Fantasy', 'fantasy', 'magic board game', 'Robin Williams', 'game']),\n",
       "       list(['Comedy', 'Romance', 'moldy', 'old']), ..., list([]),\n",
       "       list([]), list([])], dtype=object)"
      ]
     },
     "execution_count": 63,
     "metadata": {},
     "output_type": "execute_result"
    }
   ],
   "source": [
    "# 基于文本的分词,对不同电影计算其相应的TFIDF值\n",
    "datasets = movies_dataset[\"tags\"].values\n",
    "datasets"
   ]
  },
  {
   "cell_type": "code",
   "execution_count": 70,
   "metadata": {},
   "outputs": [
    {
     "data": {
      "text/plain": [
       "array([list(['Adventure', 'Animation', 'Children', 'Comedy', 'Fantasy', 'pixar', 'pixar', 'fun']),\n",
       "       list(['Adventure', 'Children', 'Fantasy', 'fantasy', 'magic board game', 'Robin Williams', 'game'])],\n",
       "      dtype=object)"
      ]
     },
     "execution_count": 70,
     "metadata": {},
     "output_type": "execute_result"
    }
   ],
   "source": [
    "# 显示电影的tag\n",
    "datasets[0:2]"
   ]
  },
  {
   "cell_type": "code",
   "execution_count": 77,
   "metadata": {},
   "outputs": [
    {
     "data": {
      "text/plain": [
       "[[(0, 1), (1, 1), (2, 1), (3, 1), (4, 1), (5, 1), (6, 2)],\n",
       " [(0, 1), (2, 1), (4, 1), (7, 1), (8, 1), (9, 1), (10, 1)]]"
      ]
     },
     "execution_count": 77,
     "metadata": {},
     "output_type": "execute_result"
    }
   ],
   "source": [
    "# 获取（词索引，词频）\n",
    "dic = Dictionary(datasets)  # 根据文本创建字典\n",
    "corpus = [dic.doc2bow(line) for line in datasets]\n",
    "corpus[:2]"
   ]
  },
  {
   "cell_type": "code",
   "execution_count": 83,
   "metadata": {},
   "outputs": [
    {
     "data": {
      "text/plain": [
       "['Adventure',\n",
       " 'Animation',\n",
       " 'Children',\n",
       " 'Comedy',\n",
       " 'Fantasy',\n",
       " 'pixar',\n",
       " 'pixar',\n",
       " 'fun']"
      ]
     },
     "execution_count": 83,
     "metadata": {},
     "output_type": "execute_result"
    }
   ],
   "source": [
    "datasets[0]"
   ]
  },
  {
   "cell_type": "code",
   "execution_count": 84,
   "metadata": {},
   "outputs": [
    {
     "data": {
      "text/plain": [
       "('Adventure', 'Animation', 'Children')"
      ]
     },
     "execution_count": 84,
     "metadata": {},
     "output_type": "execute_result"
    }
   ],
   "source": [
    "dic.get(0), dic.get(1), dic.get(2)"
   ]
  },
  {
   "cell_type": "code",
   "execution_count": 97,
   "metadata": {},
   "outputs": [
    {
     "data": {
      "text/plain": [
       "'fun'"
      ]
     },
     "execution_count": 97,
     "metadata": {},
     "output_type": "execute_result"
    }
   ],
   "source": [
    "dic[5]"
   ]
  },
  {
   "cell_type": "code",
   "execution_count": 91,
   "metadata": {},
   "outputs": [
    {
     "data": {
      "text/plain": [
       "[(0, 0.20506508893148376),\n",
       " (2, 0.250737357659749),\n",
       " (4, 0.23699778877133218),\n",
       " (7, 0.4358410782580723),\n",
       " (8, 0.39847806133235253),\n",
       " (9, 0.49506005899914796),\n",
       " (10, 0.49506005899914796)]"
      ]
     },
     "execution_count": 91,
     "metadata": {},
     "output_type": "execute_result"
    }
   ],
   "source": [
    "# 计算TFIFD值　(词索引, TFIDF值)\n",
    "model = TfidfModel(corpus=corpus)\n",
    "model[corpus[1]]"
   ]
  },
  {
   "cell_type": "code",
   "execution_count": 100,
   "metadata": {},
   "outputs": [],
   "source": [
    "movie_profile = {}\n",
    "\n",
    "for i, mid in enumerate(movies_dataset.index):\n",
    "    vector = model[corpus[i]]\n",
    "    # 获取Top-N的关键词\n",
    "    movie_tag = sorted(vector, key=lambda x:x[1], reverse=True)[:30]\n",
    "    movie_profile[mid] = dict(map(lambda x: (dic[x[0]], x[1]), movie_tag))"
   ]
  },
  {
   "cell_type": "code",
   "execution_count": 108,
   "metadata": {},
   "outputs": [
    {
     "name": "stdout",
     "output_type": "stream",
     "text": [
      "1 \n",
      " {'pixar': 0.837374709121301, 'fun': 0.34531665530514855, 'Animation': 0.21562355612017706, 'Children': 0.21205621229134275, 'Fantasy': 0.2004362408431816, 'Adventure': 0.17342978500637887, 'Comedy': 0.1335891911679789}\n"
     ]
    }
   ],
   "source": [
    "# 获得每一部电影的相对应的TFIDF值\n",
    "for key, value in movie_profile.items():\n",
    "    print(key, \"\\n\", value)\n",
    "    break"
   ]
  },
  {
   "cell_type": "markdown",
   "metadata": {},
   "source": [
    "### 完善画像关键词"
   ]
  },
  {
   "cell_type": "code",
   "execution_count": 115,
   "metadata": {},
   "outputs": [],
   "source": [
    "_movie_profile = []\n",
    "\n",
    "for i, data in enumerate(movies_dataset.itertuples()):\n",
    "    mid = data[0]\n",
    "    title = data[1]\n",
    "    genres = data[2]\n",
    "    \n",
    "    # 获得TFIFD值\n",
    "    vector = model[corpus[i]]\n",
    "    movie_tag = sorted(vector, key=lambda x:x[1], reverse=True)[:30]\n",
    "    TopN_tags_weight = dict(map(lambda x: (dic[x[0]], x[1]), movie_tag))\n",
    "    \n",
    "    # 加入类别词，初始权重1\n",
    "    for g in genres:\n",
    "        TopN_tags_weight[g] = 1.0\n",
    "    \n",
    "    # 获取相对应的tag\n",
    "    TopN_tag = [i[0] for i in TopN_tags_weight.items()]\n",
    "    _movie_profile.append((mid, title, TopN_tag, TopN_tags_weight))"
   ]
  },
  {
   "cell_type": "code",
   "execution_count": 117,
   "metadata": {},
   "outputs": [
    {
     "data": {
      "text/plain": [
       "(2,\n",
       " 'Jumanji (1995)',\n",
       " ['game',\n",
       "  'magic board game',\n",
       "  'Robin Williams',\n",
       "  'fantasy',\n",
       "  'Children',\n",
       "  'Fantasy',\n",
       "  'Adventure'],\n",
       " {'Adventure': 1.0,\n",
       "  'Children': 1.0,\n",
       "  'Fantasy': 1.0,\n",
       "  'Robin Williams': 0.4358410782580723,\n",
       "  'fantasy': 0.39847806133235253,\n",
       "  'game': 0.49506005899914796,\n",
       "  'magic board game': 0.49506005899914796})"
      ]
     },
     "execution_count": 117,
     "metadata": {},
     "output_type": "execute_result"
    }
   ],
   "source": [
    "_movie_profile[1]"
   ]
  },
  {
   "cell_type": "code",
   "execution_count": 118,
   "metadata": {},
   "outputs": [
    {
     "data": {
      "text/plain": [
       "{'Comedy': 1.0}"
      ]
     },
     "execution_count": 118,
     "metadata": {},
     "output_type": "execute_result"
    }
   ],
   "source": [
    "TopN_tags_weight"
   ]
  },
  {
   "cell_type": "code",
   "execution_count": 120,
   "metadata": {},
   "outputs": [
    {
     "data": {
      "text/html": [
       "<div>\n",
       "<style scoped>\n",
       "    .dataframe tbody tr th:only-of-type {\n",
       "        vertical-align: middle;\n",
       "    }\n",
       "\n",
       "    .dataframe tbody tr th {\n",
       "        vertical-align: top;\n",
       "    }\n",
       "\n",
       "    .dataframe thead th {\n",
       "        text-align: right;\n",
       "    }\n",
       "</style>\n",
       "<table border=\"1\" class=\"dataframe\">\n",
       "  <thead>\n",
       "    <tr style=\"text-align: right;\">\n",
       "      <th></th>\n",
       "      <th>title</th>\n",
       "      <th>profile</th>\n",
       "      <th>weights</th>\n",
       "    </tr>\n",
       "    <tr>\n",
       "      <th>movieId</th>\n",
       "      <th></th>\n",
       "      <th></th>\n",
       "      <th></th>\n",
       "    </tr>\n",
       "  </thead>\n",
       "  <tbody>\n",
       "    <tr>\n",
       "      <th>1</th>\n",
       "      <td>Toy Story (1995)</td>\n",
       "      <td>[pixar, fun, Animation, Children, Fantasy, Adv...</td>\n",
       "      <td>{'pixar': 0.837374709121301, 'fun': 0.34531665...</td>\n",
       "    </tr>\n",
       "    <tr>\n",
       "      <th>2</th>\n",
       "      <td>Jumanji (1995)</td>\n",
       "      <td>[game, magic board game, Robin Williams, fanta...</td>\n",
       "      <td>{'game': 0.49506005899914796, 'magic board gam...</td>\n",
       "    </tr>\n",
       "    <tr>\n",
       "      <th>3</th>\n",
       "      <td>Grumpier Old Men (1995)</td>\n",
       "      <td>[moldy, old, Romance, Comedy]</td>\n",
       "      <td>{'moldy': 0.669101789463952, 'old': 0.66910178...</td>\n",
       "    </tr>\n",
       "    <tr>\n",
       "      <th>4</th>\n",
       "      <td>Waiting to Exhale (1995)</td>\n",
       "      <td>[Comedy, Drama, Romance]</td>\n",
       "      <td>{'Comedy': 1.0, 'Drama': 1.0, 'Romance': 1.0}</td>\n",
       "    </tr>\n",
       "    <tr>\n",
       "      <th>5</th>\n",
       "      <td>Father of the Bride Part II (1995)</td>\n",
       "      <td>[pregnancy, remake, Comedy]</td>\n",
       "      <td>{'pregnancy': 0.7029528753875794, 'remake': 0....</td>\n",
       "    </tr>\n",
       "  </tbody>\n",
       "</table>\n",
       "</div>"
      ],
      "text/plain": [
       "                                      title  \\\n",
       "movieId                                       \n",
       "1                          Toy Story (1995)   \n",
       "2                            Jumanji (1995)   \n",
       "3                   Grumpier Old Men (1995)   \n",
       "4                  Waiting to Exhale (1995)   \n",
       "5        Father of the Bride Part II (1995)   \n",
       "\n",
       "                                                   profile  \\\n",
       "movieId                                                      \n",
       "1        [pixar, fun, Animation, Children, Fantasy, Adv...   \n",
       "2        [game, magic board game, Robin Williams, fanta...   \n",
       "3                            [moldy, old, Romance, Comedy]   \n",
       "4                                 [Comedy, Drama, Romance]   \n",
       "5                              [pregnancy, remake, Comedy]   \n",
       "\n",
       "                                                   weights  \n",
       "movieId                                                     \n",
       "1        {'pixar': 0.837374709121301, 'fun': 0.34531665...  \n",
       "2        {'game': 0.49506005899914796, 'magic board gam...  \n",
       "3        {'moldy': 0.669101789463952, 'old': 0.66910178...  \n",
       "4            {'Comedy': 1.0, 'Drama': 1.0, 'Romance': 1.0}  \n",
       "5        {'pregnancy': 0.7029528753875794, 'remake': 0....  "
      ]
     },
     "execution_count": 120,
     "metadata": {},
     "output_type": "execute_result"
    }
   ],
   "source": [
    "# 得到电影画像，主要包括tag及其相对应的TFIFD值\n",
    "movie_profile = pd.DataFrame(_movie_profile, columns=[\"movieId\", \"title\", \"profile\", \"weights\"])\n",
    "movie_profile.set_index(\"movieId\", inplace=True)\n",
    "movie_profile.head()"
   ]
  },
  {
   "cell_type": "code",
   "execution_count": 281,
   "metadata": {},
   "outputs": [
    {
     "data": {
      "text/plain": [
       "[(1,\n",
       "  {'Adventure': 1.0,\n",
       "   'Animation': 1.0,\n",
       "   'Children': 1.0,\n",
       "   'Comedy': 1.0,\n",
       "   'Fantasy': 1.0,\n",
       "   'fun': 0.34531665530514855,\n",
       "   'pixar': 0.837374709121301}),\n",
       " (2,\n",
       "  {'Adventure': 1.0,\n",
       "   'Children': 1.0,\n",
       "   'Fantasy': 1.0,\n",
       "   'Robin Williams': 0.4358410782580723,\n",
       "   'fantasy': 0.39847806133235253,\n",
       "   'game': 0.49506005899914796,\n",
       "   'magic board game': 0.49506005899914796})]"
      ]
     },
     "execution_count": 281,
     "metadata": {},
     "output_type": "execute_result"
    }
   ],
   "source": [
    "list(movie_profile[\"weights\"].iteritems())[:2]"
   ]
  },
  {
   "cell_type": "markdown",
   "metadata": {},
   "source": [
    "### 倒排序索引\n",
    "目标：通过关键特征推荐电影"
   ]
  },
  {
   "cell_type": "code",
   "execution_count": 143,
   "metadata": {},
   "outputs": [],
   "source": [
    "inverted_table = {}\n",
    "for mid, weights in movie_profile[\"weights\"].iteritems():\n",
    "    for tag, weight in weights.items():\n",
    "        # 为每一tag申请一个空列表来存放相对应的（mid, weights）\n",
    "        _ = inverted_table.get(tag, [])\n",
    "        _.append((mid, weight))\n",
    "        inverted_table.setdefault(tag, _)"
   ]
  },
  {
   "cell_type": "code",
   "execution_count": 284,
   "metadata": {},
   "outputs": [
    {
     "data": {
      "text/plain": [
       "[(1, 0.34531665530514855),\n",
       " (89745, 0.3284369053807601),\n",
       " (108932, 0.31964654815096755),\n",
       " (122918, 0.747908115567127)]"
      ]
     },
     "execution_count": 284,
     "metadata": {},
     "output_type": "execute_result"
    }
   ],
   "source": [
    "# tag:(mid, weight)\n",
    "inverted_table[\"fun\"]"
   ]
  },
  {
   "cell_type": "markdown",
   "metadata": {},
   "source": [
    "## 用户画像"
   ]
  },
  {
   "cell_type": "code",
   "execution_count": 231,
   "metadata": {},
   "outputs": [
    {
     "data": {
      "text/html": [
       "<div>\n",
       "<style scoped>\n",
       "    .dataframe tbody tr th:only-of-type {\n",
       "        vertical-align: middle;\n",
       "    }\n",
       "\n",
       "    .dataframe tbody tr th {\n",
       "        vertical-align: top;\n",
       "    }\n",
       "\n",
       "    .dataframe thead th {\n",
       "        text-align: right;\n",
       "    }\n",
       "</style>\n",
       "<table border=\"1\" class=\"dataframe\">\n",
       "  <thead>\n",
       "    <tr style=\"text-align: right;\">\n",
       "      <th></th>\n",
       "      <th>title</th>\n",
       "      <th>genres</th>\n",
       "      <th>tags</th>\n",
       "    </tr>\n",
       "    <tr>\n",
       "      <th>movieId</th>\n",
       "      <th></th>\n",
       "      <th></th>\n",
       "      <th></th>\n",
       "    </tr>\n",
       "  </thead>\n",
       "  <tbody>\n",
       "    <tr>\n",
       "      <th>1</th>\n",
       "      <td>Toy Story (1995)</td>\n",
       "      <td>[Adventure, Animation, Children, Comedy, Fantasy]</td>\n",
       "      <td>[Adventure, Animation, Children, Comedy, Fanta...</td>\n",
       "    </tr>\n",
       "    <tr>\n",
       "      <th>2</th>\n",
       "      <td>Jumanji (1995)</td>\n",
       "      <td>[Adventure, Children, Fantasy]</td>\n",
       "      <td>[Adventure, Children, Fantasy, fantasy, magic ...</td>\n",
       "    </tr>\n",
       "    <tr>\n",
       "      <th>3</th>\n",
       "      <td>Grumpier Old Men (1995)</td>\n",
       "      <td>[Comedy, Romance]</td>\n",
       "      <td>[Comedy, Romance, moldy, old]</td>\n",
       "    </tr>\n",
       "    <tr>\n",
       "      <th>4</th>\n",
       "      <td>Waiting to Exhale (1995)</td>\n",
       "      <td>[Comedy, Drama, Romance]</td>\n",
       "      <td>[]</td>\n",
       "    </tr>\n",
       "    <tr>\n",
       "      <th>5</th>\n",
       "      <td>Father of the Bride Part II (1995)</td>\n",
       "      <td>[Comedy]</td>\n",
       "      <td>[Comedy, pregnancy, remake]</td>\n",
       "    </tr>\n",
       "  </tbody>\n",
       "</table>\n",
       "</div>"
      ],
      "text/plain": [
       "                                      title  \\\n",
       "movieId                                       \n",
       "1                          Toy Story (1995)   \n",
       "2                            Jumanji (1995)   \n",
       "3                   Grumpier Old Men (1995)   \n",
       "4                  Waiting to Exhale (1995)   \n",
       "5        Father of the Bride Part II (1995)   \n",
       "\n",
       "                                                    genres  \\\n",
       "movieId                                                      \n",
       "1        [Adventure, Animation, Children, Comedy, Fantasy]   \n",
       "2                           [Adventure, Children, Fantasy]   \n",
       "3                                        [Comedy, Romance]   \n",
       "4                                 [Comedy, Drama, Romance]   \n",
       "5                                                 [Comedy]   \n",
       "\n",
       "                                                      tags  \n",
       "movieId                                                     \n",
       "1        [Adventure, Animation, Children, Comedy, Fanta...  \n",
       "2        [Adventure, Children, Fantasy, fantasy, magic ...  \n",
       "3                            [Comedy, Romance, moldy, old]  \n",
       "4                                                       []  \n",
       "5                              [Comedy, pregnancy, remake]  "
      ]
     },
     "execution_count": 231,
     "metadata": {},
     "output_type": "execute_result"
    }
   ],
   "source": [
    "movies_dataset[:5]"
   ]
  },
  {
   "cell_type": "code",
   "execution_count": 232,
   "metadata": {},
   "outputs": [
    {
     "data": {
      "text/html": [
       "<div>\n",
       "<style scoped>\n",
       "    .dataframe tbody tr th:only-of-type {\n",
       "        vertical-align: middle;\n",
       "    }\n",
       "\n",
       "    .dataframe tbody tr th {\n",
       "        vertical-align: top;\n",
       "    }\n",
       "\n",
       "    .dataframe thead th {\n",
       "        text-align: right;\n",
       "    }\n",
       "</style>\n",
       "<table border=\"1\" class=\"dataframe\">\n",
       "  <thead>\n",
       "    <tr style=\"text-align: right;\">\n",
       "      <th></th>\n",
       "      <th>title</th>\n",
       "      <th>profile</th>\n",
       "      <th>weights</th>\n",
       "    </tr>\n",
       "    <tr>\n",
       "      <th>movieId</th>\n",
       "      <th></th>\n",
       "      <th></th>\n",
       "      <th></th>\n",
       "    </tr>\n",
       "  </thead>\n",
       "  <tbody>\n",
       "    <tr>\n",
       "      <th>1</th>\n",
       "      <td>Toy Story (1995)</td>\n",
       "      <td>[pixar, fun, Animation, Children, Fantasy, Adv...</td>\n",
       "      <td>{'pixar': 0.837374709121301, 'fun': 0.34531665...</td>\n",
       "    </tr>\n",
       "    <tr>\n",
       "      <th>2</th>\n",
       "      <td>Jumanji (1995)</td>\n",
       "      <td>[game, magic board game, Robin Williams, fanta...</td>\n",
       "      <td>{'game': 0.49506005899914796, 'magic board gam...</td>\n",
       "    </tr>\n",
       "    <tr>\n",
       "      <th>3</th>\n",
       "      <td>Grumpier Old Men (1995)</td>\n",
       "      <td>[moldy, old, Romance, Comedy]</td>\n",
       "      <td>{'moldy': 0.669101789463952, 'old': 0.66910178...</td>\n",
       "    </tr>\n",
       "    <tr>\n",
       "      <th>4</th>\n",
       "      <td>Waiting to Exhale (1995)</td>\n",
       "      <td>[Comedy, Drama, Romance]</td>\n",
       "      <td>{'Comedy': 1.0, 'Drama': 1.0, 'Romance': 1.0}</td>\n",
       "    </tr>\n",
       "    <tr>\n",
       "      <th>5</th>\n",
       "      <td>Father of the Bride Part II (1995)</td>\n",
       "      <td>[pregnancy, remake, Comedy]</td>\n",
       "      <td>{'pregnancy': 0.7029528753875794, 'remake': 0....</td>\n",
       "    </tr>\n",
       "  </tbody>\n",
       "</table>\n",
       "</div>"
      ],
      "text/plain": [
       "                                      title  \\\n",
       "movieId                                       \n",
       "1                          Toy Story (1995)   \n",
       "2                            Jumanji (1995)   \n",
       "3                   Grumpier Old Men (1995)   \n",
       "4                  Waiting to Exhale (1995)   \n",
       "5        Father of the Bride Part II (1995)   \n",
       "\n",
       "                                                   profile  \\\n",
       "movieId                                                      \n",
       "1        [pixar, fun, Animation, Children, Fantasy, Adv...   \n",
       "2        [game, magic board game, Robin Williams, fanta...   \n",
       "3                            [moldy, old, Romance, Comedy]   \n",
       "4                                 [Comedy, Drama, Romance]   \n",
       "5                              [pregnancy, remake, Comedy]   \n",
       "\n",
       "                                                   weights  \n",
       "movieId                                                     \n",
       "1        {'pixar': 0.837374709121301, 'fun': 0.34531665...  \n",
       "2        {'game': 0.49506005899914796, 'magic board gam...  \n",
       "3        {'moldy': 0.669101789463952, 'old': 0.66910178...  \n",
       "4            {'Comedy': 1.0, 'Drama': 1.0, 'Romance': 1.0}  \n",
       "5        {'pregnancy': 0.7029528753875794, 'remake': 0....  "
      ]
     },
     "execution_count": 232,
     "metadata": {},
     "output_type": "execute_result"
    }
   ],
   "source": [
    "movie_profile.head()"
   ]
  },
  {
   "cell_type": "code",
   "execution_count": 233,
   "metadata": {},
   "outputs": [
    {
     "data": {
      "text/html": [
       "<div>\n",
       "<style scoped>\n",
       "    .dataframe tbody tr th:only-of-type {\n",
       "        vertical-align: middle;\n",
       "    }\n",
       "\n",
       "    .dataframe tbody tr th {\n",
       "        vertical-align: top;\n",
       "    }\n",
       "\n",
       "    .dataframe thead th {\n",
       "        text-align: right;\n",
       "    }\n",
       "</style>\n",
       "<table border=\"1\" class=\"dataframe\">\n",
       "  <thead>\n",
       "    <tr style=\"text-align: right;\">\n",
       "      <th></th>\n",
       "      <th>userId</th>\n",
       "      <th>movieId</th>\n",
       "    </tr>\n",
       "  </thead>\n",
       "  <tbody>\n",
       "    <tr>\n",
       "      <th>0</th>\n",
       "      <td>1</td>\n",
       "      <td>1</td>\n",
       "    </tr>\n",
       "    <tr>\n",
       "      <th>1</th>\n",
       "      <td>1</td>\n",
       "      <td>3</td>\n",
       "    </tr>\n",
       "    <tr>\n",
       "      <th>2</th>\n",
       "      <td>1</td>\n",
       "      <td>6</td>\n",
       "    </tr>\n",
       "    <tr>\n",
       "      <th>3</th>\n",
       "      <td>1</td>\n",
       "      <td>47</td>\n",
       "    </tr>\n",
       "    <tr>\n",
       "      <th>4</th>\n",
       "      <td>1</td>\n",
       "      <td>50</td>\n",
       "    </tr>\n",
       "  </tbody>\n",
       "</table>\n",
       "</div>"
      ],
      "text/plain": [
       "   userId  movieId\n",
       "0       1        1\n",
       "1       1        3\n",
       "2       1        6\n",
       "3       1       47\n",
       "4       1       50"
      ]
     },
     "execution_count": 233,
     "metadata": {},
     "output_type": "execute_result"
    }
   ],
   "source": [
    "watch_record = pd.read_csv(\"data/ratings.csv\"\n",
    "                           , usecols=range(2)\n",
    "                           , dtype={\"userId\":np.int32, \"movieId\": np.int32}\n",
    "                          )\n",
    "watch_record[:5]"
   ]
  },
  {
   "cell_type": "code",
   "execution_count": 234,
   "metadata": {},
   "outputs": [
    {
     "data": {
      "text/html": [
       "<div>\n",
       "<style scoped>\n",
       "    .dataframe tbody tr th:only-of-type {\n",
       "        vertical-align: middle;\n",
       "    }\n",
       "\n",
       "    .dataframe tbody tr th {\n",
       "        vertical-align: top;\n",
       "    }\n",
       "\n",
       "    .dataframe thead tr th {\n",
       "        text-align: left;\n",
       "    }\n",
       "\n",
       "    .dataframe thead tr:last-of-type th {\n",
       "        text-align: right;\n",
       "    }\n",
       "</style>\n",
       "<table border=\"1\" class=\"dataframe\">\n",
       "  <thead>\n",
       "    <tr>\n",
       "      <th></th>\n",
       "      <th>movieId</th>\n",
       "    </tr>\n",
       "    <tr>\n",
       "      <th></th>\n",
       "      <th>list</th>\n",
       "    </tr>\n",
       "    <tr>\n",
       "      <th>userId</th>\n",
       "      <th></th>\n",
       "    </tr>\n",
       "  </thead>\n",
       "  <tbody>\n",
       "    <tr>\n",
       "      <th>1</th>\n",
       "      <td>[1, 3, 6, 47, 50, 70, 101, 110, 151, 157, 163,...</td>\n",
       "    </tr>\n",
       "    <tr>\n",
       "      <th>2</th>\n",
       "      <td>[318, 333, 1704, 3578, 6874, 8798, 46970, 4851...</td>\n",
       "    </tr>\n",
       "    <tr>\n",
       "      <th>3</th>\n",
       "      <td>[31, 527, 647, 688, 720, 849, 914, 1093, 1124,...</td>\n",
       "    </tr>\n",
       "    <tr>\n",
       "      <th>4</th>\n",
       "      <td>[21, 32, 45, 47, 52, 58, 106, 125, 126, 162, 1...</td>\n",
       "    </tr>\n",
       "    <tr>\n",
       "      <th>5</th>\n",
       "      <td>[1, 21, 34, 36, 39, 50, 58, 110, 150, 153, 232...</td>\n",
       "    </tr>\n",
       "  </tbody>\n",
       "</table>\n",
       "</div>"
      ],
      "text/plain": [
       "                                                  movieId\n",
       "                                                     list\n",
       "userId                                                   \n",
       "1       [1, 3, 6, 47, 50, 70, 101, 110, 151, 157, 163,...\n",
       "2       [318, 333, 1704, 3578, 6874, 8798, 46970, 4851...\n",
       "3       [31, 527, 647, 688, 720, 849, 914, 1093, 1124,...\n",
       "4       [21, 32, 45, 47, 52, 58, 106, 125, 126, 162, 1...\n",
       "5       [1, 21, 34, 36, 39, 50, 58, 110, 150, 153, 232..."
      ]
     },
     "execution_count": 234,
     "metadata": {},
     "output_type": "execute_result"
    }
   ],
   "source": [
    "watch_record = watch_record.groupby(\"userId\").agg([list])\n",
    "watch_record.head()"
   ]
  },
  {
   "cell_type": "code",
   "execution_count": 271,
   "metadata": {},
   "outputs": [],
   "source": [
    "# 用户画像\n",
    "user_profile = {}\n",
    "\n",
    "for uid, mids in watch_record.itertuples():\n",
    "    \n",
    "    # 获取每一uid 观看电影的信息\n",
    "    record_movie_profile = movie_profile.loc[list(mids)]\n",
    "    # 计算最感兴趣的种类\n",
    "    counter = collections.Counter(reduce(lambda x, y:list(x)+list(y), record_movie_profile[\"profile\"].values))\n",
    "    interest_word = counter.most_common(50)\n",
    "    maxcount = interest_word[0][1]\n",
    "    #　归一化\n",
    "    interest_word = [(w,round(c/maxcount, 4)) for w,c in interest_word]\n",
    "    # {uid:{ii1:weight, ii2:weight}}\n",
    "    user_profile[uid] = interest_word"
   ]
  },
  {
   "cell_type": "code",
   "execution_count": 292,
   "metadata": {},
   "outputs": [
    {
     "data": {
      "text/plain": [
       "[('Action', 1.0),\n",
       " ('Adventure', 0.9444),\n",
       " ('Comedy', 0.9222),\n",
       " ('Drama', 0.7556),\n",
       " ('Thriller', 0.6111),\n",
       " ('Fantasy', 0.5222),\n",
       " ('Crime', 0.5),\n",
       " ('Children', 0.4667),\n",
       " ('Sci-Fi', 0.4444),\n",
       " ('Animation', 0.3222)]"
      ]
     },
     "execution_count": 292,
     "metadata": {},
     "output_type": "execute_result"
    }
   ],
   "source": [
    "user_profile[1][:10]"
   ]
  },
  {
   "cell_type": "markdown",
   "metadata": {},
   "source": [
    "## 为用户产生TOP-N推荐结果"
   ]
  },
  {
   "cell_type": "code",
   "execution_count": null,
   "metadata": {},
   "outputs": [],
   "source": []
  },
  {
   "cell_type": "code",
   "execution_count": null,
   "metadata": {},
   "outputs": [],
   "source": []
  },
  {
   "cell_type": "code",
   "execution_count": null,
   "metadata": {},
   "outputs": [],
   "source": []
  },
  {
   "cell_type": "code",
   "execution_count": null,
   "metadata": {},
   "outputs": [],
   "source": []
  },
  {
   "cell_type": "code",
   "execution_count": null,
   "metadata": {},
   "outputs": [],
   "source": []
  },
  {
   "cell_type": "code",
   "execution_count": null,
   "metadata": {},
   "outputs": [],
   "source": []
  },
  {
   "cell_type": "code",
   "execution_count": null,
   "metadata": {},
   "outputs": [],
   "source": []
  },
  {
   "cell_type": "code",
   "execution_count": null,
   "metadata": {},
   "outputs": [],
   "source": []
  },
  {
   "cell_type": "code",
   "execution_count": null,
   "metadata": {},
   "outputs": [],
   "source": []
  },
  {
   "cell_type": "markdown",
   "metadata": {},
   "source": [
    "## 知识点"
   ]
  },
  {
   "cell_type": "code",
   "execution_count": 169,
   "metadata": {},
   "outputs": [
    {
     "data": {
      "text/plain": [
       "{'a': 4, 'b': 5}"
      ]
     },
     "execution_count": 169,
     "metadata": {},
     "output_type": "execute_result"
    }
   ],
   "source": [
    "T = {}\n",
    "test = {\"a\":4, \"b\":5}\n",
    "test"
   ]
  },
  {
   "cell_type": "code",
   "execution_count": 170,
   "metadata": {},
   "outputs": [],
   "source": [
    "# 获取某一key的value值，如果存在返回相对应的值，否则返回[]\n",
    "b = T.get(\"a\", [])\n",
    "b.append((11, 4, 5, 6))"
   ]
  },
  {
   "cell_type": "code",
   "execution_count": 171,
   "metadata": {},
   "outputs": [
    {
     "data": {
      "text/plain": [
       "[(11, 4, 5, 6)]"
      ]
     },
     "execution_count": 171,
     "metadata": {},
     "output_type": "execute_result"
    }
   ],
   "source": [
    "# 外部设置键值对\n",
    "c = T.setdefault(\"a\", b)\n",
    "c"
   ]
  },
  {
   "cell_type": "code",
   "execution_count": 172,
   "metadata": {},
   "outputs": [
    {
     "data": {
      "text/plain": [
       "{'a': [(11, 4, 5, 6)]}"
      ]
     },
     "execution_count": 172,
     "metadata": {},
     "output_type": "execute_result"
    }
   ],
   "source": [
    "T"
   ]
  },
  {
   "cell_type": "code",
   "execution_count": 268,
   "metadata": {},
   "outputs": [
    {
     "data": {
      "text/plain": [
       "[('Action', 90),\n",
       " ('Adventure', 85),\n",
       " ('Comedy', 83),\n",
       " ('Drama', 68),\n",
       " ('Thriller', 55),\n",
       " ('Fantasy', 47),\n",
       " ('Crime', 45),\n",
       " ('Children', 42),\n",
       " ('Sci-Fi', 40),\n",
       " ('Animation', 29)]"
      ]
     },
     "execution_count": 268,
     "metadata": {},
     "output_type": "execute_result"
    }
   ],
   "source": [
    "a = collections.Counter(reduce(lambda x, y: list(x)+list(y), record_movie_profile[\"profile\"].values))\n",
    "b = a.most_common()[:10]\n",
    "b"
   ]
  },
  {
   "cell_type": "code",
   "execution_count": 269,
   "metadata": {},
   "outputs": [
    {
     "data": {
      "text/plain": [
       "90"
      ]
     },
     "execution_count": 269,
     "metadata": {},
     "output_type": "execute_result"
    }
   ],
   "source": [
    "maxcount = b[0][1]\n",
    "maxcount"
   ]
  },
  {
   "cell_type": "code",
   "execution_count": 270,
   "metadata": {},
   "outputs": [
    {
     "name": "stdout",
     "output_type": "stream",
     "text": [
      "('Action', 1.0)\n",
      "('Adventure', 0.9444)\n",
      "('Comedy', 0.9222)\n",
      "('Drama', 0.7556)\n",
      "('Thriller', 0.6111)\n",
      "('Fantasy', 0.5222)\n",
      "('Crime', 0.5)\n",
      "('Children', 0.4667)\n",
      "('Sci-Fi', 0.4444)\n",
      "('Animation', 0.3222)\n"
     ]
    }
   ],
   "source": [
    "for w, c in b:\n",
    "    print((w, round(c/maxcount, 4)))"
   ]
  },
  {
   "cell_type": "code",
   "execution_count": null,
   "metadata": {},
   "outputs": [],
   "source": []
  }
 ],
 "metadata": {
  "kernelspec": {
   "display_name": "Python 3",
   "language": "python",
   "name": "python3"
  },
  "language_info": {
   "codemirror_mode": {
    "name": "ipython",
    "version": 3
   },
   "file_extension": ".py",
   "mimetype": "text/x-python",
   "name": "python",
   "nbconvert_exporter": "python",
   "pygments_lexer": "ipython3",
   "version": "3.6.3"
  }
 },
 "nbformat": 4,
 "nbformat_minor": 4
}
