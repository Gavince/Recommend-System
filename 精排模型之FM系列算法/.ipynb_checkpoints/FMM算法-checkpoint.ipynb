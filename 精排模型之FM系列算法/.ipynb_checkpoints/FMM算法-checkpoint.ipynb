{
 "cells": [
  {
   "cell_type": "markdown",
   "metadata": {},
   "source": [
    "# FM算法"
   ]
  },
  {
   "cell_type": "code",
   "execution_count": 4,
   "metadata": {},
   "outputs": [],
   "source": [
    "import xlearn as xl"
   ]
  },
  {
   "cell_type": "code",
   "execution_count": 5,
   "metadata": {},
   "outputs": [],
   "source": [
    "# Training task\n",
    "\n",
    "ffm_model = xl.create_ffm()\n",
    "ffm_model.setTrain(\"./xlearn/demo/classification/criteo_ctr/small_train.txt\")\n",
    "ffm_model.setValidate(\"xlearn/demo/classification/criteo_ctr/small_test.txt\")"
   ]
  },
  {
   "cell_type": "code",
   "execution_count": 6,
   "metadata": {},
   "outputs": [],
   "source": [
    "# Parameters:\n",
    "#  0. task: binary classification\n",
    "#  1. learning rate: 0.2\n",
    "#  2. regular lambda: 0.002\n",
    "#  3. evaluation metric: accuracy\n",
    "param = {'task':'binary', 'lr':0.2, 'lambda':0.002, 'metric':'acc'}"
   ]
  },
  {
   "cell_type": "code",
   "execution_count": null,
   "metadata": {},
   "outputs": [],
   "source": [
    "# Start Training\n",
    "ffm_model.setTXTModel(\"./model.txt\")\n",
    "ffm_model.fit(param, \"./model.out\")"
   ]
  },
  {
   "cell_type": "code",
   "execution_count": 1,
   "metadata": {},
   "outputs": [
    {
     "ename": "NameError",
     "evalue": "name 'ffm_model' is not defined",
     "output_type": "error",
     "traceback": [
      "\u001b[0;31m---------------------------------------------------------------------------\u001b[0m",
      "\u001b[0;31mNameError\u001b[0m                                 Traceback (most recent call last)",
      "\u001b[0;32m<ipython-input-1-f1bec9061d32>\u001b[0m in \u001b[0;36m<module>\u001b[0;34m\u001b[0m\n\u001b[1;32m      1\u001b[0m \u001b[0;31m# prediction task\u001b[0m\u001b[0;34m\u001b[0m\u001b[0;34m\u001b[0m\u001b[0;34m\u001b[0m\u001b[0m\n\u001b[0;32m----> 2\u001b[0;31m \u001b[0mffm_model\u001b[0m\u001b[0;34m.\u001b[0m\u001b[0msetTest\u001b[0m\u001b[0;34m(\u001b[0m\u001b[0;34m\"xlearn/demo/classification/criteo_ctr/small_test.txt\"\u001b[0m\u001b[0;34m)\u001b[0m\u001b[0;34m\u001b[0m\u001b[0;34m\u001b[0m\u001b[0m\n\u001b[0m\u001b[1;32m      3\u001b[0m \u001b[0mffm_model\u001b[0m\u001b[0;34m.\u001b[0m\u001b[0msetSigmoid\u001b[0m\u001b[0;34m(\u001b[0m\u001b[0;34m)\u001b[0m\u001b[0;34m\u001b[0m\u001b[0;34m\u001b[0m\u001b[0m\n",
      "\u001b[0;31mNameError\u001b[0m: name 'ffm_model' is not defined"
     ]
    }
   ],
   "source": [
    "# prediction task \n",
    "ffm_model.setTest(\"xlearn/demo/classification/criteo_ctr/small_test.txt\")\n",
    "ffm_model.setSigmoid()"
   ]
  },
  {
   "cell_type": "code",
   "execution_count": null,
   "metadata": {},
   "outputs": [],
   "source": [
    "ffm_model.predict(\"model.out\", \"./output.txt\")"
   ]
  },
  {
   "cell_type": "code",
   "execution_count": null,
   "metadata": {},
   "outputs": [],
   "source": [
    "!head -n 5 model.txt"
   ]
  },
  {
   "cell_type": "code",
   "execution_count": null,
   "metadata": {},
   "outputs": [],
   "source": [
    "ffm_model.show()"
   ]
  },
  {
   "cell_type": "markdown",
   "metadata": {},
   "source": [
    "## 模型参数解析\n",
    "线性回归模型的参数\n",
    "```\n",
    "bias: -1.1506\n",
    "i_0: 0.25303\n",
    "i_1: 0\n",
    "i_2: 0\n",
    "i_3: 0\n",
    "i_4: 0\n",
    "i_5: 0\n",
    "i_6: 0\n",
    "i_7: 0\n",
    "i_8: 0\n",
    "i_9: 0\n",
    "i_10: 0\n",
    "i_11: 0\n",
    "i_12: 0\n",
    "i_13: 0\n",
    "i_14: 0\n",
    "i_15: 0\n",
    "i_16: 0\n",
    "i_17: 0\n",
    "i_18: 0\n",
    "i_19: 0\n",
    "i_20: 0\n",
    "```    \n",
    "特征０的特征域\n",
    "```\n",
    "v_0_0: 2.58255e-06 0.0434075 0.24935 0.151355\n",
    "v_0_1: 0.175813 0.0722565 0.0155247 0.224025\n",
    "v_0_2: 0.238957 0.314532 0.14648 0.187543\n",
    "v_0_3: 0.280744 0.0298553 0.0315095 0.189932\n",
    "v_0_4: 0.221439 0.00306891 0.126751 0.0249235\n",
    "v_0_5: 0.13894 0.229348 0.202857 0.322683\n",
    "v_0_6: 0.288824 0.179119 0.0457352 0.233562\n",
    "v_0_7: 0.153163 0.236723 0.304106 0.260238\n",
    "v_0_8: 0.101363 0.0165691 0.259289 0.123497\n",
    "v_0_9: 0.213228 0.253868 0.339721 0.123324\n",
    "v_0_10: 0.100714 0.332727 0.247965 0.253043\n",
    "v_0_11: 0.233857 0.041621 0.218371 0.297021\n",
    "v_0_12: 0.105621 0.153701 0.261815 0.169789\n",
    "v_0_13: 0.0810973 0.0927542 0.125615 0.0680402\n",
    "v_0_14: 0.168298 0.297086 0.301061 0.0391639\n",
    "v_0_15: 0.316885 0.18085 0.180918 0.110557\n",
    "v_0_16: 0.335901 0.183229 0.102176 0.0388778\n",
    "v_0_17: 0.321841 0.0253039 0.170871 0.130077\n",
    "```"
   ]
  },
  {
   "cell_type": "code",
   "execution_count": null,
   "metadata": {},
   "outputs": [],
   "source": [
    "import numpy as np\n",
    "import xlearn as xl\n",
    "from sklearn.datasets import load_iris\n",
    "from sklearn.model_selection import train_test_split"
   ]
  },
  {
   "cell_type": "code",
   "execution_count": null,
   "metadata": {},
   "outputs": [],
   "source": [
    "# Load dataset\n",
    "iris_data = load_iris()\n",
    "X = iris_data['data']\n",
    "y = (iris_data['target'] == 2)\n",
    "\n",
    "X_train,   \\\n",
    "X_val,     \\\n",
    "y_train,   \\\n",
    "y_val = train_test_split(X, y, test_size=0.3, random_state=0)"
   ]
  },
  {
   "cell_type": "code",
   "execution_count": 2,
   "metadata": {},
   "outputs": [
    {
     "ename": "NameError",
     "evalue": "name 'xl' is not defined",
     "output_type": "error",
     "traceback": [
      "\u001b[0;31m---------------------------------------------------------------------------\u001b[0m",
      "\u001b[0;31mNameError\u001b[0m                                 Traceback (most recent call last)",
      "\u001b[0;32m<ipython-input-2-f72d8a5c9176>\u001b[0m in \u001b[0;36m<module>\u001b[0;34m\u001b[0m\n\u001b[1;32m      6\u001b[0m \u001b[0;31m#  4. regular lambda: 1.0\u001b[0m\u001b[0;34m\u001b[0m\u001b[0;34m\u001b[0m\u001b[0;34m\u001b[0m\u001b[0m\n\u001b[1;32m      7\u001b[0m \u001b[0;31m#  5. use sgd optimization method\u001b[0m\u001b[0;34m\u001b[0m\u001b[0;34m\u001b[0m\u001b[0;34m\u001b[0m\u001b[0m\n\u001b[0;32m----> 8\u001b[0;31m linear_model = xl.LRModel(task='binary', init=0.1,\n\u001b[0m\u001b[1;32m      9\u001b[0m                           \u001b[0mepoch\u001b[0m\u001b[0;34m=\u001b[0m\u001b[0;36m10\u001b[0m\u001b[0;34m,\u001b[0m \u001b[0mlr\u001b[0m\u001b[0;34m=\u001b[0m\u001b[0;36m0.1\u001b[0m\u001b[0;34m,\u001b[0m\u001b[0;34m\u001b[0m\u001b[0;34m\u001b[0m\u001b[0m\n\u001b[1;32m     10\u001b[0m                           reg_lambda=1.0, opt='sgd')\n",
      "\u001b[0;31mNameError\u001b[0m: name 'xl' is not defined"
     ]
    }
   ],
   "source": [
    "# param:\n",
    "#  0. binary classification\n",
    "#  1. model scale: 0.1\n",
    "#  2. epoch number: 10 (auto early-stop)\n",
    "#  3. learning rate: 0.1\n",
    "#  4. regular lambda: 1.0\n",
    "#  5. use sgd optimization method\n",
    "linear_model = xl.LRModel(task='binary', init=0.1,\n",
    "                          epoch=10, lr=0.1,\n",
    "                          reg_lambda=1.0, opt='sgd')"
   ]
  },
  {
   "cell_type": "code",
   "execution_count": 3,
   "metadata": {},
   "outputs": [
    {
     "ename": "NameError",
     "evalue": "name 'linear_model' is not defined",
     "output_type": "error",
     "traceback": [
      "\u001b[0;31m---------------------------------------------------------------------------\u001b[0m",
      "\u001b[0;31mNameError\u001b[0m                                 Traceback (most recent call last)",
      "\u001b[0;32m<ipython-input-3-b015d64d90d4>\u001b[0m in \u001b[0;36m<module>\u001b[0;34m\u001b[0m\n\u001b[1;32m      1\u001b[0m \u001b[0;31m# Start to train\u001b[0m\u001b[0;34m\u001b[0m\u001b[0;34m\u001b[0m\u001b[0;34m\u001b[0m\u001b[0m\n\u001b[0;32m----> 2\u001b[0;31m linear_model.fit(X_train, y_train,\n\u001b[0m\u001b[1;32m      3\u001b[0m                  \u001b[0meval_set\u001b[0m\u001b[0;34m=\u001b[0m\u001b[0;34m[\u001b[0m\u001b[0mX_val\u001b[0m\u001b[0;34m,\u001b[0m \u001b[0my_val\u001b[0m\u001b[0;34m]\u001b[0m\u001b[0;34m,\u001b[0m\u001b[0;34m\u001b[0m\u001b[0;34m\u001b[0m\u001b[0m\n\u001b[1;32m      4\u001b[0m                  is_lock_free=False)\n",
      "\u001b[0;31mNameError\u001b[0m: name 'linear_model' is not defined"
     ]
    }
   ],
   "source": [
    "# Start to train\n",
    "linear_model.fit(X_train, y_train,\n",
    "                 eval_set=[X_val, y_val],\n",
    "                 is_lock_free=False)"
   ]
  },
  {
   "cell_type": "code",
   "execution_count": null,
   "metadata": {},
   "outputs": [],
   "source": [
    "# Generate predictions\n",
    "y_pred = linear_model.predict(X_val)"
   ]
  },
  {
   "cell_type": "code",
   "execution_count": null,
   "metadata": {},
   "outputs": [],
   "source": [
    "y_pred"
   ]
  },
  {
   "cell_type": "markdown",
   "metadata": {},
   "source": [
    "#  参考\n",
    "[推荐系统FM & FFM算法解读与实践](https://blog.csdn.net/baymax_007/article/details/83931698)"
   ]
  }
 ],
 "metadata": {
  "kernelspec": {
   "display_name": "Python 3",
   "language": "python",
   "name": "python3"
  },
  "language_info": {
   "codemirror_mode": {
    "name": "ipython",
    "version": 3
   },
   "file_extension": ".py",
   "mimetype": "text/x-python",
   "name": "python",
   "nbconvert_exporter": "python",
   "pygments_lexer": "ipython3",
   "version": "3.8.5"
  }
 },
 "nbformat": 4,
 "nbformat_minor": 4
}
