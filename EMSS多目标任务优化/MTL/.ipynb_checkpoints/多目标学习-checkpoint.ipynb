{
 "cells": [
  {
   "cell_type": "markdown",
   "metadata": {},
   "source": [
    "# 多目标学习"
   ]
  },
  {
   "cell_type": "markdown",
   "metadata": {},
   "source": [
    "## 数据\n",
    "### 人口普查数据简介\n",
    "\n",
    "\n",
    "数据集信息：\n",
    "```\n",
    "Barry Becker 从 1994 年人口普查数据库中提取。使用以下条件提取了一组合理干净的记录： ((AAGE>16) && (AGI>100) && (AFNLWGT>1)&& (HRSWK>0))\n",
    "\n",
    "预测任务是确定一个人是否赚了超过 50K年。\n",
    "\n",
    ">50K，<=50K。\n",
    "属性列表：\n",
    "年龄：连续。\n",
    "工作班级：私人、Self-emp-not-inc、Self-emp-inc、联邦政府、地方政府、州政府、无薪、从未工作。\n",
    "fnlwgt：连续。\n",
    "教育：学士，一些大学，11th，HS-grad，教授学校，Assoc-acdm，Assoc-voc，9th，7th-8th，12th，硕士，1st-4th，10th，博士，5th-6th，学前班。\n",
    "教育编号：连续。\n",
    "婚姻状况：已婚公民配偶、离婚、未婚、分居、丧偶、已婚配偶缺席、已婚 AF 配偶。\n",
    "职业：技术支持、工艺维修、其他服务、销售、执行管理、专业教授、处理清洁工、机器操作检查、行政文员、农业-捕鱼、运输-搬家、私人住宅- serv，保护性服务，武装部队。\n",
    "关系：妻子、自己的孩子、丈夫、非家庭成员、其他亲属、未婚。\n",
    "种族：白人、亚太岛民、美洲印第安人-爱斯基摩人、其他、黑人。\n",
    "性别：女，男。\n",
    "资本收益：持续。\n",
    "资本损失：持续。\n",
    "每周小时数：连续。\n",
    "祖国：美国、柬埔寨、英国、波多黎各、加拿大、德国、美国边远地区（关岛-USVI-etc）、印度、日本、希腊、南部、中国、古巴、伊朗、洪都拉斯、菲律宾、意大利、波兰、牙买加、越南、墨西哥、葡萄牙、爱尔兰、法国、多米尼加共和国、老挝、厄瓜多尔、台湾、海地、哥伦比亚、匈牙利、危地马拉、尼加拉瓜、苏格兰、泰国、南斯拉夫、萨尔瓦多、特立纳达和多巴哥、秘鲁、香港，荷兰-荷兰。\n",
    "```\n"
   ]
  },
  {
   "cell_type": "markdown",
   "metadata": {},
   "source": [
    "### EDA"
   ]
  },
  {
   "cell_type": "code",
   "execution_count": 1,
   "metadata": {},
   "outputs": [],
   "source": [
    "import pandas as pd\n",
    "from sklearn.preprocessing import MinMaxScaler\n",
    "from sklearn.preprocessing import LabelEncoder"
   ]
  },
  {
   "cell_type": "code",
   "execution_count": 2,
   "metadata": {},
   "outputs": [
    {
     "name": "stdout",
     "output_type": "stream",
     "text": [
      "adult.data  adult.names  adult.test\n"
     ]
    }
   ],
   "source": [
    "!ls data/"
   ]
  },
  {
   "cell_type": "code",
   "execution_count": 3,
   "metadata": {},
   "outputs": [
    {
     "data": {
      "text/html": [
       "<div>\n",
       "<style scoped>\n",
       "    .dataframe tbody tr th:only-of-type {\n",
       "        vertical-align: middle;\n",
       "    }\n",
       "\n",
       "    .dataframe tbody tr th {\n",
       "        vertical-align: top;\n",
       "    }\n",
       "\n",
       "    .dataframe thead th {\n",
       "        text-align: right;\n",
       "    }\n",
       "</style>\n",
       "<table border=\"1\" class=\"dataframe\">\n",
       "  <thead>\n",
       "    <tr style=\"text-align: right;\">\n",
       "      <th></th>\n",
       "      <th>age</th>\n",
       "      <th>workclass</th>\n",
       "      <th>fnlwgt</th>\n",
       "      <th>education</th>\n",
       "      <th>education_num</th>\n",
       "      <th>marital_status</th>\n",
       "      <th>occupation</th>\n",
       "      <th>relationship</th>\n",
       "      <th>race</th>\n",
       "      <th>sex</th>\n",
       "      <th>capital_gain</th>\n",
       "      <th>capital_loss</th>\n",
       "      <th>hours_per_week</th>\n",
       "      <th>native_country</th>\n",
       "      <th>income_50k</th>\n",
       "    </tr>\n",
       "  </thead>\n",
       "  <tbody>\n",
       "    <tr>\n",
       "      <th>0</th>\n",
       "      <td>39</td>\n",
       "      <td>State-gov</td>\n",
       "      <td>77516</td>\n",
       "      <td>Bachelors</td>\n",
       "      <td>13</td>\n",
       "      <td>Never-married</td>\n",
       "      <td>Adm-clerical</td>\n",
       "      <td>Not-in-family</td>\n",
       "      <td>White</td>\n",
       "      <td>Male</td>\n",
       "      <td>2174</td>\n",
       "      <td>0</td>\n",
       "      <td>40</td>\n",
       "      <td>United-States</td>\n",
       "      <td>&lt;=50K</td>\n",
       "    </tr>\n",
       "    <tr>\n",
       "      <th>1</th>\n",
       "      <td>50</td>\n",
       "      <td>Self-emp-not-inc</td>\n",
       "      <td>83311</td>\n",
       "      <td>Bachelors</td>\n",
       "      <td>13</td>\n",
       "      <td>Married-civ-spouse</td>\n",
       "      <td>Exec-managerial</td>\n",
       "      <td>Husband</td>\n",
       "      <td>White</td>\n",
       "      <td>Male</td>\n",
       "      <td>0</td>\n",
       "      <td>0</td>\n",
       "      <td>13</td>\n",
       "      <td>United-States</td>\n",
       "      <td>&lt;=50K</td>\n",
       "    </tr>\n",
       "    <tr>\n",
       "      <th>2</th>\n",
       "      <td>38</td>\n",
       "      <td>Private</td>\n",
       "      <td>215646</td>\n",
       "      <td>HS-grad</td>\n",
       "      <td>9</td>\n",
       "      <td>Divorced</td>\n",
       "      <td>Handlers-cleaners</td>\n",
       "      <td>Not-in-family</td>\n",
       "      <td>White</td>\n",
       "      <td>Male</td>\n",
       "      <td>0</td>\n",
       "      <td>0</td>\n",
       "      <td>40</td>\n",
       "      <td>United-States</td>\n",
       "      <td>&lt;=50K</td>\n",
       "    </tr>\n",
       "    <tr>\n",
       "      <th>3</th>\n",
       "      <td>53</td>\n",
       "      <td>Private</td>\n",
       "      <td>234721</td>\n",
       "      <td>11th</td>\n",
       "      <td>7</td>\n",
       "      <td>Married-civ-spouse</td>\n",
       "      <td>Handlers-cleaners</td>\n",
       "      <td>Husband</td>\n",
       "      <td>Black</td>\n",
       "      <td>Male</td>\n",
       "      <td>0</td>\n",
       "      <td>0</td>\n",
       "      <td>40</td>\n",
       "      <td>United-States</td>\n",
       "      <td>&lt;=50K</td>\n",
       "    </tr>\n",
       "    <tr>\n",
       "      <th>4</th>\n",
       "      <td>28</td>\n",
       "      <td>Private</td>\n",
       "      <td>338409</td>\n",
       "      <td>Bachelors</td>\n",
       "      <td>13</td>\n",
       "      <td>Married-civ-spouse</td>\n",
       "      <td>Prof-specialty</td>\n",
       "      <td>Wife</td>\n",
       "      <td>Black</td>\n",
       "      <td>Female</td>\n",
       "      <td>0</td>\n",
       "      <td>0</td>\n",
       "      <td>40</td>\n",
       "      <td>Cuba</td>\n",
       "      <td>&lt;=50K</td>\n",
       "    </tr>\n",
       "  </tbody>\n",
       "</table>\n",
       "</div>"
      ],
      "text/plain": [
       "   age          workclass  fnlwgt   education  education_num  \\\n",
       "0   39          State-gov   77516   Bachelors             13   \n",
       "1   50   Self-emp-not-inc   83311   Bachelors             13   \n",
       "2   38            Private  215646     HS-grad              9   \n",
       "3   53            Private  234721        11th              7   \n",
       "4   28            Private  338409   Bachelors             13   \n",
       "\n",
       "        marital_status          occupation    relationship    race      sex  \\\n",
       "0        Never-married        Adm-clerical   Not-in-family   White     Male   \n",
       "1   Married-civ-spouse     Exec-managerial         Husband   White     Male   \n",
       "2             Divorced   Handlers-cleaners   Not-in-family   White     Male   \n",
       "3   Married-civ-spouse   Handlers-cleaners         Husband   Black     Male   \n",
       "4   Married-civ-spouse      Prof-specialty            Wife   Black   Female   \n",
       "\n",
       "   capital_gain  capital_loss  hours_per_week  native_country income_50k  \n",
       "0          2174             0              40   United-States      <=50K  \n",
       "1             0             0              13   United-States      <=50K  \n",
       "2             0             0              40   United-States      <=50K  \n",
       "3             0             0              40   United-States      <=50K  \n",
       "4             0             0              40            Cuba      <=50K  "
      ]
     },
     "execution_count": 3,
     "metadata": {},
     "output_type": "execute_result"
    }
   ],
   "source": [
    "column_names = ['age', 'workclass', 'fnlwgt', 'education', 'education_num', 'marital_status', 'occupation',\n",
    "                'relationship', 'race', 'sex', 'capital_gain', 'capital_loss', 'hours_per_week', 'native_country',\n",
    "                'income_50k']\n",
    "train_df = pd.read_csv(\"./data/adult.data\", header=None, names=column_names)\n",
    "train_df.head()"
   ]
  },
  {
   "cell_type": "code",
   "execution_count": 4,
   "metadata": {},
   "outputs": [
    {
     "name": "stdout",
     "output_type": "stream",
     "text": [
      "<class 'pandas.core.frame.DataFrame'>\n",
      "RangeIndex: 32561 entries, 0 to 32560\n",
      "Data columns (total 15 columns):\n",
      " #   Column          Non-Null Count  Dtype \n",
      "---  ------          --------------  ----- \n",
      " 0   age             32561 non-null  int64 \n",
      " 1   workclass       32561 non-null  object\n",
      " 2   fnlwgt          32561 non-null  int64 \n",
      " 3   education       32561 non-null  object\n",
      " 4   education_num   32561 non-null  int64 \n",
      " 5   marital_status  32561 non-null  object\n",
      " 6   occupation      32561 non-null  object\n",
      " 7   relationship    32561 non-null  object\n",
      " 8   race            32561 non-null  object\n",
      " 9   sex             32561 non-null  object\n",
      " 10  capital_gain    32561 non-null  int64 \n",
      " 11  capital_loss    32561 non-null  int64 \n",
      " 12  hours_per_week  32561 non-null  int64 \n",
      " 13  native_country  32561 non-null  object\n",
      " 14  income_50k      32561 non-null  object\n",
      "dtypes: int64(6), object(9)\n",
      "memory usage: 3.7+ MB\n"
     ]
    }
   ],
   "source": [
    "train_df.info()"
   ]
  },
  {
   "cell_type": "code",
   "execution_count": 5,
   "metadata": {},
   "outputs": [
    {
     "data": {
      "text/html": [
       "<div>\n",
       "<style scoped>\n",
       "    .dataframe tbody tr th:only-of-type {\n",
       "        vertical-align: middle;\n",
       "    }\n",
       "\n",
       "    .dataframe tbody tr th {\n",
       "        vertical-align: top;\n",
       "    }\n",
       "\n",
       "    .dataframe thead th {\n",
       "        text-align: right;\n",
       "    }\n",
       "</style>\n",
       "<table border=\"1\" class=\"dataframe\">\n",
       "  <thead>\n",
       "    <tr style=\"text-align: right;\">\n",
       "      <th></th>\n",
       "      <th>age</th>\n",
       "      <th>workclass</th>\n",
       "      <th>fnlwgt</th>\n",
       "      <th>education</th>\n",
       "      <th>education_num</th>\n",
       "      <th>marital_status</th>\n",
       "      <th>occupation</th>\n",
       "      <th>relationship</th>\n",
       "      <th>race</th>\n",
       "      <th>sex</th>\n",
       "      <th>capital_gain</th>\n",
       "      <th>capital_loss</th>\n",
       "      <th>hours_per_week</th>\n",
       "      <th>native_country</th>\n",
       "      <th>income_50k</th>\n",
       "    </tr>\n",
       "  </thead>\n",
       "  <tbody>\n",
       "    <tr>\n",
       "      <th>0</th>\n",
       "      <td>|1x3 Cross validator</td>\n",
       "      <td>NaN</td>\n",
       "      <td>NaN</td>\n",
       "      <td>NaN</td>\n",
       "      <td>NaN</td>\n",
       "      <td>NaN</td>\n",
       "      <td>NaN</td>\n",
       "      <td>NaN</td>\n",
       "      <td>NaN</td>\n",
       "      <td>NaN</td>\n",
       "      <td>NaN</td>\n",
       "      <td>NaN</td>\n",
       "      <td>NaN</td>\n",
       "      <td>NaN</td>\n",
       "      <td>NaN</td>\n",
       "    </tr>\n",
       "    <tr>\n",
       "      <th>1</th>\n",
       "      <td>25</td>\n",
       "      <td>Private</td>\n",
       "      <td>226802.0</td>\n",
       "      <td>11th</td>\n",
       "      <td>7.0</td>\n",
       "      <td>Never-married</td>\n",
       "      <td>Machine-op-inspct</td>\n",
       "      <td>Own-child</td>\n",
       "      <td>Black</td>\n",
       "      <td>Male</td>\n",
       "      <td>0.0</td>\n",
       "      <td>0.0</td>\n",
       "      <td>40.0</td>\n",
       "      <td>United-States</td>\n",
       "      <td>&lt;=50K.</td>\n",
       "    </tr>\n",
       "    <tr>\n",
       "      <th>2</th>\n",
       "      <td>38</td>\n",
       "      <td>Private</td>\n",
       "      <td>89814.0</td>\n",
       "      <td>HS-grad</td>\n",
       "      <td>9.0</td>\n",
       "      <td>Married-civ-spouse</td>\n",
       "      <td>Farming-fishing</td>\n",
       "      <td>Husband</td>\n",
       "      <td>White</td>\n",
       "      <td>Male</td>\n",
       "      <td>0.0</td>\n",
       "      <td>0.0</td>\n",
       "      <td>50.0</td>\n",
       "      <td>United-States</td>\n",
       "      <td>&lt;=50K.</td>\n",
       "    </tr>\n",
       "    <tr>\n",
       "      <th>3</th>\n",
       "      <td>28</td>\n",
       "      <td>Local-gov</td>\n",
       "      <td>336951.0</td>\n",
       "      <td>Assoc-acdm</td>\n",
       "      <td>12.0</td>\n",
       "      <td>Married-civ-spouse</td>\n",
       "      <td>Protective-serv</td>\n",
       "      <td>Husband</td>\n",
       "      <td>White</td>\n",
       "      <td>Male</td>\n",
       "      <td>0.0</td>\n",
       "      <td>0.0</td>\n",
       "      <td>40.0</td>\n",
       "      <td>United-States</td>\n",
       "      <td>&gt;50K.</td>\n",
       "    </tr>\n",
       "    <tr>\n",
       "      <th>4</th>\n",
       "      <td>44</td>\n",
       "      <td>Private</td>\n",
       "      <td>160323.0</td>\n",
       "      <td>Some-college</td>\n",
       "      <td>10.0</td>\n",
       "      <td>Married-civ-spouse</td>\n",
       "      <td>Machine-op-inspct</td>\n",
       "      <td>Husband</td>\n",
       "      <td>Black</td>\n",
       "      <td>Male</td>\n",
       "      <td>7688.0</td>\n",
       "      <td>0.0</td>\n",
       "      <td>40.0</td>\n",
       "      <td>United-States</td>\n",
       "      <td>&gt;50K.</td>\n",
       "    </tr>\n",
       "  </tbody>\n",
       "</table>\n",
       "</div>"
      ],
      "text/plain": [
       "                    age   workclass    fnlwgt      education  education_num  \\\n",
       "0  |1x3 Cross validator         NaN       NaN            NaN            NaN   \n",
       "1                    25     Private  226802.0           11th            7.0   \n",
       "2                    38     Private   89814.0        HS-grad            9.0   \n",
       "3                    28   Local-gov  336951.0     Assoc-acdm           12.0   \n",
       "4                    44     Private  160323.0   Some-college           10.0   \n",
       "\n",
       "        marital_status          occupation relationship    race    sex  \\\n",
       "0                  NaN                 NaN          NaN     NaN    NaN   \n",
       "1        Never-married   Machine-op-inspct    Own-child   Black   Male   \n",
       "2   Married-civ-spouse     Farming-fishing      Husband   White   Male   \n",
       "3   Married-civ-spouse     Protective-serv      Husband   White   Male   \n",
       "4   Married-civ-spouse   Machine-op-inspct      Husband   Black   Male   \n",
       "\n",
       "   capital_gain  capital_loss  hours_per_week  native_country income_50k  \n",
       "0           NaN           NaN             NaN             NaN        NaN  \n",
       "1           0.0           0.0            40.0   United-States     <=50K.  \n",
       "2           0.0           0.0            50.0   United-States     <=50K.  \n",
       "3           0.0           0.0            40.0   United-States      >50K.  \n",
       "4        7688.0           0.0            40.0   United-States      >50K.  "
      ]
     },
     "execution_count": 5,
     "metadata": {},
     "output_type": "execute_result"
    }
   ],
   "source": [
    "test_df = pd.read_csv(\"./data/adult.test\", delimiter=\",\"\n",
    "                      , names=column_names\n",
    "                      , header=None\n",
    "                     )\n",
    "test_df.head()"
   ]
  },
  {
   "cell_type": "code",
   "execution_count": 6,
   "metadata": {},
   "outputs": [],
   "source": [
    "# 设置标记\n",
    "train_df[\"tag\"] = 1\n",
    "test_df[\"tag\"] = 0\n",
    "# 划分数据\n",
    "test_df.dropna(inplace=True)\n",
    "# 规范化数据\n",
    "test_df[\"income_50k\"] = test_df[\"income_50k\"].apply(lambda x: x[:-1])"
   ]
  },
  {
   "cell_type": "code",
   "execution_count": 7,
   "metadata": {},
   "outputs": [],
   "source": [
    "# 合并数据\n",
    "data = pd.concat([train_df, test_df])\n",
    "data.reset_index(inplace=True, drop=True)"
   ]
  },
  {
   "cell_type": "markdown",
   "metadata": {},
   "source": [
    "### 数据预处理"
   ]
  },
  {
   "cell_type": "code",
   "execution_count": 8,
   "metadata": {},
   "outputs": [],
   "source": [
    "label_columns = ['income_50k', 'marital_status']\n",
    "\n",
    "# categorical columns\n",
    "categorical_columns = ['workclass', 'education', 'occupation', 'relationship', 'race', 'sex', 'native_country']\n",
    "for col in label_columns:\n",
    "    if col == 'income_50k':\n",
    "        data[col] = data[col].apply(lambda x: 0 if x == ' <=50K' else 1)\n",
    "    else:\n",
    "        data[col] = data[col].apply(lambda x: 0 if x == ' Never-married' else 1)"
   ]
  },
  {
   "cell_type": "code",
   "execution_count": 9,
   "metadata": {},
   "outputs": [],
   "source": [
    "# feature engine\n",
    "for col in column_names:\n",
    "    if col not in label_columns + ['tag']:\n",
    "        if col in categorical_columns:\n",
    "            le = LabelEncoder()\n",
    "            data[col] = le.fit_transform(data[col])\n",
    "        else:\n",
    "            mm = MinMaxScaler()\n",
    "            data[col] = mm.fit_transform(data[[col]]).reshape(-1)\n",
    "            \n",
    "data = data[['age', 'workclass', 'fnlwgt', 'education', 'education_num', 'occupation',\n",
    "             'relationship', 'race', 'sex', 'capital_gain', 'capital_loss', 'hours_per_week', 'native_country',\n",
    "             'income_50k', 'marital_status', 'tag']]"
   ]
  },
  {
   "cell_type": "code",
   "execution_count": 10,
   "metadata": {},
   "outputs": [],
   "source": [
    "# 编码用户特征和物品特征\n",
    "user_feat_dict, item_feat_dict = dict(), dict()\n",
    "\n",
    "for idx, col in enumerate(data.columns):\n",
    "    if col not in label_columns + [\"tag\"]:\n",
    "        #　用户特征\n",
    "        if idx < 7:\n",
    "            if col in categorical_columns:\n",
    "                user_feat_dict[col] = (data[col].nunique() + 1, idx)\n",
    "            else:\n",
    "                user_feat_dict[col] = (1, idx)\n",
    "        # 物品特征\n",
    "        else:\n",
    "            if col in categorical_columns:\n",
    "                item_feat_dict[col] = (data[col].nunique() + 1, idx)\n",
    "            else:\n",
    "                item_feat_dict[col] = (1, idx)\n",
    "\n",
    "                user_feat_dict, item_feat_dict"
   ]
  },
  {
   "cell_type": "code",
   "execution_count": 11,
   "metadata": {},
   "outputs": [],
   "source": [
    "# 重新划分数据集\n",
    "train_data, test_data = data[data[\"tag\"] == 1], data[data[\"tag\"] == 0]"
   ]
  },
  {
   "cell_type": "code",
   "execution_count": 12,
   "metadata": {},
   "outputs": [
    {
     "name": "stderr",
     "output_type": "stream",
     "text": [
      "/home/gavin/anaconda3/lib/python3.8/site-packages/pandas/core/frame.py:4308: SettingWithCopyWarning: \n",
      "A value is trying to be set on a copy of a slice from a DataFrame\n",
      "\n",
      "See the caveats in the documentation: https://pandas.pydata.org/pandas-docs/stable/user_guide/indexing.html#returning-a-view-versus-a-copy\n",
      "  return super().drop(\n"
     ]
    }
   ],
   "source": [
    "train_data.drop(columns=\"tag\", inplace=True)\n",
    "test_data.drop(columns=\"tag\", inplace=True)"
   ]
  },
  {
   "cell_type": "markdown",
   "metadata": {},
   "source": [
    "## 算法"
   ]
  },
  {
   "cell_type": "code",
   "execution_count": 13,
   "metadata": {},
   "outputs": [],
   "source": [
    "import torch\n",
    "import torch.nn as nn\n",
    "from torchsummary import summary\n",
    "from torch.utils.tensorboard import SummaryWriter\n",
    "from torch.optim import Adam\n",
    "import numpy as np\n",
    "import torchsnooper\n",
    "from tqdm import tqdm\n",
    "from sklearn.metrics import roc_auc_score\n",
    "from torch.utils.data import Dataset\n",
    "from torch.utils.data import DataLoader"
   ]
  },
  {
   "cell_type": "markdown",
   "metadata": {},
   "source": [
    "### 自定义数据格式"
   ]
  },
  {
   "cell_type": "code",
   "execution_count": 14,
   "metadata": {},
   "outputs": [],
   "source": [
    "class TrainDateSet(Dataset):\n",
    "    \n",
    "    def __init__(self, data):\n",
    "        \n",
    "        self.features = data[0]\n",
    "        self.label1 = data[1]\n",
    "        self.label2 = data[2]\n",
    "    \n",
    "    def __getitem__(self, index):\n",
    "        \n",
    "        return self.features[index], self.label1[index], self.label2[index]\n",
    "    \n",
    "    def __len__(self):\n",
    "        \n",
    "        return len(self.features)"
   ]
  },
  {
   "cell_type": "code",
   "execution_count": 15,
   "metadata": {},
   "outputs": [],
   "source": [
    "# 加载Dataloader\n",
    "train_datasets = (train_data.iloc[:, :-2].values, train_data.iloc[:, -2].values, train_data.iloc[:, -1].values)\n",
    "test_datasets = (test_data.iloc[:, :-2].values, test_data.iloc[:, -2].values, test_data.iloc[:, -1].values)\n",
    "train_datasets = TrainDateSet(train_datasets)\n",
    "test_datasets = TrainDateSet(test_datasets)"
   ]
  },
  {
   "cell_type": "markdown",
   "metadata": {},
   "source": [
    "### ESMM模型\n",
    "![](./imgs/ESMM.png)"
   ]
  },
  {
   "cell_type": "code",
   "execution_count": 16,
   "metadata": {},
   "outputs": [],
   "source": [
    "class ESMM(nn.Module):\n",
    "\n",
    "    def __init__(self, user_feature_dict, item_feature_dict, emb_dim=128, hidden_dim=[128, 64], dropouts=[0.5, 0.5],\n",
    "                 output_size=1, task_name=[\"ctr\", \"cvr\"]):\n",
    "        \"\"\"\n",
    "\n",
    "        :param user_feature_dict: 用户特征\n",
    "        :param item_feature_dict:　物品特征\n",
    "        :param emb_dim: 128\n",
    "        :param hidden_dim: [128, 64]\n",
    "        :param dropout: 0.5\n",
    "        :param output_size: 1\n",
    "        :param num_tasks:2\n",
    "        \"\"\"\n",
    "        super(ESMM, self).__init__()\n",
    "\n",
    "        if user_feature_dict is None or item_feature_dict is None:\n",
    "            Exception(\"用户特征和物品特征不能为空！\")\n",
    "        if isinstance(user_feature_dict, dict) is False or isinstance(item_feature_dict, dict):\n",
    "            Exception(\"输入数据类型必须为字典类型！\")\n",
    "\n",
    "        self.user_feature_dict = user_feature_dict\n",
    "        self.item_feature_dict = item_feature_dict\n",
    "        self.num_tasks = len(task_name)\n",
    "        self.task_name = task_name\n",
    "\n",
    "        # 共享Embedding(Share bottom)\n",
    "        user_cate_feature_nums, item_cate_feature_nums = 0, 0\n",
    "        # 用户特征Embedding编码\n",
    "        for user_cate, num in self.user_feature_dict.items():\n",
    "            # 必须为Spase Feature\n",
    "            if num[0] > 1:\n",
    "                user_cate_feature_nums += 1\n",
    "                setattr(self, user_cate, nn.Embedding(num[0], emb_dim))\n",
    "        # 物品特征\n",
    "        for item_cate, num in self.item_feature_dict.items():\n",
    "            if num[0] > 1:\n",
    "                item_cate_feature_nums += 1\n",
    "                setattr(self, item_cate, nn.Embedding(num[0], emb_dim))\n",
    "\n",
    "        # 构建独立任务（tower）\n",
    "        # Spase feat + Dense feat\n",
    "        hidden_size = emb_dim * (user_cate_feature_nums + item_cate_feature_nums) \\\n",
    "                      + (len(self.user_feature_dict) - user_cate_feature_nums) \\\n",
    "                      + (len(self.item_feature_dict) - item_cate_feature_nums)\n",
    "\n",
    "        for i in range(self.num_tasks):\n",
    "            setattr(self, 'task_{}_dnn'.format(self.task_name[i]), nn.ModuleList())\n",
    "            hid_dim = [hidden_size] + hidden_dim\n",
    "            for j in range(len(hid_dim) - 1):\n",
    "                getattr(self, 'task_{}_dnn'.format(self.task_name[i])).add_module('hidden_{}'.format(j),\n",
    "                                                                      nn.Linear(hid_dim[j], hid_dim[j + 1]))\n",
    "                getattr(self, 'task_{}_dnn'.format(self.task_name[i])).add_module('batchnorm_{}'.format(j),\n",
    "                                                                      nn.BatchNorm1d(hid_dim[j + 1]))\n",
    "                getattr(self, \"task_{}_dnn\".format(self.task_name[i])).add_module(\"{}_activation\".format(task_name[i])\n",
    "                                                                             , nn.ReLU())\n",
    "                getattr(self, 'task_{}_dnn'.format(self.task_name[i])).add_module('dropout_{}'.format(j),\n",
    "                                                                      nn.Dropout(dropouts[j]))\n",
    "            getattr(self, 'task_{}_dnn'.format(self.task_name[i])).add_module('task_{}_last_layer'.format(j),\n",
    "                                                                  nn.Linear(hid_dim[-1], output_size))\n",
    "\n",
    "    def forward(self, x):\n",
    "#         assert x.size()[1] != len(self.item_feature_dict) + len(self.user_feature_dict)\n",
    "        # 编码Embedding向量\n",
    "        user_embed_list, item_embed_list = list(), list()\n",
    "        for user_feature, num in self.user_feature_dict.items():\n",
    "            if num[0] > 1:\n",
    "                user_embed_list.append(getattr(self, user_feature)(x[:, num[1]].long()))\n",
    "            else:\n",
    "                user_embed_list.append(x[:, num[1]].unsqueeze(1))\n",
    "        for item_feature, num in self.item_feature_dict.items():\n",
    "            if num[0] > 1:\n",
    "                item_embed_list.append(getattr(self, item_feature)(x[:, num[1]].long()))\n",
    "            else:\n",
    "                item_embed_list.append(x[:, num[1]].unsqueeze(1))\n",
    "        # 拼接向量\n",
    "        user_embed = torch.cat(user_embed_list, dim=1)\n",
    "        item_embed = torch.cat(item_embed_list, dim=1)\n",
    "        # hidden_input\n",
    "        hidden = torch.cat([user_embed, item_embed], axis=1).float()\n",
    "\n",
    "        # 子网络\n",
    "        task_outputs = list()\n",
    "        for i in range(self.num_tasks):\n",
    "            x = hidden\n",
    "            #　Module list\n",
    "            for mod in getattr(self,'task_{}_dnn'.format(self.task_name[i])):\n",
    "                x = mod(x)\n",
    "            task_outputs.append(x)\n",
    "        \n",
    "        if self.num_tasks == 2:\n",
    "            \n",
    "            pCTCVR = torch.mul(task_outputs[0], task_outputs[1])\n",
    "            pCVR = task_outputs[0]\n",
    "            \n",
    "            return pCTCVR, pCVR\n",
    "        elif len(self.num_tasks) == 1:\n",
    "            return task_outputs\n",
    "        else:\n",
    "            Exception(\"目标数目为：1或２!\")"
   ]
  },
  {
   "cell_type": "code",
   "execution_count": 17,
   "metadata": {},
   "outputs": [
    {
     "data": {
      "text/plain": [
       "ESMM(\n",
       "  (user_id): Embedding(11, 128)\n",
       "  (user_list): Embedding(12, 128)\n",
       "  (item_id): Embedding(8, 128)\n",
       "  (item_cate): Embedding(6, 128)\n",
       "  (task_ctr_dnn): ModuleList(\n",
       "    (hidden_0): Linear(in_features=514, out_features=128, bias=True)\n",
       "    (batchnorm_0): BatchNorm1d(128, eps=1e-05, momentum=0.1, affine=True, track_running_stats=True)\n",
       "    (ctr_activation): ReLU()\n",
       "    (dropout_0): Dropout(p=0.5, inplace=False)\n",
       "    (hidden_1): Linear(in_features=128, out_features=64, bias=True)\n",
       "    (batchnorm_1): BatchNorm1d(64, eps=1e-05, momentum=0.1, affine=True, track_running_stats=True)\n",
       "    (dropout_1): Dropout(p=0.5, inplace=False)\n",
       "    (task_1_last_layer): Linear(in_features=64, out_features=1, bias=True)\n",
       "  )\n",
       "  (task_cvr_dnn): ModuleList(\n",
       "    (hidden_0): Linear(in_features=514, out_features=128, bias=True)\n",
       "    (batchnorm_0): BatchNorm1d(128, eps=1e-05, momentum=0.1, affine=True, track_running_stats=True)\n",
       "    (cvr_activation): ReLU()\n",
       "    (dropout_0): Dropout(p=0.5, inplace=False)\n",
       "    (hidden_1): Linear(in_features=128, out_features=64, bias=True)\n",
       "    (batchnorm_1): BatchNorm1d(64, eps=1e-05, momentum=0.1, affine=True, track_running_stats=True)\n",
       "    (dropout_1): Dropout(p=0.5, inplace=False)\n",
       "    (task_1_last_layer): Linear(in_features=64, out_features=1, bias=True)\n",
       "  )\n",
       ")"
      ]
     },
     "execution_count": 17,
     "metadata": {},
     "output_type": "execute_result"
    }
   ],
   "source": [
    "a = torch.from_numpy(np.array([[1, 2, 4, 2, 0.5, 0.1],\n",
    "                               [4, 5, 3, 8, 0.6, 0.43],\n",
    "                               [6, 3, 2, 9, 0.12, 0.32],\n",
    "                               [9, 1, 1, 1, 0.12, 0.45],\n",
    "                               [8, 3, 1, 4, 0.21, 0.67]]))\n",
    "\n",
    "user_cate_dict = {'user_id': (11, 0), 'user_list': (12, 3), 'user_num': (1, 4)}\n",
    "item_cate_dict = {'item_id': (8, 1), 'item_cate': (6, 2), 'item_num': (1, 5)}\n",
    "esmm = ESMM(user_cate_dict, item_cate_dict)\n",
    "esmm"
   ]
  },
  {
   "cell_type": "code",
   "execution_count": 18,
   "metadata": {},
   "outputs": [
    {
     "name": "stdout",
     "output_type": "stream",
     "text": [
      "(tensor([[-0.0026],\n",
      "        [ 1.4870],\n",
      "        [ 0.9397],\n",
      "        [-0.6603],\n",
      "        [-0.0971]], grad_fn=<MulBackward0>), tensor([[ 0.0644],\n",
      "        [-0.7170],\n",
      "        [ 1.0652],\n",
      "        [-0.3548],\n",
      "        [ 0.4381]], grad_fn=<AddmmBackward>))\n"
     ]
    }
   ],
   "source": [
    "tasks = esmm(a)\n",
    "print(tasks)"
   ]
  },
  {
   "cell_type": "code",
   "execution_count": 19,
   "metadata": {},
   "outputs": [],
   "source": [
    "w = SummaryWriter(log_dir=\"./log\", comment=\"model info\")\n",
    "w.add_graph(esmm, a)\n",
    "w.close()"
   ]
  },
  {
   "cell_type": "markdown",
   "metadata": {},
   "source": [
    "### MMoE\n",
    "![](./imgs/mmoe.png)"
   ]
  },
  {
   "cell_type": "code",
   "execution_count": 1,
   "metadata": {},
   "outputs": [
    {
     "ename": "NameError",
     "evalue": "name 'nn' is not defined",
     "output_type": "error",
     "traceback": [
      "\u001b[0;31m---------------------------------------------------------------------------\u001b[0m",
      "\u001b[0;31mNameError\u001b[0m                                 Traceback (most recent call last)",
      "\u001b[0;32m<ipython-input-1-4eee91b8a923>\u001b[0m in \u001b[0;36m<module>\u001b[0;34m\u001b[0m\n\u001b[1;32m      1\u001b[0m \u001b[0;31m# @torchsnooper.snoop()\u001b[0m\u001b[0;34m\u001b[0m\u001b[0;34m\u001b[0m\u001b[0;34m\u001b[0m\u001b[0m\n\u001b[0;32m----> 2\u001b[0;31m \u001b[0;32mclass\u001b[0m \u001b[0mMMoE\u001b[0m\u001b[0;34m(\u001b[0m\u001b[0mnn\u001b[0m\u001b[0;34m.\u001b[0m\u001b[0mModule\u001b[0m\u001b[0;34m)\u001b[0m\u001b[0;34m:\u001b[0m\u001b[0;34m\u001b[0m\u001b[0;34m\u001b[0m\u001b[0m\n\u001b[0m\u001b[1;32m      3\u001b[0m \u001b[0;34m\u001b[0m\u001b[0m\n\u001b[1;32m      4\u001b[0m     def __init__(self, user_feature_dict, item_feature_dict, emb_dim=128, n_expert=3, mmoe_hidden_dim=128,\n\u001b[1;32m      5\u001b[0m                  hidden_dim=[128, 64], output_size=1, num_tasks=2, expert_activation=None):\n",
      "\u001b[0;31mNameError\u001b[0m: name 'nn' is not defined"
     ]
    }
   ],
   "source": [
    "# @torchsnooper.snoop()\n",
    "class MMoE(nn.Module):\n",
    "\n",
    "    def __init__(self, user_feature_dict, item_feature_dict, emb_dim=128, n_expert=3, mmoe_hidden_dim=128,\n",
    "                 hidden_dim=[128, 64], output_size=1, num_tasks=2, expert_activation=None):\n",
    "        \"\"\"\n",
    "\n",
    "        :param user_feature_dict:\n",
    "        :param item_feature_dict:\n",
    "        :param emb_dim:\n",
    "        :param n_expert:\n",
    "        :param mmoe_hidden_dim:\n",
    "        :param hidden_dim:\n",
    "        :param output_size:\n",
    "        :param num_tasks:\n",
    "        \"\"\"\n",
    "        super(MMoE, self).__init__()\n",
    "\n",
    "        if user_feature_dict is None or item_feature_dict is None:\n",
    "            Exception(\"用户特征和物品特征不能为空！\")\n",
    "        if isinstance(user_feature_dict, dict) is False or isinstance(item_feature_dict, dict):\n",
    "            Exception(\"输入数据类型必须为字典类型！\")\n",
    "\n",
    "        self.user_feature_dict = user_feature_dict\n",
    "        self.item_feature_dict = item_feature_dict\n",
    "        self.num_tasks = num_tasks\n",
    "\n",
    "        # 共享Embedding(Share bottom)\n",
    "        user_cate_feature_nums, item_cate_feature_nums = 0, 0\n",
    "        # 用户特征Embedding编码\n",
    "        for user_cate, num in self.user_feature_dict.items():\n",
    "            # 必须为Spase Feature\n",
    "            if num[0] > 1:\n",
    "                user_cate_feature_nums += 1\n",
    "                setattr(self, user_cate, nn.Embedding(num[0], emb_dim))\n",
    "        # 物品特征\n",
    "        for item_cate, num in self.item_feature_dict.items():\n",
    "            if num[0] > 1:\n",
    "                item_cate_feature_nums += 1\n",
    "                setattr(self, item_cate, nn.Embedding(num[0], emb_dim))\n",
    "\n",
    "        # 构建独立任务（tower）\n",
    "        # Spase feat + Dense feat\n",
    "        hidden_size = emb_dim * (user_cate_feature_nums + item_cate_feature_nums) \\\n",
    "                      + (len(self.user_feature_dict) - user_cate_feature_nums) \\\n",
    "                      + (len(self.item_feature_dict) - item_cate_feature_nums)\n",
    "\n",
    "        # 专家网络\n",
    "        self.erperts = torch.nn.Parameter(torch.rand(hidden_size, mmoe_hidden_dim, n_expert), requires_grad=True)\n",
    "        self.erperts.data.normal_(0, 1)\n",
    "        self.erperts_bias = torch.nn.Parameter(torch.rand(mmoe_hidden_dim, n_expert), requires_grad=True)\n",
    "\n",
    "        # 门控网络\n",
    "        self.gates = torch.nn.ParameterList([torch.nn.Parameter(torch.rand(hidden_size, n_expert), requires_grad=True)\n",
    "                      for _ in range(num_tasks)])\n",
    "        for gate in self.gates:\n",
    "            gate.data.normal_(0, 1,)\n",
    "\n",
    "        self.gate_bias = torch.nn.ParameterList([torch.nn.Parameter(torch.rand(n_expert), requires_grad=True) for _ in range(num_tasks)])\n",
    "\n",
    "        for i in range(self.num_tasks):\n",
    "            setattr(self, 'task_{}_dnn'.format(i + 1), nn.ModuleList())\n",
    "            # input: mmoe_hidden_dim + hidden_dim\n",
    "            hid_dim = [mmoe_hidden_dim] + hidden_dim\n",
    "            for j in range(len(hid_dim) - 1):\n",
    "                getattr(self, 'task_{}_dnn'.format(i + 1)).add_module('hidden_{}'.format(j),\n",
    "                                                                      nn.Linear(hid_dim[j], hid_dim[j + 1]))\n",
    "                getattr(self, 'task_{}_dnn'.format(i + 1)).add_module('batchnorm_{}'.format(j),\n",
    "                                                                      nn.BatchNorm1d(hid_dim[j + 1]))\n",
    "            getattr(self, 'task_{}_dnn'.format(i + 1)).add_module('task_last_layer',\n",
    "                                                                  nn.Linear(hid_dim[-1], output_size))\n",
    "            \n",
    "        self.Softmax = nn.Softmax(dim=-1)\n",
    "\n",
    "    def forward(self, x):\n",
    "\n",
    "        assert x.size()[1] == len(self.item_feature_dict) + len(self.user_feature_dict)\n",
    "        # 编码Embedding向量\n",
    "        user_embed_list, item_embed_list = list(), list()\n",
    "        for user_feature, num in self.user_feature_dict.items():\n",
    "            if num[0] > 1:\n",
    "                user_embed_list.append(getattr(self, user_feature)(x[:, num[1]].long()))\n",
    "            else:\n",
    "                user_embed_list.append(x[:, num[1]].unsqueeze(1))\n",
    "        for item_feature, num in self.item_feature_dict.items():\n",
    "            if num[0] > 1:\n",
    "                item_embed_list.append(getattr(self, item_feature)(x[:, num[1]].long()))\n",
    "            else:\n",
    "                item_embed_list.append(x[:, num[1]].unsqueeze(1))\n",
    "        # 拼接向量\n",
    "        user_embed = torch.cat(user_embed_list, dim=1)\n",
    "        item_embed = torch.cat(item_embed_list, dim=1)\n",
    "        # hidden_input\n",
    "        # B*hidden\n",
    "        hidden = torch.cat([user_embed, item_embed], dim=1).float()\n",
    "        # MMoE\n",
    "        expert_outs = torch.matmul(hidden, self.erperts.permute(1, 0, 2)).permute(1, 0, 2)  # B*mmoe_hidden_dim*experts\n",
    "        expert_outs += self.erperts_bias\n",
    "        # 门控单元\n",
    "        gates_out = list()\n",
    "        for idx, gate in enumerate(self.gates):\n",
    "            gate_out = torch.mm(hidden, gate)  # B * num_experts\n",
    "            if self.gate_bias:\n",
    "                gate_out += self.gate_bias[idx]\n",
    "            # 归一化\n",
    "            gate_out = self.Softmax(gate_out)\n",
    "            gates_out.append(gate_out)\n",
    "        # 各个模块\n",
    "        outs = list()\n",
    "        for gate_out in gates_out:\n",
    "            expand_gate_out = torch.unsqueeze(gate_out, dim=1)  # B * 1 * experts\n",
    "            weighted_expert_output = expert_outs * expand_gate_out.expand_as(expert_outs)  # B * mmoe_hidden * expert\n",
    "            outs.append(torch.sum(weighted_expert_output, 2))  # B * mmoe_hidden\n",
    "\n",
    "        # task_tower\n",
    "        task_outputs = list()\n",
    "        for i in range(self.num_tasks):\n",
    "            x = outs[i]\n",
    "            for mod in getattr(self, 'task_{}_dnn'.format(i + 1)):\n",
    "                x = mod(x)\n",
    "            task_outputs.append(x)\n",
    "\n",
    "        return task_outputs"
   ]
  },
  {
   "cell_type": "code",
   "execution_count": 24,
   "metadata": {},
   "outputs": [
    {
     "data": {
      "text/plain": [
       "MMoE(\n",
       "  (user_id): Embedding(11, 128)\n",
       "  (user_list): Embedding(12, 128)\n",
       "  (item_id): Embedding(8, 128)\n",
       "  (item_cate): Embedding(6, 128)\n",
       "  (gates): ParameterList(\n",
       "      (0): Parameter containing: [torch.FloatTensor of size 514x3]\n",
       "      (1): Parameter containing: [torch.FloatTensor of size 514x3]\n",
       "  )\n",
       "  (gate_bias): ParameterList(\n",
       "      (0): Parameter containing: [torch.FloatTensor of size 3]\n",
       "      (1): Parameter containing: [torch.FloatTensor of size 3]\n",
       "  )\n",
       "  (task_1_dnn): ModuleList(\n",
       "    (hidden_0): Linear(in_features=128, out_features=128, bias=True)\n",
       "    (batchnorm_0): BatchNorm1d(128, eps=1e-05, momentum=0.1, affine=True, track_running_stats=True)\n",
       "    (hidden_1): Linear(in_features=128, out_features=64, bias=True)\n",
       "    (batchnorm_1): BatchNorm1d(64, eps=1e-05, momentum=0.1, affine=True, track_running_stats=True)\n",
       "    (task_last_layer): Linear(in_features=64, out_features=1, bias=True)\n",
       "  )\n",
       "  (task_2_dnn): ModuleList(\n",
       "    (hidden_0): Linear(in_features=128, out_features=128, bias=True)\n",
       "    (batchnorm_0): BatchNorm1d(128, eps=1e-05, momentum=0.1, affine=True, track_running_stats=True)\n",
       "    (hidden_1): Linear(in_features=128, out_features=64, bias=True)\n",
       "    (batchnorm_1): BatchNorm1d(64, eps=1e-05, momentum=0.1, affine=True, track_running_stats=True)\n",
       "    (task_last_layer): Linear(in_features=64, out_features=1, bias=True)\n",
       "  )\n",
       "  (Softmax): Softmax(dim=-1)\n",
       ")"
      ]
     },
     "execution_count": 24,
     "metadata": {},
     "output_type": "execute_result"
    }
   ],
   "source": [
    "mmoe = MMoE(user_cate_dict, item_cate_dict)\n",
    "mmoe"
   ]
  },
  {
   "cell_type": "code",
   "execution_count": 25,
   "metadata": {},
   "outputs": [
    {
     "data": {
      "text/plain": [
       "[tensor([[-0.1679],\n",
       "         [ 0.1511],\n",
       "         [-0.0939],\n",
       "         [ 0.5660],\n",
       "         [-0.1203]], grad_fn=<AddmmBackward>),\n",
       " tensor([[-0.5108],\n",
       "         [ 0.0298],\n",
       "         [ 1.0607],\n",
       "         [-0.0723],\n",
       "         [ 0.0566]], grad_fn=<AddmmBackward>)]"
      ]
     },
     "execution_count": 25,
     "metadata": {},
     "output_type": "execute_result"
    }
   ],
   "source": [
    "outs = mmoe(a)\n",
    "outs"
   ]
  },
  {
   "cell_type": "code",
   "execution_count": 26,
   "metadata": {},
   "outputs": [],
   "source": [
    "w = SummaryWriter(log_dir=\"./log\", comment=\"model info\")\n",
    "w.add_graph(esmm, a)\n",
    "w.close()"
   ]
  },
  {
   "cell_type": "markdown",
   "metadata": {},
   "source": [
    "## 训练与评估"
   ]
  },
  {
   "cell_type": "code",
   "execution_count": 27,
   "metadata": {},
   "outputs": [],
   "source": [
    "# 定义超参数\n",
    "learning_rate = 0.01\n",
    "epochs = 100\n",
    "count = 0\n",
    "writer = SummaryWriter(\"./log\", comment=\"mertics\")\n",
    "device = torch.device(\"cuda\")\n",
    "\n",
    "model = MMoE(user_feat_dict, item_feat_dict)\n",
    "model.to(device)\n",
    "\n",
    "optimizer = Adam(model.parameters(), lr = learning_rate)\n",
    "loss_fun = nn.BCEWithLogitsLoss()\n",
    "\n",
    "train_dataload = DataLoader(train_datasets, batch_size = 64, shuffle = True)\n",
    "test_dataload = DataLoader(test_datasets, batch_size = 64)"
   ]
  },
  {
   "cell_type": "code",
   "execution_count": 28,
   "metadata": {
    "collapsed": true,
    "jupyter": {
     "outputs_hidden": true
    },
    "tags": []
   },
   "outputs": [
    {
     "name": "stderr",
     "output_type": "stream",
     "text": [
      "  0%|          | 0/100 [00:00<?, ?it/s]"
     ]
    },
    {
     "name": "stdout",
     "output_type": "stream",
     "text": [
      "0.7151841826897941 0.8560233626952178 0.9191840090790677\n"
     ]
    },
    {
     "name": "stderr",
     "output_type": "stream",
     "text": [
      "  1%|          | 1/100 [00:05<09:32,  5.79s/it]"
     ]
    },
    {
     "name": "stdout",
     "output_type": "stream",
     "text": [
      "0.6690055573687834 0.8742806953934772 0.9298375768913343\n",
      "0.6734854857673345 0.8714917031213821 0.9287788441099215\n"
     ]
    },
    {
     "name": "stderr",
     "output_type": "stream",
     "text": [
      "  2%|▏         | 2/100 [00:10<08:44,  5.35s/it]"
     ]
    },
    {
     "name": "stdout",
     "output_type": "stream",
     "text": [
      "0.6663197818924399 0.8747982802303649 0.932559750759544\n",
      "0.661307070133494 0.8745611194827292 0.9324897185627783\n"
     ]
    },
    {
     "name": "stderr",
     "output_type": "stream",
     "text": [
      "  3%|▎         | 3/100 [00:14<08:11,  5.07s/it]"
     ]
    },
    {
     "name": "stdout",
     "output_type": "stream",
     "text": [
      "0.6562127282806471 0.8785249496027288 0.9387888620043522\n",
      "0.650787933577723 0.876099512602621 0.9371075803282997\n"
     ]
    },
    {
     "name": "stderr",
     "output_type": "stream",
     "text": [
      "  4%|▍         | 4/100 [00:19<07:50,  4.90s/it]"
     ]
    },
    {
     "name": "stdout",
     "output_type": "stream",
     "text": [
      "0.6386312778089561 0.8790680022858333 0.9452028480319106\n",
      "0.6413241743690139 0.8775659610569123 0.941307774015969\n"
     ]
    },
    {
     "name": "stderr",
     "output_type": "stream",
     "text": [
      "  5%|▌         | 5/100 [00:24<08:00,  5.06s/it]"
     ]
    },
    {
     "name": "stdout",
     "output_type": "stream",
     "text": [
      "0.6322365729247823 0.8790498109671071 0.9483800239005412\n",
      "0.6227313517821561 0.8789520786101107 0.9493571856019413\n"
     ]
    },
    {
     "name": "stderr",
     "output_type": "stream",
     "text": [
      "  6%|▌         | 6/100 [00:29<07:56,  5.07s/it]"
     ]
    },
    {
     "name": "stdout",
     "output_type": "stream",
     "text": [
      "0.6127230543716281 0.8812453776800048 0.9545843143866852\n",
      "0.6149067049644785 0.8801268712835899 0.9523688082569174\n"
     ]
    },
    {
     "name": "stderr",
     "output_type": "stream",
     "text": [
      "  7%|▋         | 7/100 [00:34<07:51,  5.07s/it]"
     ]
    },
    {
     "name": "stdout",
     "output_type": "stream",
     "text": [
      "0.6076856318642111 0.8829767312123928 0.9592293929765363\n",
      "0.6045419970757835 0.8829729522107881 0.9553938142946286\n"
     ]
    },
    {
     "name": "stderr",
     "output_type": "stream",
     "text": [
      "  8%|▊         | 8/100 [00:40<08:19,  5.43s/it]"
     ]
    },
    {
     "name": "stdout",
     "output_type": "stream",
     "text": [
      "0.601495927104763 0.8850177239900212 0.9583522684222368\n",
      "0.5974222891222986 0.8853016919197858 0.9567852496844187\n"
     ]
    },
    {
     "name": "stderr",
     "output_type": "stream",
     "text": [
      "  9%|▉         | 9/100 [00:45<07:48,  5.14s/it]"
     ]
    },
    {
     "name": "stdout",
     "output_type": "stream",
     "text": [
      "0.5907308163596134 0.888505334342847 0.9593556514085111\n",
      "0.5945895760373189 0.8866334292114019 0.9576951186173747\n"
     ]
    },
    {
     "name": "stderr",
     "output_type": "stream",
     "text": [
      " 10%|█         | 10/100 [00:49<07:28,  4.98s/it]"
     ]
    },
    {
     "name": "stdout",
     "output_type": "stream",
     "text": [
      "0.5874656818661035 0.8892805249805489 0.9610585454682536\n",
      "0.5892383661157724 0.889931649730134 0.957647091612515\n"
     ]
    },
    {
     "name": "stderr",
     "output_type": "stream",
     "text": [
      " 11%|█         | 11/100 [00:54<07:10,  4.83s/it]"
     ]
    },
    {
     "name": "stdout",
     "output_type": "stream",
     "text": [
      "0.586059527537402 0.8923660235512759 0.9608211959031735\n",
      "0.5851585967484533 0.8914767884685469 0.9587086723986394\n"
     ]
    },
    {
     "name": "stderr",
     "output_type": "stream",
     "text": [
      " 12%|█▏        | 12/100 [00:58<06:53,  4.70s/it]"
     ]
    },
    {
     "name": "stdout",
     "output_type": "stream",
     "text": [
      "0.6014273774390128 0.8942511460008059 0.9606300777580249\n",
      "0.5808543626709397 0.894869011696464 0.9586104298977857\n"
     ]
    },
    {
     "name": "stderr",
     "output_type": "stream",
     "text": [
      " 13%|█▎        | 13/100 [01:03<06:49,  4.70s/it]"
     ]
    },
    {
     "name": "stdout",
     "output_type": "stream",
     "text": [
      "0.5781103006764954 0.8951193423691913 0.9596699741670701\n",
      "0.5782877752495187 0.8956505593162487 0.9591805500222884\n"
     ]
    },
    {
     "name": "stderr",
     "output_type": "stream",
     "text": [
      " 14%|█▍        | 14/100 [01:08<06:42,  4.68s/it]"
     ]
    },
    {
     "name": "stdout",
     "output_type": "stream",
     "text": [
      "0.5758254492984098 0.8930637965365821 0.9605548520273912\n",
      "0.575984377231017 0.8965266823134062 0.9591442313380345\n"
     ]
    },
    {
     "name": "stderr",
     "output_type": "stream",
     "text": [
      " 15%|█▌        | 15/100 [01:12<06:31,  4.61s/it]"
     ]
    },
    {
     "name": "stdout",
     "output_type": "stream",
     "text": [
      "0.5759162718174504 0.8953240156144243 0.9617730711496633\n",
      "0.5728376449208362 0.8985993103630449 0.9597058734660892\n"
     ]
    },
    {
     "name": "stderr",
     "output_type": "stream",
     "text": [
      " 16%|█▌        | 16/100 [01:17<06:27,  4.61s/it]"
     ]
    },
    {
     "name": "stdout",
     "output_type": "stream",
     "text": [
      "0.5707737123264985 0.8979823422932897 0.9618361664343332\n",
      "0.5722804633948095 0.8988097839792412 0.9598412967840682\n"
     ]
    },
    {
     "name": "stderr",
     "output_type": "stream",
     "text": [
      " 17%|█▋        | 17/100 [01:21<06:19,  4.57s/it]"
     ]
    },
    {
     "name": "stdout",
     "output_type": "stream",
     "text": [
      "0.5689875243925581 0.8993666180101164 0.9613193755049615\n",
      "0.5720579650523855 0.8990456407259326 0.9596502904977033\n"
     ]
    },
    {
     "name": "stderr",
     "output_type": "stream",
     "text": [
      " 18%|█▊        | 18/100 [01:26<06:08,  4.50s/it]"
     ]
    },
    {
     "name": "stdout",
     "output_type": "stream",
     "text": [
      "0.5701600489663142 0.9001996131312884 0.9612202536440624\n",
      "0.5709908173102995 0.9000019604856887 0.9594742848954396\n"
     ]
    },
    {
     "name": "stderr",
     "output_type": "stream",
     "text": [
      " 19%|█▉        | 19/100 [01:30<06:12,  4.60s/it]"
     ]
    },
    {
     "name": "stdout",
     "output_type": "stream",
     "text": [
      "0.566136585263645 0.900588802804223 0.9612756380368574\n",
      "0.5678239733507685 0.9012781334855495 0.9598751274769345\n"
     ]
    },
    {
     "name": "stderr",
     "output_type": "stream",
     "text": [
      " 20%|██        | 20/100 [01:35<06:02,  4.53s/it]"
     ]
    },
    {
     "name": "stdout",
     "output_type": "stream",
     "text": [
      "0.5622284294343463 0.900974751495086 0.9613798411125345\n",
      "0.566530081694159 0.9018730480269465 0.9598735101755682\n"
     ]
    },
    {
     "name": "stderr",
     "output_type": "stream",
     "text": [
      " 21%|██        | 21/100 [01:39<05:54,  4.49s/it]"
     ]
    },
    {
     "name": "stdout",
     "output_type": "stream",
     "text": [
      "0.5622193501276128 0.9016400728405494 0.9616332486735655\n",
      "0.5662385262768489 0.9018307969807695 0.9601484022042294\n"
     ]
    },
    {
     "name": "stderr",
     "output_type": "stream",
     "text": [
      " 22%|██▏       | 22/100 [01:44<05:50,  4.49s/it]"
     ]
    },
    {
     "name": "stdout",
     "output_type": "stream",
     "text": [
      "0.5838371166995927 0.9011533818811537 0.9612060109735916\n",
      "0.5665862283912764 0.901961971530446 0.9597194472454137\n"
     ]
    },
    {
     "name": "stderr",
     "output_type": "stream",
     "text": [
      " 23%|██▎       | 23/100 [01:48<05:44,  4.47s/it]"
     ]
    },
    {
     "name": "stdout",
     "output_type": "stream",
     "text": [
      "0.56434172613948 0.9022882483453742 0.9613192058483747\n",
      "0.5656464718179759 0.9020762936419592 0.9600926694857171\n"
     ]
    },
    {
     "name": "stderr",
     "output_type": "stream",
     "text": [
      " 24%|██▍       | 24/100 [01:52<05:37,  4.43s/it]"
     ]
    },
    {
     "name": "stdout",
     "output_type": "stream",
     "text": [
      "0.5600436425676533 0.9028630103788792 0.9603838551534494\n",
      "0.5658546576682617 0.9019971828852489 0.9600713086998138\n"
     ]
    },
    {
     "name": "stderr",
     "output_type": "stream",
     "text": [
      " 25%|██▌       | 25/100 [01:57<05:33,  4.45s/it]"
     ]
    },
    {
     "name": "stdout",
     "output_type": "stream",
     "text": [
      "0.5639175688519197 0.9028812853358525 0.9619528732004653\n",
      "0.5638481624468371 0.9030290277765739 0.960417635817396\n"
     ]
    },
    {
     "name": "stderr",
     "output_type": "stream",
     "text": [
      " 26%|██▌       | 26/100 [02:02<05:34,  4.52s/it]"
     ]
    },
    {
     "name": "stdout",
     "output_type": "stream",
     "text": [
      "0.5620702814822104 0.902793716091225 0.96140503511569\n",
      "0.566363634552609 0.9022912763752395 0.9593965945298057\n"
     ]
    },
    {
     "name": "stderr",
     "output_type": "stream",
     "text": [
      " 27%|██▋       | 27/100 [02:06<05:35,  4.59s/it]"
     ]
    },
    {
     "name": "stdout",
     "output_type": "stream",
     "text": [
      "0.5610890238892798 0.9020599786597014 0.9617029690479539\n",
      "0.563822153450698 0.9031374529535026 0.9602540616149207\n"
     ]
    },
    {
     "name": "stderr",
     "output_type": "stream",
     "text": [
      " 28%|██▊       | 28/100 [02:11<05:25,  4.52s/it]"
     ]
    },
    {
     "name": "stdout",
     "output_type": "stream",
     "text": [
      "0.5603108105706234 0.9021210659443666 0.9614563986473754\n",
      "0.5629814355570113 0.9034863033246949 0.9602592686407481\n"
     ]
    },
    {
     "name": "stderr",
     "output_type": "stream",
     "text": [
      " 29%|██▉       | 29/100 [02:15<05:22,  4.54s/it]"
     ]
    },
    {
     "name": "stdout",
     "output_type": "stream",
     "text": [
      "0.562975388765335 0.9023714893107184 0.9615808841680173\n",
      "0.5635009122855068 0.903373265847225 0.9602290469259307\n"
     ]
    },
    {
     "name": "stderr",
     "output_type": "stream",
     "text": [
      " 30%|███       | 30/100 [02:20<05:15,  4.50s/it]"
     ]
    },
    {
     "name": "stdout",
     "output_type": "stream",
     "text": [
      "0.5648402225737478 0.9016461888873625 0.9612296780674648\n",
      "0.5620173139750138 0.9039224340028289 0.9604835964695492\n"
     ]
    },
    {
     "name": "stderr",
     "output_type": "stream",
     "text": [
      " 31%|███       | 31/100 [02:24<05:10,  4.50s/it]"
     ]
    },
    {
     "name": "stdout",
     "output_type": "stream",
     "text": [
      "0.5626391276425007 0.9008365392918893 0.9618578824774573\n",
      "0.5623853265770761 0.9036505352745031 0.9602901727882849\n"
     ]
    },
    {
     "name": "stderr",
     "output_type": "stream",
     "text": [
      " 32%|███▏      | 32/100 [02:29<05:01,  4.44s/it]"
     ]
    },
    {
     "name": "stdout",
     "output_type": "stream",
     "text": [
      "0.5656685087026334 0.9021200100114981 0.9617052169977307\n",
      "0.5623342149501231 0.903782661691573 0.9603441577088924\n"
     ]
    },
    {
     "name": "stderr",
     "output_type": "stream",
     "text": [
      " 33%|███▎      | 33/100 [02:33<04:58,  4.45s/it]"
     ]
    },
    {
     "name": "stdout",
     "output_type": "stream",
     "text": [
      "0.568230897655674 0.9016759641033008 0.9613584813482432\n",
      "0.5618918830261718 0.9039224494803475 0.960365045712253\n"
     ]
    },
    {
     "name": "stderr",
     "output_type": "stream",
     "text": [
      " 34%|███▍      | 34/100 [02:38<04:54,  4.47s/it]"
     ]
    },
    {
     "name": "stdout",
     "output_type": "stream",
     "text": [
      "0.5588907655547647 0.9026160057258745 0.9616209570538441\n",
      "0.5621331037847372 0.9036663919923034 0.960510771838936\n"
     ]
    },
    {
     "name": "stderr",
     "output_type": "stream",
     "text": [
      " 35%|███▌      | 35/100 [02:43<05:10,  4.77s/it]"
     ]
    },
    {
     "name": "stdout",
     "output_type": "stream",
     "text": [
      "0.561808386035994 0.9023222472927868 0.9608519885736968\n",
      "0.5624034590945965 0.9038487584347318 0.9602306792023096\n"
     ]
    },
    {
     "name": "stderr",
     "output_type": "stream",
     "text": [
      " 36%|███▌      | 36/100 [02:48<05:02,  4.73s/it]"
     ]
    },
    {
     "name": "stdout",
     "output_type": "stream",
     "text": [
      "0.5671127211813833 0.9025127438551502 0.9615303265051194\n",
      "0.5634772248258759 0.9036638691567723 0.9598208387774991\n"
     ]
    },
    {
     "name": "stderr",
     "output_type": "stream",
     "text": [
      " 37%|███▋      | 37/100 [02:52<04:51,  4.63s/it]"
     ]
    },
    {
     "name": "stdout",
     "output_type": "stream",
     "text": [
      "0.5630401095923255 0.9010468894831385 0.9604655787313616\n",
      "0.5627385253170852 0.9040408241221461 0.9598666623162114\n"
     ]
    },
    {
     "name": "stderr",
     "output_type": "stream",
     "text": [
      " 38%|███▊      | 38/100 [02:57<05:00,  4.84s/it]"
     ]
    },
    {
     "name": "stdout",
     "output_type": "stream",
     "text": [
      "0.5607817087687698 0.9019555249439573 0.9613823180987034\n",
      "0.5616637521033672 0.9039575112191373 0.9605487548888816\n"
     ]
    },
    {
     "name": "stderr",
     "output_type": "stream",
     "text": [
      " 39%|███▉      | 39/100 [03:02<04:50,  4.77s/it]"
     ]
    },
    {
     "name": "stdout",
     "output_type": "stream",
     "text": [
      "0.5634933355976554 0.90115071591203 0.9613126401384616\n",
      "0.56119546346908 0.9042265749819738 0.9604446079544683\n"
     ]
    },
    {
     "name": "stderr",
     "output_type": "stream",
     "text": [
      " 40%|████      | 40/100 [03:06<04:38,  4.64s/it]"
     ]
    },
    {
     "name": "stdout",
     "output_type": "stream",
     "text": [
      "0.560697736342748 0.9024920747533561 0.9617760995197395\n",
      "0.5617407215484702 0.9038788467308798 0.9605473857448679\n"
     ]
    },
    {
     "name": "stderr",
     "output_type": "stream",
     "text": [
      " 41%|████      | 41/100 [03:11<04:28,  4.55s/it]"
     ]
    },
    {
     "name": "stdout",
     "output_type": "stream",
     "text": [
      "0.5626456114591337 0.902091510278827 0.9611369098457454\n",
      "0.560796673850601 0.9042425606790958 0.9604508803454815\n"
     ]
    },
    {
     "name": "stderr",
     "output_type": "stream",
     "text": [
      " 42%|████▏     | 42/100 [03:15<04:25,  4.57s/it]"
     ]
    },
    {
     "name": "stdout",
     "output_type": "stream",
     "text": [
      "0.5589387966137306 0.9035452266502402 0.9619299695612331\n",
      "0.5607929883748001 0.9043373553213154 0.9605025484177029\n"
     ]
    },
    {
     "name": "stderr",
     "output_type": "stream",
     "text": [
      " 43%|████▎     | 43/100 [03:20<04:19,  4.56s/it]"
     ]
    },
    {
     "name": "stdout",
     "output_type": "stream",
     "text": [
      "0.5601848561389774 0.9026258541294608 0.9616756119233156\n",
      "0.5605899047523678 0.90468349970634 0.9603832617454993\n"
     ]
    },
    {
     "name": "stderr",
     "output_type": "stream",
     "text": [
      " 44%|████▍     | 44/100 [03:24<04:13,  4.52s/it]"
     ]
    },
    {
     "name": "stdout",
     "output_type": "stream",
     "text": [
      "0.5603261281462276 0.9025881437348368 0.9617116300167156\n",
      "0.5599334138081444 0.9046667607699799 0.9607740197256172\n"
     ]
    },
    {
     "name": "stderr",
     "output_type": "stream",
     "text": [
      " 45%|████▌     | 45/100 [03:29<04:07,  4.50s/it]"
     ]
    },
    {
     "name": "stdout",
     "output_type": "stream",
     "text": [
      "0.5596932420543596 0.9026226340569505 0.9616492218412225\n",
      "0.5617316304934751 0.9037804716226919 0.960528416682414\n"
     ]
    },
    {
     "name": "stderr",
     "output_type": "stream",
     "text": [
      " 46%|████▌     | 46/100 [03:33<03:59,  4.44s/it]"
     ]
    },
    {
     "name": "stdout",
     "output_type": "stream",
     "text": [
      "0.5664870791575488 0.902269178825054 0.9611850244537916\n",
      "0.5609081348876354 0.9045018091155569 0.9604208575844037\n"
     ]
    },
    {
     "name": "stderr",
     "output_type": "stream",
     "text": [
      " 47%|████▋     | 47/100 [03:37<03:53,  4.40s/it]"
     ]
    },
    {
     "name": "stdout",
     "output_type": "stream",
     "text": [
      "0.5582721187787898 0.9027711024001877 0.9611309718652036\n",
      "0.5606438675071964 0.9043877114280632 0.9604539031587496\n"
     ]
    },
    {
     "name": "stderr",
     "output_type": "stream",
     "text": [
      " 48%|████▊     | 48/100 [03:42<03:57,  4.56s/it]"
     ]
    },
    {
     "name": "stdout",
     "output_type": "stream",
     "text": [
      "0.5607225685727363 0.9018376054704431 0.9616889554138757\n",
      "0.5594081493398295 0.9045606056291116 0.9608549468332713\n"
     ]
    },
    {
     "name": "stderr",
     "output_type": "stream",
     "text": [
      " 49%|████▉     | 49/100 [03:47<03:48,  4.48s/it]"
     ]
    },
    {
     "name": "stdout",
     "output_type": "stream",
     "text": [
      "0.561563428476745 0.9034721268223467 0.9618037535434051\n",
      "0.5596554621849172 0.9045853025896159 0.9606686598151791\n"
     ]
    },
    {
     "name": "stderr",
     "output_type": "stream",
     "text": [
      " 50%|█████     | 50/100 [03:51<03:41,  4.44s/it]"
     ]
    },
    {
     "name": "stdout",
     "output_type": "stream",
     "text": [
      "0.5610405662480522 0.9014022370303738 0.9616799296834524\n",
      "0.561360719922952 0.9042911213936864 0.9603836767672784\n"
     ]
    },
    {
     "name": "stderr",
     "output_type": "stream",
     "text": [
      " 51%|█████     | 51/100 [03:55<03:36,  4.42s/it]"
     ]
    },
    {
     "name": "stdout",
     "output_type": "stream",
     "text": [
      "0.5614903050310471 0.903042247142238 0.9614280235832158\n",
      "0.5602927565691748 0.9044522707377081 0.9606384851646872\n"
     ]
    },
    {
     "name": "stderr",
     "output_type": "stream",
     "text": [
      " 52%|█████▏    | 52/100 [04:00<03:33,  4.44s/it]"
     ]
    },
    {
     "name": "stdout",
     "output_type": "stream",
     "text": [
      "0.5635136438351052 0.9006919601271386 0.9613670829371993\n",
      "0.5681080032425452 0.9012213284127206 0.9598227513005435\n"
     ]
    },
    {
     "name": "stderr",
     "output_type": "stream",
     "text": [
      " 53%|█████▎    | 53/100 [04:04<03:28,  4.45s/it]"
     ]
    },
    {
     "name": "stdout",
     "output_type": "stream",
     "text": [
      "0.5642415578458824 0.9010990588397157 0.9613552918044095\n",
      "0.562664526501901 0.9032605843526827 0.9606833866704778\n"
     ]
    },
    {
     "name": "stderr",
     "output_type": "stream",
     "text": [
      " 54%|█████▍    | 54/100 [04:09<03:23,  4.42s/it]"
     ]
    },
    {
     "name": "stdout",
     "output_type": "stream",
     "text": [
      "0.5633670878176595 0.9010766228799533 0.961989451160602\n",
      "0.5606065140726055 0.9043623824688828 0.9607996419722633\n"
     ]
    },
    {
     "name": "stderr",
     "output_type": "stream",
     "text": [
      " 55%|█████▌    | 55/100 [04:13<03:19,  4.44s/it]"
     ]
    },
    {
     "name": "stdout",
     "output_type": "stream",
     "text": [
      "0.5681764887828453 0.9008642862803374 0.9619831399355692\n",
      "0.5650847407830019 0.9016377562096836 0.9605033891576991\n"
     ]
    },
    {
     "name": "stderr",
     "output_type": "stream",
     "text": [
      " 56%|█████▌    | 56/100 [04:18<03:18,  4.51s/it]"
     ]
    },
    {
     "name": "stdout",
     "output_type": "stream",
     "text": [
      "0.5611168412601246 0.9030479136334734 0.9618170291713304\n",
      "0.5605411979210634 0.9047852308564764 0.9605578746715863\n"
     ]
    },
    {
     "name": "stderr",
     "output_type": "stream",
     "text": [
      " 57%|█████▋    | 57/100 [04:22<03:13,  4.51s/it]"
     ]
    },
    {
     "name": "stdout",
     "output_type": "stream",
     "text": [
      "0.559895534842622 0.9024356503009616 0.961796161411141\n",
      "0.5605812405907569 0.9043884724060607 0.9606130126681676\n"
     ]
    },
    {
     "name": "stderr",
     "output_type": "stream",
     "text": [
      " 58%|█████▊    | 58/100 [04:27<03:07,  4.47s/it]"
     ]
    },
    {
     "name": "stdout",
     "output_type": "stream",
     "text": [
      "0.5589081612287783 0.901722602880794 0.961876035732256\n",
      "0.5589988666105364 0.90479814942533 0.9608833223429576\n"
     ]
    },
    {
     "name": "stderr",
     "output_type": "stream",
     "text": [
      " 59%|█████▉    | 59/100 [04:31<03:04,  4.50s/it]"
     ]
    },
    {
     "name": "stdout",
     "output_type": "stream",
     "text": [
      "0.5620978469942131 0.9013938836604529 0.9616641261723822\n",
      "0.5602669591168289 0.9041159597361641 0.9608808429087202\n"
     ]
    },
    {
     "name": "stderr",
     "output_type": "stream",
     "text": [
      " 60%|██████    | 60/100 [04:36<02:58,  4.47s/it]"
     ]
    },
    {
     "name": "stdout",
     "output_type": "stream",
     "text": [
      "0.5591407661344491 0.9027832404007861 0.9616123130507414\n",
      "0.5603081371437589 0.9045304244678521 0.9607389824745887\n"
     ]
    },
    {
     "name": "stderr",
     "output_type": "stream",
     "text": [
      " 61%|██████    | 61/100 [04:40<02:53,  4.44s/it]"
     ]
    },
    {
     "name": "stdout",
     "output_type": "stream",
     "text": [
      "0.5621840015345929 0.9028448190601529 0.9616445732507413\n",
      "0.5591193429379192 0.9049695319887292 0.9607601828139275\n"
     ]
    },
    {
     "name": "stderr",
     "output_type": "stream",
     "text": [
      " 62%|██████▏   | 62/100 [04:44<02:49,  4.46s/it]"
     ]
    },
    {
     "name": "stdout",
     "output_type": "stream",
     "text": [
      "0.5589486355875053 0.9027911128507866 0.9616181237888428\n",
      "0.5605067584978339 0.9042518549290118 0.9607424138917733\n"
     ]
    },
    {
     "name": "stderr",
     "output_type": "stream",
     "text": [
      " 63%|██████▎   | 63/100 [04:49<02:43,  4.42s/it]"
     ]
    },
    {
     "name": "stdout",
     "output_type": "stream",
     "text": [
      "0.556164799601424 0.9028670145599553 0.9620734396539494\n",
      "0.5591345308805964 0.9049922065534703 0.9607525049110126\n"
     ]
    },
    {
     "name": "stderr",
     "output_type": "stream",
     "text": [
      " 64%|██████▍   | 64/100 [04:53<02:38,  4.39s/it]"
     ]
    },
    {
     "name": "stdout",
     "output_type": "stream",
     "text": [
      "0.5649104133540509 0.9028755979350553 0.9620264362965474\n",
      "0.5607856483965351 0.9039704762205467 0.9607871506724247\n"
     ]
    },
    {
     "name": "stderr",
     "output_type": "stream",
     "text": [
      " 65%|██████▌   | 65/100 [04:57<02:33,  4.39s/it]"
     ]
    },
    {
     "name": "stdout",
     "output_type": "stream",
     "text": [
      "0.5641400524214202 0.9031893877283037 0.9616443357315199\n",
      "0.5599755846798303 0.9049915745547944 0.9604358368756298\n"
     ]
    },
    {
     "name": "stderr",
     "output_type": "stream",
     "text": [
      " 66%|██████▌   | 66/100 [05:02<02:31,  4.45s/it]"
     ]
    },
    {
     "name": "stdout",
     "output_type": "stream",
     "text": [
      "0.560880774493311 0.903560563813787 0.9618971070803497\n",
      "0.5589679365425072 0.904822810271624 0.9608169595047504\n"
     ]
    },
    {
     "name": "stderr",
     "output_type": "stream",
     "text": [
      " 67%|██████▋   | 67/100 [05:07<02:28,  4.49s/it]"
     ]
    },
    {
     "name": "stdout",
     "output_type": "stream",
     "text": [
      "0.5602930362318076 0.9032759324044053 0.9619076427543964\n",
      "0.5592525823879804 0.9047395979724864 0.9607514181529517\n"
     ]
    },
    {
     "name": "stderr",
     "output_type": "stream",
     "text": [
      " 68%|██████▊   | 68/100 [05:11<02:22,  4.46s/it]"
     ]
    },
    {
     "name": "stdout",
     "output_type": "stream",
     "text": [
      "0.558261386085959 0.9025958802726858 0.9619021967779569\n",
      "0.559698363886835 0.9047453323931256 0.9606690940905459\n"
     ]
    },
    {
     "name": "stderr",
     "output_type": "stream",
     "text": [
      " 69%|██████▉   | 69/100 [05:15<02:17,  4.43s/it]"
     ]
    },
    {
     "name": "stdout",
     "output_type": "stream",
     "text": [
      "0.5575677996756984 0.9035483317201606 0.9621324207663869\n",
      "0.5602657743427749 0.9044830993751622 0.9606025216021616\n"
     ]
    },
    {
     "name": "stderr",
     "output_type": "stream",
     "text": [
      " 70%|███████   | 70/100 [05:20<02:12,  4.42s/it]"
     ]
    },
    {
     "name": "stdout",
     "output_type": "stream",
     "text": [
      "0.5589913601968802 0.9024010136119157 0.9620559226113515\n",
      "0.559882496218316 0.9044470599731145 0.9606884653390537\n"
     ]
    },
    {
     "name": "stderr",
     "output_type": "stream",
     "text": [
      " 71%|███████   | 71/100 [05:25<02:13,  4.62s/it]"
     ]
    },
    {
     "name": "stdout",
     "output_type": "stream",
     "text": [
      "0.5592384101129045 0.902207809261305 0.9620094876035155\n",
      "0.55977333113112 0.9047127986490398 0.9607521583464342\n"
     ]
    },
    {
     "name": "stderr",
     "output_type": "stream",
     "text": [
      " 72%|███████▏  | 72/100 [05:30<02:11,  4.69s/it]"
     ]
    },
    {
     "name": "stdout",
     "output_type": "stream",
     "text": [
      "0.5617773389115053 0.9013450807433182 0.9619454592076175\n",
      "0.558678841719693 0.9050497958205748 0.960916209610027\n"
     ]
    },
    {
     "name": "stderr",
     "output_type": "stream",
     "text": [
      " 73%|███████▎  | 73/100 [05:35<02:11,  4.85s/it]"
     ]
    },
    {
     "name": "stdout",
     "output_type": "stream",
     "text": [
      "0.5587806830219194 0.9034464394257314 0.9619045550045148\n",
      "0.5588423502585743 0.9049817953426289 0.9608116112859465\n"
     ]
    },
    {
     "name": "stderr",
     "output_type": "stream",
     "text": [
      " 74%|███████▍  | 74/100 [05:40<02:09,  4.97s/it]"
     ]
    },
    {
     "name": "stdout",
     "output_type": "stream",
     "text": [
      "0.5643516483260136 0.9031542387549945 0.9618448613344122\n",
      "0.5588300333510213 0.9048039070622472 0.9609648890975806\n"
     ]
    },
    {
     "name": "stderr",
     "output_type": "stream",
     "text": [
      " 75%|███████▌  | 75/100 [05:46<02:08,  5.14s/it]"
     ]
    },
    {
     "name": "stdout",
     "output_type": "stream",
     "text": [
      "0.558157370370977 0.9030879136251095 0.9617208508522139\n",
      "0.5595419117650255 0.9048305232350573 0.9606580361133469\n"
     ]
    },
    {
     "name": "stderr",
     "output_type": "stream",
     "text": [
      " 76%|███████▌  | 76/100 [05:50<01:59,  4.98s/it]"
     ]
    },
    {
     "name": "stdout",
     "output_type": "stream",
     "text": [
      "0.5623120795277988 0.9016420801584778 0.9615968149215276\n",
      "0.5596990167274924 0.9043685193050057 0.9609716791961742\n"
     ]
    },
    {
     "name": "stderr",
     "output_type": "stream",
     "text": [
      " 77%|███████▋  | 77/100 [05:56<01:56,  5.08s/it]"
     ]
    },
    {
     "name": "stdout",
     "output_type": "stream",
     "text": [
      "0.5604218982014002 0.9029307050850591 0.9609933125105886\n",
      "0.5596163114185183 0.9047093755378439 0.9607154075261007\n"
     ]
    },
    {
     "name": "stderr",
     "output_type": "stream",
     "text": [
      " 78%|███████▊  | 78/100 [06:01<01:53,  5.14s/it]"
     ]
    },
    {
     "name": "stdout",
     "output_type": "stream",
     "text": [
      "0.5568553395131055 0.9034107990777209 0.9619751830416434\n",
      "0.5583838869054566 0.9050466693618187 0.9609737200764698\n"
     ]
    },
    {
     "name": "stderr",
     "output_type": "stream",
     "text": [
      " 79%|███████▉  | 79/100 [06:06<01:46,  5.09s/it]"
     ]
    },
    {
     "name": "stdout",
     "output_type": "stream",
     "text": [
      "0.5565889847044851 0.9034260212386783 0.9614647033373045\n",
      "0.5584530178713658 0.9049935608363474 0.9611393693878413\n"
     ]
    },
    {
     "name": "stderr",
     "output_type": "stream",
     "text": [
      " 80%|████████  | 80/100 [06:11<01:43,  5.16s/it]"
     ]
    },
    {
     "name": "stdout",
     "output_type": "stream",
     "text": [
      "0.5555622532087214 0.9033407938649675 0.9618044406525821\n",
      "0.5595848514663682 0.904781601378366 0.9607685709602997\n"
     ]
    },
    {
     "name": "stderr",
     "output_type": "stream",
     "text": [
      " 81%|████████  | 81/100 [06:18<01:45,  5.56s/it]"
     ]
    },
    {
     "name": "stdout",
     "output_type": "stream",
     "text": [
      "0.5566548569529665 0.9025740820545569 0.9618617336819799\n",
      "0.5595857177244422 0.9044815309866113 0.9607745780796602\n"
     ]
    },
    {
     "name": "stderr",
     "output_type": "stream",
     "text": [
      " 82%|████████▏ | 82/100 [06:24<01:45,  5.85s/it]"
     ]
    },
    {
     "name": "stdout",
     "output_type": "stream",
     "text": [
      "0.5604666579003428 0.9027396648740901 0.9617961614111412\n",
      "0.5600363469311203 0.9041489732833266 0.960842588169259\n"
     ]
    },
    {
     "name": "stderr",
     "output_type": "stream",
     "text": [
      " 83%|████████▎ | 83/100 [06:29<01:32,  5.43s/it]"
     ]
    },
    {
     "name": "stdout",
     "output_type": "stream",
     "text": [
      "0.5611180631553425 0.9034730154787214 0.9614601735064343\n",
      "0.5585275399544384 0.9049024034109976 0.9609760176712678\n"
     ]
    },
    {
     "name": "stderr",
     "output_type": "stream",
     "text": [
      " 84%|████████▍ | 84/100 [06:33<01:21,  5.12s/it]"
     ]
    },
    {
     "name": "stdout",
     "output_type": "stream",
     "text": [
      "0.5595686821376576 0.9031135487478205 0.9612607506713565\n",
      "0.5580561712003644 0.9053222104661869 0.9610071464439945\n"
     ]
    },
    {
     "name": "stderr",
     "output_type": "stream",
     "text": [
      " 85%|████████▌ | 85/100 [06:38<01:13,  4.91s/it]"
     ]
    },
    {
     "name": "stdout",
     "output_type": "stream",
     "text": [
      "0.5574103808870503 0.9033853835054086 0.9616760106162948\n",
      "0.5594389811597311 0.9046440733073065 0.9607803177880807\n"
     ]
    },
    {
     "name": "stderr",
     "output_type": "stream",
     "text": [
      " 86%|████████▌ | 86/100 [06:42<01:06,  4.76s/it]"
     ]
    },
    {
     "name": "stdout",
     "output_type": "stream",
     "text": [
      "0.5581415682446723 0.9024867009959852 0.9616542097448777\n",
      "0.5585225037132593 0.9053460948569649 0.9607282068833423\n"
     ]
    },
    {
     "name": "stderr",
     "output_type": "stream",
     "text": [
      " 87%|████████▋ | 87/100 [06:46<01:00,  4.66s/it]"
     ]
    },
    {
     "name": "stdout",
     "output_type": "stream",
     "text": [
      "0.5618340064497555 0.9019807418754331 0.9615971881660188\n",
      "0.5585005156886133 0.9053079143981784 0.9608383994442917\n"
     ]
    },
    {
     "name": "stderr",
     "output_type": "stream",
     "text": [
      " 88%|████████▊ | 88/100 [06:51<00:54,  4.57s/it]"
     ]
    },
    {
     "name": "stdout",
     "output_type": "stream",
     "text": [
      "0.5582096257630517 0.902281275006529 0.961454099800623\n",
      "0.5600241700769173 0.9043366588329785 0.9608007073374489\n"
     ]
    },
    {
     "name": "stderr",
     "output_type": "stream",
     "text": [
      " 89%|████████▉ | 89/100 [06:55<00:49,  4.51s/it]"
     ]
    },
    {
     "name": "stdout",
     "output_type": "stream",
     "text": [
      "0.5610808945169636 0.9037466484586203 0.961872693497494\n",
      "0.5592338145364713 0.9050501621218482 0.96080427994761\n"
     ]
    },
    {
     "name": "stderr",
     "output_type": "stream",
     "text": [
      " 90%|█████████ | 90/100 [06:59<00:44,  4.47s/it]"
     ]
    },
    {
     "name": "stdout",
     "output_type": "stream",
     "text": [
      "0.5600126084159402 0.9025278091943945 0.9614157913432997\n",
      "0.5588892019684985 0.9051075811362481 0.9608481674311152\n"
     ]
    },
    {
     "name": "stderr",
     "output_type": "stream",
     "text": [
      " 91%|█████████ | 91/100 [07:04<00:40,  4.45s/it]"
     ]
    },
    {
     "name": "stdout",
     "output_type": "stream",
     "text": [
      "0.5613987506604662 0.9013617456640365 0.9617969927284169\n",
      "0.5595833186082146 0.9049113081433622 0.9608405558461136\n"
     ]
    },
    {
     "name": "stderr",
     "output_type": "stream",
     "text": [
      " 92%|█████████▏| 92/100 [07:09<00:36,  4.53s/it]"
     ]
    },
    {
     "name": "stdout",
     "output_type": "stream",
     "text": [
      "0.5618715912688013 0.9029535069621523 0.9618489246096685\n",
      "0.5591291035790809 0.9050572817804017 0.9607212905667852\n"
     ]
    },
    {
     "name": "stderr",
     "output_type": "stream",
     "text": [
      " 93%|█████████▎| 93/100 [07:13<00:31,  4.47s/it]"
     ]
    },
    {
     "name": "stdout",
     "output_type": "stream",
     "text": [
      "0.561071980233286 0.9022442337178811 0.9614887945726454\n",
      "0.5587623250507887 0.9048974635029793 0.9609492487665103\n"
     ]
    },
    {
     "name": "stderr",
     "output_type": "stream",
     "text": [
      " 94%|█████████▍| 94/100 [07:17<00:26,  4.43s/it]"
     ]
    },
    {
     "name": "stdout",
     "output_type": "stream",
     "text": [
      "0.5554987598867978 0.9030441499123576 0.9620925005714883\n",
      "0.5579435339962335 0.9052646031419777 0.9610365573688414\n"
     ]
    },
    {
     "name": "stderr",
     "output_type": "stream",
     "text": [
      " 95%|█████████▌| 95/100 [07:22<00:22,  4.45s/it]"
     ]
    },
    {
     "name": "stdout",
     "output_type": "stream",
     "text": [
      "0.5592061816477308 0.9018864502067014 0.9612531500562633\n",
      "0.5597017447817302 0.9047107581961715 0.9607791433192314\n"
     ]
    },
    {
     "name": "stderr",
     "output_type": "stream",
     "text": [
      " 96%|█████████▌| 96/100 [07:26<00:17,  4.43s/it]"
     ]
    },
    {
     "name": "stdout",
     "output_type": "stream",
     "text": [
      "0.5616295591288922 0.9032216720916524 0.9608474248115089\n",
      "0.5583269606053478 0.9053212843946578 0.9608543842006532\n"
     ]
    },
    {
     "name": "stderr",
     "output_type": "stream",
     "text": [
      " 97%|█████████▋| 97/100 [07:31<00:13,  4.43s/it]"
     ]
    },
    {
     "name": "stdout",
     "output_type": "stream",
     "text": [
      "0.5574330589350532 0.9027741238318613 0.9622134826836103\n",
      "0.5598420275334993 0.9047125019965999 0.9607896793102751\n"
     ]
    },
    {
     "name": "stderr",
     "output_type": "stream",
     "text": [
      " 98%|█████████▊| 98/100 [07:36<00:09,  4.76s/it]"
     ]
    },
    {
     "name": "stdout",
     "output_type": "stream",
     "text": [
      "0.5588142169456856 0.9016752009042968 0.961525185910536\n",
      "0.559430333392325 0.9046375959657743 0.9608220681233521\n"
     ]
    },
    {
     "name": "stderr",
     "output_type": "stream",
     "text": [
      " 99%|█████████▉| 99/100 [07:41<00:04,  4.80s/it]"
     ]
    },
    {
     "name": "stdout",
     "output_type": "stream",
     "text": [
      "0.5568529555610582 0.9035976469215585 0.9618692749172679\n",
      "0.5579143247342063 0.9055014814048964 0.960877721688226\n"
     ]
    },
    {
     "name": "stderr",
     "output_type": "stream",
     "text": [
      "100%|██████████| 100/100 [07:47<00:00,  4.67s/it]"
     ]
    },
    {
     "name": "stdout",
     "output_type": "stream",
     "text": [
      "0.5570190098940158 0.9029221844386441 0.9618039656141386\n"
     ]
    },
    {
     "name": "stderr",
     "output_type": "stream",
     "text": [
      "\n"
     ]
    }
   ],
   "source": [
    "for epoch in tqdm(range(epochs)):\n",
    "    y_train_income_true = []\n",
    "    y_train_income_predict = []\n",
    "    y_train_marry_true = []\n",
    "    y_train_marry_predict = []\n",
    "    total_loss, count = 0, 0\n",
    "    for x, y1, y2 in train_dataload:\n",
    "        x, y1, y2 = x.to(device), y1.to(device), y2.to(device)\n",
    "        predict = model(x)\n",
    "        y_train_income_true += list(y1.squeeze().cpu().numpy())\n",
    "        y_train_marry_true += list(y2.squeeze().cpu().numpy())\n",
    "        y_train_income_predict += list(predict[0].squeeze().cpu().detach().numpy())\n",
    "        y_train_marry_predict += list(predict[1].squeeze().cpu().detach().numpy())\n",
    "        loss1 = loss_fun(predict[0], y1.unsqueeze(1).float())\n",
    "        loss2 = loss_fun(predict[1], y2.unsqueeze(1).float())\n",
    "        loss = loss1 + loss2\n",
    "        # 梯度更新\n",
    "        optimizer.zero_grad()\n",
    "        loss.backward()\n",
    "        optimizer.step()\n",
    "        total_loss += float(loss)\n",
    "        count += 1\n",
    "    \n",
    "    y1_auc = roc_auc_score(y_train_income_true, y_train_income_predict)\n",
    "    y2_auc = roc_auc_score(y_train_marry_true, y_train_marry_predict)\n",
    "    loss_value = total_loss / count\n",
    "    print(loss_value, y1_auc, y2_auc)\n",
    "    writer.add_scalar(\"Train loss\", loss_value, global_step = epoch)\n",
    "    writer.add_scalar(\"Train_y1_auc\", y1_auc, global_step = epoch)\n",
    "    writer.add_scalar(\"Train_y2_auc\", y2_auc, global_step = epoch)\n",
    "    \n",
    "    # 验证\n",
    "    total_eval_loss = 0\n",
    "    model.eval()\n",
    "    count_eval = 0\n",
    "    y_val_income_true = []\n",
    "    y_val_marry_true = []\n",
    "    y_val_income_predict = []\n",
    "    y_val_marry_predict = []\n",
    "    for x, y1, y2 in test_dataload:\n",
    "        x, y1, y2 = x.to(device), y1.to(device), y2.to(device)\n",
    "        predict = model(x)\n",
    "        y_val_income_true += list(y1.squeeze().cpu().numpy())\n",
    "        y_val_marry_true += list(y2.squeeze().cpu().numpy())\n",
    "        y_val_income_predict += list(predict[0].squeeze().cpu().detach().numpy())\n",
    "        y_val_marry_predict += list(predict[1].squeeze().cpu().detach().numpy())\n",
    "        loss_1 = loss_fun(predict[0], y1.unsqueeze(1).float())\n",
    "        loss_2 = loss_fun(predict[1], y2.unsqueeze(1).float())\n",
    "        loss = loss_1 + loss_2\n",
    "        total_eval_loss += float(loss)\n",
    "        count_eval += 1\n",
    "        \n",
    "    y1_val_auc = roc_auc_score(y_val_income_true, y_val_income_predict)\n",
    "    y2_val_auc = roc_auc_score(y_val_marry_true, y_val_marry_predict)\n",
    "    print(total_eval_loss / count_eval, y1_val_auc, y2_val_auc)\n",
    "    writer.add_scalar(\"Val loss\",   total_eval_loss / count_eval, global_step = epoch + 1)\n",
    "    writer.add_scalar(\"Val_y1_auc\", y1_val_auc, global_step = epoch + 1)\n",
    "    writer.add_scalar(\"Val_y2_auc\", y2_val_auc, global_step = epoch + 1)\n",
    "    \n",
    "writer.close()        "
   ]
  },
  {
   "cell_type": "markdown",
   "metadata": {},
   "source": [
    "# 知识点"
   ]
  },
  {
   "cell_type": "markdown",
   "metadata": {},
   "source": [
    "## BCELoss和BCEWithLogitsLoss的区别\n",
    "[BCELoss和BCEWithLogitsLoss](https://blog.csdn.net/qq_22210253/article/details/85222093)\n",
    "\n",
    "$$\n",
    "BCELoss = − n/1∑(y_{n}×lnx_{n}+(1−y_{n})×ln(1−x_{n}))\n",
    "$$"
   ]
  },
  {
   "cell_type": "code",
   "execution_count": null,
   "metadata": {},
   "outputs": [],
   "source": [
    "import torch\n",
    "from torch import nn"
   ]
  },
  {
   "cell_type": "code",
   "execution_count": null,
   "metadata": {},
   "outputs": [],
   "source": [
    "input_ = torch.rand(3, 3)\n",
    "input_"
   ]
  },
  {
   "cell_type": "code",
   "execution_count": null,
   "metadata": {},
   "outputs": [],
   "source": [
    "target = torch.FloatTensor([[0, 1, 1]\n",
    "                           , [0, 0, 1]\n",
    "                           , [1, 0, 1]])\n",
    "activation = nn.Sigmoid()\n",
    "predict = activation(input_)\n",
    "predict"
   ]
  },
  {
   "cell_type": "code",
   "execution_count": null,
   "metadata": {},
   "outputs": [],
   "source": [
    "loss = nn.BCELoss()\n",
    "loss(predict, target)"
   ]
  },
  {
   "cell_type": "code",
   "execution_count": null,
   "metadata": {},
   "outputs": [],
   "source": [
    "# Sigmoid + BCEloss\n",
    "loss = nn.BCEWithLogitsLoss()\n",
    "loss(input_, target)"
   ]
  },
  {
   "cell_type": "markdown",
   "metadata": {},
   "source": [
    "## einsum函数\n",
    "[一文学会 Pytorch 中的 einsum](https://zhuanlan.zhihu.com/p/361209187)"
   ]
  },
  {
   "cell_type": "code",
   "execution_count": null,
   "metadata": {},
   "outputs": [],
   "source": [
    "import numpy as np\n",
    "A = torch.tensor([[5],[3]])\n",
    "\n",
    "B = torch.tensor([[[0, 1, 0],\n",
    "              [1, 1, 0],\n",
    "\n",
    "              [1, 1, 1]]])"
   ]
  },
  {
   "cell_type": "code",
   "execution_count": null,
   "metadata": {},
   "outputs": [],
   "source": [
    "A.shape, B.shape"
   ]
  },
  {
   "cell_type": "code",
   "execution_count": null,
   "metadata": {},
   "outputs": [],
   "source": [
    "torch.einsum('ij,jkl->ikl', A, B)"
   ]
  },
  {
   "cell_type": "code",
   "execution_count": null,
   "metadata": {},
   "outputs": [],
   "source": [
    "C = B.permute(1, 0, 2)\n",
    "C"
   ]
  },
  {
   "cell_type": "code",
   "execution_count": null,
   "metadata": {},
   "outputs": [],
   "source": [
    "torch.matmul(A, C).permute(1,0, 2)"
   ]
  },
  {
   "cell_type": "markdown",
   "metadata": {},
   "source": [
    "## nn.Parameter的使用\n",
    "[pytorch学习笔记（十六）：Parameters](https://blog.csdn.net/qq_43328040/article/details/107761093?utm_medium=distribute.pc_relevant.none-task-blog-2~default~baidujs_title~default-1.no_search_link&spm=1001.2101.3001.4242.2)"
   ]
  },
  {
   "cell_type": "code",
   "execution_count": null,
   "metadata": {},
   "outputs": [],
   "source": []
  },
  {
   "cell_type": "code",
   "execution_count": null,
   "metadata": {},
   "outputs": [],
   "source": []
  },
  {
   "cell_type": "code",
   "execution_count": null,
   "metadata": {},
   "outputs": [],
   "source": []
  },
  {
   "cell_type": "code",
   "execution_count": null,
   "metadata": {},
   "outputs": [],
   "source": []
  },
  {
   "cell_type": "code",
   "execution_count": null,
   "metadata": {},
   "outputs": [],
   "source": []
  },
  {
   "cell_type": "code",
   "execution_count": null,
   "metadata": {},
   "outputs": [],
   "source": []
  },
  {
   "cell_type": "code",
   "execution_count": null,
   "metadata": {},
   "outputs": [],
   "source": []
  }
 ],
 "metadata": {
  "kernelspec": {
   "display_name": "Python 3",
   "language": "python",
   "name": "python3"
  },
  "language_info": {
   "codemirror_mode": {
    "name": "ipython",
    "version": 3
   },
   "file_extension": ".py",
   "mimetype": "text/x-python",
   "name": "python",
   "nbconvert_exporter": "python",
   "pygments_lexer": "ipython3",
   "version": "3.8.5"
  },
  "toc-autonumbering": true
 },
 "nbformat": 4,
 "nbformat_minor": 4
}
