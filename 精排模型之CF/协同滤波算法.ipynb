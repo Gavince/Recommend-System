{
 "cells": [
  {
   "cell_type": "code",
   "execution_count": 40,
   "metadata": {},
   "outputs": [],
   "source": [
    "import pandas as pd\n",
    "import numpy as np\n",
    "import matplotlib.pyplot as plt\n",
    "from sklearn.metrics import jaccard_score\n",
    "from sklearn.metrics.pairwise import pairwise_distances\n",
    "from sklearn.metrics.pairwise import cosine_similarity\n",
    "import warnings\n",
    "import os\n",
    "warnings.filterwarnings(\"ignore\")"
   ]
  },
  {
   "cell_type": "markdown",
   "metadata": {},
   "source": [
    "# 协同滤波算法"
   ]
  },
  {
   "cell_type": "markdown",
   "metadata": {},
   "source": [
    "**原理**：所谓协同过滤， 基本思想是根据用户之前的喜好以及其他兴趣相近的用户的选择来给用户推荐物品(基于对用户历史行为数据的挖掘发现用户的喜好偏向， 并预测用户可能喜好的产品进行推荐)，一般是仅仅基于用户的行为数据（评价、购买、下载等）,<font color= \"red\"> 而不依赖于项的任何附加信息（物品自身特征）或者用户的任何附加信息（年龄， 性别等）</font>。  \n",
    "**核心思想**：算法思想：<font color = \"blue\">物以类聚，人以群分</font>。  \n",
    "实现协同过滤推荐有以下几个步骤：\n",
    "\n",
    "1. **找出最相似的人或物品：TOP-N相似的人或物品**\n",
    "\n",
    "   通过计算两两的相似度来进行排序，即可找出TOP-N相似的人或物品\n",
    "\n",
    "2. **根据相似的人或物品产生推荐结果**\n",
    "\n",
    "   利用TOP-N结果生成初始推荐结果，然后过滤掉用户已经有过记录的物品或明确表示不感兴趣的物品"
   ]
  },
  {
   "cell_type": "markdown",
   "metadata": {},
   "source": [
    "## User-based CF（计算用户之间的相似度推荐）\n",
    "目标：使其具有很强的社交特性，如新闻推荐。"
   ]
  },
  {
   "cell_type": "markdown",
   "metadata": {},
   "source": [
    "![](./imgs/基于用户的协同过滤推荐1.png)\n",
    "<!-- ![](./imgs/基于用户的协同过滤推荐.png) -->"
   ]
  },
  {
   "cell_type": "markdown",
   "metadata": {},
   "source": [
    "### 构建数据"
   ]
  },
  {
   "cell_type": "code",
   "execution_count": 2,
   "metadata": {},
   "outputs": [],
   "source": [
    "users = [\"User1\", \"User2\", \"User3\", \"User4\", \"User5\"]\n",
    "items = [\"Item A\", \"Item B\", \"Item C\", \"Item D\", \"Item E\"]\n",
    "# 构建数据集\n",
    "datasets = [\n",
    "    [\"buy\",None,\"buy\",\"buy\",None],\n",
    "    [\"buy\",None,None,\"buy\",\"buy\"],\n",
    "    [\"buy\",None,\"buy\",None,None],\n",
    "    [None,\"buy\",None,\"buy\",\"buy\"],\n",
    "    [\"buy\",\"buy\",\"buy\",None,\"buy\"],\n",
    "]"
   ]
  },
  {
   "cell_type": "code",
   "execution_count": 3,
   "metadata": {},
   "outputs": [],
   "source": [
    "users = [\"User1\", \"User2\", \"User3\", \"User4\", \"User5\"]  \n",
    "items = [\"Item A\", \"Item B\", \"Item C\", \"Item D\", \"Item E\"]\n",
    "# 用户购买记录数据集\n",
    "datasets = [\n",
    "    [1,0,1,1,0],\n",
    "    [1,0,0,1,1],\n",
    "    [1,0,1,0,0],\n",
    "    [0,1,0,1,1],\n",
    "    [1,1,1,0,1],\n",
    "]"
   ]
  },
  {
   "cell_type": "code",
   "execution_count": 4,
   "metadata": {},
   "outputs": [
    {
     "data": {
      "text/html": [
       "<div>\n",
       "<style scoped>\n",
       "    .dataframe tbody tr th:only-of-type {\n",
       "        vertical-align: middle;\n",
       "    }\n",
       "\n",
       "    .dataframe tbody tr th {\n",
       "        vertical-align: top;\n",
       "    }\n",
       "\n",
       "    .dataframe thead th {\n",
       "        text-align: right;\n",
       "    }\n",
       "</style>\n",
       "<table border=\"1\" class=\"dataframe\">\n",
       "  <thead>\n",
       "    <tr style=\"text-align: right;\">\n",
       "      <th></th>\n",
       "      <th>Item A</th>\n",
       "      <th>Item B</th>\n",
       "      <th>Item C</th>\n",
       "      <th>Item D</th>\n",
       "      <th>Item E</th>\n",
       "    </tr>\n",
       "  </thead>\n",
       "  <tbody>\n",
       "    <tr>\n",
       "      <th>User1</th>\n",
       "      <td>1</td>\n",
       "      <td>0</td>\n",
       "      <td>1</td>\n",
       "      <td>1</td>\n",
       "      <td>0</td>\n",
       "    </tr>\n",
       "    <tr>\n",
       "      <th>User2</th>\n",
       "      <td>1</td>\n",
       "      <td>0</td>\n",
       "      <td>0</td>\n",
       "      <td>1</td>\n",
       "      <td>1</td>\n",
       "    </tr>\n",
       "    <tr>\n",
       "      <th>User3</th>\n",
       "      <td>1</td>\n",
       "      <td>0</td>\n",
       "      <td>1</td>\n",
       "      <td>0</td>\n",
       "      <td>0</td>\n",
       "    </tr>\n",
       "    <tr>\n",
       "      <th>User4</th>\n",
       "      <td>0</td>\n",
       "      <td>1</td>\n",
       "      <td>0</td>\n",
       "      <td>1</td>\n",
       "      <td>1</td>\n",
       "    </tr>\n",
       "    <tr>\n",
       "      <th>User5</th>\n",
       "      <td>1</td>\n",
       "      <td>1</td>\n",
       "      <td>1</td>\n",
       "      <td>0</td>\n",
       "      <td>1</td>\n",
       "    </tr>\n",
       "  </tbody>\n",
       "</table>\n",
       "</div>"
      ],
      "text/plain": [
       "       Item A  Item B  Item C  Item D  Item E\n",
       "User1       1       0       1       1       0\n",
       "User2       1       0       0       1       1\n",
       "User3       1       0       1       0       0\n",
       "User4       0       1       0       1       1\n",
       "User5       1       1       1       0       1"
      ]
     },
     "execution_count": 4,
     "metadata": {},
     "output_type": "execute_result"
    }
   ],
   "source": [
    "df = pd.DataFrame(datasets,\n",
    "                  columns=items,\n",
    "                  index=users)\n",
    "df"
   ]
  },
  {
   "cell_type": "markdown",
   "metadata": {},
   "source": [
    "### 计算余弦相似度"
   ]
  },
  {
   "cell_type": "code",
   "execution_count": 5,
   "metadata": {},
   "outputs": [
    {
     "data": {
      "text/html": [
       "<div>\n",
       "<style scoped>\n",
       "    .dataframe tbody tr th:only-of-type {\n",
       "        vertical-align: middle;\n",
       "    }\n",
       "\n",
       "    .dataframe tbody tr th {\n",
       "        vertical-align: top;\n",
       "    }\n",
       "\n",
       "    .dataframe thead th {\n",
       "        text-align: right;\n",
       "    }\n",
       "</style>\n",
       "<table border=\"1\" class=\"dataframe\">\n",
       "  <thead>\n",
       "    <tr style=\"text-align: right;\">\n",
       "      <th></th>\n",
       "      <th>User1</th>\n",
       "      <th>User2</th>\n",
       "      <th>User3</th>\n",
       "      <th>User4</th>\n",
       "      <th>User5</th>\n",
       "    </tr>\n",
       "  </thead>\n",
       "  <tbody>\n",
       "    <tr>\n",
       "      <th>User1</th>\n",
       "      <td>1.000000</td>\n",
       "      <td>0.666667</td>\n",
       "      <td>0.816497</td>\n",
       "      <td>0.333333</td>\n",
       "      <td>0.577350</td>\n",
       "    </tr>\n",
       "    <tr>\n",
       "      <th>User2</th>\n",
       "      <td>0.666667</td>\n",
       "      <td>1.000000</td>\n",
       "      <td>0.408248</td>\n",
       "      <td>0.666667</td>\n",
       "      <td>0.577350</td>\n",
       "    </tr>\n",
       "    <tr>\n",
       "      <th>User3</th>\n",
       "      <td>0.816497</td>\n",
       "      <td>0.408248</td>\n",
       "      <td>1.000000</td>\n",
       "      <td>0.000000</td>\n",
       "      <td>0.707107</td>\n",
       "    </tr>\n",
       "    <tr>\n",
       "      <th>User4</th>\n",
       "      <td>0.333333</td>\n",
       "      <td>0.666667</td>\n",
       "      <td>0.000000</td>\n",
       "      <td>1.000000</td>\n",
       "      <td>0.577350</td>\n",
       "    </tr>\n",
       "    <tr>\n",
       "      <th>User5</th>\n",
       "      <td>0.577350</td>\n",
       "      <td>0.577350</td>\n",
       "      <td>0.707107</td>\n",
       "      <td>0.577350</td>\n",
       "      <td>1.000000</td>\n",
       "    </tr>\n",
       "  </tbody>\n",
       "</table>\n",
       "</div>"
      ],
      "text/plain": [
       "          User1     User2     User3     User4     User5\n",
       "User1  1.000000  0.666667  0.816497  0.333333  0.577350\n",
       "User2  0.666667  1.000000  0.408248  0.666667  0.577350\n",
       "User3  0.816497  0.408248  1.000000  0.000000  0.707107\n",
       "User4  0.333333  0.666667  0.000000  1.000000  0.577350\n",
       "User5  0.577350  0.577350  0.707107  0.577350  1.000000"
      ]
     },
     "execution_count": 5,
     "metadata": {},
     "output_type": "execute_result"
    }
   ],
   "source": [
    "user_sim_cos = pd.DataFrame(cosine_similarity(df.values), columns=users, index=users)\n",
    "user_sim_cos"
   ]
  },
  {
   "cell_type": "code",
   "execution_count": 6,
   "metadata": {},
   "outputs": [],
   "source": [
    "# 获取用户之间最相关的用户\n",
    "topN_users = {}\n",
    "\n",
    "for i in user_sim_cos.index:\n",
    "    _df = user_sim_cos.loc[i].drop([i])  # 消除自身\n",
    "    _df_sorted = _df.sort_values(ascending=False)  # 降序\n",
    "    top2 = list(_df_sorted.index[:2])\n",
    "    topN_users[i] = top2"
   ]
  },
  {
   "cell_type": "code",
   "execution_count": 7,
   "metadata": {},
   "outputs": [
    {
     "data": {
      "text/plain": [
       "{'User1': ['User3', 'User2'],\n",
       " 'User2': ['User1', 'User4'],\n",
       " 'User3': ['User1', 'User5'],\n",
       " 'User4': ['User2', 'User5'],\n",
       " 'User5': ['User3', 'User1']}"
      ]
     },
     "execution_count": 7,
     "metadata": {},
     "output_type": "execute_result"
    }
   ],
   "source": [
    "topN_users"
   ]
  },
  {
   "cell_type": "code",
   "execution_count": 8,
   "metadata": {},
   "outputs": [],
   "source": [
    "# 计算推荐（在候选推荐的物品中过滤已经用户已经购买过的物品）\n",
    "re_results = {}\n",
    "\n",
    "for user, simi_users in topN_users.items():\n",
    "    re_result = set()\n",
    "    for simi_user in simi_users:\n",
    "        re_result = re_result.union(set(df.loc[simi_user].replace(0, np.nan).dropna().index)) # 相似用户的购买情况\n",
    "        re_result -= set(df.loc[user].replace(0, np.nan).dropna().index)  # 消除已购买物品\n",
    "        re_results[user] = re_result"
   ]
  },
  {
   "cell_type": "code",
   "execution_count": 9,
   "metadata": {},
   "outputs": [
    {
     "data": {
      "text/plain": [
       "{'User1': {'Item E'},\n",
       " 'User2': {'Item B', 'Item C'},\n",
       " 'User3': {'Item B', 'Item D', 'Item E'},\n",
       " 'User4': {'Item A', 'Item C'},\n",
       " 'User5': {'Item D'}}"
      ]
     },
     "execution_count": 9,
     "metadata": {},
     "output_type": "execute_result"
    }
   ],
   "source": [
    "re_results"
   ]
  },
  {
   "cell_type": "markdown",
   "metadata": {},
   "source": [
    "### 计算杰卡德相似系数"
   ]
  },
  {
   "cell_type": "code",
   "execution_count": 10,
   "metadata": {},
   "outputs": [
    {
     "data": {
      "text/plain": [
       "0.2"
      ]
     },
     "execution_count": 10,
     "metadata": {},
     "output_type": "execute_result"
    }
   ],
   "source": [
    "#　score=交集/并集\n",
    "jaccard_score(df[\"Item A\"], df[\"Item B\"])"
   ]
  },
  {
   "cell_type": "code",
   "execution_count": 11,
   "metadata": {},
   "outputs": [
    {
     "data": {
      "text/html": [
       "<div>\n",
       "<style scoped>\n",
       "    .dataframe tbody tr th:only-of-type {\n",
       "        vertical-align: middle;\n",
       "    }\n",
       "\n",
       "    .dataframe tbody tr th {\n",
       "        vertical-align: top;\n",
       "    }\n",
       "\n",
       "    .dataframe thead th {\n",
       "        text-align: right;\n",
       "    }\n",
       "</style>\n",
       "<table border=\"1\" class=\"dataframe\">\n",
       "  <thead>\n",
       "    <tr style=\"text-align: right;\">\n",
       "      <th></th>\n",
       "      <th>User1</th>\n",
       "      <th>User2</th>\n",
       "      <th>User3</th>\n",
       "      <th>User4</th>\n",
       "      <th>User5</th>\n",
       "    </tr>\n",
       "  </thead>\n",
       "  <tbody>\n",
       "    <tr>\n",
       "      <th>User1</th>\n",
       "      <td>1.000000</td>\n",
       "      <td>0.50</td>\n",
       "      <td>0.666667</td>\n",
       "      <td>0.2</td>\n",
       "      <td>0.4</td>\n",
       "    </tr>\n",
       "    <tr>\n",
       "      <th>User2</th>\n",
       "      <td>0.500000</td>\n",
       "      <td>1.00</td>\n",
       "      <td>0.250000</td>\n",
       "      <td>0.5</td>\n",
       "      <td>0.4</td>\n",
       "    </tr>\n",
       "    <tr>\n",
       "      <th>User3</th>\n",
       "      <td>0.666667</td>\n",
       "      <td>0.25</td>\n",
       "      <td>1.000000</td>\n",
       "      <td>0.0</td>\n",
       "      <td>0.5</td>\n",
       "    </tr>\n",
       "    <tr>\n",
       "      <th>User4</th>\n",
       "      <td>0.200000</td>\n",
       "      <td>0.50</td>\n",
       "      <td>0.000000</td>\n",
       "      <td>1.0</td>\n",
       "      <td>0.4</td>\n",
       "    </tr>\n",
       "    <tr>\n",
       "      <th>User5</th>\n",
       "      <td>0.400000</td>\n",
       "      <td>0.40</td>\n",
       "      <td>0.500000</td>\n",
       "      <td>0.4</td>\n",
       "      <td>1.0</td>\n",
       "    </tr>\n",
       "  </tbody>\n",
       "</table>\n",
       "</div>"
      ],
      "text/plain": [
       "          User1  User2     User3  User4  User5\n",
       "User1  1.000000   0.50  0.666667    0.2    0.4\n",
       "User2  0.500000   1.00  0.250000    0.5    0.4\n",
       "User3  0.666667   0.25  1.000000    0.0    0.5\n",
       "User4  0.200000   0.50  0.000000    1.0    0.4\n",
       "User5  0.400000   0.40  0.500000    0.4    1.0"
      ]
     },
     "execution_count": 11,
     "metadata": {},
     "output_type": "execute_result"
    }
   ],
   "source": [
    "# 用户相似度矩阵\n",
    "use_similarity = 1 - pairwise_distances(df.values, metric=\"jaccard\")\n",
    "use_similarity = pd.DataFrame(use_similarity, columns=users, index=users)\n",
    "use_similarity"
   ]
  },
  {
   "cell_type": "code",
   "execution_count": 12,
   "metadata": {},
   "outputs": [],
   "source": [
    "# 获取用户之间最相关的用户\n",
    "topN_users = {}\n",
    "\n",
    "for i in use_similarity.index:\n",
    "    _df = use_similarity.loc[i].drop([i])\n",
    "    _df_sorted = _df.sort_values(ascending=False)  # 降序\n",
    "    top2 = list(_df_sorted.index[:2])\n",
    "    topN_users[i] = top2"
   ]
  },
  {
   "cell_type": "code",
   "execution_count": 13,
   "metadata": {},
   "outputs": [
    {
     "data": {
      "text/plain": [
       "{'User1': ['User3', 'User2'],\n",
       " 'User2': ['User1', 'User4'],\n",
       " 'User3': ['User1', 'User5'],\n",
       " 'User4': ['User2', 'User5'],\n",
       " 'User5': ['User3', 'User1']}"
      ]
     },
     "execution_count": 13,
     "metadata": {},
     "output_type": "execute_result"
    }
   ],
   "source": [
    "# 得到相关度N的用户(rank)\n",
    "topN_users"
   ]
  },
  {
   "cell_type": "code",
   "execution_count": 14,
   "metadata": {},
   "outputs": [],
   "source": [
    "# 计算推荐（在候选推荐的物品中过滤已经用户已经购买过的物品）\n",
    "re_results = {}\n",
    "\n",
    "for user, simi_users in topN_users.items():\n",
    "    re_result = set()\n",
    "    for simi_user in simi_users:\n",
    "        re_result = re_result.union(set(df.loc[simi_user].replace(0, np.nan).dropna().index)) # 相似用户的购买情况\n",
    "        re_result -= set(df.loc[user].replace(0, np.nan).dropna().index)  # 消除已购买物品\n",
    "        re_results[user] = re_result"
   ]
  },
  {
   "cell_type": "code",
   "execution_count": 15,
   "metadata": {},
   "outputs": [
    {
     "data": {
      "text/plain": [
       "{'User1': {'Item E'},\n",
       " 'User2': {'Item B', 'Item C'},\n",
       " 'User3': {'Item B', 'Item D', 'Item E'},\n",
       " 'User4': {'Item A', 'Item C'},\n",
       " 'User5': {'Item D'}}"
      ]
     },
     "execution_count": 15,
     "metadata": {},
     "output_type": "execute_result"
    }
   ],
   "source": [
    "# 推荐商品\n",
    "re_results"
   ]
  },
  {
   "cell_type": "markdown",
   "metadata": {},
   "source": [
    "## Item-based CF（计算商品之间的相似度推荐）\n",
    "目标：更适用于兴趣变化比较稳定的应用。如电商推荐、视频推荐。"
   ]
  },
  {
   "cell_type": "markdown",
   "metadata": {},
   "source": [
    "![](./imgs/基于物品的协同过滤推荐1.png)\n",
    "<!-- ![](./imgs/基于物品的协同过滤推荐.png) -->"
   ]
  },
  {
   "cell_type": "code",
   "execution_count": 16,
   "metadata": {},
   "outputs": [
    {
     "data": {
      "text/html": [
       "<div>\n",
       "<style scoped>\n",
       "    .dataframe tbody tr th:only-of-type {\n",
       "        vertical-align: middle;\n",
       "    }\n",
       "\n",
       "    .dataframe tbody tr th {\n",
       "        vertical-align: top;\n",
       "    }\n",
       "\n",
       "    .dataframe thead th {\n",
       "        text-align: right;\n",
       "    }\n",
       "</style>\n",
       "<table border=\"1\" class=\"dataframe\">\n",
       "  <thead>\n",
       "    <tr style=\"text-align: right;\">\n",
       "      <th></th>\n",
       "      <th>Item A</th>\n",
       "      <th>Item B</th>\n",
       "      <th>Item C</th>\n",
       "      <th>Item D</th>\n",
       "      <th>Item E</th>\n",
       "    </tr>\n",
       "  </thead>\n",
       "  <tbody>\n",
       "    <tr>\n",
       "      <th>Item A</th>\n",
       "      <td>1.00</td>\n",
       "      <td>0.200000</td>\n",
       "      <td>0.75</td>\n",
       "      <td>0.40</td>\n",
       "      <td>0.400000</td>\n",
       "    </tr>\n",
       "    <tr>\n",
       "      <th>Item B</th>\n",
       "      <td>0.20</td>\n",
       "      <td>1.000000</td>\n",
       "      <td>0.25</td>\n",
       "      <td>0.25</td>\n",
       "      <td>0.666667</td>\n",
       "    </tr>\n",
       "    <tr>\n",
       "      <th>Item C</th>\n",
       "      <td>0.75</td>\n",
       "      <td>0.250000</td>\n",
       "      <td>1.00</td>\n",
       "      <td>0.20</td>\n",
       "      <td>0.200000</td>\n",
       "    </tr>\n",
       "    <tr>\n",
       "      <th>Item D</th>\n",
       "      <td>0.40</td>\n",
       "      <td>0.250000</td>\n",
       "      <td>0.20</td>\n",
       "      <td>1.00</td>\n",
       "      <td>0.500000</td>\n",
       "    </tr>\n",
       "    <tr>\n",
       "      <th>Item E</th>\n",
       "      <td>0.40</td>\n",
       "      <td>0.666667</td>\n",
       "      <td>0.20</td>\n",
       "      <td>0.50</td>\n",
       "      <td>1.000000</td>\n",
       "    </tr>\n",
       "  </tbody>\n",
       "</table>\n",
       "</div>"
      ],
      "text/plain": [
       "        Item A    Item B  Item C  Item D    Item E\n",
       "Item A    1.00  0.200000    0.75    0.40  0.400000\n",
       "Item B    0.20  1.000000    0.25    0.25  0.666667\n",
       "Item C    0.75  0.250000    1.00    0.20  0.200000\n",
       "Item D    0.40  0.250000    0.20    1.00  0.500000\n",
       "Item E    0.40  0.666667    0.20    0.50  1.000000"
      ]
     },
     "execution_count": 16,
     "metadata": {},
     "output_type": "execute_result"
    }
   ],
   "source": [
    "item_similarity = 1 - pairwise_distances(df.T.values, metric=\"jaccard\")\n",
    "item_similarity = pd.DataFrame(item_similarity, columns=items, index=items)\n",
    "item_similarity"
   ]
  },
  {
   "cell_type": "code",
   "execution_count": 17,
   "metadata": {},
   "outputs": [],
   "source": [
    "# 商品之间\n",
    "topN_items = {}\n",
    "\n",
    "for i in item_similarity.index:\n",
    "    _df = item_similarity.loc[i].drop([i])\n",
    "    _df_sorted = _df.sort_values(ascending=False)  # 降序\n",
    "    top2 = list(_df_sorted.index[:2])\n",
    "    topN_items[i] = top2"
   ]
  },
  {
   "cell_type": "code",
   "execution_count": 18,
   "metadata": {},
   "outputs": [
    {
     "data": {
      "text/plain": [
       "{'Item A': ['Item C', 'Item D'],\n",
       " 'Item B': ['Item E', 'Item C'],\n",
       " 'Item C': ['Item A', 'Item B'],\n",
       " 'Item D': ['Item E', 'Item A'],\n",
       " 'Item E': ['Item B', 'Item D']}"
      ]
     },
     "execution_count": 18,
     "metadata": {},
     "output_type": "execute_result"
    }
   ],
   "source": [
    "# Item rank\n",
    "topN_items"
   ]
  },
  {
   "cell_type": "code",
   "execution_count": 19,
   "metadata": {},
   "outputs": [],
   "source": [
    "# 计算推荐物品\n",
    "re_results = {}\n",
    "\n",
    "for user in df.index:\n",
    "    re_result = set()\n",
    "    \n",
    "    for item in df.loc[user].replace(0, np.nan).dropna().index: # 每一个用户的购物情况\n",
    "        re_result = re_result.union(topN_items[item])\n",
    "        \n",
    "    re_result -= set(df.loc[user].replace(0, np.nan).dropna().index)  #　消除已购买的\n",
    "    re_results[user] = re_result"
   ]
  },
  {
   "cell_type": "code",
   "execution_count": 20,
   "metadata": {},
   "outputs": [
    {
     "data": {
      "text/plain": [
       "{'User1': {'Item B', 'Item E'},\n",
       " 'User2': {'Item B', 'Item C'},\n",
       " 'User3': {'Item B', 'Item D'},\n",
       " 'User4': {'Item A', 'Item C'},\n",
       " 'User5': {'Item D'}}"
      ]
     },
     "execution_count": 20,
     "metadata": {},
     "output_type": "execute_result"
    }
   ],
   "source": [
    "# 推荐商品\n",
    "re_results"
   ]
  },
  {
   "cell_type": "markdown",
   "metadata": {},
   "source": [
    "## 两种算法的比较"
   ]
  },
  {
   "cell_type": "markdown",
   "metadata": {},
   "source": [
    "![](./imgs/similarity_calc15.png)\n",
    "![](./imgs/similarity_calc15.png)"
   ]
  },
  {
   "cell_type": "code",
   "execution_count": 21,
   "metadata": {},
   "outputs": [],
   "source": [
    "#　构造数据\n",
    "users = [\"User1\", \"User2\", \"User3\", \"User4\", \"User5\"]\n",
    "items = [\"Item A\", \"Item B\", \"Item C\", \"Item D\", \"Item E\"]\n",
    "# 用户购买记录数据集\n",
    "datasets = [\n",
    "    [5,3,4,4,None],\n",
    "    [3,1,2,3,3],\n",
    "    [4,3,4,3,5],\n",
    "    [3,3,1,5,4],\n",
    "    [1,5,5,2,1],\n",
    "]"
   ]
  },
  {
   "cell_type": "code",
   "execution_count": 22,
   "metadata": {},
   "outputs": [
    {
     "data": {
      "text/html": [
       "<div>\n",
       "<style scoped>\n",
       "    .dataframe tbody tr th:only-of-type {\n",
       "        vertical-align: middle;\n",
       "    }\n",
       "\n",
       "    .dataframe tbody tr th {\n",
       "        vertical-align: top;\n",
       "    }\n",
       "\n",
       "    .dataframe thead th {\n",
       "        text-align: right;\n",
       "    }\n",
       "</style>\n",
       "<table border=\"1\" class=\"dataframe\">\n",
       "  <thead>\n",
       "    <tr style=\"text-align: right;\">\n",
       "      <th></th>\n",
       "      <th>Item A</th>\n",
       "      <th>Item B</th>\n",
       "      <th>Item C</th>\n",
       "      <th>Item D</th>\n",
       "      <th>Item E</th>\n",
       "    </tr>\n",
       "  </thead>\n",
       "  <tbody>\n",
       "    <tr>\n",
       "      <th>User1</th>\n",
       "      <td>5</td>\n",
       "      <td>3</td>\n",
       "      <td>4</td>\n",
       "      <td>4</td>\n",
       "      <td>NaN</td>\n",
       "    </tr>\n",
       "    <tr>\n",
       "      <th>User2</th>\n",
       "      <td>3</td>\n",
       "      <td>1</td>\n",
       "      <td>2</td>\n",
       "      <td>3</td>\n",
       "      <td>3.0</td>\n",
       "    </tr>\n",
       "    <tr>\n",
       "      <th>User3</th>\n",
       "      <td>4</td>\n",
       "      <td>3</td>\n",
       "      <td>4</td>\n",
       "      <td>3</td>\n",
       "      <td>5.0</td>\n",
       "    </tr>\n",
       "    <tr>\n",
       "      <th>User4</th>\n",
       "      <td>3</td>\n",
       "      <td>3</td>\n",
       "      <td>1</td>\n",
       "      <td>5</td>\n",
       "      <td>4.0</td>\n",
       "    </tr>\n",
       "    <tr>\n",
       "      <th>User5</th>\n",
       "      <td>1</td>\n",
       "      <td>5</td>\n",
       "      <td>5</td>\n",
       "      <td>2</td>\n",
       "      <td>1.0</td>\n",
       "    </tr>\n",
       "  </tbody>\n",
       "</table>\n",
       "</div>"
      ],
      "text/plain": [
       "       Item A  Item B  Item C  Item D  Item E\n",
       "User1       5       3       4       4     NaN\n",
       "User2       3       1       2       3     3.0\n",
       "User3       4       3       4       3     5.0\n",
       "User4       3       3       1       5     4.0\n",
       "User5       1       5       5       2     1.0"
      ]
     },
     "execution_count": 22,
     "metadata": {},
     "output_type": "execute_result"
    }
   ],
   "source": [
    "# 目标：预测用户1对商品Ｅ的打分情况\n",
    "df = pd.DataFrame(datasets, columns=items, index=users)\n",
    "df.head()"
   ]
  },
  {
   "cell_type": "code",
   "execution_count": 23,
   "metadata": {},
   "outputs": [
    {
     "data": {
      "text/html": [
       "<div>\n",
       "<style scoped>\n",
       "    .dataframe tbody tr th:only-of-type {\n",
       "        vertical-align: middle;\n",
       "    }\n",
       "\n",
       "    .dataframe tbody tr th {\n",
       "        vertical-align: top;\n",
       "    }\n",
       "\n",
       "    .dataframe thead th {\n",
       "        text-align: right;\n",
       "    }\n",
       "</style>\n",
       "<table border=\"1\" class=\"dataframe\">\n",
       "  <thead>\n",
       "    <tr style=\"text-align: right;\">\n",
       "      <th></th>\n",
       "      <th>User1</th>\n",
       "      <th>User2</th>\n",
       "      <th>User3</th>\n",
       "      <th>User4</th>\n",
       "      <th>User5</th>\n",
       "    </tr>\n",
       "  </thead>\n",
       "  <tbody>\n",
       "    <tr>\n",
       "      <th>User1</th>\n",
       "      <td>1.000000</td>\n",
       "      <td>0.852803</td>\n",
       "      <td>0.707107</td>\n",
       "      <td>0.000000</td>\n",
       "      <td>-0.792118</td>\n",
       "    </tr>\n",
       "    <tr>\n",
       "      <th>User2</th>\n",
       "      <td>0.852803</td>\n",
       "      <td>1.000000</td>\n",
       "      <td>0.467707</td>\n",
       "      <td>0.489956</td>\n",
       "      <td>-0.900149</td>\n",
       "    </tr>\n",
       "    <tr>\n",
       "      <th>User3</th>\n",
       "      <td>0.707107</td>\n",
       "      <td>0.467707</td>\n",
       "      <td>1.000000</td>\n",
       "      <td>-0.161165</td>\n",
       "      <td>-0.466569</td>\n",
       "    </tr>\n",
       "    <tr>\n",
       "      <th>User4</th>\n",
       "      <td>0.000000</td>\n",
       "      <td>0.489956</td>\n",
       "      <td>-0.161165</td>\n",
       "      <td>1.000000</td>\n",
       "      <td>-0.641503</td>\n",
       "    </tr>\n",
       "    <tr>\n",
       "      <th>User5</th>\n",
       "      <td>-0.792118</td>\n",
       "      <td>-0.900149</td>\n",
       "      <td>-0.466569</td>\n",
       "      <td>-0.641503</td>\n",
       "      <td>1.000000</td>\n",
       "    </tr>\n",
       "  </tbody>\n",
       "</table>\n",
       "</div>"
      ],
      "text/plain": [
       "          User1     User2     User3     User4     User5\n",
       "User1  1.000000  0.852803  0.707107  0.000000 -0.792118\n",
       "User2  0.852803  1.000000  0.467707  0.489956 -0.900149\n",
       "User3  0.707107  0.467707  1.000000 -0.161165 -0.466569\n",
       "User4  0.000000  0.489956 -0.161165  1.000000 -0.641503\n",
       "User5 -0.792118 -0.900149 -0.466569 -0.641503  1.000000"
      ]
     },
     "execution_count": 23,
     "metadata": {},
     "output_type": "execute_result"
    }
   ],
   "source": [
    "# 用户相似度\n",
    "user_similar = df.T.corr()  # 默认皮尔逊相关系数\n",
    "user_similar"
   ]
  },
  {
   "cell_type": "code",
   "execution_count": 24,
   "metadata": {},
   "outputs": [
    {
     "data": {
      "text/html": [
       "<div>\n",
       "<style scoped>\n",
       "    .dataframe tbody tr th:only-of-type {\n",
       "        vertical-align: middle;\n",
       "    }\n",
       "\n",
       "    .dataframe tbody tr th {\n",
       "        vertical-align: top;\n",
       "    }\n",
       "\n",
       "    .dataframe thead th {\n",
       "        text-align: right;\n",
       "    }\n",
       "</style>\n",
       "<table border=\"1\" class=\"dataframe\">\n",
       "  <thead>\n",
       "    <tr style=\"text-align: right;\">\n",
       "      <th></th>\n",
       "      <th>Item A</th>\n",
       "      <th>Item B</th>\n",
       "      <th>Item C</th>\n",
       "      <th>Item D</th>\n",
       "      <th>Item E</th>\n",
       "    </tr>\n",
       "  </thead>\n",
       "  <tbody>\n",
       "    <tr>\n",
       "      <th>Item A</th>\n",
       "      <td>1.000000</td>\n",
       "      <td>-0.476731</td>\n",
       "      <td>-0.123091</td>\n",
       "      <td>0.532181</td>\n",
       "      <td>0.969458</td>\n",
       "    </tr>\n",
       "    <tr>\n",
       "      <th>Item B</th>\n",
       "      <td>-0.476731</td>\n",
       "      <td>1.000000</td>\n",
       "      <td>0.645497</td>\n",
       "      <td>-0.310087</td>\n",
       "      <td>-0.478091</td>\n",
       "    </tr>\n",
       "    <tr>\n",
       "      <th>Item C</th>\n",
       "      <td>-0.123091</td>\n",
       "      <td>0.645497</td>\n",
       "      <td>1.000000</td>\n",
       "      <td>-0.720577</td>\n",
       "      <td>-0.427618</td>\n",
       "    </tr>\n",
       "    <tr>\n",
       "      <th>Item D</th>\n",
       "      <td>0.532181</td>\n",
       "      <td>-0.310087</td>\n",
       "      <td>-0.720577</td>\n",
       "      <td>1.000000</td>\n",
       "      <td>0.581675</td>\n",
       "    </tr>\n",
       "    <tr>\n",
       "      <th>Item E</th>\n",
       "      <td>0.969458</td>\n",
       "      <td>-0.478091</td>\n",
       "      <td>-0.427618</td>\n",
       "      <td>0.581675</td>\n",
       "      <td>1.000000</td>\n",
       "    </tr>\n",
       "  </tbody>\n",
       "</table>\n",
       "</div>"
      ],
      "text/plain": [
       "          Item A    Item B    Item C    Item D    Item E\n",
       "Item A  1.000000 -0.476731 -0.123091  0.532181  0.969458\n",
       "Item B -0.476731  1.000000  0.645497 -0.310087 -0.478091\n",
       "Item C -0.123091  0.645497  1.000000 -0.720577 -0.427618\n",
       "Item D  0.532181 -0.310087 -0.720577  1.000000  0.581675\n",
       "Item E  0.969458 -0.478091 -0.427618  0.581675  1.000000"
      ]
     },
     "execution_count": 24,
     "metadata": {},
     "output_type": "execute_result"
    }
   ],
   "source": [
    "# 商品相似度\n",
    "item_similar = df.corr()\n",
    "item_similar"
   ]
  },
  {
   "cell_type": "markdown",
   "metadata": {},
   "source": [
    "基于用户的预测:\n",
    "$$\n",
    "pred(u,i)=\\hat{r}_{ui}=\\cfrac{\\sum_{v\\in U}sim(u,v)*r_{vi}}{\\sum_{v\\in U}|sim(u,v)|}\n",
    "$$"
   ]
  },
  {
   "cell_type": "code",
   "execution_count": 25,
   "metadata": {},
   "outputs": [
    {
     "data": {
      "text/plain": [
       "User2    0.852803\n",
       "User3    0.707107\n",
       "Name: User1, dtype: float64"
      ]
     },
     "execution_count": 25,
     "metadata": {},
     "output_type": "execute_result"
    }
   ],
   "source": [
    "top2 = user_similar[\"User1\"].sort_values(axis=0, ascending=False).drop([\"User1\"])[:2]\n",
    "top2"
   ]
  },
  {
   "cell_type": "code",
   "execution_count": 26,
   "metadata": {},
   "outputs": [
    {
     "data": {
      "text/plain": [
       "User2    3.0\n",
       "User3    5.0\n",
       "Name: Item E, dtype: float64"
      ]
     },
     "execution_count": 26,
     "metadata": {},
     "output_type": "execute_result"
    }
   ],
   "source": [
    "rank = df.loc[top2.index, \"Item E\"]\n",
    "rank"
   ]
  },
  {
   "cell_type": "code",
   "execution_count": 27,
   "metadata": {},
   "outputs": [
    {
     "data": {
      "text/plain": [
       "3.91"
      ]
     },
     "execution_count": 27,
     "metadata": {},
     "output_type": "execute_result"
    }
   ],
   "source": [
    "predict = (top2.values*rank.values).sum()/top2.values.sum()\n",
    "round(predict, 2)"
   ]
  },
  {
   "cell_type": "markdown",
   "metadata": {},
   "source": [
    "基于商品的预测:\n",
    "$$\n",
    " pred(u,i)=\\hat{r}_{ui}=\\cfrac{\\sum_{j\\in I_{rated}}sim(i,j)*r_{uj}}{\\sum_{j\\in I_{rated}}sim(i,j)}\n",
    "$$"
   ]
  },
  {
   "cell_type": "code",
   "execution_count": 28,
   "metadata": {},
   "outputs": [
    {
     "data": {
      "text/plain": [
       "Item A    0.969458\n",
       "Item D    0.581675\n",
       "Name: Item E, dtype: float64"
      ]
     },
     "execution_count": 28,
     "metadata": {},
     "output_type": "execute_result"
    }
   ],
   "source": [
    "top2 = item_similar[\"Item E\"].sort_values(ascending=False).drop([\"Item E\"])[:2]\n",
    "top2"
   ]
  },
  {
   "cell_type": "code",
   "execution_count": 29,
   "metadata": {},
   "outputs": [
    {
     "data": {
      "text/plain": [
       "Item A    5.0\n",
       "Item D    4.0\n",
       "Name: User1, dtype: float64"
      ]
     },
     "execution_count": 29,
     "metadata": {},
     "output_type": "execute_result"
    }
   ],
   "source": [
    "rank = df.loc[\"User1\", top2.index]\n",
    "rank"
   ]
  },
  {
   "cell_type": "code",
   "execution_count": 30,
   "metadata": {},
   "outputs": [
    {
     "data": {
      "text/plain": [
       "4.62"
      ]
     },
     "execution_count": 30,
     "metadata": {},
     "output_type": "execute_result"
    }
   ],
   "source": [
    "predict = (top2*rank).sum()/top2.sum()\n",
    "round(predict, 2)"
   ]
  },
  {
   "cell_type": "markdown",
   "metadata": {},
   "source": [
    "# 案例：基于协同滤波的电影推荐"
   ]
  },
  {
   "cell_type": "markdown",
   "metadata": {},
   "source": [
    "## 数据加载\n",
    "构建用户评分矩阵"
   ]
  },
  {
   "cell_type": "code",
   "execution_count": 31,
   "metadata": {},
   "outputs": [],
   "source": [
    "def load_data(data_path):\n",
    "    \"\"\"加载数据\"\"\"\n",
    "    \n",
    "    cache_path = os.path.join(CACHE_DIR,\"rating_matric.cache\")\n",
    "    print(\"开始加载数据集\")\n",
    "    \n",
    "    if os.path.exists(cache_path):\n",
    "        print(\"加载缓存中\")\n",
    "        rating_matrix = pd.read_pickle(cache_path)\n",
    "        print(\"缓存加载完毕\")\n",
    "    else:\n",
    "        print(\"加载新数据\")\n",
    "        dtype = {\"userId\":np.int32, \"movieId\":np.int32, \"rating\":np.float32}\n",
    "        df = pd.read_csv(\"data/ratings.csv\", dtype=dtype, usecols=range(3))\n",
    "        rating_matrix = df.pivot_table(index=[\"userId\"], columns=\"movieId\", values=\"rating\")\n",
    "        rating_matrix.to_pickle(cache_path)\n",
    "        print(\"新数据加载完毕\")\n",
    "        \n",
    "    return rating_matrix"
   ]
  },
  {
   "cell_type": "markdown",
   "metadata": {},
   "source": [
    "## 计算相似度\n",
    "用户相似度和物品相似度"
   ]
  },
  {
   "cell_type": "code",
   "execution_count": 32,
   "metadata": {},
   "outputs": [],
   "source": [
    "def compute_person_similarity(rating_matrix, based=\"user\"):\n",
    "    \"\"\"计算相似度\"\"\"\n",
    "    \n",
    "    user_similarity_cache_path = os.path.join(CACHE_DIR, \"user_similarity.cache\")\n",
    "    item_similarity_cache_path = os.path.join(CACHE_DIR, \"item_similarity.cache\")\n",
    "    \n",
    "    if based == \"user\":\n",
    "        if os.path.exists(user_similarity_cache_path):\n",
    "            print(\"缓存中获取用户相似度\")\n",
    "            similarity = pd.read_pickle(user_similarity_cache_path)\n",
    "        else:\n",
    "            print(\"正在计算用户相似度\")\n",
    "            similarity = rating_matrix.T.corr()\n",
    "            similarity.to_pickle(user_similarity_cache_path)\n",
    "    elif based == \"item\":\n",
    "        if os.path.exists(item_similarity_cache_path):\n",
    "            print(\"缓存中获取电影相似度\")\n",
    "            similarity = pd.read_pickle(item_similarity_cache_path)\n",
    "        else:\n",
    "            print(\"正在计算电影相似度\")\n",
    "            similarity = rating_matrix.corr()\n",
    "            similarity.to_pickle(item_similarity_cache_path)\n",
    "    else:\n",
    "        raise Exception(\"Unhandles based value %s\" % based)\n",
    "    \n",
    "    print(\"相似度计算完成\")\n",
    "    \n",
    "    return similarity"
   ]
  },
  {
   "cell_type": "markdown",
   "metadata": {},
   "source": [
    "## 评分预测"
   ]
  },
  {
   "cell_type": "markdown",
   "metadata": {},
   "source": [
    "预测公式如下：\n",
    "$$\n",
    "R_{(u,p)} = \\cfrac{\\sum_{s\\in{S}}(w_{u,s}*R_{s,p})}{\\sum_{s\\in{S}}*w_{u,s}}\n",
    "$$\n",
    "\n",
    "其中，权重$w_{u, s}$是用户u对用户s的相似度,$R_{s,p}$是用户s对物品p的评分。"
   ]
  },
  {
   "cell_type": "code",
   "execution_count": 33,
   "metadata": {},
   "outputs": [],
   "source": [
    "def predict(uid, iid, rating_matrix, user_similar):\n",
    "    \"\"\"预测给定用户对物品的评分值\"\"\"\n",
    "    \n",
    "#     print(\"开始预测用户<%d>对电影<%d>的评分\"%(uid, iid))\n",
    "    similar_user = user_similar[uid].drop(uid).dropna() #　提取相似用户消除空值\n",
    "    similar_user = similar_user.where(similar_user>0).dropna()\n",
    "    \n",
    "    if similar_user.empty:\n",
    "        raise Exception(\"用户<%d>无相似信息\"%(uid))\n",
    "    ids = set(similar_user.index)&set(rating_matrix[iid].dropna().index)\n",
    "    # 最终与用户相似的n个用户\n",
    "    finnaly_similar_users = similar_user.loc[list(ids)]\n",
    "    \n",
    "    sum_up = 0.0\n",
    "    sum_down = 0.0\n",
    "    \n",
    "    # 遍历相似用户，并找出相似用户对推荐物品的评分，从而加权预测出相对应的推荐评分\n",
    "    for sim_uid, similarity in finnaly_similar_users.iteritems():\n",
    "        \n",
    "        # 获取相应用户所对应的评分\n",
    "        sim_user_rated_movied = rating_matrix.loc[sim_uid].dropna()\n",
    "        similar_user_rating_for_item = sim_user_rated_movied.loc[iid]\n",
    "        \n",
    "        # 计算预测值(加权)\n",
    "        sum_up += similarity * similar_user_rating_for_item\n",
    "        sum_down += similarity\n",
    "    \n",
    "    score = sum_up/sum_down\n",
    "    \n",
    "#     print(\"预测结束，用户<%d>对<%d>的预测分数为：%0.2f\"%(uid, iid, score))\n",
    "    return round(score)"
   ]
  },
  {
   "cell_type": "markdown",
   "metadata": {},
   "source": [
    "## 基于规则的过滤方式"
   ]
  },
  {
   "cell_type": "code",
   "execution_count": 34,
   "metadata": {},
   "outputs": [],
   "source": [
    "def _predict_all(item_ids, uid, rating_matrix, user_similar):\n",
    "    \n",
    "    for iid in item_ids:\n",
    "        try:\n",
    "            rating = predict(uid=1, iid=iid, rating_matrix=rating_matrix, user_similar=user_similar)\n",
    "        except Exception as e:\n",
    "            print(e)\n",
    "        else:\n",
    "            yield uid, iid, rating  # 产生可迭代的对象"
   ]
  },
  {
   "cell_type": "code",
   "execution_count": 35,
   "metadata": {},
   "outputs": [],
   "source": [
    "def predict_all(uid, rating_matrix, user_similar, filter_rule=None):\n",
    "    \"\"\"基于给定规则的过滤方式\"\"\"\n",
    "    \n",
    "    print(\"执行预测\")\n",
    "    if not filter_rule:\n",
    "        item_ids = rating_matrix.columns\n",
    "    elif isinstance(filter_rule, str) and filter_rule == \"unhot\":\n",
    "        \"\"\"过滤非热门电影\"\"\"\n",
    "        count = rating_matrix.count()\n",
    "        item_ids = count.where(count>10).dropna().index # 获取电影总评分大于十分的电影\n",
    "    elif isinstance(filter_rule, str) and filter_rule == \"rated\":\n",
    "        \"\"\"过滤用户评分过的电影\"\"\"\n",
    "        user_rating = rating_matrix.loc[uid].dropna()\n",
    "        _ = user_rating<6\n",
    "        item_ids = _.where(_==False).dropna().index\n",
    "    elif isinstance(filter_rule, list) and set(filter_rule) == set([\"unhot\", \"rated\"]):\n",
    "        \"\"\"过滤非热门和用户已经评分过的电影\"\"\"\n",
    "        \n",
    "        # unhot\n",
    "        count = rating_matrix.count()\n",
    "        item_ids1 = count.where(count>10).dropna().index\n",
    "        \n",
    "        # rated\n",
    "        user_rating = rating_matrix.loc[uid].dropna()\n",
    "        _ = user_rating<6\n",
    "        item_ids2 = _.where(_==False).dropna().index\n",
    "        \n",
    "        item_ids = set(item_ids1)&set(item_ids2)\n",
    "    else:\n",
    "        raise Exception(\"无效过滤参数\")\n",
    "    \n",
    "    yield from _predict_all(item_ids, uid, rating_matrix, user_similar)"
   ]
  },
  {
   "cell_type": "code",
   "execution_count": 36,
   "metadata": {},
   "outputs": [],
   "source": [
    "def top_k_result(k):\n",
    "    \n",
    "    rating_matrix = load_data(DATA_PATH)\n",
    "    user_similar = compute_person_similarity(rating_matrix)\n",
    "    results = predict_all(1, rating_matrix, user_similar, filter_rule=\"unhot\")\n",
    "    \n",
    "    return sorted(results, key=lambda x:x[2], reverse=True)[:k]"
   ]
  },
  {
   "cell_type": "code",
   "execution_count": 39,
   "metadata": {},
   "outputs": [
    {
     "name": "stdout",
     "output_type": "stream",
     "text": [
      "开始加载数据集\n",
      "加载缓存中\n",
      "缓存加载完毕\n",
      "缓存中获取用户相似度\n",
      "相似度计算完成\n",
      "执行预测\n"
     ]
    },
    {
     "data": {
      "text/plain": [
       "[(1, 280, 5), (1, 318, 5)]"
      ]
     },
     "execution_count": 39,
     "metadata": {},
     "output_type": "execute_result"
    }
   ],
   "source": [
    "DATA_PATH = \"./data/ratings.csv\"\n",
    "CACHE_DIR = \"./data/cache/\"\n",
    "import os\n",
    "top_k_result(2)"
   ]
  },
  {
   "cell_type": "markdown",
   "metadata": {},
   "source": [
    "# 总结"
   ]
  },
  {
   "cell_type": "markdown",
   "metadata": {},
   "source": [
    "**User-CF优点**：由于是基于用户相似度进行推荐， 所以具备更强的社交特性， 这样的特点非常适于用户少， 物品多， 时效性较强的场合， 比如新闻推荐场景， 因为新闻本身兴趣点分散， 相比用户对不同新闻的兴趣偏好， 新闻的及时性，热点性往往更加重要， 所以正好适用于发现热点，跟踪热点的趋势。 另外还具有推荐新信息的能力， 更有可能发现惊喜, 因为看的是人与人的相似性, 推出来的结果可能更有惊喜，可以发现用户潜在但自己尚未察觉的兴趣爱好。  \n",
    "**Item-CF优点**：这个更适用于兴趣变化较为稳定的应用， 更接近于个性化的推荐， 适合物品少，用户多，用户兴趣固定持久， 物品更新速度不是太快的场合， 比如推荐艺术品， 音乐， 电影。"
   ]
  },
  {
   "cell_type": "markdown",
   "metadata": {},
   "source": [
    "# 参考"
   ]
  },
  {
   "cell_type": "markdown",
   "metadata": {},
   "source": [
    "[如何理解皮尔逊相关系数（Pearson Correlation Coefficient）？](https://www.zhihu.com/question/19734616)  \n",
    "[推荐系统组队学习之协同过滤](http://datawhale.club/t/topic/41)"
   ]
  }
 ],
 "metadata": {
  "kernelspec": {
   "display_name": "Python 3",
   "language": "python",
   "name": "python3"
  },
  "language_info": {
   "codemirror_mode": {
    "name": "ipython",
    "version": 3
   },
   "file_extension": ".py",
   "mimetype": "text/x-python",
   "name": "python",
   "nbconvert_exporter": "python",
   "pygments_lexer": "ipython3",
   "version": "3.8.5"
  }
 },
 "nbformat": 4,
 "nbformat_minor": 4
}
