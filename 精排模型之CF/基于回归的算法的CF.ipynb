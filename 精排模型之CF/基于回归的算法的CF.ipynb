{
 "cells": [
  {
   "cell_type": "code",
   "execution_count": 2,
   "metadata": {},
   "outputs": [],
   "source": [
    "import numpy as np\n",
    "import pandas as pd\n",
    "import matplotlib.pyplot as plt"
   ]
  },
  {
   "cell_type": "code",
   "execution_count": 81,
   "metadata": {},
   "outputs": [],
   "source": [
    "DATA_PATH = \"./data/ratings.csv\""
   ]
  },
  {
   "cell_type": "code",
   "execution_count": 6,
   "metadata": {},
   "outputs": [],
   "source": [
    "dtype = [(\"userId\", np.int32), (\"movieId\", np.int32), (\"rating\", np.float32)]\n",
    "dataset = pd.read_csv(\"data/ratings.csv\", usecols=range(3), dtype=dict(dtype))"
   ]
  },
  {
   "cell_type": "markdown",
   "metadata": {},
   "source": [
    "## 计算BaseLine\n",
    "代价函数:\n",
    "$$\n",
    "Cost=\\sum_{u,i\\in R}(r_{ui}-\\mu-b_u-b_i)^2 + \\lambda*(\\sum_u {b_u}^2 + \\sum_i {b_i}^2)\n",
    "$$  \n",
    "SGD（随机梯度下降法）:\n",
    "\\begin{split}b_u&:=b_u + \\alpha*((r_{ui}-\\mu-b_u-b_i) -\\lambda*b_u)  \\\\&:=b_u + \\alpha*(error - \\lambda*b_u) \\\\\\\\b_i&:=b_i + \\alpha*((r_{ui}-\\mu-b_u-b_i) -\\lambda*b_i)\\\\&:=b_i + \\alpha*(error -\\lambda*b_i)\\end{split}\n",
    "ASL（交替最小二乘法优化）:  \n",
    "$$\n",
    " b_u := \\cfrac {\\sum_{u,i\\in R}(r_{ui}-\\mu-b_i)}{\\lambda_1 + |R(u)|}\n",
    "$$\n",
    "\n",
    "$$\n",
    "b_i := \\cfrac {\\sum_{u,i\\in R}(r_{ui}-\\mu-b_u)}{\\lambda_2 + |R(i)|}\n",
    "$$"
   ]
  },
  {
   "cell_type": "markdown",
   "metadata": {},
   "source": [
    "### 数据集的划分"
   ]
  },
  {
   "cell_type": "code",
   "execution_count": 88,
   "metadata": {},
   "outputs": [],
   "source": [
    "def data_split(data_path, x = 0.8, random = False):\n",
    "    \"\"\"划分数据集合\"\"\"\n",
    "    \n",
    "    print(\"开始划分数据......\")\n",
    "    dtype = {\"userId\": np.int32, \"movieId\": np.int32, \"rating\": np.float32}\n",
    "    # 加载数据，我们只用前三列数据，分别是用户ID，电影ID，已经用户对电影的对应评分\n",
    "    ratings = pd.read_csv(data_path, dtype=dtype, usecols=range(3))\n",
    "    \n",
    "    testset_index = []\n",
    "    \n",
    "    for uid in ratings.groupby(\"userId\").any().index:  # 获取index索引\n",
    "        use_rating_data = ratings.where(ratings[\"userId\"]==uid).dropna()\n",
    "        if random:\n",
    "            # shuffle\n",
    "            index = list(use_rating_data.index)\n",
    "            np.random.shuffle(index)\n",
    "            _index = round(len(use_rating_data)*x)\n",
    "            testset_index += list(index[_index:]) # 取出1-x的数据做测试\n",
    "        else:\n",
    "            index = round(len(use_rating_data)*x)\n",
    "            testset_index += list(use_rating_data.index.values[index:])\n",
    "            \n",
    "    testset = ratings.loc[testset_index]\n",
    "    trainset = ratings.drop(testset_index)\n",
    "    print(\"完成数据集的切分......\")\n",
    "    \n",
    "    return trainset, testset"
   ]
  },
  {
   "cell_type": "code",
   "execution_count": 89,
   "metadata": {},
   "outputs": [
    {
     "name": "stdout",
     "output_type": "stream",
     "text": [
      "开始划分数据......\n",
      "完成数据集的切分......\n"
     ]
    }
   ],
   "source": [
    "train_set, test_set = data_split(DATA_PATH)"
   ]
  },
  {
   "cell_type": "code",
   "execution_count": 87,
   "metadata": {},
   "outputs": [
    {
     "data": {
      "text/plain": [
       "4.000793493354493"
      ]
     },
     "execution_count": 87,
     "metadata": {},
     "output_type": "execute_result"
    }
   ],
   "source": [
    "len(train_set)/len(test_set)"
   ]
  },
  {
   "cell_type": "markdown",
   "metadata": {},
   "source": [
    "### 评价指标（连续性数值的评价预测）\n",
    "MSE、RMSE、MAE、RMAE"
   ]
  },
  {
   "cell_type": "code",
   "execution_count": 92,
   "metadata": {},
   "outputs": [],
   "source": [
    "def accuracy(predict_results, method=\"all\"):\n",
    "    \n",
    "    def rmse(predict_results):\n",
    "        \"\"\"均方根误差\"\"\"\n",
    "        \n",
    "        length = 0\n",
    "        _rmse_sum = 0\n",
    "        for uid, iid, real_rating, pre_rating in predict_results:\n",
    "            length += 1\n",
    "            _rmse_sum += (pre_rating - real_rating)**2\n",
    "        \n",
    "        return round(np.sqrt(_rmse_sum/length), 4)\n",
    "    \n",
    "    def mae(predict_results):\n",
    "        \"\"\"平均绝对误差\"\"\"\n",
    "        \n",
    "        length = 0\n",
    "        _mae_sum = 0\n",
    "        for uid, iid, real_rating, pre_rating in predict_results:\n",
    "            length += 1\n",
    "            _mae_sum += abs(pre_rating - real_rating)\n",
    "        \n",
    "        return round(_mae_sum/length, 4)\n",
    "    \n",
    "    def rmse_mae(predict_results):\n",
    "        \n",
    "        length = 0\n",
    "        _mae_sum = 0\n",
    "        _rmse_sum = 0\n",
    "        for uid, iid, real_rating, pre_rating in predict_results:\n",
    "            length += 1\n",
    "            _rmse_sum += (pre_rating - real_rating)**2\n",
    "            _mae_sum += abs(pre_rating - real_rating)\n",
    "        \n",
    "        return round(np.sqrt(_rmse_sum/length), 4), round(_mae_sum/length, 4)\n",
    "                            \n",
    "    if method.lower() == 'rmse':\n",
    "        rmse(predict_results)\n",
    "    elif method.lower() == \"mae\":\n",
    "        mae(predict_results)\n",
    "    else:\n",
    "        return rmse_mae(predict_results)"
   ]
  },
  {
   "cell_type": "markdown",
   "metadata": {},
   "source": [
    "### 封装实现"
   ]
  },
  {
   "cell_type": "code",
   "execution_count": 150,
   "metadata": {},
   "outputs": [],
   "source": [
    "class BaselineCFBySGD:\n",
    "    \n",
    "    def __init__(self, num_epochs, alpha=0.1, reg=0.1, reg_bu=0.1, reg_bi=0.1, columns=[\"uid\", \"iid\", \"rating\"]):\n",
    "        \n",
    "        self.num_epochs = num_epochs \n",
    "        self.alpha = alpha  # learning rate\n",
    "        self.reg = reg  # L2\n",
    "        self.columns = columns\n",
    "        \n",
    "        self.reg_bi = reg_bi\n",
    "        self.reg_bu = reg_bu\n",
    "    \n",
    "    def fit(self, datasets, metric=\"SGD\"):\n",
    "        \"\"\"训练参数\"\"\"\n",
    "        \n",
    "        self.datasets = datasets\n",
    "        # 用户评分表\n",
    "        self.users_ratings = datasets.groupby(self.columns[0]).agg([list])[[self.columns[1], self.columns[2]]]\n",
    "        # 物品评分表\n",
    "        self.items_ratings = datasets.groupby(self.columns[1]).agg([list])[[self.columns[0], self.columns[2]]]\n",
    "                          \n",
    "        # 全局平均分\n",
    "        self.global_mean = self.datasets[self.columns[2]].mean()\n",
    "        if metric.lower() == \"sgd\":\n",
    "            self.bu, self.bi = self.sgd()\n",
    "        elif metric.lower() == \"als\":\n",
    "            self.bu, self.bi = self.als()\n",
    "        else:\n",
    "            print(\"metric is error!\")\n",
    "        \n",
    "    def sgd(self):\n",
    "        \"\"\"使用随机梯度下降，更新参数bu, bi\"\"\"\n",
    "        \n",
    "        # 初始化参数值\n",
    "        bu = dict(zip(self.users_ratings.index, np.zeros(len(self.users_ratings))))\n",
    "        bi = dict(zip(self.items_ratings.index, np.zeros(len(self.items_ratings))))\n",
    "        \n",
    "        # 迭代更新\n",
    "        for i in range(self.num_epochs):\n",
    "            print(\"Epoch:%d\"%i)\n",
    "            for uid, iid, real_rating in self.datasets.itertuples(index=False):\n",
    "                error = real_rating - (self.global_mean + bu[uid] + bi[iid])\n",
    "                bu[uid] += self.alpha*(error - self.alpha*bu[uid])\n",
    "                bi[iid] += self.alpha*(error - self.alpha*bi[iid])\n",
    "                \n",
    "        return bu, bi\n",
    "    \n",
    "    def als(self):\n",
    "        \"\"\"使用交替最小二乘法优化，更新参数bu, bi\"\"\"\n",
    "        \n",
    "        # 初始化参数值\n",
    "        bu = dict(zip(self.users_ratings.index, np.zeros(len(self.users_ratings))))\n",
    "        bi = dict(zip(self.items_ratings.index, np.zeros(len(self.items_ratings))))\n",
    "        \n",
    "        # 迭代更新\n",
    "        for i in range(self.num_epochs):\n",
    "            print(\"Epoch:%d\"%i)\n",
    "            \n",
    "            # 更新bi\n",
    "            for iid, uids, ratings in self.items_ratings.itertuples(index=True):\n",
    "                _sum = 0\n",
    "                for uid, rating in zip(uids, ratings):\n",
    "                    _sum += rating - self.global_mean - bu[uid]\n",
    "                bi[iid] = _sum / (self.reg_bi + len(uids))  # len(uids) 物品i的评分数量\n",
    "                \n",
    "            # 更新bu\n",
    "            for uid, iids, ratings in self.users_ratings.itertuples(index=True):\n",
    "                _sum = 0\n",
    "                for iid, rating in  zip(iids, ratings):\n",
    "                    _sum += rating - self.global_mean - bi[iid]\n",
    "                bu[uid] = _sum / (self.reg_bu + len(iids))\n",
    "            \n",
    "        return bu, bi\n",
    "    \n",
    "    def predict(self, uid, iid):\n",
    "        \"\"\"预测\"\"\"\n",
    "        \n",
    "        predict_rating = self.global_mean + self.bu[uid] + self.bi[iid]\n",
    "        \n",
    "        return predict_rating\n",
    "    \n",
    "    def test(self, testset):\n",
    "        '''预测测试集数据'''\n",
    "    \n",
    "        for uid, iid, real_rating in testset.itertuples(index=False):\n",
    "            try:\n",
    "                pred_rating = self.predict(uid, iid)\n",
    "            except Exception as e:\n",
    "                pass\n",
    "            else:\n",
    "                yield uid, iid, real_rating, pred_rating"
   ]
  },
  {
   "cell_type": "code",
   "execution_count": 151,
   "metadata": {},
   "outputs": [
    {
     "name": "stdout",
     "output_type": "stream",
     "text": [
      "Epoch:0\n",
      "Epoch:1\n",
      "Epoch:2\n",
      "Epoch:3\n",
      "Epoch:4\n",
      "Epoch:5\n",
      "Epoch:6\n",
      "Epoch:7\n",
      "Epoch:8\n",
      "Epoch:9\n",
      "Epoch:10\n",
      "Epoch:11\n",
      "Epoch:12\n",
      "Epoch:13\n",
      "Epoch:14\n",
      "Epoch:15\n",
      "Epoch:16\n",
      "Epoch:17\n",
      "Epoch:18\n",
      "Epoch:19\n"
     ]
    }
   ],
   "source": [
    "obj = BaselineCFBySGD(20, 0.1, 0.1, columns=[\"userId\", \"movieId\", \"rating\"])\n",
    "obj.fit(train_set, metric=\"Als\")"
   ]
  },
  {
   "cell_type": "code",
   "execution_count": 152,
   "metadata": {},
   "outputs": [
    {
     "data": {
      "text/plain": [
       "3.1282720098581"
      ]
     },
     "execution_count": 152,
     "metadata": {},
     "output_type": "execute_result"
    }
   ],
   "source": [
    "obj.predict(1, 4)"
   ]
  },
  {
   "cell_type": "code",
   "execution_count": 153,
   "metadata": {},
   "outputs": [],
   "source": [
    "result = obj.test(test_set)"
   ]
  },
  {
   "cell_type": "code",
   "execution_count": 154,
   "metadata": {},
   "outputs": [
    {
     "name": "stdout",
     "output_type": "stream",
     "text": [
      "4.0 4.411508363619913\n"
     ]
    }
   ],
   "source": [
    "for uid, iid, real, pred in result:\n",
    "    print(real, pred)\n",
    "    break"
   ]
  },
  {
   "cell_type": "code",
   "execution_count": 155,
   "metadata": {},
   "outputs": [],
   "source": [
    "rmse, mae = accuracy(result)"
   ]
  },
  {
   "cell_type": "code",
   "execution_count": 156,
   "metadata": {},
   "outputs": [
    {
     "data": {
      "text/plain": [
       "0.9329"
      ]
     },
     "execution_count": 156,
     "metadata": {},
     "output_type": "execute_result"
    }
   ],
   "source": [
    "rmse"
   ]
  },
  {
   "cell_type": "code",
   "execution_count": 157,
   "metadata": {},
   "outputs": [
    {
     "data": {
      "text/plain": [
       "0.7148"
      ]
     },
     "execution_count": 157,
     "metadata": {},
     "output_type": "execute_result"
    }
   ],
   "source": [
    "mae"
   ]
  },
  {
   "cell_type": "code",
   "execution_count": null,
   "metadata": {},
   "outputs": [],
   "source": []
  }
 ],
 "metadata": {
  "kernelspec": {
   "display_name": "Python 3",
   "language": "python",
   "name": "python3"
  },
  "language_info": {
   "codemirror_mode": {
    "name": "ipython",
    "version": 3
   },
   "file_extension": ".py",
   "mimetype": "text/x-python",
   "name": "python",
   "nbconvert_exporter": "python",
   "pygments_lexer": "ipython3",
   "version": "3.8.5"
  }
 },
 "nbformat": 4,
 "nbformat_minor": 4
}
