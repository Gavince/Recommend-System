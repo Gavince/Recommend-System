{
 "cells": [
  {
   "cell_type": "markdown",
   "metadata": {},
   "source": [
    "# 推荐系统之DIEN\n",
    "> 主要贡献：  \n",
    "• We focus on interest evolving phenomenon in e-commerce system, and propose a new structure of network to model interest evolving  process. The model for interest evolution leads to more expressive interest representation and more precise CTR prediction.  \n",
    "• Different from taking behaviors as interests directly, we specially design interest extractor layer. Pointing at the problem that   hidden state of GRU is less targeted for interest representation, we propose one auxiliary loss. Auxiliary loss uses consecutive   behavior to supervise the learning of hidden state at each step. which makes hidden state expressive enough to represent latent  interest.  \n",
    "• We design interest evolving layer novelly, where GPU with attentional update gate (AUGRU) strengthens the effect from relevant  interests to target item and overcomes the inference from interest drifting.  \n",
    "问题导向：  \n",
    "1.引入时间序列有什么好处？  \n",
    "2.辅助损失函数的负样本怎么采集？  \n",
    "> 3.辅助损失怎么计算？"
   ]
  },
  {
   "cell_type": "markdown",
   "metadata": {},
   "source": [
    "## 模型架构\n",
    "相对与DIN主要变化：引入了兴趣抽取层和兴趣进化层  \n",
    "模型数据处理流程：  \n",
    "\n",
    "**structure**: embedding layer -> interest extractor layer -> interest evolution layer -> DNN layer -> out  \n",
    "- behavior layer:主要作用是把原始的id类行为序列转成Embedding行为序。  \n",
    "- interest extractor layer：没有建立与推荐物品之间的用户兴趣演变。  \n",
    "- interest evolution layer：加入与推荐物品有关的注意力联系，进化与候选商品有关的兴趣演变过程。  \n",
    "\n",
    "**图示**:  \n",
    "![](./imgs/DIEN.png)"
   ]
  },
  {
   "cell_type": "code",
   "execution_count": 1,
   "metadata": {},
   "outputs": [],
   "source": [
    "import torch\n",
    "from torch import nn"
   ]
  },
  {
   "cell_type": "code",
   "execution_count": 2,
   "metadata": {},
   "outputs": [],
   "source": [
    "class BaseModel:\n",
    "    pass\n",
    "\n",
    "\n",
    "class DIEN(BaseModel):\n",
    "    \"\"\"Instantiates the Deep Interest Evolution Network architecture.\n",
    "\n",
    "    :param dnn_feature_columns: An iterable containing all the features used by deep part of the model.\n",
    "    :param history_feature_list: list,to indicate  sequence sparse field\n",
    "    :param gru_type: str,can be GRU AIGRU AUGRU AGRU\n",
    "    :param use_negsampling: bool, whether or not use negtive sampling\n",
    "    :param alpha: float ,weight of auxiliary_loss\n",
    "    :param use_bn: bool. Whether use BatchNormalization before activation or not in deep net\n",
    "    :param dnn_hidden_units: list,list of positive integer or empty list, the layer number and units in each layer of DNN\n",
    "    :param dnn_activation: Activation function to use in DNN\n",
    "    :param att_hidden_units: list,list of positive integer , the layer number and units in each layer of attention net\n",
    "    :param att_activation: Activation function to use in attention net\n",
    "    :param att_weight_normalization: bool.Whether normalize the attention score of local activation unit.\n",
    "    :param l2_reg_dnn: float. L2 regularizer strength applied to DNN\n",
    "    :param l2_reg_embedding: float. L2 regularizer strength applied to embedding vector\n",
    "    :param dnn_dropout: float in [0,1), the probability we will drop out a given DNN coordinate.\n",
    "    :param init_std: float,to use as the initialize std of embedding vector\n",
    "    :param seed: integer ,to use as random seed.\n",
    "    :param task: str, ``\"binary\"`` for  binary logloss or  ``\"regression\"`` for regression loss\n",
    "    :param device: str, ``\"cpu\"`` or ``\"cuda:0\"``\n",
    "    :param gpus: list of int or torch.device for multiple gpus. If None, run on `device`. `gpus[0]` should be the same gpu with `device`.\n",
    "    :return: A PyTorch model instance.\n",
    "\n",
    "    \"\"\"\n",
    "\n",
    "    def __init__(self,\n",
    "                 dnn_feature_columns, history_feature_list,\n",
    "                 gru_type=\"GRU\", use_negsampling=False, alpha=1.0, use_bn=False, dnn_hidden_units=(256, 128),\n",
    "                 dnn_activation='relu',\n",
    "                 att_hidden_units=(64, 16), att_activation=\"relu\", att_weight_normalization=True,\n",
    "                 l2_reg_dnn=0, l2_reg_embedding=1e-6, dnn_dropout=0, init_std=0.0001, seed=1024, task='binary',\n",
    "                 device='cpu', gpus=None):\n",
    "        \n",
    "        super(DIEN, self).__init__([], dnn_feature_columns, l2_reg_linear=0, l2_reg_embedding=l2_reg_embedding,\n",
    "                                   init_std=init_std, seed=seed, task=task, device=device, gpus=gpus)\n",
    "\n",
    "        self.item_features = history_feature_list\n",
    "        self.use_negsampling = use_negsampling\n",
    "        self.alpha = alpha\n",
    "        self._split_columns()\n",
    "\n",
    "        # structure: embedding layer -> interest extractor layer -> interest evolution layer -> DNN layer -> out\n",
    "\n",
    "        # embedding layer\n",
    "        # inherit -> self.embedding_dict\n",
    "        input_size = self._compute_interest_dim()\n",
    "        # interest extractor layer\n",
    "        self.interest_extractor = InterestExtractor(input_size=input_size, use_neg=use_negsampling, init_std=init_std)\n",
    "        # interest evolution layer\n",
    "        self.interest_evolution = InterestEvolving(\n",
    "            input_size=input_size,\n",
    "            gru_type=gru_type,\n",
    "            use_neg=use_negsampling,\n",
    "            init_std=init_std,\n",
    "            att_hidden_size=att_hidden_units,\n",
    "            att_activation=att_activation,\n",
    "            att_weight_normalization=att_weight_normalization)\n",
    "        # DNN layer\n",
    "        dnn_input_size = self._compute_dnn_dim() + input_size\n",
    "        self.dnn = DNN(dnn_input_size, dnn_hidden_units, dnn_activation, l2_reg_dnn, dnn_dropout, use_bn,\n",
    "                       init_std=init_std, seed=seed)\n",
    "        self.linear = nn.Linear(dnn_hidden_units[-1], 1, bias=False)\n",
    "        # prediction layer\n",
    "        # inherit -> self.out\n",
    "\n",
    "        # init\n",
    "        for name, tensor in self.linear.named_parameters():\n",
    "            if 'weight' in name:\n",
    "                nn.init.normal_(tensor, mean=0, std=init_std)\n",
    "\n",
    "        self.to(device)\n",
    "\n",
    "    def forward(self, X):\n",
    "        # [B, H] , [B, T, H], [B, T, H] , [B]\n",
    "        query_emb, keys_emb, neg_keys_emb, keys_length = self._get_emb(X)\n",
    "        # [b, T, H],  [1]  (b<H)\n",
    "        # 只有用户行为序列\n",
    "        masked_interest, aux_loss = self.interest_extractor(keys_emb, keys_length, neg_keys_emb)\n",
    "        self.add_auxiliary_loss(aux_loss, self.alpha)\n",
    "        # [B, H]\n",
    "        # 加入与候选商品的关联性\n",
    "        hist = self.interest_evolution(query_emb, masked_interest, keys_length)\n",
    "        # [B, H2]\n",
    "        deep_input_emb = self._get_deep_input_emb(X)\n",
    "        deep_input_emb = concat_fun([hist, deep_input_emb])\n",
    "        dense_value_list = get_dense_input(X, self.feature_index, self.dense_feature_columns)\n",
    "        dnn_input = combined_dnn_input([deep_input_emb], dense_value_list)\n",
    "        # [B, 1]\n",
    "        output = self.linear(self.dnn(dnn_input))\n",
    "        y_pred = self.out(output)\n",
    "        return y_pred"
   ]
  },
  {
   "cell_type": "markdown",
   "metadata": {},
   "source": [
    "## 兴趣抽取层\n",
    "<font color = \"red\">主要作用</font>:模拟用户兴趣迁移的过程，抽取用户兴趣。"
   ]
  },
  {
   "cell_type": "markdown",
   "metadata": {},
   "source": [
    "### GRU兴趣抽取层\n",
    "\n",
    "<font color = \"red\">注意</font>：注意代码中Auxilary Loss输入的时间维度，隐藏层的h(t)要和下一次输入的正负Embedding向量相乘计算Loss，且会使得时间序列减少一个t。  \n",
    "```python\n",
    "aux_loss = self._cal_auxiliary_loss(  \n",
    "    interests[:, :-1, :],  # 时间从头到为(ht, 1 <= t < T)  \n",
    "    masked_keys[:, 1:, :],  #　下一个时刻输入的(e(t+1), 1 <= t < T)向量，正例  \n",
    "    masked_neg_keys[:, 1:, :],  # 下一时刻输入的(e'(t+1), 1 <= t < T)向量，负例  \n",
    "    masked_keys_length - 1\n",
    ")\n",
    "```   \n",
    "![](./imgs/兴趣抽取.png)"
   ]
  },
  {
   "cell_type": "code",
   "execution_count": 3,
   "metadata": {},
   "outputs": [],
   "source": [
    "class InterestExtractor(nn.Module):\n",
    "    \n",
    "    def __init__(self, input_size, use_neg=False, init_std=0.001, device='cpu'):\n",
    "        \n",
    "        super(InterestExtractor, self).__init__()\n",
    "        \n",
    "        self.use_neg = use_neg\n",
    "        self.gru = nn.GRU(input_size=input_size, hidden_size=input_size, batch_first=True)\n",
    "        \n",
    "        if self.use_neg:\n",
    "            self.auxiliary_net = DNN(input_size * 2, [100, 50, 1], 'sigmoid', init_std=init_std, device=device)\n",
    "            \n",
    "        for name, tensor in self.gru.named_parameters():\n",
    "            if 'weight' in name:\n",
    "                nn.init.normal_(tensor, mean=0, std=init_std)\n",
    "                \n",
    "        self.to(device)\n",
    "\n",
    "    def forward(self, keys, keys_length, neg_keys=None):\n",
    "        \"\"\"\n",
    "        Parameters\n",
    "        ----------\n",
    "        keys: 3D tensor, [B, T, H]，用户行为序列的的Embedding向量\n",
    "        keys_length: 1D tensor, [B]，用户行为序列的长度\n",
    "        neg_keys: 3D tensor, [B, T, H]，负采样的Embedding向量\n",
    "\n",
    "        Returns\n",
    "        -------\n",
    "        masked_interests: 2D tensor, [b, H]\n",
    "        aux_loss: [1]\n",
    "        \"\"\"\n",
    "        batch_size, max_length, dim = keys.size()\n",
    "        # [B, H]\n",
    "        zero_outputs = torch.zeros(batch_size, dim, device=keys.device)\n",
    "        aux_loss = torch.zeros((1,), device=keys.device)\n",
    "\n",
    "        # create zero mask for keys_length, to make sure 'pack_padded_sequence' safe\n",
    "        mask = keys_length > 0\n",
    "        masked_keys_length = keys_length[mask]\n",
    "\n",
    "        # batch_size validation check\n",
    "        if masked_keys_length.shape[0] == 0:\n",
    "            return zero_outputs,\n",
    "\n",
    "        masked_keys = torch.masked_select(keys, mask.view(-1, 1, 1)).view(-1, max_length, dim)\n",
    "\n",
    "        packed_keys = pack_padded_sequence(masked_keys, lengths=masked_keys_length, batch_first=True,\n",
    "                                           enforce_sorted=False)\n",
    "        # packed_intersts: [T, B, H]\n",
    "        packed_interests, _ = self.gru(packed_keys)\n",
    "        interests, _ = pad_packed_sequence(packed_interests, batch_first=True, padding_value=0.0,\n",
    "                                           total_length=max_length)\n",
    "\n",
    "        if self.use_neg and neg_keys is not None:\n",
    "            masked_neg_keys = torch.masked_select(neg_keys, mask.view(-1, 1, 1)).view(-1, max_length, dim)\n",
    "            # 注意auxloss的时间维度\n",
    "            aux_loss = self._cal_auxiliary_loss(\n",
    "                interests[:, :-1, :],  # 时间从头到为(h(t), 1 <= t < T)\n",
    "                masked_keys[:, 1:, :],  #　下一个时刻输入的(e(t+1), 1 < t <= T)向量，正例\n",
    "                masked_neg_keys[:, 1:, :],  # 下一时刻输入的(e'(t+1), 1 < t <= T)向量，负例\n",
    "                masked_keys_length - 1\n",
    "            )\n",
    "\n",
    "        return interests, aux_loss"
   ]
  },
  {
   "cell_type": "markdown",
   "metadata": {},
   "source": [
    "### 辅助损失计算\n",
    "**目标**：   \n",
    "就是让当前时刻输出的隐藏状态$h_t$尽量的与下一个时刻用户点击的行为embedding相似，与下一个时刻里面用户没有点击过的行为embedding越远。　　\n",
    "- aux_loss引入说明  \n",
    "![](./imgs/aux说明.png)\n",
    "- 损失函数(注意时间维度和输入维度)\n",
    "$$\n",
    "L_{aux} = -1/N(\\sum^N_{i=1}\\sum_{t}log\\sigma(h^i_t, e^i_b[t+1]) + log(1 - \\sigma(h^i_t, e^{i'}_b[t+1])))\n",
    "$$\n",
    "- N-Pairs(个人理解，与采样的负样本序列有关,负样本的采样不考虑当前时间结点的Embedding向量)  \n",
    "![](./imgs/N表示.png)\n",
    "- 图例  \n",
    "![](./imgs/aux_loss.png)"
   ]
  },
  {
   "cell_type": "code",
   "execution_count": 4,
   "metadata": {},
   "outputs": [],
   "source": [
    "def _cal_auxiliary_loss(self, states, click_seq, noclick_seq, keys_length):\n",
    "\n",
    "    # keys_length >= 1\n",
    "    mask_shape = keys_length > 0\n",
    "    keys_length = keys_length[mask_shape]\n",
    "    if keys_length.shape[0] == 0:\n",
    "        return torch.zeros((1,), device=states.device)\n",
    "\n",
    "    _, max_seq_length, embedding_size = states.size()\n",
    "    states = torch.masked_select(states, mask_shape.view(-1, 1, 1)).view(-1, max_seq_length, embedding_size)\n",
    "    click_seq = torch.masked_select(click_seq, mask_shape.view(-1, 1, 1)).view(-1, max_seq_length, embedding_size)\n",
    "    noclick_seq = torch.masked_select(noclick_seq, mask_shape.view(-1, 1, 1)).view(-1, max_seq_length,\n",
    "                                                                                   embedding_size)\n",
    "    batch_size = states.size()[0]\n",
    "\n",
    "    mask = (torch.arange(max_seq_length, device=states.device).repeat(\n",
    "        batch_size, 1) < keys_length.view(-1, 1)).float()\n",
    "\n",
    "    click_input = torch.cat([states, click_seq], dim=-1)\n",
    "    noclick_input = torch.cat([states, noclick_seq], dim=-1)\n",
    "    embedding_size = embedding_size * 2\n",
    "\n",
    "    # 下一次已点击\n",
    "    click_p = self.auxiliary_net(click_input.view(\n",
    "        batch_size * max_seq_length, embedding_size)).view(\n",
    "        batch_size, max_seq_length)[mask > 0].view(-1, 1)  # [T, 1]\n",
    "    click_target = torch.ones(\n",
    "        click_p.size(), dtype=torch.float, device=click_p.device)\n",
    "\n",
    "    # 下一次未点击\n",
    "    noclick_p = self.auxiliary_net(noclick_input.view(\n",
    "        batch_size * max_seq_length, embedding_size)).view(\n",
    "        batch_size, max_seq_length)[mask > 0].view(-1, 1)  # [T, 1]\n",
    "    noclick_target = torch.zeros(\n",
    "        noclick_p.size(), dtype=torch.float, device=noclick_p.device)\n",
    "\n",
    "    # 二元交叉熵损失\n",
    "    loss = F.binary_cross_entropy(\n",
    "        torch.cat([click_p, noclick_p], dim=0),\n",
    "        torch.cat([click_target, noclick_target], dim=0))\n",
    "\n",
    "    return loss"
   ]
  },
  {
   "cell_type": "code",
   "execution_count": 5,
   "metadata": {},
   "outputs": [
    {
     "name": "stderr",
     "output_type": "stream",
     "text": [
      "/home/gavin/anaconda3/lib/python3.8/site-packages/torch/nn/functional.py:1639: UserWarning: nn.functional.sigmoid is deprecated. Use torch.sigmoid instead.\n",
      "  warnings.warn(\"nn.functional.sigmoid is deprecated. Use torch.sigmoid instead.\")\n"
     ]
    }
   ],
   "source": [
    "# 交叉熵损失计算\n",
    "from torch.nn import functional as F\n",
    "input = torch.randn((3, 1), requires_grad=True)\n",
    "target = torch.rand((3, 1), requires_grad=False)\n",
    "loss = F.binary_cross_entropy(F.sigmoid(input), target)"
   ]
  },
  {
   "cell_type": "markdown",
   "metadata": {},
   "source": [
    "### aux-loss优点\n",
    "总的来说，引入辅助损失具有以下几个优点:\n",
    "- 从兴趣学习的角度来看，引入辅助损失可以使GRU的各个隐藏状态都能表达出兴趣。\n",
    "- 对于GRU的优化，当GRU模型为长历史行为序列时，辅助损失降低了反向传播的难度。\n",
    "- 辅助损失为嵌入层的学习提供了更多的语义信息，从而得到更好的嵌入矩阵。"
   ]
  },
  {
   "cell_type": "markdown",
   "metadata": {},
   "source": [
    "## 兴趣进化层\n",
    "<font color = \"red\">主要作用</font>：在兴趣抽取层的基础上加入注意力机制，模拟与当前目标广告相关的兴趣进化过程。"
   ]
  },
  {
   "cell_type": "markdown",
   "metadata": {},
   "source": [
    "### AUGRU计算\n",
    "**AUGRU优点**：既保留了AGRU的优点， 能够让与当前候选广告相关的兴趣合理演化而不受非相关兴趣的影响， 又克服了AGRU忽略了兴趣在不同维度上的保持重要性的不足，因为这个并没有改变更新门的向量维度，依然是向量，依然每个维度可以决定兴趣相应维度的重要性。 因此，AUGRU使得每一步的局部激活都能强化相关兴趣的作用，减弱兴趣漂移的干扰，有助于模拟相对目标项目的兴趣演化过程。\n",
    "- 计算公式\n",
    "$$\n",
    "\\begin{array}{l}\n",
    "\\tilde{\\mathbf{u}}_{t}^{\\prime}=a_{t} * \\mathbf{u}_{t}^{\\prime} \\\\\n",
    "\\mathbf{h}_{t}^{\\prime}=\\left(1-\\tilde{\\mathbf{u}}_{t}^{\\prime}\\right) \\circ \\mathbf{h}_{t-1}^{\\prime}+\\tilde{\\mathbf{u}}_{t}^{\\prime} \\circ \\tilde{\\mathbf{h}}_{t}^{\\prime}\n",
    "\\end{array}\n",
    "$$ \n",
    "其中，$a_t$为相应时间序列的注意力权重分数，而$\\tilde{\\mathbf{u}}_{t}^{\\prime}$为更新门，注意机制分数计算的过程与DIN模型一样，不过此处对最后的相关度进行了归一化操作SoftMax。\n",
    "- 图例  \n",
    "![](./imgs/兴趣进化层.png)"
   ]
  },
  {
   "cell_type": "code",
   "execution_count": 6,
   "metadata": {},
   "outputs": [],
   "source": [
    "class AUGRUCell(nn.Module):\n",
    "    \"\"\" Effect of GRU with attentional update gate (AUGRU)\n",
    "\n",
    "        Reference:\n",
    "        -  Deep Interest Evolution Network for Click-Through Rate Prediction[J]. arXiv preprint arXiv:1809.03672, 2018.\n",
    "    \"\"\"\n",
    "\n",
    "    def __init__(self, input_size, hidden_size, bias=True):\n",
    "        super(AUGRUCell, self).__init__()\n",
    "        self.input_size = input_size\n",
    "        self.hidden_size = hidden_size\n",
    "        self.bias = bias\n",
    "        # (W_ir|W_iz|W_ih)\n",
    "        self.weight_ih = nn.Parameter(torch.Tensor(3 * hidden_size, input_size))\n",
    "        self.register_parameter('weight_ih', self.weight_ih)\n",
    "        # (W_hr|W_hz|W_hh)\n",
    "        self.weight_hh = nn.Parameter(torch.Tensor(3 * hidden_size, hidden_size))\n",
    "        self.register_parameter('weight_hh', self.weight_hh)\n",
    "        if bias:\n",
    "            # (b_ir|b_iz|b_ih)\n",
    "            self.bias_ih = nn.Parameter(torch.Tensor(3 * hidden_size))\n",
    "            self.register_parameter('bias_ih', self.bias_ih)\n",
    "            # (b_hr|b_hz|b_hh)\n",
    "            self.bias_hh = nn.Parameter(torch.Tensor(3 * hidden_size))\n",
    "            self.register_parameter('bias_ih', self.bias_hh)\n",
    "            for tensor in [self.bias_ih, self.bias_hh]:\n",
    "                nn.init.zeros_(tensor, )\n",
    "        else:\n",
    "            self.register_parameter('bias_ih', None)\n",
    "            self.register_parameter('bias_hh', None)\n",
    "\n",
    "    def forward(self, input, hx, att_score):\n",
    "        \n",
    "        gi = F.linear(input, self.weight_ih, self.bias_ih)\n",
    "        gh = F.linear(hx, self.weight_hh, self.bias_hh)\n",
    "        i_r, i_z, i_n = gi.chunk(3, 1)\n",
    "        h_r, h_z, h_n = gh.chunk(3, 1)\n",
    "\n",
    "        reset_gate = torch.sigmoid(i_r + h_r)\n",
    "        update_gate = torch.sigmoid(i_z + h_z)\n",
    "        new_state = torch.tanh(i_n + reset_gate * h_n)\n",
    "        # 引入注意力机制，与候选商品建立练习\n",
    "        att_score = att_score.view(-1, 1)\n",
    "        # 重新设置更新门，引入注意力分数\n",
    "        update_gate = att_score * update_gate\n",
    "        hy = (1. - update_gate) * hx + update_gate * new_state\n",
    "        \n",
    "        return hy"
   ]
  },
  {
   "cell_type": "markdown",
   "metadata": {},
   "source": [
    "## 实战1:DIEN模型初探"
   ]
  },
  {
   "cell_type": "code",
   "execution_count": 7,
   "metadata": {},
   "outputs": [],
   "source": [
    "from deepctr_torch.models import DIEN\n",
    "from deepctr_torch.inputs import SparseFeat, DenseFeat, VarLenSparseFeat, get_feature_names\n",
    "import numpy as np\n",
    "import pandas as pd\n",
    "import matplotlib.pyplot as plt\n",
    "from random import sample\n",
    "from matplotlib import rcParams\n",
    "import warnings\n",
    "\n",
    "warnings.filterwarnings(\"ignore\")\n",
    "config = {\n",
    "    \"font.family\":'Times New Roman',  # 设置字体类型\n",
    "}\n",
    "\n",
    "rcParams.update(config)"
   ]
  },
  {
   "cell_type": "markdown",
   "metadata": {},
   "source": [
    "### 数据预处理"
   ]
  },
  {
   "cell_type": "code",
   "execution_count": 8,
   "metadata": {},
   "outputs": [],
   "source": [
    "# 数据处理\n",
    "behavior_feature_list = [\"item_id\", \"cate_id\"]\n",
    "uid = np.array([0, 1, 2, 3])\n",
    "gender = np.array([0, 1, 0, 1])\n",
    "item_id = np.array([1, 2, 3, 2])  # 0 is mask value\n",
    "cate_id = np.array([1, 2, 1, 2])  # 0 is mask value\n",
    "score = np.array([0.1, 0.2, 0.3, 0.2])\n",
    "\n",
    "hist_item_id = np.array([[1, 2, 3, 0], [1, 2, 3, 0], [1, 2, 0, 0], [1, 2, 0, 0]])\n",
    "hist_cate_id = np.array([[1, 1, 2, 0], [2, 1, 1, 0], [2, 1, 0, 0], [1, 2, 0, 0]])\n",
    "behavior_length = np.array([3, 3, 2, 2])\n",
    "\n",
    "feature_dict = {'user': uid, 'gender': gender, 'item_id': item_id, 'cate_id': cate_id,\n",
    "                'hist_item_id': hist_item_id, 'hist_cate_id': hist_cate_id,\n",
    "                'pay_score': score, \"seq_length\": behavior_length}"
   ]
  },
  {
   "cell_type": "code",
   "execution_count": 10,
   "metadata": {},
   "outputs": [],
   "source": [
    "# 编码数据信息\n",
    "# sigle_feat\n",
    "feature_columns = [SparseFeat(\"user\", 4, embedding_dim = 4)\n",
    "                   , SparseFeat(\"gender\", 2, embedding_dim = 2)\n",
    "                   , SparseFeat(\"item_id\", 3 + 1, embedding_dim = 8)\n",
    "                   , SparseFeat(\"cate_id\", 2 + 1, embedding_dim=4)\n",
    "                   , DenseFeat(\"pay_score\", 1)\n",
    "                  ]\n",
    "# hist_feat\n",
    "feature_columns += [VarLenSparseFeat(SparseFeat(\"hist_item_id\", vocabulary_size = 3 + 1, embedding_dim = 8, embedding_name = \"item_id\")\n",
    "                                     , maxlen=4\n",
    "                                     , length_name=\"seq_length\"\n",
    "                                    )\n",
    "                    , VarLenSparseFeat(SparseFeat(\"hist_cate_id\", vocabulary_size = 2 + 1, embedding_dim=4, embedding_name=\"cate_id\")\n",
    "                                       , maxlen=4\n",
    "                                       , length_name=\"seq_length\"\n",
    "                                      )\n",
    "                   ]"
   ]
  },
  {
   "cell_type": "code",
   "execution_count": 11,
   "metadata": {},
   "outputs": [],
   "source": [
    "# 负采样数据\n",
    "# 采样数据？\n",
    "feature_dict['neg_hist_item_id'] = np.array([[1, 2, 3, 0], [1, 2, 3, 0], [1, 2, 0, 0], [1, 2, 0, 0]])\n",
    "feature_dict['neg_hist_cate_id'] = np.array([[1, 1, 2, 0], [2, 1, 1, 0], [2, 1, 0, 0], [1, 2, 0, 0]])\n",
    "feature_columns += [\n",
    "    VarLenSparseFeat(\n",
    "        SparseFeat('neg_hist_item_id', vocabulary_size=3 + 1, embedding_dim=8, embedding_name='item_id'),\n",
    "        maxlen=4, length_name=\"seq_length\"),\n",
    "    VarLenSparseFeat(\n",
    "        SparseFeat('neg_hist_cate_id', vocabulary_size=2 + 1, embedding_dim=4, embedding_name='cate_id'),\n",
    "        maxlen=4, length_name=\"seq_length\")]"
   ]
  },
  {
   "cell_type": "code",
   "execution_count": 13,
   "metadata": {},
   "outputs": [],
   "source": [
    "# 数据编码\n",
    "x = {name: feature_dict[name] for name in get_feature_names(feature_columns)}\n",
    "y = np.array([1, 0, 1, 0])"
   ]
  },
  {
   "cell_type": "code",
   "execution_count": 14,
   "metadata": {},
   "outputs": [
    {
     "data": {
      "text/plain": [
       "['item_id', 'cate_id']"
      ]
     },
     "execution_count": 14,
     "metadata": {},
     "output_type": "execute_result"
    }
   ],
   "source": [
    "behavior_feature_list"
   ]
  },
  {
   "cell_type": "markdown",
   "metadata": {},
   "source": [
    "### 模型训练和评估"
   ]
  },
  {
   "cell_type": "code",
   "execution_count": 15,
   "metadata": {},
   "outputs": [
    {
     "data": {
      "text/plain": [
       "DIEN(\n",
       "  (embedding_dict): ModuleDict(\n",
       "    (user): Embedding(4, 4)\n",
       "    (gender): Embedding(2, 2)\n",
       "    (item_id): Embedding(4, 8)\n",
       "    (cate_id): Embedding(3, 4)\n",
       "  )\n",
       "  (linear_model): Linear(\n",
       "    (embedding_dict): ModuleDict()\n",
       "  )\n",
       "  (out): PredictionLayer()\n",
       "  (interest_extractor): InterestExtractor(\n",
       "    (gru): GRU(12, 12, batch_first=True)\n",
       "    (auxiliary_net): DNN(\n",
       "      (dropout): Dropout(p=0, inplace=False)\n",
       "      (linears): ModuleList(\n",
       "        (0): Linear(in_features=24, out_features=100, bias=True)\n",
       "        (1): Linear(in_features=100, out_features=50, bias=True)\n",
       "        (2): Linear(in_features=50, out_features=1, bias=True)\n",
       "      )\n",
       "      (activation_layers): ModuleList(\n",
       "        (0): Sigmoid()\n",
       "        (1): Sigmoid()\n",
       "        (2): Sigmoid()\n",
       "      )\n",
       "    )\n",
       "  )\n",
       "  (interest_evolution): InterestEvolving(\n",
       "    (attention): AttentionSequencePoolingLayer(\n",
       "      (local_att): LocalActivationUnit(\n",
       "        (dnn): DNN(\n",
       "          (dropout): Dropout(p=0, inplace=False)\n",
       "          (linears): ModuleList(\n",
       "            (0): Linear(in_features=48, out_features=64, bias=True)\n",
       "            (1): Linear(in_features=64, out_features=16, bias=True)\n",
       "          )\n",
       "          (activation_layers): ModuleList(\n",
       "            (0): ReLU(inplace=True)\n",
       "            (1): ReLU(inplace=True)\n",
       "          )\n",
       "        )\n",
       "        (dense): Linear(in_features=16, out_features=1, bias=True)\n",
       "      )\n",
       "    )\n",
       "    (interest_evolution): DynamicGRU(\n",
       "      (rnn): AUGRUCell()\n",
       "    )\n",
       "  )\n",
       "  (dnn): DNN(\n",
       "    (dropout): Dropout(p=0.6, inplace=False)\n",
       "    (linears): ModuleList(\n",
       "      (0): Linear(in_features=31, out_features=4, bias=True)\n",
       "      (1): Linear(in_features=4, out_features=4, bias=True)\n",
       "      (2): Linear(in_features=4, out_features=4, bias=True)\n",
       "    )\n",
       "    (activation_layers): ModuleList(\n",
       "      (0): ReLU(inplace=True)\n",
       "      (1): ReLU(inplace=True)\n",
       "      (2): ReLU(inplace=True)\n",
       "    )\n",
       "  )\n",
       "  (linear): Linear(in_features=4, out_features=1, bias=False)\n",
       ")"
      ]
     },
     "execution_count": 15,
     "metadata": {},
     "output_type": "execute_result"
    }
   ],
   "source": [
    "device = 'cpu'\n",
    "use_cuda = False\n",
    "if use_cuda and torch.cuda.is_available():\n",
    "    print('cuda ready...')\n",
    "    device = 'cuda:0'\n",
    "\n",
    "model = DIEN(dnn_feature_columns=feature_columns, history_feature_list=behavior_feature_list\n",
    "             , use_negsampling=True\n",
    "             , dnn_hidden_units=[4, 4, 4]\n",
    "             , gru_type = \"AUGRU\"\n",
    "             , dnn_dropout = 0.6\n",
    "             , device=device\n",
    "            )\n",
    "model"
   ]
  },
  {
   "cell_type": "code",
   "execution_count": 16,
   "metadata": {},
   "outputs": [
    {
     "name": "stdout",
     "output_type": "stream",
     "text": [
      "cpu\n",
      "Train on 4 samples, validate on 0 samples, 2 steps per epoch\n",
      "Epoch 1/10\n",
      "0s - loss:  1.0405 - binary_crossentropy:  0.6930 - auc:  1.0000\n",
      "Epoch 2/10\n",
      "0s - loss:  1.0400 - binary_crossentropy:  0.6931 - auc:  0.5000\n",
      "Epoch 3/10\n",
      "0s - loss:  1.0399 - binary_crossentropy:  0.6933 - auc:  0.5000\n",
      "Epoch 4/10\n",
      "0s - loss:  1.0398 - binary_crossentropy:  0.6932 - auc:  0.5000\n",
      "Epoch 5/10\n",
      "0s - loss:  1.0408 - binary_crossentropy:  0.6941 - auc:  0.0000\n",
      "Epoch 6/10\n",
      "0s - loss:  1.0402 - binary_crossentropy:  0.6934 - auc:  0.0000\n",
      "Epoch 7/10\n",
      "0s - loss:  1.0392 - binary_crossentropy:  0.6926 - auc:  1.0000\n",
      "Epoch 8/10\n",
      "0s - loss:  1.0398 - binary_crossentropy:  0.6932 - auc:  0.5000\n",
      "Epoch 9/10\n",
      "0s - loss:  1.0403 - binary_crossentropy:  0.6938 - auc:  0.5000\n",
      "Epoch 10/10\n",
      "0s - loss:  1.0391 - binary_crossentropy:  0.6925 - auc:  0.5000\n"
     ]
    }
   ],
   "source": [
    "model.compile(optimizer=\"adam\", loss=\"binary_crossentropy\", metrics=[\"binary_crossentropy\", \"auc\"])\n",
    "history = model.fit(x, y, batch_size=2, epochs=10, shuffle=False, verbose=2)"
   ]
  },
  {
   "cell_type": "code",
   "execution_count": 17,
   "metadata": {},
   "outputs": [],
   "source": [
    "def plot_metric(dfhistory, metric, ax):\n",
    "    \"\"\"绘制评估曲线\"\"\"\n",
    "\n",
    "    train_metrics = dfhistory[metric]\n",
    "#     val_metrics = dfhistory['val_' + metric]\n",
    "    epochs = range(1, len(train_metrics) + 1)\n",
    "    ax.plot(epochs, train_metrics, 'bo--')\n",
    "#     ax.plot(epochs, val_metrics, 'ro-')\n",
    "    ax.set_title('Training and validation '+ metric, fontsize=15)\n",
    "    ax.set_xlabel(\"Epochs\", fontsize=14)\n",
    "    ax.set_ylabel(metric, fontsize=14)\n",
    "    ax.legend([\"train_\" + metric, 'val_' + metric], fontsize=12)\n",
    "    ax.grid()"
   ]
  },
  {
   "cell_type": "code",
   "execution_count": 18,
   "metadata": {},
   "outputs": [
    {
     "data": {
      "image/png": "[encoded data removed]",
      "text/plain": [
       "<Figure size 1296x360 with 2 Axes>"
      ]
     },
     "metadata": {
      "needs_background": "light"
     },
     "output_type": "display_data"
    }
   ],
   "source": [
    "# 观察损失和准确率的变化\n",
    "dfhistory = history.history\n",
    "fig, (ax1, ax2) = plt.subplots(1, 2, figsize=(18, 5))\n",
    "plot_metric(dfhistory,\"binary_crossentropy\", ax1)\n",
    "plot_metric(dfhistory,\"auc\", ax2)"
   ]
  },
  {
   "cell_type": "markdown",
   "metadata": {},
   "source": [
    "## 实战2：Movielens数据集"
   ]
  },
  {
   "cell_type": "markdown",
   "metadata": {},
   "source": [
    "### 数据预处理"
   ]
  },
  {
   "cell_type": "code",
   "execution_count": 19,
   "metadata": {},
   "outputs": [
    {
     "data": {
      "text/html": [
       "<div>\n",
       "<style scoped>\n",
       "    .dataframe tbody tr th:only-of-type {\n",
       "        vertical-align: middle;\n",
       "    }\n",
       "\n",
       "    .dataframe tbody tr th {\n",
       "        vertical-align: top;\n",
       "    }\n",
       "\n",
       "    .dataframe thead th {\n",
       "        text-align: right;\n",
       "    }\n",
       "</style>\n",
       "<table border=\"1\" class=\"dataframe\">\n",
       "  <thead>\n",
       "    <tr style=\"text-align: right;\">\n",
       "      <th></th>\n",
       "      <th>user_id</th>\n",
       "      <th>gender</th>\n",
       "      <th>age</th>\n",
       "      <th>hist_movie_id</th>\n",
       "      <th>hist_len</th>\n",
       "      <th>movie_id</th>\n",
       "      <th>movie_type_id</th>\n",
       "      <th>label</th>\n",
       "    </tr>\n",
       "  </thead>\n",
       "  <tbody>\n",
       "    <tr>\n",
       "      <th>0</th>\n",
       "      <td>1</td>\n",
       "      <td>1</td>\n",
       "      <td>1</td>\n",
       "      <td>186,0,0,0,0,0,0,0,0,0,0,0,0,0,0,0,0,0,0,0,0,0,...</td>\n",
       "      <td>1</td>\n",
       "      <td>112</td>\n",
       "      <td>2</td>\n",
       "      <td>1</td>\n",
       "    </tr>\n",
       "    <tr>\n",
       "      <th>1</th>\n",
       "      <td>1</td>\n",
       "      <td>1</td>\n",
       "      <td>1</td>\n",
       "      <td>186,0,0,0,0,0,0,0,0,0,0,0,0,0,0,0,0,0,0,0,0,0,...</td>\n",
       "      <td>1</td>\n",
       "      <td>38</td>\n",
       "      <td>5</td>\n",
       "      <td>0</td>\n",
       "    </tr>\n",
       "    <tr>\n",
       "      <th>2</th>\n",
       "      <td>1</td>\n",
       "      <td>1</td>\n",
       "      <td>1</td>\n",
       "      <td>186,0,0,0,0,0,0,0,0,0,0,0,0,0,0,0,0,0,0,0,0,0,...</td>\n",
       "      <td>1</td>\n",
       "      <td>151</td>\n",
       "      <td>7</td>\n",
       "      <td>0</td>\n",
       "    </tr>\n",
       "    <tr>\n",
       "      <th>3</th>\n",
       "      <td>1</td>\n",
       "      <td>1</td>\n",
       "      <td>1</td>\n",
       "      <td>186,0,0,0,0,0,0,0,0,0,0,0,0,0,0,0,0,0,0,0,0,0,...</td>\n",
       "      <td>1</td>\n",
       "      <td>77</td>\n",
       "      <td>6</td>\n",
       "      <td>0</td>\n",
       "    </tr>\n",
       "    <tr>\n",
       "      <th>4</th>\n",
       "      <td>1</td>\n",
       "      <td>1</td>\n",
       "      <td>1</td>\n",
       "      <td>186,0,0,0,0,0,0,0,0,0,0,0,0,0,0,0,0,0,0,0,0,0,...</td>\n",
       "      <td>1</td>\n",
       "      <td>188</td>\n",
       "      <td>9</td>\n",
       "      <td>0</td>\n",
       "    </tr>\n",
       "  </tbody>\n",
       "</table>\n",
       "</div>"
      ],
      "text/plain": [
       "   user_id  gender  age                                      hist_movie_id  \\\n",
       "0        1       1    1  186,0,0,0,0,0,0,0,0,0,0,0,0,0,0,0,0,0,0,0,0,0,...   \n",
       "1        1       1    1  186,0,0,0,0,0,0,0,0,0,0,0,0,0,0,0,0,0,0,0,0,0,...   \n",
       "2        1       1    1  186,0,0,0,0,0,0,0,0,0,0,0,0,0,0,0,0,0,0,0,0,0,...   \n",
       "3        1       1    1  186,0,0,0,0,0,0,0,0,0,0,0,0,0,0,0,0,0,0,0,0,0,...   \n",
       "4        1       1    1  186,0,0,0,0,0,0,0,0,0,0,0,0,0,0,0,0,0,0,0,0,0,...   \n",
       "\n",
       "   hist_len  movie_id  movie_type_id  label  \n",
       "0         1       112              2      1  \n",
       "1         1        38              5      0  \n",
       "2         1       151              7      0  \n",
       "3         1        77              6      0  \n",
       "4         1       188              9      0  "
      ]
     },
     "execution_count": 19,
     "metadata": {},
     "output_type": "execute_result"
    }
   ],
   "source": [
    "df = pd.read_table(\"./data/movie_sample.txt\", sep=\"\\t\", header=None)\n",
    "df.columns = [\"user_id\", \"gender\", \"age\", \"hist_movie_id\", \"hist_len\", \"movie_id\", \"movie_type_id\", \"label\"]\n",
    "# hist_len等于50\n",
    "df.head()"
   ]
  },
  {
   "cell_type": "code",
   "execution_count": 20,
   "metadata": {},
   "outputs": [],
   "source": [
    "def get_neg_click(data_df, neg_num = 0):\n",
    "    \"\"\"负采样, 1:1 正负样本采样\"\"\"\n",
    "    \n",
    "    movies_np = data_df[\"hist_movie_id\"].values\n",
    "    movies_list =[]\n",
    "    for movie in movies_np:\n",
    "        movies_list.extend([x for x in movie.split(\",\") if x!= \"0\"])\n",
    "    \n",
    "    # 去重\n",
    "    movies_set = set(movies_list)\n",
    "    neg_movies_list = []\n",
    "    \n",
    "    for movies in movies_np:\n",
    "        hist_movies = set([x for x in movies  if x != \"0\"])\n",
    "        #　用户未点击的样本作为负样本\n",
    "        neg_movies_set = movies_set - hist_movies\n",
    "        # 采样指定个数的负样本（保证和用户序列长度相同）\n",
    "        neg_movies = sample(neg_movies_set, neg_num)\n",
    "        neg_movies_list.append(\",\".join(neg_movies))\n",
    "    \n",
    "    return pd.Series(neg_movies_list)"
   ]
  },
  {
   "cell_type": "code",
   "execution_count": 21,
   "metadata": {},
   "outputs": [
    {
     "data": {
      "text/plain": [
       "array([ 1,  1,  1, ..., 50, 50, 50])"
      ]
     },
     "execution_count": 21,
     "metadata": {},
     "output_type": "execute_result"
    }
   ],
   "source": [
    "# 划分数据集\n",
    "X = df.iloc[:, :-1]\n",
    "y = df.iloc[:, -1]\n",
    "\n",
    "# 负采样数据，用于计算辅助损失\n",
    "X[\"neg_hist_movie_id\"] = get_neg_click(data_df=X, neg_num=50)\n",
    "behavior_len = np.array([len([int(i) for i in l.split(\",\") if int(i) != 0]) for l in X[\"hist_movie_id\"]])\n",
    "behavior_len"
   ]
  },
  {
   "cell_type": "code",
   "execution_count": 22,
   "metadata": {},
   "outputs": [],
   "source": [
    "X_train = {\"user_id\": np.array(X[\"user_id\"]), \\\n",
    "        \"gender\": np.array(X[\"gender\"]), \\\n",
    "        \"age\": np.array(X[\"age\"]), \\\n",
    "        \"hist_movie_id\": np.array([[int(i) for i in l.split(',')] for l in X[\"hist_movie_id\"]]), \\\n",
    "        \"neg_hist_movie_id\": np.array([[int(i) for i in l.split(',')] for l in X[\"neg_hist_movie_id\"]]), \\\n",
    "        \"seq_length\": behavior_len, \\\n",
    "        \"hist_len\": np.array(X[\"hist_len\"]), \\\n",
    "        \"movie_id\": np.array(X[\"movie_id\"]), \\\n",
    "        \"movie_type_id\": np.array(X[\"movie_type_id\"])}\n",
    "\n",
    "y_train = np.array(y)"
   ]
  },
  {
   "cell_type": "code",
   "execution_count": 23,
   "metadata": {},
   "outputs": [],
   "source": [
    "# 编码\n",
    "behavior_feature_list = [\"movie_id\"]\n",
    "\n",
    "# SpaseFeat\n",
    "spase_columns = ['user_id', 'gender', 'age', 'movie_id', 'movie_type_id']\n",
    "feature_columns = []\n",
    "for feat_name in spase_columns:\n",
    "    feature_columns.append(SparseFeat(feat_name, max(df[feat_name]) + 1, embedding_dim=8))\n",
    "    \n",
    "# DenseFeat\n",
    "feature_columns.append(DenseFeat(name=\"hist_len\", dimension=1))\n",
    "\n",
    "# VarLenSpaseFeat\n",
    "# 用户历史记录\n",
    "feature_columns.append(VarLenSparseFeat(SparseFeat(\"hist_movie_id\"\n",
    "                                                   , vocabulary_size=max(df[\"movie_id\"]) + 1\n",
    "                                                   , embedding_dim=8\n",
    "                                                   , embedding_name=\"movie_id\"\n",
    "                                                  )\n",
    "                                        , maxlen=50\n",
    "                                        , length_name=\"seq_length\")\n",
    "                      )\n",
    "# 负采样\n",
    "feature_columns.append(VarLenSparseFeat(SparseFeat(\"neg_hist_movie_id\"\n",
    "                                                   , vocabulary_size=max(df[\"movie_id\"]) + 1\n",
    "                                                   , embedding_dim=8\n",
    "                                                   , embedding_name=\"movie_id\"\n",
    "                                                  )\n",
    "                                        , maxlen=50\n",
    "                                        , length_name=\"seq_length\")\n",
    "                      )"
   ]
  },
  {
   "cell_type": "markdown",
   "metadata": {},
   "source": [
    "### 模型训练和评估"
   ]
  },
  {
   "cell_type": "code",
   "execution_count": 24,
   "metadata": {},
   "outputs": [
    {
     "data": {
      "text/plain": [
       "DIEN(\n",
       "  (embedding_dict): ModuleDict(\n",
       "    (user_id): Embedding(4, 8)\n",
       "    (gender): Embedding(3, 8)\n",
       "    (age): Embedding(4, 8)\n",
       "    (movie_id): Embedding(209, 8)\n",
       "    (movie_type_id): Embedding(10, 8)\n",
       "  )\n",
       "  (linear_model): Linear(\n",
       "    (embedding_dict): ModuleDict()\n",
       "  )\n",
       "  (out): PredictionLayer()\n",
       "  (interest_extractor): InterestExtractor(\n",
       "    (gru): GRU(8, 8, batch_first=True)\n",
       "    (auxiliary_net): DNN(\n",
       "      (dropout): Dropout(p=0, inplace=False)\n",
       "      (linears): ModuleList(\n",
       "        (0): Linear(in_features=16, out_features=100, bias=True)\n",
       "        (1): Linear(in_features=100, out_features=50, bias=True)\n",
       "        (2): Linear(in_features=50, out_features=1, bias=True)\n",
       "      )\n",
       "      (activation_layers): ModuleList(\n",
       "        (0): Sigmoid()\n",
       "        (1): Sigmoid()\n",
       "        (2): Sigmoid()\n",
       "      )\n",
       "    )\n",
       "  )\n",
       "  (interest_evolution): InterestEvolving(\n",
       "    (attention): AttentionSequencePoolingLayer(\n",
       "      (local_att): LocalActivationUnit(\n",
       "        (dnn): DNN(\n",
       "          (dropout): Dropout(p=0, inplace=False)\n",
       "          (linears): ModuleList(\n",
       "            (0): Linear(in_features=32, out_features=64, bias=True)\n",
       "            (1): Linear(in_features=64, out_features=16, bias=True)\n",
       "          )\n",
       "          (activation_layers): ModuleList(\n",
       "            (0): ReLU(inplace=True)\n",
       "            (1): ReLU(inplace=True)\n",
       "          )\n",
       "        )\n",
       "        (dense): Linear(in_features=16, out_features=1, bias=True)\n",
       "      )\n",
       "    )\n",
       "    (interest_evolution): DynamicGRU(\n",
       "      (rnn): AUGRUCell()\n",
       "    )\n",
       "  )\n",
       "  (dnn): DNN(\n",
       "    (dropout): Dropout(p=0.6, inplace=False)\n",
       "    (linears): ModuleList(\n",
       "      (0): Linear(in_features=49, out_features=4, bias=True)\n",
       "      (1): Linear(in_features=4, out_features=4, bias=True)\n",
       "      (2): Linear(in_features=4, out_features=4, bias=True)\n",
       "    )\n",
       "    (activation_layers): ModuleList(\n",
       "      (0): ReLU(inplace=True)\n",
       "      (1): ReLU(inplace=True)\n",
       "      (2): ReLU(inplace=True)\n",
       "    )\n",
       "  )\n",
       "  (linear): Linear(in_features=4, out_features=1, bias=False)\n",
       ")"
      ]
     },
     "execution_count": 24,
     "metadata": {},
     "output_type": "execute_result"
    }
   ],
   "source": [
    "device = 'cpu'\n",
    "use_cuda = False\n",
    "if use_cuda and torch.cuda.is_available():\n",
    "    print('cuda ready...')\n",
    "    device = 'cuda:0'\n",
    "\n",
    "model = DIEN(dnn_feature_columns=feature_columns, history_feature_list=behavior_feature_list\n",
    "             , use_negsampling=True\n",
    "             , dnn_hidden_units=[4, 4, 4]\n",
    "             , gru_type = \"AUGRU\"\n",
    "             , dnn_dropout = 0.6\n",
    "             , device=device\n",
    "            )\n",
    "model"
   ]
  },
  {
   "cell_type": "code",
   "execution_count": 25,
   "metadata": {},
   "outputs": [
    {
     "name": "stderr",
     "output_type": "stream",
     "text": [
      "2it [00:00, 13.19it/s]"
     ]
    },
    {
     "name": "stdout",
     "output_type": "stream",
     "text": [
      "cpu\n",
      "Train on 1104 samples, validate on 276 samples, 18 steps per epoch\n"
     ]
    },
    {
     "name": "stderr",
     "output_type": "stream",
     "text": [
      "18it [00:01, 11.57it/s]\n",
      "2it [00:00, 12.90it/s]"
     ]
    },
    {
     "name": "stdout",
     "output_type": "stream",
     "text": [
      "Epoch 1/20\n",
      "1s - loss:  0.7006 - binary_crossentropy:  0.6891 - auc:  0.4743 - val_binary_crossentropy:  0.6844 - val_auc:  0.5000\n"
     ]
    },
    {
     "name": "stderr",
     "output_type": "stream",
     "text": [
      "18it [00:01, 11.55it/s]\n",
      "2it [00:00, 15.52it/s]"
     ]
    },
    {
     "name": "stdout",
     "output_type": "stream",
     "text": [
      "Epoch 2/20\n",
      "1s - loss:  0.6917 - binary_crossentropy:  0.6801 - auc:  0.4805 - val_binary_crossentropy:  0.6755 - val_auc:  0.4995\n"
     ]
    },
    {
     "name": "stderr",
     "output_type": "stream",
     "text": [
      "18it [00:01, 11.64it/s]\n",
      "2it [00:00, 17.10it/s]"
     ]
    },
    {
     "name": "stdout",
     "output_type": "stream",
     "text": [
      "Epoch 3/20\n",
      "1s - loss:  0.6826 - binary_crossentropy:  0.6710 - auc:  0.4913 - val_binary_crossentropy:  0.6662 - val_auc:  0.4940\n"
     ]
    },
    {
     "name": "stderr",
     "output_type": "stream",
     "text": [
      "18it [00:01, 10.47it/s]\n",
      "2it [00:00, 15.54it/s]"
     ]
    },
    {
     "name": "stdout",
     "output_type": "stream",
     "text": [
      "Epoch 4/20\n",
      "1s - loss:  0.6727 - binary_crossentropy:  0.6610 - auc:  0.5000 - val_binary_crossentropy:  0.6562 - val_auc:  0.4935\n"
     ]
    },
    {
     "name": "stderr",
     "output_type": "stream",
     "text": [
      "18it [00:01, 11.33it/s]\n",
      "2it [00:00, 16.13it/s]"
     ]
    },
    {
     "name": "stdout",
     "output_type": "stream",
     "text": [
      "Epoch 5/20\n",
      "1s - loss:  0.6608 - binary_crossentropy:  0.6492 - auc:  0.5030 - val_binary_crossentropy:  0.6444 - val_auc:  0.4936\n"
     ]
    },
    {
     "name": "stderr",
     "output_type": "stream",
     "text": [
      "18it [00:01, 11.98it/s]\n",
      "2it [00:00, 16.25it/s]"
     ]
    },
    {
     "name": "stdout",
     "output_type": "stream",
     "text": [
      "Epoch 6/20\n",
      "1s - loss:  0.6453 - binary_crossentropy:  0.6337 - auc:  0.5039 - val_binary_crossentropy:  0.6293 - val_auc:  0.4937\n"
     ]
    },
    {
     "name": "stderr",
     "output_type": "stream",
     "text": [
      "18it [00:01, 11.20it/s]\n",
      "2it [00:00, 15.50it/s]"
     ]
    },
    {
     "name": "stdout",
     "output_type": "stream",
     "text": [
      "Epoch 7/20\n",
      "1s - loss:  0.6234 - binary_crossentropy:  0.6121 - auc:  0.5042 - val_binary_crossentropy:  0.6090 - val_auc:  0.4933\n"
     ]
    },
    {
     "name": "stderr",
     "output_type": "stream",
     "text": [
      "18it [00:01, 12.22it/s]\n",
      "2it [00:00, 17.42it/s]"
     ]
    },
    {
     "name": "stdout",
     "output_type": "stream",
     "text": [
      "Epoch 8/20\n",
      "1s - loss:  0.5932 - binary_crossentropy:  0.5823 - auc:  0.5080 - val_binary_crossentropy:  0.5822 - val_auc:  0.4924\n"
     ]
    },
    {
     "name": "stderr",
     "output_type": "stream",
     "text": [
      "18it [00:01, 10.98it/s]\n",
      "2it [00:00, 13.76it/s]"
     ]
    },
    {
     "name": "stdout",
     "output_type": "stream",
     "text": [
      "Epoch 9/20\n",
      "1s - loss:  0.5561 - binary_crossentropy:  0.5455 - auc:  0.5156 - val_binary_crossentropy:  0.5496 - val_auc:  0.4898\n"
     ]
    },
    {
     "name": "stderr",
     "output_type": "stream",
     "text": [
      "18it [00:01, 10.36it/s]\n",
      "2it [00:00, 13.99it/s]"
     ]
    },
    {
     "name": "stdout",
     "output_type": "stream",
     "text": [
      "Epoch 10/20\n",
      "1s - loss:  0.5202 - binary_crossentropy:  0.5099 - auc:  0.5268 - val_binary_crossentropy:  0.5172 - val_auc:  0.4862\n"
     ]
    },
    {
     "name": "stderr",
     "output_type": "stream",
     "text": [
      "18it [00:01,  9.99it/s]\n",
      "2it [00:00, 15.22it/s]"
     ]
    },
    {
     "name": "stdout",
     "output_type": "stream",
     "text": [
      "Epoch 11/20\n",
      "1s - loss:  0.4972 - binary_crossentropy:  0.4869 - auc:  0.5364 - val_binary_crossentropy:  0.4943 - val_auc:  0.4828\n"
     ]
    },
    {
     "name": "stderr",
     "output_type": "stream",
     "text": [
      "18it [00:01, 10.04it/s]\n",
      "0it [00:00, ?it/s]"
     ]
    },
    {
     "name": "stdout",
     "output_type": "stream",
     "text": [
      "Epoch 12/20\n",
      "1s - loss:  0.4882 - binary_crossentropy:  0.4777 - auc:  0.5442 - val_binary_crossentropy:  0.4839 - val_auc:  0.4788\n"
     ]
    },
    {
     "name": "stderr",
     "output_type": "stream",
     "text": [
      "18it [00:02,  8.85it/s]\n",
      "2it [00:00, 14.91it/s]"
     ]
    },
    {
     "name": "stdout",
     "output_type": "stream",
     "text": [
      "Epoch 13/20\n",
      "2s - loss:  0.4846 - binary_crossentropy:  0.4740 - auc:  0.5552 - val_binary_crossentropy:  0.4808 - val_auc:  0.4725\n"
     ]
    },
    {
     "name": "stderr",
     "output_type": "stream",
     "text": [
      "18it [00:01, 11.78it/s]\n",
      "2it [00:00, 12.93it/s]"
     ]
    },
    {
     "name": "stdout",
     "output_type": "stream",
     "text": [
      "Epoch 14/20\n",
      "1s - loss:  0.4823 - binary_crossentropy:  0.4718 - auc:  0.5599 - val_binary_crossentropy:  0.4800 - val_auc:  0.4655\n"
     ]
    },
    {
     "name": "stderr",
     "output_type": "stream",
     "text": [
      "18it [00:01,  9.74it/s]\n",
      "2it [00:00, 10.93it/s]"
     ]
    },
    {
     "name": "stdout",
     "output_type": "stream",
     "text": [
      "Epoch 15/20\n",
      "1s - loss:  0.4805 - binary_crossentropy:  0.4701 - auc:  0.5689 - val_binary_crossentropy:  0.4795 - val_auc:  0.4577\n"
     ]
    },
    {
     "name": "stderr",
     "output_type": "stream",
     "text": [
      "18it [00:02,  8.74it/s]\n",
      "2it [00:00, 11.88it/s]"
     ]
    },
    {
     "name": "stdout",
     "output_type": "stream",
     "text": [
      "Epoch 16/20\n",
      "2s - loss:  0.4789 - binary_crossentropy:  0.4686 - auc:  0.5767 - val_binary_crossentropy:  0.4789 - val_auc:  0.4493\n"
     ]
    },
    {
     "name": "stderr",
     "output_type": "stream",
     "text": [
      "18it [00:02,  8.08it/s]\n",
      "2it [00:00, 13.57it/s]"
     ]
    },
    {
     "name": "stdout",
     "output_type": "stream",
     "text": [
      "Epoch 17/20\n",
      "2s - loss:  0.4773 - binary_crossentropy:  0.4671 - auc:  0.5868 - val_binary_crossentropy:  0.4782 - val_auc:  0.4399\n"
     ]
    },
    {
     "name": "stderr",
     "output_type": "stream",
     "text": [
      "18it [00:01,  9.45it/s]\n",
      "2it [00:00, 12.53it/s]"
     ]
    },
    {
     "name": "stdout",
     "output_type": "stream",
     "text": [
      "Epoch 18/20\n",
      "2s - loss:  0.4758 - binary_crossentropy:  0.4656 - auc:  0.5964 - val_binary_crossentropy:  0.4775 - val_auc:  0.4326\n"
     ]
    },
    {
     "name": "stderr",
     "output_type": "stream",
     "text": [
      "18it [00:01,  9.37it/s]\n",
      "2it [00:00, 13.84it/s]"
     ]
    },
    {
     "name": "stdout",
     "output_type": "stream",
     "text": [
      "Epoch 19/20\n",
      "2s - loss:  0.4740 - binary_crossentropy:  0.4639 - auc:  0.6060 - val_binary_crossentropy:  0.4769 - val_auc:  0.4207\n"
     ]
    },
    {
     "name": "stderr",
     "output_type": "stream",
     "text": [
      "18it [00:01,  9.50it/s]\n"
     ]
    },
    {
     "name": "stdout",
     "output_type": "stream",
     "text": [
      "Epoch 20/20\n",
      "2s - loss:  0.4718 - binary_crossentropy:  0.4617 - auc:  0.6135 - val_binary_crossentropy:  0.4766 - val_auc:  0.4103\n"
     ]
    }
   ],
   "source": [
    "model.compile(optimizer=\"adam\"\n",
    "              , loss=\"binary_crossentropy\"\n",
    "              , metrics=[\"binary_crossentropy\", \"auc\"]\n",
    "             )\n",
    "\n",
    "history = model.fit(X_train, y_train\n",
    "                    , batch_size=64\n",
    "                    , epochs=20\n",
    "                    , shuffle=False\n",
    "                    , verbose=1\n",
    "                    , validation_split=0.2\n",
    "                   )"
   ]
  },
  {
   "cell_type": "code",
   "execution_count": 26,
   "metadata": {},
   "outputs": [],
   "source": [
    "def plot_metric(dfhistory, metric, ax):\n",
    "    \"\"\"绘制评估曲线\"\"\"\n",
    "\n",
    "    train_metrics = dfhistory[metric]\n",
    "    val_metrics = dfhistory['val_' + metric]\n",
    "    epochs = range(1, len(train_metrics) + 1)\n",
    "    ax.plot(epochs, train_metrics, 'bo--')\n",
    "    ax.plot(epochs, val_metrics, 'ro-')\n",
    "    ax.set_title('Training and validation '+ metric, fontsize=15)\n",
    "    ax.set_xlabel(\"Epochs\", fontsize=14)\n",
    "    ax.set_ylabel(metric, fontsize=14)\n",
    "    ax.legend([\"train_\" + metric, 'val_' + metric], fontsize=12)\n",
    "    ax.grid()"
   ]
  },
  {
   "cell_type": "code",
   "execution_count": 27,
   "metadata": {},
   "outputs": [
    {
     "data": {
      "image/png": "[encoded data removed]",
      "text/plain": [
       "<Figure size 1296x360 with 2 Axes>"
      ]
     },
     "metadata": {
      "needs_background": "light"
     },
     "output_type": "display_data"
    }
   ],
   "source": [
    "# 观察损失和准确率的变化\n",
    "dfhistory = history.history\n",
    "fig, (ax1, ax2) = plt.subplots(1, 2, figsize=(18, 5))\n",
    "plot_metric(dfhistory,\"binary_crossentropy\", ax1)\n",
    "plot_metric(dfhistory,\"auc\", ax2)"
   ]
  },
  {
   "cell_type": "markdown",
   "metadata": {},
   "source": [
    "\n",
    "## 参考\n",
    "[从DIN到DIEN看阿里CTR算法的进化脉络](https://zhuanlan.zhihu.com/p/78365283)  \n",
    "[AI上推荐 之 DIEN模型(序列模型与推荐系统的花火碰撞)](https://blog.csdn.net/wuzhongqiang/article/details/109532438)  \n",
    "[pytorch 关于Embedding和GRU、LSTM的使用详解](https://www.cnblogs.com/duye/p/10590146.html)"
   ]
  }
 ],
 "metadata": {
  "kernelspec": {
   "display_name": "Python 3",
   "language": "python",
   "name": "python3"
  },
  "language_info": {
   "codemirror_mode": {
    "name": "ipython",
    "version": 3
   },
   "file_extension": ".py",
   "mimetype": "text/x-python",
   "name": "python",
   "nbconvert_exporter": "python",
   "pygments_lexer": "ipython3",
   "version": "3.8.5"
  },
  "toc-autonumbering": true,
  "toc-showmarkdowntxt": false
 },
 "nbformat": 4,
 "nbformat_minor": 4
}
