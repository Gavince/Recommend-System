{
 "cells": [
  {
   "cell_type": "markdown",
   "metadata": {},
   "source": [
    "# 基于内容的推荐算法"
   ]
  },
  {
   "cell_type": "markdown",
   "metadata": {},
   "source": [
    "目标：  \n",
    "        基于内容的推荐方法是非常直接的，它以物品的内容描述信息为依据来做出的推荐，本质上是基于对物品和用户自身的特征或属性的直接分析和计算。\n",
    "例如，假设已知电影A是一部喜剧，而恰巧我们得知某个用户喜欢看喜剧电影，那么我们基于这样的已知信息，就可以将电影A推荐给该用户。  \n",
    "算法原理：  \n",
    "TF-IDF**自然语言处理领域中计算文档中词或短语的权值的方法**，是**词频**（Term Frequency，TF）和逆转文档频率（Inverse Document Frequency，IDF）的乘积。TF指的是某一个给定的词语在该文件中出现的次数。这个数字通常会被正规化，以防止它偏向长的文件（同一个词语在长文件里可能会比短文件有更高的词频，而不管该词语重要与否）。IDF是一个词语普遍重要性的度量，某一特定词语的IDF，可以由总文件数目除以包含该词语之文件的数目，再将得到的商取对数得到。"
   ]
  },
  {
   "cell_type": "code",
   "execution_count": 201,
   "metadata": {},
   "outputs": [],
   "source": [
    "import numpy as np\n",
    "import pandas as pd\n",
    "import collections\n",
    "from functools import reduce"
   ]
  },
  {
   "cell_type": "markdown",
   "metadata": {},
   "source": [
    "## 数据集构建"
   ]
  },
  {
   "cell_type": "code",
   "execution_count": 38,
   "metadata": {},
   "outputs": [],
   "source": [
    "df = pd.read_csv(\"data/tags.csv\", usecols=range(3))\n",
    "movies = pd.read_csv(\"data/movies.csv\", index_col=\"movieId\")"
   ]
  },
  {
   "cell_type": "code",
   "execution_count": 39,
   "metadata": {},
   "outputs": [
    {
     "data": {
      "text/html": [
       "<div>\n",
       "<style scoped>\n",
       "    .dataframe tbody tr th:only-of-type {\n",
       "        vertical-align: middle;\n",
       "    }\n",
       "\n",
       "    .dataframe tbody tr th {\n",
       "        vertical-align: top;\n",
       "    }\n",
       "\n",
       "    .dataframe thead th {\n",
       "        text-align: right;\n",
       "    }\n",
       "</style>\n",
       "<table border=\"1\" class=\"dataframe\">\n",
       "  <thead>\n",
       "    <tr style=\"text-align: right;\">\n",
       "      <th></th>\n",
       "      <th>list</th>\n",
       "    </tr>\n",
       "    <tr>\n",
       "      <th>movieId</th>\n",
       "      <th></th>\n",
       "    </tr>\n",
       "  </thead>\n",
       "  <tbody>\n",
       "    <tr>\n",
       "      <th>1</th>\n",
       "      <td>[pixar, pixar, fun]</td>\n",
       "    </tr>\n",
       "    <tr>\n",
       "      <th>2</th>\n",
       "      <td>[fantasy, magic board game, Robin Williams, game]</td>\n",
       "    </tr>\n",
       "    <tr>\n",
       "      <th>3</th>\n",
       "      <td>[moldy, old]</td>\n",
       "    </tr>\n",
       "  </tbody>\n",
       "</table>\n",
       "</div>"
      ],
      "text/plain": [
       "                                                      list\n",
       "movieId                                                   \n",
       "1                                      [pixar, pixar, fun]\n",
       "2        [fantasy, magic board game, Robin Williams, game]\n",
       "3                                             [moldy, old]"
      ]
     },
     "execution_count": 39,
     "metadata": {},
     "output_type": "execute_result"
    }
   ],
   "source": [
    "# 每一部电影的标签信息\n",
    "tags = df.groupby(by=\"movieId\")[\"tag\"].agg([list])\n",
    "tags[:3]"
   ]
  },
  {
   "cell_type": "code",
   "execution_count": 40,
   "metadata": {},
   "outputs": [],
   "source": [
    "# genres划分\n",
    "movies[\"genres\"] = movies[\"genres\"].apply(lambda x: x.split(\"|\"))"
   ]
  },
  {
   "cell_type": "code",
   "execution_count": 41,
   "metadata": {},
   "outputs": [
    {
     "data": {
      "text/html": [
       "<div>\n",
       "<style scoped>\n",
       "    .dataframe tbody tr th:only-of-type {\n",
       "        vertical-align: middle;\n",
       "    }\n",
       "\n",
       "    .dataframe tbody tr th {\n",
       "        vertical-align: top;\n",
       "    }\n",
       "\n",
       "    .dataframe thead th {\n",
       "        text-align: right;\n",
       "    }\n",
       "</style>\n",
       "<table border=\"1\" class=\"dataframe\">\n",
       "  <thead>\n",
       "    <tr style=\"text-align: right;\">\n",
       "      <th></th>\n",
       "      <th>title</th>\n",
       "      <th>genres</th>\n",
       "    </tr>\n",
       "    <tr>\n",
       "      <th>movieId</th>\n",
       "      <th></th>\n",
       "      <th></th>\n",
       "    </tr>\n",
       "  </thead>\n",
       "  <tbody>\n",
       "    <tr>\n",
       "      <th>1</th>\n",
       "      <td>Toy Story (1995)</td>\n",
       "      <td>[Adventure, Animation, Children, Comedy, Fantasy]</td>\n",
       "    </tr>\n",
       "    <tr>\n",
       "      <th>2</th>\n",
       "      <td>Jumanji (1995)</td>\n",
       "      <td>[Adventure, Children, Fantasy]</td>\n",
       "    </tr>\n",
       "    <tr>\n",
       "      <th>3</th>\n",
       "      <td>Grumpier Old Men (1995)</td>\n",
       "      <td>[Comedy, Romance]</td>\n",
       "    </tr>\n",
       "  </tbody>\n",
       "</table>\n",
       "</div>"
      ],
      "text/plain": [
       "                           title  \\\n",
       "movieId                            \n",
       "1               Toy Story (1995)   \n",
       "2                 Jumanji (1995)   \n",
       "3        Grumpier Old Men (1995)   \n",
       "\n",
       "                                                    genres  \n",
       "movieId                                                     \n",
       "1        [Adventure, Animation, Children, Comedy, Fantasy]  \n",
       "2                           [Adventure, Children, Fantasy]  \n",
       "3                                        [Comedy, Romance]  "
      ]
     },
     "execution_count": 41,
     "metadata": {},
     "output_type": "execute_result"
    }
   ],
   "source": [
    "movies.head(3)"
   ]
  },
  {
   "cell_type": "code",
   "execution_count": 51,
   "metadata": {},
   "outputs": [
    {
     "data": {
      "text/html": [
       "<div>\n",
       "<style scoped>\n",
       "    .dataframe tbody tr th:only-of-type {\n",
       "        vertical-align: middle;\n",
       "    }\n",
       "\n",
       "    .dataframe tbody tr th {\n",
       "        vertical-align: top;\n",
       "    }\n",
       "\n",
       "    .dataframe thead th {\n",
       "        text-align: right;\n",
       "    }\n",
       "</style>\n",
       "<table border=\"1\" class=\"dataframe\">\n",
       "  <thead>\n",
       "    <tr style=\"text-align: right;\">\n",
       "      <th></th>\n",
       "      <th>title</th>\n",
       "      <th>genres</th>\n",
       "      <th>list</th>\n",
       "    </tr>\n",
       "    <tr>\n",
       "      <th>movieId</th>\n",
       "      <th></th>\n",
       "      <th></th>\n",
       "      <th></th>\n",
       "    </tr>\n",
       "  </thead>\n",
       "  <tbody>\n",
       "    <tr>\n",
       "      <th>1</th>\n",
       "      <td>Toy Story (1995)</td>\n",
       "      <td>[Adventure, Animation, Children, Comedy, Fantasy]</td>\n",
       "      <td>[pixar, pixar, fun]</td>\n",
       "    </tr>\n",
       "    <tr>\n",
       "      <th>2</th>\n",
       "      <td>Jumanji (1995)</td>\n",
       "      <td>[Adventure, Children, Fantasy]</td>\n",
       "      <td>[fantasy, magic board game, Robin Williams, game]</td>\n",
       "    </tr>\n",
       "    <tr>\n",
       "      <th>3</th>\n",
       "      <td>Grumpier Old Men (1995)</td>\n",
       "      <td>[Comedy, Romance]</td>\n",
       "      <td>[moldy, old]</td>\n",
       "    </tr>\n",
       "    <tr>\n",
       "      <th>4</th>\n",
       "      <td>Waiting to Exhale (1995)</td>\n",
       "      <td>[Comedy, Drama, Romance]</td>\n",
       "      <td>NaN</td>\n",
       "    </tr>\n",
       "    <tr>\n",
       "      <th>5</th>\n",
       "      <td>Father of the Bride Part II (1995)</td>\n",
       "      <td>[Comedy]</td>\n",
       "      <td>[pregnancy, remake]</td>\n",
       "    </tr>\n",
       "  </tbody>\n",
       "</table>\n",
       "</div>"
      ],
      "text/plain": [
       "                                      title  \\\n",
       "movieId                                       \n",
       "1                          Toy Story (1995)   \n",
       "2                            Jumanji (1995)   \n",
       "3                   Grumpier Old Men (1995)   \n",
       "4                  Waiting to Exhale (1995)   \n",
       "5        Father of the Bride Part II (1995)   \n",
       "\n",
       "                                                    genres  \\\n",
       "movieId                                                      \n",
       "1        [Adventure, Animation, Children, Comedy, Fantasy]   \n",
       "2                           [Adventure, Children, Fantasy]   \n",
       "3                                        [Comedy, Romance]   \n",
       "4                                 [Comedy, Drama, Romance]   \n",
       "5                                                 [Comedy]   \n",
       "\n",
       "                                                      list  \n",
       "movieId                                                     \n",
       "1                                      [pixar, pixar, fun]  \n",
       "2        [fantasy, magic board game, Robin Williams, game]  \n",
       "3                                             [moldy, old]  \n",
       "4                                                      NaN  \n",
       "5                                      [pregnancy, remake]  "
      ]
     },
     "execution_count": 51,
     "metadata": {},
     "output_type": "execute_result"
    }
   ],
   "source": [
    "# 给电影打上新的标签\n",
    "movies_index = set(movies.index)&set(tags.index)\n",
    "new_tags = tags.loc[list(movies_index)]\n",
    "ret = movies.join(new_tags)\n",
    "ret.head()"
   ]
  },
  {
   "cell_type": "code",
   "execution_count": 52,
   "metadata": {},
   "outputs": [
    {
     "data": {
      "text/html": [
       "<div>\n",
       "<style scoped>\n",
       "    .dataframe tbody tr th:only-of-type {\n",
       "        vertical-align: middle;\n",
       "    }\n",
       "\n",
       "    .dataframe tbody tr th {\n",
       "        vertical-align: top;\n",
       "    }\n",
       "\n",
       "    .dataframe thead th {\n",
       "        text-align: right;\n",
       "    }\n",
       "</style>\n",
       "<table border=\"1\" class=\"dataframe\">\n",
       "  <thead>\n",
       "    <tr style=\"text-align: right;\">\n",
       "      <th></th>\n",
       "      <th>movieId</th>\n",
       "      <th>title</th>\n",
       "      <th>genres</th>\n",
       "      <th>tags</th>\n",
       "    </tr>\n",
       "  </thead>\n",
       "  <tbody>\n",
       "    <tr>\n",
       "      <th>0</th>\n",
       "      <td>1</td>\n",
       "      <td>Toy Story (1995)</td>\n",
       "      <td>[Adventure, Animation, Children, Comedy, Fantasy]</td>\n",
       "      <td>[Adventure, Animation, Children, Comedy, Fanta...</td>\n",
       "    </tr>\n",
       "    <tr>\n",
       "      <th>1</th>\n",
       "      <td>2</td>\n",
       "      <td>Jumanji (1995)</td>\n",
       "      <td>[Adventure, Children, Fantasy]</td>\n",
       "      <td>[Adventure, Children, Fantasy, fantasy, magic ...</td>\n",
       "    </tr>\n",
       "    <tr>\n",
       "      <th>2</th>\n",
       "      <td>3</td>\n",
       "      <td>Grumpier Old Men (1995)</td>\n",
       "      <td>[Comedy, Romance]</td>\n",
       "      <td>[Comedy, Romance, moldy, old]</td>\n",
       "    </tr>\n",
       "    <tr>\n",
       "      <th>3</th>\n",
       "      <td>4</td>\n",
       "      <td>Waiting to Exhale (1995)</td>\n",
       "      <td>[Comedy, Drama, Romance]</td>\n",
       "      <td>[]</td>\n",
       "    </tr>\n",
       "    <tr>\n",
       "      <th>4</th>\n",
       "      <td>5</td>\n",
       "      <td>Father of the Bride Part II (1995)</td>\n",
       "      <td>[Comedy]</td>\n",
       "      <td>[Comedy, pregnancy, remake]</td>\n",
       "    </tr>\n",
       "  </tbody>\n",
       "</table>\n",
       "</div>"
      ],
      "text/plain": [
       "   movieId                               title  \\\n",
       "0        1                    Toy Story (1995)   \n",
       "1        2                      Jumanji (1995)   \n",
       "2        3             Grumpier Old Men (1995)   \n",
       "3        4            Waiting to Exhale (1995)   \n",
       "4        5  Father of the Bride Part II (1995)   \n",
       "\n",
       "                                              genres  \\\n",
       "0  [Adventure, Animation, Children, Comedy, Fantasy]   \n",
       "1                     [Adventure, Children, Fantasy]   \n",
       "2                                  [Comedy, Romance]   \n",
       "3                           [Comedy, Drama, Romance]   \n",
       "4                                           [Comedy]   \n",
       "\n",
       "                                                tags  \n",
       "0  [Adventure, Animation, Children, Comedy, Fanta...  \n",
       "1  [Adventure, Children, Fantasy, fantasy, magic ...  \n",
       "2                      [Comedy, Romance, moldy, old]  \n",
       "3                                                 []  \n",
       "4                        [Comedy, pregnancy, remake]  "
      ]
     },
     "execution_count": 52,
     "metadata": {},
     "output_type": "execute_result"
    }
   ],
   "source": [
    "# 标签的合并，如果没有具体的标签数据则置为空列表\n",
    "movies_dataset = pd.DataFrame(map(\n",
    "    lambda x:(x[0], x[1], x[2], x[2]+x[3]) if x[3] is not np.nan \n",
    "                                  else(x[0], x[1], x[2], []), ret.itertuples()), columns=[\"movieId\", \"title\", \"genres\",\"tags\"])\n",
    "movies_dataset.head()"
   ]
  },
  {
   "cell_type": "code",
   "execution_count": 53,
   "metadata": {},
   "outputs": [
    {
     "data": {
      "text/html": [
       "<div>\n",
       "<style scoped>\n",
       "    .dataframe tbody tr th:only-of-type {\n",
       "        vertical-align: middle;\n",
       "    }\n",
       "\n",
       "    .dataframe tbody tr th {\n",
       "        vertical-align: top;\n",
       "    }\n",
       "\n",
       "    .dataframe thead th {\n",
       "        text-align: right;\n",
       "    }\n",
       "</style>\n",
       "<table border=\"1\" class=\"dataframe\">\n",
       "  <thead>\n",
       "    <tr style=\"text-align: right;\">\n",
       "      <th></th>\n",
       "      <th>title</th>\n",
       "      <th>genres</th>\n",
       "      <th>tags</th>\n",
       "    </tr>\n",
       "    <tr>\n",
       "      <th>movieId</th>\n",
       "      <th></th>\n",
       "      <th></th>\n",
       "      <th></th>\n",
       "    </tr>\n",
       "  </thead>\n",
       "  <tbody>\n",
       "    <tr>\n",
       "      <th>1</th>\n",
       "      <td>Toy Story (1995)</td>\n",
       "      <td>[Adventure, Animation, Children, Comedy, Fantasy]</td>\n",
       "      <td>[Adventure, Animation, Children, Comedy, Fanta...</td>\n",
       "    </tr>\n",
       "    <tr>\n",
       "      <th>2</th>\n",
       "      <td>Jumanji (1995)</td>\n",
       "      <td>[Adventure, Children, Fantasy]</td>\n",
       "      <td>[Adventure, Children, Fantasy, fantasy, magic ...</td>\n",
       "    </tr>\n",
       "    <tr>\n",
       "      <th>3</th>\n",
       "      <td>Grumpier Old Men (1995)</td>\n",
       "      <td>[Comedy, Romance]</td>\n",
       "      <td>[Comedy, Romance, moldy, old]</td>\n",
       "    </tr>\n",
       "    <tr>\n",
       "      <th>4</th>\n",
       "      <td>Waiting to Exhale (1995)</td>\n",
       "      <td>[Comedy, Drama, Romance]</td>\n",
       "      <td>[]</td>\n",
       "    </tr>\n",
       "    <tr>\n",
       "      <th>5</th>\n",
       "      <td>Father of the Bride Part II (1995)</td>\n",
       "      <td>[Comedy]</td>\n",
       "      <td>[Comedy, pregnancy, remake]</td>\n",
       "    </tr>\n",
       "  </tbody>\n",
       "</table>\n",
       "</div>"
      ],
      "text/plain": [
       "                                      title  \\\n",
       "movieId                                       \n",
       "1                          Toy Story (1995)   \n",
       "2                            Jumanji (1995)   \n",
       "3                   Grumpier Old Men (1995)   \n",
       "4                  Waiting to Exhale (1995)   \n",
       "5        Father of the Bride Part II (1995)   \n",
       "\n",
       "                                                    genres  \\\n",
       "movieId                                                      \n",
       "1        [Adventure, Animation, Children, Comedy, Fantasy]   \n",
       "2                           [Adventure, Children, Fantasy]   \n",
       "3                                        [Comedy, Romance]   \n",
       "4                                 [Comedy, Drama, Romance]   \n",
       "5                                                 [Comedy]   \n",
       "\n",
       "                                                      tags  \n",
       "movieId                                                     \n",
       "1        [Adventure, Animation, Children, Comedy, Fanta...  \n",
       "2        [Adventure, Children, Fantasy, fantasy, magic ...  \n",
       "3                            [Comedy, Romance, moldy, old]  \n",
       "4                                                       []  \n",
       "5                              [Comedy, pregnancy, remake]  "
      ]
     },
     "execution_count": 53,
     "metadata": {},
     "output_type": "execute_result"
    }
   ],
   "source": [
    "movies_dataset.set_index(\"movieId\", inplace=True)\n",
    "movies_dataset.head()"
   ]
  },
  {
   "cell_type": "markdown",
   "metadata": {},
   "source": [
    "## 物品画像"
   ]
  },
  {
   "cell_type": "markdown",
   "metadata": {},
   "source": [
    "### TF-IDF提取关键词,构建电影画像"
   ]
  },
  {
   "cell_type": "code",
   "execution_count": 62,
   "metadata": {},
   "outputs": [],
   "source": [
    "from gensim.models import TfidfModel\n",
    "from gensim.corpora import Dictionary\n",
    "from pprint import pprint"
   ]
  },
  {
   "cell_type": "code",
   "execution_count": 63,
   "metadata": {},
   "outputs": [
    {
     "data": {
      "text/plain": [
       "array([list(['Adventure', 'Animation', 'Children', 'Comedy', 'Fantasy', 'pixar', 'pixar', 'fun']),\n",
       "       list(['Adventure', 'Children', 'Fantasy', 'fantasy', 'magic board game', 'Robin Williams', 'game']),\n",
       "       list(['Comedy', 'Romance', 'moldy', 'old']), ..., list([]),\n",
       "       list([]), list([])], dtype=object)"
      ]
     },
     "execution_count": 63,
     "metadata": {},
     "output_type": "execute_result"
    }
   ],
   "source": [
    "# 基于文本的分词,对不同电影计算其相应的TFIDF值\n",
    "datasets = movies_dataset[\"tags\"].values\n",
    "datasets"
   ]
  },
  {
   "cell_type": "code",
   "execution_count": 70,
   "metadata": {},
   "outputs": [
    {
     "data": {
      "text/plain": [
       "array([list(['Adventure', 'Animation', 'Children', 'Comedy', 'Fantasy', 'pixar', 'pixar', 'fun']),\n",
       "       list(['Adventure', 'Children', 'Fantasy', 'fantasy', 'magic board game', 'Robin Williams', 'game'])],\n",
       "      dtype=object)"
      ]
     },
     "execution_count": 70,
     "metadata": {},
     "output_type": "execute_result"
    }
   ],
   "source": [
    "# 显示电影的tag\n",
    "datasets[0:2]"
   ]
  },
  {
   "cell_type": "code",
   "execution_count": 77,
   "metadata": {},
   "outputs": [
    {
     "data": {
      "text/plain": [
       "[[(0, 1), (1, 1), (2, 1), (3, 1), (4, 1), (5, 1), (6, 2)],\n",
       " [(0, 1), (2, 1), (4, 1), (7, 1), (8, 1), (9, 1), (10, 1)]]"
      ]
     },
     "execution_count": 77,
     "metadata": {},
     "output_type": "execute_result"
    }
   ],
   "source": [
    "# 获取（词索引，词频）\n",
    "dic = Dictionary(datasets)  # 根据文本创建字典\n",
    "corpus = [dic.doc2bow(line) for line in datasets]\n",
    "corpus[:2]"
   ]
  },
  {
   "cell_type": "code",
   "execution_count": 83,
   "metadata": {},
   "outputs": [
    {
     "data": {
      "text/plain": [
       "['Adventure',\n",
       " 'Animation',\n",
       " 'Children',\n",
       " 'Comedy',\n",
       " 'Fantasy',\n",
       " 'pixar',\n",
       " 'pixar',\n",
       " 'fun']"
      ]
     },
     "execution_count": 83,
     "metadata": {},
     "output_type": "execute_result"
    }
   ],
   "source": [
    "datasets[0]"
   ]
  },
  {
   "cell_type": "code",
   "execution_count": 84,
   "metadata": {},
   "outputs": [
    {
     "data": {
      "text/plain": [
       "('Adventure', 'Animation', 'Children')"
      ]
     },
     "execution_count": 84,
     "metadata": {},
     "output_type": "execute_result"
    }
   ],
   "source": [
    "dic.get(0), dic.get(1), dic.get(2)"
   ]
  },
  {
   "cell_type": "code",
   "execution_count": 97,
   "metadata": {},
   "outputs": [
    {
     "data": {
      "text/plain": [
       "'fun'"
      ]
     },
     "execution_count": 97,
     "metadata": {},
     "output_type": "execute_result"
    }
   ],
   "source": [
    "dic[5]"
   ]
  },
  {
   "cell_type": "code",
   "execution_count": 91,
   "metadata": {},
   "outputs": [
    {
     "data": {
      "text/plain": [
       "[(0, 0.20506508893148376),\n",
       " (2, 0.250737357659749),\n",
       " (4, 0.23699778877133218),\n",
       " (7, 0.4358410782580723),\n",
       " (8, 0.39847806133235253),\n",
       " (9, 0.49506005899914796),\n",
       " (10, 0.49506005899914796)]"
      ]
     },
     "execution_count": 91,
     "metadata": {},
     "output_type": "execute_result"
    }
   ],
   "source": [
    "# 计算TFIFD值　(词索引, TFIDF值)\n",
    "model = TfidfModel(corpus=corpus)\n",
    "model[corpus[1]]"
   ]
  },
  {
   "cell_type": "code",
   "execution_count": 100,
   "metadata": {},
   "outputs": [],
   "source": [
    "movie_profile = {}\n",
    "\n",
    "for i, mid in enumerate(movies_dataset.index):\n",
    "    vector = model[corpus[i]]\n",
    "    # 获取Top-N的关键词\n",
    "    movie_tag = sorted(vector, key=lambda x:x[1], reverse=True)[:30]\n",
    "    movie_profile[mid] = dict(map(lambda x: (dic[x[0]], x[1]), movie_tag))"
   ]
  },
  {
   "cell_type": "code",
   "execution_count": 108,
   "metadata": {},
   "outputs": [
    {
     "name": "stdout",
     "output_type": "stream",
     "text": [
      "1 \n",
      " {'pixar': 0.837374709121301, 'fun': 0.34531665530514855, 'Animation': 0.21562355612017706, 'Children': 0.21205621229134275, 'Fantasy': 0.2004362408431816, 'Adventure': 0.17342978500637887, 'Comedy': 0.1335891911679789}\n"
     ]
    }
   ],
   "source": [
    "# 获得每一部电影的相对应的TFIDF值\n",
    "for key, value in movie_profile.items():\n",
    "    print(key, \"\\n\", value)\n",
    "    break"
   ]
  },
  {
   "cell_type": "markdown",
   "metadata": {},
   "source": [
    "### 完善画像关键词"
   ]
  },
  {
   "cell_type": "code",
   "execution_count": 115,
   "metadata": {},
   "outputs": [],
   "source": [
    "_movie_profile = []\n",
    "\n",
    "for i, data in enumerate(movies_dataset.itertuples()):\n",
    "    mid = data[0]\n",
    "    title = data[1]\n",
    "    genres = data[2]\n",
    "    \n",
    "    # 获得TFIFD值\n",
    "    vector = model[corpus[i]]\n",
    "    movie_tag = sorted(vector, key=lambda x:x[1], reverse=True)[:30]\n",
    "    TopN_tags_weight = dict(map(lambda x: (dic[x[0]], x[1]), movie_tag))\n",
    "    \n",
    "    # 加入类别词，初始权重1\n",
    "    for g in genres:\n",
    "        TopN_tags_weight[g] = 1.0\n",
    "    \n",
    "    # 获取相对应的tag\n",
    "    TopN_tag = [i[0] for i in TopN_tags_weight.items()]\n",
    "    _movie_profile.append((mid, title, TopN_tag, TopN_tags_weight))"
   ]
  },
  {
   "cell_type": "code",
   "execution_count": 117,
   "metadata": {},
   "outputs": [
    {
     "data": {
      "text/plain": [
       "(2,\n",
       " 'Jumanji (1995)',\n",
       " ['game',\n",
       "  'magic board game',\n",
       "  'Robin Williams',\n",
       "  'fantasy',\n",
       "  'Children',\n",
       "  'Fantasy',\n",
       "  'Adventure'],\n",
       " {'Adventure': 1.0,\n",
       "  'Children': 1.0,\n",
       "  'Fantasy': 1.0,\n",
       "  'Robin Williams': 0.4358410782580723,\n",
       "  'fantasy': 0.39847806133235253,\n",
       "  'game': 0.49506005899914796,\n",
       "  'magic board game': 0.49506005899914796})"
      ]
     },
     "execution_count": 117,
     "metadata": {},
     "output_type": "execute_result"
    }
   ],
   "source": [
    "_movie_profile[1]"
   ]
  },
  {
   "cell_type": "code",
   "execution_count": 118,
   "metadata": {},
   "outputs": [
    {
     "data": {
      "text/plain": [
       "{'Comedy': 1.0}"
      ]
     },
     "execution_count": 118,
     "metadata": {},
     "output_type": "execute_result"
    }
   ],
   "source": [
    "TopN_tags_weight"
   ]
  },
  {
   "cell_type": "code",
   "execution_count": 120,
   "metadata": {},
   "outputs": [
    {
     "data": {
      "text/html": [
       "<div>\n",
       "<style scoped>\n",
       "    .dataframe tbody tr th:only-of-type {\n",
       "        vertical-align: middle;\n",
       "    }\n",
       "\n",
       "    .dataframe tbody tr th {\n",
       "        vertical-align: top;\n",
       "    }\n",
       "\n",
       "    .dataframe thead th {\n",
       "        text-align: right;\n",
       "    }\n",
       "</style>\n",
       "<table border=\"1\" class=\"dataframe\">\n",
       "  <thead>\n",
       "    <tr style=\"text-align: right;\">\n",
       "      <th></th>\n",
       "      <th>title</th>\n",
       "      <th>profile</th>\n",
       "      <th>weights</th>\n",
       "    </tr>\n",
       "    <tr>\n",
       "      <th>movieId</th>\n",
       "      <th></th>\n",
       "      <th></th>\n",
       "      <th></th>\n",
       "    </tr>\n",
       "  </thead>\n",
       "  <tbody>\n",
       "    <tr>\n",
       "      <th>1</th>\n",
       "      <td>Toy Story (1995)</td>\n",
       "      <td>[pixar, fun, Animation, Children, Fantasy, Adv...</td>\n",
       "      <td>{'pixar': 0.837374709121301, 'fun': 0.34531665...</td>\n",
       "    </tr>\n",
       "    <tr>\n",
       "      <th>2</th>\n",
       "      <td>Jumanji (1995)</td>\n",
       "      <td>[game, magic board game, Robin Williams, fanta...</td>\n",
       "      <td>{'game': 0.49506005899914796, 'magic board gam...</td>\n",
       "    </tr>\n",
       "    <tr>\n",
       "      <th>3</th>\n",
       "      <td>Grumpier Old Men (1995)</td>\n",
       "      <td>[moldy, old, Romance, Comedy]</td>\n",
       "      <td>{'moldy': 0.669101789463952, 'old': 0.66910178...</td>\n",
       "    </tr>\n",
       "    <tr>\n",
       "      <th>4</th>\n",
       "      <td>Waiting to Exhale (1995)</td>\n",
       "      <td>[Comedy, Drama, Romance]</td>\n",
       "      <td>{'Comedy': 1.0, 'Drama': 1.0, 'Romance': 1.0}</td>\n",
       "    </tr>\n",
       "    <tr>\n",
       "      <th>5</th>\n",
       "      <td>Father of the Bride Part II (1995)</td>\n",
       "      <td>[pregnancy, remake, Comedy]</td>\n",
       "      <td>{'pregnancy': 0.7029528753875794, 'remake': 0....</td>\n",
       "    </tr>\n",
       "  </tbody>\n",
       "</table>\n",
       "</div>"
      ],
      "text/plain": [
       "                                      title  \\\n",
       "movieId                                       \n",
       "1                          Toy Story (1995)   \n",
       "2                            Jumanji (1995)   \n",
       "3                   Grumpier Old Men (1995)   \n",
       "4                  Waiting to Exhale (1995)   \n",
       "5        Father of the Bride Part II (1995)   \n",
       "\n",
       "                                                   profile  \\\n",
       "movieId                                                      \n",
       "1        [pixar, fun, Animation, Children, Fantasy, Adv...   \n",
       "2        [game, magic board game, Robin Williams, fanta...   \n",
       "3                            [moldy, old, Romance, Comedy]   \n",
       "4                                 [Comedy, Drama, Romance]   \n",
       "5                              [pregnancy, remake, Comedy]   \n",
       "\n",
       "                                                   weights  \n",
       "movieId                                                     \n",
       "1        {'pixar': 0.837374709121301, 'fun': 0.34531665...  \n",
       "2        {'game': 0.49506005899914796, 'magic board gam...  \n",
       "3        {'moldy': 0.669101789463952, 'old': 0.66910178...  \n",
       "4            {'Comedy': 1.0, 'Drama': 1.0, 'Romance': 1.0}  \n",
       "5        {'pregnancy': 0.7029528753875794, 'remake': 0....  "
      ]
     },
     "execution_count": 120,
     "metadata": {},
     "output_type": "execute_result"
    }
   ],
   "source": [
    "# 得到电影画像，主要包括tag及其相对应的TFIFD值\n",
    "movie_profile = pd.DataFrame(_movie_profile, columns=[\"movieId\", \"title\", \"profile\", \"weights\"])\n",
    "movie_profile.set_index(\"movieId\", inplace=True)\n",
    "movie_profile.head()"
   ]
  },
  {
   "cell_type": "code",
   "execution_count": 281,
   "metadata": {},
   "outputs": [
    {
     "data": {
      "text/plain": [
       "[(1,\n",
       "  {'Adventure': 1.0,\n",
       "   'Animation': 1.0,\n",
       "   'Children': 1.0,\n",
       "   'Comedy': 1.0,\n",
       "   'Fantasy': 1.0,\n",
       "   'fun': 0.34531665530514855,\n",
       "   'pixar': 0.837374709121301}),\n",
       " (2,\n",
       "  {'Adventure': 1.0,\n",
       "   'Children': 1.0,\n",
       "   'Fantasy': 1.0,\n",
       "   'Robin Williams': 0.4358410782580723,\n",
       "   'fantasy': 0.39847806133235253,\n",
       "   'game': 0.49506005899914796,\n",
       "   'magic board game': 0.49506005899914796})]"
      ]
     },
     "execution_count": 281,
     "metadata": {},
     "output_type": "execute_result"
    }
   ],
   "source": [
    "list(movie_profile[\"weights\"].iteritems())[:2]"
   ]
  },
  {
   "cell_type": "markdown",
   "metadata": {},
   "source": [
    "### 倒排序索引\n",
    "目标：通过关键特征推荐电影"
   ]
  },
  {
   "cell_type": "code",
   "execution_count": 143,
   "metadata": {},
   "outputs": [],
   "source": [
    "inverted_table = {}\n",
    "for mid, weights in movie_profile[\"weights\"].iteritems():\n",
    "    for tag, weight in weights.items():\n",
    "        # 为每一tag申请一个空列表来存放相对应的（mid, weights）\n",
    "        _ = inverted_table.get(tag, [])\n",
    "        _.append((mid, weight))\n",
    "        inverted_table.setdefault(tag, _)"
   ]
  },
  {
   "cell_type": "code",
   "execution_count": 284,
   "metadata": {},
   "outputs": [
    {
     "data": {
      "text/plain": [
       "[(1, 0.34531665530514855),\n",
       " (89745, 0.3284369053807601),\n",
       " (108932, 0.31964654815096755),\n",
       " (122918, 0.747908115567127)]"
      ]
     },
     "execution_count": 284,
     "metadata": {},
     "output_type": "execute_result"
    }
   ],
   "source": [
    "# tag:(mid, weight)\n",
    "inverted_table[\"fun\"]"
   ]
  },
  {
   "cell_type": "markdown",
   "metadata": {},
   "source": [
    "## 用户画像"
   ]
  },
  {
   "cell_type": "code",
   "execution_count": 231,
   "metadata": {},
   "outputs": [
    {
     "data": {
      "text/html": [
       "<div>\n",
       "<style scoped>\n",
       "    .dataframe tbody tr th:only-of-type {\n",
       "        vertical-align: middle;\n",
       "    }\n",
       "\n",
       "    .dataframe tbody tr th {\n",
       "        vertical-align: top;\n",
       "    }\n",
       "\n",
       "    .dataframe thead th {\n",
       "        text-align: right;\n",
       "    }\n",
       "</style>\n",
       "<table border=\"1\" class=\"dataframe\">\n",
       "  <thead>\n",
       "    <tr style=\"text-align: right;\">\n",
       "      <th></th>\n",
       "      <th>title</th>\n",
       "      <th>genres</th>\n",
       "      <th>tags</th>\n",
       "    </tr>\n",
       "    <tr>\n",
       "      <th>movieId</th>\n",
       "      <th></th>\n",
       "      <th></th>\n",
       "      <th></th>\n",
       "    </tr>\n",
       "  </thead>\n",
       "  <tbody>\n",
       "    <tr>\n",
       "      <th>1</th>\n",
       "      <td>Toy Story (1995)</td>\n",
       "      <td>[Adventure, Animation, Children, Comedy, Fantasy]</td>\n",
       "      <td>[Adventure, Animation, Children, Comedy, Fanta...</td>\n",
       "    </tr>\n",
       "    <tr>\n",
       "      <th>2</th>\n",
       "      <td>Jumanji (1995)</td>\n",
       "      <td>[Adventure, Children, Fantasy]</td>\n",
       "      <td>[Adventure, Children, Fantasy, fantasy, magic ...</td>\n",
       "    </tr>\n",
       "    <tr>\n",
       "      <th>3</th>\n",
       "      <td>Grumpier Old Men (1995)</td>\n",
       "      <td>[Comedy, Romance]</td>\n",
       "      <td>[Comedy, Romance, moldy, old]</td>\n",
       "    </tr>\n",
       "    <tr>\n",
       "      <th>4</th>\n",
       "      <td>Waiting to Exhale (1995)</td>\n",
       "      <td>[Comedy, Drama, Romance]</td>\n",
       "      <td>[]</td>\n",
       "    </tr>\n",
       "    <tr>\n",
       "      <th>5</th>\n",
       "      <td>Father of the Bride Part II (1995)</td>\n",
       "      <td>[Comedy]</td>\n",
       "      <td>[Comedy, pregnancy, remake]</td>\n",
       "    </tr>\n",
       "  </tbody>\n",
       "</table>\n",
       "</div>"
      ],
      "text/plain": [
       "                                      title  \\\n",
       "movieId                                       \n",
       "1                          Toy Story (1995)   \n",
       "2                            Jumanji (1995)   \n",
       "3                   Grumpier Old Men (1995)   \n",
       "4                  Waiting to Exhale (1995)   \n",
       "5        Father of the Bride Part II (1995)   \n",
       "\n",
       "                                                    genres  \\\n",
       "movieId                                                      \n",
       "1        [Adventure, Animation, Children, Comedy, Fantasy]   \n",
       "2                           [Adventure, Children, Fantasy]   \n",
       "3                                        [Comedy, Romance]   \n",
       "4                                 [Comedy, Drama, Romance]   \n",
       "5                                                 [Comedy]   \n",
       "\n",
       "                                                      tags  \n",
       "movieId                                                     \n",
       "1        [Adventure, Animation, Children, Comedy, Fanta...  \n",
       "2        [Adventure, Children, Fantasy, fantasy, magic ...  \n",
       "3                            [Comedy, Romance, moldy, old]  \n",
       "4                                                       []  \n",
       "5                              [Comedy, pregnancy, remake]  "
      ]
     },
     "execution_count": 231,
     "metadata": {},
     "output_type": "execute_result"
    }
   ],
   "source": [
    "movies_dataset[:5]"
   ]
  },
  {
   "cell_type": "code",
   "execution_count": 232,
   "metadata": {},
   "outputs": [
    {
     "data": {
      "text/html": [
       "<div>\n",
       "<style scoped>\n",
       "    .dataframe tbody tr th:only-of-type {\n",
       "        vertical-align: middle;\n",
       "    }\n",
       "\n",
       "    .dataframe tbody tr th {\n",
       "        vertical-align: top;\n",
       "    }\n",
       "\n",
       "    .dataframe thead th {\n",
       "        text-align: right;\n",
       "    }\n",
       "</style>\n",
       "<table border=\"1\" class=\"dataframe\">\n",
       "  <thead>\n",
       "    <tr style=\"text-align: right;\">\n",
       "      <th></th>\n",
       "      <th>title</th>\n",
       "      <th>profile</th>\n",
       "      <th>weights</th>\n",
       "    </tr>\n",
       "    <tr>\n",
       "      <th>movieId</th>\n",
       "      <th></th>\n",
       "      <th></th>\n",
       "      <th></th>\n",
       "    </tr>\n",
       "  </thead>\n",
       "  <tbody>\n",
       "    <tr>\n",
       "      <th>1</th>\n",
       "      <td>Toy Story (1995)</td>\n",
       "      <td>[pixar, fun, Animation, Children, Fantasy, Adv...</td>\n",
       "      <td>{'pixar': 0.837374709121301, 'fun': 0.34531665...</td>\n",
       "    </tr>\n",
       "    <tr>\n",
       "      <th>2</th>\n",
       "      <td>Jumanji (1995)</td>\n",
       "      <td>[game, magic board game, Robin Williams, fanta...</td>\n",
       "      <td>{'game': 0.49506005899914796, 'magic board gam...</td>\n",
       "    </tr>\n",
       "    <tr>\n",
       "      <th>3</th>\n",
       "      <td>Grumpier Old Men (1995)</td>\n",
       "      <td>[moldy, old, Romance, Comedy]</td>\n",
       "      <td>{'moldy': 0.669101789463952, 'old': 0.66910178...</td>\n",
       "    </tr>\n",
       "    <tr>\n",
       "      <th>4</th>\n",
       "      <td>Waiting to Exhale (1995)</td>\n",
       "      <td>[Comedy, Drama, Romance]</td>\n",
       "      <td>{'Comedy': 1.0, 'Drama': 1.0, 'Romance': 1.0}</td>\n",
       "    </tr>\n",
       "    <tr>\n",
       "      <th>5</th>\n",
       "      <td>Father of the Bride Part II (1995)</td>\n",
       "      <td>[pregnancy, remake, Comedy]</td>\n",
       "      <td>{'pregnancy': 0.7029528753875794, 'remake': 0....</td>\n",
       "    </tr>\n",
       "  </tbody>\n",
       "</table>\n",
       "</div>"
      ],
      "text/plain": [
       "                                      title  \\\n",
       "movieId                                       \n",
       "1                          Toy Story (1995)   \n",
       "2                            Jumanji (1995)   \n",
       "3                   Grumpier Old Men (1995)   \n",
       "4                  Waiting to Exhale (1995)   \n",
       "5        Father of the Bride Part II (1995)   \n",
       "\n",
       "                                                   profile  \\\n",
       "movieId                                                      \n",
       "1        [pixar, fun, Animation, Children, Fantasy, Adv...   \n",
       "2        [game, magic board game, Robin Williams, fanta...   \n",
       "3                            [moldy, old, Romance, Comedy]   \n",
       "4                                 [Comedy, Drama, Romance]   \n",
       "5                              [pregnancy, remake, Comedy]   \n",
       "\n",
       "                                                   weights  \n",
       "movieId                                                     \n",
       "1        {'pixar': 0.837374709121301, 'fun': 0.34531665...  \n",
       "2        {'game': 0.49506005899914796, 'magic board gam...  \n",
       "3        {'moldy': 0.669101789463952, 'old': 0.66910178...  \n",
       "4            {'Comedy': 1.0, 'Drama': 1.0, 'Romance': 1.0}  \n",
       "5        {'pregnancy': 0.7029528753875794, 'remake': 0....  "
      ]
     },
     "execution_count": 232,
     "metadata": {},
     "output_type": "execute_result"
    }
   ],
   "source": [
    "movie_profile.head()"
   ]
  },
  {
   "cell_type": "code",
   "execution_count": 233,
   "metadata": {},
   "outputs": [
    {
     "data": {
      "text/html": [
       "<div>\n",
       "<style scoped>\n",
       "    .dataframe tbody tr th:only-of-type {\n",
       "        vertical-align: middle;\n",
       "    }\n",
       "\n",
       "    .dataframe tbody tr th {\n",
       "        vertical-align: top;\n",
       "    }\n",
       "\n",
       "    .dataframe thead th {\n",
       "        text-align: right;\n",
       "    }\n",
       "</style>\n",
       "<table border=\"1\" class=\"dataframe\">\n",
       "  <thead>\n",
       "    <tr style=\"text-align: right;\">\n",
       "      <th></th>\n",
       "      <th>userId</th>\n",
       "      <th>movieId</th>\n",
       "    </tr>\n",
       "  </thead>\n",
       "  <tbody>\n",
       "    <tr>\n",
       "      <th>0</th>\n",
       "      <td>1</td>\n",
       "      <td>1</td>\n",
       "    </tr>\n",
       "    <tr>\n",
       "      <th>1</th>\n",
       "      <td>1</td>\n",
       "      <td>3</td>\n",
       "    </tr>\n",
       "    <tr>\n",
       "      <th>2</th>\n",
       "      <td>1</td>\n",
       "      <td>6</td>\n",
       "    </tr>\n",
       "    <tr>\n",
       "      <th>3</th>\n",
       "      <td>1</td>\n",
       "      <td>47</td>\n",
       "    </tr>\n",
       "    <tr>\n",
       "      <th>4</th>\n",
       "      <td>1</td>\n",
       "      <td>50</td>\n",
       "    </tr>\n",
       "  </tbody>\n",
       "</table>\n",
       "</div>"
      ],
      "text/plain": [
       "   userId  movieId\n",
       "0       1        1\n",
       "1       1        3\n",
       "2       1        6\n",
       "3       1       47\n",
       "4       1       50"
      ]
     },
     "execution_count": 233,
     "metadata": {},
     "output_type": "execute_result"
    }
   ],
   "source": [
    "watch_record = pd.read_csv(\"data/ratings.csv\"\n",
    "                           , usecols=range(2)\n",
    "                           , dtype={\"userId\":np.int32, \"movieId\": np.int32}\n",
    "                          )\n",
    "watch_record[:5]"
   ]
  },
  {
   "cell_type": "code",
   "execution_count": 234,
   "metadata": {},
   "outputs": [
    {
     "data": {
      "text/html": [
       "<div>\n",
       "<style scoped>\n",
       "    .dataframe tbody tr th:only-of-type {\n",
       "        vertical-align: middle;\n",
       "    }\n",
       "\n",
       "    .dataframe tbody tr th {\n",
       "        vertical-align: top;\n",
       "    }\n",
       "\n",
       "    .dataframe thead tr th {\n",
       "        text-align: left;\n",
       "    }\n",
       "\n",
       "    .dataframe thead tr:last-of-type th {\n",
       "        text-align: right;\n",
       "    }\n",
       "</style>\n",
       "<table border=\"1\" class=\"dataframe\">\n",
       "  <thead>\n",
       "    <tr>\n",
       "      <th></th>\n",
       "      <th>movieId</th>\n",
       "    </tr>\n",
       "    <tr>\n",
       "      <th></th>\n",
       "      <th>list</th>\n",
       "    </tr>\n",
       "    <tr>\n",
       "      <th>userId</th>\n",
       "      <th></th>\n",
       "    </tr>\n",
       "  </thead>\n",
       "  <tbody>\n",
       "    <tr>\n",
       "      <th>1</th>\n",
       "      <td>[1, 3, 6, 47, 50, 70, 101, 110, 151, 157, 163,...</td>\n",
       "    </tr>\n",
       "    <tr>\n",
       "      <th>2</th>\n",
       "      <td>[318, 333, 1704, 3578, 6874, 8798, 46970, 4851...</td>\n",
       "    </tr>\n",
       "    <tr>\n",
       "      <th>3</th>\n",
       "      <td>[31, 527, 647, 688, 720, 849, 914, 1093, 1124,...</td>\n",
       "    </tr>\n",
       "    <tr>\n",
       "      <th>4</th>\n",
       "      <td>[21, 32, 45, 47, 52, 58, 106, 125, 126, 162, 1...</td>\n",
       "    </tr>\n",
       "    <tr>\n",
       "      <th>5</th>\n",
       "      <td>[1, 21, 34, 36, 39, 50, 58, 110, 150, 153, 232...</td>\n",
       "    </tr>\n",
       "  </tbody>\n",
       "</table>\n",
       "</div>"
      ],
      "text/plain": [
       "                                                  movieId\n",
       "                                                     list\n",
       "userId                                                   \n",
       "1       [1, 3, 6, 47, 50, 70, 101, 110, 151, 157, 163,...\n",
       "2       [318, 333, 1704, 3578, 6874, 8798, 46970, 4851...\n",
       "3       [31, 527, 647, 688, 720, 849, 914, 1093, 1124,...\n",
       "4       [21, 32, 45, 47, 52, 58, 106, 125, 126, 162, 1...\n",
       "5       [1, 21, 34, 36, 39, 50, 58, 110, 150, 153, 232..."
      ]
     },
     "execution_count": 234,
     "metadata": {},
     "output_type": "execute_result"
    }
   ],
   "source": [
    "watch_record = watch_record.groupby(\"userId\").agg([list])\n",
    "watch_record.head()"
   ]
  },
  {
   "cell_type": "code",
   "execution_count": 271,
   "metadata": {},
   "outputs": [],
   "source": [
    "# 用户画像\n",
    "user_profile = {}\n",
    "\n",
    "for uid, mids in watch_record.itertuples():\n",
    "    \n",
    "    # 获取每一uid 观看电影的信息\n",
    "    record_movie_profile = movie_profile.loc[list(mids)]\n",
    "    # 计算最感兴趣的种类\n",
    "    counter = collections.Counter(reduce(lambda x, y:list(x)+list(y), record_movie_profile[\"profile\"].values))\n",
    "    interest_word = counter.most_common(50)\n",
    "    maxcount = interest_word[0][1]\n",
    "    #　归一化\n",
    "    interest_word = [(w,round(c/maxcount, 4)) for w,c in interest_word]\n",
    "    # {uid:{ii1:weight, ii2:weight}}\n",
    "    user_profile[uid] = interest_word"
   ]
  },
  {
   "cell_type": "code",
   "execution_count": 292,
   "metadata": {},
   "outputs": [
    {
     "data": {
      "text/plain": [
       "[('Action', 1.0),\n",
       " ('Adventure', 0.9444),\n",
       " ('Comedy', 0.9222),\n",
       " ('Drama', 0.7556),\n",
       " ('Thriller', 0.6111),\n",
       " ('Fantasy', 0.5222),\n",
       " ('Crime', 0.5),\n",
       " ('Children', 0.4667),\n",
       " ('Sci-Fi', 0.4444),\n",
       " ('Animation', 0.3222)]"
      ]
     },
     "execution_count": 292,
     "metadata": {},
     "output_type": "execute_result"
    }
   ],
   "source": [
    "user_profile[1][:10]"
   ]
  },
  {
   "cell_type": "markdown",
   "metadata": {},
   "source": [
    "## 为用户产生TOP-N推荐结果"
   ]
  },
  {
   "cell_type": "code",
   "execution_count": 295,
   "metadata": {},
   "outputs": [
    {
     "data": {
      "text/html": [
       "<div>\n",
       "<style scoped>\n",
       "    .dataframe tbody tr th:only-of-type {\n",
       "        vertical-align: middle;\n",
       "    }\n",
       "\n",
       "    .dataframe tbody tr th {\n",
       "        vertical-align: top;\n",
       "    }\n",
       "\n",
       "    .dataframe thead tr th {\n",
       "        text-align: left;\n",
       "    }\n",
       "\n",
       "    .dataframe thead tr:last-of-type th {\n",
       "        text-align: right;\n",
       "    }\n",
       "</style>\n",
       "<table border=\"1\" class=\"dataframe\">\n",
       "  <thead>\n",
       "    <tr>\n",
       "      <th></th>\n",
       "      <th>movieId</th>\n",
       "    </tr>\n",
       "    <tr>\n",
       "      <th></th>\n",
       "      <th>list</th>\n",
       "    </tr>\n",
       "    <tr>\n",
       "      <th>userId</th>\n",
       "      <th></th>\n",
       "    </tr>\n",
       "  </thead>\n",
       "  <tbody>\n",
       "    <tr>\n",
       "      <th>1</th>\n",
       "      <td>[1, 3, 6, 47, 50, 70, 101, 110, 151, 157, 163,...</td>\n",
       "    </tr>\n",
       "    <tr>\n",
       "      <th>2</th>\n",
       "      <td>[318, 333, 1704, 3578, 6874, 8798, 46970, 4851...</td>\n",
       "    </tr>\n",
       "    <tr>\n",
       "      <th>3</th>\n",
       "      <td>[31, 527, 647, 688, 720, 849, 914, 1093, 1124,...</td>\n",
       "    </tr>\n",
       "    <tr>\n",
       "      <th>4</th>\n",
       "      <td>[21, 32, 45, 47, 52, 58, 106, 125, 126, 162, 1...</td>\n",
       "    </tr>\n",
       "    <tr>\n",
       "      <th>5</th>\n",
       "      <td>[1, 21, 34, 36, 39, 50, 58, 110, 150, 153, 232...</td>\n",
       "    </tr>\n",
       "    <tr>\n",
       "      <th>...</th>\n",
       "      <td>...</td>\n",
       "    </tr>\n",
       "    <tr>\n",
       "      <th>606</th>\n",
       "      <td>[1, 7, 11, 15, 17, 18, 19, 28, 29, 32, 36, 46,...</td>\n",
       "    </tr>\n",
       "    <tr>\n",
       "      <th>607</th>\n",
       "      <td>[1, 11, 25, 34, 36, 86, 110, 112, 150, 153, 16...</td>\n",
       "    </tr>\n",
       "    <tr>\n",
       "      <th>608</th>\n",
       "      <td>[1, 2, 3, 10, 16, 19, 21, 24, 31, 32, 34, 39, ...</td>\n",
       "    </tr>\n",
       "    <tr>\n",
       "      <th>609</th>\n",
       "      <td>[1, 10, 110, 116, 137, 150, 161, 185, 208, 231...</td>\n",
       "    </tr>\n",
       "    <tr>\n",
       "      <th>610</th>\n",
       "      <td>[1, 6, 16, 32, 47, 50, 70, 95, 110, 111, 112, ...</td>\n",
       "    </tr>\n",
       "  </tbody>\n",
       "</table>\n",
       "<p>610 rows × 1 columns</p>\n",
       "</div>"
      ],
      "text/plain": [
       "                                                  movieId\n",
       "                                                     list\n",
       "userId                                                   \n",
       "1       [1, 3, 6, 47, 50, 70, 101, 110, 151, 157, 163,...\n",
       "2       [318, 333, 1704, 3578, 6874, 8798, 46970, 4851...\n",
       "3       [31, 527, 647, 688, 720, 849, 914, 1093, 1124,...\n",
       "4       [21, 32, 45, 47, 52, 58, 106, 125, 126, 162, 1...\n",
       "5       [1, 21, 34, 36, 39, 50, 58, 110, 150, 153, 232...\n",
       "...                                                   ...\n",
       "606     [1, 7, 11, 15, 17, 18, 19, 28, 29, 32, 36, 46,...\n",
       "607     [1, 11, 25, 34, 36, 86, 110, 112, 150, 153, 16...\n",
       "608     [1, 2, 3, 10, 16, 19, 21, 24, 31, 32, 34, 39, ...\n",
       "609     [1, 10, 110, 116, 137, 150, 161, 185, 208, 231...\n",
       "610     [1, 6, 16, 32, 47, 50, 70, 95, 110, 111, 112, ...\n",
       "\n",
       "[610 rows x 1 columns]"
      ]
     },
     "execution_count": 295,
     "metadata": {},
     "output_type": "execute_result"
    }
   ],
   "source": [
    "watch_record"
   ]
  },
  {
   "cell_type": "code",
   "execution_count": 321,
   "metadata": {},
   "outputs": [
    {
     "name": "stdout",
     "output_type": "stream",
     "text": [
      "1\n",
      "[(81132, 9.0),\n",
      " (79132, 7.4707658816195845),\n",
      " (4719, 7.0),\n",
      " (26701, 7.0),\n",
      " (43932, 7.0),\n",
      " (52462, 7.0),\n",
      " (71999, 7.0),\n",
      " (1907, 7.0),\n",
      " (2987, 7.0),\n",
      " (6902, 7.0),\n",
      " (56152, 7.0),\n",
      " (108932, 6.259087588583597),\n",
      " (198, 6.0),\n",
      " (459, 6.0),\n",
      " (546, 6.0),\n",
      " (2414, 6.0),\n",
      " (2617, 6.0),\n",
      " (4956, 6.0),\n",
      " (6350, 6.0),\n",
      " (7235, 6.0)]\n"
     ]
    }
   ],
   "source": [
    "for uid, interest_words in user_profile.items():\n",
    "    result_table = {} # [mid,[0.1, 0.6]] \n",
    "    # {[('Action', 1.0),]}\n",
    "    for interest_word, interest_weight in interest_words:\n",
    "        related_movies = inverted_table[interest_word]\n",
    "        \n",
    "        for mid, related_weight in related_movies:\n",
    "            _ = result_table.get(mid, [])\n",
    "#             _.append(interest_weight)  # 用户感兴趣的程度\n",
    "            _.append(related_weight)\n",
    "            result_table.setdefault(mid, _)   \n",
    "            \n",
    "    re_result = map(lambda x:(x[0], sum(x[1])), result_table.items())\n",
    "    re_result = sorted(re_result, key=lambda x:x[1], reverse=True)[:20]  # topN推荐\n",
    "    print(uid)\n",
    "    pprint(re_result)\n",
    "    break"
   ]
  },
  {
   "cell_type": "markdown",
   "metadata": {},
   "source": [
    "## Word2vec"
   ]
  },
  {
   "cell_type": "code",
   "execution_count": 322,
   "metadata": {},
   "outputs": [],
   "source": [
    "import gensim, logging"
   ]
  },
  {
   "cell_type": "code",
   "execution_count": 322,
   "metadata": {},
   "outputs": [],
   "source": [
    "logging.basicConfig(format='%(asctime)s : %(levelname)s : %(message)s', level=logging.INFO)"
   ]
  },
  {
   "cell_type": "code",
   "execution_count": 331,
   "metadata": {},
   "outputs": [],
   "source": [
    "sentense = list(movie_profile[\"profile\"].values) # 句子"
   ]
  },
  {
   "cell_type": "code",
   "execution_count": 334,
   "metadata": {},
   "outputs": [
    {
     "name": "stderr",
     "output_type": "stream",
     "text": [
      "2020-08-13 09:29:20,940 : INFO : collecting all words and their counts\n",
      "2020-08-13 09:29:20,941 : INFO : PROGRESS: at sentence #0, processed 0 words, keeping 0 word types\n",
      "2020-08-13 09:29:20,957 : INFO : collected 1524 word types from a corpus of 25473 raw words and 9742 sentences\n",
      "2020-08-13 09:29:20,958 : INFO : Loading a fresh vocabulary\n",
      "2020-08-13 09:29:20,965 : INFO : effective_min_count=1 retains 1524 unique words (100% of original 1524, drops 0)\n",
      "2020-08-13 09:29:20,966 : INFO : effective_min_count=1 leaves 25473 word corpus (100% of original 25473, drops 0)\n",
      "2020-08-13 09:29:20,978 : INFO : deleting the raw counts dictionary of 1524 items\n",
      "2020-08-13 09:29:20,979 : INFO : sample=0.001 downsamples 20 most-common words\n",
      "2020-08-13 09:29:20,980 : INFO : downsampling leaves estimated 6795 word corpus (26.7% of prior 25473)\n",
      "2020-08-13 09:29:20,987 : INFO : estimated required memory for 1524 words and 100 dimensions: 1981200 bytes\n",
      "2020-08-13 09:29:20,988 : INFO : resetting layer weights\n",
      "2020-08-13 09:29:21,398 : INFO : training model with 3 workers on 1524 vocabulary and 100 features, using sg=0 hs=0 sample=0.001 negative=5 window=3\n",
      "2020-08-13 09:29:21,418 : INFO : worker thread finished; awaiting finish of 2 more threads\n",
      "2020-08-13 09:29:21,420 : INFO : worker thread finished; awaiting finish of 1 more threads\n",
      "2020-08-13 09:29:21,426 : INFO : worker thread finished; awaiting finish of 0 more threads\n",
      "2020-08-13 09:29:21,427 : INFO : EPOCH - 1 : training on 25473 raw words (6818 effective words) took 0.0s, 311184 effective words/s\n",
      "2020-08-13 09:29:21,467 : INFO : worker thread finished; awaiting finish of 2 more threads\n",
      "2020-08-13 09:29:21,468 : INFO : worker thread finished; awaiting finish of 1 more threads\n",
      "2020-08-13 09:29:21,470 : INFO : worker thread finished; awaiting finish of 0 more threads\n",
      "2020-08-13 09:29:21,472 : INFO : EPOCH - 2 : training on 25473 raw words (6802 effective words) took 0.0s, 214588 effective words/s\n",
      "2020-08-13 09:29:21,514 : INFO : worker thread finished; awaiting finish of 2 more threads\n",
      "2020-08-13 09:29:21,515 : INFO : worker thread finished; awaiting finish of 1 more threads\n",
      "2020-08-13 09:29:21,515 : INFO : worker thread finished; awaiting finish of 0 more threads\n",
      "2020-08-13 09:29:21,516 : INFO : EPOCH - 3 : training on 25473 raw words (6684 effective words) took 0.0s, 201567 effective words/s\n",
      "2020-08-13 09:29:21,558 : INFO : worker thread finished; awaiting finish of 2 more threads\n",
      "2020-08-13 09:29:21,559 : INFO : worker thread finished; awaiting finish of 1 more threads\n",
      "2020-08-13 09:29:21,562 : INFO : worker thread finished; awaiting finish of 0 more threads\n",
      "2020-08-13 09:29:21,563 : INFO : EPOCH - 4 : training on 25473 raw words (6803 effective words) took 0.0s, 199695 effective words/s\n",
      "2020-08-13 09:29:21,586 : INFO : worker thread finished; awaiting finish of 2 more threads\n",
      "2020-08-13 09:29:21,591 : INFO : worker thread finished; awaiting finish of 1 more threads\n",
      "2020-08-13 09:29:21,595 : INFO : worker thread finished; awaiting finish of 0 more threads\n",
      "2020-08-13 09:29:21,596 : INFO : EPOCH - 5 : training on 25473 raw words (6784 effective words) took 0.0s, 309987 effective words/s\n",
      "2020-08-13 09:29:21,627 : INFO : worker thread finished; awaiting finish of 2 more threads\n",
      "2020-08-13 09:29:21,632 : INFO : worker thread finished; awaiting finish of 1 more threads\n",
      "2020-08-13 09:29:21,633 : INFO : worker thread finished; awaiting finish of 0 more threads\n",
      "2020-08-13 09:29:21,634 : INFO : EPOCH - 6 : training on 25473 raw words (6858 effective words) took 0.0s, 236682 effective words/s\n",
      "2020-08-13 09:29:21,654 : INFO : worker thread finished; awaiting finish of 2 more threads\n",
      "2020-08-13 09:29:21,656 : INFO : worker thread finished; awaiting finish of 1 more threads\n",
      "2020-08-13 09:29:21,656 : INFO : worker thread finished; awaiting finish of 0 more threads\n",
      "2020-08-13 09:29:21,657 : INFO : EPOCH - 7 : training on 25473 raw words (6719 effective words) took 0.0s, 405492 effective words/s\n",
      "2020-08-13 09:29:21,694 : INFO : worker thread finished; awaiting finish of 2 more threads\n",
      "2020-08-13 09:29:21,699 : INFO : worker thread finished; awaiting finish of 1 more threads\n",
      "2020-08-13 09:29:21,703 : INFO : worker thread finished; awaiting finish of 0 more threads\n",
      "2020-08-13 09:29:21,704 : INFO : EPOCH - 8 : training on 25473 raw words (6688 effective words) took 0.0s, 262799 effective words/s\n",
      "2020-08-13 09:29:21,726 : INFO : worker thread finished; awaiting finish of 2 more threads\n",
      "2020-08-13 09:29:21,727 : INFO : worker thread finished; awaiting finish of 1 more threads\n",
      "2020-08-13 09:29:21,728 : INFO : worker thread finished; awaiting finish of 0 more threads\n",
      "2020-08-13 09:29:21,729 : INFO : EPOCH - 9 : training on 25473 raw words (6922 effective words) took 0.0s, 379065 effective words/s\n",
      "2020-08-13 09:29:21,768 : INFO : worker thread finished; awaiting finish of 2 more threads\n",
      "2020-08-13 09:29:21,770 : INFO : worker thread finished; awaiting finish of 1 more threads\n",
      "2020-08-13 09:29:21,771 : INFO : worker thread finished; awaiting finish of 0 more threads\n",
      "2020-08-13 09:29:21,772 : INFO : EPOCH - 10 : training on 25473 raw words (6821 effective words) took 0.0s, 218804 effective words/s\n",
      "2020-08-13 09:29:21,798 : INFO : worker thread finished; awaiting finish of 2 more threads\n",
      "2020-08-13 09:29:21,799 : INFO : worker thread finished; awaiting finish of 1 more threads\n",
      "2020-08-13 09:29:21,800 : INFO : worker thread finished; awaiting finish of 0 more threads\n",
      "2020-08-13 09:29:21,801 : INFO : EPOCH - 11 : training on 25473 raw words (6720 effective words) took 0.0s, 356052 effective words/s\n",
      "2020-08-13 09:29:21,840 : INFO : worker thread finished; awaiting finish of 2 more threads\n",
      "2020-08-13 09:29:21,843 : INFO : worker thread finished; awaiting finish of 1 more threads\n",
      "2020-08-13 09:29:21,844 : INFO : worker thread finished; awaiting finish of 0 more threads\n",
      "2020-08-13 09:29:21,845 : INFO : EPOCH - 12 : training on 25473 raw words (6810 effective words) took 0.0s, 214578 effective words/s\n",
      "2020-08-13 09:29:21,871 : INFO : worker thread finished; awaiting finish of 2 more threads\n",
      "2020-08-13 09:29:21,873 : INFO : worker thread finished; awaiting finish of 1 more threads\n",
      "2020-08-13 09:29:21,875 : INFO : worker thread finished; awaiting finish of 0 more threads\n",
      "2020-08-13 09:29:21,876 : INFO : EPOCH - 13 : training on 25473 raw words (6843 effective words) took 0.0s, 321434 effective words/s\n",
      "2020-08-13 09:29:21,897 : INFO : worker thread finished; awaiting finish of 2 more threads\n",
      "2020-08-13 09:29:21,901 : INFO : worker thread finished; awaiting finish of 1 more threads\n",
      "2020-08-13 09:29:21,904 : INFO : worker thread finished; awaiting finish of 0 more threads\n",
      "2020-08-13 09:29:21,905 : INFO : EPOCH - 14 : training on 25473 raw words (6787 effective words) took 0.0s, 339271 effective words/s\n",
      "2020-08-13 09:29:21,932 : INFO : worker thread finished; awaiting finish of 2 more threads\n",
      "2020-08-13 09:29:21,936 : INFO : worker thread finished; awaiting finish of 1 more threads\n",
      "2020-08-13 09:29:21,938 : INFO : worker thread finished; awaiting finish of 0 more threads\n",
      "2020-08-13 09:29:21,940 : INFO : EPOCH - 15 : training on 25473 raw words (6766 effective words) took 0.0s, 266304 effective words/s\n",
      "2020-08-13 09:29:21,967 : INFO : worker thread finished; awaiting finish of 2 more threads\n",
      "2020-08-13 09:29:21,972 : INFO : worker thread finished; awaiting finish of 1 more threads\n",
      "2020-08-13 09:29:21,974 : INFO : worker thread finished; awaiting finish of 0 more threads\n",
      "2020-08-13 09:29:21,975 : INFO : EPOCH - 16 : training on 25473 raw words (6877 effective words) took 0.0s, 248492 effective words/s\n",
      "2020-08-13 09:29:21,999 : INFO : worker thread finished; awaiting finish of 2 more threads\n",
      "2020-08-13 09:29:22,001 : INFO : worker thread finished; awaiting finish of 1 more threads\n",
      "2020-08-13 09:29:22,002 : INFO : worker thread finished; awaiting finish of 0 more threads\n",
      "2020-08-13 09:29:22,003 : INFO : EPOCH - 17 : training on 25473 raw words (6731 effective words) took 0.0s, 323674 effective words/s\n",
      "2020-08-13 09:29:22,032 : INFO : worker thread finished; awaiting finish of 2 more threads\n",
      "2020-08-13 09:29:22,033 : INFO : worker thread finished; awaiting finish of 1 more threads\n",
      "2020-08-13 09:29:22,035 : INFO : worker thread finished; awaiting finish of 0 more threads\n",
      "2020-08-13 09:29:22,035 : INFO : EPOCH - 18 : training on 25473 raw words (6736 effective words) took 0.0s, 315759 effective words/s\n",
      "2020-08-13 09:29:22,057 : INFO : worker thread finished; awaiting finish of 2 more threads\n",
      "2020-08-13 09:29:22,058 : INFO : worker thread finished; awaiting finish of 1 more threads\n",
      "2020-08-13 09:29:22,059 : INFO : worker thread finished; awaiting finish of 0 more threads\n",
      "2020-08-13 09:29:22,060 : INFO : EPOCH - 19 : training on 25473 raw words (6747 effective words) took 0.0s, 387632 effective words/s\n",
      "2020-08-13 09:29:22,079 : INFO : worker thread finished; awaiting finish of 2 more threads\n",
      "2020-08-13 09:29:22,083 : INFO : worker thread finished; awaiting finish of 1 more threads\n",
      "2020-08-13 09:29:22,085 : INFO : worker thread finished; awaiting finish of 0 more threads\n",
      "2020-08-13 09:29:22,086 : INFO : EPOCH - 20 : training on 25473 raw words (6807 effective words) took 0.0s, 354098 effective words/s\n",
      "2020-08-13 09:29:22,086 : INFO : training on a 509460 raw words (135723 effective words) took 0.7s, 197322 effective words/s\n"
     ]
    }
   ],
   "source": [
    "model = gensim.models.Word2Vec(sentences=sentense, window=3, min_count=1, iter=20)"
   ]
  },
  {
   "cell_type": "code",
   "execution_count": 345,
   "metadata": {},
   "outputs": [
    {
     "name": "stdin",
     "output_type": "stream",
     "text": [
      "Words: fun\n"
     ]
    },
    {
     "name": "stdout",
     "output_type": "stream",
     "text": [
      "[('surreal', 0.999402642250061), ('adventure', 0.9993561506271362), ('fantasy', 0.999342143535614), ('social commentary', 0.999333918094635), ('Tolkein', 0.9993042945861816), ('funny', 0.9993042945861816), ('visually appealing', 0.9992465972900391), ('humorous', 0.9992341995239258), ('sci-fi', 0.9991506338119507), ('Wizards', 0.9991442561149597)]\n"
     ]
    }
   ],
   "source": [
    "while True:\n",
    "    words = input(\"Words:\")\n",
    "    ret = model.wv.most_similar(positive=[words], topn=10)\n",
    "    print(ret)\n",
    "    break"
   ]
  },
  {
   "cell_type": "markdown",
   "metadata": {},
   "source": [
    "### Doc2Vector"
   ]
  },
  {
   "cell_type": "code",
   "execution_count": 368,
   "metadata": {},
   "outputs": [],
   "source": [
    "from gensim.models.doc2vec import Doc2Vec, TaggedDocument\n",
    "from gensim.test.utils import get_tmpfile"
   ]
  },
  {
   "cell_type": "code",
   "execution_count": 369,
   "metadata": {},
   "outputs": [],
   "source": [
    "documents = [TaggedDocument(words, [movie_id]) for movie_id, words in movie_profile[\"profile\"].iteritems()]"
   ]
  },
  {
   "cell_type": "code",
   "execution_count": 370,
   "metadata": {},
   "outputs": [
    {
     "data": {
      "text/plain": [
       "[TaggedDocument(words=['pixar', 'fun', 'Animation', 'Children', 'Fantasy', 'Adventure', 'Comedy'], tags=[1]),\n",
       " TaggedDocument(words=['game', 'magic board game', 'Robin Williams', 'fantasy', 'Children', 'Fantasy', 'Adventure'], tags=[2])]"
      ]
     },
     "execution_count": 370,
     "metadata": {},
     "output_type": "execute_result"
    }
   ],
   "source": [
    "documents[:2]"
   ]
  },
  {
   "cell_type": "code",
   "execution_count": 371,
   "metadata": {},
   "outputs": [
    {
     "name": "stderr",
     "output_type": "stream",
     "text": [
      "2020-08-13 09:49:53,695 : INFO : collecting all words and their counts\n",
      "2020-08-13 09:49:53,697 : INFO : PROGRESS: at example #0, processed 0 words (0/s), 0 word types, 0 tags\n",
      "2020-08-13 09:49:53,738 : INFO : collected 1524 word types and 193610 unique tags from a corpus of 9742 examples and 25473 words\n",
      "2020-08-13 09:49:53,739 : INFO : Loading a fresh vocabulary\n",
      "2020-08-13 09:49:53,746 : INFO : effective_min_count=1 retains 1524 unique words (100% of original 1524, drops 0)\n",
      "2020-08-13 09:49:53,747 : INFO : effective_min_count=1 leaves 25473 word corpus (100% of original 25473, drops 0)\n",
      "2020-08-13 09:49:53,758 : INFO : deleting the raw counts dictionary of 1524 items\n",
      "2020-08-13 09:49:53,760 : INFO : sample=0.001 downsamples 20 most-common words\n",
      "2020-08-13 09:49:53,761 : INFO : downsampling leaves estimated 6795 word corpus (26.7% of prior 25473)\n",
      "2020-08-13 09:49:53,768 : INFO : estimated required memory for 1524 words and 100 dimensions: 79425200 bytes\n",
      "2020-08-13 09:49:53,769 : INFO : resetting layer weights\n",
      "2020-08-13 09:50:29,979 : INFO : training model with 4 workers on 1524 vocabulary and 100 features, using sg=0 hs=0 sample=0.001 negative=5 window=3\n",
      "2020-08-13 09:50:30,023 : INFO : worker thread finished; awaiting finish of 3 more threads\n",
      "2020-08-13 09:50:30,567 : INFO : worker thread finished; awaiting finish of 2 more threads\n",
      "2020-08-13 09:50:30,915 : INFO : worker thread finished; awaiting finish of 1 more threads\n",
      "2020-08-13 09:50:30,952 : INFO : worker thread finished; awaiting finish of 0 more threads\n",
      "2020-08-13 09:50:30,953 : INFO : EPOCH - 1 : training on 25473 raw words (16603 effective words) took 1.0s, 17269 effective words/s\n",
      "2020-08-13 09:50:30,978 : INFO : worker thread finished; awaiting finish of 3 more threads\n",
      "2020-08-13 09:50:31,597 : INFO : worker thread finished; awaiting finish of 2 more threads\n",
      "2020-08-13 09:50:31,847 : INFO : worker thread finished; awaiting finish of 1 more threads\n",
      "2020-08-13 09:50:31,874 : INFO : worker thread finished; awaiting finish of 0 more threads\n",
      "2020-08-13 09:50:31,875 : INFO : EPOCH - 2 : training on 25473 raw words (16466 effective words) took 0.9s, 18261 effective words/s\n",
      "2020-08-13 09:50:31,894 : INFO : worker thread finished; awaiting finish of 3 more threads\n",
      "2020-08-13 09:50:32,463 : INFO : worker thread finished; awaiting finish of 2 more threads\n",
      "2020-08-13 09:50:32,738 : INFO : worker thread finished; awaiting finish of 1 more threads\n",
      "2020-08-13 09:50:32,769 : INFO : worker thread finished; awaiting finish of 0 more threads\n",
      "2020-08-13 09:50:32,770 : INFO : EPOCH - 3 : training on 25473 raw words (16534 effective words) took 0.9s, 18718 effective words/s\n",
      "2020-08-13 09:50:32,787 : INFO : worker thread finished; awaiting finish of 3 more threads\n",
      "2020-08-13 09:50:33,336 : INFO : worker thread finished; awaiting finish of 2 more threads\n",
      "2020-08-13 09:50:33,615 : INFO : worker thread finished; awaiting finish of 1 more threads\n",
      "2020-08-13 09:50:33,678 : INFO : worker thread finished; awaiting finish of 0 more threads\n",
      "2020-08-13 09:50:33,680 : INFO : EPOCH - 4 : training on 25473 raw words (16562 effective words) took 0.9s, 18398 effective words/s\n",
      "2020-08-13 09:50:33,702 : INFO : worker thread finished; awaiting finish of 3 more threads\n",
      "2020-08-13 09:50:34,292 : INFO : worker thread finished; awaiting finish of 2 more threads\n",
      "2020-08-13 09:50:34,542 : INFO : worker thread finished; awaiting finish of 1 more threads\n",
      "2020-08-13 09:50:34,547 : INFO : worker thread finished; awaiting finish of 0 more threads\n",
      "2020-08-13 09:50:34,548 : INFO : EPOCH - 5 : training on 25473 raw words (16595 effective words) took 0.9s, 19461 effective words/s\n",
      "2020-08-13 09:50:34,585 : INFO : worker thread finished; awaiting finish of 3 more threads\n",
      "2020-08-13 09:50:35,268 : INFO : worker thread finished; awaiting finish of 2 more threads\n",
      "2020-08-13 09:50:35,535 : INFO : worker thread finished; awaiting finish of 1 more threads\n",
      "2020-08-13 09:50:35,563 : INFO : worker thread finished; awaiting finish of 0 more threads\n",
      "2020-08-13 09:50:35,564 : INFO : EPOCH - 6 : training on 25473 raw words (16530 effective words) took 1.0s, 16533 effective words/s\n",
      "2020-08-13 09:50:35,603 : INFO : worker thread finished; awaiting finish of 3 more threads\n",
      "2020-08-13 09:50:36,345 : INFO : worker thread finished; awaiting finish of 2 more threads\n",
      "2020-08-13 09:50:36,583 : INFO : EPOCH 7 - PROGRESS: at 60.58% examples, 9580 words/s, in_qsize 1, out_qsize 1\n",
      "2020-08-13 09:50:36,588 : INFO : worker thread finished; awaiting finish of 1 more threads\n",
      "2020-08-13 09:50:36,606 : INFO : worker thread finished; awaiting finish of 0 more threads\n",
      "2020-08-13 09:50:36,607 : INFO : EPOCH - 7 : training on 25473 raw words (16480 effective words) took 1.0s, 15958 effective words/s\n",
      "2020-08-13 09:50:36,638 : INFO : worker thread finished; awaiting finish of 3 more threads\n",
      "2020-08-13 09:50:37,351 : INFO : worker thread finished; awaiting finish of 2 more threads\n",
      "2020-08-13 09:50:37,616 : INFO : worker thread finished; awaiting finish of 1 more threads\n",
      "2020-08-13 09:50:37,639 : INFO : EPOCH 8 - PROGRESS: at 100.00% examples, 16232 words/s, in_qsize 0, out_qsize 1\n",
      "2020-08-13 09:50:37,639 : INFO : worker thread finished; awaiting finish of 0 more threads\n",
      "2020-08-13 09:50:37,640 : INFO : EPOCH - 8 : training on 25473 raw words (16582 effective words) took 1.0s, 16209 effective words/s\n",
      "2020-08-13 09:50:37,658 : INFO : worker thread finished; awaiting finish of 3 more threads\n",
      "2020-08-13 09:50:38,233 : INFO : worker thread finished; awaiting finish of 2 more threads\n",
      "2020-08-13 09:50:38,505 : INFO : worker thread finished; awaiting finish of 1 more threads\n",
      "2020-08-13 09:50:38,540 : INFO : worker thread finished; awaiting finish of 0 more threads\n",
      "2020-08-13 09:50:38,541 : INFO : EPOCH - 9 : training on 25473 raw words (16641 effective words) took 0.9s, 18718 effective words/s\n",
      "2020-08-13 09:50:38,557 : INFO : worker thread finished; awaiting finish of 3 more threads\n",
      "2020-08-13 09:50:39,170 : INFO : worker thread finished; awaiting finish of 2 more threads\n",
      "2020-08-13 09:50:39,465 : INFO : worker thread finished; awaiting finish of 1 more threads\n",
      "2020-08-13 09:50:39,493 : INFO : worker thread finished; awaiting finish of 0 more threads\n",
      "2020-08-13 09:50:39,494 : INFO : EPOCH - 10 : training on 25473 raw words (16471 effective words) took 0.9s, 17444 effective words/s\n",
      "2020-08-13 09:50:39,512 : INFO : worker thread finished; awaiting finish of 3 more threads\n",
      "2020-08-13 09:50:40,226 : INFO : worker thread finished; awaiting finish of 2 more threads\n",
      "2020-08-13 09:50:40,583 : INFO : EPOCH 11 - PROGRESS: at 60.58% examples, 8973 words/s, in_qsize 1, out_qsize 1\n",
      "2020-08-13 09:50:40,588 : INFO : worker thread finished; awaiting finish of 1 more threads\n",
      "2020-08-13 09:50:40,605 : INFO : worker thread finished; awaiting finish of 0 more threads\n",
      "2020-08-13 09:50:40,606 : INFO : EPOCH - 11 : training on 25473 raw words (16462 effective words) took 1.1s, 14958 effective words/s\n",
      "2020-08-13 09:50:40,622 : INFO : worker thread finished; awaiting finish of 3 more threads\n",
      "2020-08-13 09:50:41,178 : INFO : worker thread finished; awaiting finish of 2 more threads\n",
      "2020-08-13 09:50:41,446 : INFO : worker thread finished; awaiting finish of 1 more threads\n",
      "2020-08-13 09:50:41,474 : INFO : worker thread finished; awaiting finish of 0 more threads\n",
      "2020-08-13 09:50:41,475 : INFO : EPOCH - 12 : training on 25473 raw words (16449 effective words) took 0.9s, 19164 effective words/s\n",
      "2020-08-13 09:50:41,491 : INFO : worker thread finished; awaiting finish of 3 more threads\n",
      "2020-08-13 09:50:42,177 : INFO : worker thread finished; awaiting finish of 2 more threads\n",
      "2020-08-13 09:50:42,422 : INFO : worker thread finished; awaiting finish of 1 more threads\n",
      "2020-08-13 09:50:42,470 : INFO : worker thread finished; awaiting finish of 0 more threads\n",
      "2020-08-13 09:50:42,471 : INFO : EPOCH - 13 : training on 25473 raw words (16626 effective words) took 1.0s, 16859 effective words/s\n",
      "2020-08-13 09:50:42,510 : INFO : worker thread finished; awaiting finish of 3 more threads\n",
      "2020-08-13 09:50:43,182 : INFO : worker thread finished; awaiting finish of 2 more threads\n",
      "2020-08-13 09:50:43,432 : INFO : worker thread finished; awaiting finish of 1 more threads\n",
      "2020-08-13 09:50:43,466 : INFO : worker thread finished; awaiting finish of 0 more threads\n",
      "2020-08-13 09:50:43,467 : INFO : EPOCH - 14 : training on 25473 raw words (16531 effective words) took 1.0s, 16784 effective words/s\n",
      "2020-08-13 09:50:43,496 : INFO : worker thread finished; awaiting finish of 3 more threads\n",
      "2020-08-13 09:50:44,111 : INFO : worker thread finished; awaiting finish of 2 more threads\n",
      "2020-08-13 09:50:44,417 : INFO : worker thread finished; awaiting finish of 1 more threads\n",
      "2020-08-13 09:50:44,458 : INFO : worker thread finished; awaiting finish of 0 more threads\n",
      "2020-08-13 09:50:44,459 : INFO : EPOCH - 15 : training on 25473 raw words (16609 effective words) took 1.0s, 16911 effective words/s\n",
      "2020-08-13 09:50:44,482 : INFO : worker thread finished; awaiting finish of 3 more threads\n",
      "2020-08-13 09:50:45,040 : INFO : worker thread finished; awaiting finish of 2 more threads\n",
      "2020-08-13 09:50:45,332 : INFO : worker thread finished; awaiting finish of 1 more threads\n",
      "2020-08-13 09:50:45,343 : INFO : worker thread finished; awaiting finish of 0 more threads\n",
      "2020-08-13 09:50:45,344 : INFO : EPOCH - 16 : training on 25473 raw words (16544 effective words) took 0.9s, 18837 effective words/s\n",
      "2020-08-13 09:50:45,372 : INFO : worker thread finished; awaiting finish of 3 more threads\n",
      "2020-08-13 09:50:45,929 : INFO : worker thread finished; awaiting finish of 2 more threads\n",
      "2020-08-13 09:50:46,196 : INFO : worker thread finished; awaiting finish of 1 more threads\n",
      "2020-08-13 09:50:46,223 : INFO : worker thread finished; awaiting finish of 0 more threads\n",
      "2020-08-13 09:50:46,224 : INFO : EPOCH - 17 : training on 25473 raw words (16541 effective words) took 0.9s, 19209 effective words/s\n",
      "2020-08-13 09:50:46,257 : INFO : worker thread finished; awaiting finish of 3 more threads\n",
      "2020-08-13 09:50:46,876 : INFO : worker thread finished; awaiting finish of 2 more threads\n",
      "2020-08-13 09:50:47,138 : INFO : worker thread finished; awaiting finish of 1 more threads\n",
      "2020-08-13 09:50:47,140 : INFO : worker thread finished; awaiting finish of 0 more threads\n",
      "2020-08-13 09:50:47,141 : INFO : EPOCH - 18 : training on 25473 raw words (16573 effective words) took 0.9s, 18292 effective words/s\n",
      "2020-08-13 09:50:47,165 : INFO : worker thread finished; awaiting finish of 3 more threads\n",
      "2020-08-13 09:50:47,751 : INFO : worker thread finished; awaiting finish of 2 more threads\n",
      "2020-08-13 09:50:47,984 : INFO : worker thread finished; awaiting finish of 1 more threads\n",
      "2020-08-13 09:50:48,014 : INFO : worker thread finished; awaiting finish of 0 more threads\n",
      "2020-08-13 09:50:48,015 : INFO : EPOCH - 19 : training on 25473 raw words (16550 effective words) took 0.9s, 19237 effective words/s\n",
      "2020-08-13 09:50:48,030 : INFO : worker thread finished; awaiting finish of 3 more threads\n",
      "2020-08-13 09:50:48,749 : INFO : worker thread finished; awaiting finish of 2 more threads\n",
      "2020-08-13 09:50:49,119 : INFO : EPOCH 20 - PROGRESS: at 60.58% examples, 8874 words/s, in_qsize 1, out_qsize 1\n",
      "2020-08-13 09:50:49,122 : INFO : worker thread finished; awaiting finish of 1 more threads\n",
      "2020-08-13 09:50:49,145 : INFO : worker thread finished; awaiting finish of 0 more threads\n",
      "2020-08-13 09:50:49,146 : INFO : EPOCH - 20 : training on 25473 raw words (16484 effective words) took 1.1s, 14702 effective words/s\n",
      "2020-08-13 09:50:49,149 : INFO : training on a 509460 raw words (330833 effective words) took 19.2s, 17258 effective words/s\n"
     ]
    }
   ],
   "source": [
    "#  计算文档向量\n",
    "model = Doc2Vec(documents, vector_size=100, window=3, min_count=1, workers=4, epochs=20)"
   ]
  },
  {
   "cell_type": "code",
   "execution_count": 375,
   "metadata": {},
   "outputs": [],
   "source": [
    "frame = get_tmpfile(\"my_doc2vect_model\")"
   ]
  },
  {
   "cell_type": "code",
   "execution_count": 376,
   "metadata": {},
   "outputs": [
    {
     "name": "stderr",
     "output_type": "stream",
     "text": [
      "2020-08-13 09:51:25,581 : INFO : saving Doc2Vec object under /tmp/my_doc2vect_model, separately None\n",
      "2020-08-13 09:51:25,583 : INFO : storing np array 'vectors_docs' to /tmp/my_doc2vect_model.docvecs.vectors_docs.npy\n",
      "2020-08-13 09:51:26,211 : INFO : saved /tmp/my_doc2vect_model\n"
     ]
    }
   ],
   "source": [
    "model.save(frame)"
   ]
  },
  {
   "cell_type": "code",
   "execution_count": 402,
   "metadata": {},
   "outputs": [
    {
     "data": {
      "text/plain": [
       "['Action', 'Crime', 'Thriller']"
      ]
     },
     "execution_count": 402,
     "metadata": {},
     "output_type": "execute_result"
    }
   ],
   "source": [
    "words = movie_profile.profile.loc[6]\n",
    "words"
   ]
  },
  {
   "cell_type": "code",
   "execution_count": null,
   "metadata": {},
   "outputs": [],
   "source": [
    "words1 = movie_profile.profile.loc[5]\n",
    "words1"
   ]
  },
  {
   "cell_type": "code",
   "execution_count": 408,
   "metadata": {},
   "outputs": [
    {
     "data": {
      "text/plain": [
       "movieId\n",
       "5    [pregnancy, remake, Comedy]\n",
       "6      [Action, Crime, Thriller]\n",
       "7      [remake, Romance, Comedy]\n",
       "Name: profile, dtype: object"
      ]
     },
     "execution_count": 408,
     "metadata": {},
     "output_type": "execute_result"
    }
   ],
   "source": [
    "movie_profile.profile[4:7]"
   ]
  },
  {
   "cell_type": "code",
   "execution_count": 394,
   "metadata": {},
   "outputs": [],
   "source": [
    "import seaborn as sns\n",
    "import matplotlib.pyplot as plt"
   ]
  },
  {
   "cell_type": "code",
   "execution_count": 422,
   "metadata": {},
   "outputs": [
    {
     "data": {
      "text/plain": [
       "array([-2.31026416e-03,  3.45464200e-02,  1.99114392e-03, -8.83880130e-05,\n",
       "        3.47464792e-02, -1.34935342e-02, -8.42887734e-04,  1.99268218e-02,\n",
       "        1.36458529e-02, -1.55902747e-02, -2.23908797e-02, -2.25521214e-02,\n",
       "       -3.37042124e-03, -1.60901342e-02, -1.27475196e-02, -4.66887429e-02,\n",
       "       -2.25527287e-02, -3.06116920e-02, -5.28509822e-03,  1.26928026e-02,\n",
       "        3.07743601e-03,  1.35788210e-02,  5.54616703e-03, -1.82435624e-02,\n",
       "       -1.43613694e-02, -2.34715417e-02, -3.03593203e-02, -4.74530132e-03,\n",
       "        8.51310138e-03,  6.46627555e-03,  3.22809140e-03,  1.27420761e-02,\n",
       "        3.48738804e-02, -1.17461933e-02,  3.34775215e-03, -8.72334745e-03,\n",
       "        1.27969235e-02, -1.86692532e-02, -2.21336391e-02, -2.24722121e-02,\n",
       "        1.10186366e-02,  3.03440727e-03, -1.46102812e-02, -6.56190468e-03,\n",
       "       -9.23128426e-03, -1.86624061e-02,  2.20305379e-02, -2.36496031e-02,\n",
       "       -4.41820314e-03,  3.31835262e-02, -2.96598803e-02, -1.81519706e-02,\n",
       "       -3.03307213e-02,  1.24687487e-02,  1.83586758e-02, -4.83159907e-03,\n",
       "       -8.79940111e-03,  1.85423363e-02,  2.43563987e-02, -3.28114862e-03,\n",
       "        3.62039059e-02,  1.23534352e-02, -1.54272737e-02, -1.84389055e-02,\n",
       "       -1.54904304e-02, -1.22389467e-02,  3.34699638e-02,  1.08371396e-02,\n",
       "       -5.59358969e-02,  1.80579741e-02,  1.62448771e-02, -2.52577569e-02,\n",
       "        7.77256628e-03, -3.23531441e-02, -7.86956633e-04,  1.60287116e-02,\n",
       "       -5.04407706e-03,  2.43217614e-03,  1.35927144e-02,  1.17093846e-02,\n",
       "       -9.06335562e-03, -2.23093517e-02,  2.06397381e-03,  4.87417215e-03,\n",
       "        4.05929144e-03, -3.02082300e-02, -6.38484210e-02, -2.26871818e-02,\n",
       "       -1.73844316e-03,  1.86043922e-02,  5.26411599e-03,  1.00253271e-02,\n",
       "       -1.62645280e-02,  1.29426951e-02, -1.49529846e-02, -2.51528714e-02,\n",
       "        5.93686244e-03, -1.21599343e-03,  4.80624195e-03, -1.51117183e-02],\n",
       "      dtype=float32)"
      ]
     },
     "execution_count": 422,
     "metadata": {},
     "output_type": "execute_result"
    }
   ],
   "source": [
    "infer_vector = model.infer_vector(words)\n",
    "infer_vector"
   ]
  },
  {
   "cell_type": "code",
   "execution_count": 423,
   "metadata": {},
   "outputs": [
    {
     "name": "stdout",
     "output_type": "stream",
     "text": [
      "[(5505, 0.9883402585983276), (32587, 0.9881415963172913), (2124, 0.9879723191261292), (30812, 0.9879041910171509), (7061, 0.9878513216972351), (61323, 0.9878132343292236), (1779, 0.9877544045448303), (4166, 0.9876800775527954), (6002, 0.9876760244369507), (3512, 0.9876107573509216)]\n"
     ]
    }
   ],
   "source": [
    "top = model.docvecs.most_similar([infer_vector], topn=10)\n",
    "print(top)"
   ]
  },
  {
   "cell_type": "code",
   "execution_count": 433,
   "metadata": {},
   "outputs": [
    {
     "name": "stdout",
     "output_type": "stream",
     "text": [
      "电影： Heat (1995) \n",
      "\n",
      "推荐电影：\n",
      "Suicide Squad (2016)\n",
      "2001: A Space Odyssey (1968)\n",
      "Friends with Benefits (2011)\n",
      "South Park: Bigger, Longer and Uncut (1999)\n",
      "Margin Call (2011)\n",
      "The Revenant (2015)\n",
      "Happy Gilmore (1996)\n",
      "Léon: The Professional (a.k.a. The Professional) (Léon) (1994)\n",
      "Unbreakable (2000)\n",
      "All the King's Men (1949)\n"
     ]
    }
   ],
   "source": [
    "print(\"电影：\", movie_profile.loc[6][\"title\"], \"\\n\")\n",
    "print(\"推荐电影：\")\n",
    "for iid, weight in top:\n",
    "    print(movie_profile.loc[iid, :][\"title\"])"
   ]
  },
  {
   "cell_type": "code",
   "execution_count": 425,
   "metadata": {},
   "outputs": [
    {
     "data": {
      "text/plain": [
       "array([ 0.0051198 ,  0.06129421,  0.00604609,  0.00568463,  0.05531308,\n",
       "       -0.01593204, -0.00411742,  0.05129193,  0.03208151, -0.04326396,\n",
       "       -0.04482697, -0.04322075, -0.00674182, -0.02470632, -0.01986721,\n",
       "       -0.08314418, -0.05159604, -0.06155486, -0.00835043,  0.03463339,\n",
       "        0.00568378,  0.03776013,  0.00983758, -0.03972785, -0.02031361,\n",
       "       -0.03830637, -0.05804105, -0.02203756,  0.00637699,  0.00711801,\n",
       "        0.01234065,  0.02049166,  0.06944869, -0.02115096, -0.00380144,\n",
       "       -0.01806285,  0.02065507, -0.03510199, -0.04280055, -0.04147586,\n",
       "        0.01822461,  0.01236441, -0.0290857 , -0.02578299, -0.01322697,\n",
       "       -0.0265607 ,  0.04655097, -0.05094584, -0.00748564,  0.07522822,\n",
       "       -0.0604393 , -0.04335431, -0.04665793,  0.00845462,  0.02637742,\n",
       "       -0.01311264, -0.0177198 ,  0.04227069,  0.0447677 , -0.01027317,\n",
       "        0.0641916 ,  0.02439454, -0.02210962, -0.03584355, -0.04489159,\n",
       "       -0.0212019 ,  0.0668609 ,  0.025981  , -0.09690608,  0.02446311,\n",
       "        0.0251551 , -0.04874654,  0.02060483, -0.07083677, -0.00409084,\n",
       "        0.02609809, -0.00914284,  0.01158696,  0.03557528,  0.02654692,\n",
       "       -0.02548255, -0.0310585 ,  0.00916744,  0.00838505,  0.01037072,\n",
       "       -0.05359192, -0.13251019, -0.0402243 , -0.00979509,  0.0273494 ,\n",
       "       -0.0019367 ,  0.01181095, -0.0257531 ,  0.01825674, -0.03004525,\n",
       "       -0.0398057 ,  0.01003944, -0.00156603, -0.00454548, -0.01755341],\n",
       "      dtype=float32)"
      ]
     },
     "execution_count": 425,
     "metadata": {},
     "output_type": "execute_result"
    }
   ],
   "source": [
    "infer_vector1 = model.infer_vector(words1)\n",
    "infer_vector1"
   ]
  },
  {
   "cell_type": "code",
   "execution_count": 426,
   "metadata": {},
   "outputs": [
    {
     "name": "stdout",
     "output_type": "stream",
     "text": [
      "[(135536, 0.9964977502822876), (924, 0.9964958429336548), (88405, 0.9964617490768433), (2700, 0.9964407086372375), (90439, 0.9964227080345154), (139385, 0.9964029788970947), (104, 0.9963891506195068), (293, 0.9963852763175964), (3994, 0.9963703155517578), (1942, 0.9963667392730713)]\n"
     ]
    }
   ],
   "source": [
    "top = model.docvecs.most_similar([infer_vector1], topn=10)\n",
    "print(top)"
   ]
  },
  {
   "cell_type": "code",
   "execution_count": 432,
   "metadata": {},
   "outputs": [
    {
     "name": "stdout",
     "output_type": "stream",
     "text": [
      "电影： Father of the Bride Part II (1995) \n",
      "\n",
      "推荐电影：\n",
      "Suicide Squad (2016)\n",
      "2001: A Space Odyssey (1968)\n",
      "Friends with Benefits (2011)\n",
      "South Park: Bigger, Longer and Uncut (1999)\n",
      "Margin Call (2011)\n",
      "The Revenant (2015)\n",
      "Happy Gilmore (1996)\n",
      "Léon: The Professional (a.k.a. The Professional) (Léon) (1994)\n",
      "Unbreakable (2000)\n",
      "All the King's Men (1949)\n"
     ]
    }
   ],
   "source": [
    "print(\"电影：\", movie_profile.loc[5][\"title\"], \"\\n\")\n",
    "print(\"推荐电影：\")\n",
    "for iid, weight in top:\n",
    "    print(movie_profile.loc[iid, :][\"title\"])"
   ]
  },
  {
   "cell_type": "code",
   "execution_count": 405,
   "metadata": {},
   "outputs": [
    {
     "data": {
      "image/png": "[encoded data removed]",
      "text/plain": [
       "<Figure size 2160x72 with 2 Axes>"
      ]
     },
     "metadata": {},
     "output_type": "display_data"
    }
   ],
   "source": [
    "plt.figure(figsize=(30, 1))\n",
    "sns.heatmap(infer_vector.reshape(1, 100),cmap=\"YlGnBu\")\n",
    "plt.show()"
   ]
  },
  {
   "cell_type": "code",
   "execution_count": 406,
   "metadata": {},
   "outputs": [
    {
     "data": {
      "image/png": "[encoded data removed]",
      "text/plain": [
       "<Figure size 2160x72 with 2 Axes>"
      ]
     },
     "metadata": {},
     "output_type": "display_data"
    }
   ],
   "source": [
    "plt.figure(figsize=(30, 1))\n",
    "sns.heatmap(infer_vector1.reshape(1, 100), cmap=\"YlGnBu\")\n",
    "plt.show()"
   ]
  },
  {
   "cell_type": "markdown",
   "metadata": {},
   "source": [
    "## 知识点"
   ]
  },
  {
   "cell_type": "code",
   "execution_count": 169,
   "metadata": {},
   "outputs": [
    {
     "data": {
      "text/plain": [
       "{'a': 4, 'b': 5}"
      ]
     },
     "execution_count": 169,
     "metadata": {},
     "output_type": "execute_result"
    }
   ],
   "source": [
    "T = {}\n",
    "test = {\"a\":4, \"b\":5}\n",
    "test"
   ]
  },
  {
   "cell_type": "code",
   "execution_count": 170,
   "metadata": {},
   "outputs": [],
   "source": [
    "# 获取某一key的value值，如果存在返回相对应的值，否则返回[]\n",
    "b = T.get(\"a\", [])\n",
    "b.append((11, 4, 5, 6))"
   ]
  },
  {
   "cell_type": "code",
   "execution_count": 171,
   "metadata": {},
   "outputs": [
    {
     "data": {
      "text/plain": [
       "[(11, 4, 5, 6)]"
      ]
     },
     "execution_count": 171,
     "metadata": {},
     "output_type": "execute_result"
    }
   ],
   "source": [
    "# 外部设置键值对\n",
    "c = T.setdefault(\"a\", b)\n",
    "c"
   ]
  },
  {
   "cell_type": "code",
   "execution_count": 172,
   "metadata": {},
   "outputs": [
    {
     "data": {
      "text/plain": [
       "{'a': [(11, 4, 5, 6)]}"
      ]
     },
     "execution_count": 172,
     "metadata": {},
     "output_type": "execute_result"
    }
   ],
   "source": [
    "T"
   ]
  },
  {
   "cell_type": "code",
   "execution_count": 268,
   "metadata": {},
   "outputs": [
    {
     "data": {
      "text/plain": [
       "[('Action', 90),\n",
       " ('Adventure', 85),\n",
       " ('Comedy', 83),\n",
       " ('Drama', 68),\n",
       " ('Thriller', 55),\n",
       " ('Fantasy', 47),\n",
       " ('Crime', 45),\n",
       " ('Children', 42),\n",
       " ('Sci-Fi', 40),\n",
       " ('Animation', 29)]"
      ]
     },
     "execution_count": 268,
     "metadata": {},
     "output_type": "execute_result"
    }
   ],
   "source": [
    "a = collections.Counter(reduce(lambda x, y: list(x)+list(y), record_movie_profile[\"profile\"].values))\n",
    "b = a.most_common()[:10]\n",
    "b"
   ]
  },
  {
   "cell_type": "code",
   "execution_count": 269,
   "metadata": {},
   "outputs": [
    {
     "data": {
      "text/plain": [
       "90"
      ]
     },
     "execution_count": 269,
     "metadata": {},
     "output_type": "execute_result"
    }
   ],
   "source": [
    "maxcount = b[0][1]\n",
    "maxcount"
   ]
  },
  {
   "cell_type": "code",
   "execution_count": 270,
   "metadata": {},
   "outputs": [
    {
     "name": "stdout",
     "output_type": "stream",
     "text": [
      "('Action', 1.0)\n",
      "('Adventure', 0.9444)\n",
      "('Comedy', 0.9222)\n",
      "('Drama', 0.7556)\n",
      "('Thriller', 0.6111)\n",
      "('Fantasy', 0.5222)\n",
      "('Crime', 0.5)\n",
      "('Children', 0.4667)\n",
      "('Sci-Fi', 0.4444)\n",
      "('Animation', 0.3222)\n"
     ]
    }
   ],
   "source": [
    "for w, c in b:\n",
    "    print((w, round(c/maxcount, 4)))"
   ]
  },
  {
   "cell_type": "code",
   "execution_count": null,
   "metadata": {},
   "outputs": [],
   "source": []
  }
 ],
 "metadata": {
  "kernelspec": {
   "display_name": "Python 3",
   "language": "python",
   "name": "python3"
  },
  "language_info": {
   "codemirror_mode": {
    "name": "ipython",
    "version": 3
   },
   "file_extension": ".py",
   "mimetype": "text/x-python",
   "name": "python",
   "nbconvert_exporter": "python",
   "pygments_lexer": "ipython3",
   "version": "3.6.3"
  }
 },
 "nbformat": 4,
 "nbformat_minor": 4
}
