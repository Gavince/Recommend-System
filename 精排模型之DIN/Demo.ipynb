{
 "cells": [
  {
   "cell_type": "code",
   "execution_count": 1,
   "metadata": {},
   "outputs": [],
   "source": [
    "import numpy as np\n",
    "\n",
    "from deepctr_torch.inputs import (DenseFeat, SparseFeat, VarLenSparseFeat,\n",
    "                                  get_feature_names)\n",
    "\n",
    "from deepctr_torch.models.din import DIN"
   ]
  },
  {
   "cell_type": "code",
   "execution_count": 2,
   "metadata": {},
   "outputs": [],
   "source": [
    "feature_columns = [SparseFeat('user',vocabulary_size=3,embedding_dim=10),\n",
    "                    SparseFeat('gender', vocabulary_size=2,embedding_dim=4), \n",
    "                    SparseFeat('item_id', vocabulary_size=3,embedding_dim=8), \n",
    "                    SparseFeat('cate_id', vocabulary_size=2,embedding_dim=4),\n",
    "                    DenseFeat('pay_score', 1)]\n",
    "\n",
    "# 指定历史行为序列对应的特征\n",
    "behavior_feature_list = [\"item_id\", \"cate_id\"]"
   ]
  },
  {
   "cell_type": "code",
   "execution_count": 3,
   "metadata": {},
   "outputs": [],
   "source": [
    "# 构造 ['item_id', 'cate_id'] 这两个属性历史序列数据的数据结构: hist_item_id, hist_cate_id\n",
    "# 由于历史行为是不定长数据序列，需要用 VarLenSparseFeat 封装起来，并指定序列的最大长度为 4 \n",
    "# 注意,对于长度不足4的部分会用0来填充,因此 vocabulary_size 应该在原来的基础上 + 1\n",
    "# 详细内容参考：https://deepctr-doc.readthedocs.io/en/latest/Examples.html#multi-value-input-movielens\n",
    "feature_columns += [\n",
    "    VarLenSparseFeat(SparseFeat('hist_item_id', vocabulary_size=3 + 1, embedding_dim=8, embedding_name='item_id'),\n",
    "                     maxlen=4, length_name=\"seq_length\"),\n",
    "    VarLenSparseFeat(SparseFeat('hist_cate_id', 2 + 1, embedding_dim=4, embedding_name='cate_id'), maxlen=4,\n",
    "                     length_name=\"seq_length\")]"
   ]
  },
  {
   "cell_type": "code",
   "execution_count": 4,
   "metadata": {},
   "outputs": [
    {
     "data": {
      "text/plain": [
       "[SparseFeat(name='user', vocabulary_size=3, embedding_dim=10, use_hash=False, dtype='int32', embedding_name='user', group_name='default_group'),\n",
       " SparseFeat(name='gender', vocabulary_size=2, embedding_dim=4, use_hash=False, dtype='int32', embedding_name='gender', group_name='default_group'),\n",
       " SparseFeat(name='item_id', vocabulary_size=3, embedding_dim=8, use_hash=False, dtype='int32', embedding_name='item_id', group_name='default_group'),\n",
       " SparseFeat(name='cate_id', vocabulary_size=2, embedding_dim=4, use_hash=False, dtype='int32', embedding_name='cate_id', group_name='default_group'),\n",
       " DenseFeat(name='pay_score', dimension=1, dtype='float32'),\n",
       " VarLenSparseFeat(sparsefeat=SparseFeat(name='hist_item_id', vocabulary_size=4, embedding_dim=8, use_hash=False, dtype='int32', embedding_name='item_id', group_name='default_group'), maxlen=4, combiner='mean', length_name='seq_length'),\n",
       " VarLenSparseFeat(sparsefeat=SparseFeat(name='hist_cate_id', vocabulary_size=3, embedding_dim=4, use_hash=False, dtype='int32', embedding_name='cate_id', group_name='default_group'), maxlen=4, combiner='mean', length_name='seq_length')]"
      ]
     },
     "execution_count": 4,
     "metadata": {},
     "output_type": "execute_result"
    }
   ],
   "source": [
    "feature_columns"
   ]
  },
  {
   "cell_type": "code",
   "execution_count": 12,
   "metadata": {},
   "outputs": [],
   "source": [
    "use_neg = True\n",
    "# 基础特征数据\n",
    "uid = np.array([0, 1, 2])\n",
    "ugender = np.array([0, 1, 0])\n",
    "iid = np.array([1, 2, 3])\n",
    "cate_id = np.array([1, 2, 2]) \n",
    "score = np.array([0.1, 0.2, 0.3])"
   ]
  },
  {
   "cell_type": "code",
   "execution_count": 13,
   "metadata": {},
   "outputs": [],
   "source": [
    "# 构造历史行为序列数据\n",
    "# 构造长度为 4 的 item_id 序列,不足的部分用0填充\n",
    "hist_iid = np.array([[1, 2, 3, 0], [3, 2, 1, 0], [1, 2, 0, 0]])\n",
    "# 构造长度为 4 的 cate_id 序列,不足的部分用0填充\n",
    "hist_cate_id = np.array([[1, 2, 2, 0], [2, 2, 1, 0], [1, 2, 0, 0]])\n",
    "# 行为序列长度\n",
    "behavior_length = np.array([3, 3, 2])"
   ]
  },
  {
   "cell_type": "code",
   "execution_count": 14,
   "metadata": {},
   "outputs": [],
   "source": [
    "# 构造实际的输入数据\n",
    "feature_dict = {'user': uid, 'gender': ugender, 'item_id': iid, 'cate_id': cate_id,\n",
    "                'hist_item_id': hist_iid, 'hist_cate_id': hist_cate_id,\n",
    "                'pay_score': score}"
   ]
  },
  {
   "cell_type": "code",
   "execution_count": 15,
   "metadata": {},
   "outputs": [],
   "source": [
    "# 使用负采样\n",
    "if use_neg:\n",
    "    feature_dict['neg_hist_item_id'] = np.array([[1, 2, 3, 0], [1, 2, 3, 0], [1, 2, 0, 0]])\n",
    "    feature_dict['neg_hist_cate_id'] = np.array([[1, 2, 2, 0], [1, 2, 2, 0], [1, 2, 0, 0]])\n",
    "    feature_columns += [\n",
    "        VarLenSparseFeat(SparseFeat('neg_hist_item_id', vocabulary_size=3 + 1, embedding_dim=8, embedding_name='item_id'),\n",
    "                         maxlen=4, length_name=\"seq_length\"),\n",
    "        VarLenSparseFeat(SparseFeat('neg_hist_cate_id', 2 + 1, embedding_dim=4, embedding_name='cate_id'),\n",
    "                         maxlen=4, length_name=\"seq_length\")]"
   ]
  },
  {
   "cell_type": "code",
   "execution_count": 16,
   "metadata": {},
   "outputs": [
    {
     "data": {
      "text/plain": [
       "['user',\n",
       " 'gender',\n",
       " 'item_id',\n",
       " 'cate_id',\n",
       " 'pay_score',\n",
       " 'hist_item_id',\n",
       " 'seq_length',\n",
       " 'hist_cate_id',\n",
       " 'neg_hist_item_id',\n",
       " 'neg_hist_cate_id']"
      ]
     },
     "execution_count": 16,
     "metadata": {},
     "output_type": "execute_result"
    }
   ],
   "source": [
    "get_feature_names(feature_columns)"
   ]
  },
  {
   "cell_type": "code",
   "execution_count": 17,
   "metadata": {},
   "outputs": [
    {
     "ename": "KeyError",
     "evalue": "'seq_length'",
     "output_type": "error",
     "traceback": [
      "\u001b[0;31m---------------------------------------------------------------------------\u001b[0m",
      "\u001b[0;31mKeyError\u001b[0m                                  Traceback (most recent call last)",
      "\u001b[0;32m<ipython-input-17-c13b14e2e82f>\u001b[0m in \u001b[0;36m<module>\u001b[0;34m()\u001b[0m\n\u001b[0;32m----> 1\u001b[0;31m \u001b[0mx\u001b[0m \u001b[0;34m=\u001b[0m \u001b[0;34m{\u001b[0m\u001b[0mname\u001b[0m\u001b[0;34m:\u001b[0m\u001b[0mfeature_dict\u001b[0m\u001b[0;34m[\u001b[0m\u001b[0mname\u001b[0m\u001b[0;34m]\u001b[0m \u001b[0;32mfor\u001b[0m \u001b[0mname\u001b[0m \u001b[0;32min\u001b[0m \u001b[0mget_feature_names\u001b[0m\u001b[0;34m(\u001b[0m\u001b[0mfeature_columns\u001b[0m\u001b[0;34m)\u001b[0m\u001b[0;34m}\u001b[0m\u001b[0;34m\u001b[0m\u001b[0m\n\u001b[0m\u001b[1;32m      2\u001b[0m \u001b[0my\u001b[0m \u001b[0;34m=\u001b[0m \u001b[0mnp\u001b[0m\u001b[0;34m.\u001b[0m\u001b[0marray\u001b[0m\u001b[0;34m(\u001b[0m\u001b[0;34m[\u001b[0m\u001b[0;36m1\u001b[0m\u001b[0;34m,\u001b[0m \u001b[0;36m0\u001b[0m\u001b[0;34m,\u001b[0m \u001b[0;36m1\u001b[0m\u001b[0;34m]\u001b[0m\u001b[0;34m)\u001b[0m\u001b[0;34m\u001b[0m\u001b[0m\n",
      "\u001b[0;32m<ipython-input-17-c13b14e2e82f>\u001b[0m in \u001b[0;36m<dictcomp>\u001b[0;34m(.0)\u001b[0m\n\u001b[0;32m----> 1\u001b[0;31m \u001b[0mx\u001b[0m \u001b[0;34m=\u001b[0m \u001b[0;34m{\u001b[0m\u001b[0mname\u001b[0m\u001b[0;34m:\u001b[0m\u001b[0mfeature_dict\u001b[0m\u001b[0;34m[\u001b[0m\u001b[0mname\u001b[0m\u001b[0;34m]\u001b[0m \u001b[0;32mfor\u001b[0m \u001b[0mname\u001b[0m \u001b[0;32min\u001b[0m \u001b[0mget_feature_names\u001b[0m\u001b[0;34m(\u001b[0m\u001b[0mfeature_columns\u001b[0m\u001b[0;34m)\u001b[0m\u001b[0;34m}\u001b[0m\u001b[0;34m\u001b[0m\u001b[0m\n\u001b[0m\u001b[1;32m      2\u001b[0m \u001b[0my\u001b[0m \u001b[0;34m=\u001b[0m \u001b[0mnp\u001b[0m\u001b[0;34m.\u001b[0m\u001b[0marray\u001b[0m\u001b[0;34m(\u001b[0m\u001b[0;34m[\u001b[0m\u001b[0;36m1\u001b[0m\u001b[0;34m,\u001b[0m \u001b[0;36m0\u001b[0m\u001b[0;34m,\u001b[0m \u001b[0;36m1\u001b[0m\u001b[0;34m]\u001b[0m\u001b[0;34m)\u001b[0m\u001b[0;34m\u001b[0m\u001b[0m\n",
      "\u001b[0;31mKeyError\u001b[0m: 'seq_length'"
     ]
    }
   ],
   "source": [
    "x = {name:feature_dict[name] for name in get_feature_names(feature_columns)}\n",
    "y = np.array([1, 0, 1])"
   ]
  },
  {
   "cell_type": "code",
   "execution_count": 18,
   "metadata": {},
   "outputs": [
    {
     "ename": "NameError",
     "evalue": "name 'x' is not defined",
     "output_type": "error",
     "traceback": [
      "\u001b[0;31m---------------------------------------------------------------------------\u001b[0m",
      "\u001b[0;31mNameError\u001b[0m                                 Traceback (most recent call last)",
      "\u001b[0;32m<ipython-input-18-401b30e3b8b5>\u001b[0m in \u001b[0;36m<module>\u001b[0;34m()\u001b[0m\n\u001b[0;32m----> 1\u001b[0;31m \u001b[0mx\u001b[0m\u001b[0;34m\u001b[0m\u001b[0m\n\u001b[0m",
      "\u001b[0;31mNameError\u001b[0m: name 'x' is not defined"
     ]
    }
   ],
   "source": [
    "x"
   ]
  },
  {
   "cell_type": "code",
   "execution_count": 21,
   "metadata": {},
   "outputs": [],
   "source": [
    "def get_xy_fd(use_neg=False):\n",
    "    # 对基础特征进行 embedding\n",
    "    feature_columns = [SparseFeat('user',vocabulary_size=3,embedding_dim=10),\n",
    "                        SparseFeat('gender', vocabulary_size=2,embedding_dim=4), \n",
    "                        SparseFeat('item_id', vocabulary_size=3,embedding_dim=8), \n",
    "                        SparseFeat('cate_id', vocabulary_size=2,embedding_dim=4),\n",
    "                        DenseFeat('pay_score', 1)]\n",
    "    \n",
    "    # 指定历史行为序列对应的特征\n",
    "    behavior_feature_list = [\"item_id\", \"cate_id\"]\n",
    "    \n",
    "    # 构造 ['item_id', 'cate_id'] 这两个属性历史序列数据的数据结构: hist_item_id, hist_cate_id\n",
    "    # 由于历史行为是不定长数据序列，需要用 VarLenSparseFeat 封装起来，并指定序列的最大长度为 4 \n",
    "    # 注意,对于长度不足4的部分会用0来填充,因此 vocabulary_size 应该在原来的基础上 + 1\n",
    "    # 详细内容参考：https://deepctr-doc.readthedocs.io/en/latest/Examples.html#multi-value-input-movielens\n",
    "    feature_columns += [\n",
    "        VarLenSparseFeat(SparseFeat('hist_item_id', vocabulary_size=3 + 1, embedding_dim=8, embedding_name='item_id'),\n",
    "                         maxlen=4, length_name=None),\n",
    "        VarLenSparseFeat(SparseFeat('hist_cate_id', 2 + 1, embedding_dim=4, embedding_name='cate_id'), maxlen=4,\n",
    "                         length_name=None)]\n",
    "\n",
    "    # 基础特征数据\n",
    "    uid = np.array([0, 1, 2])\n",
    "    ugender = np.array([0, 1, 0])\n",
    "    iid = np.array([1, 2, 3])\n",
    "    cate_id = np.array([1, 2, 2]) \n",
    "    score = np.array([0.1, 0.2, 0.3])\n",
    "\n",
    "    # 构造历史行为序列数据\n",
    "    # 构造长度为 4 的 item_id 序列,不足的部分用0填充\n",
    "    hist_iid = np.array([[1, 2, 3, 0], [3, 2, 1, 0], [1, 2, 0, 0]])\n",
    "    # 构造长度为 4 的 cate_id 序列,不足的部分用0填充\n",
    "    hist_cate_id = np.array([[1, 2, 2, 0], [2, 2, 1, 0], [1, 2, 0, 0]])\n",
    "    # 行为序列长度\n",
    "#     behavior_length = np.array([3, 3, 2])\n",
    "    \n",
    "    \n",
    "    # 构造实际的输入数据\n",
    "    feature_dict = {'user': uid, 'gender': ugender, 'item_id': iid, 'cate_id': cate_id,\n",
    "                    'hist_item_id': hist_iid, 'hist_cate_id': hist_cate_id,\n",
    "                    'pay_score': score}\n",
    "    \n",
    "    # 使用负采样\n",
    "    if use_neg:\n",
    "        feature_dict['neg_hist_item_id'] = np.array([[1, 2, 3, 0], [1, 2, 3, 0], [1, 2, 0, 0]])\n",
    "        feature_dict['neg_hist_cate_id'] = np.array([[1, 2, 2, 0], [1, 2, 2, 0], [1, 2, 0, 0]])\n",
    "        feature_columns += [\n",
    "            VarLenSparseFeat(SparseFeat('neg_hist_item_id', vocabulary_size=3 + 1, embedding_dim=8, embedding_name='item_id'),\n",
    "                             maxlen=4, length_name=None),\n",
    "            VarLenSparseFeat(SparseFeat('neg_hist_cate_id', 2 + 1, embedding_dim=4, embedding_name='cate_id'),\n",
    "                             maxlen=4, length_name=None)]\n",
    "\n",
    "    x = {name:feature_dict[name] for name in get_feature_names(feature_columns)}\n",
    "    y = np.array([1, 0, 1])\n",
    "    return x, y, feature_columns, behavior_feature_list  "
   ]
  },
  {
   "cell_type": "code",
   "execution_count": 22,
   "metadata": {},
   "outputs": [
    {
     "name": "stdout",
     "output_type": "stream",
     "text": [
      "\n",
      "Training......\n",
      "cpu\n",
      "Train on 3 samples, validate on 0 samples, 1 steps per epoch\n",
      "Epoch 1/10\n",
      "0s - loss:  0.6984 - binary_crossentropy:  0.6984 - auc:  0.5000\n",
      "Epoch 2/10\n",
      "0s - loss:  0.6661 - binary_crossentropy:  0.6661 - auc:  1.0000\n",
      "Epoch 3/10\n",
      "0s - loss:  0.6409 - binary_crossentropy:  0.6409 - auc:  1.0000\n",
      "Epoch 4/10\n",
      "0s - loss:  0.6049 - binary_crossentropy:  0.6049 - auc:  1.0000\n",
      "Epoch 5/10\n",
      "0s - loss:  0.5478 - binary_crossentropy:  0.5478 - auc:  1.0000\n",
      "Epoch 6/10\n",
      "0s - loss:  0.4616 - binary_crossentropy:  0.4616 - auc:  1.0000\n",
      "Epoch 7/10\n",
      "0s - loss:  0.3638 - binary_crossentropy:  0.3638 - auc:  1.0000\n",
      "Epoch 8/10\n",
      "0s - loss:  0.2887 - binary_crossentropy:  0.2887 - auc:  1.0000\n",
      "Epoch 9/10\n",
      "0s - loss:  0.2566 - binary_crossentropy:  0.2566 - auc:  1.0000\n",
      "Epoch 10/10\n",
      "0s - loss:  0.2420 - binary_crossentropy:  0.2420 - auc:  1.0000\n",
      "Please check the latest version manually on https://pypi.org/project/deepctr-torch/#history\n"
     ]
    }
   ],
   "source": [
    "x, y, feature_columns, behavior_feature_list = get_xy_fd()\n",
    "device = 'cpu'\n",
    "use_cuda = False\n",
    "\n",
    "if use_cuda and torch.cuda.is_available():\n",
    "    print('cuda ready...')\n",
    "    device = 'cuda:0'\n",
    "\n",
    "print(\"\\nTraining......\")\n",
    "model = DIN(feature_columns, behavior_feature_list)\n",
    "model.compile('adagrad', 'binary_crossentropy',\n",
    "              metrics=['binary_crossentropy', \"auc\"])\n",
    "\n",
    "history = model.fit(x, y, batch_size=3, epochs=10, verbose=2, validation_split=0.0)"
   ]
  },
  {
   "cell_type": "code",
   "execution_count": null,
   "metadata": {},
   "outputs": [],
   "source": []
  }
 ],
 "metadata": {
  "kernelspec": {
   "display_name": "Python 3",
   "language": "python",
   "name": "python3"
  },
  "language_info": {
   "codemirror_mode": {
    "name": "ipython",
    "version": 3
   },
   "file_extension": ".py",
   "mimetype": "text/x-python",
   "name": "python",
   "nbconvert_exporter": "python",
   "pygments_lexer": "ipython3",
   "version": "3.8.5"
  }
 },
 "nbformat": 4,
 "nbformat_minor": 4
}
