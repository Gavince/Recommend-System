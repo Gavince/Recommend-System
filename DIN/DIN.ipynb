{
 "cells": [
  {
   "cell_type": "markdown",
   "metadata": {},
   "source": [
    "# DIN"
   ]
  },
  {
   "cell_type": "code",
   "execution_count": 1,
   "metadata": {},
   "outputs": [],
   "source": [
    "import sys\n",
    "sys.path.insert(0, '..')\n",
    "import numpy as np\n",
    "import torch\n",
    "from torch import nn\n",
    "from deepctr_torch.inputs import (DenseFeat, SparseFeat, VarLenSparseFeat,\n",
    "                                  get_feature_names)\n",
    "\n",
    "from deepctr_torch.models.din import DIN\n",
    "import pandas as pd\n",
    "import matplotlib.pyplot as plt\n",
    "import numpy as np\n",
    "from matplotlib import rcParams\n",
    "config = {\n",
    "    \"font.family\":'Times New Roman',  # 设置字体类型\n",
    "}\n",
    "rcParams.update(config)"
   ]
  },
  {
   "cell_type": "markdown",
   "metadata": {},
   "source": [
    "## 算法实例"
   ]
  },
  {
   "cell_type": "code",
   "execution_count": 2,
   "metadata": {},
   "outputs": [],
   "source": [
    "import sys\n",
    "\n",
    "sys.path.insert(0, '..')\n",
    "\n",
    "import numpy as np\n",
    "import torch\n",
    "from deepctr_torch.inputs import (DenseFeat, SparseFeat, VarLenSparseFeat,\n",
    "                                  get_feature_names)\n",
    "\n",
    "from deepctr_torch.models.din import DIN"
   ]
  },
  {
   "cell_type": "markdown",
   "metadata": {},
   "source": [
    "### 数据格式准备"
   ]
  },
  {
   "cell_type": "code",
   "execution_count": 3,
   "metadata": {},
   "outputs": [],
   "source": [
    "feature_columns = [SparseFeat('user', 3, embedding_dim=8), SparseFeat('gender', 2, embedding_dim=8),\n",
    "                   SparseFeat('item', 3 + 1, embedding_dim=8), SparseFeat('item_gender', 2 + 1, embedding_dim=8),\n",
    "                   DenseFeat('score', 1)]\n",
    "\n",
    "feature_columns += [VarLenSparseFeat(SparseFeat('hist_item', 3 + 1, embedding_dim=8), 4, length_name=\"seq_length\"),\n",
    "                    VarLenSparseFeat(SparseFeat('hist_item_gender', 2 + 1, embedding_dim=8), 4, length_name=\"seq_length\")]\n",
    "\n",
    "behavior_feature_list = [\"item\", \"item_gender\"]"
   ]
  },
  {
   "cell_type": "code",
   "execution_count": 4,
   "metadata": {},
   "outputs": [
    {
     "data": {
      "text/plain": [
       "[SparseFeat(name='user', vocabulary_size=3, embedding_dim=8, use_hash=False, dtype='int32', embedding_name='user', group_name='default_group'),\n",
       " SparseFeat(name='gender', vocabulary_size=2, embedding_dim=8, use_hash=False, dtype='int32', embedding_name='gender', group_name='default_group'),\n",
       " SparseFeat(name='item', vocabulary_size=4, embedding_dim=8, use_hash=False, dtype='int32', embedding_name='item', group_name='default_group'),\n",
       " SparseFeat(name='item_gender', vocabulary_size=3, embedding_dim=8, use_hash=False, dtype='int32', embedding_name='item_gender', group_name='default_group'),\n",
       " DenseFeat(name='score', dimension=1, dtype='float32'),\n",
       " VarLenSparseFeat(sparsefeat=SparseFeat(name='hist_item', vocabulary_size=4, embedding_dim=8, use_hash=False, dtype='int32', embedding_name='hist_item', group_name='default_group'), maxlen=4, combiner='mean', length_name='seq_length'),\n",
       " VarLenSparseFeat(sparsefeat=SparseFeat(name='hist_item_gender', vocabulary_size=3, embedding_dim=8, use_hash=False, dtype='int32', embedding_name='hist_item_gender', group_name='default_group'), maxlen=4, combiner='mean', length_name='seq_length')]"
      ]
     },
     "execution_count": 4,
     "metadata": {},
     "output_type": "execute_result"
    }
   ],
   "source": [
    "feature_columns"
   ]
  },
  {
   "cell_type": "code",
   "execution_count": 5,
   "metadata": {},
   "outputs": [],
   "source": [
    "# 数据类型为ndarry类型\n",
    "uid = np.array([0, 1, 2])\n",
    "ugender = np.array([0, 1, 0])\n",
    "iid = np.array([1, 2, 3])  # 0 is mask value\n",
    "igender = np.array([1, 2, 1])  # 0 is mask value\n",
    "score = np.array([0.1, 0.2, 0.3])\n",
    "\n",
    "hist_iid = np.array([[1, 2, 3, 0], [1, 2, 3, 0], [1, 2, 0, 0]])\n",
    "hist_igender = np.array([[1, 1, 2, 0], [2, 1, 1, 0], [2, 1, 0, 0]])\n",
    "\n",
    "# 统计用户的历史行为真实长度\n",
    "behavior_length = np.array([3, 3, 2])"
   ]
  },
  {
   "cell_type": "code",
   "execution_count": 6,
   "metadata": {},
   "outputs": [],
   "source": [
    "feature_dict = {'user': uid, 'gender': ugender, 'item': iid, 'item_gender': igender,\n",
    "                'hist_item': hist_iid, 'hist_item_gender': hist_igender, 'score': score,\n",
    "                \"seq_length\": behavior_length  # 用户历史行为的序列的正式长度\n",
    "               }"
   ]
  },
  {
   "cell_type": "code",
   "execution_count": 7,
   "metadata": {},
   "outputs": [
    {
     "data": {
      "text/plain": [
       "['user',\n",
       " 'gender',\n",
       " 'item',\n",
       " 'item_gender',\n",
       " 'score',\n",
       " 'hist_item',\n",
       " 'seq_length',\n",
       " 'hist_item_gender']"
      ]
     },
     "execution_count": 7,
     "metadata": {},
     "output_type": "execute_result"
    }
   ],
   "source": [
    "get_feature_names(feature_columns)"
   ]
  },
  {
   "cell_type": "code",
   "execution_count": 8,
   "metadata": {},
   "outputs": [],
   "source": [
    "x = {name: feature_dict[name] for name in get_feature_names(feature_columns)}\n",
    "y = np.array([1, 0, 1])"
   ]
  },
  {
   "cell_type": "code",
   "execution_count": 9,
   "metadata": {},
   "outputs": [
    {
     "data": {
      "text/plain": [
       "{'user': array([0, 1, 2]),\n",
       " 'gender': array([0, 1, 0]),\n",
       " 'item': array([1, 2, 3]),\n",
       " 'item_gender': array([1, 2, 1]),\n",
       " 'score': array([0.1, 0.2, 0.3]),\n",
       " 'hist_item': array([[1, 2, 3, 0],\n",
       "        [1, 2, 3, 0],\n",
       "        [1, 2, 0, 0]]),\n",
       " 'seq_length': array([3, 3, 2]),\n",
       " 'hist_item_gender': array([[1, 1, 2, 0],\n",
       "        [2, 1, 1, 0],\n",
       "        [2, 1, 0, 0]])}"
      ]
     },
     "execution_count": 9,
     "metadata": {},
     "output_type": "execute_result"
    }
   ],
   "source": [
    "x"
   ]
  },
  {
   "cell_type": "markdown",
   "metadata": {},
   "source": [
    "### 模型构建"
   ]
  },
  {
   "cell_type": "code",
   "execution_count": 10,
   "metadata": {},
   "outputs": [
    {
     "data": {
      "text/plain": [
       "DIN(\n",
       "  (embedding_dict): ModuleDict(\n",
       "    (user): Embedding(3, 8)\n",
       "    (gender): Embedding(2, 8)\n",
       "    (item): Embedding(4, 8)\n",
       "    (item_gender): Embedding(3, 8)\n",
       "    (hist_item): Embedding(4, 8)\n",
       "    (hist_item_gender): Embedding(3, 8)\n",
       "  )\n",
       "  (linear_model): Linear(\n",
       "    (embedding_dict): ModuleDict()\n",
       "  )\n",
       "  (out): PredictionLayer()\n",
       "  (attention): AttentionSequencePoolingLayer(\n",
       "    (local_att): LocalActivationUnit(\n",
       "      (dnn): DNN(\n",
       "        (dropout): Dropout(p=0, inplace=False)\n",
       "        (linears): ModuleList(\n",
       "          (0): Linear(in_features=64, out_features=64, bias=True)\n",
       "          (1): Linear(in_features=64, out_features=16, bias=True)\n",
       "        )\n",
       "        (activation_layers): ModuleList(\n",
       "          (0): Dice(\n",
       "            (bn): BatchNorm1d(64, eps=1e-08, momentum=0.1, affine=True, track_running_stats=True)\n",
       "            (sigmoid): Sigmoid()\n",
       "          )\n",
       "          (1): Dice(\n",
       "            (bn): BatchNorm1d(16, eps=1e-08, momentum=0.1, affine=True, track_running_stats=True)\n",
       "            (sigmoid): Sigmoid()\n",
       "          )\n",
       "        )\n",
       "      )\n",
       "      (dense): Linear(in_features=16, out_features=1, bias=True)\n",
       "    )\n",
       "  )\n",
       "  (dnn): DNN(\n",
       "    (dropout): Dropout(p=0, inplace=False)\n",
       "    (linears): ModuleList(\n",
       "      (0): Linear(in_features=49, out_features=256, bias=True)\n",
       "      (1): Linear(in_features=256, out_features=128, bias=True)\n",
       "    )\n",
       "    (activation_layers): ModuleList(\n",
       "      (0): ReLU(inplace=True)\n",
       "      (1): ReLU(inplace=True)\n",
       "    )\n",
       "  )\n",
       "  (dnn_linear): Linear(in_features=128, out_features=1, bias=False)\n",
       ")"
      ]
     },
     "execution_count": 10,
     "metadata": {},
     "output_type": "execute_result"
    }
   ],
   "source": [
    "device = 'cpu'\n",
    "use_cuda = False\n",
    "if use_cuda and torch.cuda.is_available():\n",
    "    print('cuda ready...')\n",
    "    device = 'cuda:0'\n",
    "\n",
    "model = DIN(feature_columns, behavior_feature_list, device=device, att_weight_normalization=True)\n",
    "model.compile('adagrad', 'binary_crossentropy',\n",
    "              metrics=['binary_crossentropy', \"auc\"])\n",
    "model"
   ]
  },
  {
   "cell_type": "markdown",
   "metadata": {},
   "source": [
    "### 模型训练与评估"
   ]
  },
  {
   "cell_type": "code",
   "execution_count": 11,
   "metadata": {},
   "outputs": [
    {
     "name": "stdout",
     "output_type": "stream",
     "text": [
      "cpu\n",
      "Train on 3 samples, validate on 0 samples, 1 steps per epoch\n",
      "Epoch 1/10\n",
      "1s - loss:  0.6928 - binary_crossentropy:  0.6928 - auc:  0.5000\n",
      "Epoch 2/10\n",
      "0s - loss:  0.6565 - binary_crossentropy:  0.6565 - auc:  0.5000\n",
      "Epoch 3/10\n",
      "0s - loss:  0.6321 - binary_crossentropy:  0.6321 - auc:  1.0000\n",
      "Epoch 4/10\n",
      "0s - loss:  0.6032 - binary_crossentropy:  0.6032 - auc:  1.0000\n",
      "Epoch 5/10\n",
      "0s - loss:  0.5566 - binary_crossentropy:  0.5566 - auc:  1.0000\n",
      "Epoch 6/10\n",
      "0s - loss:  0.4824 - binary_crossentropy:  0.4824 - auc:  1.0000\n",
      "Epoch 7/10\n",
      "0s - loss:  0.3968 - binary_crossentropy:  0.3968 - auc:  1.0000\n",
      "Epoch 8/10\n",
      "0s - loss:  0.3222 - binary_crossentropy:  0.3222 - auc:  1.0000\n",
      "Epoch 9/10\n",
      "0s - loss:  0.2756 - binary_crossentropy:  0.2756 - auc:  1.0000\n",
      "Epoch 10/10\n",
      "0s - loss:  0.2525 - binary_crossentropy:  0.2525 - auc:  1.0000\n"
     ]
    }
   ],
   "source": [
    "history = model.fit(x, y, batch_size=3, epochs=10, verbose=2, validation_split=0.0)"
   ]
  },
  {
   "cell_type": "code",
   "execution_count": 12,
   "metadata": {},
   "outputs": [
    {
     "data": {
      "image/png": "[encoded data removed]",
      "text/plain": [
       "<Figure size 576x288 with 1 Axes>"
      ]
     },
     "metadata": {
      "needs_background": "light"
     },
     "output_type": "display_data"
    }
   ],
   "source": [
    "plt.figure(figsize=(8, 4))\n",
    "plt.plot(history.history[\"loss\"])\n",
    "plt.xlabel(\"Epoch\")\n",
    "plt.ylabel(\"Loss\")\n",
    "plt.savefig(\"./imgs/loss.png\")\n",
    "plt.show()"
   ]
  },
  {
   "cell_type": "markdown",
   "metadata": {},
   "source": [
    "## DIN模型解析\n",
    "### 模型架构\n",
    "![](./imgs/DIN.png)"
   ]
  },
  {
   "cell_type": "markdown",
   "metadata": {},
   "source": [
    "## 源码分析\n",
    "### DIN网络"
   ]
  },
  {
   "cell_type": "code",
   "execution_count": 13,
   "metadata": {},
   "outputs": [],
   "source": [
    "class BaseModel:\n",
    "    pass\n",
    "\n",
    "\n",
    "class DIN(BaseModel):\n",
    "    \"\"\"Instantiates the Deep Interest Network architecture.\n",
    "\n",
    "    :param dnn_feature_columns: An iterable containing all the features used by deep part of the model.\n",
    "    :param history_feature_list: list,to indicate  sequence sparse field\n",
    "    :param dnn_use_bn: bool. Whether use BatchNormalization before activation or not in deep net\n",
    "    :param dnn_hidden_units: list,list of positive integer or empty list, the layer number and units in each layer of deep net\n",
    "    :param dnn_activation: Activation function to use in deep net\n",
    "    :param att_hidden_size: list,list of positive integer , the layer number and units in each layer of attention net\n",
    "    :param att_activation: Activation function to use in attention net\n",
    "    :param att_weight_normalization: bool. Whether normalize the attention score of local activation unit.\n",
    "    :param l2_reg_dnn: float. L2 regularizer strength applied to DNN\n",
    "    :param l2_reg_embedding: float. L2 regularizer strength applied to embedding vector\n",
    "    :param dnn_dropout: float in [0,1), the probability we will drop out a given DNN coordinate.\n",
    "    :param init_std: float,to use as the initialize std of embedding vector\n",
    "    :param seed: integer ,to use as random seed.\n",
    "    :param task: str, ``\"binary\"`` for  binary logloss or  ``\"regression\"`` for regression loss\n",
    "    :return:  A PyTorch model instance.\n",
    "\n",
    "    \"\"\"\n",
    "\n",
    "    def __init__(self, dnn_feature_columns, history_feature_list, dnn_use_bn=False,\n",
    "                 dnn_hidden_units=(256, 128), dnn_activation='relu', att_hidden_size=(64, 16),\n",
    "                 att_activation='Dice', att_weight_normalization=False, l2_reg_dnn=0.0,\n",
    "                 l2_reg_embedding=1e-6, dnn_dropout=0, init_std=0.0001,\n",
    "                 seed=1024, task='binary', device='cpu'):\n",
    "        super(DIN, self).__init__([], dnn_feature_columns, l2_reg_linear=0, l2_reg_embedding=l2_reg_embedding,\n",
    "                                  init_std=init_std, seed=seed, task=task, device=device)\n",
    "\n",
    "        self.sparse_feature_columns = list(\n",
    "            filter(lambda x: isinstance(x, SparseFeat), dnn_feature_columns)) if dnn_feature_columns else []\n",
    "        self.varlen_sparse_feature_columns = list(\n",
    "            filter(lambda x: isinstance(x, VarLenSparseFeat), dnn_feature_columns)) if dnn_feature_columns else []\n",
    "\n",
    "        # 用户历史记录特征\n",
    "        self.history_feature_list = history_feature_list\n",
    "\n",
    "        self.history_feature_columns = []\n",
    "        self.sparse_varlen_feature_columns = []\n",
    "        self.history_fc_names = list(map(lambda x: \"hist_\" + x, history_feature_list))\n",
    "\n",
    "        for fc in self.varlen_sparse_feature_columns:\n",
    "            feature_name = fc.name\n",
    "            if feature_name in self.history_fc_names:\n",
    "                self.history_feature_columns.append(fc)\n",
    "            else:\n",
    "                self.sparse_varlen_feature_columns.append(fc)\n",
    "\n",
    "        att_emb_dim = self._compute_interest_dim()\n",
    "\n",
    "        self.attention = AttentionSequencePoolingLayer(att_hidden_units=att_hidden_size,\n",
    "                                                       embedding_dim=att_emb_dim,\n",
    "                                                       att_activation=att_activation,\n",
    "                                                       return_score=False,\n",
    "                                                       supports_masking=False,\n",
    "                                                       weight_normalization=att_weight_normalization)\n",
    "\n",
    "        self.dnn = DNN(inputs_dim=self.compute_input_dim(dnn_feature_columns),\n",
    "                       hidden_units=dnn_hidden_units,\n",
    "                       activation=dnn_activation,\n",
    "                       dropout_rate=dnn_dropout,\n",
    "                       l2_reg=l2_reg_dnn,\n",
    "                       use_bn=dnn_use_bn)\n",
    "        \n",
    "        self.dnn_linear = nn.Linear(dnn_hidden_units[-1], 1, bias=False).to(device)\n",
    "        self.to(device)\n",
    "\n",
    "\n",
    "    def forward(self, X):\n",
    "        _, dense_value_list = self.input_from_feature_columns(X, self.dnn_feature_columns, self.embedding_dict)\n",
    "\n",
    "        # sequence pooling part\n",
    "        # 查找embedding_lookup找到相对应的embedding向量\n",
    "        # B * 候选物品　* E\n",
    "        query_emb_list = embedding_lookup(X, self.embedding_dict, self.feature_index, self.sparse_feature_columns,\n",
    "                                          return_feat_list=self.history_feature_list, to_list=True)\n",
    "\n",
    "        # B * 历史记录数据数目 * E\n",
    "        keys_emb_list = embedding_lookup(X, self.embedding_dict, self.feature_index, self.history_feature_columns,\n",
    "                                         return_feat_list=self.history_fc_names, to_list=True)\n",
    "\n",
    "        dnn_input_emb_list = embedding_lookup(X, self.embedding_dict, self.feature_index, self.sparse_feature_columns,\n",
    "                                              to_list=True)\n",
    "\n",
    "        # 稀疏向量\n",
    "        sequence_embed_dict = varlen_embedding_lookup(X, self.embedding_dict, self.feature_index,\n",
    "                                                      self.sparse_varlen_feature_columns)\n",
    "\n",
    "\n",
    "        sequence_embed_list = get_varlen_pooling_list(sequence_embed_dict, X, self.feature_index,\n",
    "                                                      self.sparse_varlen_feature_columns, self.device)\n",
    "\n",
    "        dnn_input_emb_list += sequence_embed_list\n",
    "        # dnn的输入\n",
    "        deep_input_emb = torch.cat(dnn_input_emb_list, dim=-1)\n",
    "\n",
    "        # concatenate, 不同特征合并到一起\n",
    "        query_emb = torch.cat(query_emb_list, dim=-1)                     # [B, 1, E]\n",
    "        keys_emb = torch.cat(keys_emb_list, dim=-1)                       # [B, T, E]\n",
    "\n",
    "        # 历史记录长度的名称\n",
    "        keys_length_feature_name = [feat.length_name for feat in self.varlen_sparse_feature_columns if\n",
    "                                    feat.length_name is not None]\n",
    "\n",
    "        # 历史数据的真实长度,用bool值表示\n",
    "        # self.feature_index : OrderedDict([('user', (0, 1)), ('gender', (1, 2)), ('item', (2, 3)), ('item_gender', (3, 4)), ('score', (4, 5))\n",
    "        # , ('hist_item', (5, 9)), ('seq_length', (9, 10)), ('hist_item_gender', (10, 14))])\n",
    "        keys_length = torch.squeeze(maxlen_lookup(X, self.feature_index, keys_length_feature_name), 1)  # [B, 1]\n",
    "\n",
    "        hist = self.attention(query_emb, keys_emb, keys_length)           # [B, 1, E]\n",
    "\n",
    "        # deep part\n",
    "        deep_input_emb = torch.cat((deep_input_emb, hist), dim=-1)\n",
    "        deep_input_emb = deep_input_emb.view(deep_input_emb.size(0), -1)\n",
    "\n",
    "        dnn_input = combined_dnn_input([deep_input_emb], dense_value_list)\n",
    "        dnn_output = self.dnn(dnn_input)\n",
    "        dnn_logit = self.dnn_linear(dnn_output)\n",
    "\n",
    "        y_pred = self.out(dnn_logit)\n",
    "\n",
    "        return y_pred\n",
    "\n",
    "    def _compute_interest_dim(self):\n",
    "        interest_dim = 0\n",
    "        for feat in self.sparse_feature_columns:\n",
    "            if feat.name in self.history_feature_list:\n",
    "                interest_dim += feat.embedding_dim\n",
    "        return interest_dim"
   ]
  },
  {
   "cell_type": "markdown",
   "metadata": {},
   "source": [
    "### Attention Sequence PoolingLayer\n",
    "目的：完成加权的SUM Pooling操作  \n",
    "![](./imgs/SUM.png)"
   ]
  },
  {
   "cell_type": "code",
   "execution_count": 14,
   "metadata": {},
   "outputs": [],
   "source": [
    "class AttentionSequencePoolingLayer(nn.Module):\n",
    "    \"\"\"The Attentional sequence pooling operation used in DIN & DIEN.\n",
    "\n",
    "        Arguments\n",
    "          - **att_hidden_units**:list of positive integer, the attention net layer number and units in each layer.\n",
    "\n",
    "          - **att_activation**: Activation function to use in attention net.\n",
    "\n",
    "          - **weight_normalization**: bool.Whether normalize the attention score of local activation unit.\n",
    "\n",
    "          - **supports_masking**:If True,the input need to support masking.\n",
    "\n",
    "        References\n",
    "          - [Zhou G, Zhu X, Song C, et al. Deep interest network for click-through rate prediction[C]//Proceedings of the 24th ACM SIGKDD International Conference on Knowledge Discovery & Data Mining. ACM, 2018: 1059-1068.](https://arxiv.org/pdf/1706.06978.pdf)\n",
    "      \"\"\"\n",
    "\n",
    "    def __init__(self, att_hidden_units=(80, 40), att_activation='sigmoid', weight_normalization=False,\n",
    "                 return_score=False, supports_masking=False, embedding_dim=4, **kwargs):\n",
    "        \n",
    "        super(AttentionSequencePoolingLayer, self).__init__()\n",
    "        self.return_score = return_score\n",
    "        self.weight_normalization = weight_normalization\n",
    "        self.supports_masking = supports_masking\n",
    "        self.local_att = LocalActivationUnit(hidden_units=att_hidden_units, embedding_dim=embedding_dim,\n",
    "                                             activation=att_activation,\n",
    "                                             dropout_rate=0, use_bn=False)\n",
    "\n",
    "    def forward(self, query, keys, keys_length, mask=None):\n",
    "        \"\"\"\n",
    "        Input shape\n",
    "          - A list of three tensor: [query,keys,keys_length]\n",
    "\n",
    "          - query is a 3D tensor with shape:  ``(batch_size, 1, embedding_size)``\n",
    "\n",
    "          - keys is a 3D tensor with shape:   ``(batch_size, T, embedding_size)``\n",
    "\n",
    "          - keys_length is a 2D tensor with shape: ``(batch_size, 1)``\n",
    "\n",
    "        Output shape\n",
    "          - 3D tensor with shape: ``(batch_size, 1, embedding_size)``.\n",
    "        \"\"\"\n",
    "        # max_length 为序列长度(也即填补完后的序列长度)\n",
    "        batch_size, max_length, dim = keys.size()\n",
    "\n",
    "        # Mask\n",
    "        if self.supports_masking:\n",
    "            if mask is None:\n",
    "                raise ValueError(\"When supports_masking=True,input must support masking\")\n",
    "            keys_masks = mask.unsqueeze(1)\n",
    "        else:\n",
    "            keys_masks = torch.arange(max_length, device=keys_length.device, dtype=keys_length.dtype).repeat(batch_size,\n",
    "                                                                                                            1)  # [B, T]\n",
    "            # 设置有效的序列\n",
    "            keys_masks = keys_masks < keys_length.view(-1, 1)  # 0, 1 mask\n",
    "            keys_masks = keys_masks.unsqueeze(1)  # [B, 1, T]\n",
    "        \n",
    "        # 计算注意力分数\n",
    "        attention_score = self.local_att(query, keys)  # [B, T, 1]\n",
    "        \n",
    "        # outouts 为每一个query和相对应的key所计算结果值(T历史序列长度)\n",
    "        outputs = torch.transpose(attention_score, 1, 2)  # [B, 1, T]\n",
    "\n",
    "        if self.weight_normalization:\n",
    "            paddings = torch.ones_like(outputs) * (-2 ** 32 + 1)\n",
    "        else:\n",
    "            paddings = torch.zeros_like(outputs)\n",
    "\n",
    "        outputs = torch.where(keys_masks, outputs, paddings)  # [B, 1, T]\n",
    "\n",
    "        # Scale\n",
    "        # outputs = outputs / (keys.shape[-1] ** 0.05)\n",
    "        \n",
    "        # 保留了用户兴趣的强度\n",
    "        if self.weight_normalization:\n",
    "            outputs = F.softmax(outputs, dim=-1)  # [B, 1, T]\n",
    "\n",
    "        if not self.return_score:\n",
    "            # Weighted sum\n",
    "            outputs = torch.matmul(outputs, keys)  # [B, 1, E]\n",
    "\n",
    "        return outputs"
   ]
  },
  {
   "cell_type": "markdown",
   "metadata": {},
   "source": [
    "### LocalActivationUnit\n",
    "目的：使用query去查询每一个key得到相对应的注意力权重。"
   ]
  },
  {
   "cell_type": "markdown",
   "metadata": {},
   "source": [
    "![](./imgs/la.png)"
   ]
  },
  {
   "cell_type": "code",
   "execution_count": 15,
   "metadata": {},
   "outputs": [],
   "source": [
    "class LocalActivationUnit(nn.Module):\n",
    "    \"\"\"The LocalActivationUnit used in DIN with which the representation of\n",
    "        user interests varies adaptively given different candidate items.\n",
    "\n",
    "    Input shape\n",
    "        - A list of two 3D tensor with shape:  ``(batch_size, 1, embedding_size)`` and ``(batch_size, T, embedding_size)``\n",
    "\n",
    "    Output shape\n",
    "        - 3D tensor with shape: ``(batch_size, T, 1)``.\n",
    "\n",
    "    Arguments\n",
    "        - **hidden_units**:list of positive integer, the attention net layer number and units in each layer.\n",
    "\n",
    "        - **activation**: Activation function to use in attention net.\n",
    "\n",
    "        - **l2_reg**: float between 0 and 1. L2 regularizer strength applied to the kernel weights matrix of attention net.\n",
    "\n",
    "        - **dropout_rate**: float in [0,1). Fraction of the units to dropout in attention net.\n",
    "\n",
    "        - **use_bn**: bool. Whether use BatchNormalization before activation or not in attention net.\n",
    "\n",
    "        - **seed**: A Python integer to use as random seed.\n",
    "\n",
    "    References\n",
    "        - [Zhou G, Zhu X, Song C, et al. Deep interest network for click-through rate prediction[C]//Proceedings of the 24th ACM SIGKDD International Conference on Knowledge Discovery & Data Mining. ACM, 2018: 1059-1068.](https://arxiv.org/pdf/1706.06978.pdf)\n",
    "    \"\"\"\n",
    "\n",
    "    def __init__(self, hidden_units=(64, 32), embedding_dim=4, activation='sigmoid', dropout_rate=0, dice_dim=3,\n",
    "                 l2_reg=0, use_bn=False):\n",
    "        super(LocalActivationUnit, self).__init__()\n",
    "\n",
    "        self.dnn = DNN(inputs_dim=4 * embedding_dim,\n",
    "                       hidden_units=hidden_units,\n",
    "                       activation=activation,\n",
    "                       l2_reg=l2_reg,\n",
    "                       dropout_rate=dropout_rate,\n",
    "                       dice_dim=dice_dim,\n",
    "                       use_bn=use_bn)\n",
    "\n",
    "        self.dense = nn.Linear(hidden_units[-1], 1)\n",
    "\n",
    "    def forward(self, query, user_behavior):\n",
    "        # query ad            : size -> batch_size * 1 * embedding_size\n",
    "        # user behavior       : size -> batch_size * time_seq_len * embedding_size\n",
    "\n",
    "        # 使用query值去查询每一个key值\n",
    "        user_behavior_len = user_behavior.size(1)\n",
    "        \n",
    "        # B*user_behavior*embeddind_size\n",
    "        queries = query.expand(-1, user_behavior_len, -1)\n",
    "\n",
    "        attention_input = torch.cat([queries, user_behavior, queries - user_behavior, queries * user_behavior],\n",
    "                                    dim=-1)  # as the source code, subtraction simulates verctors' difference\n",
    "        attention_output = self.dnn(attention_input)\n",
    "\n",
    "        attention_score = self.dense(attention_output)  # [B, T, 1]\n",
    "\n",
    "        return attention_score"
   ]
  },
  {
   "cell_type": "markdown",
   "metadata": {},
   "source": [
    "### DNN"
   ]
  },
  {
   "cell_type": "code",
   "execution_count": 16,
   "metadata": {},
   "outputs": [],
   "source": [
    "class DNN(nn.Module):\n",
    "    \"\"\"The Multi Layer Percetron\n",
    "\n",
    "      Input shape\n",
    "        - nD tensor with shape: ``(batch_size, ..., input_dim)``. The most common situation would be a 2D input with shape ``(batch_size, input_dim)``.\n",
    "\n",
    "      Output shape\n",
    "        - nD tensor with shape: ``(batch_size, ..., hidden_size[-1])``. For instance, for a 2D input with shape ``(batch_size, input_dim)``, the output would have shape ``(batch_size, hidden_size[-1])``.\n",
    "\n",
    "      Arguments\n",
    "        - **inputs_dim**: input feature dimension.\n",
    "\n",
    "        - **hidden_units**:list of positive integer, the layer number and units in each layer.\n",
    "\n",
    "        - **activation**: Activation function to use.\n",
    "\n",
    "        - **l2_reg**: float between 0 and 1. L2 regularizer strength applied to the kernel weights matrix.\n",
    "\n",
    "        - **dropout_rate**: float in [0,1). Fraction of the units to dropout.\n",
    "\n",
    "        - **use_bn**: bool. Whether use BatchNormalization before activation or not.\n",
    "\n",
    "        - **seed**: A Python integer to use as random seed.\n",
    "    \"\"\"\n",
    "\n",
    "    def __init__(self, inputs_dim, hidden_units, activation='relu', l2_reg=0, dropout_rate=0, use_bn=False,\n",
    "                 init_std=0.0001, dice_dim=3, seed=1024, device='cpu'):\n",
    "        \n",
    "        super(DNN, self).__init__()\n",
    "        self.dropout_rate = dropout_rate\n",
    "        self.dropout = nn.Dropout(dropout_rate)\n",
    "        self.seed = seed\n",
    "        self.l2_reg = l2_reg\n",
    "        self.use_bn = use_bn\n",
    "        if len(hidden_units) == 0:\n",
    "            raise ValueError(\"hidden_units is empty!!\")\n",
    "        hidden_units = [inputs_dim] + list(hidden_units)\n",
    "\n",
    "        self.linears = nn.ModuleList(\n",
    "            [nn.Linear(hidden_units[i], hidden_units[i + 1]) for i in range(len(hidden_units) - 1)])\n",
    "\n",
    "        if self.use_bn:\n",
    "            self.bn = nn.ModuleList(\n",
    "                [nn.BatchNorm1d(hidden_units[i + 1]) for i in range(len(hidden_units) - 1)])\n",
    "\n",
    "        self.activation_layers = nn.ModuleList(\n",
    "            [activation_layer(activation, hidden_units[i + 1], dice_dim) for i in range(len(hidden_units) - 1)])\n",
    "\n",
    "        for name, tensor in self.linears.named_parameters():\n",
    "            if 'weight' in name:\n",
    "                nn.init.normal_(tensor, mean=0, std=init_std)\n",
    "\n",
    "        self.to(device)\n",
    "\n",
    "    def forward(self, inputs):\n",
    "        deep_input = inputs\n",
    "\n",
    "        for i in range(len(self.linears)):\n",
    "\n",
    "            fc = self.linears[i](deep_input)\n",
    "\n",
    "            if self.use_bn:\n",
    "                fc = self.bn[i](fc)\n",
    "\n",
    "            fc = self.activation_layers[i](fc)\n",
    "\n",
    "            fc = self.dropout(fc)\n",
    "            deep_input = fc\n",
    "            \n",
    "        return deep_input\n"
   ]
  },
  {
   "cell_type": "markdown",
   "metadata": {},
   "source": [
    "### Dice激活函数\n",
    "**控制函数:**  \n",
    "![](./imgs/激活.png)  \n",
    "**激活函数:**  \n",
    "![](./imgs/dice.png)  \n",
    "**解释:** 其中，E[s]和Var[s]是每个mini-batch输入的均值和方差。ϵ是一个非常小的常数10-8，其值设置为。Dice主要思想是根据输入数据的分布，自适应地调整校正点，使其值为输入的均值。当E[s]和Var[s]均为0时，Dice和PReLU是等价的。  "
   ]
  },
  {
   "cell_type": "code",
   "execution_count": 17,
   "metadata": {},
   "outputs": [],
   "source": [
    "class Dice(nn.Module):\n",
    "    \"\"\"The Data Adaptive Activation Function in DIN,which can be viewed as a generalization of PReLu and can adaptively adjust the rectified point according to distribution of input data.\n",
    "\n",
    "    Input shape:\n",
    "        - 2 dims: [batch_size, embedding_size(features)]\n",
    "        - 3 dims: [batch_size, num_features, embedding_size(features)]\n",
    "\n",
    "    Output shape:\n",
    "        - Same shape as input.\n",
    "    \n",
    "    References\n",
    "        - [Zhou G, Zhu X, Song C, et al. Deep interest network for click-through rate prediction[C]//Proceedings of the 24th ACM SIGKDD International Conference on Knowledge Discovery & Data Mining. ACM, 2018: 1059-1068.](https://arxiv.org/pdf/1706.06978.pdf)\n",
    "        - https://github.com/zhougr1993/DeepInterestNetwork, https://github.com/fanoping/DIN-pytorch\n",
    "    \"\"\"\n",
    "    \n",
    "    def __init__(self, emb_size, dim=2, epsilon=1e-8, device='cpu'):\n",
    "        super(Dice, self).__init__()\n",
    "        assert dim == 2 or dim == 3\n",
    "        \n",
    "        # 使用BN1d进行计算\n",
    "        self.bn = nn.BatchNorm1d(emb_size, eps=epsilon)\n",
    "        self.sigmoid = nn.Sigmoid()\n",
    "        self.dim = dim\n",
    "\n",
    "        if self.dim == 2:\n",
    "            self.alpha = torch.zeros((emb_size,)).to(device)\n",
    "        else:\n",
    "            self.alpha = torch.zeros((emb_size, 1)).to(device)\n",
    "\n",
    "    def forward(self, x):\n",
    "        \n",
    "        assert x.dim() == self.dim\n",
    "        if self.dim == 2:\n",
    "            x_p = self.sigmoid(self.bn(x))\n",
    "            out = self.alpha * (1 - x_p) * x + x_p * x\n",
    "        else:\n",
    "            x = torch.transpose(x, 1, 2)\n",
    "            x_p = self.sigmoid(self.bn(x))\n",
    "            out = self.alpha * (1 - x_p) * x + x_p * x\n",
    "            out = torch.transpose(out, 1, 2)\n",
    "        \n",
    "        return out"
   ]
  },
  {
   "cell_type": "code",
   "execution_count": 18,
   "metadata": {},
   "outputs": [],
   "source": [
    "# 数据处理\n",
    "dice = Dice(100)\n",
    "ipt_x = torch.randn((2, 100))"
   ]
  },
  {
   "cell_type": "code",
   "execution_count": 26,
   "metadata": {},
   "outputs": [],
   "source": [
    "# 激活函数\n",
    "out = dice(ipt_x)\n",
    "out_relu = torch.relu(ipt_x)\n",
    "LeakyReLU = torch.nn.LeakyReLU(negative_slope=0.2)\n",
    "out_prelu = LeakyReLU(ipt_x)"
   ]
  },
  {
   "cell_type": "code",
   "execution_count": 27,
   "metadata": {},
   "outputs": [
    {
     "data": {
      "image/png": "[encoded data removed]",
      "text/plain": [
       "<Figure size 1008x504 with 1 Axes>"
      ]
     },
     "metadata": {
      "needs_background": "light"
     },
     "output_type": "display_data"
    }
   ],
   "source": [
    "plt.figure(figsize=(14, 7))\n",
    "plt.plot(np.arange(1, 101), ipt_x[0].detach().numpy(), c=\"b\", label=\"X\")\n",
    "plt.plot(np.arange(1, 101), out[0].detach().numpy(), c=\"r\", label=\"Dice\")\n",
    "plt.plot(np.arange(1, 101), out_relu[0].detach().numpy(), label=\"Relu\")\n",
    "plt.plot(np.arange(1, 101), out_prelu[0].detach().numpy(), label=\"LeakyRelu\")\n",
    "plt.legend(fontsize=12)\n",
    "plt.savefig(\"./imgs/act.png\")\n",
    "plt.show()"
   ]
  },
  {
   "cell_type": "code",
   "execution_count": 21,
   "metadata": {},
   "outputs": [
    {
     "data": {
      "image/png": "[encoded data removed]",
      "text/plain": [
       "<Figure size 864x432 with 1 Axes>"
      ]
     },
     "metadata": {
      "needs_background": "light"
     },
     "output_type": "display_data"
    }
   ],
   "source": [
    "plt.figure(figsize=(12, 6))\n",
    "plt.hist(ipt_x[0].data.numpy(), bins=20, density=True, label=\"X\")\n",
    "plt.hist(out[0].data.numpy(), bins=20, color=\"r\",alpha=0.8, density=True, label=\"Dice\")\n",
    "plt.hist(out_relu[0].detach().numpy(), bins=20,alpha=0.8, density=True, label=\"Relu\")\n",
    "plt.hist(out_prelu[0].detach().numpy(), bins=20,alpha=0.8, density=True, label=\"LeakyRelu\")\n",
    "plt.legend(fontsize=12)\n",
    "plt.show()"
   ]
  },
  {
   "cell_type": "markdown",
   "metadata": {},
   "source": [
    "### BatchNorm1d代码剖析"
   ]
  },
  {
   "cell_type": "code",
   "execution_count": 22,
   "metadata": {},
   "outputs": [
    {
     "data": {
      "text/plain": [
       "tensor([[-1.1404,  0.1805,  0.9217, -1.3147,  0.6043],\n",
       "        [ 1.2944,  1.1245,  0.4681,  1.1087,  0.8051],\n",
       "        [-0.1540, -1.3049, -1.3897,  0.2059, -1.4095]], grad_fn=<AddBackward0>)"
      ]
     },
     "execution_count": 22,
     "metadata": {},
     "output_type": "execute_result"
    }
   ],
   "source": [
    "def fowardbn(x, gam, beta, ):\n",
    "    \"\"\"\n",
    "    实现一维批量归一化\n",
    "    \"\"\"\n",
    "    \n",
    "    momentum = 0.1\n",
    "    eps = 1e-05\n",
    "    running_mean = 0\n",
    "    running_var = 1\n",
    "    running_mean = (1 - momentum) * running_mean + momentum * x.mean(dim=0)\n",
    "    running_var = (1 - momentum) * running_var + momentum * x.var(dim=0)\n",
    "    #计算同一Batch中同属维度下的方差和均值\n",
    "    mean = x.mean(dim=0)\n",
    "    var = x.var(dim=0,unbiased=False)\n",
    "    # bnmiddle_buffer = (input - mean) / ((var + eps) ** 0.5).data\n",
    "    x_hat = (x - mean) / torch.sqrt(var + eps)\n",
    "    out = gam * x_hat + beta\n",
    "    cache = (x, gam, beta, x_hat, mean, var, eps)\n",
    "    return out, cache\n",
    "\n",
    "model2 = nn.BatchNorm1d(5)\n",
    "input1 = torch.randn(3, 5, requires_grad=True)\n",
    "input2 = input1.clone().detach().requires_grad_()\n",
    "\n",
    "x = model2(input1)\n",
    "out, cache = fowardbn(input2, model2.weight, model2.bias)\n",
    "out"
   ]
  },
  {
   "cell_type": "code",
   "execution_count": 23,
   "metadata": {},
   "outputs": [
    {
     "data": {
      "text/plain": [
       "tensor([[-1.1404,  0.1805,  0.9217, -1.3147,  0.6043],\n",
       "        [ 1.2944,  1.1245,  0.4681,  1.1087,  0.8051],\n",
       "        [-0.1540, -1.3049, -1.3897,  0.2059, -1.4095]],\n",
       "       grad_fn=<NativeBatchNormBackward>)"
      ]
     },
     "execution_count": 23,
     "metadata": {},
     "output_type": "execute_result"
    }
   ],
   "source": [
    "x"
   ]
  },
  {
   "cell_type": "code",
   "execution_count": 24,
   "metadata": {},
   "outputs": [
    {
     "data": {
      "text/plain": [
       "(tensor([[ 0.2737,  0.1168,  0.7870, -1.5751,  0.2671],\n",
       "         [ 1.0392,  0.6373,  0.4522,  2.1193,  0.5764],\n",
       "         [ 0.5839, -0.7021, -0.9193,  0.7430, -2.8346]], requires_grad=True),\n",
       " Parameter containing:\n",
       " tensor([1., 1., 1., 1., 1.], requires_grad=True),\n",
       " Parameter containing:\n",
       " tensor([0., 0., 0., 0., 0.], requires_grad=True),\n",
       " tensor([[-1.1404,  0.1805,  0.9217, -1.3147,  0.6043],\n",
       "         [ 1.2944,  1.1245,  0.4681,  1.1087,  0.8051],\n",
       "         [-0.1540, -1.3049, -1.3897,  0.2059, -1.4095]], grad_fn=<DivBackward0>),\n",
       " tensor([ 0.6323,  0.0173,  0.1066,  0.4291, -0.6637], grad_fn=<MeanBackward1>),\n",
       " tensor([0.0988, 0.3040, 0.5449, 2.3241, 2.3724], grad_fn=<VarBackward1>),\n",
       " 1e-05)"
      ]
     },
     "execution_count": 24,
     "metadata": {},
     "output_type": "execute_result"
    }
   ],
   "source": [
    "cache"
   ]
  },
  {
   "cell_type": "code",
   "execution_count": 25,
   "metadata": {},
   "outputs": [
    {
     "data": {
      "text/plain": [
       "tensor([ 0.6323,  0.0173,  0.1066,  0.4291, -0.6637], grad_fn=<MeanBackward1>)"
      ]
     },
     "execution_count": 25,
     "metadata": {},
     "output_type": "execute_result"
    }
   ],
   "source": [
    "input1.mean(axis=0)"
   ]
  },
  {
   "cell_type": "markdown",
   "metadata": {},
   "source": [
    "### MBA\n",
    "![](./imgs/mba.png)"
   ]
  },
  {
   "cell_type": "markdown",
   "metadata": {},
   "source": [
    "## 评价指标\n",
    "用户加权的AUC指标\n",
    "\n",
    "</h2><ul><li>先获取推荐系统为每一个用户预测的推荐列表，包含score值</li><li>按score值对推荐列表进行升序排列</li><li>根据ground-truth(用户点没点)来给每个正样本标记rank值</li><li>根据以下公式计算uAUC值，其中n1为正样本的个数，n0为负样本的个数，rank(i)为第i个正样本的rank值</li></ul><p><img src=\"https://www.zhihu.com/equation?tex=uAUC_%7Bj%7D%3D%5Cfrac%7B%5Csum_%7Bi%3D1%7D%5E%7Bn_%7B1%7D%7D%7Brank%28i%29%7D-%5Cfrac%7Bn_%7B1%7D%2A%28n_%7B1%7D%2B1%29%7D%7B2%7D%7D%7Bn_%7B1%7D%2An_%7B0%7D%7D\" alt=\"[公式]\" eeimg=\"1\" data-formula=\"uAUC_{j}=\\frac{\\sum_{i=1}^{n_{1}}{rank(i)}-\\frac{n_{1}*(n_{1}+1)}{2}}{n_{1}*n_{0}}\"> </p><ul><li>计算所有用户的AUC值如下：</li></ul><p><img src=\"https://www.zhihu.com/equation?tex=AUC%3D%5Cfrac%7B1%7D%7BU%7D%5Csum_%7Bj%3D1%7D%5E%7BU%7D%7BuAUC_%7Bj%7D%7D\" alt=\"[公式]\" eeimg=\"1\" data-formula=\"AUC=\\frac{1}{U}\\sum_{j=1}^{U}{uAUC_{j}}\"> </p><p>在阿里的DIN论文里，利用用户的曝光数对uAUC进行加权，可以很好地衡量线上性能：</p><p><img src=\"https://www.zhihu.com/equation?tex=AUC%3D%5Cfrac%7B%5Csum_%7Bj%3D1%7D%5E%7Bn%7D%7BImpression_%7Bj%7D%2AuAUC_%7Bj%7D%7D%7D%7B%5Csum_%7Bj%3D1%7D%5E%7Bn%7D%7BImpression_%7Bj%7D%7D%7D\" alt=\"[公式]\" eeimg=\"1\" data-formula=\"AUC=\\frac{\\sum_{j=1}^{n}{Impression_{j}*uAUC_{j}}}{\\sum_{j=1}^{n}{Impression_{j}}}\"> </p></div>"
   ]
  },
  {
   "cell_type": "markdown",
   "metadata": {},
   "source": [
    "## 知识点"
   ]
  },
  {
   "cell_type": "code",
   "execution_count": 26,
   "metadata": {},
   "outputs": [],
   "source": [
    "a = torch.rand((3, 1, 4))\n",
    "b = torch.rand((3, 1, 4))"
   ]
  },
  {
   "cell_type": "code",
   "execution_count": 27,
   "metadata": {},
   "outputs": [
    {
     "data": {
      "text/plain": [
       "tensor([[[0.9320, 0.6873, 0.9319, 0.4018]],\n",
       "\n",
       "        [[0.2505, 0.6032, 0.6358, 0.3900]],\n",
       "\n",
       "        [[0.9946, 0.4125, 0.1828, 0.6696]]])"
      ]
     },
     "execution_count": 27,
     "metadata": {},
     "output_type": "execute_result"
    }
   ],
   "source": [
    "a"
   ]
  },
  {
   "cell_type": "code",
   "execution_count": 28,
   "metadata": {},
   "outputs": [
    {
     "data": {
      "text/plain": [
       "tensor([[[0.9320, 0.6873, 0.9319, 0.4018, 0.2020, 0.7310, 0.1080, 0.7869]],\n",
       "\n",
       "        [[0.2505, 0.6032, 0.6358, 0.3900, 0.3353, 0.8414, 0.3571, 0.6685]],\n",
       "\n",
       "        [[0.9946, 0.4125, 0.1828, 0.6696, 0.0840, 0.8605, 0.4639, 0.1032]]])"
      ]
     },
     "execution_count": 28,
     "metadata": {},
     "output_type": "execute_result"
    }
   ],
   "source": [
    "li = [a, b]\n",
    "torch.cat(li, axis=-1)"
   ]
  },
  {
   "cell_type": "code",
   "execution_count": 29,
   "metadata": {},
   "outputs": [
    {
     "data": {
      "text/plain": [
       "tensor([[[0.9320, 0.6873, 0.9319, 0.4018],\n",
       "         [0.9320, 0.6873, 0.9319, 0.4018],\n",
       "         [0.9320, 0.6873, 0.9319, 0.4018],\n",
       "         [0.9320, 0.6873, 0.9319, 0.4018]],\n",
       "\n",
       "        [[0.2505, 0.6032, 0.6358, 0.3900],\n",
       "         [0.2505, 0.6032, 0.6358, 0.3900],\n",
       "         [0.2505, 0.6032, 0.6358, 0.3900],\n",
       "         [0.2505, 0.6032, 0.6358, 0.3900]],\n",
       "\n",
       "        [[0.9946, 0.4125, 0.1828, 0.6696],\n",
       "         [0.9946, 0.4125, 0.1828, 0.6696],\n",
       "         [0.9946, 0.4125, 0.1828, 0.6696],\n",
       "         [0.9946, 0.4125, 0.1828, 0.6696]]])"
      ]
     },
     "execution_count": 29,
     "metadata": {},
     "output_type": "execute_result"
    }
   ],
   "source": [
    "a.expand(-1, 4, -1)"
   ]
  },
  {
   "cell_type": "code",
   "execution_count": 30,
   "metadata": {},
   "outputs": [
    {
     "data": {
      "text/plain": [
       "tensor([[[0.9320, 0.6873, 0.9319, 0.4018]],\n",
       "\n",
       "        [[0.2505, 0.6032, 0.6358, 0.3900]],\n",
       "\n",
       "        [[0.9946, 0.4125, 0.1828, 0.6696]]])"
      ]
     },
     "execution_count": 30,
     "metadata": {},
     "output_type": "execute_result"
    }
   ],
   "source": [
    "a"
   ]
  },
  {
   "cell_type": "code",
   "execution_count": 31,
   "metadata": {},
   "outputs": [
    {
     "data": {
      "text/plain": [
       "-4294967295"
      ]
     },
     "execution_count": 31,
     "metadata": {},
     "output_type": "execute_result"
    }
   ],
   "source": [
    "-2**32 + 1"
   ]
  },
  {
   "cell_type": "code",
   "execution_count": 32,
   "metadata": {},
   "outputs": [],
   "source": [
    "a = [\"a\", \"d\"]"
   ]
  },
  {
   "cell_type": "code",
   "execution_count": 33,
   "metadata": {},
   "outputs": [
    {
     "data": {
      "text/plain": [
       "'a'"
      ]
     },
     "execution_count": 33,
     "metadata": {},
     "output_type": "execute_result"
    }
   ],
   "source": [
    "a[0]"
   ]
  },
  {
   "cell_type": "code",
   "execution_count": 34,
   "metadata": {},
   "outputs": [],
   "source": [
    "a =torch.tensor((2, 3, 3))"
   ]
  },
  {
   "cell_type": "code",
   "execution_count": 35,
   "metadata": {},
   "outputs": [
    {
     "data": {
      "text/plain": [
       "tensor([[2],\n",
       "        [3],\n",
       "        [3]])"
      ]
     },
     "execution_count": 35,
     "metadata": {},
     "output_type": "execute_result"
    }
   ],
   "source": [
    "a.view(-1, 1)"
   ]
  },
  {
   "cell_type": "markdown",
   "metadata": {},
   "source": [
    "## 参考\n",
    "[论文](https://arxiv.org/abs/1706.06978)  \n",
    "[DeepCTR-Torch](https://github.com/shenweichen/DeepCTR-Torch)  \n",
    "[Pytorch-BN层详细解读](https://blog.csdn.net/ECNU_LZJ/article/details/104203604)  \n",
    "[推荐系统之AUC评价指标](https://zhuanlan.zhihu.com/p/73335362)  \n",
    "[推荐系统遇上深度学习(十八)--探秘阿里之深度兴趣网络](https://cloud.tencent.com/developer/article/1164761)"
   ]
  }
 ],
 "metadata": {
  "kernelspec": {
   "display_name": "Python 3",
   "language": "python",
   "name": "python3"
  },
  "language_info": {
   "codemirror_mode": {
    "name": "ipython",
    "version": 3
   },
   "file_extension": ".py",
   "mimetype": "text/x-python",
   "name": "python",
   "nbconvert_exporter": "python",
   "pygments_lexer": "ipython3",
   "version": "3.8.5"
  }
 },
 "nbformat": 4,
 "nbformat_minor": 4
}
